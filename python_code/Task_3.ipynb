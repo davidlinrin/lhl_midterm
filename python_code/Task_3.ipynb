{
 "cells": [
  {
   "cell_type": "markdown",
   "metadata": {},
   "source": [
    "### Task 3: Does the weather affect the delay?\n",
    "Use the API to pull the weather information for flights. There is no need to get weather for ALL flights. We can choose the right representative sample. Let's focus on four weather types:\n",
    "\n",
    "- sunny\n",
    "- cloudy\n",
    "- rainy\n",
    "- snow. \n",
    "\n",
    "Test the hypothesis that these 4 delays are from the same distribution. If they are not, which ones are significantly different?"
   ]
  },
  {
   "cell_type": "code",
   "execution_count": 1,
   "metadata": {},
   "outputs": [],
   "source": [
    "import os\n",
    "import requests\n",
    "import json\n",
    "#### #Data management and manipulation ####\n",
    "import pandas as pd # import pandas\n",
    "import numpy as np # import numpy\n",
    "from matplotlib import pyplot\n",
    "import seaborn as sns\n",
    "import matplotlib.pyplot as plt"
   ]
  },
  {
   "cell_type": "code",
   "execution_count": 2,
   "metadata": {},
   "outputs": [],
   "source": [
    "api_key = os.environ['VISUAL_CROSSING_API_KEY']"
   ]
  },
  {
   "cell_type": "raw",
   "metadata": {},
   "source": [
    "SAMPLE URL for VISUAL CROSSINGS API (WEATHER)\n",
    "\n",
    "https://weather.visualcrossing.com/VisualCrossingWebServices/rest/services/weatherdata/history?&aggregateHours=24&startDateTime=2019-06-13T00:00:00&endDateTime=2019-06-20T00:00:00&unitGroup=uk&contentType=csv&dayStartTime=0:0:00&dayEndTime=0:0:00&location=Sterling,VA,US&key=YOURAPIKEY\n",
    "\n",
    "location – The address or latitude or longitude of the location. Addresses can be specified as full addresses. The system will also attempt to match partial addresses such as city, state, zip code, postal code and other common formats. When specify a point based on longitude, latitude, the format must be specified as latitude,longitude where both latitude and longitude are in decimal degrees. latitude should run from -90 to 90 and longitude from -180 to 180 (with 0 being at the prime meridian through London, UK)."
   ]
  },
  {
   "cell_type": "raw",
   "metadata": {},
   "source": [
    "I'll use latitude and longitude to increase my \"towns\" list from 326 to 500"
   ]
  },
  {
   "cell_type": "code",
   "execution_count": null,
   "metadata": {},
   "outputs": [],
   "source": []
  },
  {
   "cell_type": "code",
   "execution_count": null,
   "metadata": {},
   "outputs": [],
   "source": [
    "crash_filt['']\n",
    "\n",
    "for i in range(len(crash_filt)):\n",
    "    latitude=crash_filt['latitude'][i]\n",
    "    longitude=crash_filt['longitude'][i]\n",
    "    start_time=crash_filt['DATE_'][i]\n",
    "    end_time=crash_filt['DATE_'][i]+(1hour?)\n",
    "    \n",
    "    ## BUILD API URL\n",
    "    forcast_type=1\n",
    "    #start_time=2019-06-13T00:00:00\n",
    "    #end_time=2019-06-20T00:00:00\n",
    "    base_url='https://weather.visualcrossing.com/VisualCrossingWebServices/rest/services/weatherdata/history?'\n",
    "    params='&aggregateHours={}&startDateTime={}&endDateTime={}&unitGroup=metric&contentType=json&location={},{}&key={}'\\\n",
    "    .format(forcast_type,start_time,end_time,latitude,longitude,api_key)\n",
    "\n",
    "    #API call to FS with cityname and lat long building \n",
    "    results = requests.get(base_url+key_url+params).json()\n",
    "    data2=json.dumps(results)\n",
    "    data=json.loads(data2)\n",
    "    \n",
    "    for forecast in data['response']['venues']:\n",
    "        bars_dict['name'].append(venues['name'])\n",
    "        bars_dict['venue_id'].append(venues['id'])\n",
    "        bars_dict['lat'].append(venues['location']['lat'])\n",
    "        bars_dict['lon'].append(venues['location']['lng'])\n",
    "        bars_dict['distance'].append(venues['location']['distance']) \n",
    "        bars_dict['cat_name'].append(venues['categories'][0]['name'])\n",
    "        bars_dict['cat_id'].append(venues['categories'][0]['id'])\n",
    "        if 'city' not in venues['location']:\n",
    "            bars_dict['city'].append(np.nan)\n",
    "        else:\n",
    "            bars_dict['city'].append(venues['location']['city'])  "
   ]
  }
 ],
 "metadata": {
  "kernelspec": {
   "display_name": "bootcamp_env",
   "language": "python",
   "name": "bootcamp_env"
  },
  "language_info": {
   "codemirror_mode": {
    "name": "ipython",
    "version": 3
   },
   "file_extension": ".py",
   "mimetype": "text/x-python",
   "name": "python",
   "nbconvert_exporter": "python",
   "pygments_lexer": "ipython3",
   "version": "3.7.6"
  }
 },
 "nbformat": 4,
 "nbformat_minor": 4
}
