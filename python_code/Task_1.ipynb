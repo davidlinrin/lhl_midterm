{
 "cells": [
  {
   "cell_type": "markdown",
   "metadata": {},
   "source": [
    "### Import packages"
   ]
  },
  {
   "cell_type": "code",
   "execution_count": 1,
   "metadata": {},
   "outputs": [],
   "source": [
    "import pandas as pd\n",
    "import numpy as np\n",
    "import matplotlib.pyplot as plt\n",
    "\n",
    "import statsmodels.api as sm\n",
    "from sklearn.preprocessing import StandardScaler\n",
    "from sklearn.decomposition import PCA\n",
    "from sklearn.preprocessing import LabelEncoder\n",
    "from sklearn import metrics\n",
    "from sklearn import preprocessing\n",
    "from sklearn.feature_selection import VarianceThreshold\n",
    "from sklearn.feature_selection import f_regression, SelectKBest\n",
    "from sklearn.cluster import DBSCAN\n",
    "from sklearn.cluster import KMeans\n",
    "from sklearn.linear_model import LinearRegression\n",
    "import plotly.express as px\n",
    "\n",
    "import copy\n",
    "import seaborn as sns\n",
    "import os\n",
    "from scipy import stats\n",
    "import datetime\n",
    "\n",
    "%matplotlib inline"
   ]
  },
  {
   "cell_type": "markdown",
   "metadata": {},
   "source": [
    "# Data"
   ]
  },
  {
   "cell_type": "code",
   "execution_count": 2,
   "metadata": {},
   "outputs": [],
   "source": [
    "data_path = '/mnt/d/lighthouse/Midterm_data/'"
   ]
  },
  {
   "cell_type": "code",
   "execution_count": 5,
   "metadata": {},
   "outputs": [],
   "source": [
    "# 10770229 rows × 28 columns\n",
    "flights = pd.read_csv(data_path + 'flights_cleaned.csv', header = 0)\n",
    "flights.drop('Unnamed: 0', axis =1, inplace = True)"
   ]
  },
  {
   "cell_type": "code",
   "execution_count": 6,
   "metadata": {},
   "outputs": [
    {
     "data": {
      "text/html": [
       "<div>\n",
       "<style scoped>\n",
       "    .dataframe tbody tr th:only-of-type {\n",
       "        vertical-align: middle;\n",
       "    }\n",
       "\n",
       "    .dataframe tbody tr th {\n",
       "        vertical-align: top;\n",
       "    }\n",
       "\n",
       "    .dataframe thead th {\n",
       "        text-align: right;\n",
       "    }\n",
       "</style>\n",
       "<table border=\"1\" class=\"dataframe\">\n",
       "  <thead>\n",
       "    <tr style=\"text-align: right;\">\n",
       "      <th></th>\n",
       "      <th>mkt_carrier_fl_num</th>\n",
       "      <th>op_carrier_fl_num</th>\n",
       "      <th>origin_airport_id</th>\n",
       "      <th>dest_airport_id</th>\n",
       "      <th>crs_dep_time</th>\n",
       "      <th>dep_time</th>\n",
       "      <th>dep_delay</th>\n",
       "      <th>taxi_out</th>\n",
       "      <th>wheels_off</th>\n",
       "      <th>wheels_on</th>\n",
       "      <th>...</th>\n",
       "      <th>tail_num</th>\n",
       "      <th>origin</th>\n",
       "      <th>dest</th>\n",
       "      <th>bin_mkt_unique_carrier</th>\n",
       "      <th>bin_branded_code_share</th>\n",
       "      <th>bin_mkt_carrier</th>\n",
       "      <th>bin_op_unique_carrier</th>\n",
       "      <th>year</th>\n",
       "      <th>month</th>\n",
       "      <th>date</th>\n",
       "    </tr>\n",
       "  </thead>\n",
       "  <tbody>\n",
       "    <tr>\n",
       "      <th>0</th>\n",
       "      <td>2098</td>\n",
       "      <td>2098</td>\n",
       "      <td>13198</td>\n",
       "      <td>14107</td>\n",
       "      <td>1755</td>\n",
       "      <td>1753.0</td>\n",
       "      <td>-2.0</td>\n",
       "      <td>7.0</td>\n",
       "      <td>1800.0</td>\n",
       "      <td>1832.0</td>\n",
       "      <td>...</td>\n",
       "      <td>0</td>\n",
       "      <td>0</td>\n",
       "      <td>0</td>\n",
       "      <td>0</td>\n",
       "      <td>0</td>\n",
       "      <td>0</td>\n",
       "      <td>0</td>\n",
       "      <td>2019</td>\n",
       "      <td>3</td>\n",
       "      <td>25</td>\n",
       "    </tr>\n",
       "    <tr>\n",
       "      <th>1</th>\n",
       "      <td>2238</td>\n",
       "      <td>2238</td>\n",
       "      <td>13198</td>\n",
       "      <td>14107</td>\n",
       "      <td>2000</td>\n",
       "      <td>1955.0</td>\n",
       "      <td>-5.0</td>\n",
       "      <td>6.0</td>\n",
       "      <td>2001.0</td>\n",
       "      <td>2030.0</td>\n",
       "      <td>...</td>\n",
       "      <td>1</td>\n",
       "      <td>0</td>\n",
       "      <td>0</td>\n",
       "      <td>0</td>\n",
       "      <td>0</td>\n",
       "      <td>0</td>\n",
       "      <td>0</td>\n",
       "      <td>2019</td>\n",
       "      <td>3</td>\n",
       "      <td>25</td>\n",
       "    </tr>\n",
       "    <tr>\n",
       "      <th>2</th>\n",
       "      <td>2451</td>\n",
       "      <td>2451</td>\n",
       "      <td>13198</td>\n",
       "      <td>14107</td>\n",
       "      <td>540</td>\n",
       "      <td>541.0</td>\n",
       "      <td>1.0</td>\n",
       "      <td>7.0</td>\n",
       "      <td>548.0</td>\n",
       "      <td>617.0</td>\n",
       "      <td>...</td>\n",
       "      <td>2</td>\n",
       "      <td>0</td>\n",
       "      <td>0</td>\n",
       "      <td>0</td>\n",
       "      <td>0</td>\n",
       "      <td>0</td>\n",
       "      <td>0</td>\n",
       "      <td>2019</td>\n",
       "      <td>3</td>\n",
       "      <td>25</td>\n",
       "    </tr>\n",
       "    <tr>\n",
       "      <th>3</th>\n",
       "      <td>565</td>\n",
       "      <td>565</td>\n",
       "      <td>13198</td>\n",
       "      <td>14679</td>\n",
       "      <td>1300</td>\n",
       "      <td>1315.0</td>\n",
       "      <td>15.0</td>\n",
       "      <td>7.0</td>\n",
       "      <td>1322.0</td>\n",
       "      <td>1430.0</td>\n",
       "      <td>...</td>\n",
       "      <td>3</td>\n",
       "      <td>0</td>\n",
       "      <td>1</td>\n",
       "      <td>0</td>\n",
       "      <td>0</td>\n",
       "      <td>0</td>\n",
       "      <td>0</td>\n",
       "      <td>2019</td>\n",
       "      <td>3</td>\n",
       "      <td>25</td>\n",
       "    </tr>\n",
       "    <tr>\n",
       "      <th>4</th>\n",
       "      <td>1387</td>\n",
       "      <td>1387</td>\n",
       "      <td>13198</td>\n",
       "      <td>14679</td>\n",
       "      <td>1955</td>\n",
       "      <td>1952.0</td>\n",
       "      <td>-3.0</td>\n",
       "      <td>6.0</td>\n",
       "      <td>1958.0</td>\n",
       "      <td>2104.0</td>\n",
       "      <td>...</td>\n",
       "      <td>4</td>\n",
       "      <td>0</td>\n",
       "      <td>1</td>\n",
       "      <td>0</td>\n",
       "      <td>0</td>\n",
       "      <td>0</td>\n",
       "      <td>0</td>\n",
       "      <td>2019</td>\n",
       "      <td>3</td>\n",
       "      <td>25</td>\n",
       "    </tr>\n",
       "    <tr>\n",
       "      <th>...</th>\n",
       "      <td>...</td>\n",
       "      <td>...</td>\n",
       "      <td>...</td>\n",
       "      <td>...</td>\n",
       "      <td>...</td>\n",
       "      <td>...</td>\n",
       "      <td>...</td>\n",
       "      <td>...</td>\n",
       "      <td>...</td>\n",
       "      <td>...</td>\n",
       "      <td>...</td>\n",
       "      <td>...</td>\n",
       "      <td>...</td>\n",
       "      <td>...</td>\n",
       "      <td>...</td>\n",
       "      <td>...</td>\n",
       "      <td>...</td>\n",
       "      <td>...</td>\n",
       "      <td>...</td>\n",
       "      <td>...</td>\n",
       "      <td>...</td>\n",
       "    </tr>\n",
       "    <tr>\n",
       "      <th>10770224</th>\n",
       "      <td>1751</td>\n",
       "      <td>1751</td>\n",
       "      <td>13198</td>\n",
       "      <td>13487</td>\n",
       "      <td>1025</td>\n",
       "      <td>1026.0</td>\n",
       "      <td>1.0</td>\n",
       "      <td>11.0</td>\n",
       "      <td>1037.0</td>\n",
       "      <td>1140.0</td>\n",
       "      <td>...</td>\n",
       "      <td>102</td>\n",
       "      <td>0</td>\n",
       "      <td>48</td>\n",
       "      <td>0</td>\n",
       "      <td>0</td>\n",
       "      <td>0</td>\n",
       "      <td>0</td>\n",
       "      <td>2019</td>\n",
       "      <td>3</td>\n",
       "      <td>25</td>\n",
       "    </tr>\n",
       "    <tr>\n",
       "      <th>10770225</th>\n",
       "      <td>2189</td>\n",
       "      <td>2189</td>\n",
       "      <td>13198</td>\n",
       "      <td>13495</td>\n",
       "      <td>2055</td>\n",
       "      <td>2111.0</td>\n",
       "      <td>16.0</td>\n",
       "      <td>5.0</td>\n",
       "      <td>2116.0</td>\n",
       "      <td>2240.0</td>\n",
       "      <td>...</td>\n",
       "      <td>117</td>\n",
       "      <td>0</td>\n",
       "      <td>27</td>\n",
       "      <td>0</td>\n",
       "      <td>0</td>\n",
       "      <td>0</td>\n",
       "      <td>0</td>\n",
       "      <td>2019</td>\n",
       "      <td>3</td>\n",
       "      <td>25</td>\n",
       "    </tr>\n",
       "    <tr>\n",
       "      <th>10770226</th>\n",
       "      <td>2470</td>\n",
       "      <td>2470</td>\n",
       "      <td>13198</td>\n",
       "      <td>14057</td>\n",
       "      <td>920</td>\n",
       "      <td>915.0</td>\n",
       "      <td>-5.0</td>\n",
       "      <td>7.0</td>\n",
       "      <td>922.0</td>\n",
       "      <td>1049.0</td>\n",
       "      <td>...</td>\n",
       "      <td>241</td>\n",
       "      <td>0</td>\n",
       "      <td>61</td>\n",
       "      <td>0</td>\n",
       "      <td>0</td>\n",
       "      <td>0</td>\n",
       "      <td>0</td>\n",
       "      <td>2019</td>\n",
       "      <td>3</td>\n",
       "      <td>25</td>\n",
       "    </tr>\n",
       "    <tr>\n",
       "      <th>10770227</th>\n",
       "      <td>1651</td>\n",
       "      <td>1651</td>\n",
       "      <td>13198</td>\n",
       "      <td>14107</td>\n",
       "      <td>1125</td>\n",
       "      <td>1123.0</td>\n",
       "      <td>-2.0</td>\n",
       "      <td>9.0</td>\n",
       "      <td>1132.0</td>\n",
       "      <td>1158.0</td>\n",
       "      <td>...</td>\n",
       "      <td>244</td>\n",
       "      <td>0</td>\n",
       "      <td>0</td>\n",
       "      <td>0</td>\n",
       "      <td>0</td>\n",
       "      <td>0</td>\n",
       "      <td>0</td>\n",
       "      <td>2019</td>\n",
       "      <td>3</td>\n",
       "      <td>25</td>\n",
       "    </tr>\n",
       "    <tr>\n",
       "      <th>10770228</th>\n",
       "      <td>1962</td>\n",
       "      <td>1962</td>\n",
       "      <td>13198</td>\n",
       "      <td>14107</td>\n",
       "      <td>1350</td>\n",
       "      <td>1350.0</td>\n",
       "      <td>0.0</td>\n",
       "      <td>7.0</td>\n",
       "      <td>1357.0</td>\n",
       "      <td>1429.0</td>\n",
       "      <td>...</td>\n",
       "      <td>438</td>\n",
       "      <td>0</td>\n",
       "      <td>0</td>\n",
       "      <td>0</td>\n",
       "      <td>0</td>\n",
       "      <td>0</td>\n",
       "      <td>0</td>\n",
       "      <td>2019</td>\n",
       "      <td>3</td>\n",
       "      <td>25</td>\n",
       "    </tr>\n",
       "  </tbody>\n",
       "</table>\n",
       "<p>10770229 rows × 28 columns</p>\n",
       "</div>"
      ],
      "text/plain": [
       "          mkt_carrier_fl_num  op_carrier_fl_num  origin_airport_id  \\\n",
       "0                       2098               2098              13198   \n",
       "1                       2238               2238              13198   \n",
       "2                       2451               2451              13198   \n",
       "3                        565                565              13198   \n",
       "4                       1387               1387              13198   \n",
       "...                      ...                ...                ...   \n",
       "10770224                1751               1751              13198   \n",
       "10770225                2189               2189              13198   \n",
       "10770226                2470               2470              13198   \n",
       "10770227                1651               1651              13198   \n",
       "10770228                1962               1962              13198   \n",
       "\n",
       "          dest_airport_id  crs_dep_time  dep_time  dep_delay  taxi_out  \\\n",
       "0                   14107          1755    1753.0       -2.0       7.0   \n",
       "1                   14107          2000    1955.0       -5.0       6.0   \n",
       "2                   14107           540     541.0        1.0       7.0   \n",
       "3                   14679          1300    1315.0       15.0       7.0   \n",
       "4                   14679          1955    1952.0       -3.0       6.0   \n",
       "...                   ...           ...       ...        ...       ...   \n",
       "10770224            13487          1025    1026.0        1.0      11.0   \n",
       "10770225            13495          2055    2111.0       16.0       5.0   \n",
       "10770226            14057           920     915.0       -5.0       7.0   \n",
       "10770227            14107          1125    1123.0       -2.0       9.0   \n",
       "10770228            14107          1350    1350.0        0.0       7.0   \n",
       "\n",
       "          wheels_off  wheels_on  ...  tail_num  origin  dest  \\\n",
       "0             1800.0     1832.0  ...         0       0     0   \n",
       "1             2001.0     2030.0  ...         1       0     0   \n",
       "2              548.0      617.0  ...         2       0     0   \n",
       "3             1322.0     1430.0  ...         3       0     1   \n",
       "4             1958.0     2104.0  ...         4       0     1   \n",
       "...              ...        ...  ...       ...     ...   ...   \n",
       "10770224      1037.0     1140.0  ...       102       0    48   \n",
       "10770225      2116.0     2240.0  ...       117       0    27   \n",
       "10770226       922.0     1049.0  ...       241       0    61   \n",
       "10770227      1132.0     1158.0  ...       244       0     0   \n",
       "10770228      1357.0     1429.0  ...       438       0     0   \n",
       "\n",
       "          bin_mkt_unique_carrier  bin_branded_code_share  bin_mkt_carrier  \\\n",
       "0                              0                       0                0   \n",
       "1                              0                       0                0   \n",
       "2                              0                       0                0   \n",
       "3                              0                       0                0   \n",
       "4                              0                       0                0   \n",
       "...                          ...                     ...              ...   \n",
       "10770224                       0                       0                0   \n",
       "10770225                       0                       0                0   \n",
       "10770226                       0                       0                0   \n",
       "10770227                       0                       0                0   \n",
       "10770228                       0                       0                0   \n",
       "\n",
       "          bin_op_unique_carrier  year  month  date  \n",
       "0                             0  2019      3    25  \n",
       "1                             0  2019      3    25  \n",
       "2                             0  2019      3    25  \n",
       "3                             0  2019      3    25  \n",
       "4                             0  2019      3    25  \n",
       "...                         ...   ...    ...   ...  \n",
       "10770224                      0  2019      3    25  \n",
       "10770225                      0  2019      3    25  \n",
       "10770226                      0  2019      3    25  \n",
       "10770227                      0  2019      3    25  \n",
       "10770228                      0  2019      3    25  \n",
       "\n",
       "[10770229 rows x 28 columns]"
      ]
     },
     "execution_count": 6,
     "metadata": {},
     "output_type": "execute_result"
    }
   ],
   "source": [
    "flights"
   ]
  },
  {
   "cell_type": "markdown",
   "metadata": {},
   "source": [
    "### distribution plots"
   ]
  },
  {
   "cell_type": "code",
   "execution_count": 8,
   "metadata": {},
   "outputs": [
    {
     "data": {
      "image/png": "[encoded data removed]",
      "text/plain": [
       "<Figure size 1152x720 with 2 Axes>"
      ]
     },
     "metadata": {
      "needs_background": "light"
     },
     "output_type": "display_data"
    }
   ],
   "source": [
    "fig, ax = plt.subplots(2, figsize=(16,10))\n",
    "sns.distplot(flights['dep_delay'], ax = ax[0])\n",
    "sns.distplot(flights['arr_delay'], ax = ax[1])\n",
    "plt.savefig('/mnt/d/lighthouse/Midterm/visualization/Task_1_pdf.png')"
   ]
  },
  {
   "cell_type": "markdown",
   "metadata": {},
   "source": [
    "### qqplots"
   ]
  },
  {
   "cell_type": "code",
   "execution_count": 15,
   "metadata": {},
   "outputs": [
    {
     "data": {
      "image/png": "[encoded data removed]",
      "text/plain": [
       "<Figure size 432x288 with 1 Axes>"
      ]
     },
     "metadata": {
      "needs_background": "light"
     },
     "output_type": "display_data"
    }
   ],
   "source": [
    "fig = sm.qqplot(flights['dep_delay'], line = 's')\n",
    "plt.show()"
   ]
  },
  {
   "cell_type": "code",
   "execution_count": 16,
   "metadata": {},
   "outputs": [
    {
     "data": {
      "image/png": "[encoded data removed]",
      "text/plain": [
       "<Figure size 432x288 with 1 Axes>"
      ]
     },
     "metadata": {
      "needs_background": "light"
     },
     "output_type": "display_data"
    }
   ],
   "source": [
    "fig = sm.qqplot(flights['arr_delay'], line = 's')\n",
    "plt.show()"
   ]
  },
  {
   "cell_type": "markdown",
   "metadata": {},
   "source": [
    "### normality test"
   ]
  },
  {
   "cell_type": "code",
   "execution_count": 17,
   "metadata": {},
   "outputs": [
    {
     "data": {
      "text/plain": [
       "NormaltestResult(statistic=2554995.9136515115, pvalue=0.0)"
      ]
     },
     "execution_count": 17,
     "metadata": {},
     "output_type": "execute_result"
    }
   ],
   "source": [
    "stats.normaltest(flights['dep_delay'])"
   ]
  },
  {
   "cell_type": "code",
   "execution_count": 18,
   "metadata": {},
   "outputs": [
    {
     "data": {
      "text/plain": [
       "NormaltestResult(statistic=66127.33797465128, pvalue=0.0)"
      ]
     },
     "execution_count": 18,
     "metadata": {},
     "output_type": "execute_result"
    }
   ],
   "source": [
    "stats.normaltest(flights['arr_delay'])"
   ]
  },
  {
   "cell_type": "markdown",
   "metadata": {},
   "source": [
    "### Hypothesis test, Ho: mu = 0 vs Ha: mu != 0"
   ]
  },
  {
   "cell_type": "code",
   "execution_count": 19,
   "metadata": {},
   "outputs": [
    {
     "data": {
      "text/plain": [
       "Ttest_1sampResult(statistic=-827.2387432856834, pvalue=0.0)"
      ]
     },
     "execution_count": 19,
     "metadata": {},
     "output_type": "execute_result"
    }
   ],
   "source": [
    "stats.ttest_1samp(flights['dep_delay'],0)"
   ]
  },
  {
   "cell_type": "code",
   "execution_count": 20,
   "metadata": {},
   "outputs": [
    {
     "data": {
      "text/plain": [
       "NormaltestResult(statistic=66127.33797465128, pvalue=0.0)"
      ]
     },
     "execution_count": 20,
     "metadata": {},
     "output_type": "execute_result"
    }
   ],
   "source": [
    "stats.normaltest(flights['arr_delay'], 0)"
   ]
  }
 ],
 "metadata": {
  "kernelspec": {
   "display_name": "Python 3",
   "language": "python",
   "name": "python3"
  },
  "language_info": {
   "codemirror_mode": {
    "name": "ipython",
    "version": 3
   },
   "file_extension": ".py",
   "mimetype": "text/x-python",
   "name": "python",
   "nbconvert_exporter": "python",
   "pygments_lexer": "ipython3",
   "version": "3.8.2"
  }
 },
 "nbformat": 4,
 "nbformat_minor": 4
}
