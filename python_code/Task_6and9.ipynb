{
 "cells": [
  {
   "cell_type": "markdown",
   "metadata": {},
   "source": []
  },
  {
   "cell_type": "code",
   "execution_count": 1,
   "metadata": {},
   "outputs": [],
   "source": [
    "#### #Data management and manipulation ####\n",
    "import pandas as pd # import pandas\n",
    "import numpy as np # import numpy\n",
    "from pandas_profiling import ProfileReport # data initial exploration tool\n",
    "from matplotlib import pyplot\n",
    "import seaborn as sns\n",
    "import matplotlib.pyplot as plt"
   ]
  },
  {
   "cell_type": "code",
   "execution_count": 4,
   "metadata": {},
   "outputs": [],
   "source": [
    "path='/Users/carlyfennell/DataScience/data_bootcamp/data/'"
   ]
  },
  {
   "cell_type": "code",
   "execution_count": 5,
   "metadata": {},
   "outputs": [],
   "source": [
    "column_types={'mkt_carrier_fl_num': 'uint16', 'op_unique_carrier': 'category', 'tail_num': 'category', 'op_carrier_fl_num': 'uint16', 'origin_airport_id': 'uint16', 'origin': 'category', 'dest_airport_id': 'uint16', 'dest': 'category', 'crs_dep_time': 'uint16', 'dep_time': 'float32'}"
   ]
  },
  {
   "cell_type": "code",
   "execution_count": 6,
   "metadata": {},
   "outputs": [
    {
     "name": "stderr",
     "output_type": "stream",
     "text": [
      "/opt/anaconda3/envs/bootcamp_env/lib/python3.7/site-packages/IPython/core/interactiveshell.py:3072: DtypeWarning: Columns (20) have mixed types.Specify dtype option on import or set low_memory=False.\n",
      "  interactivity=interactivity, compiler=compiler, result=result)\n"
     ]
    }
   ],
   "source": [
    "df_flights= pd.read_csv(path+'df_flights.csv',dtype=column_types,parse_dates=['fl_date'],infer_datetime_format=True)"
   ]
  },
  {
   "cell_type": "code",
   "execution_count": 7,
   "metadata": {},
   "outputs": [],
   "source": [
    "df_flights.drop('Unnamed: 0',axis=1,inplace=True)"
   ]
  },
  {
   "cell_type": "code",
   "execution_count": 8,
   "metadata": {},
   "outputs": [
    {
     "data": {
      "text/plain": [
       "(15927485, 40)"
      ]
     },
     "execution_count": 8,
     "metadata": {},
     "output_type": "execute_result"
    }
   ],
   "source": [
    "df_flights.shape"
   ]
  },
  {
   "cell_type": "markdown",
   "metadata": {},
   "source": [
    "##### Task 9: Find the top 10 the bussiest airports. Does the biggest number of flights mean that the biggest number of passengers went through the particular airport? How much traffic do these 10 airports cover?"
   ]
  },
  {
   "cell_type": "raw",
   "metadata": {},
   "source": [
    "use flights table. \n",
    "\n",
    "columns dest and origin are the destination and origin airpoirts. 'flights' give # flights. groupby dest and sum flights. then groupby origin and sum flights - merge these two together and add the columns"
   ]
  },
  {
   "cell_type": "code",
   "execution_count": 11,
   "metadata": {
    "collapsed": true,
    "jupyter": {
     "outputs_hidden": true
    }
   },
   "outputs": [
    {
     "data": {
      "text/plain": [
       "array(['MCI', 'MCO', 'MDW', 'MEM', 'MHT', 'MKE', 'MSP', 'MSY', 'OAK',\n",
       "       'OKC', 'OMA', 'ONT', 'ORF', 'PBI', 'PDX', 'PHL', 'PHX', 'PIT',\n",
       "       'PNS', 'PVD', 'PWM', 'RDU', 'RIC', 'RNO', 'ROC', 'RSW', 'SAN',\n",
       "       'SAT', 'SDF', 'SEA', 'SFO', 'SJC', 'SJU', 'SLC', 'SMF', 'SNA',\n",
       "       'STL', 'TPA', 'TUL', 'TUS', 'ATW', 'ATL', 'DHN', 'BOS', 'FAY',\n",
       "       'DTW', 'FWA', 'AZO', 'BIS', 'GNV', 'ORD', 'BIL', 'BNA', 'AVP',\n",
       "       'LAS', 'LGA', 'RST', 'PSP', 'SBN', 'MOT', 'RDM', 'MSN', 'ISN',\n",
       "       'JFK', 'GEG', 'AEX', 'FCA', 'LAX', 'FAT', 'LAN', 'MSO', 'SUN',\n",
       "       'GTR', 'FSD', 'GFK', 'BUR', 'IAH', 'PSC', 'SAV', 'DLH', 'GRB',\n",
       "       'RAP', 'CID', 'SYR', 'GSO', 'MGM', 'LEX', 'HSV', 'HLN', 'MDT',\n",
       "       'CLE', 'FAR', 'IAD', 'LGB', 'BHM', 'EWR', 'BOI', 'CRW', 'LNK',\n",
       "       'DAY', 'MBS', 'DEN', 'IDA', 'DFW', 'GSP', 'ICT', 'MLU', 'MOB',\n",
       "       'CVG', 'GRR', 'ABY', 'DSM', 'ELP', 'PIA', 'ERI', 'ASE', 'ROA',\n",
       "       'AVL', 'CHA', 'CMH', 'LIT', 'TRI', 'HPN', 'IND', 'BQK', 'VLD',\n",
       "       'BTR', 'BZN', 'BUF', 'EVV', 'AGS', 'ALB', 'GTF', 'LSE', 'ESC',\n",
       "       'COS', 'CPR', 'SWF', 'ABE', 'SCE', 'MLI', 'MQT', 'CLT', 'TYS',\n",
       "       'CAE', 'ILM', 'EAR', 'PBG', 'VEL', 'CNY', 'GCC', 'MKG', 'RKS',\n",
       "       'PUB', 'CMX', 'CGI', 'PAH', 'SGU', 'CKB', 'EAU', 'UIN', 'LBF',\n",
       "       'LWB', 'LBL', 'BFF', 'SPI', 'DVL', 'JMS', 'LAR', 'SHD', 'HYS',\n",
       "       'SLN', 'PRC', 'CHS', 'DCA', 'FLL', 'JAX', 'BWI', 'AUS', 'MIA',\n",
       "       'ABQ', 'BDL', 'EGE', 'GUM', 'SPN', 'XNA', 'EYW', 'MYR', 'SRQ',\n",
       "       'DRO', 'GJT', 'MAF', 'HDN', 'YUM', 'SBP', 'GRI', 'CLL', 'FLG',\n",
       "       'TVC', 'BFL', 'EUG', 'MFR', 'CHO', 'PIB', 'MEI', 'ECP', 'SAF',\n",
       "       'SHV', 'LRD', 'ROW', 'LAW', 'MFE', 'JAN', 'DAL', 'STS', 'MRY',\n",
       "       'FSM', 'PGD', 'SFB', 'PIE', 'PVU', 'FNT', 'AZA', 'BLV', 'LCK',\n",
       "       'SGF', 'GRK', 'LCH', 'CRP', 'GCK', 'ACT', 'CMI', 'SJT', 'TOL',\n",
       "       'TLH', 'GGG', 'MLB', 'OAJ', 'HVN', 'CAK', 'ACY', 'ITO', 'HNL',\n",
       "       'LIH', 'OGG', 'KOA', 'MTJ', 'AMA', 'BMI', 'RFD', 'PSM', 'VPS',\n",
       "       'IAG', 'BLI', 'DAB', 'STX', 'STT', 'EWN', 'LYH', 'SBY', 'ISP',\n",
       "       'ITH', 'IPT', 'BTV', 'HOU', 'JAC', 'PQI', 'ELM', 'CWA', 'LBB',\n",
       "       'GUC', 'SBA', 'HHH', 'PHF', 'BGR', 'GPT', 'SUX', 'ABI', 'TXK',\n",
       "       'BQN', 'PSE', 'ORH', 'LFT', 'BRO', 'COU', 'DRT', 'HRL', 'TYR',\n",
       "       'JLN', 'PGV', 'HTS', 'HOB', 'FLO', 'ANC', 'ADQ', 'BET', 'BRW',\n",
       "       'SCC', 'FAI', 'JNU', 'KTN', 'CDV', 'YAK', 'SIT', 'PSG', 'WRG',\n",
       "       'OME', 'OTZ', 'SPS', 'MHK', 'SWO', 'LBE', 'DBQ', 'BPT', 'MKK',\n",
       "       'JHM', 'LNY', 'TTN', 'ACV', 'RDD', 'OTH', 'MMH', 'COD', 'LWS',\n",
       "       'PIH', 'ABR', 'APN', 'PLN', 'BJI', 'BRD', 'BTM', 'CDC', 'CIU',\n",
       "       'EKO', 'IMT', 'TWF', 'HIB', 'BGM', 'RHI', 'INL', 'YKM', 'PUW',\n",
       "       'EAT', 'ALW', 'PAE', 'DUT', 'CSG', 'ART', 'USA', 'SCK', 'STC',\n",
       "       'ALO', 'HGR', 'DIK', 'OWB', 'SMX', 'ADK', 'CYS', 'OGS', 'OGD',\n",
       "       'WYS', 'PIR', 'GST', 'AKN', 'DLG', 'HYA', 'ACK', 'MVY', 'ATY',\n",
       "       'BKG', 'BFM', 'ROP', 'YNG', 'IFP', 'XWA'], dtype=object)"
      ]
     },
     "execution_count": 11,
     "metadata": {},
     "output_type": "execute_result"
    }
   ],
   "source": [
    "df_flights['origin'].unique()"
   ]
  },
  {
   "cell_type": "code",
   "execution_count": 12,
   "metadata": {
    "collapsed": true,
    "jupyter": {
     "outputs_hidden": true
    }
   },
   "outputs": [
    {
     "data": {
      "text/plain": [
       "array(['PHX', 'SAN', 'SAT', 'STL', 'TPA', 'ALB', 'ATL', 'AUS', 'BDL',\n",
       "       'BHM', 'BNA', 'BUF', 'BWI', 'CMH', 'DAL', 'DCA', 'DEN', 'FLL',\n",
       "       'GRR', 'HOU', 'IND', 'ISP', 'MCI', 'MDW', 'MEM', 'MHT', 'MKE',\n",
       "       'MSY', 'ORF', 'PHL', 'PIT', 'PVD', 'RDU', 'ROC', 'SDF', 'SJU',\n",
       "       'ABQ', 'BOS', 'CHS', 'CLE', 'CLT', 'CVG', 'DTW', 'EWR', 'JAX',\n",
       "       'LAS', 'LGA', 'MCO', 'MSP', 'OKC', 'OMA', 'RSW', 'SLC', 'TUS',\n",
       "       'OAK', 'BOI', 'BUR', 'GEG', 'LAX', 'LGB', 'ONT', 'PDX', 'SEA',\n",
       "       'SNA', 'SJC', 'SMF', 'ELP', 'ICT', 'LIT', 'RNO', 'SFO', 'TUL',\n",
       "       'DSM', 'ECP', 'ATW', 'DHN', 'FWA', 'AZO', 'FAY', 'AVP', 'BIS',\n",
       "       'GNV', 'BIL', 'MBS', 'RST', 'PSP', 'RIC', 'SBN', 'CID', 'MOT',\n",
       "       'RDM', 'JFK', 'MSN', 'ISN', 'ORD', 'AEX', 'FCA', 'FAT', 'LAN',\n",
       "       'CHA', 'MSO', 'GTR', 'FSD', 'PSC', 'SUN', 'GFK', 'IAH', 'GRB',\n",
       "       'SYR', 'MGM', 'LEX', 'GTF', 'RAP', 'HLN', 'FAR', 'GSO', 'IAD',\n",
       "       'LNK', 'DAY', 'DLH', 'GSP', 'MLU', 'MOB', 'IDA', 'ABY', 'PIA',\n",
       "       'ERI', 'ROA', 'ASE', 'AVL', 'DFW', 'TRI', 'CRW', 'HPN', 'BQK',\n",
       "       'MDT', 'VLD', 'SAV', 'AGS', 'EVV', 'BZN', 'IMT', 'LSE', 'ESC',\n",
       "       'COS', 'SCE', 'GJT', 'SWF', 'MLI', 'ABE', 'TYS', 'BTR', 'CAE',\n",
       "       'ILM', 'BFF', 'MKG', 'SHD', 'UIN', 'RKS', 'PUB', 'LBL', 'CGI',\n",
       "       'LBF', 'EAR', 'PAH', 'CMX', 'EAU', 'CKB', 'SPI', 'VEL', 'CNY',\n",
       "       'LWB', 'SGU', 'JMS', 'DVL', 'SLN', 'HYS', 'LAR', 'SHV', 'MIA',\n",
       "       'PBI', 'SPN', 'GUM', 'EYW', 'MYR', 'HSV', 'SRQ', 'BTV', 'TLH',\n",
       "       'PNS', 'XNA', 'MAF', 'DRO', 'LRD', 'HDN', 'SBP', 'YUM', 'EUG',\n",
       "       'BFL', 'TVC', 'MHK', 'MFR', 'LAW', 'GRI', 'SAF', 'CHO', 'CYS',\n",
       "       'MEI', 'PIB', 'ROW', 'CLL', 'JAN', 'MFE', 'FLG', 'STS', 'MRY',\n",
       "       'PWM', 'BLI', 'OAJ', 'SFB', 'PGD', 'BLV', 'LCK', 'PIE', 'AZA',\n",
       "       'IAG', 'PVU', 'FNT', 'SGF', 'GRK', 'CMI', 'COU', 'CRP', 'ACT',\n",
       "       'TYR', 'CWA', 'TXK', 'SJT', 'GGG', 'CAK', 'MLB', 'HVN', 'TOL',\n",
       "       'ACY', 'HNL', 'LIH', 'OGG', 'ITO', 'KOA', 'MTJ', 'BMI', 'JAC',\n",
       "       'PSM', 'RFD', 'DAB', 'EWN', 'VPS', 'STX', 'STT', 'ITH', 'IPT',\n",
       "       'FLO', 'PQI', 'ELM', 'GUC', 'AMA', 'CPR', 'LBB', 'DIK', 'SBA',\n",
       "       'HHH', 'PHF', 'GPT', 'SUX', 'MQT', 'ABI', 'DBQ', 'LCH', 'GCK',\n",
       "       'FSM', 'ORH', 'BQN', 'PSE', 'LFT', 'BRO', 'DRT', 'ALO', 'HRL',\n",
       "       'JLN', 'LBE', 'SBY', 'BGR', 'PGV', 'LYH', 'HTS', 'HOB', 'ANC',\n",
       "       'BET', 'ADQ', 'SCC', 'BRW', 'KTN', 'CDV', 'YAK', 'SIT', 'JNU',\n",
       "       'WRG', 'PSG', 'FAI', 'OME', 'OTZ', 'SWO', 'BPT', 'SPS', 'PBG',\n",
       "       'ART', 'MKK', 'JHM', 'LNY', 'EGE', 'TTN', 'GCC', 'PRC', 'ACV',\n",
       "       'MMH', 'OTH', 'RDD', 'COD', 'LWS', 'PIH', 'ABR', 'APN', 'BJI',\n",
       "       'BRD', 'BTM', 'CDC', 'CIU', 'EKO', 'HIB', 'BGM', 'TWF', 'PLN',\n",
       "       'RHI', 'INL', 'YKM', 'EAT', 'ALW', 'PUW', 'PAE', 'DUT', 'CSG',\n",
       "       'SCK', 'STC', 'USA', 'HGR', 'OGS', 'OWB', 'SMX', 'ADK', 'OGD',\n",
       "       'WYS', 'ATY', 'GST', 'DLG', 'AKN', 'HYA', 'MVY', 'ACK', 'BFM',\n",
       "       'BKG', 'PIR', 'ROP', 'YNG', 'IFP', 'XWA'], dtype=object)"
      ]
     },
     "execution_count": 12,
     "metadata": {},
     "output_type": "execute_result"
    }
   ],
   "source": [
    "df_flights['dest'].unique()"
   ]
  },
  {
   "cell_type": "markdown",
   "metadata": {},
   "source": [
    "### Make sample of dataframe so code runs quicker in building phase (can delete this line later)"
   ]
  },
  {
   "cell_type": "raw",
   "metadata": {},
   "source": [
    "df_flights_sample=df_flights.sample(n=300000,axis=0)"
   ]
  },
  {
   "cell_type": "raw",
   "metadata": {},
   "source": [
    "df_flights_sample=df_flights_sample.reset_index().drop('index',axis=1)"
   ]
  },
  {
   "cell_type": "raw",
   "metadata": {},
   "source": [
    "Sum total flights by destination and origin airports, then concat those two together and sum for TOTAL flights in and out of specific airport"
   ]
  },
  {
   "cell_type": "code",
   "execution_count": 10,
   "metadata": {},
   "outputs": [],
   "source": [
    "origin_sum=df_flights[['origin','dest']].groupby('origin').count().sort_values(by='dest',ascending=False)"
   ]
  },
  {
   "cell_type": "code",
   "execution_count": 11,
   "metadata": {},
   "outputs": [],
   "source": [
    "dest_sum=df_flights[['origin','dest']].groupby('dest').count().sort_values(by='origin',ascending=False)"
   ]
  },
  {
   "cell_type": "raw",
   "metadata": {},
   "source": [
    "### To be used to pair airport code to state\n",
    "#initialize airport_code_dict from unique airport name as keys\n",
    "airport_code_dict=dict.fromkeys(df_flights_sample['origin'].unique(), 0)\n",
    "## get state for each airport code\n",
    "#df_flights_sample['origin'].unique()\n",
    "for i in range(len(df_flights_sample[['origin','origin_state']])):\n",
    "    airport_code_dict[df_flights_sample['origin'][i]]=df_flights_sample['origin_state'][i]\n",
    "    "
   ]
  },
  {
   "cell_type": "raw",
   "metadata": {},
   "source": [
    "airport_code_dict"
   ]
  },
  {
   "cell_type": "code",
   "execution_count": 17,
   "metadata": {},
   "outputs": [
    {
     "ename": "KeyboardInterrupt",
     "evalue": "",
     "output_type": "error",
     "traceback": [
      "\u001b[0;31m---------------------------------------------------------------------------\u001b[0m",
      "\u001b[0;31mKeyboardInterrupt\u001b[0m                         Traceback (most recent call last)",
      "\u001b[0;32m<ipython-input-17-59dea577a572>\u001b[0m in \u001b[0;36m<module>\u001b[0;34m\u001b[0m\n\u001b[1;32m      5\u001b[0m \u001b[0;31m#df_flights_sample['origin'].unique()\u001b[0m\u001b[0;34m\u001b[0m\u001b[0;34m\u001b[0m\u001b[0;34m\u001b[0m\u001b[0m\n\u001b[1;32m      6\u001b[0m \u001b[0;32mfor\u001b[0m \u001b[0mi\u001b[0m \u001b[0;32min\u001b[0m \u001b[0mrange\u001b[0m\u001b[0;34m(\u001b[0m\u001b[0mlen\u001b[0m\u001b[0;34m(\u001b[0m\u001b[0mdf_flights\u001b[0m\u001b[0;34m[\u001b[0m\u001b[0;34m[\u001b[0m\u001b[0;34m'origin'\u001b[0m\u001b[0;34m,\u001b[0m\u001b[0;34m'origin_airport_id'\u001b[0m\u001b[0;34m]\u001b[0m\u001b[0;34m]\u001b[0m\u001b[0;34m)\u001b[0m\u001b[0;34m)\u001b[0m\u001b[0;34m:\u001b[0m\u001b[0;34m\u001b[0m\u001b[0;34m\u001b[0m\u001b[0m\n\u001b[0;32m----> 7\u001b[0;31m     \u001b[0mairport_id_dict\u001b[0m\u001b[0;34m[\u001b[0m\u001b[0mdf_flights\u001b[0m\u001b[0;34m[\u001b[0m\u001b[0;34m'origin'\u001b[0m\u001b[0;34m]\u001b[0m\u001b[0;34m[\u001b[0m\u001b[0mi\u001b[0m\u001b[0;34m]\u001b[0m\u001b[0;34m]\u001b[0m\u001b[0;34m=\u001b[0m\u001b[0mdf_flights\u001b[0m\u001b[0;34m[\u001b[0m\u001b[0;34m'origin_airport_id'\u001b[0m\u001b[0;34m]\u001b[0m\u001b[0;34m[\u001b[0m\u001b[0mi\u001b[0m\u001b[0;34m]\u001b[0m\u001b[0;34m\u001b[0m\u001b[0;34m\u001b[0m\u001b[0m\n\u001b[0m",
      "\u001b[0;32m/opt/anaconda3/envs/bootcamp_env/lib/python3.7/site-packages/pandas/core/frame.py\u001b[0m in \u001b[0;36m__getitem__\u001b[0;34m(self, key)\u001b[0m\n\u001b[1;32m   2870\u001b[0m         \u001b[0;32mif\u001b[0m \u001b[0mis_hashable\u001b[0m\u001b[0;34m(\u001b[0m\u001b[0mkey\u001b[0m\u001b[0;34m)\u001b[0m\u001b[0;34m:\u001b[0m\u001b[0;34m\u001b[0m\u001b[0;34m\u001b[0m\u001b[0m\n\u001b[1;32m   2871\u001b[0m             \u001b[0;31m# shortcut if the key is in columns\u001b[0m\u001b[0;34m\u001b[0m\u001b[0;34m\u001b[0m\u001b[0;34m\u001b[0m\u001b[0m\n\u001b[0;32m-> 2872\u001b[0;31m             \u001b[0;32mif\u001b[0m \u001b[0mself\u001b[0m\u001b[0;34m.\u001b[0m\u001b[0mcolumns\u001b[0m\u001b[0;34m.\u001b[0m\u001b[0mis_unique\u001b[0m \u001b[0;32mand\u001b[0m \u001b[0mkey\u001b[0m \u001b[0;32min\u001b[0m \u001b[0mself\u001b[0m\u001b[0;34m.\u001b[0m\u001b[0mcolumns\u001b[0m\u001b[0;34m:\u001b[0m\u001b[0;34m\u001b[0m\u001b[0;34m\u001b[0m\u001b[0m\n\u001b[0m\u001b[1;32m   2873\u001b[0m                 \u001b[0;32mif\u001b[0m \u001b[0mself\u001b[0m\u001b[0;34m.\u001b[0m\u001b[0mcolumns\u001b[0m\u001b[0;34m.\u001b[0m\u001b[0mnlevels\u001b[0m \u001b[0;34m>\u001b[0m \u001b[0;36m1\u001b[0m\u001b[0;34m:\u001b[0m\u001b[0;34m\u001b[0m\u001b[0;34m\u001b[0m\u001b[0m\n\u001b[1;32m   2874\u001b[0m                     \u001b[0;32mreturn\u001b[0m \u001b[0mself\u001b[0m\u001b[0;34m.\u001b[0m\u001b[0m_getitem_multilevel\u001b[0m\u001b[0;34m(\u001b[0m\u001b[0mkey\u001b[0m\u001b[0;34m)\u001b[0m\u001b[0;34m\u001b[0m\u001b[0;34m\u001b[0m\u001b[0m\n",
      "\u001b[0;32m/opt/anaconda3/envs/bootcamp_env/lib/python3.7/site-packages/pandas/core/indexes/base.py\u001b[0m in \u001b[0;36m__contains__\u001b[0;34m(self, key)\u001b[0m\n\u001b[1;32m   4065\u001b[0m         \u001b[0mhash\u001b[0m\u001b[0;34m(\u001b[0m\u001b[0mkey\u001b[0m\u001b[0;34m)\u001b[0m\u001b[0;34m\u001b[0m\u001b[0;34m\u001b[0m\u001b[0m\n\u001b[1;32m   4066\u001b[0m         \u001b[0;32mtry\u001b[0m\u001b[0;34m:\u001b[0m\u001b[0;34m\u001b[0m\u001b[0;34m\u001b[0m\u001b[0m\n\u001b[0;32m-> 4067\u001b[0;31m             \u001b[0;32mreturn\u001b[0m \u001b[0mkey\u001b[0m \u001b[0;32min\u001b[0m \u001b[0mself\u001b[0m\u001b[0;34m.\u001b[0m\u001b[0m_engine\u001b[0m\u001b[0;34m\u001b[0m\u001b[0;34m\u001b[0m\u001b[0m\n\u001b[0m\u001b[1;32m   4068\u001b[0m         \u001b[0;32mexcept\u001b[0m \u001b[0;34m(\u001b[0m\u001b[0mOverflowError\u001b[0m\u001b[0;34m,\u001b[0m \u001b[0mTypeError\u001b[0m\u001b[0;34m,\u001b[0m \u001b[0mValueError\u001b[0m\u001b[0;34m)\u001b[0m\u001b[0;34m:\u001b[0m\u001b[0;34m\u001b[0m\u001b[0;34m\u001b[0m\u001b[0m\n\u001b[1;32m   4069\u001b[0m             \u001b[0;32mreturn\u001b[0m \u001b[0;32mFalse\u001b[0m\u001b[0;34m\u001b[0m\u001b[0;34m\u001b[0m\u001b[0m\n",
      "\u001b[0;31mKeyboardInterrupt\u001b[0m: "
     ]
    }
   ],
   "source": [
    "### To be used to pair airport code to airport ID\n",
    "#initialize airport_id_dict from unique airport name as keys and airport_id as values\n",
    "airport_id_dict=dict.fromkeys(df_flights['origin'].unique(), 0)\n",
    "## get state for each airport code\n",
    "#df_flights_sample['origin'].unique()\n",
    "for i in range(len(df_flights[['origin','origin_airport_id']])):\n",
    "    airport_id_dict[df_flights['origin'][i]]=df_flights['origin_airport_id'][i]"
   ]
  },
  {
   "cell_type": "code",
   "execution_count": 24,
   "metadata": {},
   "outputs": [],
   "source": [
    "### this only worked when I was putting together two equally unique lists (ie city name with airport code)\n",
    "## making dictionary from two lists\n",
    "# # initializing lists \n",
    "# test_keys = [\"Rash\", \"Kil\", \"Varsha\"] \n",
    "# test_values = [1, 4, 5] \n",
    "  \n",
    "# # Printing original keys-value lists \n",
    "# print (\"Original key list is : \" + str(test_keys)) \n",
    "# print (\"Original value list is : \" + str(test_values)) \n",
    "  \n",
    "# # using zip() \n",
    "# # to convert lists to dictionary \n",
    "# res = dict(zip(test_keys, test_values)) \n",
    "\n",
    "# t_keys=df_flights_sample['origin'].unique()\n",
    "# t_values=df_flights_sample['origin_state'].unique()\n",
    "# airport_code_dict=dict(zip(t_keys,t_values))\n"
   ]
  },
  {
   "cell_type": "code",
   "execution_count": 18,
   "metadata": {},
   "outputs": [],
   "source": [
    "busy_airports=pd.concat([origin_sum,dest_sum],axis=1,join='inner',ignore_index=True)"
   ]
  },
  {
   "cell_type": "code",
   "execution_count": 19,
   "metadata": {},
   "outputs": [],
   "source": [
    "#Adding total flights column for each airport\n",
    "busy_airports['total_flights']=busy_airports[0]+busy_airports[1]"
   ]
  },
  {
   "cell_type": "code",
   "execution_count": 21,
   "metadata": {},
   "outputs": [
    {
     "data": {
      "text/html": [
       "<div>\n",
       "<style scoped>\n",
       "    .dataframe tbody tr th:only-of-type {\n",
       "        vertical-align: middle;\n",
       "    }\n",
       "\n",
       "    .dataframe tbody tr th {\n",
       "        vertical-align: top;\n",
       "    }\n",
       "\n",
       "    .dataframe thead th {\n",
       "        text-align: right;\n",
       "    }\n",
       "</style>\n",
       "<table border=\"1\" class=\"dataframe\">\n",
       "  <thead>\n",
       "    <tr style=\"text-align: right;\">\n",
       "      <th></th>\n",
       "      <th>0</th>\n",
       "      <th>1</th>\n",
       "      <th>total_flights</th>\n",
       "    </tr>\n",
       "  </thead>\n",
       "  <tbody>\n",
       "    <tr>\n",
       "      <th>ORD</th>\n",
       "      <td>790253</td>\n",
       "      <td>790129</td>\n",
       "      <td>1580382</td>\n",
       "    </tr>\n",
       "    <tr>\n",
       "      <th>ATL</th>\n",
       "      <td>785850</td>\n",
       "      <td>785885</td>\n",
       "      <td>1571735</td>\n",
       "    </tr>\n",
       "    <tr>\n",
       "      <th>DFW</th>\n",
       "      <td>584688</td>\n",
       "      <td>584602</td>\n",
       "      <td>1169290</td>\n",
       "    </tr>\n",
       "    <tr>\n",
       "      <th>DEN</th>\n",
       "      <td>552134</td>\n",
       "      <td>552181</td>\n",
       "      <td>1104315</td>\n",
       "    </tr>\n",
       "    <tr>\n",
       "      <th>CLT</th>\n",
       "      <td>501557</td>\n",
       "      <td>501492</td>\n",
       "      <td>1003049</td>\n",
       "    </tr>\n",
       "    <tr>\n",
       "      <th>LAX</th>\n",
       "      <td>500840</td>\n",
       "      <td>500925</td>\n",
       "      <td>1001765</td>\n",
       "    </tr>\n",
       "    <tr>\n",
       "      <th>SEA</th>\n",
       "      <td>379367</td>\n",
       "      <td>379340</td>\n",
       "      <td>758707</td>\n",
       "    </tr>\n",
       "    <tr>\n",
       "      <th>SFO</th>\n",
       "      <td>357626</td>\n",
       "      <td>357770</td>\n",
       "      <td>715396</td>\n",
       "    </tr>\n",
       "    <tr>\n",
       "      <th>PHX</th>\n",
       "      <td>355485</td>\n",
       "      <td>355462</td>\n",
       "      <td>710947</td>\n",
       "    </tr>\n",
       "    <tr>\n",
       "      <th>IAH</th>\n",
       "      <td>354379</td>\n",
       "      <td>354337</td>\n",
       "      <td>708716</td>\n",
       "    </tr>\n",
       "  </tbody>\n",
       "</table>\n",
       "</div>"
      ],
      "text/plain": [
       "          0       1  total_flights\n",
       "ORD  790253  790129        1580382\n",
       "ATL  785850  785885        1571735\n",
       "DFW  584688  584602        1169290\n",
       "DEN  552134  552181        1104315\n",
       "CLT  501557  501492        1003049\n",
       "LAX  500840  500925        1001765\n",
       "SEA  379367  379340         758707\n",
       "SFO  357626  357770         715396\n",
       "PHX  355485  355462         710947\n",
       "IAH  354379  354337         708716"
      ]
     },
     "execution_count": 21,
     "metadata": {},
     "output_type": "execute_result"
    }
   ],
   "source": [
    "#Sorting and displaying top 10 busiest airports\n",
    "busy_airports.sort_values(by='total_flights',ascending=False).head(10)"
   ]
  },
  {
   "cell_type": "markdown",
   "metadata": {},
   "source": [
    "### top 10 busiest airports"
   ]
  },
  {
   "cell_type": "code",
   "execution_count": 22,
   "metadata": {},
   "outputs": [],
   "source": [
    "#Sorting and displaying top 10 busiest airports - renaming columns so dataframe is more readable\n",
    "busy_airports=busy_airports.reset_index().rename(columns={'index':'Airport_Code',0:'total_arr',1:'total_dest'})"
   ]
  },
  {
   "cell_type": "code",
   "execution_count": 25,
   "metadata": {},
   "outputs": [],
   "source": [
    "#Sorting and displaying top 10 busiest airports - renaming columns so dataframe is more readable\n",
    "busy_airports=busy_airports.reset_index().rename(columns={'Airport_Code':'origin',0:'total_arr',1:'total_dest'})"
   ]
  },
  {
   "cell_type": "code",
   "execution_count": 28,
   "metadata": {},
   "outputs": [],
   "source": [
    "busy_airports=busy_airports.drop('index',axis=1)"
   ]
  },
  {
   "cell_type": "code",
   "execution_count": 29,
   "metadata": {},
   "outputs": [
    {
     "data": {
      "text/plain": [
       "Index(['origin', 'total_arr', 'total_dest', 'total_flights'], dtype='object')"
      ]
     },
     "execution_count": 29,
     "metadata": {},
     "output_type": "execute_result"
    }
   ],
   "source": [
    "busy_airports.columns"
   ]
  },
  {
   "cell_type": "code",
   "execution_count": 30,
   "metadata": {},
   "outputs": [
    {
     "data": {
      "text/html": [
       "<div>\n",
       "<style scoped>\n",
       "    .dataframe tbody tr th:only-of-type {\n",
       "        vertical-align: middle;\n",
       "    }\n",
       "\n",
       "    .dataframe tbody tr th {\n",
       "        vertical-align: top;\n",
       "    }\n",
       "\n",
       "    .dataframe thead th {\n",
       "        text-align: right;\n",
       "    }\n",
       "</style>\n",
       "<table border=\"1\" class=\"dataframe\">\n",
       "  <thead>\n",
       "    <tr style=\"text-align: right;\">\n",
       "      <th></th>\n",
       "      <th>origin</th>\n",
       "      <th>total_arr</th>\n",
       "      <th>total_dest</th>\n",
       "      <th>total_flights</th>\n",
       "    </tr>\n",
       "  </thead>\n",
       "  <tbody>\n",
       "    <tr>\n",
       "      <th>0</th>\n",
       "      <td>ORD</td>\n",
       "      <td>790253</td>\n",
       "      <td>790129</td>\n",
       "      <td>1580382</td>\n",
       "    </tr>\n",
       "    <tr>\n",
       "      <th>1</th>\n",
       "      <td>ATL</td>\n",
       "      <td>785850</td>\n",
       "      <td>785885</td>\n",
       "      <td>1571735</td>\n",
       "    </tr>\n",
       "    <tr>\n",
       "      <th>2</th>\n",
       "      <td>DFW</td>\n",
       "      <td>584688</td>\n",
       "      <td>584602</td>\n",
       "      <td>1169290</td>\n",
       "    </tr>\n",
       "    <tr>\n",
       "      <th>3</th>\n",
       "      <td>DEN</td>\n",
       "      <td>552134</td>\n",
       "      <td>552181</td>\n",
       "      <td>1104315</td>\n",
       "    </tr>\n",
       "    <tr>\n",
       "      <th>4</th>\n",
       "      <td>CLT</td>\n",
       "      <td>501557</td>\n",
       "      <td>501492</td>\n",
       "      <td>1003049</td>\n",
       "    </tr>\n",
       "    <tr>\n",
       "      <th>5</th>\n",
       "      <td>LAX</td>\n",
       "      <td>500840</td>\n",
       "      <td>500925</td>\n",
       "      <td>1001765</td>\n",
       "    </tr>\n",
       "    <tr>\n",
       "      <th>6</th>\n",
       "      <td>SEA</td>\n",
       "      <td>379367</td>\n",
       "      <td>379340</td>\n",
       "      <td>758707</td>\n",
       "    </tr>\n",
       "    <tr>\n",
       "      <th>7</th>\n",
       "      <td>SFO</td>\n",
       "      <td>357626</td>\n",
       "      <td>357770</td>\n",
       "      <td>715396</td>\n",
       "    </tr>\n",
       "    <tr>\n",
       "      <th>8</th>\n",
       "      <td>PHX</td>\n",
       "      <td>355485</td>\n",
       "      <td>355462</td>\n",
       "      <td>710947</td>\n",
       "    </tr>\n",
       "    <tr>\n",
       "      <th>9</th>\n",
       "      <td>IAH</td>\n",
       "      <td>354379</td>\n",
       "      <td>354337</td>\n",
       "      <td>708716</td>\n",
       "    </tr>\n",
       "    <tr>\n",
       "      <th>10</th>\n",
       "      <td>DTW</td>\n",
       "      <td>351618</td>\n",
       "      <td>351574</td>\n",
       "      <td>703192</td>\n",
       "    </tr>\n",
       "  </tbody>\n",
       "</table>\n",
       "</div>"
      ],
      "text/plain": [
       "   origin  total_arr  total_dest  total_flights\n",
       "0     ORD     790253      790129        1580382\n",
       "1     ATL     785850      785885        1571735\n",
       "2     DFW     584688      584602        1169290\n",
       "3     DEN     552134      552181        1104315\n",
       "4     CLT     501557      501492        1003049\n",
       "5     LAX     500840      500925        1001765\n",
       "6     SEA     379367      379340         758707\n",
       "7     SFO     357626      357770         715396\n",
       "8     PHX     355485      355462         710947\n",
       "9     IAH     354379      354337         708716\n",
       "10    DTW     351618      351574         703192"
      ]
     },
     "execution_count": 30,
     "metadata": {},
     "output_type": "execute_result"
    }
   ],
   "source": [
    "busy_airports.head(11)"
   ]
  },
  {
   "cell_type": "code",
   "execution_count": 31,
   "metadata": {},
   "outputs": [],
   "source": [
    "busy_airports[['origin', 'total_flights']].to_csv(path+'busy_feature.csv')"
   ]
  },
  {
   "cell_type": "raw",
   "metadata": {},
   "source": [
    "Task 9: Find the top 10 the bussiest airports. Does the biggest number of flights mean that the biggest number of passengers went through the particular airport? How much traffic do these 10 airports cover?"
   ]
  },
  {
   "cell_type": "code",
   "execution_count": 32,
   "metadata": {},
   "outputs": [],
   "source": [
    "#storing cumulative air traffic so I can visualize it later\n",
    "cum_air_traffic = np.cumsum(busy_airports['total'])"
   ]
  },
  {
   "cell_type": "code",
   "execution_count": 33,
   "metadata": {},
   "outputs": [],
   "source": [
    "busy_airports['cumulative_airtraffic_total']=cum_air_traffic"
   ]
  },
  {
   "cell_type": "code",
   "execution_count": 35,
   "metadata": {},
   "outputs": [],
   "source": [
    "#calculating the percentage of flights (of total in database) through each airport \n",
    "busy_airports['perc_flights']=busy_airports['total']/sum(busy_airports['total'])"
   ]
  },
  {
   "cell_type": "code",
   "execution_count": 36,
   "metadata": {},
   "outputs": [],
   "source": [
    "cum_air_perc = np.cumsum(busy_airports['perc_flights'])"
   ]
  },
  {
   "cell_type": "code",
   "execution_count": 37,
   "metadata": {},
   "outputs": [],
   "source": [
    "busy_airports['cumulative_perc_flights']=cum_air_perc"
   ]
  },
  {
   "cell_type": "code",
   "execution_count": 38,
   "metadata": {},
   "outputs": [
    {
     "data": {
      "text/plain": [
       "0.31840492535796006"
      ]
     },
     "execution_count": 38,
     "metadata": {},
     "output_type": "execute_result"
    }
   ],
   "source": [
    "busy_airports['cumulative_perc_flights'].head(10).iloc[-1]"
   ]
  },
  {
   "cell_type": "code",
   "execution_count": 39,
   "metadata": {},
   "outputs": [
    {
     "data": {
      "text/html": [
       "<div>\n",
       "<style scoped>\n",
       "    .dataframe tbody tr th:only-of-type {\n",
       "        vertical-align: middle;\n",
       "    }\n",
       "\n",
       "    .dataframe tbody tr th {\n",
       "        vertical-align: top;\n",
       "    }\n",
       "\n",
       "    .dataframe thead th {\n",
       "        text-align: right;\n",
       "    }\n",
       "</style>\n",
       "<table border=\"1\" class=\"dataframe\">\n",
       "  <thead>\n",
       "    <tr style=\"text-align: right;\">\n",
       "      <th></th>\n",
       "      <th>Airport_Code</th>\n",
       "      <th>total_arr</th>\n",
       "      <th>total_dest</th>\n",
       "      <th>total</th>\n",
       "      <th>cumulative_airtraffic_total</th>\n",
       "      <th>perc_flights</th>\n",
       "      <th>cumulative_perc_flights</th>\n",
       "    </tr>\n",
       "  </thead>\n",
       "  <tbody>\n",
       "    <tr>\n",
       "      <th>0</th>\n",
       "      <td>ATL</td>\n",
       "      <td>16805</td>\n",
       "      <td>16349</td>\n",
       "      <td>33154</td>\n",
       "      <td>33154</td>\n",
       "      <td>0.055257</td>\n",
       "      <td>0.055257</td>\n",
       "    </tr>\n",
       "    <tr>\n",
       "      <th>1</th>\n",
       "      <td>ORD</td>\n",
       "      <td>13654</td>\n",
       "      <td>12055</td>\n",
       "      <td>25709</td>\n",
       "      <td>58863</td>\n",
       "      <td>0.042849</td>\n",
       "      <td>0.098105</td>\n",
       "    </tr>\n",
       "    <tr>\n",
       "      <th>2</th>\n",
       "      <td>DFW</td>\n",
       "      <td>11766</td>\n",
       "      <td>10784</td>\n",
       "      <td>22550</td>\n",
       "      <td>81413</td>\n",
       "      <td>0.037584</td>\n",
       "      <td>0.135689</td>\n",
       "    </tr>\n",
       "    <tr>\n",
       "      <th>3</th>\n",
       "      <td>DEN</td>\n",
       "      <td>11255</td>\n",
       "      <td>10988</td>\n",
       "      <td>22243</td>\n",
       "      <td>103656</td>\n",
       "      <td>0.037072</td>\n",
       "      <td>0.172761</td>\n",
       "    </tr>\n",
       "    <tr>\n",
       "      <th>4</th>\n",
       "      <td>CLT</td>\n",
       "      <td>9676</td>\n",
       "      <td>7957</td>\n",
       "      <td>17633</td>\n",
       "      <td>121289</td>\n",
       "      <td>0.029388</td>\n",
       "      <td>0.202149</td>\n",
       "    </tr>\n",
       "    <tr>\n",
       "      <th>5</th>\n",
       "      <td>LAX</td>\n",
       "      <td>7537</td>\n",
       "      <td>6115</td>\n",
       "      <td>13652</td>\n",
       "      <td>134941</td>\n",
       "      <td>0.022753</td>\n",
       "      <td>0.224903</td>\n",
       "    </tr>\n",
       "    <tr>\n",
       "      <th>6</th>\n",
       "      <td>IAH</td>\n",
       "      <td>7233</td>\n",
       "      <td>7383</td>\n",
       "      <td>14616</td>\n",
       "      <td>149557</td>\n",
       "      <td>0.024360</td>\n",
       "      <td>0.249263</td>\n",
       "    </tr>\n",
       "    <tr>\n",
       "      <th>7</th>\n",
       "      <td>PHX</td>\n",
       "      <td>6918</td>\n",
       "      <td>6408</td>\n",
       "      <td>13326</td>\n",
       "      <td>162883</td>\n",
       "      <td>0.022210</td>\n",
       "      <td>0.271473</td>\n",
       "    </tr>\n",
       "    <tr>\n",
       "      <th>8</th>\n",
       "      <td>DTW</td>\n",
       "      <td>6747</td>\n",
       "      <td>7498</td>\n",
       "      <td>14245</td>\n",
       "      <td>177128</td>\n",
       "      <td>0.023742</td>\n",
       "      <td>0.295215</td>\n",
       "    </tr>\n",
       "    <tr>\n",
       "      <th>9</th>\n",
       "      <td>MSP</td>\n",
       "      <td>6728</td>\n",
       "      <td>7186</td>\n",
       "      <td>13914</td>\n",
       "      <td>191042</td>\n",
       "      <td>0.023190</td>\n",
       "      <td>0.318405</td>\n",
       "    </tr>\n",
       "  </tbody>\n",
       "</table>\n",
       "</div>"
      ],
      "text/plain": [
       "  Airport_Code  total_arr  total_dest  total  cumulative_airtraffic_total  \\\n",
       "0          ATL      16805       16349  33154                        33154   \n",
       "1          ORD      13654       12055  25709                        58863   \n",
       "2          DFW      11766       10784  22550                        81413   \n",
       "3          DEN      11255       10988  22243                       103656   \n",
       "4          CLT       9676        7957  17633                       121289   \n",
       "5          LAX       7537        6115  13652                       134941   \n",
       "6          IAH       7233        7383  14616                       149557   \n",
       "7          PHX       6918        6408  13326                       162883   \n",
       "8          DTW       6747        7498  14245                       177128   \n",
       "9          MSP       6728        7186  13914                       191042   \n",
       "\n",
       "   perc_flights  cumulative_perc_flights  \n",
       "0      0.055257                 0.055257  \n",
       "1      0.042849                 0.098105  \n",
       "2      0.037584                 0.135689  \n",
       "3      0.037072                 0.172761  \n",
       "4      0.029388                 0.202149  \n",
       "5      0.022753                 0.224903  \n",
       "6      0.024360                 0.249263  \n",
       "7      0.022210                 0.271473  \n",
       "8      0.023742                 0.295215  \n",
       "9      0.023190                 0.318405  "
      ]
     },
     "execution_count": 39,
     "metadata": {},
     "output_type": "execute_result"
    }
   ],
   "source": [
    "busy_airports.head(10)"
   ]
  },
  {
   "cell_type": "code",
   "execution_count": 1,
   "metadata": {},
   "outputs": [
    {
     "ename": "NameError",
     "evalue": "name 'busy_airports' is not defined",
     "output_type": "error",
     "traceback": [
      "\u001b[0;31m---------------------------------------------------------------------------\u001b[0m",
      "\u001b[0;31mNameError\u001b[0m                                 Traceback (most recent call last)",
      "\u001b[0;32m<ipython-input-1-fca5f202e3a7>\u001b[0m in \u001b[0;36m<module>\u001b[0;34m\u001b[0m\n\u001b[0;32m----> 1\u001b[0;31m \u001b[0mbusy_airports\u001b[0m\u001b[0;34m[\u001b[0m\u001b[0;34m[\u001b[0m\u001b[0;34m'Airport_Code'\u001b[0m\u001b[0;34m,\u001b[0m\u001b[0;34m'total_arr'\u001b[0m\u001b[0;34m,\u001b[0m\u001b[0;34m'total_dest'\u001b[0m\u001b[0;34m,\u001b[0m\u001b[0;34m'total'\u001b[0m\u001b[0;34m]\u001b[0m\u001b[0;34m]\u001b[0m\u001b[0;34m.\u001b[0m\u001b[0mhead\u001b[0m\u001b[0;34m(\u001b[0m\u001b[0;36m10\u001b[0m\u001b[0;34m)\u001b[0m\u001b[0;34m\u001b[0m\u001b[0;34m\u001b[0m\u001b[0m\n\u001b[0m",
      "\u001b[0;31mNameError\u001b[0m: name 'busy_airports' is not defined"
     ]
    }
   ],
   "source": [
    "busy_airports[['Airport_Code','total_arr','total_dest','total']].head(10)"
   ]
  },
  {
   "cell_type": "code",
   "execution_count": 40,
   "metadata": {},
   "outputs": [
    {
     "name": "stdout",
     "output_type": "stream",
     "text": [
      "Top 10 busiest airports are:  ['ATL', 'ORD', 'DFW', 'DEN', 'CLT', 'LAX', 'IAH', 'PHX', 'DTW', 'MSP'] in descending order of air traffic\n"
     ]
    }
   ],
   "source": [
    "print('Top 10 busiest airports are: ', list(busy_airports['Airport_Code'].head(10)), 'in descending order of air traffic')"
   ]
  },
  {
   "cell_type": "code",
   "execution_count": 41,
   "metadata": {},
   "outputs": [
    {
     "name": "stdout",
     "output_type": "stream",
     "text": [
      "They make up:  32.0 percent of all air traffic in the US\n"
     ]
    }
   ],
   "source": [
    "print('They make up: ', round(busy_airports['cumulative_perc_flights'].head(10).iloc[-1],2)*100, 'percent of all air traffic in the US')"
   ]
  },
  {
   "cell_type": "code",
   "execution_count": 42,
   "metadata": {},
   "outputs": [
    {
     "name": "stdout",
     "output_type": "stream",
     "text": [
      "This amounts to 191042 flights\n"
     ]
    }
   ],
   "source": [
    "print('This amounts to',busy_airports['cumulative_airtraffic_total'].head(10).iloc[-1], 'flights')"
   ]
  },
  {
   "cell_type": "markdown",
   "metadata": {},
   "source": [
    "### Part 2 - link to passengers table and see if # passengers coincides with # flights"
   ]
  },
  {
   "cell_type": "raw",
   "metadata": {},
   "source": [
    "Does the biggest number of flights mean that the biggest number of passengers went through the particular airport?\n",
    "\n",
    "Could check if these are correlated? Then perform null hypoth testing on it"
   ]
  },
  {
   "cell_type": "code",
   "execution_count": 43,
   "metadata": {},
   "outputs": [],
   "source": [
    "path='/Users/carlyfennell/DataScience/data_bootcamp/data/'\n",
    "df_pass=pd.read_csv(path+'P_clean.csv')"
   ]
  },
  {
   "cell_type": "code",
   "execution_count": 44,
   "metadata": {
    "collapsed": true,
    "jupyter": {
     "outputs_hidden": true
    }
   },
   "outputs": [
    {
     "data": {
      "text/plain": [
       "Index(['departures_scheduled', 'departures_performed', 'payload', 'seats',\n",
       "       'passengers', 'freight', 'mail', 'distance', 'ramp_to_ramp', 'air_time',\n",
       "       'unique_carrier', 'airline_id', 'unique_carrier_name', 'region',\n",
       "       'carrier', 'carrier_name', 'carrier_group', 'carrier_group_new',\n",
       "       'origin_airport_id', 'origin_city_market_id', 'origin',\n",
       "       'origin_city_name', 'origin_country', 'origin_country_name',\n",
       "       'dest_airport_id', 'dest_city_market_id', 'dest', 'dest_city_name',\n",
       "       'dest_country', 'dest_country_name', 'aircraft_group', 'aircraft_type',\n",
       "       'aircraft_config', 'year', 'month', 'distance_group', 'class',\n",
       "       'data_source'],\n",
       "      dtype='object')"
      ]
     },
     "execution_count": 44,
     "metadata": {},
     "output_type": "execute_result"
    }
   ],
   "source": [
    "df_pass.columns"
   ]
  },
  {
   "cell_type": "code",
   "execution_count": 45,
   "metadata": {},
   "outputs": [],
   "source": [
    "# identify columns that overlap between two tables\n",
    "set1=set(df_pass.columns)\n",
    "set2=set(df_flights_sample.columns)\n",
    "set1&set2"
   ]
  },
  {
   "cell_type": "raw",
   "metadata": {},
   "source": [
    "This means I can create a new dataframe and match origin/dest airport Id's. After looking at documentation - it is most accurate to match on id's and not airport codes - because codes can be reused over time. (see documentation)"
   ]
  },
  {
   "cell_type": "code",
   "execution_count": 48,
   "metadata": {},
   "outputs": [],
   "source": [
    "df_p_slice=df_pass[['dest','origin','passengers','payload','seats','dest_airport_id','origin_airport_id']]"
   ]
  },
  {
   "cell_type": "code",
   "execution_count": 49,
   "metadata": {},
   "outputs": [
    {
     "data": {
      "text/plain": [
       "2564"
      ]
     },
     "execution_count": 49,
     "metadata": {},
     "output_type": "execute_result"
    }
   ],
   "source": [
    "len(list(df_pass['dest_airport_id'].unique()))"
   ]
  },
  {
   "cell_type": "raw",
   "metadata": {},
   "source": [
    "The unique values for airport_id within the Passengers table is FAR greater than those within the Flights table. Likely due to hobby airports or freight/cargo airports"
   ]
  },
  {
   "cell_type": "code",
   "execution_count": 51,
   "metadata": {
    "collapsed": true,
    "jupyter": {
     "outputs_hidden": true
    }
   },
   "outputs": [
    {
     "data": {
      "text/plain": [
       "Index(['mkt_carrier_fl_num', 'op_carrier_fl_num', 'origin_airport_id',\n",
       "       'dest_airport_id', 'crs_dep_time', 'dep_time', 'dep_delay', 'taxi_out',\n",
       "       'wheels_off', 'wheels_on', 'taxi_in', 'crs_arr_time', 'arr_time',\n",
       "       'arr_delay', 'crs_elapsed_time', 'actual_elapsed_time', 'air_time',\n",
       "       'distance', 'tail_num', 'origin', 'dest', 'bin_mkt_unique_carrier',\n",
       "       'bin_branded_code_share', 'bin_mkt_carrier', 'bin_op_unique_carrier',\n",
       "       'year', 'month', 'date', 'origin_city', 'origin_state', 'dest_city',\n",
       "       'dest_state'],\n",
       "      dtype='object')"
      ]
     },
     "execution_count": 51,
     "metadata": {},
     "output_type": "execute_result"
    }
   ],
   "source": [
    "df_flights_sample.columns"
   ]
  },
  {
   "cell_type": "code",
   "execution_count": 52,
   "metadata": {},
   "outputs": [],
   "source": [
    "#Slicing dataframe where I need it (to help computation in future)\n",
    "df_flight_slice=df_flights_sample[['origin_airport_id',\n",
    "       'dest_airport_id','origin', 'dest']]"
   ]
  },
  {
   "cell_type": "code",
   "execution_count": 56,
   "metadata": {},
   "outputs": [
    {
     "data": {
      "text/plain": [
       "374"
      ]
     },
     "execution_count": 56,
     "metadata": {},
     "output_type": "execute_result"
    }
   ],
   "source": [
    "len(df_flights_sample['origin_airport_id'].unique())"
   ]
  },
  {
   "cell_type": "code",
   "execution_count": 57,
   "metadata": {},
   "outputs": [
    {
     "data": {
      "text/plain": [
       "373"
      ]
     },
     "execution_count": 57,
     "metadata": {},
     "output_type": "execute_result"
    }
   ],
   "source": [
    "len(df_flights_sample['dest_airport_id'].unique())"
   ]
  },
  {
   "cell_type": "code",
   "execution_count": 58,
   "metadata": {},
   "outputs": [],
   "source": [
    "setA=set(df_flights_sample['origin_airport_id'].unique())"
   ]
  },
  {
   "cell_type": "code",
   "execution_count": 59,
   "metadata": {},
   "outputs": [],
   "source": [
    "setB=set(df_flights_sample['dest_airport_id'].unique())"
   ]
  },
  {
   "cell_type": "code",
   "execution_count": 60,
   "metadata": {},
   "outputs": [
    {
     "data": {
      "text/plain": [
       "{10590}"
      ]
     },
     "execution_count": 60,
     "metadata": {},
     "output_type": "execute_result"
    }
   ],
   "source": [
    "#double checking to ensure the origin and dest airport id lists are the \n",
    "#exact same (so I can filter dataframes off this)\n",
    "setA^setB"
   ]
  },
  {
   "cell_type": "code",
   "execution_count": 62,
   "metadata": {},
   "outputs": [],
   "source": [
    "#creating list of \"codes to keep\" to filter passenger table with\n",
    "code_to_keep=df_flights_sample['origin_airport_id'].unique()"
   ]
  },
  {
   "cell_type": "code",
   "execution_count": 63,
   "metadata": {},
   "outputs": [
    {
     "data": {
      "text/plain": [
       "(2350494, 7)"
      ]
     },
     "execution_count": 63,
     "metadata": {},
     "output_type": "execute_result"
    }
   ],
   "source": [
    "df_p_slice.shape"
   ]
  },
  {
   "cell_type": "code",
   "execution_count": 64,
   "metadata": {},
   "outputs": [],
   "source": [
    "### Filter dataframe via list \n",
    "#https://stackoverflow.com/questions/19960077/how-to-filter-pandas-dataframe-using-in-and-not-in-like-in-sql\n",
    "df_p_filt=df_p_slice[df_p_slice['origin_airport_id'].isin(code_to_keep)]"
   ]
  },
  {
   "cell_type": "code",
   "execution_count": 65,
   "metadata": {},
   "outputs": [
    {
     "data": {
      "text/plain": [
       "(1870298, 7)"
      ]
     },
     "execution_count": 65,
     "metadata": {},
     "output_type": "execute_result"
    }
   ],
   "source": [
    "#this shows that we went from 2.35 million rows to 1.87 by filtering out dataframe \n",
    "# to only include airports in our flights table\n",
    "df_p_filt.shape"
   ]
  },
  {
   "cell_type": "code",
   "execution_count": 66,
   "metadata": {
    "collapsed": true,
    "jupyter": {
     "outputs_hidden": true
    }
   },
   "outputs": [
    {
     "data": {
      "text/html": [
       "<div>\n",
       "<style scoped>\n",
       "    .dataframe tbody tr th:only-of-type {\n",
       "        vertical-align: middle;\n",
       "    }\n",
       "\n",
       "    .dataframe tbody tr th {\n",
       "        vertical-align: top;\n",
       "    }\n",
       "\n",
       "    .dataframe thead th {\n",
       "        text-align: right;\n",
       "    }\n",
       "</style>\n",
       "<table border=\"1\" class=\"dataframe\">\n",
       "  <thead>\n",
       "    <tr style=\"text-align: right;\">\n",
       "      <th></th>\n",
       "      <th>dest</th>\n",
       "      <th>origin</th>\n",
       "      <th>passengers</th>\n",
       "      <th>payload</th>\n",
       "      <th>seats</th>\n",
       "      <th>dest_airport_id</th>\n",
       "      <th>origin_airport_id</th>\n",
       "    </tr>\n",
       "  </thead>\n",
       "  <tbody>\n",
       "    <tr>\n",
       "      <th>0</th>\n",
       "      <td>HPB</td>\n",
       "      <td>BET</td>\n",
       "      <td>2</td>\n",
       "      <td>1200</td>\n",
       "      <td>6</td>\n",
       "      <td>12195</td>\n",
       "      <td>10551</td>\n",
       "    </tr>\n",
       "    <tr>\n",
       "      <th>1</th>\n",
       "      <td>HPB</td>\n",
       "      <td>BET</td>\n",
       "      <td>2</td>\n",
       "      <td>1800</td>\n",
       "      <td>9</td>\n",
       "      <td>12195</td>\n",
       "      <td>10551</td>\n",
       "    </tr>\n",
       "    <tr>\n",
       "      <th>2</th>\n",
       "      <td>HPB</td>\n",
       "      <td>BET</td>\n",
       "      <td>68</td>\n",
       "      <td>114800</td>\n",
       "      <td>369</td>\n",
       "      <td>12195</td>\n",
       "      <td>10551</td>\n",
       "    </tr>\n",
       "    <tr>\n",
       "      <th>3</th>\n",
       "      <td>KKH</td>\n",
       "      <td>BET</td>\n",
       "      <td>13</td>\n",
       "      <td>11200</td>\n",
       "      <td>56</td>\n",
       "      <td>12708</td>\n",
       "      <td>10551</td>\n",
       "    </tr>\n",
       "    <tr>\n",
       "      <th>4</th>\n",
       "      <td>KKH</td>\n",
       "      <td>BET</td>\n",
       "      <td>8</td>\n",
       "      <td>7200</td>\n",
       "      <td>36</td>\n",
       "      <td>12708</td>\n",
       "      <td>10551</td>\n",
       "    </tr>\n",
       "  </tbody>\n",
       "</table>\n",
       "</div>"
      ],
      "text/plain": [
       "  dest origin  passengers  payload  seats  dest_airport_id  origin_airport_id\n",
       "0  HPB    BET           2     1200      6            12195              10551\n",
       "1  HPB    BET           2     1800      9            12195              10551\n",
       "2  HPB    BET          68   114800    369            12195              10551\n",
       "3  KKH    BET          13    11200     56            12708              10551\n",
       "4  KKH    BET           8     7200     36            12708              10551"
      ]
     },
     "execution_count": 66,
     "metadata": {},
     "output_type": "execute_result"
    }
   ],
   "source": [
    "df_p_filt.head()"
   ]
  },
  {
   "cell_type": "code",
   "execution_count": 67,
   "metadata": {},
   "outputs": [],
   "source": [
    "# MERGY DONT LIKEY\n",
    "# Doing merges crashed my kernel many times - Merging not computationally feasible on \n",
    "# huge datasets\n",
    "#df_flight_slice.merge(df_p_filt,on='origin_airport_id',how='inner')"
   ]
  },
  {
   "cell_type": "code",
   "execution_count": 110,
   "metadata": {},
   "outputs": [
    {
     "ename": "SyntaxError",
     "evalue": "invalid syntax (<ipython-input-110-baa9779fdb1e>, line 1)",
     "output_type": "error",
     "traceback": [
      "\u001b[0;36m  File \u001b[0;32m\"<ipython-input-110-baa9779fdb1e>\"\u001b[0;36m, line \u001b[0;32m1\u001b[0m\n\u001b[0;31m    pass_origin=df_p_filt[['origin_airport_id','passengers']]/\u001b[0m\n\u001b[0m                                                              ^\u001b[0m\n\u001b[0;31mSyntaxError\u001b[0m\u001b[0;31m:\u001b[0m invalid syntax\n"
     ]
    }
   ],
   "source": [
    "## grouping filtered passenger table by origin and summing # passengers through each airport\n",
    "pass_origin=df_p_filt[['origin_airport_id','passengers']].groupby('origin_airport_id').sum().sort_values('passengers',ascending=False)                                                                                                                                                                                                                                                                                                         "
   ]
  },
  {
   "cell_type": "code",
   "execution_count": 69,
   "metadata": {},
   "outputs": [],
   "source": [
    "## filtering Passengers table based on dest airport id codes\n",
    "df_p_filt2=df_p_slice[df_p_slice['dest_airport_id'].isin(code_to_keep)]"
   ]
  },
  {
   "cell_type": "code",
   "execution_count": 70,
   "metadata": {},
   "outputs": [],
   "source": [
    "## grouping filtered passenger table by destination and summing # passengers through each airport\n",
    "pass_dest=df_p_filt2[['dest_airport_id','passengers']].groupby('dest_airport_id').sum().sort_values('passengers',ascending=False)"
   ]
  },
  {
   "cell_type": "code",
   "execution_count": 71,
   "metadata": {},
   "outputs": [],
   "source": [
    "busy_passengers=pd.concat([pass_origin,pass_dest],axis=1,join='inner',ignore_index=True)"
   ]
  },
  {
   "cell_type": "code",
   "execution_count": 72,
   "metadata": {},
   "outputs": [],
   "source": [
    "busy_passengers=busy_passengers.rename(columns={0:'org_passengers',1:'dest_passengers'})"
   ]
  },
  {
   "cell_type": "code",
   "execution_count": 73,
   "metadata": {},
   "outputs": [],
   "source": [
    "busy_passengers['total_passengers']=busy_passengers['org_passengers']+busy_passengers['dest_passengers']"
   ]
  },
  {
   "cell_type": "code",
   "execution_count": 74,
   "metadata": {},
   "outputs": [
    {
     "data": {
      "text/html": [
       "<div>\n",
       "<style scoped>\n",
       "    .dataframe tbody tr th:only-of-type {\n",
       "        vertical-align: middle;\n",
       "    }\n",
       "\n",
       "    .dataframe tbody tr th {\n",
       "        vertical-align: top;\n",
       "    }\n",
       "\n",
       "    .dataframe thead th {\n",
       "        text-align: right;\n",
       "    }\n",
       "</style>\n",
       "<table border=\"1\" class=\"dataframe\">\n",
       "  <thead>\n",
       "    <tr style=\"text-align: right;\">\n",
       "      <th></th>\n",
       "      <th>org_passengers</th>\n",
       "      <th>dest_passengers</th>\n",
       "      <th>total_passengers</th>\n",
       "    </tr>\n",
       "  </thead>\n",
       "  <tbody>\n",
       "    <tr>\n",
       "      <th>10397</th>\n",
       "      <td>257478059</td>\n",
       "      <td>257786488</td>\n",
       "      <td>515264547</td>\n",
       "    </tr>\n",
       "    <tr>\n",
       "      <th>12892</th>\n",
       "      <td>205745255</td>\n",
       "      <td>205188513</td>\n",
       "      <td>410933768</td>\n",
       "    </tr>\n",
       "    <tr>\n",
       "      <th>13930</th>\n",
       "      <td>194019087</td>\n",
       "      <td>194589089</td>\n",
       "      <td>388608176</td>\n",
       "    </tr>\n",
       "    <tr>\n",
       "      <th>11298</th>\n",
       "      <td>163888490</td>\n",
       "      <td>164225714</td>\n",
       "      <td>328114204</td>\n",
       "    </tr>\n",
       "    <tr>\n",
       "      <th>11292</th>\n",
       "      <td>151024252</td>\n",
       "      <td>151120966</td>\n",
       "      <td>302145218</td>\n",
       "    </tr>\n",
       "    <tr>\n",
       "      <th>12478</th>\n",
       "      <td>148927079</td>\n",
       "      <td>150154185</td>\n",
       "      <td>299081264</td>\n",
       "    </tr>\n",
       "    <tr>\n",
       "      <th>14771</th>\n",
       "      <td>133266076</td>\n",
       "      <td>134024630</td>\n",
       "      <td>267290706</td>\n",
       "    </tr>\n",
       "    <tr>\n",
       "      <th>12889</th>\n",
       "      <td>117526251</td>\n",
       "      <td>117605384</td>\n",
       "      <td>235131635</td>\n",
       "    </tr>\n",
       "    <tr>\n",
       "      <th>14747</th>\n",
       "      <td>113960665</td>\n",
       "      <td>114272139</td>\n",
       "      <td>228232804</td>\n",
       "    </tr>\n",
       "    <tr>\n",
       "      <th>11057</th>\n",
       "      <td>112838675</td>\n",
       "      <td>113164033</td>\n",
       "      <td>226002708</td>\n",
       "    </tr>\n",
       "  </tbody>\n",
       "</table>\n",
       "</div>"
      ],
      "text/plain": [
       "       org_passengers  dest_passengers  total_passengers\n",
       "10397       257478059        257786488         515264547\n",
       "12892       205745255        205188513         410933768\n",
       "13930       194019087        194589089         388608176\n",
       "11298       163888490        164225714         328114204\n",
       "11292       151024252        151120966         302145218\n",
       "12478       148927079        150154185         299081264\n",
       "14771       133266076        134024630         267290706\n",
       "12889       117526251        117605384         235131635\n",
       "14747       113960665        114272139         228232804\n",
       "11057       112838675        113164033         226002708"
      ]
     },
     "execution_count": 74,
     "metadata": {},
     "output_type": "execute_result"
    }
   ],
   "source": [
    "busy_passengers.sort_values(by='total_passengers',ascending=False).head(10)"
   ]
  },
  {
   "cell_type": "code",
   "execution_count": 76,
   "metadata": {},
   "outputs": [],
   "source": [
    "# Add Airport_id to dataframe with flight totals\n",
    "\n",
    "air_id=[]\n",
    "for i in range(len(busy_airports)):\n",
    "    air_id.append(airport_id_dict[busy_airports['Airport_Code'][i]])\n"
   ]
  },
  {
   "cell_type": "code",
   "execution_count": 77,
   "metadata": {},
   "outputs": [],
   "source": [
    "busy_airports['airport_id']=air_id"
   ]
  },
  {
   "cell_type": "code",
   "execution_count": 78,
   "metadata": {},
   "outputs": [],
   "source": [
    "busy_airports=busy_airports.rename(columns={'total':'total_flights'})"
   ]
  },
  {
   "cell_type": "code",
   "execution_count": 79,
   "metadata": {},
   "outputs": [
    {
     "data": {
      "text/html": [
       "<div>\n",
       "<style scoped>\n",
       "    .dataframe tbody tr th:only-of-type {\n",
       "        vertical-align: middle;\n",
       "    }\n",
       "\n",
       "    .dataframe tbody tr th {\n",
       "        vertical-align: top;\n",
       "    }\n",
       "\n",
       "    .dataframe thead th {\n",
       "        text-align: right;\n",
       "    }\n",
       "</style>\n",
       "<table border=\"1\" class=\"dataframe\">\n",
       "  <thead>\n",
       "    <tr style=\"text-align: right;\">\n",
       "      <th></th>\n",
       "      <th>Airport_Code</th>\n",
       "      <th>total_arr</th>\n",
       "      <th>total_dest</th>\n",
       "      <th>total_flights</th>\n",
       "      <th>cumulative_airtraffic_total</th>\n",
       "      <th>perc_flights</th>\n",
       "      <th>cumulative_perc_flights</th>\n",
       "      <th>airport_id</th>\n",
       "    </tr>\n",
       "  </thead>\n",
       "  <tbody>\n",
       "    <tr>\n",
       "      <th>0</th>\n",
       "      <td>ATL</td>\n",
       "      <td>16805</td>\n",
       "      <td>16349</td>\n",
       "      <td>33154</td>\n",
       "      <td>33154</td>\n",
       "      <td>0.055257</td>\n",
       "      <td>0.055257</td>\n",
       "      <td>10397</td>\n",
       "    </tr>\n",
       "    <tr>\n",
       "      <th>1</th>\n",
       "      <td>ORD</td>\n",
       "      <td>13654</td>\n",
       "      <td>12055</td>\n",
       "      <td>25709</td>\n",
       "      <td>58863</td>\n",
       "      <td>0.042849</td>\n",
       "      <td>0.098105</td>\n",
       "      <td>13930</td>\n",
       "    </tr>\n",
       "    <tr>\n",
       "      <th>2</th>\n",
       "      <td>DFW</td>\n",
       "      <td>11766</td>\n",
       "      <td>10784</td>\n",
       "      <td>22550</td>\n",
       "      <td>81413</td>\n",
       "      <td>0.037584</td>\n",
       "      <td>0.135689</td>\n",
       "      <td>11298</td>\n",
       "    </tr>\n",
       "    <tr>\n",
       "      <th>3</th>\n",
       "      <td>DEN</td>\n",
       "      <td>11255</td>\n",
       "      <td>10988</td>\n",
       "      <td>22243</td>\n",
       "      <td>103656</td>\n",
       "      <td>0.037072</td>\n",
       "      <td>0.172761</td>\n",
       "      <td>11292</td>\n",
       "    </tr>\n",
       "    <tr>\n",
       "      <th>4</th>\n",
       "      <td>CLT</td>\n",
       "      <td>9676</td>\n",
       "      <td>7957</td>\n",
       "      <td>17633</td>\n",
       "      <td>121289</td>\n",
       "      <td>0.029388</td>\n",
       "      <td>0.202149</td>\n",
       "      <td>11057</td>\n",
       "    </tr>\n",
       "  </tbody>\n",
       "</table>\n",
       "</div>"
      ],
      "text/plain": [
       "  Airport_Code  total_arr  total_dest  total_flights  \\\n",
       "0          ATL      16805       16349          33154   \n",
       "1          ORD      13654       12055          25709   \n",
       "2          DFW      11766       10784          22550   \n",
       "3          DEN      11255       10988          22243   \n",
       "4          CLT       9676        7957          17633   \n",
       "\n",
       "   cumulative_airtraffic_total  perc_flights  cumulative_perc_flights  \\\n",
       "0                        33154      0.055257                 0.055257   \n",
       "1                        58863      0.042849                 0.098105   \n",
       "2                        81413      0.037584                 0.135689   \n",
       "3                       103656      0.037072                 0.172761   \n",
       "4                       121289      0.029388                 0.202149   \n",
       "\n",
       "   airport_id  \n",
       "0       10397  \n",
       "1       13930  \n",
       "2       11298  \n",
       "3       11292  \n",
       "4       11057  "
      ]
     },
     "execution_count": 79,
     "metadata": {},
     "output_type": "execute_result"
    }
   ],
   "source": [
    "busy_airports.head()"
   ]
  },
  {
   "cell_type": "code",
   "execution_count": 80,
   "metadata": {},
   "outputs": [],
   "source": [
    "busy_passengers=busy_passengers.reset_index().rename(columns={'index':'airport_id'})"
   ]
  },
  {
   "cell_type": "code",
   "execution_count": 81,
   "metadata": {},
   "outputs": [],
   "source": [
    "#creating dataframe that will finally have # passengers with # flights for each airport id\n",
    "flight_pass=busy_airports.merge(busy_passengers,on='airport_id',how='inner')"
   ]
  },
  {
   "cell_type": "code",
   "execution_count": 82,
   "metadata": {},
   "outputs": [
    {
     "data": {
      "text/plain": [
       "Index(['Airport_Code', 'total_arr', 'total_dest', 'total_flights',\n",
       "       'cumulative_airtraffic_total', 'perc_flights',\n",
       "       'cumulative_perc_flights', 'airport_id', 'org_passengers',\n",
       "       'dest_passengers', 'total_passengers'],\n",
       "      dtype='object')"
      ]
     },
     "execution_count": 82,
     "metadata": {},
     "output_type": "execute_result"
    }
   ],
   "source": [
    "flight_pass.columns"
   ]
  },
  {
   "cell_type": "code",
   "execution_count": 83,
   "metadata": {},
   "outputs": [
    {
     "data": {
      "text/html": [
       "<div>\n",
       "<style scoped>\n",
       "    .dataframe tbody tr th:only-of-type {\n",
       "        vertical-align: middle;\n",
       "    }\n",
       "\n",
       "    .dataframe tbody tr th {\n",
       "        vertical-align: top;\n",
       "    }\n",
       "\n",
       "    .dataframe thead th {\n",
       "        text-align: right;\n",
       "    }\n",
       "</style>\n",
       "<table border=\"1\" class=\"dataframe\">\n",
       "  <thead>\n",
       "    <tr style=\"text-align: right;\">\n",
       "      <th></th>\n",
       "      <th>total_flights</th>\n",
       "      <th>total_passengers</th>\n",
       "    </tr>\n",
       "  </thead>\n",
       "  <tbody>\n",
       "    <tr>\n",
       "      <th>total_flights</th>\n",
       "      <td>1.000000</td>\n",
       "      <td>0.947819</td>\n",
       "    </tr>\n",
       "    <tr>\n",
       "      <th>total_passengers</th>\n",
       "      <td>0.947819</td>\n",
       "      <td>1.000000</td>\n",
       "    </tr>\n",
       "  </tbody>\n",
       "</table>\n",
       "</div>"
      ],
      "text/plain": [
       "                  total_flights  total_passengers\n",
       "total_flights          1.000000          0.947819\n",
       "total_passengers       0.947819          1.000000"
      ]
     },
     "execution_count": 83,
     "metadata": {},
     "output_type": "execute_result"
    }
   ],
   "source": [
    "flight_pass[['Airport_Code','total_flights','total_passengers']].corr()"
   ]
  },
  {
   "cell_type": "code",
   "execution_count": 84,
   "metadata": {},
   "outputs": [
    {
     "data": {
      "image/png": "[encoded data removed]",
      "text/plain": [
       "<Figure size 576x396 with 2 Axes>"
      ]
     },
     "metadata": {},
     "output_type": "display_data"
    }
   ],
   "source": [
    "# compute correlations between features\n",
    "df_corr = flight_pass[['Airport_Code','total_flights','total_passengers']].corr()\n",
    "\n",
    "# plot the correlations\n",
    "sns.heatmap(df_corr)\n",
    "plt.title('Correlation plot')\n",
    "plt.show()"
   ]
  },
  {
   "cell_type": "code",
   "execution_count": 107,
   "metadata": {},
   "outputs": [
    {
     "data": {
      "image/png": "[encoded data removed]",
      "text/plain": [
       "<Figure size 576x576 with 1 Axes>"
      ]
     },
     "metadata": {},
     "output_type": "display_data"
    }
   ],
   "source": [
    "#sns.set_style('whitegrid') \n",
    "fig=sns.lmplot(x ='total_flights', y ='total_passengers', data = flight_pass,height=8)\n",
    "plt.title('Total Passengers vs Total Flights',weight='bold', size=15)\n",
    "plt.xlabel('Total Flights', size=14)\n",
    "plt.ylabel('Total Passengers', size=14)\n",
    "plt.show()\n",
    "fig.savefig('/Users/carlyfennell/DataScience/data_bootcamp/w5/midterm_project/lhl_midterm/visualization/Task_9_passvsflight.png')"
   ]
  },
  {
   "cell_type": "code",
   "execution_count": 86,
   "metadata": {},
   "outputs": [],
   "source": [
    "from scipy import stats\n",
    "def r2(x, y):\n",
    "    return stats.pearsonr(x, y)[0] ** 2"
   ]
  },
  {
   "cell_type": "code",
   "execution_count": 91,
   "metadata": {},
   "outputs": [
    {
     "data": {
      "text/plain": [
       "0.8983612531589825"
      ]
     },
     "execution_count": 91,
     "metadata": {},
     "output_type": "execute_result"
    }
   ],
   "source": [
    "r2(flight_pass['total_flights'],flight_pass['total_passengers'])"
   ]
  },
  {
   "cell_type": "code",
   "execution_count": 108,
   "metadata": {},
   "outputs": [
    {
     "name": "stderr",
     "output_type": "stream",
     "text": [
      "/opt/anaconda3/envs/bootcamp_env/lib/python3.7/site-packages/seaborn/axisgrid.py:1840: UserWarning: JointGrid annotation is deprecated and will be removed in a future release.\n",
      "  warnings.warn(UserWarning(msg))\n"
     ]
    },
    {
     "data": {
      "image/png": "[encoded data removed]",
      "text/plain": [
       "<Figure size 576x576 with 3 Axes>"
      ]
     },
     "metadata": {},
     "output_type": "display_data"
    }
   ],
   "source": [
    "fig=sns.jointplot(x ='total_flights', y ='total_passengers', \n",
    "              data = flight_pass, kind=\"reg\",stat_func=r2,height=8)"
   ]
  },
  {
   "cell_type": "code",
   "execution_count": 109,
   "metadata": {},
   "outputs": [],
   "source": [
    "fig.savefig('/Users/carlyfennell/DataScience/data_bootcamp/w5/midterm_project/lhl_midterm/visualization/Task_9_passvsflightB.png')"
   ]
  },
  {
   "cell_type": "raw",
   "metadata": {},
   "source": [
    "Could report significance"
   ]
  },
  {
   "cell_type": "raw",
   "metadata": {},
   "source": [
    "import statsmodels.api as sm\n",
    "from scipy import stats"
   ]
  },
  {
   "cell_type": "raw",
   "metadata": {},
   "source": [
    "stats.ttest_1samp(flights['dep_delay'],0)"
   ]
  },
  {
   "cell_type": "markdown",
   "metadata": {},
   "source": [
    "# Task 6"
   ]
  },
  {
   "cell_type": "code",
   "execution_count": null,
   "metadata": {},
   "outputs": [],
   "source": [
    "busy_state=[]\n",
    "for i in range(len(busy_airports)):\n",
    "    busy_state.append(airport_code_dict[busy_airports['Airport_Code'][i]])\n"
   ]
  },
  {
   "cell_type": "code",
   "execution_count": null,
   "metadata": {},
   "outputs": [],
   "source": [
    "busy_airports['busy_state']=busy_state"
   ]
  },
  {
   "cell_type": "code",
   "execution_count": null,
   "metadata": {},
   "outputs": [],
   "source": [
    "busy_airports"
   ]
  },
  {
   "cell_type": "code",
   "execution_count": null,
   "metadata": {},
   "outputs": [],
   "source": [
    "busy_states=busy_airports.groupby('busy_state').sum().sort_values(by='total',ascending=False)"
   ]
  },
  {
   "cell_type": "code",
   "execution_count": null,
   "metadata": {},
   "outputs": [],
   "source": [
    "busy_states['Percent_traffic']=busy_states['total']/sum(busy_states['total'])"
   ]
  },
  {
   "cell_type": "code",
   "execution_count": null,
   "metadata": {},
   "outputs": [],
   "source": [
    "busy_states.head(8).reset_index()"
   ]
  },
  {
   "cell_type": "code",
   "execution_count": null,
   "metadata": {},
   "outputs": [],
   "source": [
    "import plotly.graph_objects as go"
   ]
  },
  {
   "cell_type": "code",
   "execution_count": null,
   "metadata": {},
   "outputs": [],
   "source": [
    "#tot = sum(pca_bank.explained_variance_)\n",
    "##var_exp=pca_bank.explained_variance_/np.sum(pca_bank.explained_variance_)\n",
    "##cum_var_exp = np.cumsum(pca_bank.explained_variance_)/np.sum(pca_bank.explained_variance_)\n",
    "##cum_var_exp = np.cumsum(pca_bank.explained_variance_)/np.sum(pca_bank.explained_variance_)\n",
    "##cum_var_exp = np.cumsum(var_exp)\n",
    "\n",
    "var_exp=busy_states['Percent_traffic']\n",
    "cum_var_exp = np.cumsum(var_exp)\n",
    "\n",
    "\n",
    "trace1 = dict(\n",
    "    type='bar',\n",
    "    x=['%s' %i for i in busy_states.head(8).reset_index()['busy_state']],\n",
    "    y=var_exp,\n",
    "    name='Individual'\n",
    ")\n",
    "\n",
    "trace2 = dict(\n",
    "    type='scatter',\n",
    "    x=['%s' %i for i in busy_states.head(8).reset_index()['busy_state']], \n",
    "    y=cum_var_exp,\n",
    "    name='Cumulative'\n",
    ")\n",
    "\n",
    "data = [trace1, trace2]\n",
    "\n",
    "layout=dict(\n",
    "    title='Cumulative Sum for airtraffic in Busiest States',\n",
    "    yaxis=dict(\n",
    "        title='Percentage Air Traffic'\n",
    "    ),\n",
    "    width=900, \n",
    "    height=500,\n",
    "    annotations=list([\n",
    "        dict(\n",
    "            x=1.205,\n",
    "            y=1.05,\n",
    "            xref='paper',\n",
    "            yref='paper',\n",
    "            text='US Air Traffic per State',\n",
    "            showarrow=False,\n",
    "        )\n",
    "    ])\n",
    ")\n",
    "\n",
    "\n",
    "fig = go.Figure(data=data,layout=layout)\n",
    "fig.show()"
   ]
  },
  {
   "cell_type": "code",
   "execution_count": null,
   "metadata": {},
   "outputs": [],
   "source": [
    "busy_states['Cumulative_sum']=cum_var_exp"
   ]
  },
  {
   "cell_type": "code",
   "execution_count": null,
   "metadata": {},
   "outputs": [],
   "source": [
    "busy_states[busy_states['Cumulative_sum']<.55]"
   ]
  },
  {
   "cell_type": "code",
   "execution_count": null,
   "metadata": {},
   "outputs": [],
   "source": [
    "len(busy_states[busy_states['Cumulative_sum']<.55])/len(busy_states)"
   ]
  },
  {
   "cell_type": "code",
   "execution_count": null,
   "metadata": {},
   "outputs": [],
   "source": [
    "print(len(busy_states[busy_states['Cumulative_sum']<.55]),'out of ',len(busy_states), 'states make up 50% of air traffic in the US')"
   ]
  },
  {
   "cell_type": "code",
   "execution_count": null,
   "metadata": {},
   "outputs": [],
   "source": [
    "print('They are, in descending order of air traffic: ',list(busy_states[busy_states['Cumulative_sum']<.55].index))"
   ]
  },
  {
   "cell_type": "code",
   "execution_count": null,
   "metadata": {},
   "outputs": [],
   "source": []
  }
 ],
 "metadata": {
  "kernelspec": {
   "display_name": "bootcamp_env",
   "language": "python",
   "name": "bootcamp_env"
  },
  "language_info": {
   "codemirror_mode": {
    "name": "ipython",
    "version": 3
   },
   "file_extension": ".py",
   "mimetype": "text/x-python",
   "name": "python",
   "nbconvert_exporter": "python",
   "pygments_lexer": "ipython3",
   "version": "3.7.6"
  }
 },
 "nbformat": 4,
 "nbformat_minor": 4
}
