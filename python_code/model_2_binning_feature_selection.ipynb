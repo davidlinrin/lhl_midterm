{
 "cells": [
  {
   "cell_type": "markdown",
   "metadata": {},
   "source": [
    "### Import packages"
   ]
  },
  {
   "cell_type": "code",
   "execution_count": 2,
   "metadata": {},
   "outputs": [],
   "source": [
    "import pandas as pd\n",
    "import numpy as np\n",
    "import matplotlib.pyplot as plt\n",
    "\n",
    "import statsmodels.api as sm\n",
    "from sklearn.preprocessing import StandardScaler\n",
    "from sklearn.decomposition import PCA\n",
    "from sklearn.preprocessing import LabelEncoder\n",
    "from sklearn import metrics\n",
    "from sklearn import preprocessing\n",
    "from sklearn.feature_selection import VarianceThreshold\n",
    "from sklearn.feature_selection import f_regression, SelectKBest\n",
    "from sklearn.cluster import DBSCAN\n",
    "from sklearn.cluster import KMeans\n",
    "from sklearn.linear_model import LinearRegression\n",
    "import plotly.express as px\n",
    "\n",
    "import copy\n",
    "import seaborn as sns\n",
    "import os\n",
    "from scipy import stats\n",
    "import datetime\n",
    "\n",
    "import sqlite3 as sqlite\n",
    "from sqlalchemy import create_engine\n",
    "%matplotlib inline"
   ]
  },
  {
   "cell_type": "code",
   "execution_count": 3,
   "metadata": {},
   "outputs": [],
   "source": [
    "data_path = '/mnt/d/lighthouse/Midterm_data/'"
   ]
  },
  {
   "cell_type": "code",
   "execution_count": 3,
   "metadata": {},
   "outputs": [],
   "source": [
    "# 15927485 rows × 42\n",
    "flights = pd.read_csv(data_path + 'flights.csv', header = 0, low_memory=False)\n",
    "#flights_test =pd.read_csv(data_path + 'flights_test.csv', header = 0)"
   ]
  },
  {
   "cell_type": "code",
   "execution_count": 4,
   "metadata": {},
   "outputs": [],
   "source": [
    "# making duplicate so we dont have to re-read large csv files\n",
    "flights_clean = copy.deepcopy(flights)"
   ]
  },
  {
   "cell_type": "markdown",
   "metadata": {},
   "source": [
    "## Nan"
   ]
  },
  {
   "cell_type": "code",
   "execution_count": 5,
   "metadata": {},
   "outputs": [],
   "source": [
    "total = flights_clean.isnull().sum().sort_values(ascending = False)\n",
    "percent = (flights_clean.isnull().sum()/flights_clean.isnull().count()).sort_values(ascending = False)\n",
    "missing_data = pd.concat([total,percent], axis=1, keys=['Total', 'Percent'])"
   ]
  },
  {
   "cell_type": "code",
   "execution_count": 6,
   "metadata": {},
   "outputs": [],
   "source": [
    "#missing_data.head(15)"
   ]
  },
  {
   "cell_type": "code",
   "execution_count": 6,
   "metadata": {},
   "outputs": [],
   "source": [
    "# dropping columsn with 80% missing AND [origin_city_name, dest_city_name] since we have [orgin, dest]\n",
    "# dropping [cancelled, diverted, flights, dup] since they only contain one value\n",
    "cols_to_drop_nan = list(missing_data[missing_data['Percent'] > 0.8].index)\n",
    "cols_to_drop_other = ['dep_delay','taxi_out','taxi_in', 'wheels_off', 'wheels_on', 'arr_time', 'cancelled', 'diverted','actual_elapsed_time','air_time', 'flights', 'dup', 'dep_time']\n",
    "flights_clean.drop(cols_to_drop_nan, axis = 1, inplace = True)\n",
    "flights_clean.drop(cols_to_drop_other, axis = 1, inplace = True)\n",
    "#flights_test.drop(['dup','flights'], axis =1, inplace=True)"
   ]
  },
  {
   "cell_type": "markdown",
   "metadata": {},
   "source": [
    "## rows with Nan"
   ]
  },
  {
   "cell_type": "code",
   "execution_count": 7,
   "metadata": {},
   "outputs": [],
   "source": [
    "# before: (15927485, 20)\n",
    "# after: 15652397 rows × 20 columns\n",
    "# lost 3% of data, no biggie\n",
    "flights_clean.dropna(inplace = True)\n",
    "\n",
    "# before: (660556, 18)\n",
    "# after: (659057, 18)\n",
    "#flights_test.dropna(inplace = True)"
   ]
  },
  {
   "cell_type": "code",
   "execution_count": 8,
   "metadata": {},
   "outputs": [
    {
     "data": {
      "text/plain": [
       "(15615740, 19)"
      ]
     },
     "execution_count": 8,
     "metadata": {},
     "output_type": "execute_result"
    }
   ],
   "source": [
    "# (15605076, 19)\n",
    "flights_clean.shape"
   ]
  },
  {
   "cell_type": "markdown",
   "metadata": {},
   "source": [
    "### seperate numerical/categorical"
   ]
  },
  {
   "cell_type": "code",
   "execution_count": 9,
   "metadata": {},
   "outputs": [],
   "source": [
    "# 9 numerical features\n",
    "numerical = list(flights_clean.dtypes[flights_clean.dtypes != 'object'].index)\n",
    "# 10 categorical features \n",
    "categorical = list(flights_clean.dtypes[flights_clean.dtypes == 'object'].index)\n",
    "\n",
    "# 8 categorical features \n",
    "#numerical_test = list(flights_test.dtypes[flights_test.dtypes != 'object'].index)\n",
    "# 10 categorical features \n",
    "#categorical_test = list(flights_test.dtypes[flights_test.dtypes == 'object'].index)"
   ]
  },
  {
   "cell_type": "code",
   "execution_count": 10,
   "metadata": {},
   "outputs": [],
   "source": [
    "flights_numerical = copy.deepcopy(flights_clean[numerical])\n",
    "flights_categorical = copy.deepcopy(flights_clean[categorical])\n",
    "\n",
    "#test_numerical = copy.deepcopy(flights_test[numerical_test])\n",
    "#test_categorical = copy.deepcopy(flights_test[categorical_test])"
   ]
  },
  {
   "cell_type": "markdown",
   "metadata": {},
   "source": [
    "# Binning and dropping correlated columns"
   ]
  },
  {
   "cell_type": "markdown",
   "metadata": {},
   "source": [
    "### seperate year-month-day (stopped doing for test set at this point)"
   ]
  },
  {
   "cell_type": "code",
   "execution_count": 11,
   "metadata": {},
   "outputs": [],
   "source": [
    "flights_categorical['fl_date'] = pd.to_datetime(flights_categorical['fl_date'])\n",
    "flights_categorical['year'] = flights_categorical['fl_date'].dt.year\n",
    "flights_categorical['month'] = flights_categorical['fl_date'].dt.month\n",
    "flights_categorical['date'] = flights_categorical['fl_date'].dt.day\n",
    "# Dropping the old date column\n",
    "flights_categorical.drop('fl_date', axis = 1, inplace = True)"
   ]
  },
  {
   "cell_type": "markdown",
   "metadata": {},
   "source": [
    "### Dropping origin_city_name and dest_city_name"
   ]
  },
  {
   "cell_type": "code",
   "execution_count": 12,
   "metadata": {},
   "outputs": [],
   "source": [
    "# dropping since origin and dest tells us the city\n",
    "flights_categorical.drop(['origin_city_name', 'dest_city_name'],axis =1,inplace = True)"
   ]
  },
  {
   "cell_type": "code",
   "execution_count": 13,
   "metadata": {},
   "outputs": [
    {
     "data": {
      "text/plain": [
       "(15615740, 10)"
      ]
     },
     "execution_count": 13,
     "metadata": {},
     "output_type": "execute_result"
    }
   ],
   "source": [
    "flights_categorical.shape"
   ]
  },
  {
   "cell_type": "markdown",
   "metadata": {},
   "source": [
    "### Binning variables"
   ]
  },
  {
   "cell_type": "code",
   "execution_count": 14,
   "metadata": {},
   "outputs": [],
   "source": [
    "mkt_unq_carrier = ['NK', 'AS', 'G4', 'HA', 'B6', 'F9', 'VX']\n",
    "# binning mkt_unique_carrier into 5 categories (WN, DL, UA, AA, others)\n",
    "flights_categorical['bin_mkt_unique_carrier'] = np.where(flights_categorical['mkt_unique_carrier']=='WN',0,\n",
    "                                                (np.where(flights_categorical['mkt_unique_carrier']=='DL',1,\n",
    "                                                (np.where(flights_categorical['mkt_unique_carrier']=='UA',2,\n",
    "                                                (np.where(flights_categorical['mkt_unique_carrier']=='AA',3,\n",
    "                                                (np.where(np.isin(flights_categorical['mkt_unique_carrier'],mkt_unq_carrier),4,flights_categorical['mkt_unique_carrier'])))))))))"
   ]
  },
  {
   "cell_type": "code",
   "execution_count": 15,
   "metadata": {},
   "outputs": [],
   "source": [
    "branded_code = ['NK', 'AS_CODESHARE', 'G4', 'HA', 'B6', 'AS', 'HA_CODESHARE', 'F9', 'VX']\n",
    "# binning branded_code_share into 8 categories (WN, DL_CODESHARE, UA, UA_CODESHARE, AA_CODESHARE, AA, DL, and others)\n",
    "flights_categorical['bin_branded_code_share'] = np.where(flights_categorical['branded_code_share']=='WN',0,\n",
    "                                                (np.where(flights_categorical['branded_code_share']=='DL_CODESHARE',1,\n",
    "                                                (np.where(flights_categorical['branded_code_share']=='UA',2,\n",
    "                                                (np.where(flights_categorical['branded_code_share']=='UA_CODESHARE',3,\n",
    "                                                (np.where(flights_categorical['branded_code_share']=='AA_CODESHARE',4,\n",
    "                                                (np.where(flights_categorical['branded_code_share']=='AA',5,\n",
    "                                                (np.where(flights_categorical['branded_code_share']=='DL',6,\n",
    "                                                (np.where(np.isin(flights_categorical['branded_code_share'],branded_code),7,flights_categorical['branded_code_share'])\n",
    "                                                ))))))))))))))"
   ]
  },
  {
   "cell_type": "code",
   "execution_count": 16,
   "metadata": {},
   "outputs": [],
   "source": [
    "mkt_carrier = ['NK', 'AS', 'G4', 'HA', 'B6', 'F9', 'VX']\n",
    "# binning mkt_carrier into 5 categories (WN, DL, UA, AA, others)\n",
    "flights_categorical['bin_mkt_carrier'] = np.where(flights_categorical['mkt_carrier']=='WN',0,\n",
    "                                                (np.where(flights_categorical['mkt_carrier']=='DL',1,\n",
    "                                                (np.where(flights_categorical['mkt_carrier']=='UA',2,\n",
    "                                                (np.where(flights_categorical['mkt_carrier']=='AA',3,\n",
    "                                                (np.where(np.isin(flights_categorical['mkt_carrier'],mkt_carrier),4,flights_categorical['mkt_carrier'])))))))))"
   ]
  },
  {
   "cell_type": "code",
   "execution_count": 17,
   "metadata": {},
   "outputs": [],
   "source": [
    "op_unique_1 = ['YX', '9E', 'MQ', 'OH', 'YV', 'B6', 'EV', 'AS']\n",
    "op_unique_2 = ['NK', 'G4','HA', 'PT', 'CP', 'C5', 'ZW', 'AX', 'G7', 'EM', 'F9', 'QX', 'KS', 'VX', '9K']\n",
    "# binning branded_code_share into 8 categories (WN, DL_CODESHARE, UA, UA_CODESHARE, AA_CODESHARE, AA, DL, and others)\n",
    "flights_categorical['bin_op_unique_carrier'] = np.where(flights_categorical['op_unique_carrier']=='WN',0,\n",
    "                                                (np.where(flights_categorical['op_unique_carrier']=='OO',1,\n",
    "                                                (np.where(flights_categorical['op_unique_carrier']=='UA',2,\n",
    "                                                (np.where(flights_categorical['op_unique_carrier']=='AA',3,\n",
    "                                                (np.where(flights_categorical['op_unique_carrier']=='DL',4,\n",
    "                                                (np.where(np.isin(flights_categorical['op_unique_carrier'],op_unique_1),5,\n",
    "                                                (np.where(np.isin(flights_categorical['op_unique_carrier'],op_unique_2),6,flights_categorical['op_unique_carrier'])\n",
    "                                                ))))))))))))"
   ]
  },
  {
   "cell_type": "code",
   "execution_count": 18,
   "metadata": {},
   "outputs": [],
   "source": [
    "# dropping old columns\n",
    "flights_categorical.drop(['mkt_unique_carrier','branded_code_share','mkt_carrier','op_unique_carrier'], axis =1, inplace = True)"
   ]
  },
  {
   "cell_type": "markdown",
   "metadata": {},
   "source": [
    "### encode all string variables"
   ]
  },
  {
   "cell_type": "code",
   "execution_count": 19,
   "metadata": {},
   "outputs": [],
   "source": [
    "# converting category to numbers\n",
    "flights_categorical['tail_num'] = pd.factorize(flights_categorical['tail_num'])[0]\n",
    "flights_categorical['origin'] = pd.factorize(flights_categorical['origin'])[0]\n",
    "flights_categorical['dest'] = pd.factorize(flights_categorical['dest'])[0]"
   ]
  },
  {
   "cell_type": "code",
   "execution_count": 20,
   "metadata": {},
   "outputs": [
    {
     "data": {
      "text/html": [
       "<div>\n",
       "<style scoped>\n",
       "    .dataframe tbody tr th:only-of-type {\n",
       "        vertical-align: middle;\n",
       "    }\n",
       "\n",
       "    .dataframe tbody tr th {\n",
       "        vertical-align: top;\n",
       "    }\n",
       "\n",
       "    .dataframe thead th {\n",
       "        text-align: right;\n",
       "    }\n",
       "</style>\n",
       "<table border=\"1\" class=\"dataframe\">\n",
       "  <thead>\n",
       "    <tr style=\"text-align: right;\">\n",
       "      <th></th>\n",
       "      <th>tail_num</th>\n",
       "      <th>origin</th>\n",
       "      <th>dest</th>\n",
       "      <th>year</th>\n",
       "      <th>month</th>\n",
       "      <th>date</th>\n",
       "      <th>bin_mkt_unique_carrier</th>\n",
       "      <th>bin_branded_code_share</th>\n",
       "      <th>bin_mkt_carrier</th>\n",
       "      <th>bin_op_unique_carrier</th>\n",
       "    </tr>\n",
       "  </thead>\n",
       "  <tbody>\n",
       "    <tr>\n",
       "      <th>0</th>\n",
       "      <td>0</td>\n",
       "      <td>0</td>\n",
       "      <td>0</td>\n",
       "      <td>2019</td>\n",
       "      <td>3</td>\n",
       "      <td>25</td>\n",
       "      <td>0</td>\n",
       "      <td>0</td>\n",
       "      <td>0</td>\n",
       "      <td>0</td>\n",
       "    </tr>\n",
       "    <tr>\n",
       "      <th>1</th>\n",
       "      <td>1</td>\n",
       "      <td>0</td>\n",
       "      <td>0</td>\n",
       "      <td>2019</td>\n",
       "      <td>3</td>\n",
       "      <td>25</td>\n",
       "      <td>0</td>\n",
       "      <td>0</td>\n",
       "      <td>0</td>\n",
       "      <td>0</td>\n",
       "    </tr>\n",
       "    <tr>\n",
       "      <th>2</th>\n",
       "      <td>2</td>\n",
       "      <td>0</td>\n",
       "      <td>0</td>\n",
       "      <td>2019</td>\n",
       "      <td>3</td>\n",
       "      <td>25</td>\n",
       "      <td>0</td>\n",
       "      <td>0</td>\n",
       "      <td>0</td>\n",
       "      <td>0</td>\n",
       "    </tr>\n",
       "    <tr>\n",
       "      <th>3</th>\n",
       "      <td>3</td>\n",
       "      <td>0</td>\n",
       "      <td>1</td>\n",
       "      <td>2019</td>\n",
       "      <td>3</td>\n",
       "      <td>25</td>\n",
       "      <td>0</td>\n",
       "      <td>0</td>\n",
       "      <td>0</td>\n",
       "      <td>0</td>\n",
       "    </tr>\n",
       "    <tr>\n",
       "      <th>4</th>\n",
       "      <td>4</td>\n",
       "      <td>0</td>\n",
       "      <td>2</td>\n",
       "      <td>2019</td>\n",
       "      <td>3</td>\n",
       "      <td>25</td>\n",
       "      <td>0</td>\n",
       "      <td>0</td>\n",
       "      <td>0</td>\n",
       "      <td>0</td>\n",
       "    </tr>\n",
       "    <tr>\n",
       "      <th>...</th>\n",
       "      <td>...</td>\n",
       "      <td>...</td>\n",
       "      <td>...</td>\n",
       "      <td>...</td>\n",
       "      <td>...</td>\n",
       "      <td>...</td>\n",
       "      <td>...</td>\n",
       "      <td>...</td>\n",
       "      <td>...</td>\n",
       "      <td>...</td>\n",
       "    </tr>\n",
       "    <tr>\n",
       "      <th>15927480</th>\n",
       "      <td>143</td>\n",
       "      <td>0</td>\n",
       "      <td>30</td>\n",
       "      <td>2019</td>\n",
       "      <td>3</td>\n",
       "      <td>25</td>\n",
       "      <td>0</td>\n",
       "      <td>0</td>\n",
       "      <td>0</td>\n",
       "      <td>0</td>\n",
       "    </tr>\n",
       "    <tr>\n",
       "      <th>15927481</th>\n",
       "      <td>197</td>\n",
       "      <td>0</td>\n",
       "      <td>31</td>\n",
       "      <td>2019</td>\n",
       "      <td>3</td>\n",
       "      <td>25</td>\n",
       "      <td>0</td>\n",
       "      <td>0</td>\n",
       "      <td>0</td>\n",
       "      <td>0</td>\n",
       "    </tr>\n",
       "    <tr>\n",
       "      <th>15927482</th>\n",
       "      <td>290</td>\n",
       "      <td>0</td>\n",
       "      <td>58</td>\n",
       "      <td>2019</td>\n",
       "      <td>3</td>\n",
       "      <td>25</td>\n",
       "      <td>0</td>\n",
       "      <td>0</td>\n",
       "      <td>0</td>\n",
       "      <td>0</td>\n",
       "    </tr>\n",
       "    <tr>\n",
       "      <th>15927483</th>\n",
       "      <td>293</td>\n",
       "      <td>0</td>\n",
       "      <td>0</td>\n",
       "      <td>2019</td>\n",
       "      <td>3</td>\n",
       "      <td>25</td>\n",
       "      <td>0</td>\n",
       "      <td>0</td>\n",
       "      <td>0</td>\n",
       "      <td>0</td>\n",
       "    </tr>\n",
       "    <tr>\n",
       "      <th>15927484</th>\n",
       "      <td>500</td>\n",
       "      <td>0</td>\n",
       "      <td>0</td>\n",
       "      <td>2019</td>\n",
       "      <td>3</td>\n",
       "      <td>25</td>\n",
       "      <td>0</td>\n",
       "      <td>0</td>\n",
       "      <td>0</td>\n",
       "      <td>0</td>\n",
       "    </tr>\n",
       "  </tbody>\n",
       "</table>\n",
       "<p>15615740 rows × 10 columns</p>\n",
       "</div>"
      ],
      "text/plain": [
       "          tail_num  origin  dest  year  month  date bin_mkt_unique_carrier  \\\n",
       "0                0       0     0  2019      3    25                      0   \n",
       "1                1       0     0  2019      3    25                      0   \n",
       "2                2       0     0  2019      3    25                      0   \n",
       "3                3       0     1  2019      3    25                      0   \n",
       "4                4       0     2  2019      3    25                      0   \n",
       "...            ...     ...   ...   ...    ...   ...                    ...   \n",
       "15927480       143       0    30  2019      3    25                      0   \n",
       "15927481       197       0    31  2019      3    25                      0   \n",
       "15927482       290       0    58  2019      3    25                      0   \n",
       "15927483       293       0     0  2019      3    25                      0   \n",
       "15927484       500       0     0  2019      3    25                      0   \n",
       "\n",
       "         bin_branded_code_share bin_mkt_carrier bin_op_unique_carrier  \n",
       "0                             0               0                     0  \n",
       "1                             0               0                     0  \n",
       "2                             0               0                     0  \n",
       "3                             0               0                     0  \n",
       "4                             0               0                     0  \n",
       "...                         ...             ...                   ...  \n",
       "15927480                      0               0                     0  \n",
       "15927481                      0               0                     0  \n",
       "15927482                      0               0                     0  \n",
       "15927483                      0               0                     0  \n",
       "15927484                      0               0                     0  \n",
       "\n",
       "[15615740 rows x 10 columns]"
      ]
     },
     "execution_count": 20,
     "metadata": {},
     "output_type": "execute_result"
    }
   ],
   "source": [
    "flights_categorical"
   ]
  },
  {
   "cell_type": "markdown",
   "metadata": {},
   "source": [
    "### merging into into model data"
   ]
  },
  {
   "cell_type": "code",
   "execution_count": 23,
   "metadata": {},
   "outputs": [
    {
     "data": {
      "text/html": [
       "<div>\n",
       "<style scoped>\n",
       "    .dataframe tbody tr th:only-of-type {\n",
       "        vertical-align: middle;\n",
       "    }\n",
       "\n",
       "    .dataframe tbody tr th {\n",
       "        vertical-align: top;\n",
       "    }\n",
       "\n",
       "    .dataframe thead th {\n",
       "        text-align: right;\n",
       "    }\n",
       "</style>\n",
       "<table border=\"1\" class=\"dataframe\">\n",
       "  <thead>\n",
       "    <tr style=\"text-align: right;\">\n",
       "      <th></th>\n",
       "      <th>mkt_carrier_fl_num</th>\n",
       "      <th>op_carrier_fl_num</th>\n",
       "      <th>origin_airport_id</th>\n",
       "      <th>dest_airport_id</th>\n",
       "      <th>crs_dep_time</th>\n",
       "      <th>crs_arr_time</th>\n",
       "      <th>arr_delay</th>\n",
       "      <th>crs_elapsed_time</th>\n",
       "      <th>distance</th>\n",
       "      <th>tail_num</th>\n",
       "      <th>origin</th>\n",
       "      <th>dest</th>\n",
       "      <th>year</th>\n",
       "      <th>month</th>\n",
       "      <th>date</th>\n",
       "      <th>bin_mkt_unique_carrier</th>\n",
       "      <th>bin_branded_code_share</th>\n",
       "      <th>bin_mkt_carrier</th>\n",
       "      <th>bin_op_unique_carrier</th>\n",
       "    </tr>\n",
       "  </thead>\n",
       "  <tbody>\n",
       "    <tr>\n",
       "      <th>0</th>\n",
       "      <td>2098</td>\n",
       "      <td>2098</td>\n",
       "      <td>13198</td>\n",
       "      <td>14107</td>\n",
       "      <td>1755</td>\n",
       "      <td>1850</td>\n",
       "      <td>-12.0</td>\n",
       "      <td>175.0</td>\n",
       "      <td>1044</td>\n",
       "      <td>0</td>\n",
       "      <td>0</td>\n",
       "      <td>0</td>\n",
       "      <td>2019</td>\n",
       "      <td>3</td>\n",
       "      <td>25</td>\n",
       "      <td>0</td>\n",
       "      <td>0</td>\n",
       "      <td>0</td>\n",
       "      <td>0</td>\n",
       "    </tr>\n",
       "    <tr>\n",
       "      <th>1</th>\n",
       "      <td>2238</td>\n",
       "      <td>2238</td>\n",
       "      <td>13198</td>\n",
       "      <td>14107</td>\n",
       "      <td>2000</td>\n",
       "      <td>2055</td>\n",
       "      <td>-19.0</td>\n",
       "      <td>175.0</td>\n",
       "      <td>1044</td>\n",
       "      <td>1</td>\n",
       "      <td>0</td>\n",
       "      <td>0</td>\n",
       "      <td>2019</td>\n",
       "      <td>3</td>\n",
       "      <td>25</td>\n",
       "      <td>0</td>\n",
       "      <td>0</td>\n",
       "      <td>0</td>\n",
       "      <td>0</td>\n",
       "    </tr>\n",
       "    <tr>\n",
       "      <th>2</th>\n",
       "      <td>2451</td>\n",
       "      <td>2451</td>\n",
       "      <td>13198</td>\n",
       "      <td>14107</td>\n",
       "      <td>540</td>\n",
       "      <td>635</td>\n",
       "      <td>-10.0</td>\n",
       "      <td>175.0</td>\n",
       "      <td>1044</td>\n",
       "      <td>2</td>\n",
       "      <td>0</td>\n",
       "      <td>0</td>\n",
       "      <td>2019</td>\n",
       "      <td>3</td>\n",
       "      <td>25</td>\n",
       "      <td>0</td>\n",
       "      <td>0</td>\n",
       "      <td>0</td>\n",
       "      <td>0</td>\n",
       "    </tr>\n",
       "    <tr>\n",
       "      <th>3</th>\n",
       "      <td>2213</td>\n",
       "      <td>2213</td>\n",
       "      <td>13198</td>\n",
       "      <td>14492</td>\n",
       "      <td>1550</td>\n",
       "      <td>1905</td>\n",
       "      <td>94.0</td>\n",
       "      <td>135.0</td>\n",
       "      <td>904</td>\n",
       "      <td>3</td>\n",
       "      <td>0</td>\n",
       "      <td>1</td>\n",
       "      <td>2019</td>\n",
       "      <td>3</td>\n",
       "      <td>25</td>\n",
       "      <td>0</td>\n",
       "      <td>0</td>\n",
       "      <td>0</td>\n",
       "      <td>0</td>\n",
       "    </tr>\n",
       "    <tr>\n",
       "      <th>4</th>\n",
       "      <td>2096</td>\n",
       "      <td>2096</td>\n",
       "      <td>13198</td>\n",
       "      <td>14635</td>\n",
       "      <td>1045</td>\n",
       "      <td>1430</td>\n",
       "      <td>152.0</td>\n",
       "      <td>165.0</td>\n",
       "      <td>1155</td>\n",
       "      <td>4</td>\n",
       "      <td>0</td>\n",
       "      <td>2</td>\n",
       "      <td>2019</td>\n",
       "      <td>3</td>\n",
       "      <td>25</td>\n",
       "      <td>0</td>\n",
       "      <td>0</td>\n",
       "      <td>0</td>\n",
       "      <td>0</td>\n",
       "    </tr>\n",
       "    <tr>\n",
       "      <th>...</th>\n",
       "      <td>...</td>\n",
       "      <td>...</td>\n",
       "      <td>...</td>\n",
       "      <td>...</td>\n",
       "      <td>...</td>\n",
       "      <td>...</td>\n",
       "      <td>...</td>\n",
       "      <td>...</td>\n",
       "      <td>...</td>\n",
       "      <td>...</td>\n",
       "      <td>...</td>\n",
       "      <td>...</td>\n",
       "      <td>...</td>\n",
       "      <td>...</td>\n",
       "      <td>...</td>\n",
       "      <td>...</td>\n",
       "      <td>...</td>\n",
       "      <td>...</td>\n",
       "      <td>...</td>\n",
       "    </tr>\n",
       "    <tr>\n",
       "      <th>15615735</th>\n",
       "      <td>2189</td>\n",
       "      <td>2189</td>\n",
       "      <td>13198</td>\n",
       "      <td>13495</td>\n",
       "      <td>2055</td>\n",
       "      <td>2245</td>\n",
       "      <td>-3.0</td>\n",
       "      <td>110.0</td>\n",
       "      <td>689</td>\n",
       "      <td>143</td>\n",
       "      <td>0</td>\n",
       "      <td>30</td>\n",
       "      <td>2019</td>\n",
       "      <td>3</td>\n",
       "      <td>25</td>\n",
       "      <td>0</td>\n",
       "      <td>0</td>\n",
       "      <td>0</td>\n",
       "      <td>0</td>\n",
       "    </tr>\n",
       "    <tr>\n",
       "      <th>15615736</th>\n",
       "      <td>1291</td>\n",
       "      <td>1291</td>\n",
       "      <td>13198</td>\n",
       "      <td>13796</td>\n",
       "      <td>1200</td>\n",
       "      <td>1355</td>\n",
       "      <td>99.0</td>\n",
       "      <td>235.0</td>\n",
       "      <td>1489</td>\n",
       "      <td>197</td>\n",
       "      <td>0</td>\n",
       "      <td>31</td>\n",
       "      <td>2019</td>\n",
       "      <td>3</td>\n",
       "      <td>25</td>\n",
       "      <td>0</td>\n",
       "      <td>0</td>\n",
       "      <td>0</td>\n",
       "      <td>0</td>\n",
       "    </tr>\n",
       "    <tr>\n",
       "      <th>15615737</th>\n",
       "      <td>2470</td>\n",
       "      <td>2470</td>\n",
       "      <td>13198</td>\n",
       "      <td>14057</td>\n",
       "      <td>920</td>\n",
       "      <td>1110</td>\n",
       "      <td>-18.0</td>\n",
       "      <td>230.0</td>\n",
       "      <td>1482</td>\n",
       "      <td>290</td>\n",
       "      <td>0</td>\n",
       "      <td>58</td>\n",
       "      <td>2019</td>\n",
       "      <td>3</td>\n",
       "      <td>25</td>\n",
       "      <td>0</td>\n",
       "      <td>0</td>\n",
       "      <td>0</td>\n",
       "      <td>0</td>\n",
       "    </tr>\n",
       "    <tr>\n",
       "      <th>15615738</th>\n",
       "      <td>1651</td>\n",
       "      <td>1651</td>\n",
       "      <td>13198</td>\n",
       "      <td>14107</td>\n",
       "      <td>1125</td>\n",
       "      <td>1215</td>\n",
       "      <td>-11.0</td>\n",
       "      <td>170.0</td>\n",
       "      <td>1044</td>\n",
       "      <td>293</td>\n",
       "      <td>0</td>\n",
       "      <td>0</td>\n",
       "      <td>2019</td>\n",
       "      <td>3</td>\n",
       "      <td>25</td>\n",
       "      <td>0</td>\n",
       "      <td>0</td>\n",
       "      <td>0</td>\n",
       "      <td>0</td>\n",
       "    </tr>\n",
       "    <tr>\n",
       "      <th>15615739</th>\n",
       "      <td>1962</td>\n",
       "      <td>1962</td>\n",
       "      <td>13198</td>\n",
       "      <td>14107</td>\n",
       "      <td>1350</td>\n",
       "      <td>1445</td>\n",
       "      <td>-11.0</td>\n",
       "      <td>175.0</td>\n",
       "      <td>1044</td>\n",
       "      <td>500</td>\n",
       "      <td>0</td>\n",
       "      <td>0</td>\n",
       "      <td>2019</td>\n",
       "      <td>3</td>\n",
       "      <td>25</td>\n",
       "      <td>0</td>\n",
       "      <td>0</td>\n",
       "      <td>0</td>\n",
       "      <td>0</td>\n",
       "    </tr>\n",
       "  </tbody>\n",
       "</table>\n",
       "<p>15615740 rows × 19 columns</p>\n",
       "</div>"
      ],
      "text/plain": [
       "          mkt_carrier_fl_num  op_carrier_fl_num  origin_airport_id  \\\n",
       "0                       2098               2098              13198   \n",
       "1                       2238               2238              13198   \n",
       "2                       2451               2451              13198   \n",
       "3                       2213               2213              13198   \n",
       "4                       2096               2096              13198   \n",
       "...                      ...                ...                ...   \n",
       "15615735                2189               2189              13198   \n",
       "15615736                1291               1291              13198   \n",
       "15615737                2470               2470              13198   \n",
       "15615738                1651               1651              13198   \n",
       "15615739                1962               1962              13198   \n",
       "\n",
       "          dest_airport_id  crs_dep_time  crs_arr_time  arr_delay  \\\n",
       "0                   14107          1755          1850      -12.0   \n",
       "1                   14107          2000          2055      -19.0   \n",
       "2                   14107           540           635      -10.0   \n",
       "3                   14492          1550          1905       94.0   \n",
       "4                   14635          1045          1430      152.0   \n",
       "...                   ...           ...           ...        ...   \n",
       "15615735            13495          2055          2245       -3.0   \n",
       "15615736            13796          1200          1355       99.0   \n",
       "15615737            14057           920          1110      -18.0   \n",
       "15615738            14107          1125          1215      -11.0   \n",
       "15615739            14107          1350          1445      -11.0   \n",
       "\n",
       "          crs_elapsed_time  distance  tail_num  origin  dest  year  month  \\\n",
       "0                    175.0      1044         0       0     0  2019      3   \n",
       "1                    175.0      1044         1       0     0  2019      3   \n",
       "2                    175.0      1044         2       0     0  2019      3   \n",
       "3                    135.0       904         3       0     1  2019      3   \n",
       "4                    165.0      1155         4       0     2  2019      3   \n",
       "...                    ...       ...       ...     ...   ...   ...    ...   \n",
       "15615735             110.0       689       143       0    30  2019      3   \n",
       "15615736             235.0      1489       197       0    31  2019      3   \n",
       "15615737             230.0      1482       290       0    58  2019      3   \n",
       "15615738             170.0      1044       293       0     0  2019      3   \n",
       "15615739             175.0      1044       500       0     0  2019      3   \n",
       "\n",
       "          date bin_mkt_unique_carrier bin_branded_code_share bin_mkt_carrier  \\\n",
       "0           25                      0                      0               0   \n",
       "1           25                      0                      0               0   \n",
       "2           25                      0                      0               0   \n",
       "3           25                      0                      0               0   \n",
       "4           25                      0                      0               0   \n",
       "...        ...                    ...                    ...             ...   \n",
       "15615735    25                      0                      0               0   \n",
       "15615736    25                      0                      0               0   \n",
       "15615737    25                      0                      0               0   \n",
       "15615738    25                      0                      0               0   \n",
       "15615739    25                      0                      0               0   \n",
       "\n",
       "         bin_op_unique_carrier  \n",
       "0                            0  \n",
       "1                            0  \n",
       "2                            0  \n",
       "3                            0  \n",
       "4                            0  \n",
       "...                        ...  \n",
       "15615735                     0  \n",
       "15615736                     0  \n",
       "15615737                     0  \n",
       "15615738                     0  \n",
       "15615739                     0  \n",
       "\n",
       "[15615740 rows x 19 columns]"
      ]
     },
     "execution_count": 23,
     "metadata": {},
     "output_type": "execute_result"
    }
   ],
   "source": [
    "flights_final = pd.concat([flights_numerical, flights_categorical], axis=1)\n",
    "flights_final.reset_index(drop=True)\n",
    "#flights_final"
   ]
  },
  {
   "cell_type": "markdown",
   "metadata": {},
   "source": [
    "### Correlation"
   ]
  },
  {
   "cell_type": "code",
   "execution_count": 9,
   "metadata": {},
   "outputs": [
    {
     "data": {
      "text/plain": [
       "[('mkt_carrier_fl_num', 'op_carrier_fl_num'),\n",
       " ('crs_elapsed_time', 'distance'),\n",
       " ('bin_mkt_unique_carrier', 'bin_mkt_carrier')]"
      ]
     },
     "execution_count": 9,
     "metadata": {},
     "output_type": "execute_result"
    }
   ],
   "source": [
    "df_corr = flights_final.corr().abs()\n",
    "indices = np.where(df_corr > 0.8) \n",
    "indices = [(df_corr.index[x], df_corr.columns[y]) for x, y in zip(*indices) if x != y and x < y]\n",
    "indices"
   ]
  },
  {
   "cell_type": "code",
   "execution_count": 11,
   "metadata": {},
   "outputs": [
    {
     "data": {
      "image/png": "[encoded data removed]",
      "text/plain": [
       "<Figure size 1008x720 with 2 Axes>"
      ]
     },
     "metadata": {
      "needs_background": "light"
     },
     "output_type": "display_data"
    }
   ],
   "source": [
    "#fig, ax = plt.subplots(figsize=(14,10))\n",
    "#corrMatrix = flights_final.corr().abs()\n",
    "#sns.heatmap(corrMatrix, annot=True)\n",
    "#plt.show()"
   ]
  },
  {
   "cell_type": "code",
   "execution_count": 12,
   "metadata": {},
   "outputs": [],
   "source": [
    "# no highly correlated features\n",
    "for idx in indices: \n",
    "    try:\n",
    "        flights_final.drop(idx[1], axis = 1, inplace=True)\n",
    "    except KeyError:\n",
    "        pass"
   ]
  },
  {
   "cell_type": "code",
   "execution_count": 13,
   "metadata": {},
   "outputs": [
    {
     "data": {
      "text/plain": [
       "(15615740, 16)"
      ]
     },
     "execution_count": 13,
     "metadata": {},
     "output_type": "execute_result"
    }
   ],
   "source": [
    "flights_final.shape"
   ]
  },
  {
   "cell_type": "code",
   "execution_count": 18,
   "metadata": {},
   "outputs": [],
   "source": [
    "#flights_final.to_csv('/mnt/d/lighthouse/Midterm_data/model_2_bin.csv')"
   ]
  },
  {
   "cell_type": "markdown",
   "metadata": {},
   "source": [
    "# Model"
   ]
  },
  {
   "cell_type": "code",
   "execution_count": 4,
   "metadata": {},
   "outputs": [],
   "source": [
    "flights_final = pd.read_csv(data_path + 'model_2_bin.csv', header = 0)\n",
    "flights_final.drop('Unnamed: 0', axis = 1, inplace= True)"
   ]
  },
  {
   "cell_type": "code",
   "execution_count": 20,
   "metadata": {},
   "outputs": [
    {
     "data": {
      "text/html": [
       "<div>\n",
       "<style scoped>\n",
       "    .dataframe tbody tr th:only-of-type {\n",
       "        vertical-align: middle;\n",
       "    }\n",
       "\n",
       "    .dataframe tbody tr th {\n",
       "        vertical-align: top;\n",
       "    }\n",
       "\n",
       "    .dataframe thead th {\n",
       "        text-align: right;\n",
       "    }\n",
       "</style>\n",
       "<table border=\"1\" class=\"dataframe\">\n",
       "  <thead>\n",
       "    <tr style=\"text-align: right;\">\n",
       "      <th></th>\n",
       "      <th>mkt_carrier_fl_num</th>\n",
       "      <th>origin_airport_id</th>\n",
       "      <th>dest_airport_id</th>\n",
       "      <th>crs_dep_time</th>\n",
       "      <th>crs_arr_time</th>\n",
       "      <th>arr_delay</th>\n",
       "      <th>crs_elapsed_time</th>\n",
       "      <th>tail_num</th>\n",
       "      <th>origin</th>\n",
       "      <th>dest</th>\n",
       "      <th>year</th>\n",
       "      <th>month</th>\n",
       "      <th>date</th>\n",
       "      <th>bin_mkt_unique_carrier</th>\n",
       "      <th>bin_branded_code_share</th>\n",
       "      <th>bin_op_unique_carrier</th>\n",
       "    </tr>\n",
       "  </thead>\n",
       "  <tbody>\n",
       "    <tr>\n",
       "      <th>0</th>\n",
       "      <td>2098</td>\n",
       "      <td>13198</td>\n",
       "      <td>14107</td>\n",
       "      <td>1755</td>\n",
       "      <td>1850</td>\n",
       "      <td>-12.0</td>\n",
       "      <td>175.0</td>\n",
       "      <td>0</td>\n",
       "      <td>0</td>\n",
       "      <td>0</td>\n",
       "      <td>2019</td>\n",
       "      <td>3</td>\n",
       "      <td>25</td>\n",
       "      <td>0</td>\n",
       "      <td>0</td>\n",
       "      <td>0</td>\n",
       "    </tr>\n",
       "    <tr>\n",
       "      <th>1</th>\n",
       "      <td>2238</td>\n",
       "      <td>13198</td>\n",
       "      <td>14107</td>\n",
       "      <td>2000</td>\n",
       "      <td>2055</td>\n",
       "      <td>-19.0</td>\n",
       "      <td>175.0</td>\n",
       "      <td>1</td>\n",
       "      <td>0</td>\n",
       "      <td>0</td>\n",
       "      <td>2019</td>\n",
       "      <td>3</td>\n",
       "      <td>25</td>\n",
       "      <td>0</td>\n",
       "      <td>0</td>\n",
       "      <td>0</td>\n",
       "    </tr>\n",
       "    <tr>\n",
       "      <th>2</th>\n",
       "      <td>2451</td>\n",
       "      <td>13198</td>\n",
       "      <td>14107</td>\n",
       "      <td>540</td>\n",
       "      <td>635</td>\n",
       "      <td>-10.0</td>\n",
       "      <td>175.0</td>\n",
       "      <td>2</td>\n",
       "      <td>0</td>\n",
       "      <td>0</td>\n",
       "      <td>2019</td>\n",
       "      <td>3</td>\n",
       "      <td>25</td>\n",
       "      <td>0</td>\n",
       "      <td>0</td>\n",
       "      <td>0</td>\n",
       "    </tr>\n",
       "    <tr>\n",
       "      <th>3</th>\n",
       "      <td>2213</td>\n",
       "      <td>13198</td>\n",
       "      <td>14492</td>\n",
       "      <td>1550</td>\n",
       "      <td>1905</td>\n",
       "      <td>94.0</td>\n",
       "      <td>135.0</td>\n",
       "      <td>3</td>\n",
       "      <td>0</td>\n",
       "      <td>1</td>\n",
       "      <td>2019</td>\n",
       "      <td>3</td>\n",
       "      <td>25</td>\n",
       "      <td>0</td>\n",
       "      <td>0</td>\n",
       "      <td>0</td>\n",
       "    </tr>\n",
       "    <tr>\n",
       "      <th>4</th>\n",
       "      <td>2096</td>\n",
       "      <td>13198</td>\n",
       "      <td>14635</td>\n",
       "      <td>1045</td>\n",
       "      <td>1430</td>\n",
       "      <td>152.0</td>\n",
       "      <td>165.0</td>\n",
       "      <td>4</td>\n",
       "      <td>0</td>\n",
       "      <td>2</td>\n",
       "      <td>2019</td>\n",
       "      <td>3</td>\n",
       "      <td>25</td>\n",
       "      <td>0</td>\n",
       "      <td>0</td>\n",
       "      <td>0</td>\n",
       "    </tr>\n",
       "    <tr>\n",
       "      <th>...</th>\n",
       "      <td>...</td>\n",
       "      <td>...</td>\n",
       "      <td>...</td>\n",
       "      <td>...</td>\n",
       "      <td>...</td>\n",
       "      <td>...</td>\n",
       "      <td>...</td>\n",
       "      <td>...</td>\n",
       "      <td>...</td>\n",
       "      <td>...</td>\n",
       "      <td>...</td>\n",
       "      <td>...</td>\n",
       "      <td>...</td>\n",
       "      <td>...</td>\n",
       "      <td>...</td>\n",
       "      <td>...</td>\n",
       "    </tr>\n",
       "    <tr>\n",
       "      <th>15615735</th>\n",
       "      <td>2189</td>\n",
       "      <td>13198</td>\n",
       "      <td>13495</td>\n",
       "      <td>2055</td>\n",
       "      <td>2245</td>\n",
       "      <td>-3.0</td>\n",
       "      <td>110.0</td>\n",
       "      <td>143</td>\n",
       "      <td>0</td>\n",
       "      <td>30</td>\n",
       "      <td>2019</td>\n",
       "      <td>3</td>\n",
       "      <td>25</td>\n",
       "      <td>0</td>\n",
       "      <td>0</td>\n",
       "      <td>0</td>\n",
       "    </tr>\n",
       "    <tr>\n",
       "      <th>15615736</th>\n",
       "      <td>1291</td>\n",
       "      <td>13198</td>\n",
       "      <td>13796</td>\n",
       "      <td>1200</td>\n",
       "      <td>1355</td>\n",
       "      <td>99.0</td>\n",
       "      <td>235.0</td>\n",
       "      <td>197</td>\n",
       "      <td>0</td>\n",
       "      <td>31</td>\n",
       "      <td>2019</td>\n",
       "      <td>3</td>\n",
       "      <td>25</td>\n",
       "      <td>0</td>\n",
       "      <td>0</td>\n",
       "      <td>0</td>\n",
       "    </tr>\n",
       "    <tr>\n",
       "      <th>15615737</th>\n",
       "      <td>2470</td>\n",
       "      <td>13198</td>\n",
       "      <td>14057</td>\n",
       "      <td>920</td>\n",
       "      <td>1110</td>\n",
       "      <td>-18.0</td>\n",
       "      <td>230.0</td>\n",
       "      <td>290</td>\n",
       "      <td>0</td>\n",
       "      <td>58</td>\n",
       "      <td>2019</td>\n",
       "      <td>3</td>\n",
       "      <td>25</td>\n",
       "      <td>0</td>\n",
       "      <td>0</td>\n",
       "      <td>0</td>\n",
       "    </tr>\n",
       "    <tr>\n",
       "      <th>15615738</th>\n",
       "      <td>1651</td>\n",
       "      <td>13198</td>\n",
       "      <td>14107</td>\n",
       "      <td>1125</td>\n",
       "      <td>1215</td>\n",
       "      <td>-11.0</td>\n",
       "      <td>170.0</td>\n",
       "      <td>293</td>\n",
       "      <td>0</td>\n",
       "      <td>0</td>\n",
       "      <td>2019</td>\n",
       "      <td>3</td>\n",
       "      <td>25</td>\n",
       "      <td>0</td>\n",
       "      <td>0</td>\n",
       "      <td>0</td>\n",
       "    </tr>\n",
       "    <tr>\n",
       "      <th>15615739</th>\n",
       "      <td>1962</td>\n",
       "      <td>13198</td>\n",
       "      <td>14107</td>\n",
       "      <td>1350</td>\n",
       "      <td>1445</td>\n",
       "      <td>-11.0</td>\n",
       "      <td>175.0</td>\n",
       "      <td>500</td>\n",
       "      <td>0</td>\n",
       "      <td>0</td>\n",
       "      <td>2019</td>\n",
       "      <td>3</td>\n",
       "      <td>25</td>\n",
       "      <td>0</td>\n",
       "      <td>0</td>\n",
       "      <td>0</td>\n",
       "    </tr>\n",
       "  </tbody>\n",
       "</table>\n",
       "<p>15615740 rows × 16 columns</p>\n",
       "</div>"
      ],
      "text/plain": [
       "          mkt_carrier_fl_num  origin_airport_id  dest_airport_id  \\\n",
       "0                       2098              13198            14107   \n",
       "1                       2238              13198            14107   \n",
       "2                       2451              13198            14107   \n",
       "3                       2213              13198            14492   \n",
       "4                       2096              13198            14635   \n",
       "...                      ...                ...              ...   \n",
       "15615735                2189              13198            13495   \n",
       "15615736                1291              13198            13796   \n",
       "15615737                2470              13198            14057   \n",
       "15615738                1651              13198            14107   \n",
       "15615739                1962              13198            14107   \n",
       "\n",
       "          crs_dep_time  crs_arr_time  arr_delay  crs_elapsed_time  tail_num  \\\n",
       "0                 1755          1850      -12.0             175.0         0   \n",
       "1                 2000          2055      -19.0             175.0         1   \n",
       "2                  540           635      -10.0             175.0         2   \n",
       "3                 1550          1905       94.0             135.0         3   \n",
       "4                 1045          1430      152.0             165.0         4   \n",
       "...                ...           ...        ...               ...       ...   \n",
       "15615735          2055          2245       -3.0             110.0       143   \n",
       "15615736          1200          1355       99.0             235.0       197   \n",
       "15615737           920          1110      -18.0             230.0       290   \n",
       "15615738          1125          1215      -11.0             170.0       293   \n",
       "15615739          1350          1445      -11.0             175.0       500   \n",
       "\n",
       "          origin  dest  year  month  date  bin_mkt_unique_carrier  \\\n",
       "0              0     0  2019      3    25                       0   \n",
       "1              0     0  2019      3    25                       0   \n",
       "2              0     0  2019      3    25                       0   \n",
       "3              0     1  2019      3    25                       0   \n",
       "4              0     2  2019      3    25                       0   \n",
       "...          ...   ...   ...    ...   ...                     ...   \n",
       "15615735       0    30  2019      3    25                       0   \n",
       "15615736       0    31  2019      3    25                       0   \n",
       "15615737       0    58  2019      3    25                       0   \n",
       "15615738       0     0  2019      3    25                       0   \n",
       "15615739       0     0  2019      3    25                       0   \n",
       "\n",
       "          bin_branded_code_share  bin_op_unique_carrier  \n",
       "0                              0                      0  \n",
       "1                              0                      0  \n",
       "2                              0                      0  \n",
       "3                              0                      0  \n",
       "4                              0                      0  \n",
       "...                          ...                    ...  \n",
       "15615735                       0                      0  \n",
       "15615736                       0                      0  \n",
       "15615737                       0                      0  \n",
       "15615738                       0                      0  \n",
       "15615739                       0                      0  \n",
       "\n",
       "[15615740 rows x 16 columns]"
      ]
     },
     "execution_count": 20,
     "metadata": {},
     "output_type": "execute_result"
    }
   ],
   "source": [
    "flights_final"
   ]
  },
  {
   "cell_type": "code",
   "execution_count": 21,
   "metadata": {},
   "outputs": [
    {
     "data": {
      "text/plain": [
       "{'arr_delay',\n",
       " 'bin_branded_code_share',\n",
       " 'bin_mkt_unique_carrier',\n",
       " 'bin_op_unique_carrier',\n",
       " 'branded_code_share',\n",
       " 'dest_city_name',\n",
       " 'distance',\n",
       " 'mkt_carrier',\n",
       " 'mkt_unique_carrier',\n",
       " 'op_carrier_fl_num',\n",
       " 'op_unique_carrier',\n",
       " 'origin_city_name'}"
      ]
     },
     "execution_count": 21,
     "metadata": {},
     "output_type": "execute_result"
    }
   ],
   "source": [
    "set(flights_final.columns) ^ set(flights_test.columns)"
   ]
  },
  {
   "cell_type": "code",
   "execution_count": 22,
   "metadata": {},
   "outputs": [],
   "source": [
    "X = flights_final.drop('arr_delay', axis = 1)\n",
    "y = flights_final['arr_delay']"
   ]
  },
  {
   "cell_type": "code",
   "execution_count": 23,
   "metadata": {},
   "outputs": [
    {
     "data": {
      "text/plain": [
       "(15615740, 15)"
      ]
     },
     "execution_count": 23,
     "metadata": {},
     "output_type": "execute_result"
    }
   ],
   "source": [
    "X.shape"
   ]
  },
  {
   "cell_type": "code",
   "execution_count": 24,
   "metadata": {},
   "outputs": [
    {
     "data": {
      "text/plain": [
       "(15615740,)"
      ]
     },
     "execution_count": 24,
     "metadata": {},
     "output_type": "execute_result"
    }
   ],
   "source": [
    "y.shape"
   ]
  },
  {
   "cell_type": "markdown",
   "metadata": {},
   "source": [
    "### sklearn"
   ]
  },
  {
   "cell_type": "code",
   "execution_count": 25,
   "metadata": {},
   "outputs": [],
   "source": [
    "reg = LinearRegression().fit(X, y)"
   ]
  },
  {
   "cell_type": "code",
   "execution_count": 26,
   "metadata": {},
   "outputs": [
    {
     "data": {
      "text/plain": [
       "0.01142179231113849"
      ]
     },
     "execution_count": 26,
     "metadata": {},
     "output_type": "execute_result"
    }
   ],
   "source": [
    "reg.score(X, y)"
   ]
  },
  {
   "cell_type": "code",
   "execution_count": 27,
   "metadata": {},
   "outputs": [
    {
     "data": {
      "text/plain": [
       "array([ 3.23605470e-04, -2.01182804e-04, -9.34808460e-05,  6.77543852e-03,\n",
       "        3.47945375e-03, -6.70714316e-03,  4.06357066e-04,  1.20761238e-03,\n",
       "       -5.47963747e-03,  4.51362634e-01, -9.42558873e-02, -1.77885552e-02,\n",
       "        2.44688475e+00, -1.08497455e+00, -2.26851787e-02])"
      ]
     },
     "execution_count": 27,
     "metadata": {},
     "output_type": "execute_result"
    }
   ],
   "source": [
    "reg.coef_"
   ]
  },
  {
   "cell_type": "markdown",
   "metadata": {},
   "source": [
    "### Statsmodel"
   ]
  },
  {
   "cell_type": "code",
   "execution_count": 28,
   "metadata": {},
   "outputs": [],
   "source": [
    "res = sm.OLS(y, X).fit()"
   ]
  },
  {
   "cell_type": "code",
   "execution_count": 29,
   "metadata": {},
   "outputs": [
    {
     "name": "stdout",
     "output_type": "stream",
     "text": [
      "                                 OLS Regression Results                                \n",
      "=======================================================================================\n",
      "Dep. Variable:              arr_delay   R-squared (uncentered):                   0.023\n",
      "Model:                            OLS   Adj. R-squared (uncentered):              0.023\n",
      "Method:                 Least Squares   F-statistic:                          2.470e+04\n",
      "Date:                Wed, 26 Aug 2020   Prob (F-statistic):                        0.00\n",
      "Time:                        16:44:05   Log-Likelihood:                     -8.3118e+07\n",
      "No. Observations:            15615740   AIC:                                  1.662e+08\n",
      "Df Residuals:                15615725   BIC:                                  1.662e+08\n",
      "Df Model:                          15                                                  \n",
      "Covariance Type:            nonrobust                                                  \n",
      "==========================================================================================\n",
      "                             coef    std err          t      P>|t|      [0.025      0.975]\n",
      "------------------------------------------------------------------------------------------\n",
      "mkt_carrier_fl_num         0.0003   8.35e-06     38.590      0.000       0.000       0.000\n",
      "origin_airport_id         -0.0002   8.99e-06    -22.379      0.000      -0.000      -0.000\n",
      "dest_airport_id        -9.396e-05   8.35e-06    -11.253      0.000      -0.000   -7.76e-05\n",
      "crs_dep_time               0.0068    3.6e-05    188.382      0.000       0.007       0.007\n",
      "crs_arr_time               0.0035   3.41e-05    102.079      0.000       0.003       0.004\n",
      "crs_elapsed_time          -0.0067      0.000    -35.435      0.000      -0.007      -0.006\n",
      "tail_num                   0.0004   8.44e-06     47.580      0.000       0.000       0.000\n",
      "origin                     0.0012      0.000      6.014      0.000       0.001       0.002\n",
      "dest                      -0.0054      0.000    -26.154      0.000      -0.006      -0.005\n",
      "year                      -0.0029   8.67e-05    -33.053      0.000      -0.003      -0.003\n",
      "month                     -0.0941      0.004    -25.493      0.000      -0.101      -0.087\n",
      "date                      -0.0179      0.001    -12.521      0.000      -0.021      -0.015\n",
      "bin_mkt_unique_carrier     2.4464      0.016    153.772      0.000       2.415       2.478\n",
      "bin_branded_code_share    -1.0835      0.010   -106.411      0.000      -1.103      -1.064\n",
      "bin_op_unique_carrier     -0.0218      0.010     -2.267      0.023      -0.041      -0.003\n",
      "==============================================================================\n",
      "Omnibus:                 22809542.650   Durbin-Watson:                   1.721\n",
      "Prob(Omnibus):                  0.000   Jarque-Bera (JB):      14363649512.245\n",
      "Skew:                           8.710   Prob(JB):                         0.00\n",
      "Kurtosis:                     150.554   Cond. No.                     2.54e+04\n",
      "==============================================================================\n",
      "\n",
      "Warnings:\n",
      "[1] Standard Errors assume that the covariance matrix of the errors is correctly specified.\n",
      "[2] The condition number is large, 2.54e+04. This might indicate that there are\n",
      "strong multicollinearity or other numerical problems.\n"
     ]
    }
   ],
   "source": [
    "print(res.summary())"
   ]
  },
  {
   "cell_type": "code",
   "execution_count": null,
   "metadata": {},
   "outputs": [],
   "source": []
  }
 ],
 "metadata": {
  "kernelspec": {
   "display_name": "Python 3",
   "language": "python",
   "name": "python3"
  },
  "language_info": {
   "codemirror_mode": {
    "name": "ipython",
    "version": 3
   },
   "file_extension": ".py",
   "mimetype": "text/x-python",
   "name": "python",
   "nbconvert_exporter": "python",
   "pygments_lexer": "ipython3",
   "version": "3.8.2"
  }
 },
 "nbformat": 4,
 "nbformat_minor": 4
}
