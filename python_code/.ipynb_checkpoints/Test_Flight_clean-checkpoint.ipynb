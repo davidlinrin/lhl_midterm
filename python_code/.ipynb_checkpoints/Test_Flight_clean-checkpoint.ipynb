{
 "cells": [
  {
   "cell_type": "code",
   "execution_count": 1,
   "metadata": {},
   "outputs": [],
   "source": [
    "import random\n",
    "import copy\n",
    "import datetime\n",
    "import pandas as pd\n",
    "import numpy as np\n",
    "import seaborn as sns\n",
    "\n",
    "from sklearn.preprocessing import StandardScaler"
   ]
  },
  {
   "cell_type": "code",
   "execution_count": 2,
   "metadata": {},
   "outputs": [],
   "source": [
    "path='/Users/carlyfennell/DataScience/data_bootcamp/data/'"
   ]
  },
  {
   "cell_type": "markdown",
   "metadata": {},
   "source": [
    "## Reading in Test Flights\n",
    "\n",
    "Column_types was found by going through an optimization process to identify optimal data types for variables within the flights table. Adding it to the read_csv. function is aimed at saving space, and decreasing computational time"
   ]
  },
  {
   "cell_type": "code",
   "execution_count": 3,
   "metadata": {},
   "outputs": [],
   "source": [
    "column_types={'mkt_carrier_fl_num': 'uint16', 'op_unique_carrier': 'category', 'tail_num': 'category', 'op_carrier_fl_num': 'uint16', 'origin_airport_id': 'uint16', 'origin': 'category', 'dest_airport_id': 'uint16', 'dest': 'category', 'crs_dep_time': 'uint16', 'dep_time': 'float32'}"
   ]
  },
  {
   "cell_type": "code",
   "execution_count": 4,
   "metadata": {},
   "outputs": [],
   "source": [
    "flights_final=pd.read_csv(path+'test_flights.csv',dtype=column_types,parse_dates=['fl_date'],infer_datetime_format=True)"
   ]
  },
  {
   "cell_type": "code",
   "execution_count": 5,
   "metadata": {},
   "outputs": [
    {
     "data": {
      "text/plain": [
       "(660556, 20)"
      ]
     },
     "execution_count": 5,
     "metadata": {},
     "output_type": "execute_result"
    }
   ],
   "source": [
    "flights_final.shape"
   ]
  },
  {
   "cell_type": "code",
   "execution_count": 6,
   "metadata": {},
   "outputs": [],
   "source": [
    "flights_clean=flights_final.dropna()"
   ]
  },
  {
   "cell_type": "code",
   "execution_count": 7,
   "metadata": {},
   "outputs": [
    {
     "data": {
      "text/plain": [
       "(659057, 20)"
      ]
     },
     "execution_count": 7,
     "metadata": {},
     "output_type": "execute_result"
    }
   ],
   "source": [
    "flights_clean.shape"
   ]
  },
  {
   "cell_type": "code",
   "execution_count": 8,
   "metadata": {},
   "outputs": [],
   "source": [
    "#dropping uneccesary columns\n",
    "flights_clean=flights_clean.drop(['op_unique_carrier','mkt_carrier','dup', 'crs_elapsed_time','flights'\\\n",
    "                                  ,'origin_city_name','dest_airport_id','origin_airport_id','op_carrier_fl_num'],axis=1)"
   ]
  },
  {
   "cell_type": "code",
   "execution_count": 9,
   "metadata": {},
   "outputs": [],
   "source": [
    "#Creating features day and month from date (we thought year was irrelevant)\n",
    "flights_clean['fl_date']=flights_clean['fl_date'].astype('datetime64[ns]')\n",
    "flights_clean['month']=flights_clean['fl_date'].dt.month\n",
    "flights_clean['day']=flights_clean['fl_date'].dt.day"
   ]
  },
  {
   "cell_type": "code",
   "execution_count": 10,
   "metadata": {},
   "outputs": [],
   "source": [
    "flights_clean=flights_clean.drop(['fl_date'],axis=1)"
   ]
  },
  {
   "cell_type": "markdown",
   "metadata": {},
   "source": [
    "# Read in Weather/Airport Key - Compute Weather features"
   ]
  },
  {
   "cell_type": "code",
   "execution_count": 11,
   "metadata": {},
   "outputs": [],
   "source": [
    "#read weather_key into dataframe\n",
    "weather_key=pd.read_csv(path+'wkey.csv')\n",
    "weather_key=weather_key.drop(['Unnamed: 0','period'],axis=1)"
   ]
  },
  {
   "cell_type": "code",
   "execution_count": 12,
   "metadata": {},
   "outputs": [],
   "source": [
    "new_df=pd.merge(flights_clean,weather_key[['origin','month', 'latitude', 'longitude','wdir', 'temp',\n",
    "       'maxt', 'visibility', 'wspd', 'heatindex', 'cloudcover', 'mint',\n",
    "       'precip', 'snowdepth', 'sealevelpressure', 'dew', 'humidity', 'wgust',\n",
    "       'precipcover', 'windchill', 'closest_airport']],how='outer',on=['origin','month'])"
   ]
  },
  {
   "cell_type": "markdown",
   "metadata": {},
   "source": [
    "## Read in Airport Traffic Key - Compute aggregate tragic features"
   ]
  },
  {
   "cell_type": "code",
   "execution_count": 13,
   "metadata": {},
   "outputs": [],
   "source": [
    "busy_feat=pd.read_csv(path+'busy_feature.csv')\n",
    "busy_feat=busy_feat.drop('Unnamed: 0',axis=1)"
   ]
  },
  {
   "cell_type": "code",
   "execution_count": 14,
   "metadata": {},
   "outputs": [],
   "source": [
    "flights_clean=pd.merge(new_df,busy_feat,how='outer',on=['origin'])"
   ]
  },
  {
   "cell_type": "markdown",
   "metadata": {},
   "source": [
    "# Build Carrier/Tail_num Features from keys"
   ]
  },
  {
   "cell_type": "raw",
   "metadata": {},
   "source": [
    "flights_FE = flights_FE[(flights_FE['dep_delay']>0) | (flights_FE['arr_delay']>0)]\n",
    "delay_df = flights_FE.groupby('tail_num').mean()[['arr_delay','dep_delay']]\n",
    "delay_df.reset_index(inplace=True)\n",
    "delay_df.columns = ['tail_num','mean_tail_num_arr_delay','mean_tail_num_dep_delay']"
   ]
  },
  {
   "cell_type": "raw",
   "metadata": {},
   "source": [
    "carrier_delay = flights_FE.groupby('mkt_unique_carrier').mean()[['arr_delay','dep_delay']]\n",
    "carrier_delay.reset_index(inplace=True)\n",
    "carrier_delay.columns = ['mkt_unique_carrier','mean_carrier_arr_delay','mean_carrier__dep_delay']"
   ]
  },
  {
   "cell_type": "raw",
   "metadata": {},
   "source": [
    "delay_df.to_csv(path+'delay_Tail_key.csv')"
   ]
  },
  {
   "cell_type": "raw",
   "metadata": {},
   "source": [
    "carrier_delay.to_csv(path+'delay_carrier_key.csv')"
   ]
  },
  {
   "cell_type": "code",
   "execution_count": 15,
   "metadata": {},
   "outputs": [],
   "source": [
    "delay_df=pd.read_csv(path+'delay_Tail_key.csv')\n",
    "delay_df=delay_df.drop('Unnamed: 0',axis=1)"
   ]
  },
  {
   "cell_type": "code",
   "execution_count": 16,
   "metadata": {},
   "outputs": [],
   "source": [
    "flights_final = flights_clean.merge(delay_df, on=['tail_num'], how='left')"
   ]
  },
  {
   "cell_type": "code",
   "execution_count": 17,
   "metadata": {},
   "outputs": [],
   "source": [
    "carrier_delay=pd.read_csv(path+'delay_carrier_key.csv')\n",
    "carrier_delay=carrier_delay.drop('Unnamed: 0',axis=1)"
   ]
  },
  {
   "cell_type": "code",
   "execution_count": 18,
   "metadata": {},
   "outputs": [],
   "source": [
    "flights_clean = flights_final.merge(carrier_delay, on=['mkt_unique_carrier'], how='left')"
   ]
  },
  {
   "cell_type": "code",
   "execution_count": 19,
   "metadata": {},
   "outputs": [
    {
     "data": {
      "text/plain": [
       "(663206, 36)"
      ]
     },
     "execution_count": 19,
     "metadata": {},
     "output_type": "execute_result"
    }
   ],
   "source": [
    "flights_clean.shape"
   ]
  },
  {
   "cell_type": "markdown",
   "metadata": {},
   "source": [
    "## Now that all features are merged - need to check data and clean"
   ]
  },
  {
   "cell_type": "markdown",
   "metadata": {},
   "source": [
    "#### Clean up weather vars - fill nulls and delete rows"
   ]
  },
  {
   "cell_type": "code",
   "execution_count": 20,
   "metadata": {},
   "outputs": [],
   "source": [
    "flights_clean['snowdepth']=flights_clean['snowdepth'].fillna(0)"
   ]
  },
  {
   "cell_type": "code",
   "execution_count": 21,
   "metadata": {},
   "outputs": [],
   "source": [
    "# Changing snow depth to a category because there isn't much of a range and a LOT of the values are 0 or close to 0\n",
    "flights_clean['snow_type'] = np.where(3<=flights_clean['snowdepth'],2,flights_clean['snowdepth'])\n",
    "flights_clean['snow_type'] = np.where((flights_clean['snowdepth']<3)&(1<=flights_clean['snowdepth']),1,flights_clean['snow_type'])\n",
    "flights_clean['snow_type'] = np.where((flights_clean['snow_type']==2)|(flights_clean['snow_type']==1),flights_clean['snow_type'],0)\n",
    "flights_clean.drop('snowdepth', axis = 1, inplace = True)"
   ]
  },
  {
   "cell_type": "code",
   "execution_count": 22,
   "metadata": {},
   "outputs": [
    {
     "data": {
      "text/plain": [
       "windchill     5.4\n",
       "heatindex    85.6\n",
       "wgust        44.7\n",
       "dtype: float64"
      ]
     },
     "execution_count": 22,
     "metadata": {},
     "output_type": "execute_result"
    }
   ],
   "source": [
    "flights_clean[['windchill', 'heatindex','wgust']].median()"
   ]
  },
  {
   "cell_type": "code",
   "execution_count": 23,
   "metadata": {},
   "outputs": [],
   "source": [
    "#filling missing weather vars with median values ()\n",
    "flights_clean['windchill']=flights_clean['windchill'].fillna(flights_clean[['windchill', 'heatindex','wgust']].median()[0])\n",
    "flights_clean['heatindex']=flights_clean['heatindex'].fillna(flights_clean[['windchill', 'heatindex','wgust']].median()[1])\n",
    "flights_clean['wgust']=flights_clean['wgust'].fillna(flights_clean[['windchill', 'heatindex','wgust']].median()[2])"
   ]
  },
  {
   "cell_type": "code",
   "execution_count": 24,
   "metadata": {},
   "outputs": [
    {
     "data": {
      "text/plain": [
       "(663206, 36)"
      ]
     },
     "execution_count": 24,
     "metadata": {},
     "output_type": "execute_result"
    }
   ],
   "source": [
    "flights_clean.shape"
   ]
  },
  {
   "cell_type": "code",
   "execution_count": 25,
   "metadata": {},
   "outputs": [],
   "source": [
    "test_flight_clean=copy.deepcopy(flights_clean)"
   ]
  },
  {
   "cell_type": "code",
   "execution_count": 26,
   "metadata": {},
   "outputs": [],
   "source": [
    "test_flight_clean=test_flight_clean.dropna()"
   ]
  },
  {
   "cell_type": "code",
   "execution_count": 27,
   "metadata": {},
   "outputs": [
    {
     "data": {
      "text/plain": [
       "(656253, 36)"
      ]
     },
     "execution_count": 27,
     "metadata": {},
     "output_type": "execute_result"
    }
   ],
   "source": [
    "test_flight_clean.shape"
   ]
  },
  {
   "cell_type": "markdown",
   "metadata": {},
   "source": [
    "## Setting and encoding our Categorical Variables"
   ]
  },
  {
   "cell_type": "code",
   "execution_count": 28,
   "metadata": {},
   "outputs": [],
   "source": [
    "#Changing Hour from continuous to categorical\n",
    "test_flight_clean['arr_hour'] = test_flight_clean['crs_arr_time'].astype(int).astype(str).str.rjust(4,'0').str[:2]\n",
    "test_flight_clean['dep_hour'] = test_flight_clean['crs_dep_time'].astype(int).astype(str).str.rjust(4,'0').str[:2]"
   ]
  },
  {
   "cell_type": "code",
   "execution_count": 29,
   "metadata": {},
   "outputs": [],
   "source": [
    "#dropping columns with high correlation to one another\n",
    "test_flight_clean=test_flight_clean.drop(['closest_airport','crs_arr_time','crs_dep_time','dest_city_name','dew','maxt','tail_num','mint','mkt_unique_carrier','mean_carrier__dep_delay','mean_tail_num_dep_delay'],axis=1)"
   ]
  },
  {
   "cell_type": "code",
   "execution_count": 30,
   "metadata": {},
   "outputs": [],
   "source": [
    "#setting list of catagorical variables we don't want scaled\n",
    "cat_list=['origin', 'dest', 'branded_code_share','mkt_carrier_fl_num','snow_type','month', 'day','arr_hour','dep_hour']"
   ]
  },
  {
   "cell_type": "code",
   "execution_count": 31,
   "metadata": {},
   "outputs": [],
   "source": [
    "#separating X data out into categorical and numerical to prep numerical for scaling\n",
    "X_cat=copy.deepcopy(test_flight_clean[cat_list])\n",
    "X_num=copy.deepcopy(test_flight_clean.drop(cat_list,axis=1))"
   ]
  },
  {
   "cell_type": "code",
   "execution_count": 32,
   "metadata": {},
   "outputs": [],
   "source": [
    "#encoding categorical variables utilizing \"factorize\"\n",
    "X_cat['branded_code_share'] = pd.factorize(X_cat['branded_code_share'])[0]\n",
    "#X_cat['mkt_carrier_fl_num'] = pd.factorize(X_cat['mkt_carrier_fl_num'])[0]\n",
    "X_cat['origin'] = pd.factorize(X_cat['origin'])[0]\n",
    "X_cat['dest'] = pd.factorize(X_cat['dest'])[0]"
   ]
  },
  {
   "cell_type": "code",
   "execution_count": 33,
   "metadata": {},
   "outputs": [
    {
     "data": {
      "text/plain": [
       "set()"
      ]
     },
     "execution_count": 33,
     "metadata": {},
     "output_type": "execute_result"
    }
   ],
   "source": [
    "#double checking we don't have any vars overlapping\n",
    "set(X_cat.columns)&set(X_num.columns)"
   ]
  },
  {
   "cell_type": "code",
   "execution_count": 34,
   "metadata": {},
   "outputs": [],
   "source": [
    "#resetting index so when we concatenate we don't run into issues\n",
    "X_num=X_num.reset_index().drop('index',axis=1)\n",
    "X_cat=X_cat.reset_index().drop(['index'],axis=1)"
   ]
  },
  {
   "cell_type": "markdown",
   "metadata": {},
   "source": [
    "## Scaling Numerical variables"
   ]
  },
  {
   "cell_type": "code",
   "execution_count": 35,
   "metadata": {},
   "outputs": [],
   "source": [
    "num_scaled = StandardScaler().fit_transform(X_num)"
   ]
  },
  {
   "cell_type": "code",
   "execution_count": 36,
   "metadata": {},
   "outputs": [],
   "source": [
    "X_num_std=pd.DataFrame(num_scaled)"
   ]
  },
  {
   "cell_type": "code",
   "execution_count": 37,
   "metadata": {},
   "outputs": [],
   "source": [
    "X_num_std.columns=list(X_num.columns)"
   ]
  },
  {
   "cell_type": "markdown",
   "metadata": {},
   "source": [
    "## Concatenate final dataframe to be used in training/testing"
   ]
  },
  {
   "cell_type": "code",
   "execution_count": 38,
   "metadata": {},
   "outputs": [],
   "source": [
    "X_cleaned=pd.concat([X_num_std,X_cat],axis=1)"
   ]
  },
  {
   "cell_type": "code",
   "execution_count": 39,
   "metadata": {},
   "outputs": [
    {
     "data": {
      "text/plain": [
       "(656253, 27)"
      ]
     },
     "execution_count": 39,
     "metadata": {},
     "output_type": "execute_result"
    }
   ],
   "source": [
    "X_cleaned.shape"
   ]
  },
  {
   "cell_type": "code",
   "execution_count": 40,
   "metadata": {},
   "outputs": [
    {
     "data": {
      "text/plain": [
       "Index(['distance', 'latitude', 'longitude', 'wdir', 'temp', 'visibility',\n",
       "       'wspd', 'heatindex', 'cloudcover', 'precip', 'sealevelpressure',\n",
       "       'humidity', 'wgust', 'precipcover', 'windchill', 'total_flights',\n",
       "       'mean_tail_num_arr_delay', 'mean_carrier_arr_delay', 'origin', 'dest',\n",
       "       'branded_code_share', 'mkt_carrier_fl_num', 'snow_type', 'month', 'day',\n",
       "       'arr_hour', 'dep_hour'],\n",
       "      dtype='object')"
      ]
     },
     "execution_count": 40,
     "metadata": {},
     "output_type": "execute_result"
    }
   ],
   "source": [
    "X_cleaned.columns"
   ]
  },
  {
   "cell_type": "code",
   "execution_count": 41,
   "metadata": {},
   "outputs": [
    {
     "data": {
      "text/html": [
       "<div>\n",
       "<style scoped>\n",
       "    .dataframe tbody tr th:only-of-type {\n",
       "        vertical-align: middle;\n",
       "    }\n",
       "\n",
       "    .dataframe tbody tr th {\n",
       "        vertical-align: top;\n",
       "    }\n",
       "\n",
       "    .dataframe thead th {\n",
       "        text-align: right;\n",
       "    }\n",
       "</style>\n",
       "<table border=\"1\" class=\"dataframe\">\n",
       "  <thead>\n",
       "    <tr style=\"text-align: right;\">\n",
       "      <th></th>\n",
       "      <th>distance</th>\n",
       "      <th>latitude</th>\n",
       "      <th>longitude</th>\n",
       "      <th>wdir</th>\n",
       "      <th>temp</th>\n",
       "      <th>visibility</th>\n",
       "      <th>wspd</th>\n",
       "      <th>heatindex</th>\n",
       "      <th>cloudcover</th>\n",
       "      <th>precip</th>\n",
       "      <th>...</th>\n",
       "      <th>mean_carrier_arr_delay</th>\n",
       "      <th>origin</th>\n",
       "      <th>dest</th>\n",
       "      <th>branded_code_share</th>\n",
       "      <th>mkt_carrier_fl_num</th>\n",
       "      <th>snow_type</th>\n",
       "      <th>month</th>\n",
       "      <th>day</th>\n",
       "      <th>arr_hour</th>\n",
       "      <th>dep_hour</th>\n",
       "    </tr>\n",
       "  </thead>\n",
       "  <tbody>\n",
       "    <tr>\n",
       "      <th>0</th>\n",
       "      <td>-0.696242</td>\n",
       "      <td>-0.453005</td>\n",
       "      <td>-1.186293</td>\n",
       "      <td>-0.895814</td>\n",
       "      <td>1.110744</td>\n",
       "      <td>-0.618641</td>\n",
       "      <td>-0.404148</td>\n",
       "      <td>-1.592541</td>\n",
       "      <td>0.030473</td>\n",
       "      <td>0.985964</td>\n",
       "      <td>...</td>\n",
       "      <td>-1.641298</td>\n",
       "      <td>0</td>\n",
       "      <td>0</td>\n",
       "      <td>0</td>\n",
       "      <td>5888.0</td>\n",
       "      <td>0.0</td>\n",
       "      <td>1</td>\n",
       "      <td>1.0</td>\n",
       "      <td>19</td>\n",
       "      <td>18</td>\n",
       "    </tr>\n",
       "    <tr>\n",
       "      <th>1</th>\n",
       "      <td>-0.696242</td>\n",
       "      <td>-0.453005</td>\n",
       "      <td>-1.186293</td>\n",
       "      <td>-0.895814</td>\n",
       "      <td>1.110744</td>\n",
       "      <td>-0.618641</td>\n",
       "      <td>-0.404148</td>\n",
       "      <td>-1.592541</td>\n",
       "      <td>0.030473</td>\n",
       "      <td>0.985964</td>\n",
       "      <td>...</td>\n",
       "      <td>-1.641298</td>\n",
       "      <td>0</td>\n",
       "      <td>0</td>\n",
       "      <td>0</td>\n",
       "      <td>6276.0</td>\n",
       "      <td>0.0</td>\n",
       "      <td>1</td>\n",
       "      <td>1.0</td>\n",
       "      <td>13</td>\n",
       "      <td>11</td>\n",
       "    </tr>\n",
       "    <tr>\n",
       "      <th>2</th>\n",
       "      <td>-0.748027</td>\n",
       "      <td>-0.453005</td>\n",
       "      <td>-1.186293</td>\n",
       "      <td>-0.895814</td>\n",
       "      <td>1.110744</td>\n",
       "      <td>-0.618641</td>\n",
       "      <td>-0.404148</td>\n",
       "      <td>-1.592541</td>\n",
       "      <td>0.030473</td>\n",
       "      <td>0.985964</td>\n",
       "      <td>...</td>\n",
       "      <td>-1.641298</td>\n",
       "      <td>0</td>\n",
       "      <td>1</td>\n",
       "      <td>0</td>\n",
       "      <td>4598.0</td>\n",
       "      <td>0.0</td>\n",
       "      <td>1</td>\n",
       "      <td>1.0</td>\n",
       "      <td>21</td>\n",
       "      <td>20</td>\n",
       "    </tr>\n",
       "    <tr>\n",
       "      <th>3</th>\n",
       "      <td>-0.748027</td>\n",
       "      <td>-0.453005</td>\n",
       "      <td>-1.186293</td>\n",
       "      <td>-0.895814</td>\n",
       "      <td>1.110744</td>\n",
       "      <td>-0.618641</td>\n",
       "      <td>-0.404148</td>\n",
       "      <td>-1.592541</td>\n",
       "      <td>0.030473</td>\n",
       "      <td>0.985964</td>\n",
       "      <td>...</td>\n",
       "      <td>-1.641298</td>\n",
       "      <td>0</td>\n",
       "      <td>1</td>\n",
       "      <td>0</td>\n",
       "      <td>4761.0</td>\n",
       "      <td>0.0</td>\n",
       "      <td>1</td>\n",
       "      <td>1.0</td>\n",
       "      <td>14</td>\n",
       "      <td>13</td>\n",
       "    </tr>\n",
       "    <tr>\n",
       "      <th>4</th>\n",
       "      <td>-0.748027</td>\n",
       "      <td>-0.453005</td>\n",
       "      <td>-1.186293</td>\n",
       "      <td>-0.895814</td>\n",
       "      <td>1.110744</td>\n",
       "      <td>-0.618641</td>\n",
       "      <td>-0.404148</td>\n",
       "      <td>-1.592541</td>\n",
       "      <td>0.030473</td>\n",
       "      <td>0.985964</td>\n",
       "      <td>...</td>\n",
       "      <td>-1.641298</td>\n",
       "      <td>0</td>\n",
       "      <td>1</td>\n",
       "      <td>0</td>\n",
       "      <td>5162.0</td>\n",
       "      <td>0.0</td>\n",
       "      <td>1</td>\n",
       "      <td>1.0</td>\n",
       "      <td>10</td>\n",
       "      <td>09</td>\n",
       "    </tr>\n",
       "  </tbody>\n",
       "</table>\n",
       "<p>5 rows × 27 columns</p>\n",
       "</div>"
      ],
      "text/plain": [
       "   distance  latitude  longitude      wdir      temp  visibility      wspd  \\\n",
       "0 -0.696242 -0.453005  -1.186293 -0.895814  1.110744   -0.618641 -0.404148   \n",
       "1 -0.696242 -0.453005  -1.186293 -0.895814  1.110744   -0.618641 -0.404148   \n",
       "2 -0.748027 -0.453005  -1.186293 -0.895814  1.110744   -0.618641 -0.404148   \n",
       "3 -0.748027 -0.453005  -1.186293 -0.895814  1.110744   -0.618641 -0.404148   \n",
       "4 -0.748027 -0.453005  -1.186293 -0.895814  1.110744   -0.618641 -0.404148   \n",
       "\n",
       "   heatindex  cloudcover    precip  ...  mean_carrier_arr_delay  origin  dest  \\\n",
       "0  -1.592541    0.030473  0.985964  ...               -1.641298       0     0   \n",
       "1  -1.592541    0.030473  0.985964  ...               -1.641298       0     0   \n",
       "2  -1.592541    0.030473  0.985964  ...               -1.641298       0     1   \n",
       "3  -1.592541    0.030473  0.985964  ...               -1.641298       0     1   \n",
       "4  -1.592541    0.030473  0.985964  ...               -1.641298       0     1   \n",
       "\n",
       "   branded_code_share  mkt_carrier_fl_num  snow_type  month  day  arr_hour  \\\n",
       "0                   0              5888.0        0.0      1  1.0        19   \n",
       "1                   0              6276.0        0.0      1  1.0        13   \n",
       "2                   0              4598.0        0.0      1  1.0        21   \n",
       "3                   0              4761.0        0.0      1  1.0        14   \n",
       "4                   0              5162.0        0.0      1  1.0        10   \n",
       "\n",
       "   dep_hour  \n",
       "0        18  \n",
       "1        11  \n",
       "2        20  \n",
       "3        13  \n",
       "4        09  \n",
       "\n",
       "[5 rows x 27 columns]"
      ]
     },
     "execution_count": 41,
     "metadata": {},
     "output_type": "execute_result"
    }
   ],
   "source": [
    "X_cleaned.head()"
   ]
  },
  {
   "cell_type": "raw",
   "metadata": {},
   "source": [
    "#X_cleaned.to_csv(path+'X_cleaned.csv')"
   ]
  }
 ],
 "metadata": {
  "kernelspec": {
   "display_name": "bootcamp_env",
   "language": "python",
   "name": "bootcamp_env"
  },
  "language_info": {
   "codemirror_mode": {
    "name": "ipython",
    "version": 3
   },
   "file_extension": ".py",
   "mimetype": "text/x-python",
   "name": "python",
   "nbconvert_exporter": "python",
   "pygments_lexer": "ipython3",
   "version": "3.7.6"
  }
 },
 "nbformat": 4,
 "nbformat_minor": 4
}
