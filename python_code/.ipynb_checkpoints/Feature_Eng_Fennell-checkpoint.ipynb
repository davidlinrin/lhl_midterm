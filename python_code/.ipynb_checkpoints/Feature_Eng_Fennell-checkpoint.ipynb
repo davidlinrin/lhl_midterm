{
 "cells": [
  {
   "cell_type": "code",
   "execution_count": 2,
   "metadata": {},
   "outputs": [],
   "source": [
    "import pandas as pd\n",
    "import numpy as np\n",
    "import matplotlib.pyplot as plt\n",
    "\n",
    "from sklearn.preprocessing import StandardScaler\n",
    "from sklearn.decomposition import PCA\n",
    "from sklearn.preprocessing import LabelEncoder\n",
    "from sklearn import metrics\n",
    "from sklearn import preprocessing\n",
    "from sklearn.feature_selection import VarianceThreshold\n",
    "from sklearn.feature_selection import f_regression, SelectKBest\n",
    "from sklearn.cluster import DBSCAN\n",
    "from sklearn.cluster import KMeans\n",
    "from sklearn.linear_model import LinearRegression\n",
    "\n",
    "import statsmodels.api as sm\n",
    "from statsmodels.formula.api import ols\n",
    "from statsmodels.stats.multicomp import pairwise_tukeyhsd, MultiComparison\n",
    "\n",
    "import copy\n",
    "import seaborn as sns\n",
    "import os\n",
    "from scipy import stats\n",
    "import datetime\n",
    "\n",
    "from geopy.geocoders import Nominatim # convert an address into latitude and longitude values\n",
    "import requests # library to handle requests\n",
    "from pandas.io.json import json_normalize # tranform JSON file into a pandas dataframe"
   ]
  },
  {
   "cell_type": "markdown",
   "metadata": {},
   "source": [
    "# Skip all this - already did once"
   ]
  },
  {
   "cell_type": "markdown",
   "metadata": {},
   "source": [
    "# Feature Engineering"
   ]
  },
  {
   "cell_type": "code",
   "execution_count": 4,
   "metadata": {},
   "outputs": [],
   "source": [
    "path='/Users/carlyfennell/DataScience/data_bootcamp/data/'"
   ]
  },
  {
   "cell_type": "code",
   "execution_count": 5,
   "metadata": {},
   "outputs": [
    {
     "name": "stderr",
     "output_type": "stream",
     "text": [
      "/opt/anaconda3/envs/bootcamp_env/lib/python3.7/site-packages/IPython/core/interactiveshell.py:3072: DtypeWarning: Columns (25) have mixed types.Specify dtype option on import or set low_memory=False.\n",
      "  interactivity=interactivity, compiler=compiler, result=result)\n"
     ]
    }
   ],
   "source": [
    "# read in flights info to DataFrame\n",
    "df_flights=pd.read_csv(path+'flights.csv')"
   ]
  },
  {
   "cell_type": "code",
   "execution_count": 6,
   "metadata": {},
   "outputs": [],
   "source": [
    "df_flights=df_flights.drop(['mkt_unique_carrier','branded_code_share','mkt_carrier','dup','dest_city_name','origin_city_name'],axis=1)"
   ]
  },
  {
   "cell_type": "raw",
   "metadata": {},
   "source": [
    "# missing data\n",
    "total = df_flights.isnull().sum().sort_values(ascending=False)\n",
    "percent = (df_flights.isnull().sum()/df_flights.isnull().count()).sort_values(ascending=False)\n",
    "missing_data = pd.concat([total, percent], axis=1, keys=['Total', 'Percent'])\n",
    "missing_data.head(20)"
   ]
  },
  {
   "cell_type": "raw",
   "metadata": {},
   "source": [
    "missing_data.index"
   ]
  },
  {
   "cell_type": "raw",
   "metadata": {},
   "source": [
    "#clean flights and save as csv\n",
    "df_flights=df_flights.drop(['no_name', 'total_add_gtime', 'longest_add_gtime', 'first_dep_time',\n",
    "       'cancellation_code','cancelled', 'flights','crs_dep_time'],axis=1)"
   ]
  },
  {
   "cell_type": "markdown",
   "metadata": {},
   "source": [
    "## finding latitude and longitude for all rows"
   ]
  },
  {
   "cell_type": "code",
   "execution_count": 7,
   "metadata": {},
   "outputs": [],
   "source": [
    "#read in airport lat/long info Dataframe\n",
    "airports=pd.read_csv(path+'airports.csv')"
   ]
  },
  {
   "cell_type": "code",
   "execution_count": 8,
   "metadata": {},
   "outputs": [],
   "source": [
    "airport_all=airports.drop(['CITY','STATE','COUNTRY'],axis=1)"
   ]
  },
  {
   "cell_type": "code",
   "execution_count": 9,
   "metadata": {},
   "outputs": [],
   "source": [
    "airport_all=airport_all.rename(columns={'IATA_CODE':'origin','LATITUDE':'latitude','LONGITUDE':'longitude'})"
   ]
  },
  {
   "cell_type": "code",
   "execution_count": 10,
   "metadata": {},
   "outputs": [],
   "source": [
    "set_1=set(airports['IATA_CODE'].unique())\n",
    "set_2=set(df_flights['origin'].unique())\n",
    "missing_codes=list(set_2^set_1)"
   ]
  },
  {
   "cell_type": "code",
   "execution_count": 11,
   "metadata": {},
   "outputs": [
    {
     "data": {
      "text/html": [
       "<div>\n",
       "<style scoped>\n",
       "    .dataframe tbody tr th:only-of-type {\n",
       "        vertical-align: middle;\n",
       "    }\n",
       "\n",
       "    .dataframe tbody tr th {\n",
       "        vertical-align: top;\n",
       "    }\n",
       "\n",
       "    .dataframe thead th {\n",
       "        text-align: right;\n",
       "    }\n",
       "</style>\n",
       "<table border=\"1\" class=\"dataframe\">\n",
       "  <thead>\n",
       "    <tr style=\"text-align: right;\">\n",
       "      <th></th>\n",
       "      <th>origin</th>\n",
       "      <th>AIRPORT</th>\n",
       "      <th>latitude</th>\n",
       "      <th>longitude</th>\n",
       "    </tr>\n",
       "  </thead>\n",
       "  <tbody>\n",
       "    <tr>\n",
       "      <th>176</th>\n",
       "      <td>LAX</td>\n",
       "      <td>Los Angeles International Airport</td>\n",
       "      <td>33.94254</td>\n",
       "      <td>-118.40807</td>\n",
       "    </tr>\n",
       "  </tbody>\n",
       "</table>\n",
       "</div>"
      ],
      "text/plain": [
       "    origin                            AIRPORT  latitude  longitude\n",
       "176    LAX  Los Angeles International Airport  33.94254 -118.40807"
      ]
     },
     "execution_count": 11,
     "metadata": {},
     "output_type": "execute_result"
    }
   ],
   "source": [
    "airport_all[airport_all['origin']=='LAX']"
   ]
  },
  {
   "cell_type": "code",
   "execution_count": 12,
   "metadata": {},
   "outputs": [],
   "source": [
    "#'SLN' in missing_codes\n",
    "missing_codes[14]='Salina Regional Airport'"
   ]
  },
  {
   "cell_type": "code",
   "execution_count": 115,
   "metadata": {},
   "outputs": [
    {
     "data": {
      "text/plain": [
       "62"
      ]
     },
     "execution_count": 115,
     "metadata": {},
     "output_type": "execute_result"
    }
   ],
   "source": [
    "len(missing_codes)"
   ]
  },
  {
   "cell_type": "code",
   "execution_count": null,
   "metadata": {},
   "outputs": [],
   "source": []
  },
  {
   "cell_type": "code",
   "execution_count": 13,
   "metadata": {},
   "outputs": [
    {
     "name": "stdout",
     "output_type": "stream",
     "text": [
      "none\n",
      "done\n"
     ]
    }
   ],
   "source": [
    "latitude=[]\n",
    "longitude=[]\n",
    "cit_=[]\n",
    "geolocator = Nominatim(user_agent=\"bc_explorer\")\n",
    "# loop until you get the coordinates\n",
    "for i in range(len(missing_codes)):\n",
    "    #print(i)\n",
    "    location = geolocator.geocode('{}'.format(missing_codes[i]))\n",
    "    latitude.append(location.latitude)\n",
    "    longitude.append(location.longitude)\n",
    "    cit_.append(missing_codes[i])\n",
    "    \n",
    "else:\n",
    "    print('none')\n",
    "print('done')"
   ]
  },
  {
   "cell_type": "code",
   "execution_count": 14,
   "metadata": {},
   "outputs": [],
   "source": [
    "randoms=pd.DataFrame([cit_,latitude,longitude]).T.rename(columns={0:'origin',1:'latitude',2:'longitude'})"
   ]
  },
  {
   "cell_type": "code",
   "execution_count": 15,
   "metadata": {},
   "outputs": [],
   "source": [
    "airports=pd.concat([airport_all,randoms],axis=0,ignore_index=True)"
   ]
  },
  {
   "cell_type": "markdown",
   "metadata": {},
   "source": [
    "## join lat/long for all rows of df_flights table based on origin"
   ]
  },
  {
   "cell_type": "code",
   "execution_count": 16,
   "metadata": {},
   "outputs": [
    {
     "data": {
      "text/html": [
       "<div>\n",
       "<style scoped>\n",
       "    .dataframe tbody tr th:only-of-type {\n",
       "        vertical-align: middle;\n",
       "    }\n",
       "\n",
       "    .dataframe tbody tr th {\n",
       "        vertical-align: top;\n",
       "    }\n",
       "\n",
       "    .dataframe thead th {\n",
       "        text-align: right;\n",
       "    }\n",
       "</style>\n",
       "<table border=\"1\" class=\"dataframe\">\n",
       "  <thead>\n",
       "    <tr style=\"text-align: right;\">\n",
       "      <th></th>\n",
       "      <th>origin</th>\n",
       "      <th>AIRPORT</th>\n",
       "      <th>latitude</th>\n",
       "      <th>longitude</th>\n",
       "    </tr>\n",
       "  </thead>\n",
       "  <tbody>\n",
       "    <tr>\n",
       "      <th>176</th>\n",
       "      <td>LAX</td>\n",
       "      <td>Los Angeles International Airport</td>\n",
       "      <td>33.9425</td>\n",
       "      <td>-118.408</td>\n",
       "    </tr>\n",
       "  </tbody>\n",
       "</table>\n",
       "</div>"
      ],
      "text/plain": [
       "    origin                            AIRPORT latitude longitude\n",
       "176    LAX  Los Angeles International Airport  33.9425  -118.408"
      ]
     },
     "execution_count": 16,
     "metadata": {},
     "output_type": "execute_result"
    }
   ],
   "source": [
    "airports[airports['origin']=='LAX']"
   ]
  },
  {
   "cell_type": "code",
   "execution_count": 17,
   "metadata": {},
   "outputs": [
    {
     "data": {
      "text/plain": [
       "384"
      ]
     },
     "execution_count": 17,
     "metadata": {},
     "output_type": "execute_result"
    }
   ],
   "source": [
    "len(list(airports['origin']))"
   ]
  },
  {
   "cell_type": "code",
   "execution_count": 18,
   "metadata": {},
   "outputs": [],
   "source": [
    "airports=airports[airports['origin'].isin(df_flights['origin'].unique())]"
   ]
  },
  {
   "cell_type": "code",
   "execution_count": 19,
   "metadata": {},
   "outputs": [
    {
     "data": {
      "text/html": [
       "<div>\n",
       "<style scoped>\n",
       "    .dataframe tbody tr th:only-of-type {\n",
       "        vertical-align: middle;\n",
       "    }\n",
       "\n",
       "    .dataframe tbody tr th {\n",
       "        vertical-align: top;\n",
       "    }\n",
       "\n",
       "    .dataframe thead th {\n",
       "        text-align: right;\n",
       "    }\n",
       "</style>\n",
       "<table border=\"1\" class=\"dataframe\">\n",
       "  <thead>\n",
       "    <tr style=\"text-align: right;\">\n",
       "      <th></th>\n",
       "      <th>origin</th>\n",
       "      <th>AIRPORT</th>\n",
       "      <th>latitude</th>\n",
       "      <th>longitude</th>\n",
       "    </tr>\n",
       "  </thead>\n",
       "  <tbody>\n",
       "    <tr>\n",
       "      <th>176</th>\n",
       "      <td>LAX</td>\n",
       "      <td>Los Angeles International Airport</td>\n",
       "      <td>33.9425</td>\n",
       "      <td>-118.408</td>\n",
       "    </tr>\n",
       "  </tbody>\n",
       "</table>\n",
       "</div>"
      ],
      "text/plain": [
       "    origin                            AIRPORT latitude longitude\n",
       "176    LAX  Los Angeles International Airport  33.9425  -118.408"
      ]
     },
     "execution_count": 19,
     "metadata": {},
     "output_type": "execute_result"
    }
   ],
   "source": [
    "airports[airports['origin']=='LAX']"
   ]
  },
  {
   "cell_type": "code",
   "execution_count": null,
   "metadata": {},
   "outputs": [],
   "source": []
  },
  {
   "cell_type": "code",
   "execution_count": 20,
   "metadata": {},
   "outputs": [],
   "source": [
    "dict2=dict.fromkeys(list(airports['origin']))\n",
    "for k, _ in dict2.items():\n",
    "    dict2[k] = []"
   ]
  },
  {
   "cell_type": "code",
   "execution_count": 21,
   "metadata": {},
   "outputs": [],
   "source": [
    "#save weather params to dictionary per api call\n",
    "for param in list(dict2.keys()):\n",
    "        dict2[param].append((airports[airports['origin']==param]['latitude'].values[0],airports[airports['origin']==param]['longitude'].values[0]))\n",
    "        #print(param)\n",
    "# #had to manually add this one\n",
    "# dict2['SLN']=[(38.79083,-97.65222)]"
   ]
  },
  {
   "cell_type": "code",
   "execution_count": 23,
   "metadata": {},
   "outputs": [
    {
     "data": {
      "text/plain": [
       "{'PGV'}"
      ]
     },
     "execution_count": 23,
     "metadata": {},
     "output_type": "execute_result"
    }
   ],
   "source": [
    "set(df_flights['origin'].unique())^set(dict2.keys())"
   ]
  },
  {
   "cell_type": "code",
   "execution_count": 24,
   "metadata": {},
   "outputs": [],
   "source": [
    "#had to manually add this one\n",
    "dict2['PGV']=[(35.63528, -77.38528)]"
   ]
  },
  {
   "cell_type": "code",
   "execution_count": 25,
   "metadata": {},
   "outputs": [
    {
     "data": {
      "text/plain": [
       "376"
      ]
     },
     "execution_count": 25,
     "metadata": {},
     "output_type": "execute_result"
    }
   ],
   "source": [
    "len(dict2)"
   ]
  },
  {
   "cell_type": "raw",
   "metadata": {},
   "source": [
    "df_flights['origin'][0]"
   ]
  },
  {
   "cell_type": "code",
   "execution_count": 26,
   "metadata": {},
   "outputs": [
    {
     "data": {
      "text/plain": [
       "set()"
      ]
     },
     "execution_count": 26,
     "metadata": {},
     "output_type": "execute_result"
    }
   ],
   "source": [
    "set(df_flights['dest'].unique())^set(dict2.keys())"
   ]
  },
  {
   "cell_type": "code",
   "execution_count": 197,
   "metadata": {},
   "outputs": [
    {
     "data": {
      "text/plain": [
       "'SFO'"
      ]
     },
     "execution_count": 197,
     "metadata": {},
     "output_type": "execute_result"
    }
   ],
   "source": [
    "df_flights['origin'][5]"
   ]
  },
  {
   "cell_type": "code",
   "execution_count": 198,
   "metadata": {},
   "outputs": [
    {
     "data": {
      "text/plain": [
       "[(37.619, -122.37483999999999)]"
      ]
     },
     "execution_count": 198,
     "metadata": {},
     "output_type": "execute_result"
    }
   ],
   "source": [
    "dict2['SFO']"
   ]
  },
  {
   "cell_type": "code",
   "execution_count": 27,
   "metadata": {},
   "outputs": [
    {
     "name": "stdout",
     "output_type": "stream",
     "text": [
      "37.619\n",
      "-122.37483999999999\n",
      "33.94254\n",
      "-118.40807\n"
     ]
    }
   ],
   "source": [
    "#dict2[df_flights['origin'][i]][0][0]\n",
    "#dict2[df_flights['dest'][i]][0][1]\n",
    "print(dict2[df_flights['origin'][5]][0][0])\n",
    "print(dict2[df_flights['origin'][5]][0][1])\n",
    "print(dict2[df_flights['dest'][5]][0][0])\n",
    "print(dict2[df_flights['dest'][5]][0][1])"
   ]
  },
  {
   "cell_type": "code",
   "execution_count": 28,
   "metadata": {},
   "outputs": [
    {
     "data": {
      "text/plain": [
       "[(37.619, -122.37483999999999)]"
      ]
     },
     "execution_count": 28,
     "metadata": {},
     "output_type": "execute_result"
    }
   ],
   "source": [
    "dict2['SFO']"
   ]
  },
  {
   "cell_type": "code",
   "execution_count": 29,
   "metadata": {},
   "outputs": [
    {
     "data": {
      "text/plain": [
       "[(33.94254, -118.40807)]"
      ]
     },
     "execution_count": 29,
     "metadata": {},
     "output_type": "execute_result"
    }
   ],
   "source": [
    "dict2['LAX']"
   ]
  },
  {
   "cell_type": "code",
   "execution_count": 30,
   "metadata": {},
   "outputs": [],
   "source": [
    "# this takes the newly created dictionary with airport code and lati/longi\n",
    "# and adds lati/longi for each instance of that airport code in the 3 million \n",
    "# rows we have\n",
    "lati=[]\n",
    "longi=[]\n",
    "lati_dest=[]\n",
    "longi_dest=[]\n",
    "for i in range(len(df_flights)):\n",
    "    lati.append(dict2[df_flights['origin'][i]][0][0])\n",
    "    longi.append(dict2[df_flights['origin'][i]][0][1])\n",
    "    lati_dest.append(dict2[df_flights['dest'][i]][0][0])\n",
    "    longi_dest.append(dict2[df_flights['dest'][i]][0][1])"
   ]
  },
  {
   "cell_type": "raw",
   "metadata": {},
   "source": [
    "15927484"
   ]
  },
  {
   "cell_type": "code",
   "execution_count": 31,
   "metadata": {},
   "outputs": [
    {
     "data": {
      "text/plain": [
       "(15927485, 36)"
      ]
     },
     "execution_count": 31,
     "metadata": {},
     "output_type": "execute_result"
    }
   ],
   "source": [
    "df_flights.shape"
   ]
  },
  {
   "cell_type": "code",
   "execution_count": 32,
   "metadata": {},
   "outputs": [
    {
     "data": {
      "text/plain": [
       "15927485"
      ]
     },
     "execution_count": 32,
     "metadata": {},
     "output_type": "execute_result"
    }
   ],
   "source": [
    "len(lati)"
   ]
  },
  {
   "cell_type": "code",
   "execution_count": 33,
   "metadata": {},
   "outputs": [],
   "source": [
    "df_flights['ori_latitude']=lati\n",
    "df_flights['ori_longitude']=longi\n",
    "df_flights['dest_latitude']=lati_dest\n",
    "df_flights['dest_longitude']=longi_dest"
   ]
  },
  {
   "cell_type": "markdown",
   "metadata": {},
   "source": [
    "# optimizing datatypes in dataframe\n",
    "\n",
    "https://www.dataquest.io/blog/pandas-big-data/"
   ]
  },
  {
   "cell_type": "code",
   "execution_count": 34,
   "metadata": {
    "collapsed": true,
    "jupyter": {
     "outputs_hidden": true
    }
   },
   "outputs": [
    {
     "name": "stdout",
     "output_type": "stream",
     "text": [
      "<class 'pandas.core.frame.DataFrame'>\n",
      "RangeIndex: 15927485 entries, 0 to 15927484\n",
      "Data columns (total 40 columns):\n",
      " #   Column               Dtype  \n",
      "---  ------               -----  \n",
      " 0   fl_date              object \n",
      " 1   mkt_carrier_fl_num   int64  \n",
      " 2   op_unique_carrier    object \n",
      " 3   tail_num             object \n",
      " 4   op_carrier_fl_num    int64  \n",
      " 5   origin_airport_id    int64  \n",
      " 6   origin               object \n",
      " 7   dest_airport_id      int64  \n",
      " 8   dest                 object \n",
      " 9   crs_dep_time         int64  \n",
      " 10  dep_time             float64\n",
      " 11  dep_delay            float64\n",
      " 12  taxi_out             float64\n",
      " 13  wheels_off           float64\n",
      " 14  wheels_on            float64\n",
      " 15  taxi_in              float64\n",
      " 16  crs_arr_time         int64  \n",
      " 17  arr_time             float64\n",
      " 18  arr_delay            float64\n",
      " 19  cancelled            int64  \n",
      " 20  cancellation_code    object \n",
      " 21  diverted             int64  \n",
      " 22  crs_elapsed_time     float64\n",
      " 23  actual_elapsed_time  float64\n",
      " 24  air_time             float64\n",
      " 25  flights              int64  \n",
      " 26  distance             int64  \n",
      " 27  carrier_delay        float64\n",
      " 28  weather_delay        float64\n",
      " 29  nas_delay            float64\n",
      " 30  security_delay       float64\n",
      " 31  late_aircraft_delay  float64\n",
      " 32  first_dep_time       float64\n",
      " 33  total_add_gtime      float64\n",
      " 34  longest_add_gtime    float64\n",
      " 35  no_name              float64\n",
      " 36  ori_latitude         float64\n",
      " 37  ori_longitude        float64\n",
      " 38  dest_latitude        float64\n",
      " 39  dest_longitude       float64\n",
      "dtypes: float64(24), int64(10), object(6)\n",
      "memory usage: 9.1 GB\n"
     ]
    }
   ],
   "source": [
    "df_flights.info(memory_usage='deep')"
   ]
  },
  {
   "cell_type": "code",
   "execution_count": 35,
   "metadata": {},
   "outputs": [
    {
     "name": "stdout",
     "output_type": "stream",
     "text": [
      "Average memory usage for float columns: 116.66 MB\n",
      "Average memory usage for int columns: 110.47 MB\n",
      "Average memory usage for object columns: 740.67 MB\n"
     ]
    }
   ],
   "source": [
    "for dtype in ['float','int','object']:\n",
    "    selected_dtype = df_flights.select_dtypes(include=[dtype])\n",
    "    mean_usage_b = selected_dtype.memory_usage(deep=True).mean()\n",
    "    mean_usage_mb = mean_usage_b / 1024 ** 2\n",
    "    print(\"Average memory usage for {} columns: {:03.2f} MB\".format(dtype,mean_usage_mb))"
   ]
  },
  {
   "cell_type": "code",
   "execution_count": 36,
   "metadata": {},
   "outputs": [],
   "source": [
    "# We're going to be calculating memory usage a lot,\n",
    "# so we'll create a function to save us some time!\n",
    "def mem_usage(pandas_obj):\n",
    "    if isinstance(pandas_obj,pd.DataFrame):\n",
    "        usage_b = pandas_obj.memory_usage(deep=True).sum()\n",
    "    else: # we assume if not a df it's a series\n",
    "        usage_b = pandas_obj.memory_usage(deep=True)\n",
    "    usage_mb = usage_b / 1024 ** 2 # convert bytes to megabytes\n",
    "    return \"{:03.2f} MB\".format(usage_mb)"
   ]
  },
  {
   "cell_type": "code",
   "execution_count": 37,
   "metadata": {},
   "outputs": [
    {
     "name": "stdout",
     "output_type": "stream",
     "text": [
      "1215.17 MB\n",
      "258.22 MB\n",
      "2916.41 MB\n",
      "1458.20 MB\n"
     ]
    },
    {
     "data": {
      "text/html": [
       "<div>\n",
       "<style scoped>\n",
       "    .dataframe tbody tr th:only-of-type {\n",
       "        vertical-align: middle;\n",
       "    }\n",
       "\n",
       "    .dataframe tbody tr th {\n",
       "        vertical-align: top;\n",
       "    }\n",
       "\n",
       "    .dataframe thead th {\n",
       "        text-align: right;\n",
       "    }\n",
       "</style>\n",
       "<table border=\"1\" class=\"dataframe\">\n",
       "  <thead>\n",
       "    <tr style=\"text-align: right;\">\n",
       "      <th></th>\n",
       "      <th>before</th>\n",
       "      <th>after</th>\n",
       "    </tr>\n",
       "  </thead>\n",
       "  <tbody>\n",
       "    <tr>\n",
       "      <th>float32</th>\n",
       "      <td>NaN</td>\n",
       "      <td>24.0</td>\n",
       "    </tr>\n",
       "    <tr>\n",
       "      <th>float64</th>\n",
       "      <td>24.0</td>\n",
       "      <td>NaN</td>\n",
       "    </tr>\n",
       "  </tbody>\n",
       "</table>\n",
       "</div>"
      ],
      "text/plain": [
       "         before  after\n",
       "float32     NaN   24.0\n",
       "float64    24.0    NaN"
      ]
     },
     "execution_count": 37,
     "metadata": {},
     "output_type": "execute_result"
    }
   ],
   "source": [
    "### integers\n",
    "gl_int = df_flights.select_dtypes(include=['int'])\n",
    "converted_int = gl_int.apply(pd.to_numeric,downcast='unsigned')\n",
    "print(mem_usage(gl_int))\n",
    "print(mem_usage(converted_int))\n",
    "compare_ints = pd.concat([gl_int.dtypes,converted_int.dtypes],axis=1)\n",
    "compare_ints.columns = ['before','after']\n",
    "compare_ints.apply(pd.Series.value_counts)\n",
    "\n",
    "### floats\n",
    "gl_float = df_flights.select_dtypes(include=['float'])\n",
    "converted_float = gl_float.apply(pd.to_numeric,downcast='float')\n",
    "print(mem_usage(gl_float))\n",
    "print(mem_usage(converted_float))\n",
    "compare_floats = pd.concat([gl_float.dtypes,converted_float.dtypes],axis=1)\n",
    "compare_floats.columns = ['before','after']\n",
    "compare_floats.apply(pd.Series.value_counts)"
   ]
  },
  {
   "cell_type": "code",
   "execution_count": 38,
   "metadata": {},
   "outputs": [
    {
     "name": "stdout",
     "output_type": "stream",
     "text": [
      "9316.24 MB\n",
      "6901.08 MB\n"
     ]
    }
   ],
   "source": [
    "### Optimize for numeric\n",
    "optimized_gl = df_flights.copy()\n",
    "optimized_gl[converted_int.columns] = converted_int\n",
    "optimized_gl[converted_float.columns] = converted_float\n",
    "print(mem_usage(df_flights))\n",
    "print(mem_usage(optimized_gl))"
   ]
  },
  {
   "cell_type": "raw",
   "metadata": {},
   "source": [
    "opt_flights=optimized_gl.drop(['mkt_unique_carrier','branded_code_share','mkt_carrier','dup','dest_city_name','origin_city_name'],axis=1)"
   ]
  },
  {
   "cell_type": "raw",
   "metadata": {},
   "source": [
    "print(mem_usage(opt_flights))"
   ]
  },
  {
   "cell_type": "code",
   "execution_count": 39,
   "metadata": {},
   "outputs": [],
   "source": [
    "opt_flights=copy.deepcopy(optimized_gl)"
   ]
  },
  {
   "cell_type": "code",
   "execution_count": 40,
   "metadata": {},
   "outputs": [],
   "source": [
    "flight_date=opt_flights['fl_date']\n",
    "opt_flights=opt_flights.drop('fl_date',axis=1)"
   ]
  },
  {
   "cell_type": "code",
   "execution_count": 41,
   "metadata": {},
   "outputs": [
    {
     "data": {
      "text/html": [
       "<div>\n",
       "<style scoped>\n",
       "    .dataframe tbody tr th:only-of-type {\n",
       "        vertical-align: middle;\n",
       "    }\n",
       "\n",
       "    .dataframe tbody tr th {\n",
       "        vertical-align: top;\n",
       "    }\n",
       "\n",
       "    .dataframe thead th {\n",
       "        text-align: right;\n",
       "    }\n",
       "</style>\n",
       "<table border=\"1\" class=\"dataframe\">\n",
       "  <thead>\n",
       "    <tr style=\"text-align: right;\">\n",
       "      <th></th>\n",
       "      <th>op_unique_carrier</th>\n",
       "      <th>tail_num</th>\n",
       "      <th>origin</th>\n",
       "      <th>dest</th>\n",
       "      <th>cancellation_code</th>\n",
       "    </tr>\n",
       "  </thead>\n",
       "  <tbody>\n",
       "    <tr>\n",
       "      <th>count</th>\n",
       "      <td>15927485</td>\n",
       "      <td>15878216</td>\n",
       "      <td>15927485</td>\n",
       "      <td>15927485</td>\n",
       "      <td>269208</td>\n",
       "    </tr>\n",
       "    <tr>\n",
       "      <th>unique</th>\n",
       "      <td>28</td>\n",
       "      <td>6487</td>\n",
       "      <td>376</td>\n",
       "      <td>376</td>\n",
       "      <td>5</td>\n",
       "    </tr>\n",
       "    <tr>\n",
       "      <th>top</th>\n",
       "      <td>WN</td>\n",
       "      <td>N494HA</td>\n",
       "      <td>ORD</td>\n",
       "      <td>ORD</td>\n",
       "      <td>B</td>\n",
       "    </tr>\n",
       "    <tr>\n",
       "      <th>freq</th>\n",
       "      <td>2713963</td>\n",
       "      <td>6868</td>\n",
       "      <td>790253</td>\n",
       "      <td>790129</td>\n",
       "      <td>142089</td>\n",
       "    </tr>\n",
       "  </tbody>\n",
       "</table>\n",
       "</div>"
      ],
      "text/plain": [
       "       op_unique_carrier  tail_num    origin      dest cancellation_code\n",
       "count           15927485  15878216  15927485  15927485            269208\n",
       "unique                28      6487       376       376                 5\n",
       "top                   WN    N494HA       ORD       ORD                 B\n",
       "freq             2713963      6868    790253    790129            142089"
      ]
     },
     "execution_count": 41,
     "metadata": {},
     "output_type": "execute_result"
    }
   ],
   "source": [
    "gl_obj = opt_flights.select_dtypes(include=['object']).copy()\n",
    "gl_obj.describe()"
   ]
  },
  {
   "cell_type": "code",
   "execution_count": 42,
   "metadata": {},
   "outputs": [],
   "source": [
    "converted_obj = pd.DataFrame()\n",
    "for col in gl_obj.columns:\n",
    "    num_unique_values = len(gl_obj[col].unique())\n",
    "    num_total_values = len(gl_obj[col])\n",
    "    if num_unique_values / num_total_values < 0.5:\n",
    "        converted_obj.loc[:,col] = gl_obj[col].astype('category')\n",
    "    else:\n",
    "        converted_obj.loc[:,col] = gl_obj[col]"
   ]
  },
  {
   "cell_type": "code",
   "execution_count": 43,
   "metadata": {},
   "outputs": [
    {
     "name": "stdout",
     "output_type": "stream",
     "text": [
      "4166.95 MB\n",
      "122.29 MB\n"
     ]
    },
    {
     "data": {
      "text/html": [
       "<div>\n",
       "<style scoped>\n",
       "    .dataframe tbody tr th:only-of-type {\n",
       "        vertical-align: middle;\n",
       "    }\n",
       "\n",
       "    .dataframe tbody tr th {\n",
       "        vertical-align: top;\n",
       "    }\n",
       "\n",
       "    .dataframe thead th {\n",
       "        text-align: right;\n",
       "    }\n",
       "</style>\n",
       "<table border=\"1\" class=\"dataframe\">\n",
       "  <thead>\n",
       "    <tr style=\"text-align: right;\">\n",
       "      <th></th>\n",
       "      <th>before</th>\n",
       "      <th>after</th>\n",
       "    </tr>\n",
       "  </thead>\n",
       "  <tbody>\n",
       "    <tr>\n",
       "      <th>object</th>\n",
       "      <td>5.0</td>\n",
       "      <td>NaN</td>\n",
       "    </tr>\n",
       "    <tr>\n",
       "      <th>category</th>\n",
       "      <td>NaN</td>\n",
       "      <td>2.0</td>\n",
       "    </tr>\n",
       "    <tr>\n",
       "      <th>category</th>\n",
       "      <td>NaN</td>\n",
       "      <td>1.0</td>\n",
       "    </tr>\n",
       "    <tr>\n",
       "      <th>category</th>\n",
       "      <td>NaN</td>\n",
       "      <td>1.0</td>\n",
       "    </tr>\n",
       "    <tr>\n",
       "      <th>category</th>\n",
       "      <td>NaN</td>\n",
       "      <td>1.0</td>\n",
       "    </tr>\n",
       "  </tbody>\n",
       "</table>\n",
       "</div>"
      ],
      "text/plain": [
       "          before  after\n",
       "object       5.0    NaN\n",
       "category     NaN    2.0\n",
       "category     NaN    1.0\n",
       "category     NaN    1.0\n",
       "category     NaN    1.0"
      ]
     },
     "execution_count": 43,
     "metadata": {},
     "output_type": "execute_result"
    }
   ],
   "source": [
    "print(mem_usage(gl_obj))\n",
    "print(mem_usage(converted_obj))\n",
    "compare_obj = pd.concat([gl_obj.dtypes,converted_obj.dtypes],axis=1)\n",
    "compare_obj.columns = ['before','after']\n",
    "compare_obj.apply(pd.Series.value_counts)"
   ]
  },
  {
   "cell_type": "code",
   "execution_count": 44,
   "metadata": {},
   "outputs": [
    {
     "data": {
      "text/plain": [
       "'1838.71 MB'"
      ]
     },
     "execution_count": 44,
     "metadata": {},
     "output_type": "execute_result"
    }
   ],
   "source": [
    "opt_flights[converted_obj.columns] = converted_obj\n",
    "mem_usage(opt_flights)"
   ]
  },
  {
   "cell_type": "code",
   "execution_count": 45,
   "metadata": {},
   "outputs": [
    {
     "data": {
      "text/plain": [
       "Index(['mkt_carrier_fl_num', 'op_unique_carrier', 'tail_num',\n",
       "       'op_carrier_fl_num', 'origin_airport_id', 'origin', 'dest_airport_id',\n",
       "       'dest', 'crs_dep_time', 'dep_time', 'dep_delay', 'taxi_out',\n",
       "       'wheels_off', 'wheels_on', 'taxi_in', 'crs_arr_time', 'arr_time',\n",
       "       'arr_delay', 'cancelled', 'cancellation_code', 'diverted',\n",
       "       'crs_elapsed_time', 'actual_elapsed_time', 'air_time', 'flights',\n",
       "       'distance', 'carrier_delay', 'weather_delay', 'nas_delay',\n",
       "       'security_delay', 'late_aircraft_delay', 'first_dep_time',\n",
       "       'total_add_gtime', 'longest_add_gtime', 'no_name', 'ori_latitude',\n",
       "       'ori_longitude', 'dest_latitude', 'dest_longitude'],\n",
       "      dtype='object')"
      ]
     },
     "execution_count": 45,
     "metadata": {},
     "output_type": "execute_result"
    }
   ],
   "source": [
    "opt_flights.columns"
   ]
  },
  {
   "cell_type": "code",
   "execution_count": 49,
   "metadata": {},
   "outputs": [
    {
     "name": "stdout",
     "output_type": "stream",
     "text": [
      "{'mkt_carrier_fl_num': 'uint16', 'op_unique_carrier': 'category', 'tail_num': 'category', 'op_carrier_fl_num': 'uint16', 'origin_airport_id': 'uint16', 'origin': 'category', 'dest_airport_id': 'uint16', 'dest': 'category', 'crs_dep_time': 'uint16', 'dep_time': 'float32'}\n"
     ]
    }
   ],
   "source": [
    "dtypes = opt_flights.dtypes\n",
    "dtypes_col = dtypes.index\n",
    "dtypes_type = [i.name for i in dtypes.values]\n",
    "column_types = dict(zip(dtypes_col, dtypes_type))\n",
    "# rather than print all 161 items, we'll\n",
    "# sample 10 key/value pairs from the dict\n",
    "# and print it nicely using prettyprint\n",
    "preview = first2pairs = {key:value for key,value in list(column_types.items())[:10]}\n",
    "#import pprintpp\n",
    "#pp = pp = pprint.PrettyPrinter(indent=4)\n",
    "print(preview)"
   ]
  },
  {
   "cell_type": "code",
   "execution_count": 50,
   "metadata": {},
   "outputs": [
    {
     "data": {
      "text/plain": [
       "(15927485,)"
      ]
     },
     "execution_count": 50,
     "metadata": {},
     "output_type": "execute_result"
    }
   ],
   "source": [
    "flight_date.shape"
   ]
  },
  {
   "cell_type": "code",
   "execution_count": 51,
   "metadata": {},
   "outputs": [],
   "source": [
    "opt_flights['fl_date']=flight_date"
   ]
  },
  {
   "cell_type": "raw",
   "metadata": {},
   "source": [
    "read_and_optimized = pd.read_csv('game_logs.csv',dtype=column_types,parse_dates=['date'],infer_datetime_format=True)\n",
    "print(mem_usage(read_and_optimized))\n",
    "read_and_optimized.head()"
   ]
  },
  {
   "cell_type": "code",
   "execution_count": null,
   "metadata": {},
   "outputs": [],
   "source": []
  },
  {
   "cell_type": "code",
   "execution_count": 52,
   "metadata": {},
   "outputs": [],
   "source": [
    "#save to .csv\n",
    "opt_flights.to_csv(path+'df_flights.csv')"
   ]
  },
  {
   "cell_type": "markdown",
   "metadata": {},
   "source": [
    "# Weather"
   ]
  },
  {
   "cell_type": "code",
   "execution_count": 58,
   "metadata": {},
   "outputs": [
    {
     "data": {
      "text/plain": [
       "Index(['mkt_carrier_fl_num', 'op_unique_carrier', 'tail_num',\n",
       "       'op_carrier_fl_num', 'origin_airport_id', 'origin', 'dest_airport_id',\n",
       "       'dest', 'crs_dep_time', 'dep_time', 'dep_delay', 'taxi_out',\n",
       "       'wheels_off', 'wheels_on', 'taxi_in', 'crs_arr_time', 'arr_time',\n",
       "       'arr_delay', 'cancelled', 'cancellation_code', 'diverted',\n",
       "       'crs_elapsed_time', 'actual_elapsed_time', 'air_time', 'flights',\n",
       "       'distance', 'carrier_delay', 'weather_delay', 'nas_delay',\n",
       "       'security_delay', 'late_aircraft_delay', 'first_dep_time',\n",
       "       'total_add_gtime', 'longest_add_gtime', 'no_name', 'ori_latitude',\n",
       "       'ori_longitude', 'dest_latitude', 'dest_longitude', 'fl_date'],\n",
       "      dtype='object')"
      ]
     },
     "execution_count": 58,
     "metadata": {},
     "output_type": "execute_result"
    }
   ],
   "source": [
    "opt_flights.columns"
   ]
  },
  {
   "cell_type": "code",
   "execution_count": 116,
   "metadata": {},
   "outputs": [
    {
     "data": {
      "text/plain": [
       "['ECP', 'PBG']\n",
       "Categories (2, object): ['ECP', 'PBG']"
      ]
     },
     "execution_count": 116,
     "metadata": {},
     "output_type": "execute_result"
    }
   ],
   "source": [
    "opt_flights[opt_flights['ori_latitude'].isnull()]['origin'].unique()"
   ]
  },
  {
   "cell_type": "code",
   "execution_count": 117,
   "metadata": {},
   "outputs": [
    {
     "data": {
      "text/plain": [
       "['ECP', 'PBG']\n",
       "Categories (2, object): ['ECP', 'PBG']"
      ]
     },
     "execution_count": 117,
     "metadata": {},
     "output_type": "execute_result"
    }
   ],
   "source": [
    "opt_flights[opt_flights['dest_latitude'].isnull()]['dest'].unique()"
   ]
  },
  {
   "cell_type": "raw",
   "metadata": {},
   "source": [
    "'ECP' 30.3549° N, -85.7995\n",
    "'PBG' 44.6521° N, -73.4679"
   ]
  },
  {
   "cell_type": "code",
   "execution_count": 118,
   "metadata": {},
   "outputs": [],
   "source": [
    "#adding lat/lon for ECP\n",
    "opt_flights.loc[opt_flights['origin']=='ECP', 'ori_latitude']=30.3549\n",
    "opt_flights.loc[opt_flights['origin']=='ECP','ori_longitude']=-85.7995\n",
    "opt_flights.loc[opt_flights['dest']=='ECP','dest_latitude']=30.3549\n",
    "opt_flights.loc[opt_flights['dest']=='ECP','dest_longitude']=-85.7995"
   ]
  },
  {
   "cell_type": "code",
   "execution_count": 119,
   "metadata": {},
   "outputs": [],
   "source": [
    "#adding lat/lon for PBG\n",
    "opt_flights.loc[opt_flights['origin']=='PBG', 'ori_latitude']=44.6521\n",
    "opt_flights.loc[opt_flights['origin']=='PBG','ori_longitude']=-73.4679\n",
    "opt_flights.loc[opt_flights['dest']=='PBG','dest_latitude']=44.6521\n",
    "opt_flights.loc[opt_flights['dest']=='PBG','dest_longitude']=-73.4679"
   ]
  },
  {
   "cell_type": "code",
   "execution_count": 85,
   "metadata": {},
   "outputs": [
    {
     "data": {
      "text/plain": [
       "Index(['mkt_carrier_fl_num', 'op_unique_carrier', 'tail_num',\n",
       "       'op_carrier_fl_num', 'origin_airport_id', 'origin', 'dest_airport_id',\n",
       "       'dest', 'crs_dep_time', 'dep_time', 'dep_delay', 'taxi_out',\n",
       "       'wheels_off', 'wheels_on', 'taxi_in', 'crs_arr_time', 'arr_time',\n",
       "       'arr_delay', 'cancelled', 'cancellation_code', 'diverted',\n",
       "       'crs_elapsed_time', 'actual_elapsed_time', 'air_time', 'flights',\n",
       "       'distance', 'carrier_delay', 'weather_delay', 'nas_delay',\n",
       "       'security_delay', 'late_aircraft_delay', 'first_dep_time',\n",
       "       'total_add_gtime', 'longest_add_gtime', 'no_name', 'ori_latitude',\n",
       "       'ori_longitude', 'dest_latitude', 'dest_longitude', 'fl_date'],\n",
       "      dtype='object')"
      ]
     },
     "execution_count": 85,
     "metadata": {},
     "output_type": "execute_result"
    }
   ],
   "source": [
    "opt_flights.columns"
   ]
  },
  {
   "cell_type": "code",
   "execution_count": 4,
   "metadata": {},
   "outputs": [],
   "source": [
    "path='/Users/carlyfennell/DataScience/data_bootcamp/data/'"
   ]
  },
  {
   "cell_type": "code",
   "execution_count": 5,
   "metadata": {},
   "outputs": [],
   "source": [
    "#read in weather info Dataframe\n",
    "A_W=pd.read_csv(path+'agg_weath_10_26.csv')\n",
    "A_W=A_W.drop('Unnamed: 0',axis=1)"
   ]
  },
  {
   "cell_type": "code",
   "execution_count": 86,
   "metadata": {},
   "outputs": [
    {
     "data": {
      "text/html": [
       "<div>\n",
       "<style scoped>\n",
       "    .dataframe tbody tr th:only-of-type {\n",
       "        vertical-align: middle;\n",
       "    }\n",
       "\n",
       "    .dataframe tbody tr th {\n",
       "        vertical-align: top;\n",
       "    }\n",
       "\n",
       "    .dataframe thead th {\n",
       "        text-align: right;\n",
       "    }\n",
       "</style>\n",
       "<table border=\"1\" class=\"dataframe\">\n",
       "  <thead>\n",
       "    <tr style=\"text-align: right;\">\n",
       "      <th></th>\n",
       "      <th>latitude</th>\n",
       "      <th>longitude</th>\n",
       "    </tr>\n",
       "  </thead>\n",
       "  <tbody>\n",
       "    <tr>\n",
       "      <th>10</th>\n",
       "      <td>26.919414</td>\n",
       "      <td>-81.993028</td>\n",
       "    </tr>\n",
       "    <tr>\n",
       "      <th>11</th>\n",
       "      <td>26.919414</td>\n",
       "      <td>-81.993028</td>\n",
       "    </tr>\n",
       "    <tr>\n",
       "      <th>12</th>\n",
       "      <td>29.647149</td>\n",
       "      <td>-95.276926</td>\n",
       "    </tr>\n",
       "    <tr>\n",
       "      <th>13</th>\n",
       "      <td>29.647149</td>\n",
       "      <td>-95.276926</td>\n",
       "    </tr>\n",
       "  </tbody>\n",
       "</table>\n",
       "</div>"
      ],
      "text/plain": [
       "     latitude  longitude\n",
       "10  26.919414 -81.993028\n",
       "11  26.919414 -81.993028\n",
       "12  29.647149 -95.276926\n",
       "13  29.647149 -95.276926"
      ]
     },
     "execution_count": 86,
     "metadata": {},
     "output_type": "execute_result"
    }
   ],
   "source": [
    "A_W[['latitude','longitude']].iloc[10:14]"
   ]
  },
  {
   "cell_type": "code",
   "execution_count": 6,
   "metadata": {},
   "outputs": [],
   "source": [
    "column_types={'mkt_carrier_fl_num': 'uint16', 'op_unique_carrier': 'category', 'tail_num': 'category', 'op_carrier_fl_num': 'uint16', 'origin_airport_id': 'uint16', 'origin': 'category', 'dest_airport_id': 'uint16', 'dest': 'category', 'crs_dep_time': 'uint16', 'dep_time': 'float32'}"
   ]
  },
  {
   "cell_type": "code",
   "execution_count": 7,
   "metadata": {},
   "outputs": [
    {
     "data": {
      "text/plain": [
       "{'mkt_carrier_fl_num': 'uint16',\n",
       " 'op_unique_carrier': 'category',\n",
       " 'tail_num': 'category',\n",
       " 'op_carrier_fl_num': 'uint16',\n",
       " 'origin_airport_id': 'uint16',\n",
       " 'origin': 'category',\n",
       " 'dest_airport_id': 'uint16',\n",
       " 'dest': 'category',\n",
       " 'crs_dep_time': 'uint16',\n",
       " 'dep_time': 'float32'}"
      ]
     },
     "execution_count": 7,
     "metadata": {},
     "output_type": "execute_result"
    }
   ],
   "source": [
    "column_types"
   ]
  },
  {
   "cell_type": "code",
   "execution_count": 9,
   "metadata": {},
   "outputs": [
    {
     "name": "stderr",
     "output_type": "stream",
     "text": [
      "/opt/anaconda3/envs/bootcamp_env/lib/python3.7/site-packages/IPython/core/interactiveshell.py:3072: DtypeWarning: Columns (20) have mixed types.Specify dtype option on import or set low_memory=False.\n",
      "  interactivity=interactivity, compiler=compiler, result=result)\n"
     ]
    },
    {
     "ename": "NameError",
     "evalue": "name 'mem_usage' is not defined",
     "output_type": "error",
     "traceback": [
      "\u001b[0;31m---------------------------------------------------------------------------\u001b[0m",
      "\u001b[0;31mNameError\u001b[0m                                 Traceback (most recent call last)",
      "\u001b[0;32m<ipython-input-9-3338ec81259d>\u001b[0m in \u001b[0;36m<module>\u001b[0;34m\u001b[0m\n\u001b[1;32m      1\u001b[0m \u001b[0mopt_flights\u001b[0m\u001b[0;34m=\u001b[0m \u001b[0mpd\u001b[0m\u001b[0;34m.\u001b[0m\u001b[0mread_csv\u001b[0m\u001b[0;34m(\u001b[0m\u001b[0mpath\u001b[0m\u001b[0;34m+\u001b[0m\u001b[0;34m'df_flights.csv'\u001b[0m\u001b[0;34m,\u001b[0m\u001b[0mdtype\u001b[0m\u001b[0;34m=\u001b[0m\u001b[0mcolumn_types\u001b[0m\u001b[0;34m,\u001b[0m\u001b[0mparse_dates\u001b[0m\u001b[0;34m=\u001b[0m\u001b[0;34m[\u001b[0m\u001b[0;34m'fl_date'\u001b[0m\u001b[0;34m]\u001b[0m\u001b[0;34m,\u001b[0m\u001b[0minfer_datetime_format\u001b[0m\u001b[0;34m=\u001b[0m\u001b[0;32mTrue\u001b[0m\u001b[0;34m)\u001b[0m\u001b[0;34m\u001b[0m\u001b[0;34m\u001b[0m\u001b[0m\n\u001b[0;32m----> 2\u001b[0;31m \u001b[0mprint\u001b[0m\u001b[0;34m(\u001b[0m\u001b[0mmem_usage\u001b[0m\u001b[0;34m(\u001b[0m\u001b[0mopt_flights\u001b[0m\u001b[0;34m)\u001b[0m\u001b[0;34m)\u001b[0m\u001b[0;34m\u001b[0m\u001b[0;34m\u001b[0m\u001b[0m\n\u001b[0m\u001b[1;32m      3\u001b[0m \u001b[0mread_and_optimized\u001b[0m\u001b[0;34m.\u001b[0m\u001b[0mhead\u001b[0m\u001b[0;34m(\u001b[0m\u001b[0;34m)\u001b[0m\u001b[0;34m\u001b[0m\u001b[0;34m\u001b[0m\u001b[0m\n",
      "\u001b[0;31mNameError\u001b[0m: name 'mem_usage' is not defined"
     ]
    }
   ],
   "source": [
    "opt_flights= pd.read_csv(path+'df_flights.csv',dtype=column_types,parse_dates=['fl_date'],infer_datetime_format=True)\n"
   ]
  },
  {
   "cell_type": "code",
   "execution_count": 10,
   "metadata": {},
   "outputs": [
    {
     "data": {
      "text/plain": [
       "(15927485, 41)"
      ]
     },
     "execution_count": 10,
     "metadata": {},
     "output_type": "execute_result"
    }
   ],
   "source": [
    "opt_flights.shape"
   ]
  },
  {
   "cell_type": "code",
   "execution_count": 30,
   "metadata": {},
   "outputs": [],
   "source": [
    "opt_flights=opt_flights.drop('Unnamed: 0',axis=1)"
   ]
  },
  {
   "cell_type": "markdown",
   "metadata": {},
   "source": [
    "# Stopped here for now\n",
    "\n",
    "explanation for lat/lon closest to point code\n",
    "https://stackoverflow.com/questions/41336756/find-the-closest-latitude-and-longitude"
   ]
  },
  {
   "cell_type": "code",
   "execution_count": 180,
   "metadata": {},
   "outputs": [
    {
     "data": {
      "text/plain": [
       "7.0710678118654755"
      ]
     },
     "execution_count": 180,
     "metadata": {},
     "output_type": "execute_result"
    }
   ],
   "source": [
    "sqrt(50)"
   ]
  },
  {
   "cell_type": "code",
   "execution_count": 11,
   "metadata": {},
   "outputs": [
    {
     "data": {
      "text/plain": [
       "22"
      ]
     },
     "execution_count": 11,
     "metadata": {},
     "output_type": "execute_result"
    }
   ],
   "source": [
    "#combining lat/long so that I can ensure they stay together when I search for unique values\n",
    "combo_=[]\n",
    "for i in range(len(A_W)):\n",
    "    combo_.append((A_W['latitude'][i],A_W['longitude'][i],A_W['origin'][i]))\n",
    "A_W['combo']=combo_\n",
    "len(A_W['combo'].unique())"
   ]
  },
  {
   "cell_type": "raw",
   "metadata": {},
   "source": [
    "A_W.columns"
   ]
  },
  {
   "cell_type": "code",
   "execution_count": 12,
   "metadata": {},
   "outputs": [],
   "source": [
    "opt_flights['fl_date']=opt_flights['fl_date'].astype('datetime64[ns]')\n",
    "opt_flights['month']=opt_flights['fl_date'].dt.month"
   ]
  },
  {
   "cell_type": "code",
   "execution_count": 13,
   "metadata": {},
   "outputs": [
    {
     "data": {
      "text/plain": [
       "array([ 5,  2,  9,  4,  7,  3,  1,  8, 10, 11,  6, 12])"
      ]
     },
     "execution_count": 13,
     "metadata": {},
     "output_type": "execute_result"
    }
   ],
   "source": [
    "opt_flights['month'].unique()"
   ]
  },
  {
   "cell_type": "code",
   "execution_count": 14,
   "metadata": {},
   "outputs": [
    {
     "data": {
      "text/plain": [
       "{'Jan': 1,\n",
       " 'Feb': 2,\n",
       " 'Mar': 3,\n",
       " 'Apr': 4,\n",
       " 'May': 5,\n",
       " 'Jun': 6,\n",
       " 'Jul': 7,\n",
       " 'Aug': 8,\n",
       " 'Sep': 9,\n",
       " 'Oct': 10,\n",
       " 'Nov': 11,\n",
       " 'Dec': 12}"
      ]
     },
     "execution_count": 14,
     "metadata": {},
     "output_type": "execute_result"
    }
   ],
   "source": [
    "#initialize month dictionary\n",
    "values=np.arange(1,13)\n",
    "keys=list(A_W['period'].unique())\n",
    "month_dict=dict(zip(keys, values))\n",
    "month_dict"
   ]
  },
  {
   "cell_type": "code",
   "execution_count": 16,
   "metadata": {},
   "outputs": [
    {
     "data": {
      "text/plain": [
       "264"
      ]
     },
     "execution_count": 16,
     "metadata": {},
     "output_type": "execute_result"
    }
   ],
   "source": [
    "len(A_W)"
   ]
  },
  {
   "cell_type": "code",
   "execution_count": 17,
   "metadata": {},
   "outputs": [],
   "source": [
    "#Add month number column (convert from abbrev)\n",
    "month_=[]\n",
    "for i in range(len(A_W)):\n",
    "    month_.append(month_dict[A_W['period'][i]])"
   ]
  },
  {
   "cell_type": "code",
   "execution_count": 18,
   "metadata": {},
   "outputs": [],
   "source": [
    "A_W['month']=month_"
   ]
  },
  {
   "cell_type": "code",
   "execution_count": 19,
   "metadata": {
    "collapsed": true,
    "jupyter": {
     "outputs_hidden": true
    }
   },
   "outputs": [
    {
     "data": {
      "text/html": [
       "<div>\n",
       "<style scoped>\n",
       "    .dataframe tbody tr th:only-of-type {\n",
       "        vertical-align: middle;\n",
       "    }\n",
       "\n",
       "    .dataframe tbody tr th {\n",
       "        vertical-align: top;\n",
       "    }\n",
       "\n",
       "    .dataframe thead th {\n",
       "        text-align: right;\n",
       "    }\n",
       "</style>\n",
       "<table border=\"1\" class=\"dataframe\">\n",
       "  <thead>\n",
       "    <tr style=\"text-align: right;\">\n",
       "      <th></th>\n",
       "      <th>wdir</th>\n",
       "      <th>period</th>\n",
       "      <th>temp</th>\n",
       "      <th>maxt</th>\n",
       "      <th>visibility</th>\n",
       "      <th>wspd</th>\n",
       "      <th>datetimeStr</th>\n",
       "      <th>heatindex</th>\n",
       "      <th>cloudcover</th>\n",
       "      <th>mint</th>\n",
       "      <th>...</th>\n",
       "      <th>dew</th>\n",
       "      <th>humidity</th>\n",
       "      <th>wgust</th>\n",
       "      <th>precipcover</th>\n",
       "      <th>windchill</th>\n",
       "      <th>latitude</th>\n",
       "      <th>longitude</th>\n",
       "      <th>origin</th>\n",
       "      <th>combo</th>\n",
       "      <th>month</th>\n",
       "    </tr>\n",
       "  </thead>\n",
       "  <tbody>\n",
       "    <tr>\n",
       "      <th>0</th>\n",
       "      <td>139.98</td>\n",
       "      <td>Jan</td>\n",
       "      <td>60.4</td>\n",
       "      <td>83.9</td>\n",
       "      <td>9.3</td>\n",
       "      <td>30.0</td>\n",
       "      <td>1900-01-01T00:00:00-05:00</td>\n",
       "      <td>85.6</td>\n",
       "      <td>32.1</td>\n",
       "      <td>30.8</td>\n",
       "      <td>...</td>\n",
       "      <td>50.1</td>\n",
       "      <td>71.73</td>\n",
       "      <td>44.7</td>\n",
       "      <td>4.50</td>\n",
       "      <td>21.0</td>\n",
       "      <td>26.919414</td>\n",
       "      <td>-81.993028</td>\n",
       "      <td>PGD</td>\n",
       "      <td>(26.9194137, -81.9930281031229, PGD)</td>\n",
       "      <td>1</td>\n",
       "    </tr>\n",
       "    <tr>\n",
       "      <th>1</th>\n",
       "      <td>127.03</td>\n",
       "      <td>Feb</td>\n",
       "      <td>71.1</td>\n",
       "      <td>89.0</td>\n",
       "      <td>8.8</td>\n",
       "      <td>21.9</td>\n",
       "      <td>1900-02-01T00:00:00-05:00</td>\n",
       "      <td>90.3</td>\n",
       "      <td>38.8</td>\n",
       "      <td>43.1</td>\n",
       "      <td>...</td>\n",
       "      <td>62.1</td>\n",
       "      <td>75.77</td>\n",
       "      <td>34.4</td>\n",
       "      <td>2.53</td>\n",
       "      <td>40.5</td>\n",
       "      <td>26.919414</td>\n",
       "      <td>-81.993028</td>\n",
       "      <td>PGD</td>\n",
       "      <td>(26.9194137, -81.9930281031229, PGD)</td>\n",
       "      <td>2</td>\n",
       "    </tr>\n",
       "    <tr>\n",
       "      <th>2</th>\n",
       "      <td>162.74</td>\n",
       "      <td>Mar</td>\n",
       "      <td>67.1</td>\n",
       "      <td>89.0</td>\n",
       "      <td>9.3</td>\n",
       "      <td>30.0</td>\n",
       "      <td>1900-03-01T00:00:00-05:00</td>\n",
       "      <td>88.3</td>\n",
       "      <td>26.1</td>\n",
       "      <td>38.9</td>\n",
       "      <td>...</td>\n",
       "      <td>54.4</td>\n",
       "      <td>67.86</td>\n",
       "      <td>43.6</td>\n",
       "      <td>3.36</td>\n",
       "      <td>33.9</td>\n",
       "      <td>26.919414</td>\n",
       "      <td>-81.993028</td>\n",
       "      <td>PGD</td>\n",
       "      <td>(26.9194137, -81.9930281031229, PGD)</td>\n",
       "      <td>3</td>\n",
       "    </tr>\n",
       "    <tr>\n",
       "      <th>3</th>\n",
       "      <td>167.84</td>\n",
       "      <td>Apr</td>\n",
       "      <td>74.0</td>\n",
       "      <td>91.1</td>\n",
       "      <td>9.5</td>\n",
       "      <td>31.1</td>\n",
       "      <td>1900-04-01T00:00:00-05:00</td>\n",
       "      <td>94.3</td>\n",
       "      <td>29.2</td>\n",
       "      <td>50.1</td>\n",
       "      <td>...</td>\n",
       "      <td>61.0</td>\n",
       "      <td>67.30</td>\n",
       "      <td>53.2</td>\n",
       "      <td>2.22</td>\n",
       "      <td>NaN</td>\n",
       "      <td>26.919414</td>\n",
       "      <td>-81.993028</td>\n",
       "      <td>PGD</td>\n",
       "      <td>(26.9194137, -81.9930281031229, PGD)</td>\n",
       "      <td>4</td>\n",
       "    </tr>\n",
       "    <tr>\n",
       "      <th>4</th>\n",
       "      <td>121.90</td>\n",
       "      <td>May</td>\n",
       "      <td>77.7</td>\n",
       "      <td>95.1</td>\n",
       "      <td>9.5</td>\n",
       "      <td>25.3</td>\n",
       "      <td>1900-05-01T00:00:00-05:00</td>\n",
       "      <td>99.9</td>\n",
       "      <td>37.2</td>\n",
       "      <td>56.9</td>\n",
       "      <td>...</td>\n",
       "      <td>66.8</td>\n",
       "      <td>72.16</td>\n",
       "      <td>45.9</td>\n",
       "      <td>10.75</td>\n",
       "      <td>NaN</td>\n",
       "      <td>26.919414</td>\n",
       "      <td>-81.993028</td>\n",
       "      <td>PGD</td>\n",
       "      <td>(26.9194137, -81.9930281031229, PGD)</td>\n",
       "      <td>5</td>\n",
       "    </tr>\n",
       "  </tbody>\n",
       "</table>\n",
       "<p>5 rows × 24 columns</p>\n",
       "</div>"
      ],
      "text/plain": [
       "     wdir period  temp  maxt  visibility  wspd                datetimeStr  \\\n",
       "0  139.98    Jan  60.4  83.9         9.3  30.0  1900-01-01T00:00:00-05:00   \n",
       "1  127.03    Feb  71.1  89.0         8.8  21.9  1900-02-01T00:00:00-05:00   \n",
       "2  162.74    Mar  67.1  89.0         9.3  30.0  1900-03-01T00:00:00-05:00   \n",
       "3  167.84    Apr  74.0  91.1         9.5  31.1  1900-04-01T00:00:00-05:00   \n",
       "4  121.90    May  77.7  95.1         9.5  25.3  1900-05-01T00:00:00-05:00   \n",
       "\n",
       "   heatindex  cloudcover  mint  ...   dew  humidity  wgust  precipcover  \\\n",
       "0       85.6        32.1  30.8  ...  50.1     71.73   44.7         4.50   \n",
       "1       90.3        38.8  43.1  ...  62.1     75.77   34.4         2.53   \n",
       "2       88.3        26.1  38.9  ...  54.4     67.86   43.6         3.36   \n",
       "3       94.3        29.2  50.1  ...  61.0     67.30   53.2         2.22   \n",
       "4       99.9        37.2  56.9  ...  66.8     72.16   45.9        10.75   \n",
       "\n",
       "   windchill   latitude  longitude  origin  \\\n",
       "0       21.0  26.919414 -81.993028     PGD   \n",
       "1       40.5  26.919414 -81.993028     PGD   \n",
       "2       33.9  26.919414 -81.993028     PGD   \n",
       "3        NaN  26.919414 -81.993028     PGD   \n",
       "4        NaN  26.919414 -81.993028     PGD   \n",
       "\n",
       "                                  combo  month  \n",
       "0  (26.9194137, -81.9930281031229, PGD)      1  \n",
       "1  (26.9194137, -81.9930281031229, PGD)      2  \n",
       "2  (26.9194137, -81.9930281031229, PGD)      3  \n",
       "3  (26.9194137, -81.9930281031229, PGD)      4  \n",
       "4  (26.9194137, -81.9930281031229, PGD)      5  \n",
       "\n",
       "[5 rows x 24 columns]"
      ]
     },
     "execution_count": 19,
     "metadata": {},
     "output_type": "execute_result"
    }
   ],
   "source": [
    "A_W.head()"
   ]
  },
  {
   "cell_type": "code",
   "execution_count": 20,
   "metadata": {},
   "outputs": [
    {
     "data": {
      "text/plain": [
       "(15927485, 42)"
      ]
     },
     "execution_count": 20,
     "metadata": {},
     "output_type": "execute_result"
    }
   ],
   "source": [
    "opt_flights.shape"
   ]
  },
  {
   "cell_type": "code",
   "execution_count": 21,
   "metadata": {},
   "outputs": [],
   "source": [
    "weather_vars=['wdir_ori', 'period_ori', 'temp_ori', 'maxt_ori', 'visibility_ori', 'wspd_ori',\n",
    "       'heatindex_ori', 'cloudcover_ori', 'mint_ori', 'precip_ori', 'snowdepth_ori',\n",
    "       'sealevelpressure_ori', 'dew_ori', 'humidity_ori', 'wgust_ori', 'precipcover_ori',\n",
    "       'windchill_ori','wdir_dest', 'period_dest', 'temp_dest', 'maxt_dest', 'visibility_dest', 'wspd_dest',\n",
    "       'heatindex_dest', 'cloudcover_dest', 'mint_dest', 'precip_dest', 'snowdepth_dest',\n",
    "       'sealevelpressure_dest', 'dew_dest', 'humidity_dest', 'wgust_dest', 'precipcover_dest',\n",
    "       'windchill_dest']"
   ]
  },
  {
   "cell_type": "code",
   "execution_count": 22,
   "metadata": {},
   "outputs": [
    {
     "data": {
      "text/plain": [
       "34"
      ]
     },
     "execution_count": 22,
     "metadata": {},
     "output_type": "execute_result"
    }
   ],
   "source": [
    "len(weather_vars)"
   ]
  },
  {
   "cell_type": "code",
   "execution_count": 26,
   "metadata": {},
   "outputs": [],
   "source": [
    "#adding columns in flights test dataframe that have empty values to be filled with info from A_W\n",
    "for par in weather_vars:\n",
    "    opt_flights[par]=None"
   ]
  },
  {
   "cell_type": "raw",
   "metadata": {},
   "source": [
    "NEED TO ASSIGN VALUES FOR WEATHER BASED ON A_W.\n",
    "\n",
    "First, check lat lon for row in flights_df and determine which unique city in A_W is closest (22 available options)\n",
    "\n",
    "Once this is done, find out which month the flights_df is from and assign corresponding weather values to that row based on the month.\n"
   ]
  },
  {
   "cell_type": "markdown",
   "metadata": {},
   "source": [
    "# Test loop that will run for 1 value"
   ]
  },
  {
   "cell_type": "code",
   "execution_count": 31,
   "metadata": {},
   "outputs": [],
   "source": [
    "from math import cos, asin, sqrt\n",
    "\n",
    "def distance(lat1, lon1, lat2, lon2):\n",
    "    p = 0.017453292519943295\n",
    "    a = 0.5 - cos((lat2-lat1)*p)/2 + cos(lat1*p)*cos(lat2*p) * (1-cos((lon2-lon1)*p)) / 2\n",
    "    return 12742 * asin(sqrt(a))\n",
    "\n",
    "def closest(data, v):\n",
    "    return min(data, key=lambda p: distance(v['lat'],v['lon'],p['lat'],p['lon']))"
   ]
  },
  {
   "cell_type": "code",
   "execution_count": 81,
   "metadata": {},
   "outputs": [],
   "source": [
    "## EXAMPLE\n",
    "# tempDataList = [{'lat': 39.7612992, 'lon': -86.1519681}, \n",
    "#                 {'lat': 39.762241,  'lon': -86.158436 }, \n",
    "#                 {'lat': 39.7622292, 'lon': -86.1578917}]\n",
    "\n",
    "# v = {'lat': 39.7622290, 'lon': -86.1519750}\n",
    "# print(closest(tempDataList, v))"
   ]
  },
  {
   "cell_type": "code",
   "execution_count": 32,
   "metadata": {},
   "outputs": [
    {
     "data": {
      "text/plain": [
       "'PGD'"
      ]
     },
     "execution_count": 32,
     "metadata": {},
     "output_type": "execute_result"
    }
   ],
   "source": [
    "A_W['combo'].unique()[0][2]"
   ]
  },
  {
   "cell_type": "code",
   "execution_count": 33,
   "metadata": {},
   "outputs": [],
   "source": [
    "tempDataList=[]\n",
    "for i in range(len(list(A_W['combo'].unique()))):\n",
    "    tempDataList.append({'lat':A_W['combo'].unique()[i][0],'lon':A_W['combo'].unique()[i][1],'org':A_W['combo'].unique()[i][2]})"
   ]
  },
  {
   "cell_type": "code",
   "execution_count": 34,
   "metadata": {},
   "outputs": [
    {
     "name": "stdout",
     "output_type": "stream",
     "text": [
      "{'lat': 43.590338, 'lon': -79.645729, 'org': 'ONT'}\n"
     ]
    }
   ],
   "source": [
    "print(closest(tempDataList,{'lat': 39.7622290, 'lon': -86.1519750}))"
   ]
  },
  {
   "cell_type": "code",
   "execution_count": 35,
   "metadata": {},
   "outputs": [
    {
     "data": {
      "text/html": [
       "<div>\n",
       "<style scoped>\n",
       "    .dataframe tbody tr th:only-of-type {\n",
       "        vertical-align: middle;\n",
       "    }\n",
       "\n",
       "    .dataframe tbody tr th {\n",
       "        vertical-align: top;\n",
       "    }\n",
       "\n",
       "    .dataframe thead th {\n",
       "        text-align: right;\n",
       "    }\n",
       "</style>\n",
       "<table border=\"1\" class=\"dataframe\">\n",
       "  <thead>\n",
       "    <tr style=\"text-align: right;\">\n",
       "      <th></th>\n",
       "      <th>ori_latitude</th>\n",
       "      <th>ori_longitude</th>\n",
       "      <th>origin</th>\n",
       "    </tr>\n",
       "  </thead>\n",
       "  <tbody>\n",
       "    <tr>\n",
       "      <th>15927480</th>\n",
       "      <td>37.61900</td>\n",
       "      <td>-122.37484</td>\n",
       "      <td>SFO</td>\n",
       "    </tr>\n",
       "    <tr>\n",
       "      <th>15927481</th>\n",
       "      <td>33.94254</td>\n",
       "      <td>-118.40807</td>\n",
       "      <td>LAX</td>\n",
       "    </tr>\n",
       "    <tr>\n",
       "      <th>15927482</th>\n",
       "      <td>37.61900</td>\n",
       "      <td>-122.37484</td>\n",
       "      <td>SFO</td>\n",
       "    </tr>\n",
       "    <tr>\n",
       "      <th>15927483</th>\n",
       "      <td>33.94254</td>\n",
       "      <td>-118.40807</td>\n",
       "      <td>LAX</td>\n",
       "    </tr>\n",
       "    <tr>\n",
       "      <th>15927484</th>\n",
       "      <td>37.61900</td>\n",
       "      <td>-122.37484</td>\n",
       "      <td>SFO</td>\n",
       "    </tr>\n",
       "  </tbody>\n",
       "</table>\n",
       "</div>"
      ],
      "text/plain": [
       "          ori_latitude  ori_longitude origin\n",
       "15927480      37.61900     -122.37484    SFO\n",
       "15927481      33.94254     -118.40807    LAX\n",
       "15927482      37.61900     -122.37484    SFO\n",
       "15927483      33.94254     -118.40807    LAX\n",
       "15927484      37.61900     -122.37484    SFO"
      ]
     },
     "execution_count": 35,
     "metadata": {},
     "output_type": "execute_result"
    }
   ],
   "source": [
    "opt_flights[['ori_latitude','ori_longitude','origin']].iloc[-5::]"
   ]
  },
  {
   "cell_type": "code",
   "execution_count": 36,
   "metadata": {
    "collapsed": true,
    "jupyter": {
     "outputs_hidden": true
    }
   },
   "outputs": [
    {
     "data": {
      "text/plain": [
       "[{'lat': 26.9194137, 'lon': -81.9930281031229, 'org': 'PGD'},\n",
       " {'lat': 29.64714905, 'lon': -95.27692608634595, 'org': 'HOU'},\n",
       " {'lat': 38.95226625, 'lon': -77.45342297783296, 'org': 'IAD'},\n",
       " {'lat': 43.590338, 'lon': -79.645729, 'org': 'ONT'},\n",
       " {'lat': 20.89527825, 'lon': -156.4328644795689, 'org': 'OGG'},\n",
       " {'lat': 59.8474657, 'lon': 17.63105350585749, 'org': 'SGU'},\n",
       " {'lat': 49.88527, 'lon': 2.80813, 'org': 'FAY'},\n",
       " {'lat': 52.52183095, 'lon': 13.363127119018849, 'org': 'BMI'},\n",
       " {'lat': 36.638391999999996, 'lon': 127.69611880000001, 'org': 'SAN'},\n",
       " {'lat': 46.56681015, 'lon': -120.53679819122014, 'org': 'YKM'},\n",
       " {'lat': 42.403608399999996, 'lon': -96.3836488, 'org': 'SUX'},\n",
       " {'lat': 43.2768745, 'lon': 0.092596, 'org': 'BUR'},\n",
       " {'lat': 41.31116815, 'lon': -8.453010682764061, 'org': 'STS'},\n",
       " {'lat': 45.670508899999994, 'lon': 24.182296899999997, 'org': 'COD'},\n",
       " {'lat': 15.510172400000002, 'lon': -12.850290199999998, 'org': 'MGM'},\n",
       " {'lat': 26.8106778, 'lon': 80.89093790000003, 'org': 'MKG'},\n",
       " {'lat': 12.91127585, 'lon': 77.60456543431181, 'org': 'BTM'},\n",
       " {'lat': 35.000074, 'lon': 104.999927, 'org': 'GPT'},\n",
       " {'lat': 33.94216754999999, 'lon': -118.42137629872809, 'org': 'LAX'},\n",
       " {'lat': 31.9420729, 'lon': 35.22244170000001, 'org': 'BET'},\n",
       " {'lat': 38.840121999999994, 'lon': 40.646145000000004, 'org': 'DIK'},\n",
       " {'lat': 34.0932395, 'lon': 35.6482127, 'org': 'IPT'}]"
      ]
     },
     "execution_count": 36,
     "metadata": {},
     "output_type": "execute_result"
    }
   ],
   "source": [
    "tempDataList"
   ]
  },
  {
   "cell_type": "code",
   "execution_count": 37,
   "metadata": {},
   "outputs": [
    {
     "name": "stdout",
     "output_type": "stream",
     "text": [
      "{'lat': 33.94216754999999, 'lon': -118.42137629872809, 'org': 'LAX'}\n",
      "{'lat': 33.94216754999999, 'lon': -118.42137629872809, 'org': 'LAX'}\n"
     ]
    }
   ],
   "source": [
    "#### THIS TEST SEEMS TO BE WORKING\n",
    "#for i in range(test_df):\n",
    "for i in range(2):\n",
    "    print(closest(tempDataList,{'lat':opt_flights['ori_latitude'][i],'lon':opt_flights['ori_longitude'][i]}))\n",
    "    "
   ]
  },
  {
   "cell_type": "raw",
   "metadata": {},
   "source": [
    "#saved to dataframe\n",
    "pd.DataFrame(tempDataList).to_csv(path+'weather_dict.csv')"
   ]
  },
  {
   "cell_type": "code",
   "execution_count": 38,
   "metadata": {},
   "outputs": [
    {
     "data": {
      "text/plain": [
       "Index(['mkt_carrier_fl_num', 'op_unique_carrier', 'tail_num',\n",
       "       'op_carrier_fl_num', 'origin_airport_id', 'origin', 'dest_airport_id',\n",
       "       'dest', 'crs_dep_time', 'dep_time', 'dep_delay', 'taxi_out',\n",
       "       'wheels_off', 'wheels_on', 'taxi_in', 'crs_arr_time', 'arr_time',\n",
       "       'arr_delay', 'cancelled', 'cancellation_code', 'diverted',\n",
       "       'crs_elapsed_time', 'actual_elapsed_time', 'air_time', 'flights',\n",
       "       'distance', 'carrier_delay', 'weather_delay', 'nas_delay',\n",
       "       'security_delay', 'late_aircraft_delay', 'first_dep_time',\n",
       "       'total_add_gtime', 'longest_add_gtime', 'no_name', 'ori_latitude',\n",
       "       'ori_longitude', 'dest_latitude', 'dest_longitude', 'fl_date', 'month',\n",
       "       'wdir_ori', 'period_ori', 'temp_ori', 'maxt_ori', 'visibility_ori',\n",
       "       'wspd_ori', 'heatindex_ori', 'cloudcover_ori', 'mint_ori', 'precip_ori',\n",
       "       'snowdepth_ori', 'sealevelpressure_ori', 'dew_ori', 'humidity_ori',\n",
       "       'wgust_ori', 'precipcover_ori', 'windchill_ori', 'wdir_dest',\n",
       "       'period_dest', 'temp_dest', 'maxt_dest', 'visibility_dest', 'wspd_dest',\n",
       "       'heatindex_dest', 'cloudcover_dest', 'mint_dest', 'precip_dest',\n",
       "       'snowdepth_dest', 'sealevelpressure_dest', 'dew_dest', 'humidity_dest',\n",
       "       'wgust_dest', 'precipcover_dest', 'windchill_dest'],\n",
       "      dtype='object')"
      ]
     },
     "execution_count": 38,
     "metadata": {},
     "output_type": "execute_result"
    }
   ],
   "source": [
    "opt_flights.columns"
   ]
  },
  {
   "cell_type": "code",
   "execution_count": 78,
   "metadata": {},
   "outputs": [
    {
     "data": {
      "text/plain": [
       "Index(['wdir', 'period', 'temp', 'maxt', 'visibility', 'wspd', 'datetimeStr',\n",
       "       'heatindex', 'cloudcover', 'mint', 'datetime', 'precip', 'snowdepth',\n",
       "       'sealevelpressure', 'dew', 'humidity', 'wgust', 'precipcover',\n",
       "       'windchill', 'latitude', 'longitude', 'origin', 'combo', 'month'],\n",
       "      dtype='object')"
      ]
     },
     "execution_count": 78,
     "metadata": {},
     "output_type": "execute_result"
    }
   ],
   "source": [
    "A_W.columns"
   ]
  },
  {
   "cell_type": "code",
   "execution_count": 81,
   "metadata": {},
   "outputs": [
    {
     "data": {
      "text/html": [
       "<div>\n",
       "<style scoped>\n",
       "    .dataframe tbody tr th:only-of-type {\n",
       "        vertical-align: middle;\n",
       "    }\n",
       "\n",
       "    .dataframe tbody tr th {\n",
       "        vertical-align: top;\n",
       "    }\n",
       "\n",
       "    .dataframe thead th {\n",
       "        text-align: right;\n",
       "    }\n",
       "</style>\n",
       "<table border=\"1\" class=\"dataframe\">\n",
       "  <thead>\n",
       "    <tr style=\"text-align: right;\">\n",
       "      <th></th>\n",
       "      <th>wdir</th>\n",
       "      <th>period</th>\n",
       "      <th>temp</th>\n",
       "      <th>maxt</th>\n",
       "      <th>visibility</th>\n",
       "      <th>wspd</th>\n",
       "      <th>datetimeStr</th>\n",
       "      <th>heatindex</th>\n",
       "      <th>cloudcover</th>\n",
       "      <th>mint</th>\n",
       "      <th>...</th>\n",
       "      <th>dew</th>\n",
       "      <th>humidity</th>\n",
       "      <th>wgust</th>\n",
       "      <th>precipcover</th>\n",
       "      <th>windchill</th>\n",
       "      <th>latitude</th>\n",
       "      <th>longitude</th>\n",
       "      <th>origin</th>\n",
       "      <th>combo</th>\n",
       "      <th>month</th>\n",
       "    </tr>\n",
       "  </thead>\n",
       "  <tbody>\n",
       "    <tr>\n",
       "      <th>216</th>\n",
       "      <td>155.18</td>\n",
       "      <td>Jan</td>\n",
       "      <td>59.3</td>\n",
       "      <td>87.8</td>\n",
       "      <td>8.7</td>\n",
       "      <td>31.4</td>\n",
       "      <td>1900-01-01T00:00:00-08:00</td>\n",
       "      <td>84.2</td>\n",
       "      <td>45.4</td>\n",
       "      <td>40.0</td>\n",
       "      <td>...</td>\n",
       "      <td>44.4</td>\n",
       "      <td>64.04</td>\n",
       "      <td>40.0</td>\n",
       "      <td>7.4</td>\n",
       "      <td>35.2</td>\n",
       "      <td>33.942168</td>\n",
       "      <td>-118.421376</td>\n",
       "      <td>LAX</td>\n",
       "      <td>(33.94216754999999, -118.42137629872809, LAX)</td>\n",
       "      <td>1</td>\n",
       "    </tr>\n",
       "  </tbody>\n",
       "</table>\n",
       "<p>1 rows × 24 columns</p>\n",
       "</div>"
      ],
      "text/plain": [
       "       wdir period  temp  maxt  visibility  wspd                datetimeStr  \\\n",
       "216  155.18    Jan  59.3  87.8         8.7  31.4  1900-01-01T00:00:00-08:00   \n",
       "\n",
       "     heatindex  cloudcover  mint  ...   dew  humidity  wgust  precipcover  \\\n",
       "216       84.2        45.4  40.0  ...  44.4     64.04   40.0          7.4   \n",
       "\n",
       "     windchill   latitude   longitude  origin  \\\n",
       "216       35.2  33.942168 -118.421376     LAX   \n",
       "\n",
       "                                             combo  month  \n",
       "216  (33.94216754999999, -118.42137629872809, LAX)      1  \n",
       "\n",
       "[1 rows x 24 columns]"
      ]
     },
     "execution_count": 81,
     "metadata": {},
     "output_type": "execute_result"
    }
   ],
   "source": [
    "A_W[(A_W['origin']=='LAX')&(A_W['month']==1)]"
   ]
  },
  {
   "cell_type": "code",
   "execution_count": 48,
   "metadata": {},
   "outputs": [],
   "source": [
    "aw_vars=['wdir', 'period', 'temp', 'maxt', 'visibility', 'wspd',\n",
    "       'heatindex', 'cloudcover', 'mint', 'precip', 'snowdepth',\n",
    "       'sealevelpressure', 'dew', 'humidity', 'wgust', 'precipcover',\n",
    "       'windchill']"
   ]
  },
  {
   "cell_type": "code",
   "execution_count": 50,
   "metadata": {},
   "outputs": [],
   "source": [
    "ori_vars=['wdir_ori', 'period_ori', 'temp_ori', 'maxt_ori', 'visibility_ori',\n",
    "       'wspd_ori', 'heatindex_ori', 'cloudcover_ori', 'mint_ori', 'precip_ori',\n",
    "       'snowdepth_ori', 'sealevelpressure_ori', 'dew_ori', 'humidity_ori',\n",
    "       'wgust_ori', 'precipcover_ori', 'windchill_ori']"
   ]
  },
  {
   "cell_type": "code",
   "execution_count": 51,
   "metadata": {},
   "outputs": [],
   "source": [
    "dest_vars=['wdir_dest',\n",
    "       'period_dest', 'temp_dest', 'maxt_dest', 'visibility_dest', 'wspd_dest',\n",
    "       'heatindex_dest', 'cloudcover_dest', 'mint_dest', 'precip_dest',\n",
    "       'snowdepth_dest', 'sealevelpressure_dest', 'dew_dest', 'humidity_dest',\n",
    "       'wgust_dest', 'precipcover_dest', 'windchill_dest']"
   ]
  },
  {
   "cell_type": "code",
   "execution_count": 82,
   "metadata": {},
   "outputs": [
    {
     "data": {
      "text/html": [
       "<div>\n",
       "<style scoped>\n",
       "    .dataframe tbody tr th:only-of-type {\n",
       "        vertical-align: middle;\n",
       "    }\n",
       "\n",
       "    .dataframe tbody tr th {\n",
       "        vertical-align: top;\n",
       "    }\n",
       "\n",
       "    .dataframe thead th {\n",
       "        text-align: right;\n",
       "    }\n",
       "</style>\n",
       "<table border=\"1\" class=\"dataframe\">\n",
       "  <thead>\n",
       "    <tr style=\"text-align: right;\">\n",
       "      <th></th>\n",
       "      <th>wdir</th>\n",
       "      <th>period</th>\n",
       "      <th>temp</th>\n",
       "      <th>maxt</th>\n",
       "      <th>visibility</th>\n",
       "      <th>wspd</th>\n",
       "      <th>heatindex</th>\n",
       "      <th>cloudcover</th>\n",
       "      <th>mint</th>\n",
       "      <th>precip</th>\n",
       "      <th>snowdepth</th>\n",
       "      <th>sealevelpressure</th>\n",
       "      <th>dew</th>\n",
       "      <th>humidity</th>\n",
       "      <th>wgust</th>\n",
       "      <th>precipcover</th>\n",
       "      <th>windchill</th>\n",
       "    </tr>\n",
       "  </thead>\n",
       "  <tbody>\n",
       "    <tr>\n",
       "      <th>216</th>\n",
       "      <td>155.18</td>\n",
       "      <td>Jan</td>\n",
       "      <td>59.3</td>\n",
       "      <td>87.8</td>\n",
       "      <td>8.7</td>\n",
       "      <td>31.4</td>\n",
       "      <td>84.2</td>\n",
       "      <td>45.4</td>\n",
       "      <td>40.0</td>\n",
       "      <td>6.98</td>\n",
       "      <td>NaN</td>\n",
       "      <td>1018.8</td>\n",
       "      <td>44.4</td>\n",
       "      <td>64.04</td>\n",
       "      <td>40.0</td>\n",
       "      <td>7.4</td>\n",
       "      <td>35.2</td>\n",
       "    </tr>\n",
       "  </tbody>\n",
       "</table>\n",
       "</div>"
      ],
      "text/plain": [
       "       wdir period  temp  maxt  visibility  wspd  heatindex  cloudcover  mint  \\\n",
       "216  155.18    Jan  59.3  87.8         8.7  31.4       84.2        45.4  40.0   \n",
       "\n",
       "     precip  snowdepth  sealevelpressure   dew  humidity  wgust  precipcover  \\\n",
       "216    6.98        NaN            1018.8  44.4     64.04   40.0          7.4   \n",
       "\n",
       "     windchill  \n",
       "216       35.2  "
      ]
     },
     "execution_count": 82,
     "metadata": {},
     "output_type": "execute_result"
    }
   ],
   "source": [
    "A_W.loc[(A_W['origin']=='LAX')&(A_W['month']==1)][aw_vars]\n",
    "#opt_flights.loc[(opt_flights['origin']=='LAX') & (opt_flights['month']==1), ori_vars]"
   ]
  },
  {
   "cell_type": "markdown",
   "metadata": {},
   "source": [
    "# Create Dataframe key with 376 unique airports, and the month "
   ]
  },
  {
   "cell_type": "raw",
   "metadata": {},
   "source": [
    "len(opt_flights['ori_latitude'].unique())"
   ]
  },
  {
   "cell_type": "raw",
   "metadata": {},
   "source": [
    "len(np.arange(1,13))"
   ]
  },
  {
   "cell_type": "raw",
   "metadata": {},
   "source": [
    "import itertools\n",
    "lst = range(1,13)\n",
    "months_=list(itertools.chain.from_iterable(itertools.repeat(x, 376) for x in lst))\n",
    "len(months_)"
   ]
  },
  {
   "cell_type": "raw",
   "metadata": {},
   "source": [
    "org_=list(opt_flights['origin'].unique())*12"
   ]
  },
  {
   "cell_type": "raw",
   "metadata": {},
   "source": [
    "len(org_)"
   ]
  },
  {
   "cell_type": "raw",
   "metadata": {},
   "source": [
    "org_lat=list(opt_flights['ori_latitude'].unique())*12\n",
    "org_lon=list(opt_flights['ori_longitude'].unique())*12"
   ]
  },
  {
   "cell_type": "raw",
   "metadata": {},
   "source": [
    "print(len(org_lat))\n",
    "print(len(org_lon))"
   ]
  },
  {
   "cell_type": "raw",
   "metadata": {},
   "source": [
    "weather_key=pd.DataFrame([org_,months_,org_lat,org_lon])"
   ]
  },
  {
   "cell_type": "raw",
   "metadata": {},
   "source": [
    "weather_key=weather_key.T.rename(columns={0:'origin',1:'month',2:'latitude',3:'longitude'})"
   ]
  },
  {
   "cell_type": "raw",
   "metadata": {},
   "source": [
    "weather_key.shape"
   ]
  },
  {
   "cell_type": "raw",
   "metadata": {},
   "source": [
    "weather_key.head()"
   ]
  },
  {
   "cell_type": "raw",
   "metadata": {},
   "source": [
    "aw_vars=['wdir', 'period', 'temp', 'maxt', 'visibility', 'wspd',\n",
    "       'heatindex', 'cloudcover', 'mint', 'precip', 'snowdepth',\n",
    "       'sealevelpressure', 'dew', 'humidity', 'wgust', 'precipcover',\n",
    "       'windchill']"
   ]
  },
  {
   "cell_type": "raw",
   "metadata": {},
   "source": [
    "Add column closest airport"
   ]
  },
  {
   "cell_type": "raw",
   "metadata": {},
   "source": [
    "closest_airport=[]\n",
    "for i in range(len(weather_key)):\n",
    "    closest_airport.append(closest(tempDataList,{'lat':weather_key['latitude'][i],'lon': weather_key['longitude'][i]})['org'])"
   ]
  },
  {
   "cell_type": "raw",
   "metadata": {},
   "source": [
    "weather_key['closest_airport']=closest_airport"
   ]
  },
  {
   "cell_type": "raw",
   "metadata": {},
   "source": [
    "#adding columns in weather_key that have empty values to be filled with info from A_W\n",
    "for par in aw_vars:\n",
    "    weather_key[par]=None"
   ]
  },
  {
   "cell_type": "raw",
   "metadata": {},
   "source": [
    "weather_key.shape"
   ]
  },
  {
   "cell_type": "raw",
   "metadata": {},
   "source": [
    "weather_key.columns"
   ]
  },
  {
   "cell_type": "raw",
   "metadata": {},
   "source": [
    "\n",
    "# BUILD WEATHER KEY by referencing A_W weather vars\n",
    "\n",
    "for i in range(len(weather_key)):\n",
    "    weather_key.loc[(weather_key['origin']==weather_key['origin'][i]) & (weather_key['month']==weather_key['month'][i]), aw_vars]=A_W.loc[(A_W['origin']==weather_key['closest_airport'][i])&(A_W['month']==weather_key['month'][i])][aw_vars].values\n",
    "    "
   ]
  },
  {
   "cell_type": "code",
   "execution_count": 153,
   "metadata": {},
   "outputs": [
    {
     "data": {
      "text/html": [
       "<div>\n",
       "<style scoped>\n",
       "    .dataframe tbody tr th:only-of-type {\n",
       "        vertical-align: middle;\n",
       "    }\n",
       "\n",
       "    .dataframe tbody tr th {\n",
       "        vertical-align: top;\n",
       "    }\n",
       "\n",
       "    .dataframe thead th {\n",
       "        text-align: right;\n",
       "    }\n",
       "</style>\n",
       "<table border=\"1\" class=\"dataframe\">\n",
       "  <thead>\n",
       "    <tr style=\"text-align: right;\">\n",
       "      <th></th>\n",
       "      <th>origin</th>\n",
       "      <th>month</th>\n",
       "      <th>latitude</th>\n",
       "      <th>longitude</th>\n",
       "      <th>wdir</th>\n",
       "      <th>period</th>\n",
       "      <th>temp</th>\n",
       "      <th>maxt</th>\n",
       "      <th>visibility</th>\n",
       "      <th>wspd</th>\n",
       "      <th>...</th>\n",
       "      <th>mint</th>\n",
       "      <th>precip</th>\n",
       "      <th>snowdepth</th>\n",
       "      <th>sealevelpressure</th>\n",
       "      <th>dew</th>\n",
       "      <th>humidity</th>\n",
       "      <th>wgust</th>\n",
       "      <th>precipcover</th>\n",
       "      <th>windchill</th>\n",
       "      <th>closest_airport</th>\n",
       "    </tr>\n",
       "  </thead>\n",
       "  <tbody>\n",
       "    <tr>\n",
       "      <th>0</th>\n",
       "      <td>LAX</td>\n",
       "      <td>1</td>\n",
       "      <td>33.9425</td>\n",
       "      <td>-118.408</td>\n",
       "      <td>None</td>\n",
       "      <td>None</td>\n",
       "      <td>None</td>\n",
       "      <td>None</td>\n",
       "      <td>None</td>\n",
       "      <td>None</td>\n",
       "      <td>...</td>\n",
       "      <td>None</td>\n",
       "      <td>None</td>\n",
       "      <td>None</td>\n",
       "      <td>None</td>\n",
       "      <td>None</td>\n",
       "      <td>None</td>\n",
       "      <td>None</td>\n",
       "      <td>None</td>\n",
       "      <td>None</td>\n",
       "      <td>LAX</td>\n",
       "    </tr>\n",
       "    <tr>\n",
       "      <th>1</th>\n",
       "      <td>SFO</td>\n",
       "      <td>1</td>\n",
       "      <td>37.619</td>\n",
       "      <td>-122.375</td>\n",
       "      <td>None</td>\n",
       "      <td>None</td>\n",
       "      <td>None</td>\n",
       "      <td>None</td>\n",
       "      <td>None</td>\n",
       "      <td>None</td>\n",
       "      <td>...</td>\n",
       "      <td>None</td>\n",
       "      <td>None</td>\n",
       "      <td>None</td>\n",
       "      <td>None</td>\n",
       "      <td>None</td>\n",
       "      <td>None</td>\n",
       "      <td>None</td>\n",
       "      <td>None</td>\n",
       "      <td>None</td>\n",
       "      <td>LAX</td>\n",
       "    </tr>\n",
       "    <tr>\n",
       "      <th>2</th>\n",
       "      <td>SAN</td>\n",
       "      <td>1</td>\n",
       "      <td>32.7336</td>\n",
       "      <td>-117.19</td>\n",
       "      <td>None</td>\n",
       "      <td>None</td>\n",
       "      <td>None</td>\n",
       "      <td>None</td>\n",
       "      <td>None</td>\n",
       "      <td>None</td>\n",
       "      <td>...</td>\n",
       "      <td>None</td>\n",
       "      <td>None</td>\n",
       "      <td>None</td>\n",
       "      <td>None</td>\n",
       "      <td>None</td>\n",
       "      <td>None</td>\n",
       "      <td>None</td>\n",
       "      <td>None</td>\n",
       "      <td>None</td>\n",
       "      <td>LAX</td>\n",
       "    </tr>\n",
       "    <tr>\n",
       "      <th>3</th>\n",
       "      <td>SEA</td>\n",
       "      <td>1</td>\n",
       "      <td>47.449</td>\n",
       "      <td>-122.309</td>\n",
       "      <td>None</td>\n",
       "      <td>None</td>\n",
       "      <td>None</td>\n",
       "      <td>None</td>\n",
       "      <td>None</td>\n",
       "      <td>None</td>\n",
       "      <td>...</td>\n",
       "      <td>None</td>\n",
       "      <td>None</td>\n",
       "      <td>None</td>\n",
       "      <td>None</td>\n",
       "      <td>None</td>\n",
       "      <td>None</td>\n",
       "      <td>None</td>\n",
       "      <td>None</td>\n",
       "      <td>None</td>\n",
       "      <td>YKM</td>\n",
       "    </tr>\n",
       "    <tr>\n",
       "      <th>4</th>\n",
       "      <td>RDU</td>\n",
       "      <td>1</td>\n",
       "      <td>35.8776</td>\n",
       "      <td>-78.7875</td>\n",
       "      <td>None</td>\n",
       "      <td>None</td>\n",
       "      <td>None</td>\n",
       "      <td>None</td>\n",
       "      <td>None</td>\n",
       "      <td>None</td>\n",
       "      <td>...</td>\n",
       "      <td>None</td>\n",
       "      <td>None</td>\n",
       "      <td>None</td>\n",
       "      <td>None</td>\n",
       "      <td>None</td>\n",
       "      <td>None</td>\n",
       "      <td>None</td>\n",
       "      <td>None</td>\n",
       "      <td>None</td>\n",
       "      <td>IAD</td>\n",
       "    </tr>\n",
       "  </tbody>\n",
       "</table>\n",
       "<p>5 rows × 22 columns</p>\n",
       "</div>"
      ],
      "text/plain": [
       "  origin month latitude longitude  wdir period  temp  maxt visibility  wspd  \\\n",
       "0    LAX     1  33.9425  -118.408  None   None  None  None       None  None   \n",
       "1    SFO     1   37.619  -122.375  None   None  None  None       None  None   \n",
       "2    SAN     1  32.7336   -117.19  None   None  None  None       None  None   \n",
       "3    SEA     1   47.449  -122.309  None   None  None  None       None  None   \n",
       "4    RDU     1  35.8776  -78.7875  None   None  None  None       None  None   \n",
       "\n",
       "   ...  mint precip snowdepth sealevelpressure   dew humidity wgust  \\\n",
       "0  ...  None   None      None             None  None     None  None   \n",
       "1  ...  None   None      None             None  None     None  None   \n",
       "2  ...  None   None      None             None  None     None  None   \n",
       "3  ...  None   None      None             None  None     None  None   \n",
       "4  ...  None   None      None             None  None     None  None   \n",
       "\n",
       "  precipcover windchill closest_airport  \n",
       "0        None      None             LAX  \n",
       "1        None      None             LAX  \n",
       "2        None      None             LAX  \n",
       "3        None      None             YKM  \n",
       "4        None      None             IAD  \n",
       "\n",
       "[5 rows x 22 columns]"
      ]
     },
     "execution_count": 153,
     "metadata": {},
     "output_type": "execute_result"
    }
   ],
   "source": [
    "weather_key.head()"
   ]
  },
  {
   "cell_type": "raw",
   "metadata": {},
   "source": [
    "#save to csv\n",
    "weather_key.to_csv(path+'wkey.csv')"
   ]
  },
  {
   "cell_type": "markdown",
   "metadata": {},
   "source": [
    "# try merge"
   ]
  },
  {
   "cell_type": "code",
   "execution_count": null,
   "metadata": {},
   "outputs": [],
   "source": []
  },
  {
   "cell_type": "code",
   "execution_count": 169,
   "metadata": {},
   "outputs": [
    {
     "data": {
      "text/plain": [
       "Index(['origin', 'month', 'latitude', 'longitude', 'wdir', 'period', 'temp',\n",
       "       'maxt', 'visibility', 'wspd', 'heatindex', 'cloudcover', 'mint',\n",
       "       'precip', 'snowdepth', 'sealevelpressure', 'dew', 'humidity', 'wgust',\n",
       "       'precipcover', 'windchill', 'closest_airport'],\n",
       "      dtype='object')"
      ]
     },
     "execution_count": 169,
     "metadata": {},
     "output_type": "execute_result"
    }
   ],
   "source": [
    "weather_key.columns"
   ]
  },
  {
   "cell_type": "code",
   "execution_count": 170,
   "metadata": {},
   "outputs": [],
   "source": [
    "opt_flights=opt_flights.drop(['wdir_ori', 'period_ori', 'temp_ori', 'maxt_ori', 'visibility_ori',\n",
    "       'wspd_ori', 'heatindex_ori', 'cloudcover_ori', 'mint_ori', 'precip_ori',\n",
    "       'snowdepth_ori', 'sealevelpressure_ori', 'dew_ori', 'humidity_ori',\n",
    "       'wgust_ori', 'precipcover_ori', 'windchill_ori', 'wdir_dest',\n",
    "       'period_dest', 'temp_dest', 'maxt_dest', 'visibility_dest', 'wspd_dest',\n",
    "       'heatindex_dest', 'cloudcover_dest', 'mint_dest', 'precip_dest',\n",
    "       'snowdepth_dest', 'sealevelpressure_dest', 'dew_dest', 'humidity_dest',\n",
    "       'wgust_dest', 'precipcover_dest', 'windchill_dest'],axis=1)"
   ]
  },
  {
   "cell_type": "code",
   "execution_count": 171,
   "metadata": {},
   "outputs": [
    {
     "data": {
      "text/plain": [
       "Index(['mkt_carrier_fl_num', 'op_unique_carrier', 'tail_num',\n",
       "       'op_carrier_fl_num', 'origin_airport_id', 'origin', 'dest_airport_id',\n",
       "       'dest', 'crs_dep_time', 'dep_time', 'dep_delay', 'taxi_out',\n",
       "       'wheels_off', 'wheels_on', 'taxi_in', 'crs_arr_time', 'arr_time',\n",
       "       'arr_delay', 'cancelled', 'cancellation_code', 'diverted',\n",
       "       'crs_elapsed_time', 'actual_elapsed_time', 'air_time', 'flights',\n",
       "       'distance', 'carrier_delay', 'weather_delay', 'nas_delay',\n",
       "       'security_delay', 'late_aircraft_delay', 'first_dep_time',\n",
       "       'total_add_gtime', 'longest_add_gtime', 'no_name', 'ori_latitude',\n",
       "       'ori_longitude', 'dest_latitude', 'dest_longitude', 'fl_date', 'month'],\n",
       "      dtype='object')"
      ]
     },
     "execution_count": 171,
     "metadata": {},
     "output_type": "execute_result"
    }
   ],
   "source": [
    "opt_flights.columns"
   ]
  },
  {
   "cell_type": "code",
   "execution_count": 172,
   "metadata": {},
   "outputs": [
    {
     "data": {
      "text/plain": [
       "(15927485, 41)"
      ]
     },
     "execution_count": 172,
     "metadata": {},
     "output_type": "execute_result"
    }
   ],
   "source": [
    "opt_flights.shape"
   ]
  },
  {
   "cell_type": "code",
   "execution_count": 174,
   "metadata": {},
   "outputs": [],
   "source": [
    "#new_df = pd.merge(A_df, B_df,  how='left', left_on=['A_c1','c2'], right_on = ['B_c1','c2'])\n",
    "new_df=pd.merge(opt_flights,weather_key[['origin','month', 'wdir', 'temp',\n",
    "       'maxt', 'visibility', 'wspd', 'heatindex', 'cloudcover', 'mint',\n",
    "       'precip', 'snowdepth', 'sealevelpressure', 'dew', 'humidity', 'wgust',\n",
    "       'precipcover', 'windchill', 'closest_airport']],how='outer',on=['origin','month'])"
   ]
  },
  {
   "cell_type": "code",
   "execution_count": 182,
   "metadata": {},
   "outputs": [
    {
     "data": {
      "text/html": [
       "<div>\n",
       "<style scoped>\n",
       "    .dataframe tbody tr th:only-of-type {\n",
       "        vertical-align: middle;\n",
       "    }\n",
       "\n",
       "    .dataframe tbody tr th {\n",
       "        vertical-align: top;\n",
       "    }\n",
       "\n",
       "    .dataframe thead th {\n",
       "        text-align: right;\n",
       "    }\n",
       "</style>\n",
       "<table border=\"1\" class=\"dataframe\">\n",
       "  <thead>\n",
       "    <tr style=\"text-align: right;\">\n",
       "      <th></th>\n",
       "      <th>mkt_carrier_fl_num</th>\n",
       "      <th>op_unique_carrier</th>\n",
       "      <th>tail_num</th>\n",
       "      <th>op_carrier_fl_num</th>\n",
       "      <th>origin_airport_id</th>\n",
       "      <th>origin</th>\n",
       "      <th>dest_airport_id</th>\n",
       "      <th>dest</th>\n",
       "      <th>crs_dep_time</th>\n",
       "      <th>dep_time</th>\n",
       "      <th>...</th>\n",
       "      <th>mint</th>\n",
       "      <th>precip</th>\n",
       "      <th>snowdepth</th>\n",
       "      <th>sealevelpressure</th>\n",
       "      <th>dew</th>\n",
       "      <th>humidity</th>\n",
       "      <th>wgust</th>\n",
       "      <th>precipcover</th>\n",
       "      <th>windchill</th>\n",
       "      <th>closest_airport</th>\n",
       "    </tr>\n",
       "  </thead>\n",
       "  <tbody>\n",
       "    <tr>\n",
       "      <th>50000</th>\n",
       "      <td>1292.0</td>\n",
       "      <td>DL</td>\n",
       "      <td>N895DN</td>\n",
       "      <td>1292.0</td>\n",
       "      <td>14771.0</td>\n",
       "      <td>SFO</td>\n",
       "      <td>11433.0</td>\n",
       "      <td>DTW</td>\n",
       "      <td>2154.0</td>\n",
       "      <td>2157.0</td>\n",
       "      <td>...</td>\n",
       "      <td>51.1</td>\n",
       "      <td>0.81</td>\n",
       "      <td>NaN</td>\n",
       "      <td>1013.9</td>\n",
       "      <td>52.6</td>\n",
       "      <td>72.71</td>\n",
       "      <td>40.3</td>\n",
       "      <td>2.22</td>\n",
       "      <td>NaN</td>\n",
       "      <td>LAX</td>\n",
       "    </tr>\n",
       "    <tr>\n",
       "      <th>50001</th>\n",
       "      <td>1327.0</td>\n",
       "      <td>DL</td>\n",
       "      <td>N955AT</td>\n",
       "      <td>1327.0</td>\n",
       "      <td>14771.0</td>\n",
       "      <td>SFO</td>\n",
       "      <td>12892.0</td>\n",
       "      <td>LAX</td>\n",
       "      <td>1515.0</td>\n",
       "      <td>1515.0</td>\n",
       "      <td>...</td>\n",
       "      <td>51.1</td>\n",
       "      <td>0.81</td>\n",
       "      <td>NaN</td>\n",
       "      <td>1013.9</td>\n",
       "      <td>52.6</td>\n",
       "      <td>72.71</td>\n",
       "      <td>40.3</td>\n",
       "      <td>2.22</td>\n",
       "      <td>NaN</td>\n",
       "      <td>LAX</td>\n",
       "    </tr>\n",
       "    <tr>\n",
       "      <th>50002</th>\n",
       "      <td>1380.0</td>\n",
       "      <td>DL</td>\n",
       "      <td>N806DN</td>\n",
       "      <td>1380.0</td>\n",
       "      <td>14771.0</td>\n",
       "      <td>SFO</td>\n",
       "      <td>13487.0</td>\n",
       "      <td>MSP</td>\n",
       "      <td>1035.0</td>\n",
       "      <td>1132.0</td>\n",
       "      <td>...</td>\n",
       "      <td>51.1</td>\n",
       "      <td>0.81</td>\n",
       "      <td>NaN</td>\n",
       "      <td>1013.9</td>\n",
       "      <td>52.6</td>\n",
       "      <td>72.71</td>\n",
       "      <td>40.3</td>\n",
       "      <td>2.22</td>\n",
       "      <td>NaN</td>\n",
       "      <td>LAX</td>\n",
       "    </tr>\n",
       "    <tr>\n",
       "      <th>50003</th>\n",
       "      <td>1393.0</td>\n",
       "      <td>DL</td>\n",
       "      <td>N858DZ</td>\n",
       "      <td>1393.0</td>\n",
       "      <td>14771.0</td>\n",
       "      <td>SFO</td>\n",
       "      <td>13487.0</td>\n",
       "      <td>MSP</td>\n",
       "      <td>1535.0</td>\n",
       "      <td>1611.0</td>\n",
       "      <td>...</td>\n",
       "      <td>51.1</td>\n",
       "      <td>0.81</td>\n",
       "      <td>NaN</td>\n",
       "      <td>1013.9</td>\n",
       "      <td>52.6</td>\n",
       "      <td>72.71</td>\n",
       "      <td>40.3</td>\n",
       "      <td>2.22</td>\n",
       "      <td>NaN</td>\n",
       "      <td>LAX</td>\n",
       "    </tr>\n",
       "    <tr>\n",
       "      <th>50004</th>\n",
       "      <td>1446.0</td>\n",
       "      <td>DL</td>\n",
       "      <td>N593NW</td>\n",
       "      <td>1446.0</td>\n",
       "      <td>14771.0</td>\n",
       "      <td>SFO</td>\n",
       "      <td>10397.0</td>\n",
       "      <td>ATL</td>\n",
       "      <td>2300.0</td>\n",
       "      <td>2302.0</td>\n",
       "      <td>...</td>\n",
       "      <td>51.1</td>\n",
       "      <td>0.81</td>\n",
       "      <td>NaN</td>\n",
       "      <td>1013.9</td>\n",
       "      <td>52.6</td>\n",
       "      <td>72.71</td>\n",
       "      <td>40.3</td>\n",
       "      <td>2.22</td>\n",
       "      <td>NaN</td>\n",
       "      <td>LAX</td>\n",
       "    </tr>\n",
       "    <tr>\n",
       "      <th>50005</th>\n",
       "      <td>1467.0</td>\n",
       "      <td>DL</td>\n",
       "      <td>N717TW</td>\n",
       "      <td>1467.0</td>\n",
       "      <td>14771.0</td>\n",
       "      <td>SFO</td>\n",
       "      <td>12478.0</td>\n",
       "      <td>JFK</td>\n",
       "      <td>625.0</td>\n",
       "      <td>620.0</td>\n",
       "      <td>...</td>\n",
       "      <td>51.1</td>\n",
       "      <td>0.81</td>\n",
       "      <td>NaN</td>\n",
       "      <td>1013.9</td>\n",
       "      <td>52.6</td>\n",
       "      <td>72.71</td>\n",
       "      <td>40.3</td>\n",
       "      <td>2.22</td>\n",
       "      <td>NaN</td>\n",
       "      <td>LAX</td>\n",
       "    </tr>\n",
       "    <tr>\n",
       "      <th>50006</th>\n",
       "      <td>1470.0</td>\n",
       "      <td>DL</td>\n",
       "      <td>N376DA</td>\n",
       "      <td>1470.0</td>\n",
       "      <td>14771.0</td>\n",
       "      <td>SFO</td>\n",
       "      <td>14747.0</td>\n",
       "      <td>SEA</td>\n",
       "      <td>1421.0</td>\n",
       "      <td>1449.0</td>\n",
       "      <td>...</td>\n",
       "      <td>51.1</td>\n",
       "      <td>0.81</td>\n",
       "      <td>NaN</td>\n",
       "      <td>1013.9</td>\n",
       "      <td>52.6</td>\n",
       "      <td>72.71</td>\n",
       "      <td>40.3</td>\n",
       "      <td>2.22</td>\n",
       "      <td>NaN</td>\n",
       "      <td>LAX</td>\n",
       "    </tr>\n",
       "    <tr>\n",
       "      <th>50007</th>\n",
       "      <td>1536.0</td>\n",
       "      <td>DL</td>\n",
       "      <td>N849DN</td>\n",
       "      <td>1536.0</td>\n",
       "      <td>14771.0</td>\n",
       "      <td>SFO</td>\n",
       "      <td>14869.0</td>\n",
       "      <td>SLC</td>\n",
       "      <td>959.0</td>\n",
       "      <td>1032.0</td>\n",
       "      <td>...</td>\n",
       "      <td>51.1</td>\n",
       "      <td>0.81</td>\n",
       "      <td>NaN</td>\n",
       "      <td>1013.9</td>\n",
       "      <td>52.6</td>\n",
       "      <td>72.71</td>\n",
       "      <td>40.3</td>\n",
       "      <td>2.22</td>\n",
       "      <td>NaN</td>\n",
       "      <td>LAX</td>\n",
       "    </tr>\n",
       "    <tr>\n",
       "      <th>50008</th>\n",
       "      <td>5696.0</td>\n",
       "      <td>CP</td>\n",
       "      <td>N602CZ</td>\n",
       "      <td>5696.0</td>\n",
       "      <td>14771.0</td>\n",
       "      <td>SFO</td>\n",
       "      <td>14747.0</td>\n",
       "      <td>SEA</td>\n",
       "      <td>1805.0</td>\n",
       "      <td>1859.0</td>\n",
       "      <td>...</td>\n",
       "      <td>51.1</td>\n",
       "      <td>0.81</td>\n",
       "      <td>NaN</td>\n",
       "      <td>1013.9</td>\n",
       "      <td>52.6</td>\n",
       "      <td>72.71</td>\n",
       "      <td>40.3</td>\n",
       "      <td>2.22</td>\n",
       "      <td>NaN</td>\n",
       "      <td>LAX</td>\n",
       "    </tr>\n",
       "    <tr>\n",
       "      <th>50009</th>\n",
       "      <td>5699.0</td>\n",
       "      <td>CP</td>\n",
       "      <td>N623CZ</td>\n",
       "      <td>5699.0</td>\n",
       "      <td>14771.0</td>\n",
       "      <td>SFO</td>\n",
       "      <td>14747.0</td>\n",
       "      <td>SEA</td>\n",
       "      <td>1558.0</td>\n",
       "      <td>1733.0</td>\n",
       "      <td>...</td>\n",
       "      <td>51.1</td>\n",
       "      <td>0.81</td>\n",
       "      <td>NaN</td>\n",
       "      <td>1013.9</td>\n",
       "      <td>52.6</td>\n",
       "      <td>72.71</td>\n",
       "      <td>40.3</td>\n",
       "      <td>2.22</td>\n",
       "      <td>NaN</td>\n",
       "      <td>LAX</td>\n",
       "    </tr>\n",
       "  </tbody>\n",
       "</table>\n",
       "<p>10 rows × 58 columns</p>\n",
       "</div>"
      ],
      "text/plain": [
       "       mkt_carrier_fl_num op_unique_carrier tail_num  op_carrier_fl_num  \\\n",
       "50000              1292.0                DL   N895DN             1292.0   \n",
       "50001              1327.0                DL   N955AT             1327.0   \n",
       "50002              1380.0                DL   N806DN             1380.0   \n",
       "50003              1393.0                DL   N858DZ             1393.0   \n",
       "50004              1446.0                DL   N593NW             1446.0   \n",
       "50005              1467.0                DL   N717TW             1467.0   \n",
       "50006              1470.0                DL   N376DA             1470.0   \n",
       "50007              1536.0                DL   N849DN             1536.0   \n",
       "50008              5696.0                CP   N602CZ             5696.0   \n",
       "50009              5699.0                CP   N623CZ             5699.0   \n",
       "\n",
       "       origin_airport_id origin  dest_airport_id dest  crs_dep_time  dep_time  \\\n",
       "50000            14771.0    SFO          11433.0  DTW        2154.0    2157.0   \n",
       "50001            14771.0    SFO          12892.0  LAX        1515.0    1515.0   \n",
       "50002            14771.0    SFO          13487.0  MSP        1035.0    1132.0   \n",
       "50003            14771.0    SFO          13487.0  MSP        1535.0    1611.0   \n",
       "50004            14771.0    SFO          10397.0  ATL        2300.0    2302.0   \n",
       "50005            14771.0    SFO          12478.0  JFK         625.0     620.0   \n",
       "50006            14771.0    SFO          14747.0  SEA        1421.0    1449.0   \n",
       "50007            14771.0    SFO          14869.0  SLC         959.0    1032.0   \n",
       "50008            14771.0    SFO          14747.0  SEA        1805.0    1859.0   \n",
       "50009            14771.0    SFO          14747.0  SEA        1558.0    1733.0   \n",
       "\n",
       "       ...  mint  precip  snowdepth  sealevelpressure   dew  humidity  wgust  \\\n",
       "50000  ...  51.1    0.81        NaN            1013.9  52.6     72.71   40.3   \n",
       "50001  ...  51.1    0.81        NaN            1013.9  52.6     72.71   40.3   \n",
       "50002  ...  51.1    0.81        NaN            1013.9  52.6     72.71   40.3   \n",
       "50003  ...  51.1    0.81        NaN            1013.9  52.6     72.71   40.3   \n",
       "50004  ...  51.1    0.81        NaN            1013.9  52.6     72.71   40.3   \n",
       "50005  ...  51.1    0.81        NaN            1013.9  52.6     72.71   40.3   \n",
       "50006  ...  51.1    0.81        NaN            1013.9  52.6     72.71   40.3   \n",
       "50007  ...  51.1    0.81        NaN            1013.9  52.6     72.71   40.3   \n",
       "50008  ...  51.1    0.81        NaN            1013.9  52.6     72.71   40.3   \n",
       "50009  ...  51.1    0.81        NaN            1013.9  52.6     72.71   40.3   \n",
       "\n",
       "       precipcover  windchill closest_airport  \n",
       "50000         2.22        NaN             LAX  \n",
       "50001         2.22        NaN             LAX  \n",
       "50002         2.22        NaN             LAX  \n",
       "50003         2.22        NaN             LAX  \n",
       "50004         2.22        NaN             LAX  \n",
       "50005         2.22        NaN             LAX  \n",
       "50006         2.22        NaN             LAX  \n",
       "50007         2.22        NaN             LAX  \n",
       "50008         2.22        NaN             LAX  \n",
       "50009         2.22        NaN             LAX  \n",
       "\n",
       "[10 rows x 58 columns]"
      ]
     },
     "execution_count": 182,
     "metadata": {},
     "output_type": "execute_result"
    }
   ],
   "source": [
    "new_df.iloc[50000:50010]"
   ]
  },
  {
   "cell_type": "markdown",
   "metadata": {},
   "source": [
    "# Re-build flights table with weather"
   ]
  },
  {
   "cell_type": "code",
   "execution_count": null,
   "metadata": {},
   "outputs": [],
   "source": [
    "# REBUILD Flights by referencing WEATHER KEY \n",
    "\n",
    "for i in range(len(opt_flights)):\n",
    "    opt_flights.loc[(weather_key['origin']==weather_key['origin'][i]) & (weather_key['month']==weather_key['month'][i]), aw_vars]=A_W.loc[(A_W['origin']==weather_key['closest_airport'][i])&(A_W['month']==weather_key['month'][i])][aw_vars].values"
   ]
  },
  {
   "cell_type": "raw",
   "metadata": {},
   "source": [
    "for i in range(2):\n",
    "    print(closest(tempDataList,{'lat':opt_flights['ori_latitude'][i],'lon':opt_flights['ori_longitude'][i]}))\n",
    "    opt_flights"
   ]
  }
 ],
 "metadata": {
  "kernelspec": {
   "display_name": "bootcamp_env",
   "language": "python",
   "name": "bootcamp_env"
  },
  "language_info": {
   "codemirror_mode": {
    "name": "ipython",
    "version": 3
   },
   "file_extension": ".py",
   "mimetype": "text/x-python",
   "name": "python",
   "nbconvert_exporter": "python",
   "pygments_lexer": "ipython3",
   "version": "3.7.6"
  }
 },
 "nbformat": 4,
 "nbformat_minor": 4
}
