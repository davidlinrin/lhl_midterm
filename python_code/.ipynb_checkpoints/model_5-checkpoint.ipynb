{
 "cells": [
  {
   "cell_type": "markdown",
   "metadata": {},
   "source": [
    "### Import packages"
   ]
  },
  {
   "cell_type": "code",
   "execution_count": 55,
   "metadata": {},
   "outputs": [],
   "source": [
    "import pandas as pd\n",
    "import numpy as np\n",
    "import matplotlib.pyplot as plt\n",
    "\n",
    "import statsmodels.api as sm\n",
    "from sklearn.preprocessing import StandardScaler\n",
    "from sklearn.decomposition import PCA\n",
    "from sklearn.preprocessing import LabelEncoder\n",
    "from sklearn.model_selection import train_test_split\n",
    "from sklearn import preprocessing\n",
    "from sklearn.feature_selection import VarianceThreshold\n",
    "from sklearn.feature_selection import f_regression, SelectKBest\n",
    "from sklearn.cluster import DBSCAN\n",
    "from sklearn.cluster import KMeans\n",
    "from sklearn.linear_model import LinearRegression\n",
    "import xgboost as xgb\n",
    "from sklearn import metrics\n",
    "from sklearn.model_selection import RandomizedSearchCV\n",
    "from sklearn.ensemble import RandomForestClassifier\n",
    "from sklearn.ensemble import RandomForestRegressor\n",
    "from sklearn.metrics import mean_squared_error\n",
    "import plotly.graph_objects as go\n",
    "\n",
    "import copy\n",
    "import seaborn as sns\n",
    "import os\n",
    "from scipy import stats\n",
    "import datetime\n",
    "\n",
    "%matplotlib inline"
   ]
  },
  {
   "cell_type": "code",
   "execution_count": 56,
   "metadata": {},
   "outputs": [],
   "source": [
    "data_path = '/mnt/d/lighthouse/Midterm_data/'"
   ]
  },
  {
   "cell_type": "code",
   "execution_count": null,
   "metadata": {},
   "outputs": [],
   "source": [
    "# 15927485 rows × 42\n",
    "flights_with_weather = pd.read_csv(data_path + 'model_flights_with_origin_weather.csv', header = 0, low_memory=False)\n",
    "flights_test =pd.read_csv(data_path + 'flights_test.csv', header = 0)\n",
    "traffic_feature = pd.read_csv(data_path + 'busy_feature.csv', header = 0)\n",
    "traffic_feature.drop('Unnamed: 0', axis = 1, inplace = True)\n",
    "wkey = pd.read_csv(data_path + 'wkey.csv', header = 0)"
   ]
  },
  {
   "cell_type": "code",
   "execution_count": 4,
   "metadata": {},
   "outputs": [],
   "source": [
    "# making duplicate so we dont have to re-read large csv files\n",
    "flights_clean = copy.deepcopy(flights_with_weather)"
   ]
  },
  {
   "cell_type": "markdown",
   "metadata": {},
   "source": [
    "# Merging traffic feature"
   ]
  },
  {
   "cell_type": "code",
   "execution_count": 5,
   "metadata": {},
   "outputs": [],
   "source": [
    "flights_clean = flights_clean.merge(traffic_feature, on=['origin'], how='left')"
   ]
  },
  {
   "cell_type": "markdown",
   "metadata": {},
   "source": [
    "## Nan"
   ]
  },
  {
   "cell_type": "code",
   "execution_count": 27,
   "metadata": {},
   "outputs": [],
   "source": [
    "total = flights_clean.isnull().sum().sort_values(ascending = False)\n",
    "percent = (flights_clean.isnull().sum()/flights_clean.isnull().count()).sort_values(ascending = False)\n",
    "missing_data = pd.concat([total,percent], axis=1, keys=['Total', 'Percent'])"
   ]
  },
  {
   "cell_type": "code",
   "execution_count": 28,
   "metadata": {},
   "outputs": [
    {
     "data": {
      "text/html": [
       "<div>\n",
       "<style scoped>\n",
       "    .dataframe tbody tr th:only-of-type {\n",
       "        vertical-align: middle;\n",
       "    }\n",
       "\n",
       "    .dataframe tbody tr th {\n",
       "        vertical-align: top;\n",
       "    }\n",
       "\n",
       "    .dataframe thead th {\n",
       "        text-align: right;\n",
       "    }\n",
       "</style>\n",
       "<table border=\"1\" class=\"dataframe\">\n",
       "  <thead>\n",
       "    <tr style=\"text-align: right;\">\n",
       "      <th></th>\n",
       "      <th>Total</th>\n",
       "      <th>Percent</th>\n",
       "    </tr>\n",
       "  </thead>\n",
       "  <tbody>\n",
       "    <tr>\n",
       "      <th>snowdepth</th>\n",
       "      <td>14178103</td>\n",
       "      <td>0.908204</td>\n",
       "    </tr>\n",
       "    <tr>\n",
       "      <th>windchill</th>\n",
       "      <td>5015660</td>\n",
       "      <td>0.321287</td>\n",
       "    </tr>\n",
       "    <tr>\n",
       "      <th>heatindex</th>\n",
       "      <td>4708110</td>\n",
       "      <td>0.301587</td>\n",
       "    </tr>\n",
       "    <tr>\n",
       "      <th>sealevelpressure</th>\n",
       "      <td>11745</td>\n",
       "      <td>0.000752</td>\n",
       "    </tr>\n",
       "    <tr>\n",
       "      <th>wgust</th>\n",
       "      <td>7853</td>\n",
       "      <td>0.000503</td>\n",
       "    </tr>\n",
       "    <tr>\n",
       "      <th>total_flights</th>\n",
       "      <td>0</td>\n",
       "      <td>0.000000</td>\n",
       "    </tr>\n",
       "  </tbody>\n",
       "</table>\n",
       "</div>"
      ],
      "text/plain": [
       "                     Total   Percent\n",
       "snowdepth         14178103  0.908204\n",
       "windchill          5015660  0.321287\n",
       "heatindex          4708110  0.301587\n",
       "sealevelpressure     11745  0.000752\n",
       "wgust                 7853  0.000503\n",
       "total_flights            0  0.000000"
      ]
     },
     "execution_count": 28,
     "metadata": {},
     "output_type": "execute_result"
    }
   ],
   "source": [
    "missing_data.head(6)"
   ]
  },
  {
   "cell_type": "code",
   "execution_count": 8,
   "metadata": {},
   "outputs": [
    {
     "data": {
      "text/plain": [
       "<AxesSubplot:xlabel='snowdepth'>"
      ]
     },
     "execution_count": 8,
     "metadata": {},
     "output_type": "execute_result"
    },
    {
     "data": {
      "image/png": "[encoded data removed]",
      "text/plain": [
       "<Figure size 432x288 with 1 Axes>"
      ]
     },
     "metadata": {
      "needs_background": "light"
     },
     "output_type": "display_data"
    }
   ],
   "source": [
    "sns.distplot(flights_clean['snowdepth'])"
   ]
  },
  {
   "cell_type": "code",
   "execution_count": 30,
   "metadata": {},
   "outputs": [],
   "source": [
    "flights_clean['snow_type'] = np.where(3<=flights_clean['snowdepth'],2,flights_clean['snowdepth'])\n",
    "flights_clean['snow_type'] = np.where((flights_clean['snowdepth']<3)&(1<=flights_clean['snowdepth']),1,flights_clean['snow_type'])\n",
    "flights_clean['snow_type'] = np.where((flights_clean['snow_type']==2)|(flights_clean['snow_type']==1),flights_clean['snow_type'],0)"
   ]
  },
  {
   "cell_type": "code",
   "execution_count": 32,
   "metadata": {},
   "outputs": [],
   "source": [
    "flights_clean.drop('snowdepth', axis = 1, inplace = True)"
   ]
  },
  {
   "cell_type": "code",
   "execution_count": 33,
   "metadata": {},
   "outputs": [],
   "source": [
    "flights_clean['windchill'] = flights_clean['windchill'].fillna(np.mean(flights_clean['windchill']))\n",
    "flights_clean['heatindex'] = flights_clean['heatindex'].fillna(np.mean(flights_clean['heatindex']))\n",
    "flights_clean['sealevelpressure'] = flights_clean['sealevelpressure'].fillna(np.mean(flights_clean['sealevelpressure']))\n",
    "flights_clean['wgust'] = flights_clean['wgust'].fillna(np.mean(flights_clean['wgust']))"
   ]
  },
  {
   "cell_type": "markdown",
   "metadata": {},
   "source": [
    "## rows with Nan"
   ]
  },
  {
   "cell_type": "code",
   "execution_count": 33,
   "metadata": {},
   "outputs": [],
   "source": [
    "# before: (15927485, 20)\n",
    "# after: 15652397 rows × 20 columns\n",
    "# lost 3% of data, no biggie\n",
    "#flights_clean.dropna(inplace = True)"
   ]
  },
  {
   "cell_type": "code",
   "execution_count": 24,
   "metadata": {},
   "outputs": [],
   "source": [
    "#flights_clean.drop('Unnamed: 0', axis = 1, inplace = True)"
   ]
  },
  {
   "cell_type": "code",
   "execution_count": 34,
   "metadata": {},
   "outputs": [
    {
     "data": {
      "text/html": [
       "<div>\n",
       "<style scoped>\n",
       "    .dataframe tbody tr th:only-of-type {\n",
       "        vertical-align: middle;\n",
       "    }\n",
       "\n",
       "    .dataframe tbody tr th {\n",
       "        vertical-align: top;\n",
       "    }\n",
       "\n",
       "    .dataframe thead th {\n",
       "        text-align: right;\n",
       "    }\n",
       "</style>\n",
       "<table border=\"1\" class=\"dataframe\">\n",
       "  <thead>\n",
       "    <tr style=\"text-align: right;\">\n",
       "      <th></th>\n",
       "      <th>mkt_unique_carrier</th>\n",
       "      <th>branded_code_share</th>\n",
       "      <th>mkt_carrier_fl_num</th>\n",
       "      <th>tail_num</th>\n",
       "      <th>origin</th>\n",
       "      <th>dest</th>\n",
       "      <th>crs_dep_time</th>\n",
       "      <th>dep_delay</th>\n",
       "      <th>crs_arr_time</th>\n",
       "      <th>arr_time</th>\n",
       "      <th>...</th>\n",
       "      <th>precip</th>\n",
       "      <th>sealevelpressure</th>\n",
       "      <th>dew</th>\n",
       "      <th>humidity</th>\n",
       "      <th>wgust</th>\n",
       "      <th>precipcover</th>\n",
       "      <th>windchill</th>\n",
       "      <th>closest_airport</th>\n",
       "      <th>total_flights</th>\n",
       "      <th>snow_type</th>\n",
       "    </tr>\n",
       "  </thead>\n",
       "  <tbody>\n",
       "    <tr>\n",
       "      <th>0</th>\n",
       "      <td>WN</td>\n",
       "      <td>WN</td>\n",
       "      <td>2098</td>\n",
       "      <td>N8540V</td>\n",
       "      <td>MCI</td>\n",
       "      <td>PHX</td>\n",
       "      <td>1755</td>\n",
       "      <td>-2.0</td>\n",
       "      <td>1850</td>\n",
       "      <td>1838.0</td>\n",
       "      <td>...</td>\n",
       "      <td>4.7</td>\n",
       "      <td>1020.2</td>\n",
       "      <td>26.9</td>\n",
       "      <td>77.1</td>\n",
       "      <td>57.5</td>\n",
       "      <td>6.86</td>\n",
       "      <td>-30.4</td>\n",
       "      <td>SUX</td>\n",
       "      <td>226679</td>\n",
       "      <td>0.0</td>\n",
       "    </tr>\n",
       "    <tr>\n",
       "      <th>1</th>\n",
       "      <td>WN</td>\n",
       "      <td>WN</td>\n",
       "      <td>2238</td>\n",
       "      <td>N8656B</td>\n",
       "      <td>MCI</td>\n",
       "      <td>PHX</td>\n",
       "      <td>2000</td>\n",
       "      <td>-5.0</td>\n",
       "      <td>2055</td>\n",
       "      <td>2036.0</td>\n",
       "      <td>...</td>\n",
       "      <td>4.7</td>\n",
       "      <td>1020.2</td>\n",
       "      <td>26.9</td>\n",
       "      <td>77.1</td>\n",
       "      <td>57.5</td>\n",
       "      <td>6.86</td>\n",
       "      <td>-30.4</td>\n",
       "      <td>SUX</td>\n",
       "      <td>226679</td>\n",
       "      <td>0.0</td>\n",
       "    </tr>\n",
       "    <tr>\n",
       "      <th>2</th>\n",
       "      <td>WN</td>\n",
       "      <td>WN</td>\n",
       "      <td>2451</td>\n",
       "      <td>N8583Z</td>\n",
       "      <td>MCI</td>\n",
       "      <td>PHX</td>\n",
       "      <td>540</td>\n",
       "      <td>1.0</td>\n",
       "      <td>635</td>\n",
       "      <td>625.0</td>\n",
       "      <td>...</td>\n",
       "      <td>4.7</td>\n",
       "      <td>1020.2</td>\n",
       "      <td>26.9</td>\n",
       "      <td>77.1</td>\n",
       "      <td>57.5</td>\n",
       "      <td>6.86</td>\n",
       "      <td>-30.4</td>\n",
       "      <td>SUX</td>\n",
       "      <td>226679</td>\n",
       "      <td>0.0</td>\n",
       "    </tr>\n",
       "    <tr>\n",
       "      <th>3</th>\n",
       "      <td>WN</td>\n",
       "      <td>WN</td>\n",
       "      <td>2213</td>\n",
       "      <td>N737JW</td>\n",
       "      <td>MCI</td>\n",
       "      <td>RDU</td>\n",
       "      <td>1550</td>\n",
       "      <td>99.0</td>\n",
       "      <td>1905</td>\n",
       "      <td>2039.0</td>\n",
       "      <td>...</td>\n",
       "      <td>4.7</td>\n",
       "      <td>1020.2</td>\n",
       "      <td>26.9</td>\n",
       "      <td>77.1</td>\n",
       "      <td>57.5</td>\n",
       "      <td>6.86</td>\n",
       "      <td>-30.4</td>\n",
       "      <td>SUX</td>\n",
       "      <td>226679</td>\n",
       "      <td>0.0</td>\n",
       "    </tr>\n",
       "    <tr>\n",
       "      <th>4</th>\n",
       "      <td>WN</td>\n",
       "      <td>WN</td>\n",
       "      <td>2096</td>\n",
       "      <td>N705SW</td>\n",
       "      <td>MCI</td>\n",
       "      <td>RSW</td>\n",
       "      <td>1045</td>\n",
       "      <td>166.0</td>\n",
       "      <td>1430</td>\n",
       "      <td>1702.0</td>\n",
       "      <td>...</td>\n",
       "      <td>4.7</td>\n",
       "      <td>1020.2</td>\n",
       "      <td>26.9</td>\n",
       "      <td>77.1</td>\n",
       "      <td>57.5</td>\n",
       "      <td>6.86</td>\n",
       "      <td>-30.4</td>\n",
       "      <td>SUX</td>\n",
       "      <td>226679</td>\n",
       "      <td>0.0</td>\n",
       "    </tr>\n",
       "    <tr>\n",
       "      <th>...</th>\n",
       "      <td>...</td>\n",
       "      <td>...</td>\n",
       "      <td>...</td>\n",
       "      <td>...</td>\n",
       "      <td>...</td>\n",
       "      <td>...</td>\n",
       "      <td>...</td>\n",
       "      <td>...</td>\n",
       "      <td>...</td>\n",
       "      <td>...</td>\n",
       "      <td>...</td>\n",
       "      <td>...</td>\n",
       "      <td>...</td>\n",
       "      <td>...</td>\n",
       "      <td>...</td>\n",
       "      <td>...</td>\n",
       "      <td>...</td>\n",
       "      <td>...</td>\n",
       "      <td>...</td>\n",
       "      <td>...</td>\n",
       "      <td>...</td>\n",
       "    </tr>\n",
       "    <tr>\n",
       "      <th>15611136</th>\n",
       "      <td>WN</td>\n",
       "      <td>WN</td>\n",
       "      <td>2189</td>\n",
       "      <td>N7702A</td>\n",
       "      <td>MCI</td>\n",
       "      <td>MSY</td>\n",
       "      <td>2055</td>\n",
       "      <td>16.0</td>\n",
       "      <td>2245</td>\n",
       "      <td>2242.0</td>\n",
       "      <td>...</td>\n",
       "      <td>4.7</td>\n",
       "      <td>1020.2</td>\n",
       "      <td>26.9</td>\n",
       "      <td>77.1</td>\n",
       "      <td>57.5</td>\n",
       "      <td>6.86</td>\n",
       "      <td>-30.4</td>\n",
       "      <td>SUX</td>\n",
       "      <td>226679</td>\n",
       "      <td>0.0</td>\n",
       "    </tr>\n",
       "    <tr>\n",
       "      <th>15611137</th>\n",
       "      <td>WN</td>\n",
       "      <td>WN</td>\n",
       "      <td>1291</td>\n",
       "      <td>N7878A</td>\n",
       "      <td>MCI</td>\n",
       "      <td>OAK</td>\n",
       "      <td>1200</td>\n",
       "      <td>88.0</td>\n",
       "      <td>1355</td>\n",
       "      <td>1534.0</td>\n",
       "      <td>...</td>\n",
       "      <td>4.7</td>\n",
       "      <td>1020.2</td>\n",
       "      <td>26.9</td>\n",
       "      <td>77.1</td>\n",
       "      <td>57.5</td>\n",
       "      <td>6.86</td>\n",
       "      <td>-30.4</td>\n",
       "      <td>SUX</td>\n",
       "      <td>226679</td>\n",
       "      <td>0.0</td>\n",
       "    </tr>\n",
       "    <tr>\n",
       "      <th>15611138</th>\n",
       "      <td>WN</td>\n",
       "      <td>WN</td>\n",
       "      <td>2470</td>\n",
       "      <td>N760SW</td>\n",
       "      <td>MCI</td>\n",
       "      <td>PDX</td>\n",
       "      <td>920</td>\n",
       "      <td>-5.0</td>\n",
       "      <td>1110</td>\n",
       "      <td>1052.0</td>\n",
       "      <td>...</td>\n",
       "      <td>4.7</td>\n",
       "      <td>1020.2</td>\n",
       "      <td>26.9</td>\n",
       "      <td>77.1</td>\n",
       "      <td>57.5</td>\n",
       "      <td>6.86</td>\n",
       "      <td>-30.4</td>\n",
       "      <td>SUX</td>\n",
       "      <td>226679</td>\n",
       "      <td>0.0</td>\n",
       "    </tr>\n",
       "    <tr>\n",
       "      <th>15611139</th>\n",
       "      <td>WN</td>\n",
       "      <td>WN</td>\n",
       "      <td>1651</td>\n",
       "      <td>N8542Z</td>\n",
       "      <td>MCI</td>\n",
       "      <td>PHX</td>\n",
       "      <td>1125</td>\n",
       "      <td>-2.0</td>\n",
       "      <td>1215</td>\n",
       "      <td>1204.0</td>\n",
       "      <td>...</td>\n",
       "      <td>4.7</td>\n",
       "      <td>1020.2</td>\n",
       "      <td>26.9</td>\n",
       "      <td>77.1</td>\n",
       "      <td>57.5</td>\n",
       "      <td>6.86</td>\n",
       "      <td>-30.4</td>\n",
       "      <td>SUX</td>\n",
       "      <td>226679</td>\n",
       "      <td>0.0</td>\n",
       "    </tr>\n",
       "    <tr>\n",
       "      <th>15611140</th>\n",
       "      <td>WN</td>\n",
       "      <td>WN</td>\n",
       "      <td>1962</td>\n",
       "      <td>N783SW</td>\n",
       "      <td>MCI</td>\n",
       "      <td>PHX</td>\n",
       "      <td>1350</td>\n",
       "      <td>0.0</td>\n",
       "      <td>1445</td>\n",
       "      <td>1434.0</td>\n",
       "      <td>...</td>\n",
       "      <td>4.7</td>\n",
       "      <td>1020.2</td>\n",
       "      <td>26.9</td>\n",
       "      <td>77.1</td>\n",
       "      <td>57.5</td>\n",
       "      <td>6.86</td>\n",
       "      <td>-30.4</td>\n",
       "      <td>SUX</td>\n",
       "      <td>226679</td>\n",
       "      <td>0.0</td>\n",
       "    </tr>\n",
       "  </tbody>\n",
       "</table>\n",
       "<p>15611141 rows × 36 columns</p>\n",
       "</div>"
      ],
      "text/plain": [
       "         mkt_unique_carrier branded_code_share  mkt_carrier_fl_num tail_num  \\\n",
       "0                        WN                 WN                2098   N8540V   \n",
       "1                        WN                 WN                2238   N8656B   \n",
       "2                        WN                 WN                2451   N8583Z   \n",
       "3                        WN                 WN                2213   N737JW   \n",
       "4                        WN                 WN                2096   N705SW   \n",
       "...                     ...                ...                 ...      ...   \n",
       "15611136                 WN                 WN                2189   N7702A   \n",
       "15611137                 WN                 WN                1291   N7878A   \n",
       "15611138                 WN                 WN                2470   N760SW   \n",
       "15611139                 WN                 WN                1651   N8542Z   \n",
       "15611140                 WN                 WN                1962   N783SW   \n",
       "\n",
       "         origin dest  crs_dep_time  dep_delay  crs_arr_time  arr_time  ...  \\\n",
       "0           MCI  PHX          1755       -2.0          1850    1838.0  ...   \n",
       "1           MCI  PHX          2000       -5.0          2055    2036.0  ...   \n",
       "2           MCI  PHX           540        1.0           635     625.0  ...   \n",
       "3           MCI  RDU          1550       99.0          1905    2039.0  ...   \n",
       "4           MCI  RSW          1045      166.0          1430    1702.0  ...   \n",
       "...         ...  ...           ...        ...           ...       ...  ...   \n",
       "15611136    MCI  MSY          2055       16.0          2245    2242.0  ...   \n",
       "15611137    MCI  OAK          1200       88.0          1355    1534.0  ...   \n",
       "15611138    MCI  PDX           920       -5.0          1110    1052.0  ...   \n",
       "15611139    MCI  PHX          1125       -2.0          1215    1204.0  ...   \n",
       "15611140    MCI  PHX          1350        0.0          1445    1434.0  ...   \n",
       "\n",
       "          precip  sealevelpressure   dew  humidity  wgust  precipcover  \\\n",
       "0            4.7            1020.2  26.9      77.1   57.5         6.86   \n",
       "1            4.7            1020.2  26.9      77.1   57.5         6.86   \n",
       "2            4.7            1020.2  26.9      77.1   57.5         6.86   \n",
       "3            4.7            1020.2  26.9      77.1   57.5         6.86   \n",
       "4            4.7            1020.2  26.9      77.1   57.5         6.86   \n",
       "...          ...               ...   ...       ...    ...          ...   \n",
       "15611136     4.7            1020.2  26.9      77.1   57.5         6.86   \n",
       "15611137     4.7            1020.2  26.9      77.1   57.5         6.86   \n",
       "15611138     4.7            1020.2  26.9      77.1   57.5         6.86   \n",
       "15611139     4.7            1020.2  26.9      77.1   57.5         6.86   \n",
       "15611140     4.7            1020.2  26.9      77.1   57.5         6.86   \n",
       "\n",
       "          windchill  closest_airport total_flights  snow_type  \n",
       "0             -30.4              SUX        226679        0.0  \n",
       "1             -30.4              SUX        226679        0.0  \n",
       "2             -30.4              SUX        226679        0.0  \n",
       "3             -30.4              SUX        226679        0.0  \n",
       "4             -30.4              SUX        226679        0.0  \n",
       "...             ...              ...           ...        ...  \n",
       "15611136      -30.4              SUX        226679        0.0  \n",
       "15611137      -30.4              SUX        226679        0.0  \n",
       "15611138      -30.4              SUX        226679        0.0  \n",
       "15611139      -30.4              SUX        226679        0.0  \n",
       "15611140      -30.4              SUX        226679        0.0  \n",
       "\n",
       "[15611141 rows x 36 columns]"
      ]
     },
     "execution_count": 34,
     "metadata": {},
     "output_type": "execute_result"
    }
   ],
   "source": [
    "flights_clean"
   ]
  },
  {
   "cell_type": "markdown",
   "metadata": {},
   "source": [
    "### seperate numerical/categorical"
   ]
  },
  {
   "cell_type": "code",
   "execution_count": 35,
   "metadata": {},
   "outputs": [],
   "source": [
    "# 9 numerical features\n",
    "numerical = list(flights_clean.dtypes[flights_clean.dtypes != 'object'].index)\n",
    "# 10 categorical features (10 if include city and state)\n",
    "categorical = list(flights_clean.dtypes[flights_clean.dtypes == 'object'].index)"
   ]
  },
  {
   "cell_type": "markdown",
   "metadata": {},
   "source": [
    "### exploring categorical variables"
   ]
  },
  {
   "cell_type": "code",
   "execution_count": 36,
   "metadata": {},
   "outputs": [],
   "source": [
    "flights_numerical = copy.deepcopy(flights_clean[numerical])\n",
    "flights_categorical = copy.deepcopy(flights_clean[categorical])"
   ]
  },
  {
   "cell_type": "code",
   "execution_count": 37,
   "metadata": {},
   "outputs": [
    {
     "data": {
      "text/html": [
       "<div>\n",
       "<style scoped>\n",
       "    .dataframe tbody tr th:only-of-type {\n",
       "        vertical-align: middle;\n",
       "    }\n",
       "\n",
       "    .dataframe tbody tr th {\n",
       "        vertical-align: top;\n",
       "    }\n",
       "\n",
       "    .dataframe thead th {\n",
       "        text-align: right;\n",
       "    }\n",
       "</style>\n",
       "<table border=\"1\" class=\"dataframe\">\n",
       "  <thead>\n",
       "    <tr style=\"text-align: right;\">\n",
       "      <th></th>\n",
       "      <th>mkt_unique_carrier</th>\n",
       "      <th>branded_code_share</th>\n",
       "      <th>tail_num</th>\n",
       "      <th>origin</th>\n",
       "      <th>dest</th>\n",
       "      <th>period</th>\n",
       "      <th>closest_airport</th>\n",
       "    </tr>\n",
       "  </thead>\n",
       "  <tbody>\n",
       "    <tr>\n",
       "      <th>0</th>\n",
       "      <td>WN</td>\n",
       "      <td>WN</td>\n",
       "      <td>N8540V</td>\n",
       "      <td>MCI</td>\n",
       "      <td>PHX</td>\n",
       "      <td>Mar</td>\n",
       "      <td>SUX</td>\n",
       "    </tr>\n",
       "    <tr>\n",
       "      <th>1</th>\n",
       "      <td>WN</td>\n",
       "      <td>WN</td>\n",
       "      <td>N8656B</td>\n",
       "      <td>MCI</td>\n",
       "      <td>PHX</td>\n",
       "      <td>Mar</td>\n",
       "      <td>SUX</td>\n",
       "    </tr>\n",
       "    <tr>\n",
       "      <th>2</th>\n",
       "      <td>WN</td>\n",
       "      <td>WN</td>\n",
       "      <td>N8583Z</td>\n",
       "      <td>MCI</td>\n",
       "      <td>PHX</td>\n",
       "      <td>Mar</td>\n",
       "      <td>SUX</td>\n",
       "    </tr>\n",
       "    <tr>\n",
       "      <th>3</th>\n",
       "      <td>WN</td>\n",
       "      <td>WN</td>\n",
       "      <td>N737JW</td>\n",
       "      <td>MCI</td>\n",
       "      <td>RDU</td>\n",
       "      <td>Mar</td>\n",
       "      <td>SUX</td>\n",
       "    </tr>\n",
       "    <tr>\n",
       "      <th>4</th>\n",
       "      <td>WN</td>\n",
       "      <td>WN</td>\n",
       "      <td>N705SW</td>\n",
       "      <td>MCI</td>\n",
       "      <td>RSW</td>\n",
       "      <td>Mar</td>\n",
       "      <td>SUX</td>\n",
       "    </tr>\n",
       "    <tr>\n",
       "      <th>...</th>\n",
       "      <td>...</td>\n",
       "      <td>...</td>\n",
       "      <td>...</td>\n",
       "      <td>...</td>\n",
       "      <td>...</td>\n",
       "      <td>...</td>\n",
       "      <td>...</td>\n",
       "    </tr>\n",
       "    <tr>\n",
       "      <th>15611136</th>\n",
       "      <td>WN</td>\n",
       "      <td>WN</td>\n",
       "      <td>N7702A</td>\n",
       "      <td>MCI</td>\n",
       "      <td>MSY</td>\n",
       "      <td>Mar</td>\n",
       "      <td>SUX</td>\n",
       "    </tr>\n",
       "    <tr>\n",
       "      <th>15611137</th>\n",
       "      <td>WN</td>\n",
       "      <td>WN</td>\n",
       "      <td>N7878A</td>\n",
       "      <td>MCI</td>\n",
       "      <td>OAK</td>\n",
       "      <td>Mar</td>\n",
       "      <td>SUX</td>\n",
       "    </tr>\n",
       "    <tr>\n",
       "      <th>15611138</th>\n",
       "      <td>WN</td>\n",
       "      <td>WN</td>\n",
       "      <td>N760SW</td>\n",
       "      <td>MCI</td>\n",
       "      <td>PDX</td>\n",
       "      <td>Mar</td>\n",
       "      <td>SUX</td>\n",
       "    </tr>\n",
       "    <tr>\n",
       "      <th>15611139</th>\n",
       "      <td>WN</td>\n",
       "      <td>WN</td>\n",
       "      <td>N8542Z</td>\n",
       "      <td>MCI</td>\n",
       "      <td>PHX</td>\n",
       "      <td>Mar</td>\n",
       "      <td>SUX</td>\n",
       "    </tr>\n",
       "    <tr>\n",
       "      <th>15611140</th>\n",
       "      <td>WN</td>\n",
       "      <td>WN</td>\n",
       "      <td>N783SW</td>\n",
       "      <td>MCI</td>\n",
       "      <td>PHX</td>\n",
       "      <td>Mar</td>\n",
       "      <td>SUX</td>\n",
       "    </tr>\n",
       "  </tbody>\n",
       "</table>\n",
       "<p>15611141 rows × 7 columns</p>\n",
       "</div>"
      ],
      "text/plain": [
       "         mkt_unique_carrier branded_code_share tail_num origin dest period  \\\n",
       "0                        WN                 WN   N8540V    MCI  PHX    Mar   \n",
       "1                        WN                 WN   N8656B    MCI  PHX    Mar   \n",
       "2                        WN                 WN   N8583Z    MCI  PHX    Mar   \n",
       "3                        WN                 WN   N737JW    MCI  RDU    Mar   \n",
       "4                        WN                 WN   N705SW    MCI  RSW    Mar   \n",
       "...                     ...                ...      ...    ...  ...    ...   \n",
       "15611136                 WN                 WN   N7702A    MCI  MSY    Mar   \n",
       "15611137                 WN                 WN   N7878A    MCI  OAK    Mar   \n",
       "15611138                 WN                 WN   N760SW    MCI  PDX    Mar   \n",
       "15611139                 WN                 WN   N8542Z    MCI  PHX    Mar   \n",
       "15611140                 WN                 WN   N783SW    MCI  PHX    Mar   \n",
       "\n",
       "         closest_airport  \n",
       "0                    SUX  \n",
       "1                    SUX  \n",
       "2                    SUX  \n",
       "3                    SUX  \n",
       "4                    SUX  \n",
       "...                  ...  \n",
       "15611136             SUX  \n",
       "15611137             SUX  \n",
       "15611138             SUX  \n",
       "15611139             SUX  \n",
       "15611140             SUX  \n",
       "\n",
       "[15611141 rows x 7 columns]"
      ]
     },
     "execution_count": 37,
     "metadata": {},
     "output_type": "execute_result"
    }
   ],
   "source": [
    "flights_categorical"
   ]
  },
  {
   "cell_type": "code",
   "execution_count": 38,
   "metadata": {},
   "outputs": [],
   "source": [
    "flights_categorical.drop(['period','closest_airport'],axis=1, inplace=True)"
   ]
  },
  {
   "cell_type": "markdown",
   "metadata": {},
   "source": [
    "### exploring numerical variables"
   ]
  },
  {
   "cell_type": "code",
   "execution_count": 37,
   "metadata": {},
   "outputs": [
    {
     "data": {
      "text/html": [
       "<div>\n",
       "<style scoped>\n",
       "    .dataframe tbody tr th:only-of-type {\n",
       "        vertical-align: middle;\n",
       "    }\n",
       "\n",
       "    .dataframe tbody tr th {\n",
       "        vertical-align: top;\n",
       "    }\n",
       "\n",
       "    .dataframe thead th {\n",
       "        text-align: right;\n",
       "    }\n",
       "</style>\n",
       "<table border=\"1\" class=\"dataframe\">\n",
       "  <thead>\n",
       "    <tr style=\"text-align: right;\">\n",
       "      <th></th>\n",
       "      <th>mkt_carrier_fl_num</th>\n",
       "      <th>crs_dep_time</th>\n",
       "      <th>dep_delay</th>\n",
       "      <th>crs_arr_time</th>\n",
       "      <th>arr_time</th>\n",
       "      <th>arr_delay</th>\n",
       "      <th>distance</th>\n",
       "      <th>year</th>\n",
       "      <th>month</th>\n",
       "      <th>date</th>\n",
       "      <th>...</th>\n",
       "      <th>cloudcover</th>\n",
       "      <th>mint</th>\n",
       "      <th>precip</th>\n",
       "      <th>sealevelpressure</th>\n",
       "      <th>dew</th>\n",
       "      <th>humidity</th>\n",
       "      <th>wgust</th>\n",
       "      <th>precipcover</th>\n",
       "      <th>windchill</th>\n",
       "      <th>total_flights</th>\n",
       "    </tr>\n",
       "  </thead>\n",
       "  <tbody>\n",
       "    <tr>\n",
       "      <th>0</th>\n",
       "      <td>2098</td>\n",
       "      <td>1755</td>\n",
       "      <td>-2.0</td>\n",
       "      <td>1850</td>\n",
       "      <td>1838.0</td>\n",
       "      <td>-12.0</td>\n",
       "      <td>1044</td>\n",
       "      <td>2019</td>\n",
       "      <td>3</td>\n",
       "      <td>25</td>\n",
       "      <td>...</td>\n",
       "      <td>50.2</td>\n",
       "      <td>-9.0</td>\n",
       "      <td>4.7</td>\n",
       "      <td>1020.2</td>\n",
       "      <td>26.9</td>\n",
       "      <td>77.1</td>\n",
       "      <td>57.5</td>\n",
       "      <td>6.86</td>\n",
       "      <td>-30.4</td>\n",
       "      <td>226679</td>\n",
       "    </tr>\n",
       "    <tr>\n",
       "      <th>1</th>\n",
       "      <td>2238</td>\n",
       "      <td>2000</td>\n",
       "      <td>-5.0</td>\n",
       "      <td>2055</td>\n",
       "      <td>2036.0</td>\n",
       "      <td>-19.0</td>\n",
       "      <td>1044</td>\n",
       "      <td>2019</td>\n",
       "      <td>3</td>\n",
       "      <td>25</td>\n",
       "      <td>...</td>\n",
       "      <td>50.2</td>\n",
       "      <td>-9.0</td>\n",
       "      <td>4.7</td>\n",
       "      <td>1020.2</td>\n",
       "      <td>26.9</td>\n",
       "      <td>77.1</td>\n",
       "      <td>57.5</td>\n",
       "      <td>6.86</td>\n",
       "      <td>-30.4</td>\n",
       "      <td>226679</td>\n",
       "    </tr>\n",
       "    <tr>\n",
       "      <th>2</th>\n",
       "      <td>2451</td>\n",
       "      <td>540</td>\n",
       "      <td>1.0</td>\n",
       "      <td>635</td>\n",
       "      <td>625.0</td>\n",
       "      <td>-10.0</td>\n",
       "      <td>1044</td>\n",
       "      <td>2019</td>\n",
       "      <td>3</td>\n",
       "      <td>25</td>\n",
       "      <td>...</td>\n",
       "      <td>50.2</td>\n",
       "      <td>-9.0</td>\n",
       "      <td>4.7</td>\n",
       "      <td>1020.2</td>\n",
       "      <td>26.9</td>\n",
       "      <td>77.1</td>\n",
       "      <td>57.5</td>\n",
       "      <td>6.86</td>\n",
       "      <td>-30.4</td>\n",
       "      <td>226679</td>\n",
       "    </tr>\n",
       "    <tr>\n",
       "      <th>3</th>\n",
       "      <td>2213</td>\n",
       "      <td>1550</td>\n",
       "      <td>99.0</td>\n",
       "      <td>1905</td>\n",
       "      <td>2039.0</td>\n",
       "      <td>94.0</td>\n",
       "      <td>904</td>\n",
       "      <td>2019</td>\n",
       "      <td>3</td>\n",
       "      <td>25</td>\n",
       "      <td>...</td>\n",
       "      <td>50.2</td>\n",
       "      <td>-9.0</td>\n",
       "      <td>4.7</td>\n",
       "      <td>1020.2</td>\n",
       "      <td>26.9</td>\n",
       "      <td>77.1</td>\n",
       "      <td>57.5</td>\n",
       "      <td>6.86</td>\n",
       "      <td>-30.4</td>\n",
       "      <td>226679</td>\n",
       "    </tr>\n",
       "    <tr>\n",
       "      <th>4</th>\n",
       "      <td>2096</td>\n",
       "      <td>1045</td>\n",
       "      <td>166.0</td>\n",
       "      <td>1430</td>\n",
       "      <td>1702.0</td>\n",
       "      <td>152.0</td>\n",
       "      <td>1155</td>\n",
       "      <td>2019</td>\n",
       "      <td>3</td>\n",
       "      <td>25</td>\n",
       "      <td>...</td>\n",
       "      <td>50.2</td>\n",
       "      <td>-9.0</td>\n",
       "      <td>4.7</td>\n",
       "      <td>1020.2</td>\n",
       "      <td>26.9</td>\n",
       "      <td>77.1</td>\n",
       "      <td>57.5</td>\n",
       "      <td>6.86</td>\n",
       "      <td>-30.4</td>\n",
       "      <td>226679</td>\n",
       "    </tr>\n",
       "    <tr>\n",
       "      <th>...</th>\n",
       "      <td>...</td>\n",
       "      <td>...</td>\n",
       "      <td>...</td>\n",
       "      <td>...</td>\n",
       "      <td>...</td>\n",
       "      <td>...</td>\n",
       "      <td>...</td>\n",
       "      <td>...</td>\n",
       "      <td>...</td>\n",
       "      <td>...</td>\n",
       "      <td>...</td>\n",
       "      <td>...</td>\n",
       "      <td>...</td>\n",
       "      <td>...</td>\n",
       "      <td>...</td>\n",
       "      <td>...</td>\n",
       "      <td>...</td>\n",
       "      <td>...</td>\n",
       "      <td>...</td>\n",
       "      <td>...</td>\n",
       "      <td>...</td>\n",
       "    </tr>\n",
       "    <tr>\n",
       "      <th>15611136</th>\n",
       "      <td>2189</td>\n",
       "      <td>2055</td>\n",
       "      <td>16.0</td>\n",
       "      <td>2245</td>\n",
       "      <td>2242.0</td>\n",
       "      <td>-3.0</td>\n",
       "      <td>689</td>\n",
       "      <td>2019</td>\n",
       "      <td>3</td>\n",
       "      <td>25</td>\n",
       "      <td>...</td>\n",
       "      <td>50.2</td>\n",
       "      <td>-9.0</td>\n",
       "      <td>4.7</td>\n",
       "      <td>1020.2</td>\n",
       "      <td>26.9</td>\n",
       "      <td>77.1</td>\n",
       "      <td>57.5</td>\n",
       "      <td>6.86</td>\n",
       "      <td>-30.4</td>\n",
       "      <td>226679</td>\n",
       "    </tr>\n",
       "    <tr>\n",
       "      <th>15611137</th>\n",
       "      <td>1291</td>\n",
       "      <td>1200</td>\n",
       "      <td>88.0</td>\n",
       "      <td>1355</td>\n",
       "      <td>1534.0</td>\n",
       "      <td>99.0</td>\n",
       "      <td>1489</td>\n",
       "      <td>2019</td>\n",
       "      <td>3</td>\n",
       "      <td>25</td>\n",
       "      <td>...</td>\n",
       "      <td>50.2</td>\n",
       "      <td>-9.0</td>\n",
       "      <td>4.7</td>\n",
       "      <td>1020.2</td>\n",
       "      <td>26.9</td>\n",
       "      <td>77.1</td>\n",
       "      <td>57.5</td>\n",
       "      <td>6.86</td>\n",
       "      <td>-30.4</td>\n",
       "      <td>226679</td>\n",
       "    </tr>\n",
       "    <tr>\n",
       "      <th>15611138</th>\n",
       "      <td>2470</td>\n",
       "      <td>920</td>\n",
       "      <td>-5.0</td>\n",
       "      <td>1110</td>\n",
       "      <td>1052.0</td>\n",
       "      <td>-18.0</td>\n",
       "      <td>1482</td>\n",
       "      <td>2019</td>\n",
       "      <td>3</td>\n",
       "      <td>25</td>\n",
       "      <td>...</td>\n",
       "      <td>50.2</td>\n",
       "      <td>-9.0</td>\n",
       "      <td>4.7</td>\n",
       "      <td>1020.2</td>\n",
       "      <td>26.9</td>\n",
       "      <td>77.1</td>\n",
       "      <td>57.5</td>\n",
       "      <td>6.86</td>\n",
       "      <td>-30.4</td>\n",
       "      <td>226679</td>\n",
       "    </tr>\n",
       "    <tr>\n",
       "      <th>15611139</th>\n",
       "      <td>1651</td>\n",
       "      <td>1125</td>\n",
       "      <td>-2.0</td>\n",
       "      <td>1215</td>\n",
       "      <td>1204.0</td>\n",
       "      <td>-11.0</td>\n",
       "      <td>1044</td>\n",
       "      <td>2019</td>\n",
       "      <td>3</td>\n",
       "      <td>25</td>\n",
       "      <td>...</td>\n",
       "      <td>50.2</td>\n",
       "      <td>-9.0</td>\n",
       "      <td>4.7</td>\n",
       "      <td>1020.2</td>\n",
       "      <td>26.9</td>\n",
       "      <td>77.1</td>\n",
       "      <td>57.5</td>\n",
       "      <td>6.86</td>\n",
       "      <td>-30.4</td>\n",
       "      <td>226679</td>\n",
       "    </tr>\n",
       "    <tr>\n",
       "      <th>15611140</th>\n",
       "      <td>1962</td>\n",
       "      <td>1350</td>\n",
       "      <td>0.0</td>\n",
       "      <td>1445</td>\n",
       "      <td>1434.0</td>\n",
       "      <td>-11.0</td>\n",
       "      <td>1044</td>\n",
       "      <td>2019</td>\n",
       "      <td>3</td>\n",
       "      <td>25</td>\n",
       "      <td>...</td>\n",
       "      <td>50.2</td>\n",
       "      <td>-9.0</td>\n",
       "      <td>4.7</td>\n",
       "      <td>1020.2</td>\n",
       "      <td>26.9</td>\n",
       "      <td>77.1</td>\n",
       "      <td>57.5</td>\n",
       "      <td>6.86</td>\n",
       "      <td>-30.4</td>\n",
       "      <td>226679</td>\n",
       "    </tr>\n",
       "  </tbody>\n",
       "</table>\n",
       "<p>15611141 rows × 28 columns</p>\n",
       "</div>"
      ],
      "text/plain": [
       "          mkt_carrier_fl_num  crs_dep_time  dep_delay  crs_arr_time  arr_time  \\\n",
       "0                       2098          1755       -2.0          1850    1838.0   \n",
       "1                       2238          2000       -5.0          2055    2036.0   \n",
       "2                       2451           540        1.0           635     625.0   \n",
       "3                       2213          1550       99.0          1905    2039.0   \n",
       "4                       2096          1045      166.0          1430    1702.0   \n",
       "...                      ...           ...        ...           ...       ...   \n",
       "15611136                2189          2055       16.0          2245    2242.0   \n",
       "15611137                1291          1200       88.0          1355    1534.0   \n",
       "15611138                2470           920       -5.0          1110    1052.0   \n",
       "15611139                1651          1125       -2.0          1215    1204.0   \n",
       "15611140                1962          1350        0.0          1445    1434.0   \n",
       "\n",
       "          arr_delay  distance  year  month  date  ...  cloudcover  mint  \\\n",
       "0             -12.0      1044  2019      3    25  ...        50.2  -9.0   \n",
       "1             -19.0      1044  2019      3    25  ...        50.2  -9.0   \n",
       "2             -10.0      1044  2019      3    25  ...        50.2  -9.0   \n",
       "3              94.0       904  2019      3    25  ...        50.2  -9.0   \n",
       "4             152.0      1155  2019      3    25  ...        50.2  -9.0   \n",
       "...             ...       ...   ...    ...   ...  ...         ...   ...   \n",
       "15611136       -3.0       689  2019      3    25  ...        50.2  -9.0   \n",
       "15611137       99.0      1489  2019      3    25  ...        50.2  -9.0   \n",
       "15611138      -18.0      1482  2019      3    25  ...        50.2  -9.0   \n",
       "15611139      -11.0      1044  2019      3    25  ...        50.2  -9.0   \n",
       "15611140      -11.0      1044  2019      3    25  ...        50.2  -9.0   \n",
       "\n",
       "          precip  sealevelpressure   dew  humidity  wgust  precipcover  \\\n",
       "0            4.7            1020.2  26.9      77.1   57.5         6.86   \n",
       "1            4.7            1020.2  26.9      77.1   57.5         6.86   \n",
       "2            4.7            1020.2  26.9      77.1   57.5         6.86   \n",
       "3            4.7            1020.2  26.9      77.1   57.5         6.86   \n",
       "4            4.7            1020.2  26.9      77.1   57.5         6.86   \n",
       "...          ...               ...   ...       ...    ...          ...   \n",
       "15611136     4.7            1020.2  26.9      77.1   57.5         6.86   \n",
       "15611137     4.7            1020.2  26.9      77.1   57.5         6.86   \n",
       "15611138     4.7            1020.2  26.9      77.1   57.5         6.86   \n",
       "15611139     4.7            1020.2  26.9      77.1   57.5         6.86   \n",
       "15611140     4.7            1020.2  26.9      77.1   57.5         6.86   \n",
       "\n",
       "          windchill  total_flights  \n",
       "0             -30.4         226679  \n",
       "1             -30.4         226679  \n",
       "2             -30.4         226679  \n",
       "3             -30.4         226679  \n",
       "4             -30.4         226679  \n",
       "...             ...            ...  \n",
       "15611136      -30.4         226679  \n",
       "15611137      -30.4         226679  \n",
       "15611138      -30.4         226679  \n",
       "15611139      -30.4         226679  \n",
       "15611140      -30.4         226679  \n",
       "\n",
       "[15611141 rows x 28 columns]"
      ]
     },
     "execution_count": 37,
     "metadata": {},
     "output_type": "execute_result"
    }
   ],
   "source": [
    "flights_numerical"
   ]
  },
  {
   "cell_type": "markdown",
   "metadata": {},
   "source": [
    "### merging into into model data"
   ]
  },
  {
   "cell_type": "code",
   "execution_count": 39,
   "metadata": {},
   "outputs": [
    {
     "data": {
      "text/html": [
       "<div>\n",
       "<style scoped>\n",
       "    .dataframe tbody tr th:only-of-type {\n",
       "        vertical-align: middle;\n",
       "    }\n",
       "\n",
       "    .dataframe tbody tr th {\n",
       "        vertical-align: top;\n",
       "    }\n",
       "\n",
       "    .dataframe thead th {\n",
       "        text-align: right;\n",
       "    }\n",
       "</style>\n",
       "<table border=\"1\" class=\"dataframe\">\n",
       "  <thead>\n",
       "    <tr style=\"text-align: right;\">\n",
       "      <th></th>\n",
       "      <th>mkt_carrier_fl_num</th>\n",
       "      <th>crs_dep_time</th>\n",
       "      <th>dep_delay</th>\n",
       "      <th>crs_arr_time</th>\n",
       "      <th>arr_time</th>\n",
       "      <th>arr_delay</th>\n",
       "      <th>distance</th>\n",
       "      <th>year</th>\n",
       "      <th>month</th>\n",
       "      <th>date</th>\n",
       "      <th>...</th>\n",
       "      <th>wgust</th>\n",
       "      <th>precipcover</th>\n",
       "      <th>windchill</th>\n",
       "      <th>total_flights</th>\n",
       "      <th>snow_type</th>\n",
       "      <th>mkt_unique_carrier</th>\n",
       "      <th>branded_code_share</th>\n",
       "      <th>tail_num</th>\n",
       "      <th>origin</th>\n",
       "      <th>dest</th>\n",
       "    </tr>\n",
       "  </thead>\n",
       "  <tbody>\n",
       "    <tr>\n",
       "      <th>0</th>\n",
       "      <td>2098</td>\n",
       "      <td>1755</td>\n",
       "      <td>-2.0</td>\n",
       "      <td>1850</td>\n",
       "      <td>1838.0</td>\n",
       "      <td>-12.0</td>\n",
       "      <td>1044</td>\n",
       "      <td>2019</td>\n",
       "      <td>3</td>\n",
       "      <td>25</td>\n",
       "      <td>...</td>\n",
       "      <td>57.5</td>\n",
       "      <td>6.86</td>\n",
       "      <td>-30.4</td>\n",
       "      <td>226679</td>\n",
       "      <td>0.0</td>\n",
       "      <td>WN</td>\n",
       "      <td>WN</td>\n",
       "      <td>N8540V</td>\n",
       "      <td>MCI</td>\n",
       "      <td>PHX</td>\n",
       "    </tr>\n",
       "    <tr>\n",
       "      <th>1</th>\n",
       "      <td>2238</td>\n",
       "      <td>2000</td>\n",
       "      <td>-5.0</td>\n",
       "      <td>2055</td>\n",
       "      <td>2036.0</td>\n",
       "      <td>-19.0</td>\n",
       "      <td>1044</td>\n",
       "      <td>2019</td>\n",
       "      <td>3</td>\n",
       "      <td>25</td>\n",
       "      <td>...</td>\n",
       "      <td>57.5</td>\n",
       "      <td>6.86</td>\n",
       "      <td>-30.4</td>\n",
       "      <td>226679</td>\n",
       "      <td>0.0</td>\n",
       "      <td>WN</td>\n",
       "      <td>WN</td>\n",
       "      <td>N8656B</td>\n",
       "      <td>MCI</td>\n",
       "      <td>PHX</td>\n",
       "    </tr>\n",
       "    <tr>\n",
       "      <th>2</th>\n",
       "      <td>2451</td>\n",
       "      <td>540</td>\n",
       "      <td>1.0</td>\n",
       "      <td>635</td>\n",
       "      <td>625.0</td>\n",
       "      <td>-10.0</td>\n",
       "      <td>1044</td>\n",
       "      <td>2019</td>\n",
       "      <td>3</td>\n",
       "      <td>25</td>\n",
       "      <td>...</td>\n",
       "      <td>57.5</td>\n",
       "      <td>6.86</td>\n",
       "      <td>-30.4</td>\n",
       "      <td>226679</td>\n",
       "      <td>0.0</td>\n",
       "      <td>WN</td>\n",
       "      <td>WN</td>\n",
       "      <td>N8583Z</td>\n",
       "      <td>MCI</td>\n",
       "      <td>PHX</td>\n",
       "    </tr>\n",
       "    <tr>\n",
       "      <th>3</th>\n",
       "      <td>2213</td>\n",
       "      <td>1550</td>\n",
       "      <td>99.0</td>\n",
       "      <td>1905</td>\n",
       "      <td>2039.0</td>\n",
       "      <td>94.0</td>\n",
       "      <td>904</td>\n",
       "      <td>2019</td>\n",
       "      <td>3</td>\n",
       "      <td>25</td>\n",
       "      <td>...</td>\n",
       "      <td>57.5</td>\n",
       "      <td>6.86</td>\n",
       "      <td>-30.4</td>\n",
       "      <td>226679</td>\n",
       "      <td>0.0</td>\n",
       "      <td>WN</td>\n",
       "      <td>WN</td>\n",
       "      <td>N737JW</td>\n",
       "      <td>MCI</td>\n",
       "      <td>RDU</td>\n",
       "    </tr>\n",
       "    <tr>\n",
       "      <th>4</th>\n",
       "      <td>2096</td>\n",
       "      <td>1045</td>\n",
       "      <td>166.0</td>\n",
       "      <td>1430</td>\n",
       "      <td>1702.0</td>\n",
       "      <td>152.0</td>\n",
       "      <td>1155</td>\n",
       "      <td>2019</td>\n",
       "      <td>3</td>\n",
       "      <td>25</td>\n",
       "      <td>...</td>\n",
       "      <td>57.5</td>\n",
       "      <td>6.86</td>\n",
       "      <td>-30.4</td>\n",
       "      <td>226679</td>\n",
       "      <td>0.0</td>\n",
       "      <td>WN</td>\n",
       "      <td>WN</td>\n",
       "      <td>N705SW</td>\n",
       "      <td>MCI</td>\n",
       "      <td>RSW</td>\n",
       "    </tr>\n",
       "    <tr>\n",
       "      <th>...</th>\n",
       "      <td>...</td>\n",
       "      <td>...</td>\n",
       "      <td>...</td>\n",
       "      <td>...</td>\n",
       "      <td>...</td>\n",
       "      <td>...</td>\n",
       "      <td>...</td>\n",
       "      <td>...</td>\n",
       "      <td>...</td>\n",
       "      <td>...</td>\n",
       "      <td>...</td>\n",
       "      <td>...</td>\n",
       "      <td>...</td>\n",
       "      <td>...</td>\n",
       "      <td>...</td>\n",
       "      <td>...</td>\n",
       "      <td>...</td>\n",
       "      <td>...</td>\n",
       "      <td>...</td>\n",
       "      <td>...</td>\n",
       "      <td>...</td>\n",
       "    </tr>\n",
       "    <tr>\n",
       "      <th>15611136</th>\n",
       "      <td>2189</td>\n",
       "      <td>2055</td>\n",
       "      <td>16.0</td>\n",
       "      <td>2245</td>\n",
       "      <td>2242.0</td>\n",
       "      <td>-3.0</td>\n",
       "      <td>689</td>\n",
       "      <td>2019</td>\n",
       "      <td>3</td>\n",
       "      <td>25</td>\n",
       "      <td>...</td>\n",
       "      <td>57.5</td>\n",
       "      <td>6.86</td>\n",
       "      <td>-30.4</td>\n",
       "      <td>226679</td>\n",
       "      <td>0.0</td>\n",
       "      <td>WN</td>\n",
       "      <td>WN</td>\n",
       "      <td>N7702A</td>\n",
       "      <td>MCI</td>\n",
       "      <td>MSY</td>\n",
       "    </tr>\n",
       "    <tr>\n",
       "      <th>15611137</th>\n",
       "      <td>1291</td>\n",
       "      <td>1200</td>\n",
       "      <td>88.0</td>\n",
       "      <td>1355</td>\n",
       "      <td>1534.0</td>\n",
       "      <td>99.0</td>\n",
       "      <td>1489</td>\n",
       "      <td>2019</td>\n",
       "      <td>3</td>\n",
       "      <td>25</td>\n",
       "      <td>...</td>\n",
       "      <td>57.5</td>\n",
       "      <td>6.86</td>\n",
       "      <td>-30.4</td>\n",
       "      <td>226679</td>\n",
       "      <td>0.0</td>\n",
       "      <td>WN</td>\n",
       "      <td>WN</td>\n",
       "      <td>N7878A</td>\n",
       "      <td>MCI</td>\n",
       "      <td>OAK</td>\n",
       "    </tr>\n",
       "    <tr>\n",
       "      <th>15611138</th>\n",
       "      <td>2470</td>\n",
       "      <td>920</td>\n",
       "      <td>-5.0</td>\n",
       "      <td>1110</td>\n",
       "      <td>1052.0</td>\n",
       "      <td>-18.0</td>\n",
       "      <td>1482</td>\n",
       "      <td>2019</td>\n",
       "      <td>3</td>\n",
       "      <td>25</td>\n",
       "      <td>...</td>\n",
       "      <td>57.5</td>\n",
       "      <td>6.86</td>\n",
       "      <td>-30.4</td>\n",
       "      <td>226679</td>\n",
       "      <td>0.0</td>\n",
       "      <td>WN</td>\n",
       "      <td>WN</td>\n",
       "      <td>N760SW</td>\n",
       "      <td>MCI</td>\n",
       "      <td>PDX</td>\n",
       "    </tr>\n",
       "    <tr>\n",
       "      <th>15611139</th>\n",
       "      <td>1651</td>\n",
       "      <td>1125</td>\n",
       "      <td>-2.0</td>\n",
       "      <td>1215</td>\n",
       "      <td>1204.0</td>\n",
       "      <td>-11.0</td>\n",
       "      <td>1044</td>\n",
       "      <td>2019</td>\n",
       "      <td>3</td>\n",
       "      <td>25</td>\n",
       "      <td>...</td>\n",
       "      <td>57.5</td>\n",
       "      <td>6.86</td>\n",
       "      <td>-30.4</td>\n",
       "      <td>226679</td>\n",
       "      <td>0.0</td>\n",
       "      <td>WN</td>\n",
       "      <td>WN</td>\n",
       "      <td>N8542Z</td>\n",
       "      <td>MCI</td>\n",
       "      <td>PHX</td>\n",
       "    </tr>\n",
       "    <tr>\n",
       "      <th>15611140</th>\n",
       "      <td>1962</td>\n",
       "      <td>1350</td>\n",
       "      <td>0.0</td>\n",
       "      <td>1445</td>\n",
       "      <td>1434.0</td>\n",
       "      <td>-11.0</td>\n",
       "      <td>1044</td>\n",
       "      <td>2019</td>\n",
       "      <td>3</td>\n",
       "      <td>25</td>\n",
       "      <td>...</td>\n",
       "      <td>57.5</td>\n",
       "      <td>6.86</td>\n",
       "      <td>-30.4</td>\n",
       "      <td>226679</td>\n",
       "      <td>0.0</td>\n",
       "      <td>WN</td>\n",
       "      <td>WN</td>\n",
       "      <td>N783SW</td>\n",
       "      <td>MCI</td>\n",
       "      <td>PHX</td>\n",
       "    </tr>\n",
       "  </tbody>\n",
       "</table>\n",
       "<p>15611141 rows × 34 columns</p>\n",
       "</div>"
      ],
      "text/plain": [
       "          mkt_carrier_fl_num  crs_dep_time  dep_delay  crs_arr_time  arr_time  \\\n",
       "0                       2098          1755       -2.0          1850    1838.0   \n",
       "1                       2238          2000       -5.0          2055    2036.0   \n",
       "2                       2451           540        1.0           635     625.0   \n",
       "3                       2213          1550       99.0          1905    2039.0   \n",
       "4                       2096          1045      166.0          1430    1702.0   \n",
       "...                      ...           ...        ...           ...       ...   \n",
       "15611136                2189          2055       16.0          2245    2242.0   \n",
       "15611137                1291          1200       88.0          1355    1534.0   \n",
       "15611138                2470           920       -5.0          1110    1052.0   \n",
       "15611139                1651          1125       -2.0          1215    1204.0   \n",
       "15611140                1962          1350        0.0          1445    1434.0   \n",
       "\n",
       "          arr_delay  distance  year  month  date  ...  wgust  precipcover  \\\n",
       "0             -12.0      1044  2019      3    25  ...   57.5         6.86   \n",
       "1             -19.0      1044  2019      3    25  ...   57.5         6.86   \n",
       "2             -10.0      1044  2019      3    25  ...   57.5         6.86   \n",
       "3              94.0       904  2019      3    25  ...   57.5         6.86   \n",
       "4             152.0      1155  2019      3    25  ...   57.5         6.86   \n",
       "...             ...       ...   ...    ...   ...  ...    ...          ...   \n",
       "15611136       -3.0       689  2019      3    25  ...   57.5         6.86   \n",
       "15611137       99.0      1489  2019      3    25  ...   57.5         6.86   \n",
       "15611138      -18.0      1482  2019      3    25  ...   57.5         6.86   \n",
       "15611139      -11.0      1044  2019      3    25  ...   57.5         6.86   \n",
       "15611140      -11.0      1044  2019      3    25  ...   57.5         6.86   \n",
       "\n",
       "          windchill  total_flights  snow_type  mkt_unique_carrier  \\\n",
       "0             -30.4         226679        0.0                  WN   \n",
       "1             -30.4         226679        0.0                  WN   \n",
       "2             -30.4         226679        0.0                  WN   \n",
       "3             -30.4         226679        0.0                  WN   \n",
       "4             -30.4         226679        0.0                  WN   \n",
       "...             ...            ...        ...                 ...   \n",
       "15611136      -30.4         226679        0.0                  WN   \n",
       "15611137      -30.4         226679        0.0                  WN   \n",
       "15611138      -30.4         226679        0.0                  WN   \n",
       "15611139      -30.4         226679        0.0                  WN   \n",
       "15611140      -30.4         226679        0.0                  WN   \n",
       "\n",
       "          branded_code_share  tail_num  origin  dest  \n",
       "0                         WN    N8540V     MCI   PHX  \n",
       "1                         WN    N8656B     MCI   PHX  \n",
       "2                         WN    N8583Z     MCI   PHX  \n",
       "3                         WN    N737JW     MCI   RDU  \n",
       "4                         WN    N705SW     MCI   RSW  \n",
       "...                      ...       ...     ...   ...  \n",
       "15611136                  WN    N7702A     MCI   MSY  \n",
       "15611137                  WN    N7878A     MCI   OAK  \n",
       "15611138                  WN    N760SW     MCI   PDX  \n",
       "15611139                  WN    N8542Z     MCI   PHX  \n",
       "15611140                  WN    N783SW     MCI   PHX  \n",
       "\n",
       "[15611141 rows x 34 columns]"
      ]
     },
     "execution_count": 39,
     "metadata": {},
     "output_type": "execute_result"
    }
   ],
   "source": [
    "flights_final = pd.concat([flights_numerical, flights_categorical], axis=1)\n",
    "flights_final.reset_index(drop=True)"
   ]
  },
  {
   "cell_type": "code",
   "execution_count": 3,
   "metadata": {},
   "outputs": [],
   "source": [
    "flights_final = pd.read_csv(data_path + 'model_weather_traffic.csv', header = 0, low_memory=False)"
   ]
  },
  {
   "cell_type": "code",
   "execution_count": 5,
   "metadata": {},
   "outputs": [],
   "source": [
    "flights_final.drop('Unnamed: 0', axis =1, inplace =True)"
   ]
  },
  {
   "cell_type": "markdown",
   "metadata": {},
   "source": [
    "### mean_tail_num_delay"
   ]
  },
  {
   "cell_type": "code",
   "execution_count": 6,
   "metadata": {},
   "outputs": [],
   "source": [
    "flights_FE = copy.deepcopy(flights_final)\n",
    "flights_FE = flights_FE[(flights_FE['dep_delay']>0) | (flights_FE['arr_delay']>0)]"
   ]
  },
  {
   "cell_type": "code",
   "execution_count": 7,
   "metadata": {},
   "outputs": [
    {
     "data": {
      "text/html": [
       "<div>\n",
       "<style scoped>\n",
       "    .dataframe tbody tr th:only-of-type {\n",
       "        vertical-align: middle;\n",
       "    }\n",
       "\n",
       "    .dataframe tbody tr th {\n",
       "        vertical-align: top;\n",
       "    }\n",
       "\n",
       "    .dataframe thead th {\n",
       "        text-align: right;\n",
       "    }\n",
       "</style>\n",
       "<table border=\"1\" class=\"dataframe\">\n",
       "  <thead>\n",
       "    <tr style=\"text-align: right;\">\n",
       "      <th></th>\n",
       "      <th>tail_num</th>\n",
       "      <th>mean_tail_num_arr_delay</th>\n",
       "      <th>mean_tail_num_dep_delay</th>\n",
       "    </tr>\n",
       "  </thead>\n",
       "  <tbody>\n",
       "    <tr>\n",
       "      <th>0</th>\n",
       "      <td>215NV</td>\n",
       "      <td>33.043988</td>\n",
       "      <td>31.904203</td>\n",
       "    </tr>\n",
       "    <tr>\n",
       "      <th>1</th>\n",
       "      <td>216NV</td>\n",
       "      <td>36.282759</td>\n",
       "      <td>33.558621</td>\n",
       "    </tr>\n",
       "    <tr>\n",
       "      <th>2</th>\n",
       "      <td>217NV</td>\n",
       "      <td>43.742410</td>\n",
       "      <td>41.177553</td>\n",
       "    </tr>\n",
       "    <tr>\n",
       "      <th>3</th>\n",
       "      <td>218NV</td>\n",
       "      <td>38.836638</td>\n",
       "      <td>36.399433</td>\n",
       "    </tr>\n",
       "    <tr>\n",
       "      <th>4</th>\n",
       "      <td>219NV</td>\n",
       "      <td>39.116352</td>\n",
       "      <td>37.131027</td>\n",
       "    </tr>\n",
       "    <tr>\n",
       "      <th>...</th>\n",
       "      <td>...</td>\n",
       "      <td>...</td>\n",
       "      <td>...</td>\n",
       "    </tr>\n",
       "    <tr>\n",
       "      <th>6473</th>\n",
       "      <td>N999DN</td>\n",
       "      <td>23.850977</td>\n",
       "      <td>25.293160</td>\n",
       "    </tr>\n",
       "    <tr>\n",
       "      <th>6474</th>\n",
       "      <td>N999FR</td>\n",
       "      <td>25.375000</td>\n",
       "      <td>18.750000</td>\n",
       "    </tr>\n",
       "    <tr>\n",
       "      <th>6475</th>\n",
       "      <td>N999JB</td>\n",
       "      <td>21.244186</td>\n",
       "      <td>22.813953</td>\n",
       "    </tr>\n",
       "    <tr>\n",
       "      <th>6476</th>\n",
       "      <td>N999JQ</td>\n",
       "      <td>41.288714</td>\n",
       "      <td>45.611549</td>\n",
       "    </tr>\n",
       "    <tr>\n",
       "      <th>6477</th>\n",
       "      <td>SS25</td>\n",
       "      <td>19.666667</td>\n",
       "      <td>14.333333</td>\n",
       "    </tr>\n",
       "  </tbody>\n",
       "</table>\n",
       "<p>6478 rows × 3 columns</p>\n",
       "</div>"
      ],
      "text/plain": [
       "     tail_num  mean_tail_num_arr_delay  mean_tail_num_dep_delay\n",
       "0       215NV                33.043988                31.904203\n",
       "1       216NV                36.282759                33.558621\n",
       "2       217NV                43.742410                41.177553\n",
       "3       218NV                38.836638                36.399433\n",
       "4       219NV                39.116352                37.131027\n",
       "...       ...                      ...                      ...\n",
       "6473   N999DN                23.850977                25.293160\n",
       "6474   N999FR                25.375000                18.750000\n",
       "6475   N999JB                21.244186                22.813953\n",
       "6476   N999JQ                41.288714                45.611549\n",
       "6477     SS25                19.666667                14.333333\n",
       "\n",
       "[6478 rows x 3 columns]"
      ]
     },
     "execution_count": 7,
     "metadata": {},
     "output_type": "execute_result"
    }
   ],
   "source": [
    "delay_df = flights_FE.groupby('tail_num').mean()[['arr_delay','dep_delay']]\n",
    "delay_df.reset_index(inplace=True)\n",
    "delay_df.columns = ['tail_num','mean_tail_num_arr_delay','mean_tail_num_dep_delay']\n",
    "delay_df"
   ]
  },
  {
   "cell_type": "code",
   "execution_count": 8,
   "metadata": {},
   "outputs": [],
   "source": [
    "flights_final = flights_final.merge(delay_df, on=['tail_num'], how='left')"
   ]
  },
  {
   "cell_type": "markdown",
   "metadata": {},
   "source": [
    "### mean_carrier_delay"
   ]
  },
  {
   "cell_type": "code",
   "execution_count": 9,
   "metadata": {},
   "outputs": [
    {
     "data": {
      "text/html": [
       "<div>\n",
       "<style scoped>\n",
       "    .dataframe tbody tr th:only-of-type {\n",
       "        vertical-align: middle;\n",
       "    }\n",
       "\n",
       "    .dataframe tbody tr th {\n",
       "        vertical-align: top;\n",
       "    }\n",
       "\n",
       "    .dataframe thead th {\n",
       "        text-align: right;\n",
       "    }\n",
       "</style>\n",
       "<table border=\"1\" class=\"dataframe\">\n",
       "  <thead>\n",
       "    <tr style=\"text-align: right;\">\n",
       "      <th></th>\n",
       "      <th>mkt_unique_carrier</th>\n",
       "      <th>mean_carrier_arr_delay</th>\n",
       "      <th>mean_carrier__dep_delay</th>\n",
       "    </tr>\n",
       "  </thead>\n",
       "  <tbody>\n",
       "    <tr>\n",
       "      <th>0</th>\n",
       "      <td>AA</td>\n",
       "      <td>31.420120</td>\n",
       "      <td>29.823116</td>\n",
       "    </tr>\n",
       "    <tr>\n",
       "      <th>1</th>\n",
       "      <td>AS</td>\n",
       "      <td>21.034051</td>\n",
       "      <td>18.238872</td>\n",
       "    </tr>\n",
       "    <tr>\n",
       "      <th>2</th>\n",
       "      <td>B6</td>\n",
       "      <td>40.321600</td>\n",
       "      <td>41.194944</td>\n",
       "    </tr>\n",
       "    <tr>\n",
       "      <th>3</th>\n",
       "      <td>DL</td>\n",
       "      <td>30.814713</td>\n",
       "      <td>31.867638</td>\n",
       "    </tr>\n",
       "    <tr>\n",
       "      <th>4</th>\n",
       "      <td>F9</td>\n",
       "      <td>37.903671</td>\n",
       "      <td>39.483474</td>\n",
       "    </tr>\n",
       "    <tr>\n",
       "      <th>5</th>\n",
       "      <td>G4</td>\n",
       "      <td>37.406556</td>\n",
       "      <td>35.583511</td>\n",
       "    </tr>\n",
       "    <tr>\n",
       "      <th>6</th>\n",
       "      <td>HA</td>\n",
       "      <td>15.450311</td>\n",
       "      <td>12.976746</td>\n",
       "    </tr>\n",
       "    <tr>\n",
       "      <th>7</th>\n",
       "      <td>NK</td>\n",
       "      <td>33.288398</td>\n",
       "      <td>33.350894</td>\n",
       "    </tr>\n",
       "    <tr>\n",
       "      <th>8</th>\n",
       "      <td>UA</td>\n",
       "      <td>41.523520</td>\n",
       "      <td>38.614889</td>\n",
       "    </tr>\n",
       "    <tr>\n",
       "      <th>9</th>\n",
       "      <td>VX</td>\n",
       "      <td>24.528221</td>\n",
       "      <td>22.637083</td>\n",
       "    </tr>\n",
       "    <tr>\n",
       "      <th>10</th>\n",
       "      <td>WN</td>\n",
       "      <td>17.308595</td>\n",
       "      <td>22.411967</td>\n",
       "    </tr>\n",
       "  </tbody>\n",
       "</table>\n",
       "</div>"
      ],
      "text/plain": [
       "   mkt_unique_carrier  mean_carrier_arr_delay  mean_carrier__dep_delay\n",
       "0                  AA               31.420120                29.823116\n",
       "1                  AS               21.034051                18.238872\n",
       "2                  B6               40.321600                41.194944\n",
       "3                  DL               30.814713                31.867638\n",
       "4                  F9               37.903671                39.483474\n",
       "5                  G4               37.406556                35.583511\n",
       "6                  HA               15.450311                12.976746\n",
       "7                  NK               33.288398                33.350894\n",
       "8                  UA               41.523520                38.614889\n",
       "9                  VX               24.528221                22.637083\n",
       "10                 WN               17.308595                22.411967"
      ]
     },
     "execution_count": 9,
     "metadata": {},
     "output_type": "execute_result"
    }
   ],
   "source": [
    "carrier_delay = flights_FE.groupby('mkt_unique_carrier').mean()[['arr_delay','dep_delay']]\n",
    "carrier_delay.reset_index(inplace=True)\n",
    "carrier_delay.columns = ['mkt_unique_carrier','mean_carrier_arr_delay','mean_carrier__dep_delay']\n",
    "carrier_delay"
   ]
  },
  {
   "cell_type": "code",
   "execution_count": 10,
   "metadata": {},
   "outputs": [],
   "source": [
    "flights_final = flights_final.merge(carrier_delay, on=['mkt_unique_carrier'], how='left')"
   ]
  },
  {
   "cell_type": "code",
   "execution_count": 11,
   "metadata": {},
   "outputs": [
    {
     "data": {
      "text/html": [
       "<div>\n",
       "<style scoped>\n",
       "    .dataframe tbody tr th:only-of-type {\n",
       "        vertical-align: middle;\n",
       "    }\n",
       "\n",
       "    .dataframe tbody tr th {\n",
       "        vertical-align: top;\n",
       "    }\n",
       "\n",
       "    .dataframe thead th {\n",
       "        text-align: right;\n",
       "    }\n",
       "</style>\n",
       "<table border=\"1\" class=\"dataframe\">\n",
       "  <thead>\n",
       "    <tr style=\"text-align: right;\">\n",
       "      <th></th>\n",
       "      <th>mkt_carrier_fl_num</th>\n",
       "      <th>crs_dep_time</th>\n",
       "      <th>dep_delay</th>\n",
       "      <th>crs_arr_time</th>\n",
       "      <th>arr_time</th>\n",
       "      <th>arr_delay</th>\n",
       "      <th>distance</th>\n",
       "      <th>year</th>\n",
       "      <th>month</th>\n",
       "      <th>date</th>\n",
       "      <th>...</th>\n",
       "      <th>snow_type</th>\n",
       "      <th>mkt_unique_carrier</th>\n",
       "      <th>branded_code_share</th>\n",
       "      <th>tail_num</th>\n",
       "      <th>origin</th>\n",
       "      <th>dest</th>\n",
       "      <th>mean_tail_num_arr_delay</th>\n",
       "      <th>mean_tail_num_dep_delay</th>\n",
       "      <th>mean_carrier_arr_delay</th>\n",
       "      <th>mean_carrier__dep_delay</th>\n",
       "    </tr>\n",
       "  </thead>\n",
       "  <tbody>\n",
       "    <tr>\n",
       "      <th>0</th>\n",
       "      <td>2098</td>\n",
       "      <td>1755</td>\n",
       "      <td>-2.0</td>\n",
       "      <td>1850</td>\n",
       "      <td>1838.0</td>\n",
       "      <td>-12.0</td>\n",
       "      <td>1044</td>\n",
       "      <td>2019</td>\n",
       "      <td>3</td>\n",
       "      <td>25</td>\n",
       "      <td>...</td>\n",
       "      <td>0.0</td>\n",
       "      <td>WN</td>\n",
       "      <td>WN</td>\n",
       "      <td>N8540V</td>\n",
       "      <td>MCI</td>\n",
       "      <td>PHX</td>\n",
       "      <td>12.627563</td>\n",
       "      <td>18.052392</td>\n",
       "      <td>17.308595</td>\n",
       "      <td>22.411967</td>\n",
       "    </tr>\n",
       "    <tr>\n",
       "      <th>1</th>\n",
       "      <td>2238</td>\n",
       "      <td>2000</td>\n",
       "      <td>-5.0</td>\n",
       "      <td>2055</td>\n",
       "      <td>2036.0</td>\n",
       "      <td>-19.0</td>\n",
       "      <td>1044</td>\n",
       "      <td>2019</td>\n",
       "      <td>3</td>\n",
       "      <td>25</td>\n",
       "      <td>...</td>\n",
       "      <td>0.0</td>\n",
       "      <td>WN</td>\n",
       "      <td>WN</td>\n",
       "      <td>N8656B</td>\n",
       "      <td>MCI</td>\n",
       "      <td>PHX</td>\n",
       "      <td>14.087955</td>\n",
       "      <td>20.485714</td>\n",
       "      <td>17.308595</td>\n",
       "      <td>22.411967</td>\n",
       "    </tr>\n",
       "    <tr>\n",
       "      <th>2</th>\n",
       "      <td>2451</td>\n",
       "      <td>540</td>\n",
       "      <td>1.0</td>\n",
       "      <td>635</td>\n",
       "      <td>625.0</td>\n",
       "      <td>-10.0</td>\n",
       "      <td>1044</td>\n",
       "      <td>2019</td>\n",
       "      <td>3</td>\n",
       "      <td>25</td>\n",
       "      <td>...</td>\n",
       "      <td>0.0</td>\n",
       "      <td>WN</td>\n",
       "      <td>WN</td>\n",
       "      <td>N8583Z</td>\n",
       "      <td>MCI</td>\n",
       "      <td>PHX</td>\n",
       "      <td>12.455556</td>\n",
       "      <td>18.637037</td>\n",
       "      <td>17.308595</td>\n",
       "      <td>22.411967</td>\n",
       "    </tr>\n",
       "    <tr>\n",
       "      <th>3</th>\n",
       "      <td>2213</td>\n",
       "      <td>1550</td>\n",
       "      <td>99.0</td>\n",
       "      <td>1905</td>\n",
       "      <td>2039.0</td>\n",
       "      <td>94.0</td>\n",
       "      <td>904</td>\n",
       "      <td>2019</td>\n",
       "      <td>3</td>\n",
       "      <td>25</td>\n",
       "      <td>...</td>\n",
       "      <td>0.0</td>\n",
       "      <td>WN</td>\n",
       "      <td>WN</td>\n",
       "      <td>N737JW</td>\n",
       "      <td>MCI</td>\n",
       "      <td>RDU</td>\n",
       "      <td>17.657185</td>\n",
       "      <td>22.203531</td>\n",
       "      <td>17.308595</td>\n",
       "      <td>22.411967</td>\n",
       "    </tr>\n",
       "    <tr>\n",
       "      <th>4</th>\n",
       "      <td>2096</td>\n",
       "      <td>1045</td>\n",
       "      <td>166.0</td>\n",
       "      <td>1430</td>\n",
       "      <td>1702.0</td>\n",
       "      <td>152.0</td>\n",
       "      <td>1155</td>\n",
       "      <td>2019</td>\n",
       "      <td>3</td>\n",
       "      <td>25</td>\n",
       "      <td>...</td>\n",
       "      <td>0.0</td>\n",
       "      <td>WN</td>\n",
       "      <td>WN</td>\n",
       "      <td>N705SW</td>\n",
       "      <td>MCI</td>\n",
       "      <td>RSW</td>\n",
       "      <td>19.461314</td>\n",
       "      <td>24.219465</td>\n",
       "      <td>17.308595</td>\n",
       "      <td>22.411967</td>\n",
       "    </tr>\n",
       "  </tbody>\n",
       "</table>\n",
       "<p>5 rows × 38 columns</p>\n",
       "</div>"
      ],
      "text/plain": [
       "   mkt_carrier_fl_num  crs_dep_time  dep_delay  crs_arr_time  arr_time  \\\n",
       "0                2098          1755       -2.0          1850    1838.0   \n",
       "1                2238          2000       -5.0          2055    2036.0   \n",
       "2                2451           540        1.0           635     625.0   \n",
       "3                2213          1550       99.0          1905    2039.0   \n",
       "4                2096          1045      166.0          1430    1702.0   \n",
       "\n",
       "   arr_delay  distance  year  month  date  ...  snow_type  mkt_unique_carrier  \\\n",
       "0      -12.0      1044  2019      3    25  ...        0.0                  WN   \n",
       "1      -19.0      1044  2019      3    25  ...        0.0                  WN   \n",
       "2      -10.0      1044  2019      3    25  ...        0.0                  WN   \n",
       "3       94.0       904  2019      3    25  ...        0.0                  WN   \n",
       "4      152.0      1155  2019      3    25  ...        0.0                  WN   \n",
       "\n",
       "   branded_code_share  tail_num  origin  dest  mean_tail_num_arr_delay  \\\n",
       "0                  WN    N8540V     MCI   PHX                12.627563   \n",
       "1                  WN    N8656B     MCI   PHX                14.087955   \n",
       "2                  WN    N8583Z     MCI   PHX                12.455556   \n",
       "3                  WN    N737JW     MCI   RDU                17.657185   \n",
       "4                  WN    N705SW     MCI   RSW                19.461314   \n",
       "\n",
       "   mean_tail_num_dep_delay  mean_carrier_arr_delay  mean_carrier__dep_delay  \n",
       "0                18.052392               17.308595                22.411967  \n",
       "1                20.485714               17.308595                22.411967  \n",
       "2                18.637037               17.308595                22.411967  \n",
       "3                22.203531               17.308595                22.411967  \n",
       "4                24.219465               17.308595                22.411967  \n",
       "\n",
       "[5 rows x 38 columns]"
      ]
     },
     "execution_count": 11,
     "metadata": {},
     "output_type": "execute_result"
    }
   ],
   "source": [
    "flights_final.head()"
   ]
  },
  {
   "cell_type": "code",
   "execution_count": 12,
   "metadata": {},
   "outputs": [],
   "source": [
    "#flights_final.to_csv('/mnt/d/lighthouse/Midterm_data/model_weather_traffic.csv')"
   ]
  },
  {
   "cell_type": "markdown",
   "metadata": {},
   "source": [
    "# Model"
   ]
  },
  {
   "cell_type": "code",
   "execution_count": 4,
   "metadata": {},
   "outputs": [],
   "source": [
    "flights_final = pd.read_csv(data_path + 'model_weather_traffic.csv', header = 0)\n",
    "flights_final.drop('Unnamed: 0', axis = 1, inplace = True)"
   ]
  },
  {
   "cell_type": "code",
   "execution_count": 11,
   "metadata": {},
   "outputs": [
    {
     "data": {
      "text/html": [
       "<div>\n",
       "<style scoped>\n",
       "    .dataframe tbody tr th:only-of-type {\n",
       "        vertical-align: middle;\n",
       "    }\n",
       "\n",
       "    .dataframe tbody tr th {\n",
       "        vertical-align: top;\n",
       "    }\n",
       "\n",
       "    .dataframe thead th {\n",
       "        text-align: right;\n",
       "    }\n",
       "</style>\n",
       "<table border=\"1\" class=\"dataframe\">\n",
       "  <thead>\n",
       "    <tr style=\"text-align: right;\">\n",
       "      <th></th>\n",
       "      <th>mkt_carrier_fl_num</th>\n",
       "      <th>dep_delay</th>\n",
       "      <th>arr_time</th>\n",
       "      <th>arr_delay</th>\n",
       "      <th>distance</th>\n",
       "      <th>year</th>\n",
       "      <th>month</th>\n",
       "      <th>date</th>\n",
       "      <th>latitude</th>\n",
       "      <th>longitude</th>\n",
       "      <th>...</th>\n",
       "      <th>branded_code_share</th>\n",
       "      <th>tail_num</th>\n",
       "      <th>origin</th>\n",
       "      <th>dest</th>\n",
       "      <th>mean_tail_num_arr_delay</th>\n",
       "      <th>mean_tail_num_dep_delay</th>\n",
       "      <th>mean_carrier_arr_delay</th>\n",
       "      <th>mean_carrier__dep_delay</th>\n",
       "      <th>arr_hour</th>\n",
       "      <th>dep_hour</th>\n",
       "    </tr>\n",
       "  </thead>\n",
       "  <tbody>\n",
       "    <tr>\n",
       "      <th>0</th>\n",
       "      <td>2098</td>\n",
       "      <td>-2.0</td>\n",
       "      <td>1838.0</td>\n",
       "      <td>-12.0</td>\n",
       "      <td>1044</td>\n",
       "      <td>2019</td>\n",
       "      <td>3</td>\n",
       "      <td>25</td>\n",
       "      <td>39.29761</td>\n",
       "      <td>-94.71391</td>\n",
       "      <td>...</td>\n",
       "      <td>0</td>\n",
       "      <td>N8540V</td>\n",
       "      <td>0</td>\n",
       "      <td>0</td>\n",
       "      <td>12.627563</td>\n",
       "      <td>18.052392</td>\n",
       "      <td>17.308595</td>\n",
       "      <td>22.411967</td>\n",
       "      <td>18</td>\n",
       "      <td>17</td>\n",
       "    </tr>\n",
       "    <tr>\n",
       "      <th>1</th>\n",
       "      <td>2238</td>\n",
       "      <td>-5.0</td>\n",
       "      <td>2036.0</td>\n",
       "      <td>-19.0</td>\n",
       "      <td>1044</td>\n",
       "      <td>2019</td>\n",
       "      <td>3</td>\n",
       "      <td>25</td>\n",
       "      <td>39.29761</td>\n",
       "      <td>-94.71391</td>\n",
       "      <td>...</td>\n",
       "      <td>0</td>\n",
       "      <td>N8656B</td>\n",
       "      <td>0</td>\n",
       "      <td>0</td>\n",
       "      <td>14.087955</td>\n",
       "      <td>20.485714</td>\n",
       "      <td>17.308595</td>\n",
       "      <td>22.411967</td>\n",
       "      <td>20</td>\n",
       "      <td>20</td>\n",
       "    </tr>\n",
       "    <tr>\n",
       "      <th>2</th>\n",
       "      <td>2451</td>\n",
       "      <td>1.0</td>\n",
       "      <td>625.0</td>\n",
       "      <td>-10.0</td>\n",
       "      <td>1044</td>\n",
       "      <td>2019</td>\n",
       "      <td>3</td>\n",
       "      <td>25</td>\n",
       "      <td>39.29761</td>\n",
       "      <td>-94.71391</td>\n",
       "      <td>...</td>\n",
       "      <td>0</td>\n",
       "      <td>N8583Z</td>\n",
       "      <td>0</td>\n",
       "      <td>0</td>\n",
       "      <td>12.455556</td>\n",
       "      <td>18.637037</td>\n",
       "      <td>17.308595</td>\n",
       "      <td>22.411967</td>\n",
       "      <td>06</td>\n",
       "      <td>05</td>\n",
       "    </tr>\n",
       "    <tr>\n",
       "      <th>3</th>\n",
       "      <td>2213</td>\n",
       "      <td>99.0</td>\n",
       "      <td>2039.0</td>\n",
       "      <td>94.0</td>\n",
       "      <td>904</td>\n",
       "      <td>2019</td>\n",
       "      <td>3</td>\n",
       "      <td>25</td>\n",
       "      <td>39.29761</td>\n",
       "      <td>-94.71391</td>\n",
       "      <td>...</td>\n",
       "      <td>0</td>\n",
       "      <td>N737JW</td>\n",
       "      <td>0</td>\n",
       "      <td>1</td>\n",
       "      <td>17.657185</td>\n",
       "      <td>22.203531</td>\n",
       "      <td>17.308595</td>\n",
       "      <td>22.411967</td>\n",
       "      <td>19</td>\n",
       "      <td>15</td>\n",
       "    </tr>\n",
       "    <tr>\n",
       "      <th>4</th>\n",
       "      <td>2096</td>\n",
       "      <td>166.0</td>\n",
       "      <td>1702.0</td>\n",
       "      <td>152.0</td>\n",
       "      <td>1155</td>\n",
       "      <td>2019</td>\n",
       "      <td>3</td>\n",
       "      <td>25</td>\n",
       "      <td>39.29761</td>\n",
       "      <td>-94.71391</td>\n",
       "      <td>...</td>\n",
       "      <td>0</td>\n",
       "      <td>N705SW</td>\n",
       "      <td>0</td>\n",
       "      <td>2</td>\n",
       "      <td>19.461314</td>\n",
       "      <td>24.219465</td>\n",
       "      <td>17.308595</td>\n",
       "      <td>22.411967</td>\n",
       "      <td>14</td>\n",
       "      <td>10</td>\n",
       "    </tr>\n",
       "  </tbody>\n",
       "</table>\n",
       "<p>5 rows × 38 columns</p>\n",
       "</div>"
      ],
      "text/plain": [
       "   mkt_carrier_fl_num  dep_delay  arr_time  arr_delay  distance  year  month  \\\n",
       "0                2098       -2.0    1838.0      -12.0      1044  2019      3   \n",
       "1                2238       -5.0    2036.0      -19.0      1044  2019      3   \n",
       "2                2451        1.0     625.0      -10.0      1044  2019      3   \n",
       "3                2213       99.0    2039.0       94.0       904  2019      3   \n",
       "4                2096      166.0    1702.0      152.0      1155  2019      3   \n",
       "\n",
       "   date  latitude  longitude  ...  branded_code_share  tail_num  origin  dest  \\\n",
       "0    25  39.29761  -94.71391  ...                   0    N8540V       0     0   \n",
       "1    25  39.29761  -94.71391  ...                   0    N8656B       0     0   \n",
       "2    25  39.29761  -94.71391  ...                   0    N8583Z       0     0   \n",
       "3    25  39.29761  -94.71391  ...                   0    N737JW       0     1   \n",
       "4    25  39.29761  -94.71391  ...                   0    N705SW       0     2   \n",
       "\n",
       "   mean_tail_num_arr_delay  mean_tail_num_dep_delay  mean_carrier_arr_delay  \\\n",
       "0                12.627563                18.052392               17.308595   \n",
       "1                14.087955                20.485714               17.308595   \n",
       "2                12.455556                18.637037               17.308595   \n",
       "3                17.657185                22.203531               17.308595   \n",
       "4                19.461314                24.219465               17.308595   \n",
       "\n",
       "   mean_carrier__dep_delay  arr_hour  dep_hour  \n",
       "0                22.411967        18        17  \n",
       "1                22.411967        20        20  \n",
       "2                22.411967        06        05  \n",
       "3                22.411967        19        15  \n",
       "4                22.411967        14        10  \n",
       "\n",
       "[5 rows x 38 columns]"
      ]
     },
     "execution_count": 11,
     "metadata": {},
     "output_type": "execute_result"
    }
   ],
   "source": [
    "flights_final.head()"
   ]
  },
  {
   "cell_type": "markdown",
   "metadata": {},
   "source": [
    "### stripping hour from scheduled dep/arr"
   ]
  },
  {
   "cell_type": "code",
   "execution_count": 7,
   "metadata": {},
   "outputs": [],
   "source": [
    "flights_final['arr_hour'] = int((((flights_final['crs_arr_time'].astype(int)).astype(str)).str.rjust(4,'0')).str[:2])\n",
    "flights_final['dep_hour'] = int((((flights_final['crs_dep_time'].astype(int)).astype(str)).str.rjust(4,'0')).str[:2])"
   ]
  },
  {
   "cell_type": "code",
   "execution_count": 8,
   "metadata": {},
   "outputs": [],
   "source": [
    "flights_final.drop(['crs_dep_time', 'crs_arr_time'], axis = 1, inplace = True)"
   ]
  },
  {
   "cell_type": "markdown",
   "metadata": {},
   "source": [
    "### Correlation"
   ]
  },
  {
   "cell_type": "code",
   "execution_count": 9,
   "metadata": {},
   "outputs": [
    {
     "data": {
      "text/plain": [
       "[('dep_delay', 'arr_delay'),\n",
       " ('temp', 'maxt'),\n",
       " ('temp', 'mint'),\n",
       " ('temp', 'dew'),\n",
       " ('maxt', 'mint'),\n",
       " ('maxt', 'dew'),\n",
       " ('mint', 'dew'),\n",
       " ('mean_tail_num_arr_delay', 'mean_tail_num_dep_delay'),\n",
       " ('mean_carrier_arr_delay', 'mean_carrier__dep_delay')]"
      ]
     },
     "execution_count": 9,
     "metadata": {},
     "output_type": "execute_result"
    }
   ],
   "source": [
    "df_corr = flights_final.corr().abs()\n",
    "indices = np.where(df_corr > 0.8) \n",
    "indices = [(df_corr.index[x], df_corr.columns[y]) for x, y in zip(*indices) if x != y and x < y]\n",
    "indices"
   ]
  },
  {
   "cell_type": "code",
   "execution_count": 10,
   "metadata": {},
   "outputs": [],
   "source": [
    "flights_final['branded_code_share'] = pd.factorize(flights_final['branded_code_share'])[0]\n",
    "flights_final['origin'] = pd.factorize(flights_final['origin'])[0]\n",
    "flights_final['dest'] = pd.factorize(flights_final['dest'])[0]"
   ]
  },
  {
   "cell_type": "markdown",
   "metadata": {},
   "source": [
    "### Scaling"
   ]
  },
  {
   "cell_type": "code",
   "execution_count": 27,
   "metadata": {},
   "outputs": [],
   "source": [
    "numericals = ['arr_delay','distance','wdir','temp','visibility','wspd','heatindex','cloudcover','precip','sealevelpressure','humidity','wgust','precipcover','windchill','total_flights','snow_type','mean_tail_num_arr_delay','mean_carrier_arr_delay']\n",
    "#numericals_with_time = ['arr_delay','distance','wdir','temp','visibility','wspd','heatindex','cloudcover','precip','sealevelpressure','humidity','wgust','precipcover','windchill','total_flights','snow_type','mean_tail_num_arr_delay','mean_carrier_arr_delay','crs_dep_time','crs_arr_time']"
   ]
  },
  {
   "cell_type": "code",
   "execution_count": 28,
   "metadata": {},
   "outputs": [],
   "source": [
    "num_scaled = StandardScaler().fit_transform(flights_final[numericals])"
   ]
  },
  {
   "cell_type": "code",
   "execution_count": 61,
   "metadata": {},
   "outputs": [
    {
     "data": {
      "text/plain": [
       "array([[-0.35042474,  0.46580485,  0.56944004, ..., -1.6389304 ,\n",
       "         0.87094714,  0.70949075],\n",
       "       [-0.49076094,  0.46580485,  0.56944004, ..., -1.6389304 ,\n",
       "         1.37131024,  1.10633116],\n",
       "       [-0.31032869,  0.46580485,  0.56944004, ..., -1.6389304 ,\n",
       "        -1.61044535, -1.64251462],\n",
       "       ...,\n",
       "       [-0.47071291,  1.21163135,  0.56944004, ..., -1.6389304 ,\n",
       "        -0.83437198, -0.72300635],\n",
       "       [-0.33037672,  0.46580485,  0.56944004, ..., -1.6389304 ,\n",
       "        -0.41570081, -0.51974662],\n",
       "       [-0.33037672,  0.46580485,  0.56944004, ..., -1.6389304 ,\n",
       "         0.04381631, -0.07451104]])"
      ]
     },
     "execution_count": 61,
     "metadata": {},
     "output_type": "execute_result"
    }
   ],
   "source": [
    "num_scaled"
   ]
  },
  {
   "cell_type": "code",
   "execution_count": 29,
   "metadata": {},
   "outputs": [],
   "source": [
    "for i in range(len(numericals)):\n",
    "    flights_final[numericals[i]] = num_scaled[:,i]"
   ]
  },
  {
   "cell_type": "code",
   "execution_count": 30,
   "metadata": {},
   "outputs": [
    {
     "data": {
      "text/html": [
       "<div>\n",
       "<style scoped>\n",
       "    .dataframe tbody tr th:only-of-type {\n",
       "        vertical-align: middle;\n",
       "    }\n",
       "\n",
       "    .dataframe tbody tr th {\n",
       "        vertical-align: top;\n",
       "    }\n",
       "\n",
       "    .dataframe thead th {\n",
       "        text-align: right;\n",
       "    }\n",
       "</style>\n",
       "<table border=\"1\" class=\"dataframe\">\n",
       "  <thead>\n",
       "    <tr style=\"text-align: right;\">\n",
       "      <th></th>\n",
       "      <th>mkt_carrier_fl_num</th>\n",
       "      <th>crs_dep_time</th>\n",
       "      <th>dep_delay</th>\n",
       "      <th>crs_arr_time</th>\n",
       "      <th>arr_time</th>\n",
       "      <th>arr_delay</th>\n",
       "      <th>distance</th>\n",
       "      <th>year</th>\n",
       "      <th>month</th>\n",
       "      <th>date</th>\n",
       "      <th>...</th>\n",
       "      <th>snow_type</th>\n",
       "      <th>mkt_unique_carrier</th>\n",
       "      <th>branded_code_share</th>\n",
       "      <th>tail_num</th>\n",
       "      <th>origin</th>\n",
       "      <th>dest</th>\n",
       "      <th>mean_tail_num_arr_delay</th>\n",
       "      <th>mean_tail_num_dep_delay</th>\n",
       "      <th>mean_carrier_arr_delay</th>\n",
       "      <th>mean_carrier__dep_delay</th>\n",
       "    </tr>\n",
       "  </thead>\n",
       "  <tbody>\n",
       "    <tr>\n",
       "      <th>0</th>\n",
       "      <td>2098</td>\n",
       "      <td>1755</td>\n",
       "      <td>-2.0</td>\n",
       "      <td>1850</td>\n",
       "      <td>1838.0</td>\n",
       "      <td>-0.350425</td>\n",
       "      <td>0.465805</td>\n",
       "      <td>2019</td>\n",
       "      <td>3</td>\n",
       "      <td>25</td>\n",
       "      <td>...</td>\n",
       "      <td>-0.277971</td>\n",
       "      <td>WN</td>\n",
       "      <td>WN</td>\n",
       "      <td>N8540V</td>\n",
       "      <td>MCI</td>\n",
       "      <td>PHX</td>\n",
       "      <td>-1.651164</td>\n",
       "      <td>18.052392</td>\n",
       "      <td>-1.63893</td>\n",
       "      <td>22.411967</td>\n",
       "    </tr>\n",
       "    <tr>\n",
       "      <th>1</th>\n",
       "      <td>2238</td>\n",
       "      <td>2000</td>\n",
       "      <td>-5.0</td>\n",
       "      <td>2055</td>\n",
       "      <td>2036.0</td>\n",
       "      <td>-0.490761</td>\n",
       "      <td>0.465805</td>\n",
       "      <td>2019</td>\n",
       "      <td>3</td>\n",
       "      <td>25</td>\n",
       "      <td>...</td>\n",
       "      <td>-0.277971</td>\n",
       "      <td>WN</td>\n",
       "      <td>WN</td>\n",
       "      <td>N8656B</td>\n",
       "      <td>MCI</td>\n",
       "      <td>PHX</td>\n",
       "      <td>-1.517871</td>\n",
       "      <td>20.485714</td>\n",
       "      <td>-1.63893</td>\n",
       "      <td>22.411967</td>\n",
       "    </tr>\n",
       "    <tr>\n",
       "      <th>2</th>\n",
       "      <td>2451</td>\n",
       "      <td>540</td>\n",
       "      <td>1.0</td>\n",
       "      <td>635</td>\n",
       "      <td>625.0</td>\n",
       "      <td>-0.310329</td>\n",
       "      <td>0.465805</td>\n",
       "      <td>2019</td>\n",
       "      <td>3</td>\n",
       "      <td>25</td>\n",
       "      <td>...</td>\n",
       "      <td>-0.277971</td>\n",
       "      <td>WN</td>\n",
       "      <td>WN</td>\n",
       "      <td>N8583Z</td>\n",
       "      <td>MCI</td>\n",
       "      <td>PHX</td>\n",
       "      <td>-1.666864</td>\n",
       "      <td>18.637037</td>\n",
       "      <td>-1.63893</td>\n",
       "      <td>22.411967</td>\n",
       "    </tr>\n",
       "    <tr>\n",
       "      <th>3</th>\n",
       "      <td>2213</td>\n",
       "      <td>1550</td>\n",
       "      <td>99.0</td>\n",
       "      <td>1905</td>\n",
       "      <td>2039.0</td>\n",
       "      <td>1.774666</td>\n",
       "      <td>0.227413</td>\n",
       "      <td>2019</td>\n",
       "      <td>3</td>\n",
       "      <td>25</td>\n",
       "      <td>...</td>\n",
       "      <td>-0.277971</td>\n",
       "      <td>WN</td>\n",
       "      <td>WN</td>\n",
       "      <td>N737JW</td>\n",
       "      <td>MCI</td>\n",
       "      <td>RDU</td>\n",
       "      <td>-1.192101</td>\n",
       "      <td>22.203531</td>\n",
       "      <td>-1.63893</td>\n",
       "      <td>22.411967</td>\n",
       "    </tr>\n",
       "    <tr>\n",
       "      <th>4</th>\n",
       "      <td>2096</td>\n",
       "      <td>1045</td>\n",
       "      <td>166.0</td>\n",
       "      <td>1430</td>\n",
       "      <td>1702.0</td>\n",
       "      <td>2.937452</td>\n",
       "      <td>0.654816</td>\n",
       "      <td>2019</td>\n",
       "      <td>3</td>\n",
       "      <td>25</td>\n",
       "      <td>...</td>\n",
       "      <td>-0.277971</td>\n",
       "      <td>WN</td>\n",
       "      <td>WN</td>\n",
       "      <td>N705SW</td>\n",
       "      <td>MCI</td>\n",
       "      <td>RSW</td>\n",
       "      <td>-1.027434</td>\n",
       "      <td>24.219465</td>\n",
       "      <td>-1.63893</td>\n",
       "      <td>22.411967</td>\n",
       "    </tr>\n",
       "  </tbody>\n",
       "</table>\n",
       "<p>5 rows × 38 columns</p>\n",
       "</div>"
      ],
      "text/plain": [
       "   mkt_carrier_fl_num  crs_dep_time  dep_delay  crs_arr_time  arr_time  \\\n",
       "0                2098          1755       -2.0          1850    1838.0   \n",
       "1                2238          2000       -5.0          2055    2036.0   \n",
       "2                2451           540        1.0           635     625.0   \n",
       "3                2213          1550       99.0          1905    2039.0   \n",
       "4                2096          1045      166.0          1430    1702.0   \n",
       "\n",
       "   arr_delay  distance  year  month  date  ...  snow_type  mkt_unique_carrier  \\\n",
       "0  -0.350425  0.465805  2019      3    25  ...  -0.277971                  WN   \n",
       "1  -0.490761  0.465805  2019      3    25  ...  -0.277971                  WN   \n",
       "2  -0.310329  0.465805  2019      3    25  ...  -0.277971                  WN   \n",
       "3   1.774666  0.227413  2019      3    25  ...  -0.277971                  WN   \n",
       "4   2.937452  0.654816  2019      3    25  ...  -0.277971                  WN   \n",
       "\n",
       "   branded_code_share  tail_num  origin  dest  mean_tail_num_arr_delay  \\\n",
       "0                  WN    N8540V     MCI   PHX                -1.651164   \n",
       "1                  WN    N8656B     MCI   PHX                -1.517871   \n",
       "2                  WN    N8583Z     MCI   PHX                -1.666864   \n",
       "3                  WN    N737JW     MCI   RDU                -1.192101   \n",
       "4                  WN    N705SW     MCI   RSW                -1.027434   \n",
       "\n",
       "   mean_tail_num_dep_delay  mean_carrier_arr_delay  mean_carrier__dep_delay  \n",
       "0                18.052392                -1.63893                22.411967  \n",
       "1                20.485714                -1.63893                22.411967  \n",
       "2                18.637037                -1.63893                22.411967  \n",
       "3                22.203531                -1.63893                22.411967  \n",
       "4                24.219465                -1.63893                22.411967  \n",
       "\n",
       "[5 rows x 38 columns]"
      ]
     },
     "execution_count": 30,
     "metadata": {},
     "output_type": "execute_result"
    }
   ],
   "source": [
    "flights_final.head()"
   ]
  },
  {
   "cell_type": "code",
   "execution_count": 28,
   "metadata": {},
   "outputs": [],
   "source": [
    "#flights_final['arr_hour'] = (flights_final['arr_hour'].astype(int))\n",
    "#flights_final['dep_hour'] = (flights_final['dep_hour'].astype(int))"
   ]
  },
  {
   "cell_type": "markdown",
   "metadata": {},
   "source": [
    "### PCA"
   ]
  },
  {
   "cell_type": "code",
   "execution_count": 7,
   "metadata": {},
   "outputs": [],
   "source": [
    "flights_PCA = pd.read_csv(data_path + 'model_before_PCA.csv', header = 0)\n",
    "flights_PCA.drop('Unnamed: 0', axis = 1, inplace = True)"
   ]
  },
  {
   "cell_type": "code",
   "execution_count": null,
   "metadata": {},
   "outputs": [],
   "source": [
    "flights_PCA"
   ]
  },
  {
   "cell_type": "code",
   "execution_count": 8,
   "metadata": {},
   "outputs": [],
   "source": [
    "# 4 rows with missing data in mean_tail_num_arr_delay\n",
    "flights_PCA.dropna(inplace = True)"
   ]
  },
  {
   "cell_type": "code",
   "execution_count": 49,
   "metadata": {},
   "outputs": [],
   "source": [
    "pca = PCA(n_components=28)\n",
    "pca.fit(flights_PCA)\n",
    "flights_reduced = pca.fit_transform(flights_PCA)"
   ]
  },
  {
   "cell_type": "code",
   "execution_count": 50,
   "metadata": {},
   "outputs": [
    {
     "data": {
      "text/plain": [
       "array([3.46589742e+06, 4.77158333e+03, 3.87281836e+03, 3.92319831e+02,\n",
       "       7.68653571e+01, 4.29854626e+01, 3.53579724e+01, 1.24530230e+01,\n",
       "       1.21310462e+01, 7.58245734e+00, 2.55246044e+00, 1.97573170e+00,\n",
       "       1.60440341e+00, 1.41284464e+00, 1.20284480e+00, 9.14124017e-01,\n",
       "       8.83928786e-01, 7.70357283e-01, 6.72664304e-01, 5.12591977e-01,\n",
       "       4.17459962e-01, 2.95611321e-01, 2.49989478e-01, 2.30938519e-01,\n",
       "       2.02252801e-01, 1.94632998e-01, 1.70390210e-01, 5.83120257e-02])"
      ]
     },
     "execution_count": 50,
     "metadata": {},
     "output_type": "execute_result"
    }
   ],
   "source": [
    "pca.explained_variance_"
   ]
  },
  {
   "cell_type": "code",
   "execution_count": 51,
   "metadata": {},
   "outputs": [
    {
     "data": {
      "text/plain": [
       "array([3.46589742e+06, 4.77158333e+03, 3.87281836e+03, 3.92319831e+02,\n",
       "       7.68653571e+01, 4.29854626e+01, 3.53579724e+01, 1.24530230e+01,\n",
       "       1.21310462e+01, 7.58245734e+00, 2.55246044e+00, 1.97573170e+00,\n",
       "       1.60440341e+00, 1.41284464e+00, 1.20284480e+00])"
      ]
     },
     "execution_count": 51,
     "metadata": {},
     "output_type": "execute_result"
    }
   ],
   "source": [
    "pca.explained_variance_[pca.explained_variance_>1]"
   ]
  },
  {
   "cell_type": "code",
   "execution_count": 52,
   "metadata": {},
   "outputs": [
    {
     "data": {
      "image/png": "[encoded data removed]",
      "text/plain": [
       "<Figure size 864x576 with 1 Axes>"
      ]
     },
     "metadata": {
      "needs_background": "light"
     },
     "output_type": "display_data"
    }
   ],
   "source": [
    "fig, ax = plt.subplots(figsize=(12,8))\n",
    "ax.plot(np.cumsum(pca.explained_variance_ratio_))\n",
    "ax.set_xlabel('number of components')\n",
    "ax.set_ylabel('cumulative explained variance');"
   ]
  },
  {
   "cell_type": "markdown",
   "metadata": {},
   "source": [
    "### PCA (15 components)"
   ]
  },
  {
   "cell_type": "code",
   "execution_count": 9,
   "metadata": {},
   "outputs": [],
   "source": [
    "pca = PCA(n_components=15)\n",
    "pca.fit(flights_PCA)\n",
    "flights_reduced = pca.fit_transform(flights_PCA)"
   ]
  },
  {
   "cell_type": "code",
   "execution_count": 10,
   "metadata": {},
   "outputs": [
    {
     "data": {
      "text/plain": [
       "array([3.46589742e+06, 4.77158333e+03, 3.87281836e+03, 3.92319831e+02,\n",
       "       7.68653571e+01, 4.29854626e+01, 3.53579724e+01, 1.24530230e+01,\n",
       "       1.21310462e+01, 7.58245734e+00, 2.55246044e+00, 1.97573170e+00,\n",
       "       1.60440340e+00, 1.41284460e+00, 1.20284480e+00])"
      ]
     },
     "execution_count": 10,
     "metadata": {},
     "output_type": "execute_result"
    }
   ],
   "source": [
    "pca.explained_variance_"
   ]
  },
  {
   "cell_type": "code",
   "execution_count": 13,
   "metadata": {},
   "outputs": [],
   "source": [
    "flights_15_PCA = pd.DataFrame(flights_reduced)\n",
    "flights_15_PCA.columns = ['PC1','PC2','PC3','PC4','PC5','PC6','PC7','PC8','PC9','PC10','PC11','PC12','PC13','PC14','PC15']"
   ]
  },
  {
   "cell_type": "code",
   "execution_count": 14,
   "metadata": {},
   "outputs": [
    {
     "data": {
      "text/html": [
       "<div>\n",
       "<style scoped>\n",
       "    .dataframe tbody tr th:only-of-type {\n",
       "        vertical-align: middle;\n",
       "    }\n",
       "\n",
       "    .dataframe tbody tr th {\n",
       "        vertical-align: top;\n",
       "    }\n",
       "\n",
       "    .dataframe thead th {\n",
       "        text-align: right;\n",
       "    }\n",
       "</style>\n",
       "<table border=\"1\" class=\"dataframe\">\n",
       "  <thead>\n",
       "    <tr style=\"text-align: right;\">\n",
       "      <th></th>\n",
       "      <th>PC1</th>\n",
       "      <th>PC2</th>\n",
       "      <th>PC3</th>\n",
       "      <th>PC4</th>\n",
       "      <th>PC5</th>\n",
       "      <th>PC6</th>\n",
       "      <th>PC7</th>\n",
       "      <th>PC8</th>\n",
       "      <th>PC9</th>\n",
       "      <th>PC10</th>\n",
       "      <th>PC11</th>\n",
       "      <th>PC12</th>\n",
       "      <th>PC13</th>\n",
       "      <th>PC14</th>\n",
       "      <th>PC15</th>\n",
       "    </tr>\n",
       "  </thead>\n",
       "  <tbody>\n",
       "    <tr>\n",
       "      <th>0</th>\n",
       "      <td>-627.575981</td>\n",
       "      <td>-99.808556</td>\n",
       "      <td>-22.742170</td>\n",
       "      <td>-0.181386</td>\n",
       "      <td>9.210029</td>\n",
       "      <td>-4.895672</td>\n",
       "      <td>-2.300336</td>\n",
       "      <td>-5.936462</td>\n",
       "      <td>2.246725</td>\n",
       "      <td>0.694977</td>\n",
       "      <td>-2.624832</td>\n",
       "      <td>-0.019332</td>\n",
       "      <td>-0.893425</td>\n",
       "      <td>-1.335500</td>\n",
       "      <td>-1.481858</td>\n",
       "    </tr>\n",
       "    <tr>\n",
       "      <th>1</th>\n",
       "      <td>-487.577368</td>\n",
       "      <td>-100.336481</td>\n",
       "      <td>-23.011881</td>\n",
       "      <td>-0.384504</td>\n",
       "      <td>9.196226</td>\n",
       "      <td>-8.357688</td>\n",
       "      <td>-2.819679</td>\n",
       "      <td>-5.821954</td>\n",
       "      <td>2.269526</td>\n",
       "      <td>1.546567</td>\n",
       "      <td>-2.634591</td>\n",
       "      <td>-0.010575</td>\n",
       "      <td>-0.876503</td>\n",
       "      <td>-1.277286</td>\n",
       "      <td>-1.446236</td>\n",
       "    </tr>\n",
       "    <tr>\n",
       "      <th>2</th>\n",
       "      <td>-274.580187</td>\n",
       "      <td>-101.090868</td>\n",
       "      <td>-23.563474</td>\n",
       "      <td>-0.738743</td>\n",
       "      <td>9.248220</td>\n",
       "      <td>11.815576</td>\n",
       "      <td>0.593836</td>\n",
       "      <td>-5.663704</td>\n",
       "      <td>2.413143</td>\n",
       "      <td>0.017302</td>\n",
       "      <td>-2.614038</td>\n",
       "      <td>-0.045069</td>\n",
       "      <td>-0.981340</td>\n",
       "      <td>-1.411936</td>\n",
       "      <td>-1.580887</td>\n",
       "    </tr>\n",
       "    <tr>\n",
       "      <th>3</th>\n",
       "      <td>-512.573497</td>\n",
       "      <td>-99.797996</td>\n",
       "      <td>-22.086039</td>\n",
       "      <td>-0.310512</td>\n",
       "      <td>9.207335</td>\n",
       "      <td>-4.278643</td>\n",
       "      <td>-2.187026</td>\n",
       "      <td>-5.838563</td>\n",
       "      <td>2.317215</td>\n",
       "      <td>-1.447748</td>\n",
       "      <td>-2.586273</td>\n",
       "      <td>0.011144</td>\n",
       "      <td>-0.981432</td>\n",
       "      <td>-1.127793</td>\n",
       "      <td>-1.400770</td>\n",
       "    </tr>\n",
       "    <tr>\n",
       "      <th>4</th>\n",
       "      <td>-629.568935</td>\n",
       "      <td>-98.907765</td>\n",
       "      <td>-20.984801</td>\n",
       "      <td>-0.118913</td>\n",
       "      <td>9.231248</td>\n",
       "      <td>2.698164</td>\n",
       "      <td>-1.069363</td>\n",
       "      <td>-5.925582</td>\n",
       "      <td>2.308767</td>\n",
       "      <td>-1.743591</td>\n",
       "      <td>-2.588376</td>\n",
       "      <td>0.014549</td>\n",
       "      <td>-1.023337</td>\n",
       "      <td>-0.959274</td>\n",
       "      <td>-1.350639</td>\n",
       "    </tr>\n",
       "    <tr>\n",
       "      <th>...</th>\n",
       "      <td>...</td>\n",
       "      <td>...</td>\n",
       "      <td>...</td>\n",
       "      <td>...</td>\n",
       "      <td>...</td>\n",
       "      <td>...</td>\n",
       "      <td>...</td>\n",
       "      <td>...</td>\n",
       "      <td>...</td>\n",
       "      <td>...</td>\n",
       "      <td>...</td>\n",
       "      <td>...</td>\n",
       "      <td>...</td>\n",
       "      <td>...</td>\n",
       "      <td>...</td>\n",
       "    </tr>\n",
       "    <tr>\n",
       "      <th>15611132</th>\n",
       "      <td>-536.470155</td>\n",
       "      <td>-86.955401</td>\n",
       "      <td>4.019807</td>\n",
       "      <td>0.619569</td>\n",
       "      <td>9.195268</td>\n",
       "      <td>-9.687359</td>\n",
       "      <td>-3.047423</td>\n",
       "      <td>-6.063767</td>\n",
       "      <td>2.204660</td>\n",
       "      <td>0.164978</td>\n",
       "      <td>-2.615924</td>\n",
       "      <td>0.030006</td>\n",
       "      <td>-0.933661</td>\n",
       "      <td>-1.067511</td>\n",
       "      <td>-1.351819</td>\n",
       "    </tr>\n",
       "    <tr>\n",
       "      <th>15611133</th>\n",
       "      <td>-1434.457653</td>\n",
       "      <td>-83.143536</td>\n",
       "      <td>6.707840</td>\n",
       "      <td>1.955961</td>\n",
       "      <td>9.257095</td>\n",
       "      <td>2.221664</td>\n",
       "      <td>-1.367024</td>\n",
       "      <td>-6.760249</td>\n",
       "      <td>1.965609</td>\n",
       "      <td>0.345226</td>\n",
       "      <td>-2.647010</td>\n",
       "      <td>0.018175</td>\n",
       "      <td>-0.938228</td>\n",
       "      <td>-0.820267</td>\n",
       "      <td>-1.268860</td>\n",
       "    </tr>\n",
       "    <tr>\n",
       "      <th>15611134</th>\n",
       "      <td>-255.374531</td>\n",
       "      <td>-75.652427</td>\n",
       "      <td>28.481765</td>\n",
       "      <td>1.019827</td>\n",
       "      <td>9.234911</td>\n",
       "      <td>5.735827</td>\n",
       "      <td>-0.347301</td>\n",
       "      <td>-6.015685</td>\n",
       "      <td>2.289499</td>\n",
       "      <td>-0.509207</td>\n",
       "      <td>-2.619765</td>\n",
       "      <td>-0.003309</td>\n",
       "      <td>-0.877288</td>\n",
       "      <td>-1.051391</td>\n",
       "      <td>-1.372554</td>\n",
       "    </tr>\n",
       "    <tr>\n",
       "      <th>15611135</th>\n",
       "      <td>-1074.571446</td>\n",
       "      <td>-98.124739</td>\n",
       "      <td>-21.864318</td>\n",
       "      <td>0.468349</td>\n",
       "      <td>9.247355</td>\n",
       "      <td>3.483642</td>\n",
       "      <td>-1.066799</td>\n",
       "      <td>-6.294610</td>\n",
       "      <td>2.137509</td>\n",
       "      <td>0.343132</td>\n",
       "      <td>-2.630573</td>\n",
       "      <td>-0.024015</td>\n",
       "      <td>-0.957096</td>\n",
       "      <td>-1.286748</td>\n",
       "      <td>-1.492328</td>\n",
       "    </tr>\n",
       "    <tr>\n",
       "      <th>15611136</th>\n",
       "      <td>-763.574556</td>\n",
       "      <td>-99.289167</td>\n",
       "      <td>-22.490486</td>\n",
       "      <td>0.016744</td>\n",
       "      <td>9.230068</td>\n",
       "      <td>0.686794</td>\n",
       "      <td>-1.430495</td>\n",
       "      <td>-6.027360</td>\n",
       "      <td>2.232635</td>\n",
       "      <td>0.462840</td>\n",
       "      <td>-2.624649</td>\n",
       "      <td>0.014196</td>\n",
       "      <td>-1.006996</td>\n",
       "      <td>-0.964871</td>\n",
       "      <td>-1.351429</td>\n",
       "    </tr>\n",
       "  </tbody>\n",
       "</table>\n",
       "<p>15611137 rows × 15 columns</p>\n",
       "</div>"
      ],
      "text/plain": [
       "                  PC1         PC2        PC3       PC4       PC5        PC6  \\\n",
       "0         -627.575981  -99.808556 -22.742170 -0.181386  9.210029  -4.895672   \n",
       "1         -487.577368 -100.336481 -23.011881 -0.384504  9.196226  -8.357688   \n",
       "2         -274.580187 -101.090868 -23.563474 -0.738743  9.248220  11.815576   \n",
       "3         -512.573497  -99.797996 -22.086039 -0.310512  9.207335  -4.278643   \n",
       "4         -629.568935  -98.907765 -20.984801 -0.118913  9.231248   2.698164   \n",
       "...               ...         ...        ...       ...       ...        ...   \n",
       "15611132  -536.470155  -86.955401   4.019807  0.619569  9.195268  -9.687359   \n",
       "15611133 -1434.457653  -83.143536   6.707840  1.955961  9.257095   2.221664   \n",
       "15611134  -255.374531  -75.652427  28.481765  1.019827  9.234911   5.735827   \n",
       "15611135 -1074.571446  -98.124739 -21.864318  0.468349  9.247355   3.483642   \n",
       "15611136  -763.574556  -99.289167 -22.490486  0.016744  9.230068   0.686794   \n",
       "\n",
       "               PC7       PC8       PC9      PC10      PC11      PC12  \\\n",
       "0        -2.300336 -5.936462  2.246725  0.694977 -2.624832 -0.019332   \n",
       "1        -2.819679 -5.821954  2.269526  1.546567 -2.634591 -0.010575   \n",
       "2         0.593836 -5.663704  2.413143  0.017302 -2.614038 -0.045069   \n",
       "3        -2.187026 -5.838563  2.317215 -1.447748 -2.586273  0.011144   \n",
       "4        -1.069363 -5.925582  2.308767 -1.743591 -2.588376  0.014549   \n",
       "...            ...       ...       ...       ...       ...       ...   \n",
       "15611132 -3.047423 -6.063767  2.204660  0.164978 -2.615924  0.030006   \n",
       "15611133 -1.367024 -6.760249  1.965609  0.345226 -2.647010  0.018175   \n",
       "15611134 -0.347301 -6.015685  2.289499 -0.509207 -2.619765 -0.003309   \n",
       "15611135 -1.066799 -6.294610  2.137509  0.343132 -2.630573 -0.024015   \n",
       "15611136 -1.430495 -6.027360  2.232635  0.462840 -2.624649  0.014196   \n",
       "\n",
       "              PC13      PC14      PC15  \n",
       "0        -0.893425 -1.335500 -1.481858  \n",
       "1        -0.876503 -1.277286 -1.446236  \n",
       "2        -0.981340 -1.411936 -1.580887  \n",
       "3        -0.981432 -1.127793 -1.400770  \n",
       "4        -1.023337 -0.959274 -1.350639  \n",
       "...            ...       ...       ...  \n",
       "15611132 -0.933661 -1.067511 -1.351819  \n",
       "15611133 -0.938228 -0.820267 -1.268860  \n",
       "15611134 -0.877288 -1.051391 -1.372554  \n",
       "15611135 -0.957096 -1.286748 -1.492328  \n",
       "15611136 -1.006996 -0.964871 -1.351429  \n",
       "\n",
       "[15611137 rows x 15 columns]"
      ]
     },
     "execution_count": 14,
     "metadata": {},
     "output_type": "execute_result"
    }
   ],
   "source": [
    "flights_15_PCA"
   ]
  },
  {
   "cell_type": "code",
   "execution_count": 15,
   "metadata": {},
   "outputs": [],
   "source": [
    "#flights_15_PCA.to_csv('/mnt/d/lighthouse/Midterm_data/model_15_PCA.csv')"
   ]
  },
  {
   "cell_type": "markdown",
   "metadata": {},
   "source": [
    "### PCA (2 components)"
   ]
  },
  {
   "cell_type": "code",
   "execution_count": 54,
   "metadata": {},
   "outputs": [],
   "source": [
    "pca = PCA(n_components=2)\n",
    "pca.fit(flights_PCA)\n",
    "flights_reduced = pca.fit_transform(flights_PCA)"
   ]
  },
  {
   "cell_type": "code",
   "execution_count": null,
   "metadata": {},
   "outputs": [],
   "source": [
    "pca.explained_variance_"
   ]
  },
  {
   "cell_type": "code",
   "execution_count": null,
   "metadata": {},
   "outputs": [],
   "source": [
    "flights_2_PCA = pd.DataFrame(flights_reduced)\n",
    "flights_2_PCA.columns = ['PC1','PC2']"
   ]
  },
  {
   "cell_type": "code",
   "execution_count": 20,
   "metadata": {},
   "outputs": [
    {
     "data": {
      "text/html": [
       "<div>\n",
       "<style scoped>\n",
       "    .dataframe tbody tr th:only-of-type {\n",
       "        vertical-align: middle;\n",
       "    }\n",
       "\n",
       "    .dataframe tbody tr th {\n",
       "        vertical-align: top;\n",
       "    }\n",
       "\n",
       "    .dataframe thead th {\n",
       "        text-align: right;\n",
       "    }\n",
       "</style>\n",
       "<table border=\"1\" class=\"dataframe\">\n",
       "  <thead>\n",
       "    <tr style=\"text-align: right;\">\n",
       "      <th></th>\n",
       "      <th>PC1</th>\n",
       "      <th>PC2</th>\n",
       "    </tr>\n",
       "  </thead>\n",
       "  <tbody>\n",
       "    <tr>\n",
       "      <th>0</th>\n",
       "      <td>-627.575981</td>\n",
       "      <td>-99.808556</td>\n",
       "    </tr>\n",
       "    <tr>\n",
       "      <th>1</th>\n",
       "      <td>-487.577368</td>\n",
       "      <td>-100.336481</td>\n",
       "    </tr>\n",
       "    <tr>\n",
       "      <th>2</th>\n",
       "      <td>-274.580187</td>\n",
       "      <td>-101.090868</td>\n",
       "    </tr>\n",
       "    <tr>\n",
       "      <th>3</th>\n",
       "      <td>-512.573497</td>\n",
       "      <td>-99.797996</td>\n",
       "    </tr>\n",
       "    <tr>\n",
       "      <th>4</th>\n",
       "      <td>-629.568935</td>\n",
       "      <td>-98.907765</td>\n",
       "    </tr>\n",
       "    <tr>\n",
       "      <th>...</th>\n",
       "      <td>...</td>\n",
       "      <td>...</td>\n",
       "    </tr>\n",
       "    <tr>\n",
       "      <th>15611132</th>\n",
       "      <td>-536.470155</td>\n",
       "      <td>-86.955401</td>\n",
       "    </tr>\n",
       "    <tr>\n",
       "      <th>15611133</th>\n",
       "      <td>-1434.457653</td>\n",
       "      <td>-83.143536</td>\n",
       "    </tr>\n",
       "    <tr>\n",
       "      <th>15611134</th>\n",
       "      <td>-255.374531</td>\n",
       "      <td>-75.652427</td>\n",
       "    </tr>\n",
       "    <tr>\n",
       "      <th>15611135</th>\n",
       "      <td>-1074.571446</td>\n",
       "      <td>-98.124739</td>\n",
       "    </tr>\n",
       "    <tr>\n",
       "      <th>15611136</th>\n",
       "      <td>-763.574556</td>\n",
       "      <td>-99.289167</td>\n",
       "    </tr>\n",
       "  </tbody>\n",
       "</table>\n",
       "<p>15611137 rows × 2 columns</p>\n",
       "</div>"
      ],
      "text/plain": [
       "                  PC1         PC2\n",
       "0         -627.575981  -99.808556\n",
       "1         -487.577368 -100.336481\n",
       "2         -274.580187 -101.090868\n",
       "3         -512.573497  -99.797996\n",
       "4         -629.568935  -98.907765\n",
       "...               ...         ...\n",
       "15611132  -536.470155  -86.955401\n",
       "15611133 -1434.457653  -83.143536\n",
       "15611134  -255.374531  -75.652427\n",
       "15611135 -1074.571446  -98.124739\n",
       "15611136  -763.574556  -99.289167\n",
       "\n",
       "[15611137 rows x 2 columns]"
      ]
     },
     "execution_count": 20,
     "metadata": {},
     "output_type": "execute_result"
    }
   ],
   "source": [
    "flights_2_PCA"
   ]
  },
  {
   "cell_type": "code",
   "execution_count": 58,
   "metadata": {
    "scrolled": false
   },
   "outputs": [
    {
     "data": {
      "application/vnd.plotly.v1+json": {
       "config": {
        "plotlyServerURL": "https://plot.ly"
       },
       "data": [
        {
         "name": "Individual",
         "type": "bar",
         "x": [
          "PC 1",
          "PC 2",
          "PC 3",
          "PC 4",
          "PC 5",
          "PC 6",
          "PC 7"
         ],
         "y": [
          0.9973415662585478,
          0.0013730638309910521,
          0.0011144365381332815,
          0.000112893380072994,
          2.211866258801657e-05,
          1.2369433775811548e-05,
          1.0174558342263843e-05,
          3.5834636557897228e-06,
          3.4908120803562408e-06,
          2.1819168190810457e-06,
          7.344922772152792e-07,
          5.685336612274799e-07,
          4.6168077449260365e-07,
          4.065581047092531e-07,
          3.4612885853376096e-07,
          2.6304698828448676e-07,
          2.54358053022245e-07,
          2.2167688349067058e-07,
          1.9356489486130756e-07,
          1.4750271645270575e-07,
          1.2012766716740083e-07,
          8.506468082050031e-08,
          7.193660612740247e-08,
          6.645453011454748e-08,
          5.819996991866473e-08,
          5.600730646478408e-08,
          4.903123729039989e-08,
          1.677978310484701e-08
         ]
        },
        {
         "name": "Cumulative",
         "type": "scatter",
         "x": [
          "PC 1",
          "PC 2",
          "PC 3",
          "PC 4",
          "PC 5",
          "PC 6",
          "PC 7"
         ],
         "y": [
          0.9973415662585478,
          0.9987146300895388,
          0.999829066627672,
          0.9999419600077449,
          0.999964078670333,
          0.9999764481041089,
          0.9999866226624512,
          0.999990206126107,
          0.9999936969381873,
          0.9999958788550063,
          0.9999966133472835,
          0.9999971818809448,
          0.9999976435617193,
          0.999998050119824,
          0.9999983962486826,
          0.9999986592956708,
          0.9999989136537238,
          0.9999991353306074,
          0.9999993288955022,
          0.9999994763982187,
          0.9999995965258859,
          0.9999996815905666,
          0.9999997535271729,
          0.999999819981703,
          0.9999998781816729,
          0.9999999341889794,
          0.9999999832202167,
          0.9999999999999999
         ]
        }
       ],
       "layout": {
        "annotations": [
         {
          "showarrow": false,
          "text": "Explained Variance",
          "x": 1.16,
          "xref": "paper",
          "y": 1.05,
          "yref": "paper"
         }
        ],
        "height": 500,
        "template": {
         "data": {
          "bar": [
           {
            "error_x": {
             "color": "#2a3f5f"
            },
            "error_y": {
             "color": "#2a3f5f"
            },
            "marker": {
             "line": {
              "color": "#E5ECF6",
              "width": 0.5
             }
            },
            "type": "bar"
           }
          ],
          "barpolar": [
           {
            "marker": {
             "line": {
              "color": "#E5ECF6",
              "width": 0.5
             }
            },
            "type": "barpolar"
           }
          ],
          "carpet": [
           {
            "aaxis": {
             "endlinecolor": "#2a3f5f",
             "gridcolor": "white",
             "linecolor": "white",
             "minorgridcolor": "white",
             "startlinecolor": "#2a3f5f"
            },
            "baxis": {
             "endlinecolor": "#2a3f5f",
             "gridcolor": "white",
             "linecolor": "white",
             "minorgridcolor": "white",
             "startlinecolor": "#2a3f5f"
            },
            "type": "carpet"
           }
          ],
          "choropleth": [
           {
            "colorbar": {
             "outlinewidth": 0,
             "ticks": ""
            },
            "type": "choropleth"
           }
          ],
          "contour": [
           {
            "colorbar": {
             "outlinewidth": 0,
             "ticks": ""
            },
            "colorscale": [
             [
              0,
              "#0d0887"
             ],
             [
              0.1111111111111111,
              "#46039f"
             ],
             [
              0.2222222222222222,
              "#7201a8"
             ],
             [
              0.3333333333333333,
              "#9c179e"
             ],
             [
              0.4444444444444444,
              "#bd3786"
             ],
             [
              0.5555555555555556,
              "#d8576b"
             ],
             [
              0.6666666666666666,
              "#ed7953"
             ],
             [
              0.7777777777777778,
              "#fb9f3a"
             ],
             [
              0.8888888888888888,
              "#fdca26"
             ],
             [
              1,
              "#f0f921"
             ]
            ],
            "type": "contour"
           }
          ],
          "contourcarpet": [
           {
            "colorbar": {
             "outlinewidth": 0,
             "ticks": ""
            },
            "type": "contourcarpet"
           }
          ],
          "heatmap": [
           {
            "colorbar": {
             "outlinewidth": 0,
             "ticks": ""
            },
            "colorscale": [
             [
              0,
              "#0d0887"
             ],
             [
              0.1111111111111111,
              "#46039f"
             ],
             [
              0.2222222222222222,
              "#7201a8"
             ],
             [
              0.3333333333333333,
              "#9c179e"
             ],
             [
              0.4444444444444444,
              "#bd3786"
             ],
             [
              0.5555555555555556,
              "#d8576b"
             ],
             [
              0.6666666666666666,
              "#ed7953"
             ],
             [
              0.7777777777777778,
              "#fb9f3a"
             ],
             [
              0.8888888888888888,
              "#fdca26"
             ],
             [
              1,
              "#f0f921"
             ]
            ],
            "type": "heatmap"
           }
          ],
          "heatmapgl": [
           {
            "colorbar": {
             "outlinewidth": 0,
             "ticks": ""
            },
            "colorscale": [
             [
              0,
              "#0d0887"
             ],
             [
              0.1111111111111111,
              "#46039f"
             ],
             [
              0.2222222222222222,
              "#7201a8"
             ],
             [
              0.3333333333333333,
              "#9c179e"
             ],
             [
              0.4444444444444444,
              "#bd3786"
             ],
             [
              0.5555555555555556,
              "#d8576b"
             ],
             [
              0.6666666666666666,
              "#ed7953"
             ],
             [
              0.7777777777777778,
              "#fb9f3a"
             ],
             [
              0.8888888888888888,
              "#fdca26"
             ],
             [
              1,
              "#f0f921"
             ]
            ],
            "type": "heatmapgl"
           }
          ],
          "histogram": [
           {
            "marker": {
             "colorbar": {
              "outlinewidth": 0,
              "ticks": ""
             }
            },
            "type": "histogram"
           }
          ],
          "histogram2d": [
           {
            "colorbar": {
             "outlinewidth": 0,
             "ticks": ""
            },
            "colorscale": [
             [
              0,
              "#0d0887"
             ],
             [
              0.1111111111111111,
              "#46039f"
             ],
             [
              0.2222222222222222,
              "#7201a8"
             ],
             [
              0.3333333333333333,
              "#9c179e"
             ],
             [
              0.4444444444444444,
              "#bd3786"
             ],
             [
              0.5555555555555556,
              "#d8576b"
             ],
             [
              0.6666666666666666,
              "#ed7953"
             ],
             [
              0.7777777777777778,
              "#fb9f3a"
             ],
             [
              0.8888888888888888,
              "#fdca26"
             ],
             [
              1,
              "#f0f921"
             ]
            ],
            "type": "histogram2d"
           }
          ],
          "histogram2dcontour": [
           {
            "colorbar": {
             "outlinewidth": 0,
             "ticks": ""
            },
            "colorscale": [
             [
              0,
              "#0d0887"
             ],
             [
              0.1111111111111111,
              "#46039f"
             ],
             [
              0.2222222222222222,
              "#7201a8"
             ],
             [
              0.3333333333333333,
              "#9c179e"
             ],
             [
              0.4444444444444444,
              "#bd3786"
             ],
             [
              0.5555555555555556,
              "#d8576b"
             ],
             [
              0.6666666666666666,
              "#ed7953"
             ],
             [
              0.7777777777777778,
              "#fb9f3a"
             ],
             [
              0.8888888888888888,
              "#fdca26"
             ],
             [
              1,
              "#f0f921"
             ]
            ],
            "type": "histogram2dcontour"
           }
          ],
          "mesh3d": [
           {
            "colorbar": {
             "outlinewidth": 0,
             "ticks": ""
            },
            "type": "mesh3d"
           }
          ],
          "parcoords": [
           {
            "line": {
             "colorbar": {
              "outlinewidth": 0,
              "ticks": ""
             }
            },
            "type": "parcoords"
           }
          ],
          "pie": [
           {
            "automargin": true,
            "type": "pie"
           }
          ],
          "scatter": [
           {
            "marker": {
             "colorbar": {
              "outlinewidth": 0,
              "ticks": ""
             }
            },
            "type": "scatter"
           }
          ],
          "scatter3d": [
           {
            "line": {
             "colorbar": {
              "outlinewidth": 0,
              "ticks": ""
             }
            },
            "marker": {
             "colorbar": {
              "outlinewidth": 0,
              "ticks": ""
             }
            },
            "type": "scatter3d"
           }
          ],
          "scattercarpet": [
           {
            "marker": {
             "colorbar": {
              "outlinewidth": 0,
              "ticks": ""
             }
            },
            "type": "scattercarpet"
           }
          ],
          "scattergeo": [
           {
            "marker": {
             "colorbar": {
              "outlinewidth": 0,
              "ticks": ""
             }
            },
            "type": "scattergeo"
           }
          ],
          "scattergl": [
           {
            "marker": {
             "colorbar": {
              "outlinewidth": 0,
              "ticks": ""
             }
            },
            "type": "scattergl"
           }
          ],
          "scattermapbox": [
           {
            "marker": {
             "colorbar": {
              "outlinewidth": 0,
              "ticks": ""
             }
            },
            "type": "scattermapbox"
           }
          ],
          "scatterpolar": [
           {
            "marker": {
             "colorbar": {
              "outlinewidth": 0,
              "ticks": ""
             }
            },
            "type": "scatterpolar"
           }
          ],
          "scatterpolargl": [
           {
            "marker": {
             "colorbar": {
              "outlinewidth": 0,
              "ticks": ""
             }
            },
            "type": "scatterpolargl"
           }
          ],
          "scatterternary": [
           {
            "marker": {
             "colorbar": {
              "outlinewidth": 0,
              "ticks": ""
             }
            },
            "type": "scatterternary"
           }
          ],
          "surface": [
           {
            "colorbar": {
             "outlinewidth": 0,
             "ticks": ""
            },
            "colorscale": [
             [
              0,
              "#0d0887"
             ],
             [
              0.1111111111111111,
              "#46039f"
             ],
             [
              0.2222222222222222,
              "#7201a8"
             ],
             [
              0.3333333333333333,
              "#9c179e"
             ],
             [
              0.4444444444444444,
              "#bd3786"
             ],
             [
              0.5555555555555556,
              "#d8576b"
             ],
             [
              0.6666666666666666,
              "#ed7953"
             ],
             [
              0.7777777777777778,
              "#fb9f3a"
             ],
             [
              0.8888888888888888,
              "#fdca26"
             ],
             [
              1,
              "#f0f921"
             ]
            ],
            "type": "surface"
           }
          ],
          "table": [
           {
            "cells": {
             "fill": {
              "color": "#EBF0F8"
             },
             "line": {
              "color": "white"
             }
            },
            "header": {
             "fill": {
              "color": "#C8D4E3"
             },
             "line": {
              "color": "white"
             }
            },
            "type": "table"
           }
          ]
         },
         "layout": {
          "annotationdefaults": {
           "arrowcolor": "#2a3f5f",
           "arrowhead": 0,
           "arrowwidth": 1
          },
          "coloraxis": {
           "colorbar": {
            "outlinewidth": 0,
            "ticks": ""
           }
          },
          "colorscale": {
           "diverging": [
            [
             0,
             "#8e0152"
            ],
            [
             0.1,
             "#c51b7d"
            ],
            [
             0.2,
             "#de77ae"
            ],
            [
             0.3,
             "#f1b6da"
            ],
            [
             0.4,
             "#fde0ef"
            ],
            [
             0.5,
             "#f7f7f7"
            ],
            [
             0.6,
             "#e6f5d0"
            ],
            [
             0.7,
             "#b8e186"
            ],
            [
             0.8,
             "#7fbc41"
            ],
            [
             0.9,
             "#4d9221"
            ],
            [
             1,
             "#276419"
            ]
           ],
           "sequential": [
            [
             0,
             "#0d0887"
            ],
            [
             0.1111111111111111,
             "#46039f"
            ],
            [
             0.2222222222222222,
             "#7201a8"
            ],
            [
             0.3333333333333333,
             "#9c179e"
            ],
            [
             0.4444444444444444,
             "#bd3786"
            ],
            [
             0.5555555555555556,
             "#d8576b"
            ],
            [
             0.6666666666666666,
             "#ed7953"
            ],
            [
             0.7777777777777778,
             "#fb9f3a"
            ],
            [
             0.8888888888888888,
             "#fdca26"
            ],
            [
             1,
             "#f0f921"
            ]
           ],
           "sequentialminus": [
            [
             0,
             "#0d0887"
            ],
            [
             0.1111111111111111,
             "#46039f"
            ],
            [
             0.2222222222222222,
             "#7201a8"
            ],
            [
             0.3333333333333333,
             "#9c179e"
            ],
            [
             0.4444444444444444,
             "#bd3786"
            ],
            [
             0.5555555555555556,
             "#d8576b"
            ],
            [
             0.6666666666666666,
             "#ed7953"
            ],
            [
             0.7777777777777778,
             "#fb9f3a"
            ],
            [
             0.8888888888888888,
             "#fdca26"
            ],
            [
             1,
             "#f0f921"
            ]
           ]
          },
          "colorway": [
           "#636efa",
           "#EF553B",
           "#00cc96",
           "#ab63fa",
           "#FFA15A",
           "#19d3f3",
           "#FF6692",
           "#B6E880",
           "#FF97FF",
           "#FECB52"
          ],
          "font": {
           "color": "#2a3f5f"
          },
          "geo": {
           "bgcolor": "white",
           "lakecolor": "white",
           "landcolor": "#E5ECF6",
           "showlakes": true,
           "showland": true,
           "subunitcolor": "white"
          },
          "hoverlabel": {
           "align": "left"
          },
          "hovermode": "closest",
          "mapbox": {
           "style": "light"
          },
          "paper_bgcolor": "white",
          "plot_bgcolor": "#E5ECF6",
          "polar": {
           "angularaxis": {
            "gridcolor": "white",
            "linecolor": "white",
            "ticks": ""
           },
           "bgcolor": "#E5ECF6",
           "radialaxis": {
            "gridcolor": "white",
            "linecolor": "white",
            "ticks": ""
           }
          },
          "scene": {
           "xaxis": {
            "backgroundcolor": "#E5ECF6",
            "gridcolor": "white",
            "gridwidth": 2,
            "linecolor": "white",
            "showbackground": true,
            "ticks": "",
            "zerolinecolor": "white"
           },
           "yaxis": {
            "backgroundcolor": "#E5ECF6",
            "gridcolor": "white",
            "gridwidth": 2,
            "linecolor": "white",
            "showbackground": true,
            "ticks": "",
            "zerolinecolor": "white"
           },
           "zaxis": {
            "backgroundcolor": "#E5ECF6",
            "gridcolor": "white",
            "gridwidth": 2,
            "linecolor": "white",
            "showbackground": true,
            "ticks": "",
            "zerolinecolor": "white"
           }
          },
          "shapedefaults": {
           "line": {
            "color": "#2a3f5f"
           }
          },
          "ternary": {
           "aaxis": {
            "gridcolor": "white",
            "linecolor": "white",
            "ticks": ""
           },
           "baxis": {
            "gridcolor": "white",
            "linecolor": "white",
            "ticks": ""
           },
           "bgcolor": "#E5ECF6",
           "caxis": {
            "gridcolor": "white",
            "linecolor": "white",
            "ticks": ""
           }
          },
          "title": {
           "x": 0.05
          },
          "xaxis": {
           "automargin": true,
           "gridcolor": "white",
           "linecolor": "white",
           "ticks": "",
           "title": {
            "standoff": 15
           },
           "zerolinecolor": "white",
           "zerolinewidth": 2
          },
          "yaxis": {
           "automargin": true,
           "gridcolor": "white",
           "linecolor": "white",
           "ticks": "",
           "title": {
            "standoff": 15
           },
           "zerolinecolor": "white",
           "zerolinewidth": 2
          }
         }
        },
        "title": {
         "text": "Explained variance by different principal components"
        },
        "width": 1200,
        "yaxis": {
         "title": {
          "text": "Explained variance in percent"
         }
        }
       }
      },
      "text/html": [
       "<div>\n",
       "        \n",
       "        \n",
       "            <div id=\"51bfc326-7a00-4746-8c97-97d05656e07b\" class=\"plotly-graph-div\" style=\"height:500px; width:1200px;\"></div>\n",
       "            <script type=\"text/javascript\">\n",
       "                require([\"plotly\"], function(Plotly) {\n",
       "                    window.PLOTLYENV=window.PLOTLYENV || {};\n",
       "                    \n",
       "                if (document.getElementById(\"51bfc326-7a00-4746-8c97-97d05656e07b\")) {\n",
       "                    Plotly.newPlot(\n",
       "                        '51bfc326-7a00-4746-8c97-97d05656e07b',\n",
       "                        [{\"name\": \"Individual\", \"type\": \"bar\", \"x\": [\"PC 1\", \"PC 2\", \"PC 3\", \"PC 4\", \"PC 5\", \"PC 6\", \"PC 7\"], \"y\": [0.9973415662585478, 0.0013730638309910521, 0.0011144365381332815, 0.000112893380072994, 2.211866258801657e-05, 1.2369433775811548e-05, 1.0174558342263843e-05, 3.5834636557897228e-06, 3.4908120803562408e-06, 2.1819168190810457e-06, 7.344922772152792e-07, 5.685336612274799e-07, 4.6168077449260365e-07, 4.065581047092531e-07, 3.4612885853376096e-07, 2.6304698828448676e-07, 2.54358053022245e-07, 2.2167688349067058e-07, 1.9356489486130756e-07, 1.4750271645270575e-07, 1.2012766716740083e-07, 8.506468082050031e-08, 7.193660612740247e-08, 6.645453011454748e-08, 5.819996991866473e-08, 5.600730646478408e-08, 4.903123729039989e-08, 1.677978310484701e-08]}, {\"name\": \"Cumulative\", \"type\": \"scatter\", \"x\": [\"PC 1\", \"PC 2\", \"PC 3\", \"PC 4\", \"PC 5\", \"PC 6\", \"PC 7\"], \"y\": [0.9973415662585478, 0.9987146300895388, 0.999829066627672, 0.9999419600077449, 0.999964078670333, 0.9999764481041089, 0.9999866226624512, 0.999990206126107, 0.9999936969381873, 0.9999958788550063, 0.9999966133472835, 0.9999971818809448, 0.9999976435617193, 0.999998050119824, 0.9999983962486826, 0.9999986592956708, 0.9999989136537238, 0.9999991353306074, 0.9999993288955022, 0.9999994763982187, 0.9999995965258859, 0.9999996815905666, 0.9999997535271729, 0.999999819981703, 0.9999998781816729, 0.9999999341889794, 0.9999999832202167, 0.9999999999999999]}],\n",
       "                        {\"annotations\": [{\"showarrow\": false, \"text\": \"Explained Variance\", \"x\": 1.16, \"xref\": \"paper\", \"y\": 1.05, \"yref\": \"paper\"}], \"height\": 500, \"template\": {\"data\": {\"bar\": [{\"error_x\": {\"color\": \"#2a3f5f\"}, \"error_y\": {\"color\": \"#2a3f5f\"}, \"marker\": {\"line\": {\"color\": \"#E5ECF6\", \"width\": 0.5}}, \"type\": \"bar\"}], \"barpolar\": [{\"marker\": {\"line\": {\"color\": \"#E5ECF6\", \"width\": 0.5}}, \"type\": \"barpolar\"}], \"carpet\": [{\"aaxis\": {\"endlinecolor\": \"#2a3f5f\", \"gridcolor\": \"white\", \"linecolor\": \"white\", \"minorgridcolor\": \"white\", \"startlinecolor\": \"#2a3f5f\"}, \"baxis\": {\"endlinecolor\": \"#2a3f5f\", \"gridcolor\": \"white\", \"linecolor\": \"white\", \"minorgridcolor\": \"white\", \"startlinecolor\": \"#2a3f5f\"}, \"type\": \"carpet\"}], \"choropleth\": [{\"colorbar\": {\"outlinewidth\": 0, \"ticks\": \"\"}, \"type\": \"choropleth\"}], \"contour\": [{\"colorbar\": {\"outlinewidth\": 0, \"ticks\": \"\"}, \"colorscale\": [[0.0, \"#0d0887\"], [0.1111111111111111, \"#46039f\"], [0.2222222222222222, \"#7201a8\"], [0.3333333333333333, \"#9c179e\"], [0.4444444444444444, \"#bd3786\"], [0.5555555555555556, \"#d8576b\"], [0.6666666666666666, \"#ed7953\"], [0.7777777777777778, \"#fb9f3a\"], [0.8888888888888888, \"#fdca26\"], [1.0, \"#f0f921\"]], \"type\": \"contour\"}], \"contourcarpet\": [{\"colorbar\": {\"outlinewidth\": 0, \"ticks\": \"\"}, \"type\": \"contourcarpet\"}], \"heatmap\": [{\"colorbar\": {\"outlinewidth\": 0, \"ticks\": \"\"}, \"colorscale\": [[0.0, \"#0d0887\"], [0.1111111111111111, \"#46039f\"], [0.2222222222222222, \"#7201a8\"], [0.3333333333333333, \"#9c179e\"], [0.4444444444444444, \"#bd3786\"], [0.5555555555555556, \"#d8576b\"], [0.6666666666666666, \"#ed7953\"], [0.7777777777777778, \"#fb9f3a\"], [0.8888888888888888, \"#fdca26\"], [1.0, \"#f0f921\"]], \"type\": \"heatmap\"}], \"heatmapgl\": [{\"colorbar\": {\"outlinewidth\": 0, \"ticks\": \"\"}, \"colorscale\": [[0.0, \"#0d0887\"], [0.1111111111111111, \"#46039f\"], [0.2222222222222222, \"#7201a8\"], [0.3333333333333333, \"#9c179e\"], [0.4444444444444444, \"#bd3786\"], [0.5555555555555556, \"#d8576b\"], [0.6666666666666666, \"#ed7953\"], [0.7777777777777778, \"#fb9f3a\"], [0.8888888888888888, \"#fdca26\"], [1.0, \"#f0f921\"]], \"type\": \"heatmapgl\"}], \"histogram\": [{\"marker\": {\"colorbar\": {\"outlinewidth\": 0, \"ticks\": \"\"}}, \"type\": \"histogram\"}], \"histogram2d\": [{\"colorbar\": {\"outlinewidth\": 0, \"ticks\": \"\"}, \"colorscale\": [[0.0, \"#0d0887\"], [0.1111111111111111, \"#46039f\"], [0.2222222222222222, \"#7201a8\"], [0.3333333333333333, \"#9c179e\"], [0.4444444444444444, \"#bd3786\"], [0.5555555555555556, \"#d8576b\"], [0.6666666666666666, \"#ed7953\"], [0.7777777777777778, \"#fb9f3a\"], [0.8888888888888888, \"#fdca26\"], [1.0, \"#f0f921\"]], \"type\": \"histogram2d\"}], \"histogram2dcontour\": [{\"colorbar\": {\"outlinewidth\": 0, \"ticks\": \"\"}, \"colorscale\": [[0.0, \"#0d0887\"], [0.1111111111111111, \"#46039f\"], [0.2222222222222222, \"#7201a8\"], [0.3333333333333333, \"#9c179e\"], [0.4444444444444444, \"#bd3786\"], [0.5555555555555556, \"#d8576b\"], [0.6666666666666666, \"#ed7953\"], [0.7777777777777778, \"#fb9f3a\"], [0.8888888888888888, \"#fdca26\"], [1.0, \"#f0f921\"]], \"type\": \"histogram2dcontour\"}], \"mesh3d\": [{\"colorbar\": {\"outlinewidth\": 0, \"ticks\": \"\"}, \"type\": \"mesh3d\"}], \"parcoords\": [{\"line\": {\"colorbar\": {\"outlinewidth\": 0, \"ticks\": \"\"}}, \"type\": \"parcoords\"}], \"pie\": [{\"automargin\": true, \"type\": \"pie\"}], \"scatter\": [{\"marker\": {\"colorbar\": {\"outlinewidth\": 0, \"ticks\": \"\"}}, \"type\": \"scatter\"}], \"scatter3d\": [{\"line\": {\"colorbar\": {\"outlinewidth\": 0, \"ticks\": \"\"}}, \"marker\": {\"colorbar\": {\"outlinewidth\": 0, \"ticks\": \"\"}}, \"type\": \"scatter3d\"}], \"scattercarpet\": [{\"marker\": {\"colorbar\": {\"outlinewidth\": 0, \"ticks\": \"\"}}, \"type\": \"scattercarpet\"}], \"scattergeo\": [{\"marker\": {\"colorbar\": {\"outlinewidth\": 0, \"ticks\": \"\"}}, \"type\": \"scattergeo\"}], \"scattergl\": [{\"marker\": {\"colorbar\": {\"outlinewidth\": 0, \"ticks\": \"\"}}, \"type\": \"scattergl\"}], \"scattermapbox\": [{\"marker\": {\"colorbar\": {\"outlinewidth\": 0, \"ticks\": \"\"}}, \"type\": \"scattermapbox\"}], \"scatterpolar\": [{\"marker\": {\"colorbar\": {\"outlinewidth\": 0, \"ticks\": \"\"}}, \"type\": \"scatterpolar\"}], \"scatterpolargl\": [{\"marker\": {\"colorbar\": {\"outlinewidth\": 0, \"ticks\": \"\"}}, \"type\": \"scatterpolargl\"}], \"scatterternary\": [{\"marker\": {\"colorbar\": {\"outlinewidth\": 0, \"ticks\": \"\"}}, \"type\": \"scatterternary\"}], \"surface\": [{\"colorbar\": {\"outlinewidth\": 0, \"ticks\": \"\"}, \"colorscale\": [[0.0, \"#0d0887\"], [0.1111111111111111, \"#46039f\"], [0.2222222222222222, \"#7201a8\"], [0.3333333333333333, \"#9c179e\"], [0.4444444444444444, \"#bd3786\"], [0.5555555555555556, \"#d8576b\"], [0.6666666666666666, \"#ed7953\"], [0.7777777777777778, \"#fb9f3a\"], [0.8888888888888888, \"#fdca26\"], [1.0, \"#f0f921\"]], \"type\": \"surface\"}], \"table\": [{\"cells\": {\"fill\": {\"color\": \"#EBF0F8\"}, \"line\": {\"color\": \"white\"}}, \"header\": {\"fill\": {\"color\": \"#C8D4E3\"}, \"line\": {\"color\": \"white\"}}, \"type\": \"table\"}]}, \"layout\": {\"annotationdefaults\": {\"arrowcolor\": \"#2a3f5f\", \"arrowhead\": 0, \"arrowwidth\": 1}, \"coloraxis\": {\"colorbar\": {\"outlinewidth\": 0, \"ticks\": \"\"}}, \"colorscale\": {\"diverging\": [[0, \"#8e0152\"], [0.1, \"#c51b7d\"], [0.2, \"#de77ae\"], [0.3, \"#f1b6da\"], [0.4, \"#fde0ef\"], [0.5, \"#f7f7f7\"], [0.6, \"#e6f5d0\"], [0.7, \"#b8e186\"], [0.8, \"#7fbc41\"], [0.9, \"#4d9221\"], [1, \"#276419\"]], \"sequential\": [[0.0, \"#0d0887\"], [0.1111111111111111, \"#46039f\"], [0.2222222222222222, \"#7201a8\"], [0.3333333333333333, \"#9c179e\"], [0.4444444444444444, \"#bd3786\"], [0.5555555555555556, \"#d8576b\"], [0.6666666666666666, \"#ed7953\"], [0.7777777777777778, \"#fb9f3a\"], [0.8888888888888888, \"#fdca26\"], [1.0, \"#f0f921\"]], \"sequentialminus\": [[0.0, \"#0d0887\"], [0.1111111111111111, \"#46039f\"], [0.2222222222222222, \"#7201a8\"], [0.3333333333333333, \"#9c179e\"], [0.4444444444444444, \"#bd3786\"], [0.5555555555555556, \"#d8576b\"], [0.6666666666666666, \"#ed7953\"], [0.7777777777777778, \"#fb9f3a\"], [0.8888888888888888, \"#fdca26\"], [1.0, \"#f0f921\"]]}, \"colorway\": [\"#636efa\", \"#EF553B\", \"#00cc96\", \"#ab63fa\", \"#FFA15A\", \"#19d3f3\", \"#FF6692\", \"#B6E880\", \"#FF97FF\", \"#FECB52\"], \"font\": {\"color\": \"#2a3f5f\"}, \"geo\": {\"bgcolor\": \"white\", \"lakecolor\": \"white\", \"landcolor\": \"#E5ECF6\", \"showlakes\": true, \"showland\": true, \"subunitcolor\": \"white\"}, \"hoverlabel\": {\"align\": \"left\"}, \"hovermode\": \"closest\", \"mapbox\": {\"style\": \"light\"}, \"paper_bgcolor\": \"white\", \"plot_bgcolor\": \"#E5ECF6\", \"polar\": {\"angularaxis\": {\"gridcolor\": \"white\", \"linecolor\": \"white\", \"ticks\": \"\"}, \"bgcolor\": \"#E5ECF6\", \"radialaxis\": {\"gridcolor\": \"white\", \"linecolor\": \"white\", \"ticks\": \"\"}}, \"scene\": {\"xaxis\": {\"backgroundcolor\": \"#E5ECF6\", \"gridcolor\": \"white\", \"gridwidth\": 2, \"linecolor\": \"white\", \"showbackground\": true, \"ticks\": \"\", \"zerolinecolor\": \"white\"}, \"yaxis\": {\"backgroundcolor\": \"#E5ECF6\", \"gridcolor\": \"white\", \"gridwidth\": 2, \"linecolor\": \"white\", \"showbackground\": true, \"ticks\": \"\", \"zerolinecolor\": \"white\"}, \"zaxis\": {\"backgroundcolor\": \"#E5ECF6\", \"gridcolor\": \"white\", \"gridwidth\": 2, \"linecolor\": \"white\", \"showbackground\": true, \"ticks\": \"\", \"zerolinecolor\": \"white\"}}, \"shapedefaults\": {\"line\": {\"color\": \"#2a3f5f\"}}, \"ternary\": {\"aaxis\": {\"gridcolor\": \"white\", \"linecolor\": \"white\", \"ticks\": \"\"}, \"baxis\": {\"gridcolor\": \"white\", \"linecolor\": \"white\", \"ticks\": \"\"}, \"bgcolor\": \"#E5ECF6\", \"caxis\": {\"gridcolor\": \"white\", \"linecolor\": \"white\", \"ticks\": \"\"}}, \"title\": {\"x\": 0.05}, \"xaxis\": {\"automargin\": true, \"gridcolor\": \"white\", \"linecolor\": \"white\", \"ticks\": \"\", \"title\": {\"standoff\": 15}, \"zerolinecolor\": \"white\", \"zerolinewidth\": 2}, \"yaxis\": {\"automargin\": true, \"gridcolor\": \"white\", \"linecolor\": \"white\", \"ticks\": \"\", \"title\": {\"standoff\": 15}, \"zerolinecolor\": \"white\", \"zerolinewidth\": 2}}}, \"title\": {\"text\": \"Explained variance by different principal components\"}, \"width\": 1200, \"yaxis\": {\"title\": {\"text\": \"Explained variance in percent\"}}},\n",
       "                        {\"responsive\": true}\n",
       "                    ).then(function(){\n",
       "                            \n",
       "var gd = document.getElementById('51bfc326-7a00-4746-8c97-97d05656e07b');\n",
       "var x = new MutationObserver(function (mutations, observer) {{\n",
       "        var display = window.getComputedStyle(gd).display;\n",
       "        if (!display || display === 'none') {{\n",
       "            console.log([gd, 'removed!']);\n",
       "            Plotly.purge(gd);\n",
       "            observer.disconnect();\n",
       "        }}\n",
       "}});\n",
       "\n",
       "// Listen for the removal of the full notebook cells\n",
       "var notebookContainer = gd.closest('#notebook-container');\n",
       "if (notebookContainer) {{\n",
       "    x.observe(notebookContainer, {childList: true});\n",
       "}}\n",
       "\n",
       "// Listen for the clearing of the current output cell\n",
       "var outputEl = gd.closest('.output');\n",
       "if (outputEl) {{\n",
       "    x.observe(outputEl, {childList: true});\n",
       "}}\n",
       "\n",
       "                        })\n",
       "                };\n",
       "                });\n",
       "            </script>\n",
       "        </div>"
      ]
     },
     "metadata": {},
     "output_type": "display_data"
    },
    {
     "data": {
      "text/plain": [
       "<Figure size 432x288 with 0 Axes>"
      ]
     },
     "metadata": {},
     "output_type": "display_data"
    }
   ],
   "source": [
    "# PCA object will fit a PCA for us\n",
    "pca_bank = PCA()\n",
    "Z=pca_bank.fit_transform(flights_PCA)\n",
    "#pca_bank.explained_variance_ratio_\n",
    "#pca_bank.explained_variance_.astype(int)\n",
    "#Looks like 3 principal components are relevant (eigen value over 1)\n",
    "#tot = sum(pca_bank.explained_variance_)\n",
    "var_exp=pca_bank.explained_variance_/np.sum(pca_bank.explained_variance_)\n",
    "cum_var_exp = np.cumsum(pca_bank.explained_variance_)/np.sum(pca_bank.explained_variance_)\n",
    "#cum_var_exp = np.cumsum(var_exp)\n",
    "trace1 = dict(\n",
    "    type='bar',\n",
    "    x=['PC %s' %i for i in range(1,8)],\n",
    "    y=var_exp,\n",
    "    name='Individual'\n",
    ")\n",
    "trace2 = dict(\n",
    "    type='scatter',\n",
    "    x=['PC %s' %i for i in range(1,8)], \n",
    "    y=cum_var_exp,\n",
    "    name='Cumulative'\n",
    ")\n",
    "data = [trace1, trace2]\n",
    "layout=dict(\n",
    "    title='Explained variance by different principal components',\n",
    "    yaxis=dict(\n",
    "        title='Explained variance in percent'\n",
    "    ),\n",
    "    width=1200, \n",
    "    height=500,\n",
    "    annotations=list([\n",
    "        dict(\n",
    "            x=1.16,\n",
    "            y=1.05,\n",
    "            xref='paper',\n",
    "            yref='paper',\n",
    "            text='Explained Variance',\n",
    "            showarrow=False,\n",
    "        )\n",
    "    ])\n",
    ")\n",
    "fig = go.Figure(data=data,layout=layout)\n",
    "fig.show()\n",
    "\n",
    "plt.savefig('/mnt/d/lighthouse/Midterm/visualization/model_2_PCA.png')"
   ]
  },
  {
   "cell_type": "code",
   "execution_count": 21,
   "metadata": {},
   "outputs": [],
   "source": [
    "#flights_2_PCA.to_csv('/mnt/d/lighthouse/Midterm_data/model_2_PCA.csv')"
   ]
  },
  {
   "cell_type": "markdown",
   "metadata": {},
   "source": [
    "### Train test split"
   ]
  },
  {
   "cell_type": "code",
   "execution_count": 24,
   "metadata": {},
   "outputs": [],
   "source": [
    "flights_final = pd.read_csv(data_path + 'model_weather_traffic.csv', header = 0)\n",
    "flights_final.drop('Unnamed: 0', axis = 1, inplace = True)"
   ]
  },
  {
   "cell_type": "code",
   "execution_count": 35,
   "metadata": {},
   "outputs": [],
   "source": [
    "flights_final.dropna(inplace = True)"
   ]
  },
  {
   "cell_type": "code",
   "execution_count": 36,
   "metadata": {},
   "outputs": [
    {
     "data": {
      "text/plain": [
       "(15611137, 38)"
      ]
     },
     "execution_count": 36,
     "metadata": {},
     "output_type": "execute_result"
    }
   ],
   "source": [
    "flights_final.shape"
   ]
  },
  {
   "cell_type": "code",
   "execution_count": 30,
   "metadata": {},
   "outputs": [],
   "source": [
    "# Not PCA\n",
    "#X = flights_final.drop(['arr_delay','dep_delay', 'arr_time', 'mkt_unique_carrier', 'tail_num','maxt','mint','dew','mean_tail_num_dep_delay','mean_carrier__dep_delay'], axis = 1)\n",
    "#y = flights_final['arr_delay']"
   ]
  },
  {
   "cell_type": "code",
   "execution_count": 43,
   "metadata": {},
   "outputs": [],
   "source": [
    "# PCA\n",
    "X = flights_15_PCA\n",
    "y = flights_final['arr_delay']"
   ]
  },
  {
   "cell_type": "code",
   "execution_count": 45,
   "metadata": {},
   "outputs": [],
   "source": [
    "X_train, X_test, y_train, y_test = train_test_split(X,y, test_size=0.3)"
   ]
  },
  {
   "cell_type": "markdown",
   "metadata": {},
   "source": [
    "### XGboost"
   ]
  },
  {
   "cell_type": "code",
   "execution_count": 48,
   "metadata": {},
   "outputs": [],
   "source": [
    "xg_reg = xgb.XGBRegressor(objective ='reg:squarederror',booster='gbtree', colsample_bytree = 0.3, learning_rate = 0.1,\n",
    "                max_depth = 10, alpha = 10, n_estimators = 100)"
   ]
  },
  {
   "cell_type": "code",
   "execution_count": 49,
   "metadata": {},
   "outputs": [
    {
     "name": "stdout",
     "output_type": "stream",
     "text": [
      "[23:04:44] WARNING: /workspace/src/gbm/gbtree.cc:139: Tree method is automatically selected to be 'approx' for faster speed. To use old behavior (exact greedy algorithm on single machine), set tree_method to 'exact'.\n"
     ]
    },
    {
     "data": {
      "text/plain": [
       "XGBRegressor(alpha=10, base_score=0.5, booster='gbtree', colsample_bylevel=1,\n",
       "             colsample_bynode=1, colsample_bytree=0.3, gamma=0, gpu_id=-1,\n",
       "             importance_type='gain', interaction_constraints='',\n",
       "             learning_rate=0.1, max_delta_step=0, max_depth=10,\n",
       "             min_child_weight=1, missing=nan, monotone_constraints='()',\n",
       "             n_estimators=100, n_jobs=0, num_parallel_tree=1, random_state=0,\n",
       "             reg_alpha=10, reg_lambda=1, scale_pos_weight=1, subsample=1,\n",
       "             tree_method='approx', validate_parameters=1, verbosity=None)"
      ]
     },
     "execution_count": 49,
     "metadata": {},
     "output_type": "execute_result"
    }
   ],
   "source": [
    "xg_reg.fit(X_train,y_train)"
   ]
  },
  {
   "cell_type": "code",
   "execution_count": 50,
   "metadata": {},
   "outputs": [],
   "source": [
    "preds = xg_reg.predict(X_test)"
   ]
  },
  {
   "cell_type": "code",
   "execution_count": 51,
   "metadata": {},
   "outputs": [
    {
     "name": "stdout",
     "output_type": "stream",
     "text": [
      "RMSE: 0.977500\n"
     ]
    }
   ],
   "source": [
    "rmse = np.sqrt(mean_squared_error(y_test, preds))\n",
    "print(\"RMSE: %f\" % (rmse))"
   ]
  },
  {
   "cell_type": "code",
   "execution_count": null,
   "metadata": {},
   "outputs": [],
   "source": []
  }
 ],
 "metadata": {
  "kernelspec": {
   "display_name": "Python 3",
   "language": "python",
   "name": "python3"
  },
  "language_info": {
   "codemirror_mode": {
    "name": "ipython",
    "version": 3
   },
   "file_extension": ".py",
   "mimetype": "text/x-python",
   "name": "python",
   "nbconvert_exporter": "python",
   "pygments_lexer": "ipython3",
   "version": "3.8.2"
  }
 },
 "nbformat": 4,
 "nbformat_minor": 4
}
