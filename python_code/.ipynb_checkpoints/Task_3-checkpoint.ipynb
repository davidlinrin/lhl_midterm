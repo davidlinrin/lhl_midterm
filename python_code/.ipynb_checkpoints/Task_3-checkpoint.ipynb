{
 "cells": [
  {
   "cell_type": "markdown",
   "metadata": {},
   "source": [
    "### Task 3: Does the weather affect the delay?\n",
    "Use the API to pull the weather information for flights. There is no need to get weather for ALL flights. We can choose the right representative sample. Let's focus on four weather types:\n",
    "\n",
    "- sunny\n",
    "- cloudy\n",
    "- rainy\n",
    "- snow. \n",
    "\n",
    "Test the hypothesis that these 4 delays are from the same distribution. If they are not, which ones are significantly different?"
   ]
  },
  {
   "cell_type": "code",
   "execution_count": 262,
   "metadata": {},
   "outputs": [],
   "source": [
    "import os\n",
    "import requests as re\n",
    "import json\n",
    "#### #Data management and manipulation ####\n",
    "import pandas as pd # import pandas\n",
    "import numpy as np # import numpy\n",
    "from matplotlib import pyplot\n",
    "import seaborn as sns\n",
    "import matplotlib.pyplot as plt\n",
    "from datetime import datetime, timedelta\n",
    "from datetime import timezone"
   ]
  },
  {
   "cell_type": "code",
   "execution_count": 263,
   "metadata": {},
   "outputs": [],
   "source": [
    "api_key = os.environ['VISUAL_CROSSING_API_KEY']"
   ]
  },
  {
   "cell_type": "raw",
   "metadata": {},
   "source": [
    "SAMPLE URL for VISUAL CROSSINGS API (WEATHER)\n",
    "\n",
    "https://weather.visualcrossing.com/VisualCrossingWebServices/rest/services/weatherdata/history?&aggregateHours=24&startDateTime=2019-06-13T00:00:00&endDateTime=2019-06-20T00:00:00&unitGroup=uk&contentType=csv&dayStartTime=0:0:00&dayEndTime=0:0:00&location=Sterling,VA,US&key=YOURAPIKEY\n",
    "\n",
    "location – The address or latitude or longitude of the location. Addresses can be specified as full addresses. The system will also attempt to match partial addresses such as city, state, zip code, postal code and other common formats. When specify a point based on longitude, latitude, the format must be specified as latitude,longitude where both latitude and longitude are in decimal degrees. latitude should run from -90 to 90 and longitude from -180 to 180 (with 0 being at the prime meridian through London, UK)."
   ]
  },
  {
   "cell_type": "code",
   "execution_count": null,
   "metadata": {},
   "outputs": [],
   "source": []
  },
  {
   "cell_type": "code",
   "execution_count": 264,
   "metadata": {},
   "outputs": [],
   "source": [
    "import pandas as pd\n",
    "import numpy as np\n",
    "import matplotlib.pyplot as plt\n",
    "\n",
    "from sklearn.preprocessing import StandardScaler\n",
    "from sklearn.decomposition import PCA\n",
    "from sklearn.preprocessing import LabelEncoder\n",
    "from sklearn import metrics\n",
    "from sklearn import preprocessing\n",
    "from sklearn.feature_selection import VarianceThreshold\n",
    "from sklearn.feature_selection import f_regression, SelectKBest\n",
    "from sklearn.cluster import DBSCAN\n",
    "from sklearn.cluster import KMeans\n",
    "from sklearn.linear_model import LinearRegression\n",
    "\n",
    "import statsmodels.api as sm\n",
    "from statsmodels.formula.api import ols\n",
    "from statsmodels.stats.multicomp import pairwise_tukeyhsd, MultiComparison\n",
    "\n",
    "import copy\n",
    "import seaborn as sns\n",
    "import os\n",
    "from scipy import stats\n",
    "import datetime\n",
    "\n",
    "%matplotlib inline"
   ]
  },
  {
   "cell_type": "code",
   "execution_count": 265,
   "metadata": {},
   "outputs": [],
   "source": [
    "path='/Users/carlyfennell/DataScience/data_bootcamp/data/'"
   ]
  },
  {
   "cell_type": "code",
   "execution_count": 266,
   "metadata": {},
   "outputs": [
    {
     "name": "stderr",
     "output_type": "stream",
     "text": [
      "/opt/anaconda3/envs/bootcamp_env/lib/python3.7/site-packages/IPython/core/interactiveshell.py:3072: DtypeWarning: Columns (25) have mixed types.Specify dtype option on import or set low_memory=False.\n",
      "  interactivity=interactivity, compiler=compiler, result=result)\n"
     ]
    }
   ],
   "source": [
    "df_flights=pd.read_csv(path+'flights.csv')"
   ]
  },
  {
   "cell_type": "code",
   "execution_count": 267,
   "metadata": {},
   "outputs": [
    {
     "data": {
      "text/plain": [
       "(15927485, 42)"
      ]
     },
     "execution_count": 267,
     "metadata": {},
     "output_type": "execute_result"
    }
   ],
   "source": [
    "df_flights.shape"
   ]
  },
  {
   "cell_type": "code",
   "execution_count": 268,
   "metadata": {},
   "outputs": [
    {
     "data": {
      "text/plain": [
       "Index(['fl_date', 'mkt_unique_carrier', 'branded_code_share', 'mkt_carrier',\n",
       "       'mkt_carrier_fl_num', 'op_unique_carrier', 'tail_num',\n",
       "       'op_carrier_fl_num', 'origin_airport_id', 'origin', 'origin_city_name',\n",
       "       'dest_airport_id', 'dest', 'dest_city_name', 'crs_dep_time', 'dep_time',\n",
       "       'dep_delay', 'taxi_out', 'wheels_off', 'wheels_on', 'taxi_in',\n",
       "       'crs_arr_time', 'arr_time', 'arr_delay', 'cancelled',\n",
       "       'cancellation_code', 'diverted', 'dup', 'crs_elapsed_time',\n",
       "       'actual_elapsed_time', 'air_time', 'flights', 'distance',\n",
       "       'carrier_delay', 'weather_delay', 'nas_delay', 'security_delay',\n",
       "       'late_aircraft_delay', 'first_dep_time', 'total_add_gtime',\n",
       "       'longest_add_gtime', 'no_name'],\n",
       "      dtype='object')"
      ]
     },
     "execution_count": 268,
     "metadata": {},
     "output_type": "execute_result"
    }
   ],
   "source": [
    "df_flights.columns"
   ]
  },
  {
   "cell_type": "code",
   "execution_count": 269,
   "metadata": {},
   "outputs": [
    {
     "data": {
      "text/plain": [
       "array([0, 1])"
      ]
     },
     "execution_count": 269,
     "metadata": {},
     "output_type": "execute_result"
    }
   ],
   "source": [
    "df_flights['cancelled'].unique()"
   ]
  },
  {
   "cell_type": "code",
   "execution_count": 270,
   "metadata": {},
   "outputs": [
    {
     "data": {
      "text/plain": [
       "<matplotlib.axes._subplots.AxesSubplot at 0x7fe57bba9650>"
      ]
     },
     "execution_count": 270,
     "metadata": {},
     "output_type": "execute_result"
    },
    {
     "data": {
      "image/png": "[encoded data removed]",
      "text/plain": [
       "<Figure size 432x288 with 1 Axes>"
      ]
     },
     "metadata": {
      "needs_background": "light"
     },
     "output_type": "display_data"
    }
   ],
   "source": [
    "sns.countplot(df_flights['cancelled'])"
   ]
  },
  {
   "cell_type": "code",
   "execution_count": 9,
   "metadata": {},
   "outputs": [],
   "source": [
    "# #### MISSING DATA ####\n",
    "# df_flights.isna().sum()"
   ]
  },
  {
   "cell_type": "code",
   "execution_count": 10,
   "metadata": {},
   "outputs": [
    {
     "data": {
      "text/html": [
       "<div>\n",
       "<style scoped>\n",
       "    .dataframe tbody tr th:only-of-type {\n",
       "        vertical-align: middle;\n",
       "    }\n",
       "\n",
       "    .dataframe tbody tr th {\n",
       "        vertical-align: top;\n",
       "    }\n",
       "\n",
       "    .dataframe thead th {\n",
       "        text-align: right;\n",
       "    }\n",
       "</style>\n",
       "<table border=\"1\" class=\"dataframe\">\n",
       "  <thead>\n",
       "    <tr style=\"text-align: right;\">\n",
       "      <th></th>\n",
       "      <th>Total</th>\n",
       "      <th>Percent</th>\n",
       "    </tr>\n",
       "  </thead>\n",
       "  <tbody>\n",
       "    <tr>\n",
       "      <th>no_name</th>\n",
       "      <td>15927485</td>\n",
       "      <td>1.000000</td>\n",
       "    </tr>\n",
       "    <tr>\n",
       "      <th>total_add_gtime</th>\n",
       "      <td>15818552</td>\n",
       "      <td>0.993161</td>\n",
       "    </tr>\n",
       "    <tr>\n",
       "      <th>longest_add_gtime</th>\n",
       "      <td>15818549</td>\n",
       "      <td>0.993161</td>\n",
       "    </tr>\n",
       "    <tr>\n",
       "      <th>first_dep_time</th>\n",
       "      <td>15818547</td>\n",
       "      <td>0.993160</td>\n",
       "    </tr>\n",
       "    <tr>\n",
       "      <th>cancellation_code</th>\n",
       "      <td>15658277</td>\n",
       "      <td>0.983098</td>\n",
       "    </tr>\n",
       "    <tr>\n",
       "      <th>late_aircraft_delay</th>\n",
       "      <td>12918001</td>\n",
       "      <td>0.811051</td>\n",
       "    </tr>\n",
       "    <tr>\n",
       "      <th>security_delay</th>\n",
       "      <td>12918001</td>\n",
       "      <td>0.811051</td>\n",
       "    </tr>\n",
       "    <tr>\n",
       "      <th>nas_delay</th>\n",
       "      <td>12918001</td>\n",
       "      <td>0.811051</td>\n",
       "    </tr>\n",
       "    <tr>\n",
       "      <th>weather_delay</th>\n",
       "      <td>12918001</td>\n",
       "      <td>0.811051</td>\n",
       "    </tr>\n",
       "    <tr>\n",
       "      <th>carrier_delay</th>\n",
       "      <td>12918001</td>\n",
       "      <td>0.811051</td>\n",
       "    </tr>\n",
       "    <tr>\n",
       "      <th>air_time</th>\n",
       "      <td>315221</td>\n",
       "      <td>0.019791</td>\n",
       "    </tr>\n",
       "    <tr>\n",
       "      <th>arr_delay</th>\n",
       "      <td>311744</td>\n",
       "      <td>0.019573</td>\n",
       "    </tr>\n",
       "    <tr>\n",
       "      <th>actual_elapsed_time</th>\n",
       "      <td>309157</td>\n",
       "      <td>0.019410</td>\n",
       "    </tr>\n",
       "    <tr>\n",
       "      <th>taxi_in</th>\n",
       "      <td>281172</td>\n",
       "      <td>0.017653</td>\n",
       "    </tr>\n",
       "    <tr>\n",
       "      <th>wheels_on</th>\n",
       "      <td>281162</td>\n",
       "      <td>0.017653</td>\n",
       "    </tr>\n",
       "    <tr>\n",
       "      <th>arr_time</th>\n",
       "      <td>275079</td>\n",
       "      <td>0.017271</td>\n",
       "    </tr>\n",
       "    <tr>\n",
       "      <th>taxi_out</th>\n",
       "      <td>273274</td>\n",
       "      <td>0.017157</td>\n",
       "    </tr>\n",
       "    <tr>\n",
       "      <th>wheels_off</th>\n",
       "      <td>273264</td>\n",
       "      <td>0.017157</td>\n",
       "    </tr>\n",
       "    <tr>\n",
       "      <th>dep_delay</th>\n",
       "      <td>263754</td>\n",
       "      <td>0.016560</td>\n",
       "    </tr>\n",
       "    <tr>\n",
       "      <th>dep_time</th>\n",
       "      <td>258814</td>\n",
       "      <td>0.016250</td>\n",
       "    </tr>\n",
       "  </tbody>\n",
       "</table>\n",
       "</div>"
      ],
      "text/plain": [
       "                        Total   Percent\n",
       "no_name              15927485  1.000000\n",
       "total_add_gtime      15818552  0.993161\n",
       "longest_add_gtime    15818549  0.993161\n",
       "first_dep_time       15818547  0.993160\n",
       "cancellation_code    15658277  0.983098\n",
       "late_aircraft_delay  12918001  0.811051\n",
       "security_delay       12918001  0.811051\n",
       "nas_delay            12918001  0.811051\n",
       "weather_delay        12918001  0.811051\n",
       "carrier_delay        12918001  0.811051\n",
       "air_time               315221  0.019791\n",
       "arr_delay              311744  0.019573\n",
       "actual_elapsed_time    309157  0.019410\n",
       "taxi_in                281172  0.017653\n",
       "wheels_on              281162  0.017653\n",
       "arr_time               275079  0.017271\n",
       "taxi_out               273274  0.017157\n",
       "wheels_off             273264  0.017157\n",
       "dep_delay              263754  0.016560\n",
       "dep_time               258814  0.016250"
      ]
     },
     "execution_count": 10,
     "metadata": {},
     "output_type": "execute_result"
    }
   ],
   "source": [
    "\n",
    "# missing data\n",
    "total = df_flights.isnull().sum().sort_values(ascending=False)\n",
    "percent = (df_flights.isnull().sum()/df_flights.isnull().count()).sort_values(ascending=False)\n",
    "missing_data = pd.concat([total, percent], axis=1, keys=['Total', 'Percent'])\n",
    "missing_data.head(20)"
   ]
  },
  {
   "cell_type": "code",
   "execution_count": 271,
   "metadata": {},
   "outputs": [],
   "source": [
    "df_flights=df_flights.drop(['no_name','total_add_gtime','longest_add_gtime','first_dep_time','cancellation_code'],axis=1)"
   ]
  },
  {
   "cell_type": "code",
   "execution_count": 36,
   "metadata": {},
   "outputs": [
    {
     "data": {
      "text/html": [
       "<div>\n",
       "<style scoped>\n",
       "    .dataframe tbody tr th:only-of-type {\n",
       "        vertical-align: middle;\n",
       "    }\n",
       "\n",
       "    .dataframe tbody tr th {\n",
       "        vertical-align: top;\n",
       "    }\n",
       "\n",
       "    .dataframe thead th {\n",
       "        text-align: right;\n",
       "    }\n",
       "</style>\n",
       "<table border=\"1\" class=\"dataframe\">\n",
       "  <thead>\n",
       "    <tr style=\"text-align: right;\">\n",
       "      <th></th>\n",
       "      <th>Total</th>\n",
       "      <th>Percent</th>\n",
       "    </tr>\n",
       "  </thead>\n",
       "  <tbody>\n",
       "    <tr>\n",
       "      <th>late_aircraft_delay</th>\n",
       "      <td>12918001</td>\n",
       "      <td>0.811051</td>\n",
       "    </tr>\n",
       "    <tr>\n",
       "      <th>nas_delay</th>\n",
       "      <td>12918001</td>\n",
       "      <td>0.811051</td>\n",
       "    </tr>\n",
       "    <tr>\n",
       "      <th>weather_delay</th>\n",
       "      <td>12918001</td>\n",
       "      <td>0.811051</td>\n",
       "    </tr>\n",
       "    <tr>\n",
       "      <th>carrier_delay</th>\n",
       "      <td>12918001</td>\n",
       "      <td>0.811051</td>\n",
       "    </tr>\n",
       "    <tr>\n",
       "      <th>security_delay</th>\n",
       "      <td>12918001</td>\n",
       "      <td>0.811051</td>\n",
       "    </tr>\n",
       "    <tr>\n",
       "      <th>air_time</th>\n",
       "      <td>315221</td>\n",
       "      <td>0.019791</td>\n",
       "    </tr>\n",
       "    <tr>\n",
       "      <th>arr_delay</th>\n",
       "      <td>311744</td>\n",
       "      <td>0.019573</td>\n",
       "    </tr>\n",
       "    <tr>\n",
       "      <th>actual_elapsed_time</th>\n",
       "      <td>309157</td>\n",
       "      <td>0.019410</td>\n",
       "    </tr>\n",
       "    <tr>\n",
       "      <th>taxi_in</th>\n",
       "      <td>281172</td>\n",
       "      <td>0.017653</td>\n",
       "    </tr>\n",
       "    <tr>\n",
       "      <th>wheels_on</th>\n",
       "      <td>281162</td>\n",
       "      <td>0.017653</td>\n",
       "    </tr>\n",
       "    <tr>\n",
       "      <th>arr_time</th>\n",
       "      <td>275079</td>\n",
       "      <td>0.017271</td>\n",
       "    </tr>\n",
       "    <tr>\n",
       "      <th>taxi_out</th>\n",
       "      <td>273274</td>\n",
       "      <td>0.017157</td>\n",
       "    </tr>\n",
       "    <tr>\n",
       "      <th>wheels_off</th>\n",
       "      <td>273264</td>\n",
       "      <td>0.017157</td>\n",
       "    </tr>\n",
       "    <tr>\n",
       "      <th>dep_delay</th>\n",
       "      <td>263754</td>\n",
       "      <td>0.016560</td>\n",
       "    </tr>\n",
       "    <tr>\n",
       "      <th>dep_time</th>\n",
       "      <td>258814</td>\n",
       "      <td>0.016250</td>\n",
       "    </tr>\n",
       "    <tr>\n",
       "      <th>tail_num</th>\n",
       "      <td>49269</td>\n",
       "      <td>0.003093</td>\n",
       "    </tr>\n",
       "    <tr>\n",
       "      <th>crs_elapsed_time</th>\n",
       "      <td>20</td>\n",
       "      <td>0.000001</td>\n",
       "    </tr>\n",
       "    <tr>\n",
       "      <th>cancelled</th>\n",
       "      <td>0</td>\n",
       "      <td>0.000000</td>\n",
       "    </tr>\n",
       "    <tr>\n",
       "      <th>origin</th>\n",
       "      <td>0</td>\n",
       "      <td>0.000000</td>\n",
       "    </tr>\n",
       "    <tr>\n",
       "      <th>mkt_unique_carrier</th>\n",
       "      <td>0</td>\n",
       "      <td>0.000000</td>\n",
       "    </tr>\n",
       "  </tbody>\n",
       "</table>\n",
       "</div>"
      ],
      "text/plain": [
       "                        Total   Percent\n",
       "late_aircraft_delay  12918001  0.811051\n",
       "nas_delay            12918001  0.811051\n",
       "weather_delay        12918001  0.811051\n",
       "carrier_delay        12918001  0.811051\n",
       "security_delay       12918001  0.811051\n",
       "air_time               315221  0.019791\n",
       "arr_delay              311744  0.019573\n",
       "actual_elapsed_time    309157  0.019410\n",
       "taxi_in                281172  0.017653\n",
       "wheels_on              281162  0.017653\n",
       "arr_time               275079  0.017271\n",
       "taxi_out               273274  0.017157\n",
       "wheels_off             273264  0.017157\n",
       "dep_delay              263754  0.016560\n",
       "dep_time               258814  0.016250\n",
       "tail_num                49269  0.003093\n",
       "crs_elapsed_time           20  0.000001\n",
       "cancelled                   0  0.000000\n",
       "origin                      0  0.000000\n",
       "mkt_unique_carrier          0  0.000000"
      ]
     },
     "execution_count": 36,
     "metadata": {},
     "output_type": "execute_result"
    }
   ],
   "source": [
    "# # missing data\n",
    "# total = df_flights.isnull().sum().sort_values(ascending=False)\n",
    "# percent = (df_flights.isnull().sum()/df_flights.isnull().count()).sort_values(ascending=False)\n",
    "# missing_data = pd.concat([total, percent], axis=1, keys=['Total', 'Percent'])\n",
    "# missing_data.head(20)"
   ]
  },
  {
   "cell_type": "code",
   "execution_count": 12,
   "metadata": {},
   "outputs": [
    {
     "data": {
      "text/plain": [
       "Index(['no_name', 'total_add_gtime', 'longest_add_gtime', 'first_dep_time',\n",
       "       'cancellation_code', 'late_aircraft_delay', 'security_delay',\n",
       "       'nas_delay', 'weather_delay', 'carrier_delay', 'air_time', 'arr_delay',\n",
       "       'actual_elapsed_time', 'taxi_in', 'wheels_on', 'arr_time', 'taxi_out',\n",
       "       'wheels_off', 'dep_delay', 'dep_time', 'tail_num', 'crs_elapsed_time',\n",
       "       'op_carrier_fl_num', 'op_unique_carrier', 'dup', 'origin',\n",
       "       'mkt_carrier_fl_num', 'mkt_carrier', 'branded_code_share',\n",
       "       'mkt_unique_carrier', 'origin_airport_id', 'dest_city_name',\n",
       "       'origin_city_name', 'dest_airport_id', 'dest', 'diverted',\n",
       "       'crs_dep_time', 'distance', 'crs_arr_time', 'flights', 'cancelled',\n",
       "       'fl_date'],\n",
       "      dtype='object')"
      ]
     },
     "execution_count": 12,
     "metadata": {},
     "output_type": "execute_result"
    }
   ],
   "source": [
    "missing_data.index"
   ]
  },
  {
   "cell_type": "code",
   "execution_count": 272,
   "metadata": {},
   "outputs": [],
   "source": [
    "df_flights=df_flights.dropna(subset=['air_time', 'arr_delay', 'actual_elapsed_time',\n",
    "       'taxi_in', 'wheels_on', 'arr_time', 'taxi_out', 'wheels_off',\n",
    "       'dep_delay', 'dep_time', 'tail_num', 'crs_elapsed_time'])"
   ]
  },
  {
   "cell_type": "code",
   "execution_count": 11,
   "metadata": {},
   "outputs": [
    {
     "data": {
      "text/html": [
       "<div>\n",
       "<style scoped>\n",
       "    .dataframe tbody tr th:only-of-type {\n",
       "        vertical-align: middle;\n",
       "    }\n",
       "\n",
       "    .dataframe tbody tr th {\n",
       "        vertical-align: top;\n",
       "    }\n",
       "\n",
       "    .dataframe thead th {\n",
       "        text-align: right;\n",
       "    }\n",
       "</style>\n",
       "<table border=\"1\" class=\"dataframe\">\n",
       "  <thead>\n",
       "    <tr style=\"text-align: right;\">\n",
       "      <th></th>\n",
       "      <th>Total</th>\n",
       "      <th>Percent</th>\n",
       "    </tr>\n",
       "  </thead>\n",
       "  <tbody>\n",
       "    <tr>\n",
       "      <th>late_aircraft_delay</th>\n",
       "      <td>12597220</td>\n",
       "      <td>0.807251</td>\n",
       "    </tr>\n",
       "    <tr>\n",
       "      <th>nas_delay</th>\n",
       "      <td>12597220</td>\n",
       "      <td>0.807251</td>\n",
       "    </tr>\n",
       "    <tr>\n",
       "      <th>weather_delay</th>\n",
       "      <td>12597220</td>\n",
       "      <td>0.807251</td>\n",
       "    </tr>\n",
       "    <tr>\n",
       "      <th>carrier_delay</th>\n",
       "      <td>12597220</td>\n",
       "      <td>0.807251</td>\n",
       "    </tr>\n",
       "    <tr>\n",
       "      <th>security_delay</th>\n",
       "      <td>12597220</td>\n",
       "      <td>0.807251</td>\n",
       "    </tr>\n",
       "  </tbody>\n",
       "</table>\n",
       "</div>"
      ],
      "text/plain": [
       "                        Total   Percent\n",
       "late_aircraft_delay  12597220  0.807251\n",
       "nas_delay            12597220  0.807251\n",
       "weather_delay        12597220  0.807251\n",
       "carrier_delay        12597220  0.807251\n",
       "security_delay       12597220  0.807251"
      ]
     },
     "execution_count": 11,
     "metadata": {},
     "output_type": "execute_result"
    }
   ],
   "source": [
    "# missing data\n",
    "total = df_flights.isnull().sum().sort_values(ascending=False)\n",
    "percent = (df_flights.isnull().sum()/df_flights.isnull().count()).sort_values(ascending=False)\n",
    "missing_data = pd.concat([total, percent], axis=1, keys=['Total', 'Percent'])\n",
    "missing_data.head(5)"
   ]
  },
  {
   "cell_type": "code",
   "execution_count": 12,
   "metadata": {},
   "outputs": [
    {
     "data": {
      "text/plain": [
       "(15605076, 37)"
      ]
     },
     "execution_count": 12,
     "metadata": {},
     "output_type": "execute_result"
    }
   ],
   "source": [
    "df_flights.shape"
   ]
  },
  {
   "cell_type": "code",
   "execution_count": 13,
   "metadata": {},
   "outputs": [
    {
     "data": {
      "text/plain": [
       "Index(['fl_date', 'mkt_unique_carrier', 'branded_code_share', 'mkt_carrier',\n",
       "       'mkt_carrier_fl_num', 'op_unique_carrier', 'tail_num',\n",
       "       'op_carrier_fl_num', 'origin_airport_id', 'origin', 'origin_city_name',\n",
       "       'dest_airport_id', 'dest', 'dest_city_name', 'crs_dep_time', 'dep_time',\n",
       "       'dep_delay', 'taxi_out', 'wheels_off', 'wheels_on', 'taxi_in',\n",
       "       'crs_arr_time', 'arr_time', 'arr_delay', 'cancelled', 'diverted', 'dup',\n",
       "       'crs_elapsed_time', 'actual_elapsed_time', 'air_time', 'flights',\n",
       "       'distance', 'carrier_delay', 'weather_delay', 'nas_delay',\n",
       "       'security_delay', 'late_aircraft_delay'],\n",
       "      dtype='object')"
      ]
     },
     "execution_count": 13,
     "metadata": {},
     "output_type": "execute_result"
    }
   ],
   "source": [
    "df_flights.columns"
   ]
  },
  {
   "cell_type": "code",
   "execution_count": 273,
   "metadata": {},
   "outputs": [],
   "source": [
    "df_delay=df_flights[['fl_date','dep_time','origin_airport_id', 'origin', 'origin_city_name',\n",
    "       'dest_airport_id', 'dest', 'dest_city_name','dep_delay','arr_delay','cancelled','diverted','weather_delay', 'nas_delay',\n",
    "       'security_delay', 'late_aircraft_delay']]"
   ]
  },
  {
   "cell_type": "raw",
   "metadata": {},
   "source": [
    "sum delays per airport"
   ]
  },
  {
   "cell_type": "code",
   "execution_count": 15,
   "metadata": {},
   "outputs": [
    {
     "data": {
      "text/plain": [
       "Index(['fl_date', 'dep_time', 'origin_airport_id', 'origin',\n",
       "       'origin_city_name', 'dest_airport_id', 'dest', 'dest_city_name',\n",
       "       'dep_delay', 'arr_delay', 'cancelled', 'diverted', 'weather_delay',\n",
       "       'nas_delay', 'security_delay', 'late_aircraft_delay'],\n",
       "      dtype='object')"
      ]
     },
     "execution_count": 15,
     "metadata": {},
     "output_type": "execute_result"
    }
   ],
   "source": [
    "df_delay.columns"
   ]
  },
  {
   "cell_type": "code",
   "execution_count": 16,
   "metadata": {},
   "outputs": [
    {
     "data": {
      "text/plain": [
       "(15605076, 16)"
      ]
     },
     "execution_count": 16,
     "metadata": {},
     "output_type": "execute_result"
    }
   ],
   "source": [
    "df_delay.shape"
   ]
  },
  {
   "cell_type": "code",
   "execution_count": 17,
   "metadata": {},
   "outputs": [
    {
     "data": {
      "text/plain": [
       "count    1.560508e+07\n",
       "mean     1.047697e+01\n",
       "std      4.763337e+01\n",
       "min     -1.280000e+03\n",
       "25%     -6.000000e+00\n",
       "50%     -2.000000e+00\n",
       "75%      7.000000e+00\n",
       "max      2.976000e+03\n",
       "Name: dep_delay, dtype: float64"
      ]
     },
     "execution_count": 17,
     "metadata": {},
     "output_type": "execute_result"
    }
   ],
   "source": [
    "df_delay['dep_delay'].describe()"
   ]
  },
  {
   "cell_type": "code",
   "execution_count": 18,
   "metadata": {},
   "outputs": [
    {
     "data": {
      "text/plain": [
       "<matplotlib.axes._subplots.AxesSubplot at 0x7fe5c26edf10>"
      ]
     },
     "execution_count": 18,
     "metadata": {},
     "output_type": "execute_result"
    },
    {
     "data": {
      "image/png": "[encoded data removed]",
      "text/plain": [
       "<Figure size 432x288 with 1 Axes>"
      ]
     },
     "metadata": {
      "needs_background": "light"
     },
     "output_type": "display_data"
    }
   ],
   "source": [
    "# figure=sns.distplot(df_delay['dep_delay'])\n",
    "#filter out some extreme values for delays\n",
    "sns.distplot(df_delay[df_delay['dep_delay'].between(df_delay['dep_delay'].quantile(0.02),\n",
    "                                               df_delay['dep_delay'].quantile(0.98))]['dep_delay'])    \n"
   ]
  },
  {
   "cell_type": "code",
   "execution_count": 19,
   "metadata": {},
   "outputs": [
    {
     "data": {
      "text/plain": [
       "(15605076, 16)"
      ]
     },
     "execution_count": 19,
     "metadata": {},
     "output_type": "execute_result"
    }
   ],
   "source": [
    "df_delay.shape"
   ]
  },
  {
   "cell_type": "code",
   "execution_count": 20,
   "metadata": {},
   "outputs": [
    {
     "data": {
      "text/html": [
       "<div>\n",
       "<style scoped>\n",
       "    .dataframe tbody tr th:only-of-type {\n",
       "        vertical-align: middle;\n",
       "    }\n",
       "\n",
       "    .dataframe tbody tr th {\n",
       "        vertical-align: top;\n",
       "    }\n",
       "\n",
       "    .dataframe thead th {\n",
       "        text-align: right;\n",
       "    }\n",
       "</style>\n",
       "<table border=\"1\" class=\"dataframe\">\n",
       "  <thead>\n",
       "    <tr style=\"text-align: right;\">\n",
       "      <th></th>\n",
       "      <th>fl_date</th>\n",
       "      <th>dep_time</th>\n",
       "      <th>origin_airport_id</th>\n",
       "      <th>origin</th>\n",
       "      <th>origin_city_name</th>\n",
       "      <th>dest_airport_id</th>\n",
       "      <th>dest</th>\n",
       "      <th>dest_city_name</th>\n",
       "      <th>dep_delay</th>\n",
       "      <th>arr_delay</th>\n",
       "      <th>cancelled</th>\n",
       "      <th>diverted</th>\n",
       "      <th>weather_delay</th>\n",
       "      <th>nas_delay</th>\n",
       "      <th>security_delay</th>\n",
       "      <th>late_aircraft_delay</th>\n",
       "    </tr>\n",
       "  </thead>\n",
       "  <tbody>\n",
       "    <tr>\n",
       "      <th>0</th>\n",
       "      <td>2018-05-31</td>\n",
       "      <td>2022.0</td>\n",
       "      <td>12892</td>\n",
       "      <td>LAX</td>\n",
       "      <td>Los Angeles, CA</td>\n",
       "      <td>14771</td>\n",
       "      <td>SFO</td>\n",
       "      <td>San Francisco, CA</td>\n",
       "      <td>22.0</td>\n",
       "      <td>75.0</td>\n",
       "      <td>0</td>\n",
       "      <td>0</td>\n",
       "      <td>0.0</td>\n",
       "      <td>75.0</td>\n",
       "      <td>0.0</td>\n",
       "      <td>0.0</td>\n",
       "    </tr>\n",
       "  </tbody>\n",
       "</table>\n",
       "</div>"
      ],
      "text/plain": [
       "      fl_date  dep_time  origin_airport_id origin origin_city_name  \\\n",
       "0  2018-05-31    2022.0              12892    LAX  Los Angeles, CA   \n",
       "\n",
       "   dest_airport_id dest     dest_city_name  dep_delay  arr_delay  cancelled  \\\n",
       "0            14771  SFO  San Francisco, CA       22.0       75.0          0   \n",
       "\n",
       "   diverted  weather_delay  nas_delay  security_delay  late_aircraft_delay  \n",
       "0         0            0.0       75.0             0.0                  0.0  "
      ]
     },
     "execution_count": 20,
     "metadata": {},
     "output_type": "execute_result"
    }
   ],
   "source": [
    "df_delay.head(1)"
   ]
  },
  {
   "cell_type": "markdown",
   "metadata": {},
   "source": [
    "## Adding critical step of filtering out any airports that don't operate for 12 months of the year"
   ]
  },
  {
   "cell_type": "raw",
   "metadata": {},
   "source": [
    "This is our definition of a \"normally operating airport\""
   ]
  },
  {
   "cell_type": "code",
   "execution_count": 274,
   "metadata": {},
   "outputs": [
    {
     "name": "stderr",
     "output_type": "stream",
     "text": [
      "/opt/anaconda3/envs/bootcamp_env/lib/python3.7/site-packages/ipykernel_launcher.py:1: SettingWithCopyWarning: \n",
      "A value is trying to be set on a copy of a slice from a DataFrame.\n",
      "Try using .loc[row_indexer,col_indexer] = value instead\n",
      "\n",
      "See the caveats in the documentation: https://pandas.pydata.org/pandas-docs/stable/user_guide/indexing.html#returning-a-view-versus-a-copy\n",
      "  \"\"\"Entry point for launching an IPython kernel.\n",
      "/opt/anaconda3/envs/bootcamp_env/lib/python3.7/site-packages/ipykernel_launcher.py:2: SettingWithCopyWarning: \n",
      "A value is trying to be set on a copy of a slice from a DataFrame.\n",
      "Try using .loc[row_indexer,col_indexer] = value instead\n",
      "\n",
      "See the caveats in the documentation: https://pandas.pydata.org/pandas-docs/stable/user_guide/indexing.html#returning-a-view-versus-a-copy\n",
      "  \n"
     ]
    }
   ],
   "source": [
    "df_delay['fl_date']=df_delay['fl_date'].astype('datetime64[ns]')\n",
    "df_delay['month']=df_delay['fl_date'].dt.month"
   ]
  },
  {
   "cell_type": "code",
   "execution_count": 275,
   "metadata": {},
   "outputs": [],
   "source": [
    "test_df=df_delay[['origin','month','dest']].groupby(['origin','month']).count()"
   ]
  },
  {
   "cell_type": "code",
   "execution_count": 276,
   "metadata": {},
   "outputs": [
    {
     "data": {
      "text/plain": [
       "12"
      ]
     },
     "execution_count": 276,
     "metadata": {},
     "output_type": "execute_result"
    }
   ],
   "source": [
    "len(test_df.unstack(1).iloc[0])"
   ]
  },
  {
   "cell_type": "code",
   "execution_count": 277,
   "metadata": {},
   "outputs": [
    {
     "data": {
      "text/html": [
       "<div>\n",
       "<style scoped>\n",
       "    .dataframe tbody tr th:only-of-type {\n",
       "        vertical-align: middle;\n",
       "    }\n",
       "\n",
       "    .dataframe tbody tr th {\n",
       "        vertical-align: top;\n",
       "    }\n",
       "\n",
       "    .dataframe thead tr th {\n",
       "        text-align: left;\n",
       "    }\n",
       "\n",
       "    .dataframe thead tr:last-of-type th {\n",
       "        text-align: right;\n",
       "    }\n",
       "</style>\n",
       "<table border=\"1\" class=\"dataframe\">\n",
       "  <thead>\n",
       "    <tr>\n",
       "      <th></th>\n",
       "      <th colspan=\"12\" halign=\"left\">dest</th>\n",
       "    </tr>\n",
       "    <tr>\n",
       "      <th>month</th>\n",
       "      <th>1</th>\n",
       "      <th>2</th>\n",
       "      <th>3</th>\n",
       "      <th>4</th>\n",
       "      <th>5</th>\n",
       "      <th>6</th>\n",
       "      <th>7</th>\n",
       "      <th>8</th>\n",
       "      <th>9</th>\n",
       "      <th>10</th>\n",
       "      <th>11</th>\n",
       "      <th>12</th>\n",
       "    </tr>\n",
       "    <tr>\n",
       "      <th>origin</th>\n",
       "      <th></th>\n",
       "      <th></th>\n",
       "      <th></th>\n",
       "      <th></th>\n",
       "      <th></th>\n",
       "      <th></th>\n",
       "      <th></th>\n",
       "      <th></th>\n",
       "      <th></th>\n",
       "      <th></th>\n",
       "      <th></th>\n",
       "      <th></th>\n",
       "    </tr>\n",
       "  </thead>\n",
       "  <tbody>\n",
       "    <tr>\n",
       "      <th>ABE</th>\n",
       "      <td>778.0</td>\n",
       "      <td>745.0</td>\n",
       "      <td>903.0</td>\n",
       "      <td>1020.0</td>\n",
       "      <td>982.0</td>\n",
       "      <td>1061.0</td>\n",
       "      <td>1124.0</td>\n",
       "      <td>1118.0</td>\n",
       "      <td>961.0</td>\n",
       "      <td>1065.0</td>\n",
       "      <td>996.0</td>\n",
       "      <td>947.0</td>\n",
       "    </tr>\n",
       "    <tr>\n",
       "      <th>ABI</th>\n",
       "      <td>334.0</td>\n",
       "      <td>285.0</td>\n",
       "      <td>311.0</td>\n",
       "      <td>326.0</td>\n",
       "      <td>369.0</td>\n",
       "      <td>365.0</td>\n",
       "      <td>375.0</td>\n",
       "      <td>385.0</td>\n",
       "      <td>362.0</td>\n",
       "      <td>378.0</td>\n",
       "      <td>356.0</td>\n",
       "      <td>365.0</td>\n",
       "    </tr>\n",
       "    <tr>\n",
       "      <th>ABQ</th>\n",
       "      <td>4133.0</td>\n",
       "      <td>3627.0</td>\n",
       "      <td>4282.0</td>\n",
       "      <td>4252.0</td>\n",
       "      <td>4520.0</td>\n",
       "      <td>4666.0</td>\n",
       "      <td>4873.0</td>\n",
       "      <td>4919.0</td>\n",
       "      <td>4622.0</td>\n",
       "      <td>4867.0</td>\n",
       "      <td>4431.0</td>\n",
       "      <td>4430.0</td>\n",
       "    </tr>\n",
       "    <tr>\n",
       "      <th>ABR</th>\n",
       "      <td>119.0</td>\n",
       "      <td>107.0</td>\n",
       "      <td>120.0</td>\n",
       "      <td>116.0</td>\n",
       "      <td>123.0</td>\n",
       "      <td>120.0</td>\n",
       "      <td>123.0</td>\n",
       "      <td>123.0</td>\n",
       "      <td>119.0</td>\n",
       "      <td>141.0</td>\n",
       "      <td>136.0</td>\n",
       "      <td>119.0</td>\n",
       "    </tr>\n",
       "    <tr>\n",
       "      <th>ABY</th>\n",
       "      <td>157.0</td>\n",
       "      <td>150.0</td>\n",
       "      <td>170.0</td>\n",
       "      <td>168.0</td>\n",
       "      <td>169.0</td>\n",
       "      <td>165.0</td>\n",
       "      <td>171.0</td>\n",
       "      <td>169.0</td>\n",
       "      <td>158.0</td>\n",
       "      <td>174.0</td>\n",
       "      <td>166.0</td>\n",
       "      <td>161.0</td>\n",
       "    </tr>\n",
       "    <tr>\n",
       "      <th>...</th>\n",
       "      <td>...</td>\n",
       "      <td>...</td>\n",
       "      <td>...</td>\n",
       "      <td>...</td>\n",
       "      <td>...</td>\n",
       "      <td>...</td>\n",
       "      <td>...</td>\n",
       "      <td>...</td>\n",
       "      <td>...</td>\n",
       "      <td>...</td>\n",
       "      <td>...</td>\n",
       "      <td>...</td>\n",
       "    </tr>\n",
       "    <tr>\n",
       "      <th>XWA</th>\n",
       "      <td>NaN</td>\n",
       "      <td>NaN</td>\n",
       "      <td>NaN</td>\n",
       "      <td>NaN</td>\n",
       "      <td>NaN</td>\n",
       "      <td>NaN</td>\n",
       "      <td>NaN</td>\n",
       "      <td>NaN</td>\n",
       "      <td>NaN</td>\n",
       "      <td>116.0</td>\n",
       "      <td>140.0</td>\n",
       "      <td>147.0</td>\n",
       "    </tr>\n",
       "    <tr>\n",
       "      <th>YAK</th>\n",
       "      <td>108.0</td>\n",
       "      <td>105.0</td>\n",
       "      <td>122.0</td>\n",
       "      <td>120.0</td>\n",
       "      <td>123.0</td>\n",
       "      <td>118.0</td>\n",
       "      <td>122.0</td>\n",
       "      <td>124.0</td>\n",
       "      <td>120.0</td>\n",
       "      <td>119.0</td>\n",
       "      <td>108.0</td>\n",
       "      <td>114.0</td>\n",
       "    </tr>\n",
       "    <tr>\n",
       "      <th>YKM</th>\n",
       "      <td>229.0</td>\n",
       "      <td>176.0</td>\n",
       "      <td>210.0</td>\n",
       "      <td>197.0</td>\n",
       "      <td>202.0</td>\n",
       "      <td>210.0</td>\n",
       "      <td>218.0</td>\n",
       "      <td>210.0</td>\n",
       "      <td>175.0</td>\n",
       "      <td>184.0</td>\n",
       "      <td>216.0</td>\n",
       "      <td>230.0</td>\n",
       "    </tr>\n",
       "    <tr>\n",
       "      <th>YNG</th>\n",
       "      <td>2.0</td>\n",
       "      <td>NaN</td>\n",
       "      <td>NaN</td>\n",
       "      <td>NaN</td>\n",
       "      <td>NaN</td>\n",
       "      <td>NaN</td>\n",
       "      <td>NaN</td>\n",
       "      <td>NaN</td>\n",
       "      <td>NaN</td>\n",
       "      <td>NaN</td>\n",
       "      <td>NaN</td>\n",
       "      <td>NaN</td>\n",
       "    </tr>\n",
       "    <tr>\n",
       "      <th>YUM</th>\n",
       "      <td>236.0</td>\n",
       "      <td>217.0</td>\n",
       "      <td>276.0</td>\n",
       "      <td>299.0</td>\n",
       "      <td>304.0</td>\n",
       "      <td>271.0</td>\n",
       "      <td>269.0</td>\n",
       "      <td>261.0</td>\n",
       "      <td>258.0</td>\n",
       "      <td>300.0</td>\n",
       "      <td>280.0</td>\n",
       "      <td>314.0</td>\n",
       "    </tr>\n",
       "  </tbody>\n",
       "</table>\n",
       "<p>376 rows × 12 columns</p>\n",
       "</div>"
      ],
      "text/plain": [
       "          dest                                                          \\\n",
       "month       1       2       3       4       5       6       7       8    \n",
       "origin                                                                   \n",
       "ABE      778.0   745.0   903.0  1020.0   982.0  1061.0  1124.0  1118.0   \n",
       "ABI      334.0   285.0   311.0   326.0   369.0   365.0   375.0   385.0   \n",
       "ABQ     4133.0  3627.0  4282.0  4252.0  4520.0  4666.0  4873.0  4919.0   \n",
       "ABR      119.0   107.0   120.0   116.0   123.0   120.0   123.0   123.0   \n",
       "ABY      157.0   150.0   170.0   168.0   169.0   165.0   171.0   169.0   \n",
       "...        ...     ...     ...     ...     ...     ...     ...     ...   \n",
       "XWA        NaN     NaN     NaN     NaN     NaN     NaN     NaN     NaN   \n",
       "YAK      108.0   105.0   122.0   120.0   123.0   118.0   122.0   124.0   \n",
       "YKM      229.0   176.0   210.0   197.0   202.0   210.0   218.0   210.0   \n",
       "YNG        2.0     NaN     NaN     NaN     NaN     NaN     NaN     NaN   \n",
       "YUM      236.0   217.0   276.0   299.0   304.0   271.0   269.0   261.0   \n",
       "\n",
       "                                        \n",
       "month       9       10      11      12  \n",
       "origin                                  \n",
       "ABE      961.0  1065.0   996.0   947.0  \n",
       "ABI      362.0   378.0   356.0   365.0  \n",
       "ABQ     4622.0  4867.0  4431.0  4430.0  \n",
       "ABR      119.0   141.0   136.0   119.0  \n",
       "ABY      158.0   174.0   166.0   161.0  \n",
       "...        ...     ...     ...     ...  \n",
       "XWA        NaN   116.0   140.0   147.0  \n",
       "YAK      120.0   119.0   108.0   114.0  \n",
       "YKM      175.0   184.0   216.0   230.0  \n",
       "YNG        NaN     NaN     NaN     NaN  \n",
       "YUM      258.0   300.0   280.0   314.0  \n",
       "\n",
       "[376 rows x 12 columns]"
      ]
     },
     "execution_count": 277,
     "metadata": {},
     "output_type": "execute_result"
    }
   ],
   "source": [
    "test_df.unstack(1)"
   ]
  },
  {
   "cell_type": "code",
   "execution_count": 278,
   "metadata": {},
   "outputs": [],
   "source": [
    "# if length of row is equal to 12, then index is the airport code, and eligible \n",
    "# for list of cities\n",
    "eligible=[]\n",
    "for i in range(len(test_df.unstack(1))):\n",
    "    if test_df.unstack(1).iloc[i].reset_index()[test_df.unstack(1).index[i]].count()==12:\n",
    "        eligible.append(test_df.unstack(1).index[i])"
   ]
  },
  {
   "cell_type": "code",
   "execution_count": 279,
   "metadata": {},
   "outputs": [
    {
     "data": {
      "text/plain": [
       "['ABE',\n",
       " 'ABI',\n",
       " 'ABQ',\n",
       " 'ABR',\n",
       " 'ABY',\n",
       " 'ACT',\n",
       " 'ACV',\n",
       " 'ACY',\n",
       " 'ADK',\n",
       " 'ADQ',\n",
       " 'AEX',\n",
       " 'AGS',\n",
       " 'ALB',\n",
       " 'ALO',\n",
       " 'ALW',\n",
       " 'AMA',\n",
       " 'ANC',\n",
       " 'APN',\n",
       " 'ART',\n",
       " 'ASE',\n",
       " 'ATL',\n",
       " 'ATW',\n",
       " 'AUS',\n",
       " 'AVL',\n",
       " 'AVP',\n",
       " 'AZA',\n",
       " 'AZO',\n",
       " 'BDL',\n",
       " 'BET',\n",
       " 'BFF',\n",
       " 'BFL',\n",
       " 'BGM',\n",
       " 'BGR',\n",
       " 'BHM',\n",
       " 'BIL',\n",
       " 'BIS',\n",
       " 'BJI',\n",
       " 'BLI',\n",
       " 'BLV',\n",
       " 'BMI',\n",
       " 'BNA',\n",
       " 'BOI',\n",
       " 'BOS',\n",
       " 'BPT',\n",
       " 'BQK',\n",
       " 'BQN',\n",
       " 'BRD',\n",
       " 'BRO',\n",
       " 'BRW',\n",
       " 'BTM',\n",
       " 'BTR',\n",
       " 'BTV',\n",
       " 'BUF',\n",
       " 'BUR',\n",
       " 'BWI',\n",
       " 'BZN',\n",
       " 'CAE',\n",
       " 'CAK',\n",
       " 'CDC',\n",
       " 'CDV',\n",
       " 'CGI',\n",
       " 'CHA',\n",
       " 'CHO',\n",
       " 'CHS',\n",
       " 'CID',\n",
       " 'CIU',\n",
       " 'CKB',\n",
       " 'CLE',\n",
       " 'CLL',\n",
       " 'CLT',\n",
       " 'CMH',\n",
       " 'CMI',\n",
       " 'CMX',\n",
       " 'CNY',\n",
       " 'COD',\n",
       " 'COS',\n",
       " 'COU',\n",
       " 'CPR',\n",
       " 'CRP',\n",
       " 'CRW',\n",
       " 'CSG',\n",
       " 'CVG',\n",
       " 'CWA',\n",
       " 'CYS',\n",
       " 'DAB',\n",
       " 'DAL',\n",
       " 'DAY',\n",
       " 'DBQ',\n",
       " 'DCA',\n",
       " 'DEN',\n",
       " 'DFW',\n",
       " 'DHN',\n",
       " 'DIK',\n",
       " 'DLH',\n",
       " 'DRO',\n",
       " 'DRT',\n",
       " 'DSM',\n",
       " 'DTW',\n",
       " 'DUT',\n",
       " 'DVL',\n",
       " 'EAR',\n",
       " 'EAT',\n",
       " 'EAU',\n",
       " 'ECP',\n",
       " 'EGE',\n",
       " 'EKO',\n",
       " 'ELM',\n",
       " 'ELP',\n",
       " 'ERI',\n",
       " 'ESC',\n",
       " 'EUG',\n",
       " 'EVV',\n",
       " 'EWN',\n",
       " 'EWR',\n",
       " 'EYW',\n",
       " 'FAI',\n",
       " 'FAR',\n",
       " 'FAT',\n",
       " 'FAY',\n",
       " 'FCA',\n",
       " 'FLG',\n",
       " 'FLL',\n",
       " 'FLO',\n",
       " 'FNT',\n",
       " 'FSD',\n",
       " 'FSM',\n",
       " 'FWA',\n",
       " 'GCC',\n",
       " 'GCK',\n",
       " 'GEG',\n",
       " 'GFK',\n",
       " 'GGG',\n",
       " 'GJT',\n",
       " 'GNV',\n",
       " 'GPT',\n",
       " 'GRB',\n",
       " 'GRI',\n",
       " 'GRK',\n",
       " 'GRR',\n",
       " 'GSO',\n",
       " 'GSP',\n",
       " 'GTF',\n",
       " 'GTR',\n",
       " 'GUC',\n",
       " 'GUM',\n",
       " 'HDN',\n",
       " 'HGR',\n",
       " 'HHH',\n",
       " 'HIB',\n",
       " 'HLN',\n",
       " 'HNL',\n",
       " 'HOB',\n",
       " 'HOU',\n",
       " 'HPN',\n",
       " 'HRL',\n",
       " 'HSV',\n",
       " 'HTS',\n",
       " 'HVN',\n",
       " 'HYS',\n",
       " 'IAD',\n",
       " 'IAG',\n",
       " 'IAH',\n",
       " 'ICT',\n",
       " 'IDA',\n",
       " 'ILM',\n",
       " 'IMT',\n",
       " 'IND',\n",
       " 'INL',\n",
       " 'IPT',\n",
       " 'ISN',\n",
       " 'ISP',\n",
       " 'ITH',\n",
       " 'ITO',\n",
       " 'JAC',\n",
       " 'JAN',\n",
       " 'JAX',\n",
       " 'JFK',\n",
       " 'JHM',\n",
       " 'JLN',\n",
       " 'JMS',\n",
       " 'JNU',\n",
       " 'KOA',\n",
       " 'KTN',\n",
       " 'LAN',\n",
       " 'LAR',\n",
       " 'LAS',\n",
       " 'LAW',\n",
       " 'LAX',\n",
       " 'LBB',\n",
       " 'LBE',\n",
       " 'LBF',\n",
       " 'LBL',\n",
       " 'LCH',\n",
       " 'LCK',\n",
       " 'LEX',\n",
       " 'LFT',\n",
       " 'LGA',\n",
       " 'LGB',\n",
       " 'LIH',\n",
       " 'LIT',\n",
       " 'LNK',\n",
       " 'LNY',\n",
       " 'LRD',\n",
       " 'LSE',\n",
       " 'LWB',\n",
       " 'LWS',\n",
       " 'LYH',\n",
       " 'MAF',\n",
       " 'MBS',\n",
       " 'MCI',\n",
       " 'MCO',\n",
       " 'MDT',\n",
       " 'MDW',\n",
       " 'MEI',\n",
       " 'MEM',\n",
       " 'MFE',\n",
       " 'MFR',\n",
       " 'MGM',\n",
       " 'MHK',\n",
       " 'MHT',\n",
       " 'MIA',\n",
       " 'MKE',\n",
       " 'MKG',\n",
       " 'MKK',\n",
       " 'MLB',\n",
       " 'MLI',\n",
       " 'MLU',\n",
       " 'MMH',\n",
       " 'MOB',\n",
       " 'MOT',\n",
       " 'MQT',\n",
       " 'MRY',\n",
       " 'MSN',\n",
       " 'MSO',\n",
       " 'MSP',\n",
       " 'MSY',\n",
       " 'MTJ',\n",
       " 'MYR',\n",
       " 'OAJ',\n",
       " 'OAK',\n",
       " 'OGD',\n",
       " 'OGG',\n",
       " 'OGS',\n",
       " 'OKC',\n",
       " 'OMA',\n",
       " 'OME',\n",
       " 'ONT',\n",
       " 'ORD',\n",
       " 'ORF',\n",
       " 'ORH',\n",
       " 'OTH',\n",
       " 'OTZ',\n",
       " 'OWB',\n",
       " 'PAH',\n",
       " 'PBG',\n",
       " 'PBI',\n",
       " 'PDX',\n",
       " 'PGD',\n",
       " 'PGV',\n",
       " 'PHF',\n",
       " 'PHL',\n",
       " 'PHX',\n",
       " 'PIA',\n",
       " 'PIB',\n",
       " 'PIE',\n",
       " 'PIH',\n",
       " 'PIT',\n",
       " 'PLN',\n",
       " 'PNS',\n",
       " 'PPG',\n",
       " 'PQI',\n",
       " 'PRC',\n",
       " 'PSC',\n",
       " 'PSE',\n",
       " 'PSG',\n",
       " 'PSM',\n",
       " 'PSP',\n",
       " 'PUB',\n",
       " 'PUW',\n",
       " 'PVD',\n",
       " 'PVU',\n",
       " 'PWM',\n",
       " 'RAP',\n",
       " 'RDD',\n",
       " 'RDM',\n",
       " 'RDU',\n",
       " 'RFD',\n",
       " 'RHI',\n",
       " 'RIC',\n",
       " 'RKS',\n",
       " 'RNO',\n",
       " 'ROA',\n",
       " 'ROC',\n",
       " 'ROW',\n",
       " 'RST',\n",
       " 'RSW',\n",
       " 'SAF',\n",
       " 'SAN',\n",
       " 'SAT',\n",
       " 'SAV',\n",
       " 'SBA',\n",
       " 'SBN',\n",
       " 'SBP',\n",
       " 'SBY',\n",
       " 'SCC',\n",
       " 'SCE',\n",
       " 'SCK',\n",
       " 'SDF',\n",
       " 'SEA',\n",
       " 'SFB',\n",
       " 'SFO',\n",
       " 'SGF',\n",
       " 'SGU',\n",
       " 'SHD',\n",
       " 'SHV',\n",
       " 'SIT',\n",
       " 'SJC',\n",
       " 'SJT',\n",
       " 'SJU',\n",
       " 'SLC',\n",
       " 'SLN',\n",
       " 'SMF',\n",
       " 'SMX',\n",
       " 'SNA',\n",
       " 'SPI',\n",
       " 'SPN',\n",
       " 'SPS',\n",
       " 'SRQ',\n",
       " 'STC',\n",
       " 'STL',\n",
       " 'STS',\n",
       " 'STT',\n",
       " 'STX',\n",
       " 'SUN',\n",
       " 'SUX',\n",
       " 'SWF',\n",
       " 'SWO',\n",
       " 'SYR',\n",
       " 'TLH',\n",
       " 'TOL',\n",
       " 'TPA',\n",
       " 'TRI',\n",
       " 'TTN',\n",
       " 'TUL',\n",
       " 'TUS',\n",
       " 'TVC',\n",
       " 'TWF',\n",
       " 'TXK',\n",
       " 'TYR',\n",
       " 'TYS',\n",
       " 'UIN',\n",
       " 'USA',\n",
       " 'VEL',\n",
       " 'VLD',\n",
       " 'VPS',\n",
       " 'WRG',\n",
       " 'XNA',\n",
       " 'YAK',\n",
       " 'YKM',\n",
       " 'YUM']"
      ]
     },
     "execution_count": 279,
     "metadata": {},
     "output_type": "execute_result"
    }
   ],
   "source": [
    "eligible"
   ]
  },
  {
   "cell_type": "code",
   "execution_count": 280,
   "metadata": {},
   "outputs": [],
   "source": [
    "df_delay=df_delay[df_delay['origin'].isin(eligible)]"
   ]
  },
  {
   "cell_type": "code",
   "execution_count": 281,
   "metadata": {},
   "outputs": [
    {
     "data": {
      "text/plain": [
       "360"
      ]
     },
     "execution_count": 281,
     "metadata": {},
     "output_type": "execute_result"
    }
   ],
   "source": [
    "len(df_delay['origin'].unique())"
   ]
  },
  {
   "cell_type": "markdown",
   "metadata": {},
   "source": [
    "# Choosing cities"
   ]
  },
  {
   "cell_type": "markdown",
   "metadata": {},
   "source": [
    "### Aggregating dataframe to sum all departure delays per origin city"
   ]
  },
  {
   "cell_type": "raw",
   "metadata": {},
   "source": [
    "dep_delay_agg=df_delay[['origin', 'dest', 'dep_delay', 'arr_delay','weather_delay', 'nas_delay', 'security_delay',\n",
    "       'late_aircraft_delay']].groupby('origin').sum().sort_values(by='dep_delay',ascending=False)"
   ]
  },
  {
   "cell_type": "raw",
   "metadata": {},
   "source": [
    "dep_delay_agg.shape"
   ]
  },
  {
   "cell_type": "raw",
   "metadata": {},
   "source": [
    "dep_delay_agg.head(1)"
   ]
  },
  {
   "cell_type": "raw",
   "metadata": {},
   "source": [
    "dep_delay_agg=dep_delay_agg.reset_index().rename(columns={'index':'Airport_Code'})"
   ]
  },
  {
   "cell_type": "raw",
   "metadata": {},
   "source": [
    "len(dep_delay_agg['origin'].unique())"
   ]
  },
  {
   "cell_type": "raw",
   "metadata": {},
   "source": [
    "dep_delay_agg"
   ]
  },
  {
   "cell_type": "raw",
   "metadata": {},
   "source": [
    "dep_delay_agg.shape"
   ]
  },
  {
   "cell_type": "raw",
   "metadata": {},
   "source": [
    "This means there are 360 total cities for us to sample weather from. We will now pick the \"appropriate representative sample\" of cities to pull weather info from. \n",
    "\n",
    "This will be done by pulling cities at random from each quantile for the summed dep_delay for each city. We will be sampling from~ 20% of the available cities (76/360). This equates to 19 cities per quartile."
   ]
  },
  {
   "cell_type": "raw",
   "metadata": {},
   "source": [
    "#filtering dataframe by origin cities between quantile values \n",
    "dep_delay_agg[dep_delay_agg.dep_delay.between(*dep_delay_agg.dep_delay.quantile([0.25, 0.75]).tolist())]"
   ]
  },
  {
   "cell_type": "raw",
   "metadata": {},
   "source": [
    "#randomly sampling from cities in different quantiles\n",
    "city_first_quart=dep_delay_agg[dep_delay_agg.dep_delay.\\\n",
    "                               between(*dep_delay_agg.dep_delay.quantile([0, 0.245]).tolist())].sample(n=19)"
   ]
  },
  {
   "cell_type": "raw",
   "metadata": {},
   "source": [
    "city_sec_quart=dep_delay_agg[dep_delay_agg.dep_delay.between(*dep_delay_agg.dep_delay.\\\n",
    "                                                             quantile([0.25, 0.495]).tolist())].sample(n=19)"
   ]
  },
  {
   "cell_type": "raw",
   "metadata": {},
   "source": [
    "\n",
    "city_third_quart=dep_delay_agg[dep_delay_agg.dep_delay.between(*dep_delay_agg.dep_delay.\\\n",
    "                                                               quantile([0.5, 0.745]).tolist())].sample(n=19)"
   ]
  },
  {
   "cell_type": "raw",
   "metadata": {},
   "source": [
    "city_fourth_quart=dep_delay_agg[dep_delay_agg.dep_delay.between(*dep_delay_agg.dep_delay.\\\n",
    "                                                                quantile([0.75, 1]).tolist())].sample(n=19)"
   ]
  },
  {
   "cell_type": "raw",
   "metadata": {},
   "source": [
    "# Concat those 3 randomly sampled DF's together\n",
    "random_city=pd.concat([city_first_quart,city_sec_quart,city_third_quart,city_fourth_quart],axis=0,ignore_index=True)"
   ]
  },
  {
   "cell_type": "raw",
   "metadata": {},
   "source": [
    "cities_to_samp=list(random_city['origin'])"
   ]
  },
  {
   "cell_type": "raw",
   "metadata": {},
   "source": [
    "import matplotlib.pyplot as plt\n",
    "plt.figure(figsize=(20,8))\n",
    "fig = sns.boxplot(x='origin',y='dep_delay',data=df_delay[(df_delay['origin'].isin(cities_to_samp))&(df_delay['dep_delay']<40)&(df_delay['dep_delay']>-40)])\n",
    "\n",
    "plt.xticks(\n",
    "    rotation=90,\n",
    "    fontweight='light',\n",
    "    fontsize='x-large'  \n",
    ")\n",
    "plt.yticks(\n",
    "    fontweight='light',\n",
    "    fontsize='x-large'  \n",
    ")\n",
    "plt.ylabel('Departure Delay\\'s',\n",
    "    fontweight='light',\n",
    "    fontsize='x-large'  \n",
    ")\n",
    "plt.xlabel('Departure Cities (randomly sampled through each delay quantile)',\n",
    "    fontweight='light',\n",
    "    fontsize='x-large'  \n",
    ")\n",
    "\n",
    "plt.title('Departure Cities and their departure delay times',\n",
    "    fontweight='light',\n",
    "    fontsize='x-large'  \n",
    ")\n",
    "\n",
    "fig = fig.get_figure()\n",
    "fig.savefig('/Users/carlyfennell/DataScience/data_bootcamp/w5/midterm_project/lhl_midterm/visualization/Task_3_delay_departure_cities_2.png')"
   ]
  },
  {
   "cell_type": "raw",
   "metadata": {},
   "source": [
    "df_delay.shape"
   ]
  },
  {
   "cell_type": "markdown",
   "metadata": {},
   "source": [
    "# Prepare Dataframe for API call and extraction"
   ]
  },
  {
   "cell_type": "code",
   "execution_count": 29,
   "metadata": {},
   "outputs": [],
   "source": [
    "from datetime import datetime, timedelta\n",
    "from datetime import timezone"
   ]
  },
  {
   "cell_type": "raw",
   "metadata": {},
   "source": [
    "Sample Code to play around with datetime's and timestamps\n",
    "datetime(2018,1,1)+timedelta(days=100)\n",
    "date_test=datetime(2018,1,1)\n",
    "date_test.timestamp()\n",
    "time_S=datetime.fromtimestamp(1514793600)\n",
    "time_S\n",
    "datetime.fromtimestamp(1514707200)\n",
    "datetime(2018,1,1) - datetime(2019,12,31)\n",
    "yeh_date=(datetime(2018,1,1)-pd.Timestamp('1970-01-01'))//pd.Timedelta('1s')"
   ]
  },
  {
   "cell_type": "code",
   "execution_count": 225,
   "metadata": {
    "collapsed": true,
    "jupyter": {
     "outputs_hidden": true
    }
   },
   "outputs": [
    {
     "name": "stderr",
     "output_type": "stream",
     "text": [
      "/opt/anaconda3/envs/bootcamp_env/lib/python3.7/site-packages/ipykernel_launcher.py:1: SettingWithCopyWarning: \n",
      "A value is trying to be set on a copy of a slice from a DataFrame.\n",
      "Try using .loc[row_indexer,col_indexer] = value instead\n",
      "\n",
      "See the caveats in the documentation: https://pandas.pydata.org/pandas-docs/stable/user_guide/indexing.html#returning-a-view-versus-a-copy\n",
      "  \"\"\"Entry point for launching an IPython kernel.\n"
     ]
    }
   ],
   "source": [
    "#df_delay['fl_date']=df_delay['fl_date'].astype('datetime64[ns]') "
   ]
  },
  {
   "cell_type": "code",
   "execution_count": null,
   "metadata": {},
   "outputs": [],
   "source": []
  },
  {
   "cell_type": "raw",
   "metadata": {},
   "source": [
    "df_delay['fl_date'].iloc[-1]"
   ]
  },
  {
   "cell_type": "raw",
   "metadata": {},
   "source": [
    "datetime(2018,1,1)+timedelta(days=100)"
   ]
  },
  {
   "cell_type": "raw",
   "metadata": {},
   "source": [
    "date_test=datetime(2018,1,1)\n",
    "date_test.timestamp()"
   ]
  },
  {
   "cell_type": "raw",
   "metadata": {},
   "source": [
    "datetime.fromtimestamp(1514707200)"
   ]
  },
  {
   "cell_type": "raw",
   "metadata": {},
   "source": [
    "datetime(2018,1,1) - datetime(2019,12,31)"
   ]
  },
  {
   "cell_type": "raw",
   "metadata": {},
   "source": []
  },
  {
   "cell_type": "markdown",
   "metadata": {},
   "source": [
    "# IMPORTANT NEXT STEPS"
   ]
  },
  {
   "cell_type": "raw",
   "metadata": {},
   "source": [
    "Dataframe\n",
    "76 cities total (randomly YET evenly sampled in terms of quantiles (departure delay FOR airports that have had registered weather delays)) ~20% of cities\n",
    "\n",
    "**Plot airports on a map\n",
    "\n",
    "For each city - pull weather info (within the hour) - for 12 departing flight dates. These dates MUST be randomly selected evenly throughout each month in 2018. 1 per month.\n",
    "\n",
    "----\n",
    "Other notes that may be irrelevant now:\n",
    "\n",
    "LAX - 2018, 01, 01 - 2019,12,30\n",
    "\n",
    "2018 - 4 api pulls (1 in each season) - randomly pull 2 days in each quartile (of months)\n",
    "2019 - 4 api pulls (1 in each season) - randomly pull 2 days in each quartile (of months)\n",
    "\n",
    "\n",
    "LAX - 16 pulls\n",
    "\n",
    "Separating into seasons - issues with norther latitute\n",
    "filter using longitude/latitude\n",
    "if +tive/-tive - depending on how far it is to 0, we will know how close it is to equator"
   ]
  },
  {
   "attachments": {
    "image.png": {
     "image/png": "[encoded data removed]"
    }
   },
   "cell_type": "markdown",
   "metadata": {},
   "source": [
    "![image.png](attachment:image.png)"
   ]
  },
  {
   "cell_type": "markdown",
   "metadata": {},
   "source": [
    "## Plot cities on Map"
   ]
  },
  {
   "cell_type": "code",
   "execution_count": 289,
   "metadata": {},
   "outputs": [],
   "source": [
    "from geopy.geocoders import Nominatim # convert an address into latitude and longitude values\n",
    "import requests # library to handle requests\n",
    "from pandas.io.json import json_normalize # tranform JSON file into a pandas dataframe\n",
    "\n",
    "# Matplotlib and associated plotting modules\n",
    "import matplotlib.cm as cm\n",
    "import matplotlib.colors as colors\n",
    "import matplotlib.pyplot as plt \n",
    "\n",
    "# Maps\n",
    "import folium # map rendering library\n",
    "\n",
    "# #Geocoder for pulling lat/long\n",
    "# import geocoder"
   ]
  },
  {
   "cell_type": "markdown",
   "metadata": {},
   "source": [
    "### Extract Latitude and Longitudes utilizing geopy"
   ]
  },
  {
   "cell_type": "code",
   "execution_count": 282,
   "metadata": {},
   "outputs": [],
   "source": [
    "data_tester=pd.read_csv(path+'weath_city_1.csv')\n",
    "data_tester=data_tester.drop('Unnamed: 0',axis=1).rename(columns={'0':'city_samps'})\n",
    "cities_to_samp=list(data_tester['city_samps'])"
   ]
  },
  {
   "cell_type": "code",
   "execution_count": 283,
   "metadata": {},
   "outputs": [],
   "source": [
    "delay_cities=df_delay[(df_delay['origin'].isin(cities_to_samp))]"
   ]
  },
  {
   "cell_type": "raw",
   "metadata": {},
   "source": [
    "city_list=list(delay_cities['origin_city_name'].unique())"
   ]
  },
  {
   "cell_type": "raw",
   "metadata": {},
   "source": [
    "len(delay_cities['origin_city_name'].unique())"
   ]
  },
  {
   "cell_type": "raw",
   "metadata": {},
   "source": [
    "from geopy.geocoders import Nominatim # convert an address into latitude and longitude values\n",
    "import requests # library to handle requests\n",
    "from pandas.io.json import json_normalize # tranform JSON file into a pandas dataframe"
   ]
  },
  {
   "cell_type": "raw",
   "metadata": {},
   "source": [
    "latitude=[]\n",
    "longitude=[]\n",
    "geolocator = Nominatim(user_agent=\"bc_explorer\")\n",
    "# loop until you get the coordinates\n",
    "for i in range(len(cities_to_samp)):\n",
    "    #print(i)\n",
    "    location = geolocator.geocode('{}'.format(cities_to_samp[i]))\n",
    "    latitude.append(location.latitude)\n",
    "    longitude.append(location.longitude)\n",
    "    \n",
    "else:\n",
    "    print('none')\n",
    "print('done')"
   ]
  },
  {
   "cell_type": "raw",
   "metadata": {},
   "source": [
    "city_df=pd.DataFrame([cities_to_samp,latitude,longitude]).T"
   ]
  },
  {
   "cell_type": "raw",
   "metadata": {},
   "source": [
    "city_df=city_df.rename(columns={0:'origin',1:'latitude',2:'longitude'})"
   ]
  },
  {
   "cell_type": "raw",
   "metadata": {
    "jupyter": {
     "outputs_hidden": true
    }
   },
   "source": [
    "city_df"
   ]
  },
  {
   "cell_type": "raw",
   "metadata": {},
   "source": [
    "city_df.to_csv(path+'cities_lat.csv')"
   ]
  },
  {
   "cell_type": "markdown",
   "metadata": {},
   "source": [
    "# Adding This section to read in data I saved from earlier runs"
   ]
  },
  {
   "cell_type": "code",
   "execution_count": 284,
   "metadata": {},
   "outputs": [],
   "source": [
    "city_df=pd.read_csv(path+'cities_lat.csv')"
   ]
  },
  {
   "cell_type": "code",
   "execution_count": 49,
   "metadata": {},
   "outputs": [
    {
     "data": {
      "text/html": [
       "<div>\n",
       "<style scoped>\n",
       "    .dataframe tbody tr th:only-of-type {\n",
       "        vertical-align: middle;\n",
       "    }\n",
       "\n",
       "    .dataframe tbody tr th {\n",
       "        vertical-align: top;\n",
       "    }\n",
       "\n",
       "    .dataframe thead th {\n",
       "        text-align: right;\n",
       "    }\n",
       "</style>\n",
       "<table border=\"1\" class=\"dataframe\">\n",
       "  <thead>\n",
       "    <tr style=\"text-align: right;\">\n",
       "      <th></th>\n",
       "      <th>Unnamed: 0</th>\n",
       "      <th>origin</th>\n",
       "      <th>latitude</th>\n",
       "      <th>longitude</th>\n",
       "    </tr>\n",
       "  </thead>\n",
       "  <tbody>\n",
       "    <tr>\n",
       "      <th>0</th>\n",
       "      <td>0</td>\n",
       "      <td>EAR</td>\n",
       "      <td>26.254049</td>\n",
       "      <td>29.267547</td>\n",
       "    </tr>\n",
       "    <tr>\n",
       "      <th>1</th>\n",
       "      <td>1</td>\n",
       "      <td>YKM</td>\n",
       "      <td>46.566810</td>\n",
       "      <td>-120.536798</td>\n",
       "    </tr>\n",
       "    <tr>\n",
       "      <th>2</th>\n",
       "      <td>2</td>\n",
       "      <td>SPS</td>\n",
       "      <td>40.832836</td>\n",
       "      <td>-8.102562</td>\n",
       "    </tr>\n",
       "    <tr>\n",
       "      <th>3</th>\n",
       "      <td>3</td>\n",
       "      <td>STX</td>\n",
       "      <td>17.699978</td>\n",
       "      <td>-64.805921</td>\n",
       "    </tr>\n",
       "    <tr>\n",
       "      <th>4</th>\n",
       "      <td>4</td>\n",
       "      <td>PSG</td>\n",
       "      <td>50.946118</td>\n",
       "      <td>22.164137</td>\n",
       "    </tr>\n",
       "  </tbody>\n",
       "</table>\n",
       "</div>"
      ],
      "text/plain": [
       "   Unnamed: 0 origin   latitude   longitude\n",
       "0           0    EAR  26.254049   29.267547\n",
       "1           1    YKM  46.566810 -120.536798\n",
       "2           2    SPS  40.832836   -8.102562\n",
       "3           3    STX  17.699978  -64.805921\n",
       "4           4    PSG  50.946118   22.164137"
      ]
     },
     "execution_count": 49,
     "metadata": {},
     "output_type": "execute_result"
    }
   ],
   "source": [
    "city_df.head()"
   ]
  },
  {
   "cell_type": "code",
   "execution_count": 285,
   "metadata": {},
   "outputs": [],
   "source": [
    "city_df=city_df.drop('Unnamed: 0',axis=1)"
   ]
  },
  {
   "cell_type": "code",
   "execution_count": 286,
   "metadata": {},
   "outputs": [],
   "source": [
    "cities_to_samp=list(city_df['origin'])"
   ]
  },
  {
   "cell_type": "markdown",
   "metadata": {},
   "source": [
    "### Plot on map"
   ]
  },
  {
   "cell_type": "code",
   "execution_count": 287,
   "metadata": {},
   "outputs": [
    {
     "name": "stdout",
     "output_type": "stream",
     "text": [
      "The geograpical coordinate of USA are 39.7837304, -100.4458825.\n"
     ]
    }
   ],
   "source": [
    "address = 'United States of America'\n",
    "\n",
    "geolocator = Nominatim(user_agent=\"bc_explorer\")\n",
    "location = geolocator.geocode(address)\n",
    "lati_B = location.latitude\n",
    "longi_B = location.longitude\n",
    "print('The geograpical coordinate of USA are {}, {}.'.format(lati_B, longi_B))"
   ]
  },
  {
   "cell_type": "code",
   "execution_count": 290,
   "metadata": {},
   "outputs": [
    {
     "data": {
      "text/html": [
       "<div style=\"width:100%;\"><div style=\"position:relative;width:100%;height:0;padding-bottom:60%;\"><span style=\"color:#565656\">Make this Notebook Trusted to load map: File -> Trust Notebook</span><iframe src=\"about:blank\" style=\"position:absolute;width:100%;height:100%;left:0;top:0;border:none !important;\" data-html=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 onload=\"this.contentDocument.open();this.contentDocument.write(atob(this.getAttribute('data-html')));this.contentDocument.close();\" allowfullscreen webkitallowfullscreen mozallowfullscreen></iframe></div></div>"
      ],
      "text/plain": [
       "<folium.folium.Map at 0x7fe4981c45d0>"
      ]
     },
     "execution_count": 290,
     "metadata": {},
     "output_type": "execute_result"
    }
   ],
   "source": [
    "map_USA = folium.Map(location=[lati_B, longi_B], zoom_start=4)\n",
    "\n",
    "# add markers to map\n",
    "for lat, lng, nam in zip(city_df['latitude'],city_df['longitude'],city_df['origin']):\n",
    "    label = '{}'.format(nam)\n",
    "    label = folium.Popup(label, parse_html=True)\n",
    "    folium.CircleMarker(\n",
    "        [lat, lng],\n",
    "        radius=5,\n",
    "        popup=label,\n",
    "        fill=True,\n",
    "        fill_opacity=0.7).add_to(map_USA) \n",
    "    \n",
    "map_USA"
   ]
  },
  {
   "cell_type": "markdown",
   "metadata": {},
   "source": [
    "### For each city, extract 12 data samples throughout the time period and save weather for flight\n",
    "\n"
   ]
  },
  {
   "cell_type": "markdown",
   "metadata": {},
   "source": [
    "### First, add Latitude and Longitude for each row"
   ]
  },
  {
   "cell_type": "raw",
   "metadata": {},
   "source": [
    "city_df.columns"
   ]
  },
  {
   "cell_type": "raw",
   "metadata": {},
   "source": [
    "delay_cities.columns"
   ]
  },
  {
   "cell_type": "raw",
   "metadata": {},
   "source": [
    "delay_cities.shape"
   ]
  },
  {
   "cell_type": "raw",
   "metadata": {},
   "source": [
    "city=pd.DataFrame([cities_to_samp,latitude,longitude])"
   ]
  },
  {
   "cell_type": "raw",
   "metadata": {},
   "source": [
    "city.columns=city.iloc[0,:]"
   ]
  },
  {
   "cell_type": "raw",
   "metadata": {},
   "source": [
    "city=city.drop(0).reset_index().drop('index',axis=1)"
   ]
  },
  {
   "cell_type": "raw",
   "metadata": {},
   "source": [
    "city"
   ]
  },
  {
   "cell_type": "raw",
   "metadata": {},
   "source": [
    "city_dict=city.to_dict()"
   ]
  },
  {
   "cell_type": "raw",
   "metadata": {
    "jupyter": {
     "outputs_hidden": true
    }
   },
   "source": [
    "city_dict"
   ]
  },
  {
   "cell_type": "raw",
   "metadata": {},
   "source": [
    "delay_cities=delay_cities.reset_index().drop('index',axis=1)"
   ]
  },
  {
   "cell_type": "raw",
   "metadata": {},
   "source": [
    "city_dict=city_df.to_dict()"
   ]
  },
  {
   "cell_type": "raw",
   "metadata": {},
   "source": [
    "city_dict"
   ]
  },
  {
   "cell_type": "code",
   "execution_count": 87,
   "metadata": {},
   "outputs": [],
   "source": [
    "city_df=city_df.T"
   ]
  },
  {
   "cell_type": "code",
   "execution_count": 89,
   "metadata": {},
   "outputs": [],
   "source": [
    "city_df.columns=city_df.iloc[0,:]"
   ]
  },
  {
   "cell_type": "code",
   "execution_count": 97,
   "metadata": {},
   "outputs": [],
   "source": [
    "city_df=city_df.reset_index().drop('index',axis=1)"
   ]
  },
  {
   "cell_type": "code",
   "execution_count": 103,
   "metadata": {},
   "outputs": [],
   "source": [
    "city_df=city_df.drop(0).reset_index().drop('index',axis=1)"
   ]
  },
  {
   "cell_type": "code",
   "execution_count": 104,
   "metadata": {},
   "outputs": [],
   "source": [
    "city_dict=city_df.to_dict()"
   ]
  },
  {
   "cell_type": "code",
   "execution_count": 105,
   "metadata": {},
   "outputs": [
    {
     "data": {
      "text/html": [
       "<div>\n",
       "<style scoped>\n",
       "    .dataframe tbody tr th:only-of-type {\n",
       "        vertical-align: middle;\n",
       "    }\n",
       "\n",
       "    .dataframe tbody tr th {\n",
       "        vertical-align: top;\n",
       "    }\n",
       "\n",
       "    .dataframe thead th {\n",
       "        text-align: right;\n",
       "    }\n",
       "</style>\n",
       "<table border=\"1\" class=\"dataframe\">\n",
       "  <thead>\n",
       "    <tr style=\"text-align: right;\">\n",
       "      <th>origin</th>\n",
       "      <th>EAR</th>\n",
       "      <th>YKM</th>\n",
       "      <th>SPS</th>\n",
       "      <th>STX</th>\n",
       "      <th>PSG</th>\n",
       "      <th>IAG</th>\n",
       "      <th>HGR</th>\n",
       "      <th>BTM</th>\n",
       "      <th>BET</th>\n",
       "      <th>BJI</th>\n",
       "      <th>...</th>\n",
       "      <th>CLT</th>\n",
       "      <th>OAK</th>\n",
       "      <th>SLC</th>\n",
       "      <th>BOI</th>\n",
       "      <th>PVD</th>\n",
       "      <th>IAD</th>\n",
       "      <th>BWI</th>\n",
       "      <th>RIC</th>\n",
       "      <th>PWM</th>\n",
       "      <th>BUR</th>\n",
       "    </tr>\n",
       "  </thead>\n",
       "  <tbody>\n",
       "    <tr>\n",
       "      <th>0</th>\n",
       "      <td>26.254</td>\n",
       "      <td>46.5668</td>\n",
       "      <td>40.8328</td>\n",
       "      <td>17.7</td>\n",
       "      <td>50.9461</td>\n",
       "      <td>43.1075</td>\n",
       "      <td>39.7088</td>\n",
       "      <td>12.9113</td>\n",
       "      <td>31.9421</td>\n",
       "      <td>47.5101</td>\n",
       "      <td>...</td>\n",
       "      <td>35.2107</td>\n",
       "      <td>37.7222</td>\n",
       "      <td>40.7901</td>\n",
       "      <td>45.9693</td>\n",
       "      <td>41.7224</td>\n",
       "      <td>38.9523</td>\n",
       "      <td>39.1747</td>\n",
       "      <td>40.7763</td>\n",
       "      <td>43.6462</td>\n",
       "      <td>43.2769</td>\n",
       "    </tr>\n",
       "    <tr>\n",
       "      <th>1</th>\n",
       "      <td>29.2675</td>\n",
       "      <td>-120.537</td>\n",
       "      <td>-8.10256</td>\n",
       "      <td>-64.8059</td>\n",
       "      <td>22.1641</td>\n",
       "      <td>-78.9509</td>\n",
       "      <td>-77.7268</td>\n",
       "      <td>77.6046</td>\n",
       "      <td>35.2224</td>\n",
       "      <td>-94.9298</td>\n",
       "      <td>...</td>\n",
       "      <td>-80.9457</td>\n",
       "      <td>-122.217</td>\n",
       "      <td>-111.98</td>\n",
       "      <td>18.5161</td>\n",
       "      <td>-71.4286</td>\n",
       "      <td>-77.4534</td>\n",
       "      <td>-76.6711</td>\n",
       "      <td>-82.5302</td>\n",
       "      <td>-70.3144</td>\n",
       "      <td>0.092596</td>\n",
       "    </tr>\n",
       "  </tbody>\n",
       "</table>\n",
       "<p>2 rows × 76 columns</p>\n",
       "</div>"
      ],
      "text/plain": [
       "origin      EAR      YKM      SPS      STX      PSG      IAG      HGR  \\\n",
       "0        26.254  46.5668  40.8328     17.7  50.9461  43.1075  39.7088   \n",
       "1       29.2675 -120.537 -8.10256 -64.8059  22.1641 -78.9509 -77.7268   \n",
       "\n",
       "origin      BTM      BET      BJI  ...      CLT      OAK      SLC      BOI  \\\n",
       "0       12.9113  31.9421  47.5101  ...  35.2107  37.7222  40.7901  45.9693   \n",
       "1       77.6046  35.2224 -94.9298  ... -80.9457 -122.217  -111.98  18.5161   \n",
       "\n",
       "origin      PVD      IAD      BWI      RIC      PWM       BUR  \n",
       "0       41.7224  38.9523  39.1747  40.7763  43.6462   43.2769  \n",
       "1      -71.4286 -77.4534 -76.6711 -82.5302 -70.3144  0.092596  \n",
       "\n",
       "[2 rows x 76 columns]"
      ]
     },
     "execution_count": 105,
     "metadata": {},
     "output_type": "execute_result"
    }
   ],
   "source": [
    "city_df"
   ]
  },
  {
   "cell_type": "code",
   "execution_count": 111,
   "metadata": {},
   "outputs": [
    {
     "data": {
      "text/plain": [
       "{0: 26.254049300000002, 1: 29.2675469}"
      ]
     },
     "execution_count": 111,
     "metadata": {},
     "output_type": "execute_result"
    }
   ],
   "source": [
    "city_dict[cities_to_samp[0]]"
   ]
  },
  {
   "cell_type": "code",
   "execution_count": 115,
   "metadata": {},
   "outputs": [],
   "source": [
    "delay_cities=delay_cities.reset_index().drop('index',axis=1)"
   ]
  },
  {
   "cell_type": "code",
   "execution_count": 116,
   "metadata": {},
   "outputs": [],
   "source": [
    "# this takes the newly created dictionary with airport code and lati/longi\n",
    "# and adds lati/longi for each instance of that airport code in the 3 million \n",
    "# rows we have\n",
    "lati=[]\n",
    "longi=[]\n",
    "for i in range(len(delay_cities)):\n",
    "    lati.append(city_dict[delay_cities['origin'][i]][0])\n",
    "    longi.append(city_dict[delay_cities['origin'][i]][1])"
   ]
  },
  {
   "cell_type": "code",
   "execution_count": 117,
   "metadata": {},
   "outputs": [],
   "source": [
    "#add departure lat & lon to dataframe containing cities I will parse from\n",
    "delay_cities['dep_latitude']=lati\n",
    "delay_cities['dep_longitude']=longi"
   ]
  },
  {
   "cell_type": "code",
   "execution_count": 118,
   "metadata": {},
   "outputs": [
    {
     "data": {
      "text/plain": [
       "(3103224, 19)"
      ]
     },
     "execution_count": 118,
     "metadata": {},
     "output_type": "execute_result"
    }
   ],
   "source": [
    "delay_cities.shape"
   ]
  },
  {
   "cell_type": "code",
   "execution_count": 119,
   "metadata": {},
   "outputs": [
    {
     "data": {
      "text/html": [
       "<div>\n",
       "<style scoped>\n",
       "    .dataframe tbody tr th:only-of-type {\n",
       "        vertical-align: middle;\n",
       "    }\n",
       "\n",
       "    .dataframe tbody tr th {\n",
       "        vertical-align: top;\n",
       "    }\n",
       "\n",
       "    .dataframe thead th {\n",
       "        text-align: right;\n",
       "    }\n",
       "</style>\n",
       "<table border=\"1\" class=\"dataframe\">\n",
       "  <thead>\n",
       "    <tr style=\"text-align: right;\">\n",
       "      <th></th>\n",
       "      <th>fl_date</th>\n",
       "      <th>dep_time</th>\n",
       "      <th>origin_airport_id</th>\n",
       "      <th>origin</th>\n",
       "      <th>origin_city_name</th>\n",
       "      <th>dest_airport_id</th>\n",
       "      <th>dest</th>\n",
       "      <th>dest_city_name</th>\n",
       "      <th>dep_delay</th>\n",
       "      <th>arr_delay</th>\n",
       "      <th>cancelled</th>\n",
       "      <th>diverted</th>\n",
       "      <th>weather_delay</th>\n",
       "      <th>nas_delay</th>\n",
       "      <th>security_delay</th>\n",
       "      <th>late_aircraft_delay</th>\n",
       "      <th>month</th>\n",
       "      <th>dep_latitude</th>\n",
       "      <th>dep_longitude</th>\n",
       "    </tr>\n",
       "  </thead>\n",
       "  <tbody>\n",
       "    <tr>\n",
       "      <th>0</th>\n",
       "      <td>2018-05-31</td>\n",
       "      <td>2022.0</td>\n",
       "      <td>12892</td>\n",
       "      <td>LAX</td>\n",
       "      <td>Los Angeles, CA</td>\n",
       "      <td>14771</td>\n",
       "      <td>SFO</td>\n",
       "      <td>San Francisco, CA</td>\n",
       "      <td>22.0</td>\n",
       "      <td>75.0</td>\n",
       "      <td>0</td>\n",
       "      <td>0</td>\n",
       "      <td>0.0</td>\n",
       "      <td>75.0</td>\n",
       "      <td>0.0</td>\n",
       "      <td>0.0</td>\n",
       "      <td>5</td>\n",
       "      <td>33.942168</td>\n",
       "      <td>-118.421376</td>\n",
       "    </tr>\n",
       "    <tr>\n",
       "      <th>1</th>\n",
       "      <td>2018-05-31</td>\n",
       "      <td>2154.0</td>\n",
       "      <td>12892</td>\n",
       "      <td>LAX</td>\n",
       "      <td>Los Angeles, CA</td>\n",
       "      <td>14771</td>\n",
       "      <td>SFO</td>\n",
       "      <td>San Francisco, CA</td>\n",
       "      <td>59.0</td>\n",
       "      <td>96.0</td>\n",
       "      <td>0</td>\n",
       "      <td>0</td>\n",
       "      <td>0.0</td>\n",
       "      <td>96.0</td>\n",
       "      <td>0.0</td>\n",
       "      <td>0.0</td>\n",
       "      <td>5</td>\n",
       "      <td>33.942168</td>\n",
       "      <td>-118.421376</td>\n",
       "    </tr>\n",
       "    <tr>\n",
       "      <th>2</th>\n",
       "      <td>2018-05-31</td>\n",
       "      <td>2345.0</td>\n",
       "      <td>12892</td>\n",
       "      <td>LAX</td>\n",
       "      <td>Los Angeles, CA</td>\n",
       "      <td>14771</td>\n",
       "      <td>SFO</td>\n",
       "      <td>San Francisco, CA</td>\n",
       "      <td>0.0</td>\n",
       "      <td>13.0</td>\n",
       "      <td>0</td>\n",
       "      <td>0</td>\n",
       "      <td>NaN</td>\n",
       "      <td>NaN</td>\n",
       "      <td>NaN</td>\n",
       "      <td>NaN</td>\n",
       "      <td>5</td>\n",
       "      <td>33.942168</td>\n",
       "      <td>-118.421376</td>\n",
       "    </tr>\n",
       "  </tbody>\n",
       "</table>\n",
       "</div>"
      ],
      "text/plain": [
       "     fl_date  dep_time  origin_airport_id origin origin_city_name  \\\n",
       "0 2018-05-31    2022.0              12892    LAX  Los Angeles, CA   \n",
       "1 2018-05-31    2154.0              12892    LAX  Los Angeles, CA   \n",
       "2 2018-05-31    2345.0              12892    LAX  Los Angeles, CA   \n",
       "\n",
       "   dest_airport_id dest     dest_city_name  dep_delay  arr_delay  cancelled  \\\n",
       "0            14771  SFO  San Francisco, CA       22.0       75.0          0   \n",
       "1            14771  SFO  San Francisco, CA       59.0       96.0          0   \n",
       "2            14771  SFO  San Francisco, CA        0.0       13.0          0   \n",
       "\n",
       "   diverted  weather_delay  nas_delay  security_delay  late_aircraft_delay  \\\n",
       "0         0            0.0       75.0             0.0                  0.0   \n",
       "1         0            0.0       96.0             0.0                  0.0   \n",
       "2         0            NaN        NaN             NaN                  NaN   \n",
       "\n",
       "   month  dep_latitude  dep_longitude  \n",
       "0      5     33.942168    -118.421376  \n",
       "1      5     33.942168    -118.421376  \n",
       "2      5     33.942168    -118.421376  "
      ]
     },
     "execution_count": 119,
     "metadata": {},
     "output_type": "execute_result"
    }
   ],
   "source": [
    "delay_cities.head(3)"
   ]
  },
  {
   "cell_type": "markdown",
   "metadata": {},
   "source": [
    "## For each city - build DF of samples to pull weather from "
   ]
  },
  {
   "cell_type": "raw",
   "metadata": {},
   "source": [
    "cities_to_samp"
   ]
  },
  {
   "cell_type": "code",
   "execution_count": 120,
   "metadata": {},
   "outputs": [
    {
     "data": {
      "text/plain": [
       "<matplotlib.axes._subplots.AxesSubplot at 0x7fe4f1a40710>"
      ]
     },
     "execution_count": 120,
     "metadata": {},
     "output_type": "execute_result"
    },
    {
     "data": {
      "image/png": "[encoded data removed]",
      "text/plain": [
       "<Figure size 432x288 with 1 Axes>"
      ]
     },
     "metadata": {
      "needs_background": "light"
     },
     "output_type": "display_data"
    }
   ],
   "source": [
    "sns.distplot(delay_cities['month'])"
   ]
  },
  {
   "cell_type": "markdown",
   "metadata": {},
   "source": [
    "# First, separate data frame by month"
   ]
  },
  {
   "cell_type": "code",
   "execution_count": 121,
   "metadata": {},
   "outputs": [],
   "source": [
    "#Create dictionary that contains 12 dataframes of flights based on the month\n",
    "d={}\n",
    "for i in range(1,13):\n",
    "    #print(i)\n",
    "    d[\"month\" + str(i)]=delay_cities[delay_cities['month']==i]"
   ]
  },
  {
   "cell_type": "code",
   "execution_count": 122,
   "metadata": {},
   "outputs": [
    {
     "data": {
      "text/plain": [
       "dict_keys(['month1', 'month2', 'month3', 'month4', 'month5', 'month6', 'month7', 'month8', 'month9', 'month10', 'month11', 'month12'])"
      ]
     },
     "execution_count": 122,
     "metadata": {},
     "output_type": "execute_result"
    }
   ],
   "source": [
    "d.keys()"
   ]
  },
  {
   "cell_type": "code",
   "execution_count": 56,
   "metadata": {},
   "outputs": [
    {
     "data": {
      "text/html": [
       "<div>\n",
       "<style scoped>\n",
       "    .dataframe tbody tr th:only-of-type {\n",
       "        vertical-align: middle;\n",
       "    }\n",
       "\n",
       "    .dataframe tbody tr th {\n",
       "        vertical-align: top;\n",
       "    }\n",
       "\n",
       "    .dataframe thead th {\n",
       "        text-align: right;\n",
       "    }\n",
       "</style>\n",
       "<table border=\"1\" class=\"dataframe\">\n",
       "  <thead>\n",
       "    <tr style=\"text-align: right;\">\n",
       "      <th></th>\n",
       "      <th>fl_date</th>\n",
       "      <th>dep_time</th>\n",
       "      <th>origin_airport_id</th>\n",
       "      <th>origin</th>\n",
       "      <th>origin_city_name</th>\n",
       "      <th>dest_airport_id</th>\n",
       "      <th>dest</th>\n",
       "      <th>dest_city_name</th>\n",
       "      <th>dep_delay</th>\n",
       "      <th>arr_delay</th>\n",
       "      <th>cancelled</th>\n",
       "      <th>diverted</th>\n",
       "      <th>weather_delay</th>\n",
       "      <th>nas_delay</th>\n",
       "      <th>security_delay</th>\n",
       "      <th>late_aircraft_delay</th>\n",
       "      <th>month</th>\n",
       "    </tr>\n",
       "  </thead>\n",
       "  <tbody>\n",
       "    <tr>\n",
       "      <th>5636035</th>\n",
       "      <td>2018-01-17</td>\n",
       "      <td>1533.0</td>\n",
       "      <td>16101</td>\n",
       "      <td>YKM</td>\n",
       "      <td>Yakima, WA</td>\n",
       "      <td>14747</td>\n",
       "      <td>SEA</td>\n",
       "      <td>Seattle, WA</td>\n",
       "      <td>-2.0</td>\n",
       "      <td>17.0</td>\n",
       "      <td>0</td>\n",
       "      <td>0</td>\n",
       "      <td>0.0</td>\n",
       "      <td>17.0</td>\n",
       "      <td>0.0</td>\n",
       "      <td>0.0</td>\n",
       "      <td>1</td>\n",
       "    </tr>\n",
       "  </tbody>\n",
       "</table>\n",
       "</div>"
      ],
      "text/plain": [
       "           fl_date  dep_time  origin_airport_id origin origin_city_name  \\\n",
       "5636035 2018-01-17    1533.0              16101    YKM       Yakima, WA   \n",
       "\n",
       "         dest_airport_id dest dest_city_name  dep_delay  arr_delay  cancelled  \\\n",
       "5636035            14747  SEA    Seattle, WA       -2.0       17.0          0   \n",
       "\n",
       "         diverted  weather_delay  nas_delay  security_delay  \\\n",
       "5636035         0            0.0       17.0             0.0   \n",
       "\n",
       "         late_aircraft_delay  month  \n",
       "5636035                  0.0      1  "
      ]
     },
     "execution_count": 56,
     "metadata": {},
     "output_type": "execute_result"
    }
   ],
   "source": [
    "d['month1'][d['month1']['origin']==cities_to_samp[1]].sample(n=1)"
   ]
  },
  {
   "cell_type": "code",
   "execution_count": 123,
   "metadata": {},
   "outputs": [],
   "source": [
    "extra=[]\n",
    "for i in cities_to_samp:\n",
    "    for months in d:\n",
    "        extra.append([i,d[months][d[months]['origin']==i].sample(n=1)])"
   ]
  },
  {
   "cell_type": "code",
   "execution_count": 124,
   "metadata": {},
   "outputs": [
    {
     "data": {
      "text/plain": [
       "912"
      ]
     },
     "execution_count": 124,
     "metadata": {},
     "output_type": "execute_result"
    }
   ],
   "source": [
    "len(extra)"
   ]
  },
  {
   "cell_type": "code",
   "execution_count": 125,
   "metadata": {},
   "outputs": [],
   "source": [
    "weath_samp1=pd.DataFrame(extra)"
   ]
  },
  {
   "cell_type": "code",
   "execution_count": 126,
   "metadata": {},
   "outputs": [],
   "source": [
    "weath_samp1=weath_samp1.drop(0,axis=1)"
   ]
  },
  {
   "cell_type": "code",
   "execution_count": 127,
   "metadata": {},
   "outputs": [
    {
     "data": {
      "text/html": [
       "<div>\n",
       "<style scoped>\n",
       "    .dataframe tbody tr th:only-of-type {\n",
       "        vertical-align: middle;\n",
       "    }\n",
       "\n",
       "    .dataframe tbody tr th {\n",
       "        vertical-align: top;\n",
       "    }\n",
       "\n",
       "    .dataframe thead th {\n",
       "        text-align: right;\n",
       "    }\n",
       "</style>\n",
       "<table border=\"1\" class=\"dataframe\">\n",
       "  <thead>\n",
       "    <tr style=\"text-align: right;\">\n",
       "      <th></th>\n",
       "      <th>fl_date</th>\n",
       "      <th>dep_time</th>\n",
       "      <th>origin_airport_id</th>\n",
       "      <th>origin</th>\n",
       "      <th>origin_city_name</th>\n",
       "      <th>dest_airport_id</th>\n",
       "      <th>dest</th>\n",
       "      <th>dest_city_name</th>\n",
       "      <th>dep_delay</th>\n",
       "      <th>arr_delay</th>\n",
       "      <th>cancelled</th>\n",
       "      <th>diverted</th>\n",
       "      <th>weather_delay</th>\n",
       "      <th>nas_delay</th>\n",
       "      <th>security_delay</th>\n",
       "      <th>late_aircraft_delay</th>\n",
       "      <th>month</th>\n",
       "      <th>dep_latitude</th>\n",
       "      <th>dep_longitude</th>\n",
       "    </tr>\n",
       "  </thead>\n",
       "  <tbody>\n",
       "    <tr>\n",
       "      <th>2946900</th>\n",
       "      <td>2019-01-25</td>\n",
       "      <td>1643.0</td>\n",
       "      <td>11468</td>\n",
       "      <td>EAR</td>\n",
       "      <td>Kearney, NE</td>\n",
       "      <td>11292</td>\n",
       "      <td>DEN</td>\n",
       "      <td>Denver, CO</td>\n",
       "      <td>-32.0</td>\n",
       "      <td>-33.0</td>\n",
       "      <td>0</td>\n",
       "      <td>0</td>\n",
       "      <td>NaN</td>\n",
       "      <td>NaN</td>\n",
       "      <td>NaN</td>\n",
       "      <td>NaN</td>\n",
       "      <td>1</td>\n",
       "      <td>26.254049</td>\n",
       "      <td>29.267547</td>\n",
       "    </tr>\n",
       "  </tbody>\n",
       "</table>\n",
       "</div>"
      ],
      "text/plain": [
       "           fl_date  dep_time  origin_airport_id origin origin_city_name  \\\n",
       "2946900 2019-01-25    1643.0              11468    EAR      Kearney, NE   \n",
       "\n",
       "         dest_airport_id dest dest_city_name  dep_delay  arr_delay  cancelled  \\\n",
       "2946900            11292  DEN     Denver, CO      -32.0      -33.0          0   \n",
       "\n",
       "         diverted  weather_delay  nas_delay  security_delay  \\\n",
       "2946900         0            NaN        NaN             NaN   \n",
       "\n",
       "         late_aircraft_delay  month  dep_latitude  dep_longitude  \n",
       "2946900                  NaN      1     26.254049      29.267547  "
      ]
     },
     "execution_count": 127,
     "metadata": {},
     "output_type": "execute_result"
    }
   ],
   "source": [
    "weath_samp1[1][0]"
   ]
  },
  {
   "cell_type": "code",
   "execution_count": 128,
   "metadata": {},
   "outputs": [
    {
     "data": {
      "text/plain": [
       "(912, 1)"
      ]
     },
     "execution_count": 128,
     "metadata": {},
     "output_type": "execute_result"
    }
   ],
   "source": [
    "weath_samp1.shape"
   ]
  },
  {
   "cell_type": "code",
   "execution_count": 129,
   "metadata": {},
   "outputs": [],
   "source": [
    "weath_samp=pd.DataFrame()"
   ]
  },
  {
   "cell_type": "code",
   "execution_count": 130,
   "metadata": {},
   "outputs": [],
   "source": [
    "for i in range(len(weath_samp1)):\n",
    "    weath_samp = weath_samp.append(weath_samp1[1][i], ignore_index=True)"
   ]
  },
  {
   "cell_type": "code",
   "execution_count": 131,
   "metadata": {},
   "outputs": [
    {
     "data": {
      "text/plain": [
       "<matplotlib.axes._subplots.AxesSubplot at 0x7fe47a382350>"
      ]
     },
     "execution_count": 131,
     "metadata": {},
     "output_type": "execute_result"
    },
    {
     "data": {
      "image/png": "[encoded data removed]",
      "text/plain": [
       "<Figure size 432x288 with 1 Axes>"
      ]
     },
     "metadata": {
      "needs_background": "light"
     },
     "output_type": "display_data"
    }
   ],
   "source": [
    "sns.distplot(weath_samp['dep_delay'])"
   ]
  },
  {
   "cell_type": "code",
   "execution_count": 132,
   "metadata": {},
   "outputs": [
    {
     "data": {
      "text/plain": [
       "187"
      ]
     },
     "execution_count": 132,
     "metadata": {},
     "output_type": "execute_result"
    }
   ],
   "source": [
    "weath_samp['weather_delay'].count()"
   ]
  },
  {
   "cell_type": "code",
   "execution_count": 133,
   "metadata": {},
   "outputs": [
    {
     "data": {
      "text/plain": [
       "0.2050438596491228"
      ]
     },
     "execution_count": 133,
     "metadata": {},
     "output_type": "execute_result"
    }
   ],
   "source": [
    "187/912"
   ]
  },
  {
   "cell_type": "code",
   "execution_count": 134,
   "metadata": {},
   "outputs": [
    {
     "data": {
      "text/html": [
       "<div>\n",
       "<style scoped>\n",
       "    .dataframe tbody tr th:only-of-type {\n",
       "        vertical-align: middle;\n",
       "    }\n",
       "\n",
       "    .dataframe tbody tr th {\n",
       "        vertical-align: top;\n",
       "    }\n",
       "\n",
       "    .dataframe thead th {\n",
       "        text-align: right;\n",
       "    }\n",
       "</style>\n",
       "<table border=\"1\" class=\"dataframe\">\n",
       "  <thead>\n",
       "    <tr style=\"text-align: right;\">\n",
       "      <th></th>\n",
       "      <th>fl_date</th>\n",
       "      <th>dep_time</th>\n",
       "      <th>origin_airport_id</th>\n",
       "      <th>origin</th>\n",
       "      <th>origin_city_name</th>\n",
       "      <th>dest_airport_id</th>\n",
       "      <th>dest</th>\n",
       "      <th>dest_city_name</th>\n",
       "      <th>dep_delay</th>\n",
       "      <th>arr_delay</th>\n",
       "      <th>cancelled</th>\n",
       "      <th>diverted</th>\n",
       "      <th>weather_delay</th>\n",
       "      <th>nas_delay</th>\n",
       "      <th>security_delay</th>\n",
       "      <th>late_aircraft_delay</th>\n",
       "      <th>month</th>\n",
       "      <th>dep_latitude</th>\n",
       "      <th>dep_longitude</th>\n",
       "    </tr>\n",
       "  </thead>\n",
       "  <tbody>\n",
       "    <tr>\n",
       "      <th>0</th>\n",
       "      <td>2019-01-25</td>\n",
       "      <td>1643.0</td>\n",
       "      <td>11468</td>\n",
       "      <td>EAR</td>\n",
       "      <td>Kearney, NE</td>\n",
       "      <td>11292</td>\n",
       "      <td>DEN</td>\n",
       "      <td>Denver, CO</td>\n",
       "      <td>-32.0</td>\n",
       "      <td>-33.0</td>\n",
       "      <td>0</td>\n",
       "      <td>0</td>\n",
       "      <td>NaN</td>\n",
       "      <td>NaN</td>\n",
       "      <td>NaN</td>\n",
       "      <td>NaN</td>\n",
       "      <td>1</td>\n",
       "      <td>26.254049</td>\n",
       "      <td>29.267547</td>\n",
       "    </tr>\n",
       "    <tr>\n",
       "      <th>1</th>\n",
       "      <td>2019-02-08</td>\n",
       "      <td>1655.0</td>\n",
       "      <td>11468</td>\n",
       "      <td>EAR</td>\n",
       "      <td>Kearney, NE</td>\n",
       "      <td>11292</td>\n",
       "      <td>DEN</td>\n",
       "      <td>Denver, CO</td>\n",
       "      <td>-20.0</td>\n",
       "      <td>-28.0</td>\n",
       "      <td>0</td>\n",
       "      <td>0</td>\n",
       "      <td>NaN</td>\n",
       "      <td>NaN</td>\n",
       "      <td>NaN</td>\n",
       "      <td>NaN</td>\n",
       "      <td>2</td>\n",
       "      <td>26.254049</td>\n",
       "      <td>29.267547</td>\n",
       "    </tr>\n",
       "    <tr>\n",
       "      <th>2</th>\n",
       "      <td>2019-03-06</td>\n",
       "      <td>626.0</td>\n",
       "      <td>11468</td>\n",
       "      <td>EAR</td>\n",
       "      <td>Kearney, NE</td>\n",
       "      <td>11292</td>\n",
       "      <td>DEN</td>\n",
       "      <td>Denver, CO</td>\n",
       "      <td>-9.0</td>\n",
       "      <td>-23.0</td>\n",
       "      <td>0</td>\n",
       "      <td>0</td>\n",
       "      <td>NaN</td>\n",
       "      <td>NaN</td>\n",
       "      <td>NaN</td>\n",
       "      <td>NaN</td>\n",
       "      <td>3</td>\n",
       "      <td>26.254049</td>\n",
       "      <td>29.267547</td>\n",
       "    </tr>\n",
       "    <tr>\n",
       "      <th>3</th>\n",
       "      <td>2019-04-15</td>\n",
       "      <td>1559.0</td>\n",
       "      <td>11468</td>\n",
       "      <td>EAR</td>\n",
       "      <td>Kearney, NE</td>\n",
       "      <td>11292</td>\n",
       "      <td>DEN</td>\n",
       "      <td>Denver, CO</td>\n",
       "      <td>-14.0</td>\n",
       "      <td>-30.0</td>\n",
       "      <td>0</td>\n",
       "      <td>0</td>\n",
       "      <td>NaN</td>\n",
       "      <td>NaN</td>\n",
       "      <td>NaN</td>\n",
       "      <td>NaN</td>\n",
       "      <td>4</td>\n",
       "      <td>26.254049</td>\n",
       "      <td>29.267547</td>\n",
       "    </tr>\n",
       "    <tr>\n",
       "      <th>4</th>\n",
       "      <td>2019-05-15</td>\n",
       "      <td>620.0</td>\n",
       "      <td>11468</td>\n",
       "      <td>EAR</td>\n",
       "      <td>Kearney, NE</td>\n",
       "      <td>11292</td>\n",
       "      <td>DEN</td>\n",
       "      <td>Denver, CO</td>\n",
       "      <td>-15.0</td>\n",
       "      <td>-29.0</td>\n",
       "      <td>0</td>\n",
       "      <td>0</td>\n",
       "      <td>NaN</td>\n",
       "      <td>NaN</td>\n",
       "      <td>NaN</td>\n",
       "      <td>NaN</td>\n",
       "      <td>5</td>\n",
       "      <td>26.254049</td>\n",
       "      <td>29.267547</td>\n",
       "    </tr>\n",
       "  </tbody>\n",
       "</table>\n",
       "</div>"
      ],
      "text/plain": [
       "     fl_date  dep_time  origin_airport_id origin origin_city_name  \\\n",
       "0 2019-01-25    1643.0              11468    EAR      Kearney, NE   \n",
       "1 2019-02-08    1655.0              11468    EAR      Kearney, NE   \n",
       "2 2019-03-06     626.0              11468    EAR      Kearney, NE   \n",
       "3 2019-04-15    1559.0              11468    EAR      Kearney, NE   \n",
       "4 2019-05-15     620.0              11468    EAR      Kearney, NE   \n",
       "\n",
       "   dest_airport_id dest dest_city_name  dep_delay  arr_delay  cancelled  \\\n",
       "0            11292  DEN     Denver, CO      -32.0      -33.0          0   \n",
       "1            11292  DEN     Denver, CO      -20.0      -28.0          0   \n",
       "2            11292  DEN     Denver, CO       -9.0      -23.0          0   \n",
       "3            11292  DEN     Denver, CO      -14.0      -30.0          0   \n",
       "4            11292  DEN     Denver, CO      -15.0      -29.0          0   \n",
       "\n",
       "   diverted  weather_delay  nas_delay  security_delay  late_aircraft_delay  \\\n",
       "0         0            NaN        NaN             NaN                  NaN   \n",
       "1         0            NaN        NaN             NaN                  NaN   \n",
       "2         0            NaN        NaN             NaN                  NaN   \n",
       "3         0            NaN        NaN             NaN                  NaN   \n",
       "4         0            NaN        NaN             NaN                  NaN   \n",
       "\n",
       "   month  dep_latitude  dep_longitude  \n",
       "0      1     26.254049      29.267547  \n",
       "1      2     26.254049      29.267547  \n",
       "2      3     26.254049      29.267547  \n",
       "3      4     26.254049      29.267547  \n",
       "4      5     26.254049      29.267547  "
      ]
     },
     "execution_count": 134,
     "metadata": {},
     "output_type": "execute_result"
    }
   ],
   "source": [
    "weath_samp.head()"
   ]
  },
  {
   "cell_type": "code",
   "execution_count": 135,
   "metadata": {},
   "outputs": [
    {
     "data": {
      "text/plain": [
       "Index(['fl_date', 'dep_time', 'origin_airport_id', 'origin',\n",
       "       'origin_city_name', 'dest_airport_id', 'dest', 'dest_city_name',\n",
       "       'dep_delay', 'arr_delay', 'cancelled', 'diverted', 'weather_delay',\n",
       "       'nas_delay', 'security_delay', 'late_aircraft_delay', 'month',\n",
       "       'dep_latitude', 'dep_longitude'],\n",
       "      dtype='object')"
      ]
     },
     "execution_count": 135,
     "metadata": {},
     "output_type": "execute_result"
    }
   ],
   "source": [
    "weath_samp.columns"
   ]
  },
  {
   "cell_type": "code",
   "execution_count": 136,
   "metadata": {},
   "outputs": [],
   "source": [
    "weath_samp_API=weath_samp[['origin','origin_city_name','dep_time','fl_date','dep_latitude', 'dep_longitude','dep_delay']]"
   ]
  },
  {
   "cell_type": "code",
   "execution_count": 637,
   "metadata": {},
   "outputs": [
    {
     "data": {
      "text/plain": [
       "Index(['fl_date', 'mkt_unique_carrier', 'branded_code_share', 'mkt_carrier',\n",
       "       'mkt_carrier_fl_num', 'op_unique_carrier', 'tail_num',\n",
       "       'op_carrier_fl_num', 'origin_airport_id', 'origin', 'origin_city_name',\n",
       "       'dest_airport_id', 'dest', 'dest_city_name', 'crs_dep_time', 'dep_time',\n",
       "       'dep_delay', 'taxi_out', 'wheels_off', 'wheels_on', 'taxi_in',\n",
       "       'crs_arr_time', 'arr_time', 'arr_delay', 'cancelled', 'diverted', 'dup',\n",
       "       'crs_elapsed_time', 'actual_elapsed_time', 'air_time', 'flights',\n",
       "       'distance', 'carrier_delay', 'weather_delay', 'nas_delay',\n",
       "       'security_delay', 'late_aircraft_delay'],\n",
       "      dtype='object')"
      ]
     },
     "execution_count": 637,
     "metadata": {},
     "output_type": "execute_result"
    }
   ],
   "source": [
    "df_flights.columns"
   ]
  },
  {
   "cell_type": "markdown",
   "metadata": {},
   "source": [
    "# Look at Visual Crossings API"
   ]
  },
  {
   "cell_type": "markdown",
   "metadata": {},
   "source": [
    "### TEST API CALL FOR 1 AIRPORT (LAX)"
   ]
  },
  {
   "cell_type": "code",
   "execution_count": 183,
   "metadata": {},
   "outputs": [],
   "source": [
    "api_key = os.environ['VISUAL_CROSSING_API_KEY']"
   ]
  },
  {
   "cell_type": "raw",
   "metadata": {},
   "source": [
    "https://weather.visualcrossing.com/VisualCrossingWebServices/rest/services/weatherdata/historysummary?&minYear=2017&maxYear=2019&chronoUnit=months&breakBy=self&dailySummaries=false&contentType=csv&unitGroup=us&locationMode=single&key=YOUR_API_KEY&locations=39.316219%2C%20-120.326001\n",
    "\n",
    "https://weather.visualcrossing.com/VisualCrossingWebServices/rest/services/weatherdata/historysummary?aggregateHours=24&minYear=1989&maxYear=2019&chronoUnit=months&breakBy=self&dailySummaries=false&contentType=csv&unitGroup=us&locationMode=single&key=YOUR_API_KEY&locations=39.316219%2C%20-120.326001\n",
    "\n",
    "    base_url='https://weather.visualcrossing.com/VisualCrossingWebServices/rest/services/weatherdata/history?'\n",
    "    params='&aggregateHours={}&startDateTime={}&endDateTime={}&unitGroup=metric&contentType=json&location={},{}&key={}'\\\n",
    "    .format(forcast_type,start_time,end_time,latitude,longitude,api_key)"
   ]
  },
  {
   "cell_type": "code",
   "execution_count": 195,
   "metadata": {},
   "outputs": [],
   "source": [
    "\n",
    "base_url='https://weather.visualcrossing.com/VisualCrossingWebServices/rest/services/weatherdata/historysummary?'\n",
    "params='&aggregateHours=24&minYear=2018&maxYear=2019&chronoUnit=months&breakBy=self&dailySummaries=false&contentType=json&locationMode=single&key={}&location={},{}'.format(api_key,weath_samp_API['dep_latitude'].iloc[720],weath_samp_API['dep_longitude'].iloc[720])\n",
    "\n",
    "#API call to FS with cityname and lat long building \n",
    "results = requests.get(base_url+params).json()\n",
    "data2=json.dumps(results)\n",
    "data=json.loads(data2)"
   ]
  },
  {
   "cell_type": "code",
   "execution_count": 237,
   "metadata": {},
   "outputs": [],
   "source": [
    "#Initialize Dictionary - need to initialize it this way if using the \"fromkeys()\" method or else each \n",
    "#key points to teh same value list\n",
    "dict4=dict.fromkeys(data['location']['values'][0].keys())\n",
    "for k, _ in dict4.items():\n",
    "    dict4[k] = []"
   ]
  },
  {
   "cell_type": "code",
   "execution_count": 239,
   "metadata": {},
   "outputs": [],
   "source": [
    "#save weather params to dictionary per api call\n",
    "for param in dict4.keys():\n",
    "    for i in range(12):\n",
    "        dict4[param].append(data['location']['values'][i][param])\n",
    "        #print(param)\n",
    "    "
   ]
  },
  {
   "cell_type": "code",
   "execution_count": 244,
   "metadata": {},
   "outputs": [],
   "source": [
    "#build DF from dictionary\n",
    "LAX_agg_weath=pd.DataFrame(dict4)"
   ]
  },
  {
   "cell_type": "code",
   "execution_count": 245,
   "metadata": {},
   "outputs": [],
   "source": [
    "#add latitude & longitude to DF\n",
    "LAX_agg_weath['latitude']=data['location']['latitude']\n",
    "LAX_agg_weath['longitude']=data['location']['longitude']"
   ]
  },
  {
   "cell_type": "code",
   "execution_count": 250,
   "metadata": {},
   "outputs": [],
   "source": [
    "#add origin/airport code to weather\n",
    "LAX_agg_weath['origin']=weath_samp_API['origin'].iloc[720]"
   ]
  },
  {
   "cell_type": "code",
   "execution_count": 251,
   "metadata": {},
   "outputs": [],
   "source": [
    "#save to .csv\n",
    "LAX_agg_weath.to_csv(path+'LAX_agg_weath.csv')"
   ]
  },
  {
   "cell_type": "code",
   "execution_count": 254,
   "metadata": {},
   "outputs": [],
   "source": [
    "#call to new DF from .csv\n",
    "testssser=pd.read_csv(path+'LAX_agg_weath.csv')"
   ]
  },
  {
   "cell_type": "markdown",
   "metadata": {},
   "source": [
    "## TEST API CALL FOR LIST OF 2 ADDITIONAL AIRPORTS"
   ]
  },
  {
   "cell_type": "code",
   "execution_count": 444,
   "metadata": {},
   "outputs": [],
   "source": [
    "#NO LOCATION RETURNED: EAR,'SHD', AZA,'FWA','SAF','MHT','SHD'\n",
    "#['MHT','BET','DIK']\n",
    "cit_test=['BET','DIK','IPT']\n",
    "#FWA/SAF,MHT/SHD,BET/IPT,DIK"
   ]
  },
  {
   "cell_type": "code",
   "execution_count": null,
   "metadata": {},
   "outputs": [],
   "source": []
  },
  {
   "cell_type": "code",
   "execution_count": 445,
   "metadata": {},
   "outputs": [
    {
     "name": "stdout",
     "output_type": "stream",
     "text": [
      "31.9420729\n",
      "35.222441700000005\n",
      "BET\n",
      "38.840121999999994\n",
      "40.646145000000004\n",
      "DIK\n",
      "34.0932395\n",
      "35.6482127\n",
      "IPT\n"
     ]
    }
   ],
   "source": [
    "for i, airport in enumerate(cit_test):\n",
    "    print(city_df[city_df['origin']==cit_test[i]]['latitude'].values[0])\n",
    "    print(city_df[city_df['origin']==cit_test[i]]['longitude'].values[0])\n",
    "    print(airport)"
   ]
  },
  {
   "cell_type": "code",
   "execution_count": 446,
   "metadata": {},
   "outputs": [],
   "source": [
    "dummy_list=[]\n",
    "for i, airport in enumerate(cit_test):\n",
    "    lati=city_df[city_df['origin']==cit_test[i]]['latitude'].values[0]\n",
    "    longi=city_df[city_df['origin']==cit_test[i]]['longitude'].values[0]\n",
    "    base_url='https://weather.visualcrossing.com/VisualCrossingWebServices/rest/services/weatherdata/historysummary?'\n",
    "    params='&aggregateHours=24&minYear=2018&maxYear=2019&chronoUnit=months&breakBy=self&dailySummaries=false&contentType=json&locationMode=single&key={}&location={},{}'.format(api_key,lati,longi)\n",
    "\n",
    "    #API call to FS with cityname and lat long building \n",
    "    results = requests.get(base_url+params).json()\n",
    "    data2=json.dumps(results)\n",
    "    data=json.loads(data2)\n",
    "    #Initialize Dictionary - need to initialize it this way if using the \"fromkeys()\" method or else each \n",
    "    #key points to teh same value list\n",
    "    \n",
    "    dict4=dict.fromkeys(data['location']['values'][0].keys())\n",
    "    for k, _ in dict4.items():\n",
    "        dict4[k] = []\n",
    "    #save weather params to dictionary per api call\n",
    "    for param in dict4.keys():\n",
    "        for i in range(12):\n",
    "            dict4[param].append(data['location']['values'][i][param])\n",
    "            #print(param)\n",
    "    dict4['latitude']=data['location']['latitude']\n",
    "    dict4['longitude']=data['location']['longitude']\n",
    "    dict4['origin']=airport\n",
    "    dummy_list.append(dict4)"
   ]
  },
  {
   "cell_type": "markdown",
   "metadata": {},
   "source": [
    "### Next on list for API weather calls"
   ]
  },
  {
   "cell_type": "code",
   "execution_count": 460,
   "metadata": {},
   "outputs": [
    {
     "ename": "KeyError",
     "evalue": "'location'",
     "output_type": "error",
     "traceback": [
      "\u001b[0;31m---------------------------------------------------------------------------\u001b[0m",
      "\u001b[0;31mKeyError\u001b[0m                                  Traceback (most recent call last)",
      "\u001b[0;32m<ipython-input-460-a67b7a2781c4>\u001b[0m in \u001b[0;36m<module>\u001b[0;34m\u001b[0m\n\u001b[1;32m     20\u001b[0m     \u001b[0;31m#key points to teh same value list\u001b[0m\u001b[0;34m\u001b[0m\u001b[0;34m\u001b[0m\u001b[0;34m\u001b[0m\u001b[0m\n\u001b[1;32m     21\u001b[0m \u001b[0;34m\u001b[0m\u001b[0m\n\u001b[0;32m---> 22\u001b[0;31m     \u001b[0mdict4\u001b[0m\u001b[0;34m=\u001b[0m\u001b[0mdict\u001b[0m\u001b[0;34m.\u001b[0m\u001b[0mfromkeys\u001b[0m\u001b[0;34m(\u001b[0m\u001b[0mdata\u001b[0m\u001b[0;34m[\u001b[0m\u001b[0;34m'location'\u001b[0m\u001b[0;34m]\u001b[0m\u001b[0;34m[\u001b[0m\u001b[0;34m'values'\u001b[0m\u001b[0;34m]\u001b[0m\u001b[0;34m[\u001b[0m\u001b[0;36m0\u001b[0m\u001b[0;34m]\u001b[0m\u001b[0;34m.\u001b[0m\u001b[0mkeys\u001b[0m\u001b[0;34m(\u001b[0m\u001b[0;34m)\u001b[0m\u001b[0;34m)\u001b[0m\u001b[0;34m\u001b[0m\u001b[0;34m\u001b[0m\u001b[0m\n\u001b[0m\u001b[1;32m     23\u001b[0m     \u001b[0;32mfor\u001b[0m \u001b[0mk\u001b[0m\u001b[0;34m,\u001b[0m \u001b[0m_\u001b[0m \u001b[0;32min\u001b[0m \u001b[0mdict4\u001b[0m\u001b[0;34m.\u001b[0m\u001b[0mitems\u001b[0m\u001b[0;34m(\u001b[0m\u001b[0;34m)\u001b[0m\u001b[0;34m:\u001b[0m\u001b[0;34m\u001b[0m\u001b[0;34m\u001b[0m\u001b[0m\n\u001b[1;32m     24\u001b[0m         \u001b[0mdict4\u001b[0m\u001b[0;34m[\u001b[0m\u001b[0mk\u001b[0m\u001b[0;34m]\u001b[0m \u001b[0;34m=\u001b[0m \u001b[0;34m[\u001b[0m\u001b[0;34m]\u001b[0m\u001b[0;34m\u001b[0m\u001b[0;34m\u001b[0m\u001b[0m\n",
      "\u001b[0;31mKeyError\u001b[0m: 'location'"
     ]
    }
   ],
   "source": [
    "dummy_list=[]\n",
    "latitudes=[26.1367,33.9715,4.3882]\n",
    "longitudes=[28.2411,18.6021,15.4472]\n",
    "cit=['JNB','CPT','FIH']\n",
    "# 26.1367° S, 28.2411° E - johanessburg - south africa, JNB\n",
    "# 33.9715° S, 18.6021° E- capetown airport, CPT\n",
    "# 4.3882° S, 15.4472° E - DRC-  busiest in congo, FIH\n",
    "for i in range(3):\n",
    "    lati=latitudes[i]\n",
    "    longi=longitudes[i]\n",
    "    cit_=cit[i]\n",
    "    base_url='https://weather.visualcrossing.com/VisualCrossingWebServices/rest/services/weatherdata/historysummary?'\n",
    "    params='&aggregateHours=24&minYear=2018&maxYear=2019&chronoUnit=months&breakBy=self&dailySummaries=false&contentType=json&locationMode=single&key={}&location={},{}'.format(api_key,lati,longi)\n",
    "\n",
    "    #API call to FS with cityname and lat long building \n",
    "    results = requests.get(base_url+params).json()\n",
    "    data2=json.dumps(results)\n",
    "    data=json.loads(data2)\n",
    "    #Initialize Dictionary - need to initialize it this way if using the \"fromkeys()\" method or else each \n",
    "    #key points to teh same value list\n",
    "    \n",
    "    dict4=dict.fromkeys(data['location']['values'][0].keys())\n",
    "    for k, _ in dict4.items():\n",
    "        dict4[k] = []\n",
    "    #save weather params to dictionary per api call\n",
    "    for param in dict4.keys():\n",
    "        for i in range(12):\n",
    "            dict4[param].append(data['location']['values'][i][param])\n",
    "            #print(param)\n",
    "    dict4['latitude']=data['location']['latitude']\n",
    "    dict4['longitude']=data['location']['longitude']\n",
    "    dict4['origin']=cit_\n",
    "    dummy_list.append(dict4)\n",
    "    \n",
    "# 26.1367° S, 28.2411° E - johanessburg - south africa\n",
    "# 33.9715° S, 18.6021° E- capetown airport\n",
    "# 4.3882° S, 15.4472° E - DRC-  busiest in congo"
   ]
  },
  {
   "cell_type": "code",
   "execution_count": 461,
   "metadata": {},
   "outputs": [
    {
     "data": {
      "text/plain": [
       "{'errorCode': 999,\n",
       " 'sessionId': '',\n",
       " 'executionTime': -1,\n",
       " 'message': 'You have exceeded the maximum number of daily query results for your account. See https://www.visualcrossing.com/weather-data-editions for information about our plans and how to get more weather data for free.'}"
      ]
     },
     "execution_count": 461,
     "metadata": {},
     "output_type": "execute_result"
    }
   ],
   "source": [
    "data"
   ]
  },
  {
   "cell_type": "code",
   "execution_count": 462,
   "metadata": {},
   "outputs": [
    {
     "data": {
      "text/plain": [
       "0"
      ]
     },
     "execution_count": 462,
     "metadata": {},
     "output_type": "execute_result"
    }
   ],
   "source": [
    "len(dummy_list)"
   ]
  },
  {
   "cell_type": "code",
   "execution_count": 400,
   "metadata": {
    "collapsed": true,
    "jupyter": {
     "outputs_hidden": true
    }
   },
   "outputs": [
    {
     "data": {
      "text/plain": [
       "{'wdir': [195.52,\n",
       "  169.67,\n",
       "  170.02,\n",
       "  184.44,\n",
       "  184.94,\n",
       "  190.83,\n",
       "  181.94,\n",
       "  172.96,\n",
       "  173.02,\n",
       "  202.48,\n",
       "  225.88,\n",
       "  191.65],\n",
       " 'period': ['Jan',\n",
       "  'Feb',\n",
       "  'Mar',\n",
       "  'Apr',\n",
       "  'May',\n",
       "  'Jun',\n",
       "  'Jul',\n",
       "  'Aug',\n",
       "  'Sep',\n",
       "  'Oct',\n",
       "  'Nov',\n",
       "  'Dec'],\n",
       " 'temp': [16.0,\n",
       "  21.0,\n",
       "  36.7,\n",
       "  46.0,\n",
       "  49.2,\n",
       "  57.1,\n",
       "  59.9,\n",
       "  59.7,\n",
       "  49.9,\n",
       "  40.9,\n",
       "  30.2,\n",
       "  20.5],\n",
       " 'maxt': [35.0,\n",
       "  47.6,\n",
       "  60.5,\n",
       "  71.9,\n",
       "  73.1,\n",
       "  74.4,\n",
       "  74.6,\n",
       "  79.1,\n",
       "  66.3,\n",
       "  58.2,\n",
       "  48.8,\n",
       "  40.4],\n",
       " 'visibility': [13.1,\n",
       "  14.6,\n",
       "  15.5,\n",
       "  11.2,\n",
       "  10.7,\n",
       "  12.4,\n",
       "  10.7,\n",
       "  9.9,\n",
       "  10.0,\n",
       "  11.8,\n",
       "  11.6,\n",
       "  13.2],\n",
       " 'wspd': [24.6,\n",
       "  29.1,\n",
       "  38.0,\n",
       "  33.6,\n",
       "  29.1,\n",
       "  29.1,\n",
       "  29.1,\n",
       "  29.1,\n",
       "  31.3,\n",
       "  29.1,\n",
       "  29.1,\n",
       "  26.8],\n",
       " 'datetimeStr': ['1900-01-01T00:00:00+08:05:43',\n",
       "  '1900-02-01T00:00:00+08:05:43',\n",
       "  '1900-03-01T00:00:00+08:05:43',\n",
       "  '1900-04-01T00:00:00+08:05:43',\n",
       "  '1900-05-01T00:00:00+08:05:43',\n",
       "  '1900-06-01T00:00:00+08:05:43',\n",
       "  '1900-07-01T00:00:00+08:05:43',\n",
       "  '1900-08-01T00:00:00+08:05:43',\n",
       "  '1900-09-01T00:00:00+08:05:43',\n",
       "  '1900-10-01T00:00:00+08:05:43',\n",
       "  '1900-11-01T00:00:00+08:05:43',\n",
       "  '1900-12-01T00:00:00+08:05:43'],\n",
       " 'heatindex': [None,\n",
       "  None,\n",
       "  None,\n",
       "  None,\n",
       "  None,\n",
       "  None,\n",
       "  None,\n",
       "  None,\n",
       "  None,\n",
       "  None,\n",
       "  None,\n",
       "  None],\n",
       " 'cloudcover': [43.3,\n",
       "  47.9,\n",
       "  43.4,\n",
       "  42.8,\n",
       "  47.7,\n",
       "  50.0,\n",
       "  48.3,\n",
       "  45.3,\n",
       "  45.4,\n",
       "  39.1,\n",
       "  36.2,\n",
       "  34.3],\n",
       " 'mint': [-3.0,\n",
       "  -3.0,\n",
       "  21.3,\n",
       "  11.4,\n",
       "  31.4,\n",
       "  38.9,\n",
       "  46.7,\n",
       "  45.6,\n",
       "  37.1,\n",
       "  20.6,\n",
       "  14.1,\n",
       "  -3.9],\n",
       " 'datetime': [-2208988800000,\n",
       "  -2206310400000,\n",
       "  -2203891200000,\n",
       "  -2201212800000,\n",
       "  -2198620800000,\n",
       "  -2195942400000,\n",
       "  -2193350400000,\n",
       "  -2190672000000,\n",
       "  -2187993600000,\n",
       "  -2185401600000,\n",
       "  -2182723200000,\n",
       "  -2180131200000],\n",
       " 'precip': [0.84,\n",
       "  1.05,\n",
       "  5.27,\n",
       "  3.34,\n",
       "  5.15,\n",
       "  8.3,\n",
       "  9.4,\n",
       "  8.21,\n",
       "  5.24,\n",
       "  2.61,\n",
       "  1.91,\n",
       "  0.27],\n",
       " 'snowdepth': [2.3,\n",
       "  2.8,\n",
       "  None,\n",
       "  None,\n",
       "  None,\n",
       "  None,\n",
       "  None,\n",
       "  None,\n",
       "  None,\n",
       "  None,\n",
       "  None,\n",
       "  0.0],\n",
       " 'sealevelpressure': [None,\n",
       "  None,\n",
       "  None,\n",
       "  None,\n",
       "  None,\n",
       "  None,\n",
       "  None,\n",
       "  None,\n",
       "  None,\n",
       "  None,\n",
       "  1026.2,\n",
       "  1027.7],\n",
       " 'dew': [6.6, 9.3, 18.3, 29.3, 37.3, 48.0, 53.8, 53.5, 45.3, 31.2, 22.6, 10.1],\n",
       " 'humidity': [70.05,\n",
       "  65.5,\n",
       "  52.56,\n",
       "  58.26,\n",
       "  68.92,\n",
       "  75.66,\n",
       "  82.92,\n",
       "  82.93,\n",
       "  86.09,\n",
       "  74.08,\n",
       "  77.56,\n",
       "  69.09],\n",
       " 'wgust': [None,\n",
       "  42.5,\n",
       "  55.9,\n",
       "  51.4,\n",
       "  49.2,\n",
       "  44.7,\n",
       "  44.7,\n",
       "  47.0,\n",
       "  58.2,\n",
       "  38.0,\n",
       "  44.7,\n",
       "  44.7],\n",
       " 'precipcover': [9.7,\n",
       "  8.42,\n",
       "  5.34,\n",
       "  7.67,\n",
       "  12.76,\n",
       "  13.57,\n",
       "  14.32,\n",
       "  14.78,\n",
       "  15.17,\n",
       "  7.57,\n",
       "  10.72,\n",
       "  4.4],\n",
       " 'windchill': [-21.1,\n",
       "  -18.1,\n",
       "  10.1,\n",
       "  -8.0,\n",
       "  18.5,\n",
       "  31.6,\n",
       "  39.7,\n",
       "  40.0,\n",
       "  27.4,\n",
       "  7.2,\n",
       "  -6.5,\n",
       "  -19.9],\n",
       " 'latitude': 35.000074,\n",
       " 'longitude': 104.999927,\n",
       " 'origin': 'GPT'}"
      ]
     },
     "execution_count": 400,
     "metadata": {},
     "output_type": "execute_result"
    }
   ],
   "source": [
    "dummy_list[2]"
   ]
  },
  {
   "cell_type": "code",
   "execution_count": 449,
   "metadata": {},
   "outputs": [],
   "source": [
    "frame1=pd.DataFrame(dummy_list[0])\n",
    "frame2=pd.DataFrame(dummy_list[1])\n",
    "frame3=pd.DataFrame(dummy_list[2])\n",
    "# frame4=pd.DataFrame(dummy_list[3])\n",
    "# frame5=pd.DataFrame(dummy_list[4])\n",
    "# frame6=pd.DataFrame(dummy_list[5])\n",
    "# frame7=pd.DataFrame(dummy_list[6])\n",
    "# frame8=pd.DataFrame(dummy_list[7])"
   ]
  },
  {
   "cell_type": "code",
   "execution_count": 450,
   "metadata": {},
   "outputs": [],
   "source": [
    "# agg_weath_B=pd.concat([frame1,frame2,frame3,frame4,frame5,frame6,frame7,frame8],axis=0)\n",
    "agg_weath_E=pd.concat([frame1,frame2,frame3],axis=0)"
   ]
  },
  {
   "cell_type": "code",
   "execution_count": 451,
   "metadata": {},
   "outputs": [
    {
     "data": {
      "text/plain": [
       "(36, 22)"
      ]
     },
     "execution_count": 451,
     "metadata": {},
     "output_type": "execute_result"
    }
   ],
   "source": [
    "agg_weath_E.shape"
   ]
  },
  {
   "cell_type": "code",
   "execution_count": 452,
   "metadata": {},
   "outputs": [],
   "source": [
    "#save to .csv\n",
    "agg_weath_E.to_csv(path+'agg_weath_E.csv')"
   ]
  },
  {
   "cell_type": "code",
   "execution_count": 453,
   "metadata": {},
   "outputs": [],
   "source": [
    "agg_testE=pd.read_csv(path+'agg_weath_E.csv')"
   ]
  },
  {
   "cell_type": "code",
   "execution_count": 454,
   "metadata": {},
   "outputs": [],
   "source": [
    "agg_testE=agg_testE.drop('Unnamed: 0',axis=1)"
   ]
  },
  {
   "cell_type": "code",
   "execution_count": 455,
   "metadata": {},
   "outputs": [
    {
     "name": "stdout",
     "output_type": "stream",
     "text": [
      "(36, 22)\n"
     ]
    }
   ],
   "source": [
    "print(agg_testE.shape)"
   ]
  },
  {
   "cell_type": "code",
   "execution_count": 410,
   "metadata": {},
   "outputs": [
    {
     "name": "stdout",
     "output_type": "stream",
     "text": [
      "(48, 22)\n",
      "(96, 22)\n",
      "(36, 22)\n",
      "(36, 22)\n",
      "(12, 22)\n"
     ]
    }
   ],
   "source": [
    "print(agg_test.shape)\n",
    "print(agg_testB.shape)\n",
    "print(agg_testC.shape)\n",
    "print(agg_testD.shape)\n",
    "print(agg_test_LA.shape)"
   ]
  },
  {
   "cell_type": "code",
   "execution_count": 409,
   "metadata": {},
   "outputs": [],
   "source": [
    "agg_test_LA=pd.read_csv(path+'LAX_agg_weath.csv')\n",
    "agg_test_LA=agg_test_LA.drop('Unnamed: 0',axis=1)"
   ]
  },
  {
   "cell_type": "code",
   "execution_count": 418,
   "metadata": {},
   "outputs": [],
   "source": [
    "#228\n",
    "agg_weath_228=pd.concat([agg_test,agg_testB,agg_testC,agg_testD,agg_test_LA],axis=0)"
   ]
  },
  {
   "cell_type": "code",
   "execution_count": 457,
   "metadata": {},
   "outputs": [],
   "source": [
    "agg_weath=pd.concat([agg_weath_228,agg_testE],axis=0)"
   ]
  },
  {
   "cell_type": "code",
   "execution_count": 458,
   "metadata": {},
   "outputs": [
    {
     "data": {
      "text/plain": [
       "array(['PGD', 'HOU', 'IAD', 'ONT', 'OGG', 'SGU', 'FAY', 'BMI', 'SAN',\n",
       "       'YKM', 'SUX', 'BUR', 'STS', 'COD', 'MGM', 'MKG', 'BTM', 'GPT',\n",
       "       'LAX', 'BET', 'DIK', 'IPT'], dtype=object)"
      ]
     },
     "execution_count": 458,
     "metadata": {},
     "output_type": "execute_result"
    }
   ],
   "source": [
    "agg_weath['origin'].unique()"
   ]
  },
  {
   "cell_type": "code",
   "execution_count": null,
   "metadata": {},
   "outputs": [],
   "source": [
    "# 26.1367° S, 28.2411° E - johanessburg - south africa, JNB\n",
    "# 33.9715° S, 18.6021° E- capetown airport, CPT\n",
    "# 4.3882° S, 15.4472° E - DRC-  busiest in congo, FIH"
   ]
  },
  {
   "cell_type": "code",
   "execution_count": null,
   "metadata": {},
   "outputs": [],
   "source": []
  },
  {
   "cell_type": "code",
   "execution_count": null,
   "metadata": {},
   "outputs": [],
   "source": []
  },
  {
   "cell_type": "code",
   "execution_count": 459,
   "metadata": {},
   "outputs": [
    {
     "data": {
      "text/html": [
       "<div style=\"width:100%;\"><div style=\"position:relative;width:100%;height:0;padding-bottom:60%;\"><span style=\"color:#565656\">Make this Notebook Trusted to load map: File -> Trust Notebook</span><iframe src=\"about:blank\" style=\"position:absolute;width:100%;height:100%;left:0;top:0;border:none !important;\" data-html=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 onload=\"this.contentDocument.open();this.contentDocument.write(atob(this.getAttribute('data-html')));this.contentDocument.close();\" allowfullscreen webkitallowfullscreen mozallowfullscreen></iframe></div></div>"
      ],
      "text/plain": [
       "<folium.folium.Map at 0x7fe4b8a85190>"
      ]
     },
     "execution_count": 459,
     "metadata": {},
     "output_type": "execute_result"
    }
   ],
   "source": [
    "map_USA = folium.Map(location=[lati_B, longi_B], zoom_start=4)\n",
    "\n",
    "# add markers to map\n",
    "for lat, lng, nam in zip(city_df['latitude'],city_df['longitude'],city_df['origin']):\n",
    "    label = '{}'.format(nam)\n",
    "    label = folium.Popup(label, parse_html=True)\n",
    "    folium.CircleMarker(\n",
    "        [lat, lng],\n",
    "        radius=5,\n",
    "        popup=label,\n",
    "        fill=True,\n",
    "        fill_opacity=0.7).add_to(map_USA) \n",
    "    \n",
    "for lat, lng, nam in zip(city_df[city_df['origin'].isin(list(agg_weath['origin'].unique()))]['latitude'],\n",
    "                         city_df[city_df['origin'].isin(list(agg_weath['origin'].unique()))]['longitude'],\n",
    "                         city_df[city_df['origin'].isin(list(agg_weath['origin'].unique()))]['origin']):\n",
    "    label = '{}'.format(nam)\n",
    "    label = folium.Popup(label, parse_html=True)\n",
    "    folium.CircleMarker(\n",
    "        [lat, lng],\n",
    "        radius=5,\n",
    "        color='red',\n",
    "        popup=label,\n",
    "        fill=True,\n",
    "        fill_opacity=0.7).add_to(map_USA) \n",
    "\n",
    "    \n",
    "map_USA"
   ]
  },
  {
   "cell_type": "code",
   "execution_count": null,
   "metadata": {},
   "outputs": [],
   "source": []
  },
  {
   "cell_type": "markdown",
   "metadata": {},
   "source": [
    "# Ready to make the API Call for weather samples"
   ]
  },
  {
   "cell_type": "raw",
   "metadata": {},
   "source": [
    "Dark Sky: 8b50ef0ee6msh32d6dd706dfe5a8p145014jsn53a88d4e8fd5\n",
    "Jack_key=80c6c754465a0a3a359356dbb9be865c\n",
    "https://rapidapi.com/developer/dashboard\n",
    "\n",
    "https://medium.com/analytics-vidhya/making-historical-weather-data-for-any-place-using-dark-sky-api-calls-d5876de0ec01"
   ]
  },
  {
   "cell_type": "code",
   "execution_count": 137,
   "metadata": {},
   "outputs": [],
   "source": [
    "darksky_key='80c6c754465a0a3a359356dbb9be865c'"
   ]
  },
  {
   "cell_type": "code",
   "execution_count": 138,
   "metadata": {},
   "outputs": [],
   "source": [
    "##### getting timestamp I can work with for hourly forecast\n",
    "#####\n",
    "#d_time=weath_samp_API['fl_date'].iloc[903].date().strftime(\"%Y-%m-%d\")+' ' + str(round(weath_samp_API['dep_time'].iloc[903]))\n",
    "\n",
    "#####\n",
    "api_time=[]\n",
    "d_t=[]\n",
    "for i in range(len(weath_samp_API)):\n",
    "    if len(str(round(weath_samp_API['dep_time'].iloc[i])))<2:\n",
    "        d_time=weath_samp_API['fl_date'].iloc[i].date().strftime(\"%Y-%m-%d\")+' ' + '000'+ str(round(weath_samp_API['dep_time'].iloc[i]))\n",
    "        d_t.append(int(datetime.strptime(d_time, '%Y-%m-%d %H%M').timestamp()))\n",
    "    else:\n",
    "        d_time=weath_samp_API['fl_date'].iloc[i].date().strftime(\"%Y-%m-%d\")+' ' + str(round(weath_samp_API['dep_time'].iloc[i]))\n",
    "        d_t.append(int(datetime.strptime(d_time, '%Y-%m-%d %H%M').timestamp()))"
   ]
  },
  {
   "cell_type": "code",
   "execution_count": 139,
   "metadata": {},
   "outputs": [
    {
     "data": {
      "text/plain": [
       "912"
      ]
     },
     "execution_count": 139,
     "metadata": {},
     "output_type": "execute_result"
    }
   ],
   "source": [
    "len(d_t)"
   ]
  },
  {
   "cell_type": "code",
   "execution_count": 140,
   "metadata": {
    "collapsed": true,
    "jupyter": {
     "outputs_hidden": true
    }
   },
   "outputs": [
    {
     "name": "stderr",
     "output_type": "stream",
     "text": [
      "/opt/anaconda3/envs/bootcamp_env/lib/python3.7/site-packages/ipykernel_launcher.py:1: SettingWithCopyWarning: \n",
      "A value is trying to be set on a copy of a slice from a DataFrame.\n",
      "Try using .loc[row_indexer,col_indexer] = value instead\n",
      "\n",
      "See the caveats in the documentation: https://pandas.pydata.org/pandas-docs/stable/user_guide/indexing.html#returning-a-view-versus-a-copy\n",
      "  \"\"\"Entry point for launching an IPython kernel.\n"
     ]
    }
   ],
   "source": [
    "weath_samp_API['api_time']=d_t"
   ]
  },
  {
   "cell_type": "markdown",
   "metadata": {},
   "source": [
    "### API TEST from DarkSky - working"
   ]
  },
  {
   "cell_type": "raw",
   "metadata": {},
   "source": [
    "\n",
    "key_a='8b50ef0ee6msh32d6dd706dfe5a8p145014jsn53a88d4e8fd5'\n",
    "url=f\"https://api.darksky.net/forecast/{darksky_key}/{weath_samp_API['dep_latitude'].iloc[903]},{weath_samp_API['dep_longitude'].iloc[903]},{weath_samp_API['api_time'].iloc[903]}\"\n",
    "\n",
    "res=re.get(url)\n",
    "data=res.json()"
   ]
  },
  {
   "cell_type": "raw",
   "metadata": {},
   "source": [
    "weath_keys=['summary','icon','precipIntensity','windSpeed','visibility']\n",
    "weath_dict=dict.fromkeys(weath_keys,[])"
   ]
  },
  {
   "cell_type": "code",
   "execution_count": null,
   "metadata": {},
   "outputs": [],
   "source": [
    "summary=[]\n",
    "icon=[]\n",
    "precip_intense=[]\n",
    "windSpeed=[]\n",
    "vis=[]\n",
    "#this loop checks the hourly data against the timestamp and rounds down to the nearest answer and returns that forcast\n",
    "for i in range(len(data['hourly']['data'])):\n",
    "    if d_t<data['hourly']['data'][i]['time']:\n",
    "        break\n",
    "    else:\n",
    "        data3=data['hourly']['data'][i]\n",
    "summary.append(data3['summary'])\n",
    "icon.append(data3['icon'])\n",
    "precip_intense.append(data3['precipIntensity'])\n",
    "windSpeed.append(data3['windSpeed'])\n",
    "vis.append(data3['visibility'])"
   ]
  },
  {
   "cell_type": "markdown",
   "metadata": {},
   "source": [
    "# Build API call for entire DF"
   ]
  },
  {
   "cell_type": "raw",
   "metadata": {},
   "source": [
    "key_a='7d37177c13mshebc651a09ef87d2p141b44jsn3753aefba288'\n",
    "url=f\"https://api.darksky.net/forecast/{darksky_key}/{weath_samp_API['dep_latitude'].iloc[903]},{weath_samp_API['dep_longitude'].iloc[903]},{weath_samp_API['api_time'].iloc[903]}\"\n",
    "\n",
    "res=re.get(url)\n",
    "data=res.json()"
   ]
  },
  {
   "cell_type": "raw",
   "metadata": {
    "jupyter": {
     "outputs_hidden": true
    }
   },
   "source": [
    "weath_samp_API"
   ]
  },
  {
   "cell_type": "code",
   "execution_count": 165,
   "metadata": {},
   "outputs": [],
   "source": [
    "key_a='7d37177c13mshebc651a09ef87d2p141b44jsn3753aefba288'\n",
    "key_b='8b50ef0ee6msh32d6dd706dfe5a8p145014jsn53a88d4e8fd5'\n",
    "darksky_key='80c6c754465a0a3a359356dbb9be865c'"
   ]
  },
  {
   "cell_type": "code",
   "execution_count": 151,
   "metadata": {},
   "outputs": [
    {
     "data": {
      "text/plain": [
       "1548463380"
      ]
     },
     "execution_count": 151,
     "metadata": {},
     "output_type": "execute_result"
    }
   ],
   "source": [
    "weath_samp_API['api_time'][0]"
   ]
  },
  {
   "cell_type": "code",
   "execution_count": 153,
   "metadata": {},
   "outputs": [
    {
     "data": {
      "text/plain": [
       "datetime.datetime(2019, 1, 25, 16, 43)"
      ]
     },
     "execution_count": 153,
     "metadata": {},
     "output_type": "execute_result"
    }
   ],
   "source": [
    "datetime.fromtimestamp(1548463380)"
   ]
  },
  {
   "cell_type": "code",
   "execution_count": 257,
   "metadata": {},
   "outputs": [],
   "source": [
    "summary=[]\n",
    "icon=[]\n",
    "precip_intense=[]\n",
    "windSpeed=[]\n",
    "vis=[]\n",
    "counter=[]\n",
    "#for i in range(len(weath_samp_API)):\n",
    "for i in range(3):\n",
    "    url=f\"https://api.darksky.net/forecast/{darksky_key}/{weath_samp_API['dep_latitude'].iloc[i]},{weath_samp_API['dep_longitude'].iloc[i]},{weath_samp_API['api_time'].iloc[i]}\"\n",
    "    res=re.get(url)\n",
    "    data=res.json()\n",
    "    if 'hourly' not in data:\n",
    "        summary.append(np.nan)\n",
    "        icon.append(np.nan)\n",
    "        precip_intense.append(np.nan)\n",
    "        windSpeed.append(np.nan)\n",
    "        vis.append(np.nan)\n",
    "        counter.append(i)\n",
    "    else:\n",
    "        for j in range(len(data['hourly']['data'])):\n",
    "            if weath_samp_API['api_time'].iloc[i]<data['hourly']['data'][j]['time']:\n",
    "                break\n",
    "            else:\n",
    "                data3=data['hourly']['data'][j]\n",
    "        counter.append(i)\n",
    "        if 'summary' not in data3:\n",
    "            summary.append(np.nan)\n",
    "        else:\n",
    "            summary.append(data3['summary'])\n",
    "        if 'icon' not in data3:\n",
    "            icon.append(np.nan)\n",
    "        else:\n",
    "            icon.append(data3['icon'])\n",
    "        if 'precipIntensity' not in data3:\n",
    "            precip_intense.append(np.nan)\n",
    "        else:\n",
    "            precip_intense.append(data3['precipIntensity'])\n",
    "        if 'windSpeed' not in data3:\n",
    "            windSpeed.append(np.nan)\n",
    "        else:\n",
    "            windSpeed.append(data3['windSpeed'])\n",
    "        if 'visibility' not in data3:\n",
    "            vis.append(np.nan)\n",
    "        else:\n",
    "            vis.append(data3['visibility'])"
   ]
  },
  {
   "cell_type": "code",
   "execution_count": 258,
   "metadata": {},
   "outputs": [
    {
     "data": {
      "text/plain": [
       "3"
      ]
     },
     "execution_count": 258,
     "metadata": {},
     "output_type": "execute_result"
    }
   ],
   "source": [
    "len(summary)"
   ]
  },
  {
   "cell_type": "code",
   "execution_count": 259,
   "metadata": {},
   "outputs": [
    {
     "data": {
      "text/plain": [
       "[nan, nan, nan]"
      ]
     },
     "execution_count": 259,
     "metadata": {},
     "output_type": "execute_result"
    }
   ],
   "source": [
    "summary"
   ]
  },
  {
   "cell_type": "code",
   "execution_count": 260,
   "metadata": {},
   "outputs": [
    {
     "data": {
      "text/plain": [
       "{'code': 403, 'error': 'daily usage limit exceeded'}"
      ]
     },
     "execution_count": 260,
     "metadata": {},
     "output_type": "execute_result"
    }
   ],
   "source": [
    "data"
   ]
  },
  {
   "cell_type": "markdown",
   "metadata": {},
   "source": [
    "### Save weather data to .csv"
   ]
  },
  {
   "cell_type": "raw",
   "metadata": {},
   "source": [
    "path"
   ]
  },
  {
   "cell_type": "raw",
   "metadata": {},
   "source": [
    "weath_samp_API.to_csv(path+'weather_10_25.csv')"
   ]
  },
  {
   "cell_type": "markdown",
   "metadata": {},
   "source": [
    "## Go to the next notebook for post analysis"
   ]
  },
  {
   "cell_type": "code",
   "execution_count": null,
   "metadata": {},
   "outputs": [],
   "source": []
  },
  {
   "cell_type": "code",
   "execution_count": null,
   "metadata": {},
   "outputs": [],
   "source": []
  },
  {
   "cell_type": "code",
   "execution_count": null,
   "metadata": {},
   "outputs": [],
   "source": []
  },
  {
   "cell_type": "markdown",
   "metadata": {},
   "source": [
    "# Appendix - Weather delays explore"
   ]
  },
  {
   "cell_type": "markdown",
   "metadata": {},
   "source": [
    "### Weather Delay Explained\n",
    "- 181935/15605076 [1.2%] have a registered weather delay\n",
    "- 181935/15605076 [1.2%] have a registered weather delay AND a registered arrival/departure delay\n",
    "\n",
    "   -filtered using: df_delay[((df_delay['arr_delay']>0)|(df_delay['dep_delay']>0))& (df_delay['weather_delay']>0)]\n",
    "   \n",
    "- 417/15605076 [0.0027%] have a registered weather delay AND a registered early arrival/departure (-tive delay)\n",
    "- 11378371/15605076 [72.9%] flights have a registered early arrival/departure (-tive delay)\n",
    "  - of those, 86.4% had early arrivals [9830913/11378371]\n",
    "  - 83.7% had early departures [9522148/11378371]\n",
    "  - 70% had BOTH early departures and arrivals [7978694/11378371]\n",
    "  - 59.8% had a larger early arrival than departure [6805451/11378371] (arrival delay had bigger negative # than dep delay)\n",
    "  - 21.4% had a larger early departure than arrival [2435935/11378371] (departure delay had bigger negative # than arr delay)\n",
    "- 769402/15605076 [4.9%] had exactly no delays on departure (dep_delay==0)\n",
    "- 298296/15605076 [1.9%] had exactly no delays on arrival (arr_delay==0)\n",
    "\n",
    "Delays based on airport"
   ]
  },
  {
   "cell_type": "raw",
   "metadata": {},
   "source": [
    "Distribution of Weather delays (weather_delay>0 & between 2 and 98th percentile"
   ]
  },
  {
   "cell_type": "code",
   "execution_count": 48,
   "metadata": {},
   "outputs": [
    {
     "data": {
      "text/plain": [
       "<matplotlib.axes._subplots.AxesSubplot at 0x7f9ff76da850>"
      ]
     },
     "execution_count": 48,
     "metadata": {},
     "output_type": "execute_result"
    },
    {
     "data": {
      "image/png": "[encoded data removed]",
      "text/plain": [
       "<Figure size 842.4x595.44 with 1 Axes>"
      ]
     },
     "metadata": {
      "needs_background": "light"
     },
     "output_type": "display_data"
    }
   ],
   "source": [
    "sns.distplot(df_delay[df_delay['weather_delay'].between(df_delay['weather_delay'].quantile(0.02),\n",
    "                                               df_delay['weather_delay'].quantile(0.98))&df_delay['weather_delay']>0]['weather_delay'])"
   ]
  },
  {
   "cell_type": "code",
   "execution_count": 65,
   "metadata": {},
   "outputs": [
    {
     "data": {
      "text/plain": [
       "count    3.680000e+02\n",
       "mean     1.954505e+04\n",
       "std      7.860315e+04\n",
       "min      1.000000e+01\n",
       "25%      7.460000e+02\n",
       "50%      2.608000e+03\n",
       "75%      9.484000e+03\n",
       "max      1.060103e+06\n",
       "Name: dep_delay, dtype: float64"
      ]
     },
     "execution_count": 65,
     "metadata": {},
     "output_type": "execute_result"
    }
   ],
   "source": [
    "quant_sample['dep_delay'].describe()"
   ]
  },
  {
   "cell_type": "code",
   "execution_count": 44,
   "metadata": {},
   "outputs": [
    {
     "data": {
      "text/plain": [
       "0.01911531863093778"
      ]
     },
     "execution_count": 44,
     "metadata": {},
     "output_type": "execute_result"
    }
   ],
   "source": [
    "298296/15605076 "
   ]
  },
  {
   "cell_type": "code",
   "execution_count": 255,
   "metadata": {},
   "outputs": [
    {
     "data": {
      "text/plain": [
       "9830912.544"
      ]
     },
     "execution_count": 255,
     "metadata": {},
     "output_type": "execute_result"
    }
   ],
   "source": [
    "11378371*.864"
   ]
  },
  {
   "cell_type": "code",
   "execution_count": 36,
   "metadata": {},
   "outputs": [
    {
     "data": {
      "text/plain": [
       "0.21408468751809903"
      ]
     },
     "execution_count": 36,
     "metadata": {},
     "output_type": "execute_result"
    }
   ],
   "source": [
    "2435935/11378371"
   ]
  },
  {
   "cell_type": "code",
   "execution_count": 244,
   "metadata": {},
   "outputs": [
    {
     "data": {
      "text/plain": [
       "0.0026722074278907712"
      ]
     },
     "execution_count": 244,
     "metadata": {},
     "output_type": "execute_result"
    }
   ],
   "source": []
  },
  {
   "cell_type": "code",
   "execution_count": 62,
   "metadata": {},
   "outputs": [
    {
     "data": {
      "text/html": [
       "<div>\n",
       "<style scoped>\n",
       "    .dataframe tbody tr th:only-of-type {\n",
       "        vertical-align: middle;\n",
       "    }\n",
       "\n",
       "    .dataframe tbody tr th {\n",
       "        vertical-align: top;\n",
       "    }\n",
       "\n",
       "    .dataframe thead th {\n",
       "        text-align: right;\n",
       "    }\n",
       "</style>\n",
       "<table border=\"1\" class=\"dataframe\">\n",
       "  <thead>\n",
       "    <tr style=\"text-align: right;\">\n",
       "      <th></th>\n",
       "      <th>dep_delay</th>\n",
       "      <th>weather_delay</th>\n",
       "      <th>arr_delay</th>\n",
       "    </tr>\n",
       "    <tr>\n",
       "      <th>origin</th>\n",
       "      <th></th>\n",
       "      <th></th>\n",
       "      <th></th>\n",
       "    </tr>\n",
       "  </thead>\n",
       "  <tbody>\n",
       "    <tr>\n",
       "      <th>ORD</th>\n",
       "      <td>1802093.0</td>\n",
       "      <td>871201.0</td>\n",
       "      <td>2026119.0</td>\n",
       "    </tr>\n",
       "    <tr>\n",
       "      <th>ATL</th>\n",
       "      <td>1172525.0</td>\n",
       "      <td>686520.0</td>\n",
       "      <td>1178804.0</td>\n",
       "    </tr>\n",
       "    <tr>\n",
       "      <th>DFW</th>\n",
       "      <td>1234178.0</td>\n",
       "      <td>658499.0</td>\n",
       "      <td>1314252.0</td>\n",
       "    </tr>\n",
       "    <tr>\n",
       "      <th>IAH</th>\n",
       "      <td>640902.0</td>\n",
       "      <td>451594.0</td>\n",
       "      <td>694728.0</td>\n",
       "    </tr>\n",
       "    <tr>\n",
       "      <th>MSP</th>\n",
       "      <td>546079.0</td>\n",
       "      <td>429288.0</td>\n",
       "      <td>593038.0</td>\n",
       "    </tr>\n",
       "    <tr>\n",
       "      <th>...</th>\n",
       "      <td>...</td>\n",
       "      <td>...</td>\n",
       "      <td>...</td>\n",
       "    </tr>\n",
       "    <tr>\n",
       "      <th>MKK</th>\n",
       "      <td>619.0</td>\n",
       "      <td>71.0</td>\n",
       "      <td>690.0</td>\n",
       "    </tr>\n",
       "    <tr>\n",
       "      <th>SPN</th>\n",
       "      <td>94.0</td>\n",
       "      <td>66.0</td>\n",
       "      <td>98.0</td>\n",
       "    </tr>\n",
       "    <tr>\n",
       "      <th>GST</th>\n",
       "      <td>47.0</td>\n",
       "      <td>47.0</td>\n",
       "      <td>64.0</td>\n",
       "    </tr>\n",
       "    <tr>\n",
       "      <th>CDV</th>\n",
       "      <td>112.0</td>\n",
       "      <td>44.0</td>\n",
       "      <td>139.0</td>\n",
       "    </tr>\n",
       "    <tr>\n",
       "      <th>JHM</th>\n",
       "      <td>10.0</td>\n",
       "      <td>12.0</td>\n",
       "      <td>22.0</td>\n",
       "    </tr>\n",
       "  </tbody>\n",
       "</table>\n",
       "<p>368 rows × 3 columns</p>\n",
       "</div>"
      ],
      "text/plain": [
       "        dep_delay  weather_delay  arr_delay\n",
       "origin                                     \n",
       "ORD     1802093.0       871201.0  2026119.0\n",
       "ATL     1172525.0       686520.0  1178804.0\n",
       "DFW     1234178.0       658499.0  1314252.0\n",
       "IAH      640902.0       451594.0   694728.0\n",
       "MSP      546079.0       429288.0   593038.0\n",
       "...           ...            ...        ...\n",
       "MKK         619.0           71.0      690.0\n",
       "SPN          94.0           66.0       98.0\n",
       "GST          47.0           47.0       64.0\n",
       "CDV         112.0           44.0      139.0\n",
       "JHM          10.0           12.0       22.0\n",
       "\n",
       "[368 rows x 3 columns]"
      ]
     },
     "execution_count": 62,
     "metadata": {},
     "output_type": "execute_result"
    }
   ],
   "source": [
    "#take a step further and group by airports\n",
    "weather_delay[['dep_delay','weather_delay','arr_delay','origin','dest']].groupby('origin').sum().sort_values(by='weather_delay',ascending=False)"
   ]
  },
  {
   "cell_type": "markdown",
   "metadata": {},
   "source": [
    "#### 3 million - need to condense down to something - bin delay?"
   ]
  },
  {
   "cell_type": "raw",
   "metadata": {},
   "source": [
    "Delay vars: 'dep_delay', 'dep_time', 'arr_delay', 'arr_time'"
   ]
  },
  {
   "cell_type": "raw",
   "metadata": {},
   "source": [
    "Ways to tackle:\n",
    "\n",
    "Find airports that have highest number of delays\n",
    "\n",
    "Sort through \"flights table\" and sort dataframe via \"weather_delay\". find out locations that have this parameter (is it the full 374 airports or less). I have 250 calls. Do a test to see if I can pull weather data from a certain location across multiple dates (aggregated to the day for the predominant weather pattern).\n",
    "\n",
    "TEST API CALL\n",
    "\n",
    "sample url:\n",
    "https://weather.visualcrossing.com/VisualCrossingWebServices/rest/services/weatherdata/history?&aggregateHours=24&startDateTime=2019-06-13T00:00:00&endDateTime=2019-06-20T00:00:00&unitGroup=uk&contentType=csv&dayStartTime=0:0:00&dayEndTime=0:0:00&location=Sterling,VA,US&key=YOURAPIKEY\n"
   ]
  },
  {
   "cell_type": "code",
   "execution_count": 67,
   "metadata": {},
   "outputs": [],
   "source": [
    "df_flights['fl_date']=df_flights['fl_date'].astype('datetime64[ns]') "
   ]
  },
  {
   "cell_type": "code",
   "execution_count": 81,
   "metadata": {},
   "outputs": [
    {
     "data": {
      "text/plain": [
       "Timestamp('2018-05-31 00:00:00')"
      ]
     },
     "execution_count": 81,
     "metadata": {},
     "output_type": "execute_result"
    }
   ],
   "source": [
    "from datetime import datetime\n",
    "df_flights['fl_date'][0]"
   ]
  },
  {
   "cell_type": "code",
   "execution_count": 87,
   "metadata": {},
   "outputs": [
    {
     "data": {
      "text/plain": [
       "True"
      ]
     },
     "execution_count": 87,
     "metadata": {},
     "output_type": "execute_result"
    }
   ],
   "source": [
    "df_flights['fl_date'][0]>datetime(2018, 5, 3)"
   ]
  },
  {
   "cell_type": "code",
   "execution_count": 90,
   "metadata": {},
   "outputs": [],
   "source": [
    "#df_flights.sort_values(by='fl_date').iloc[:,0:5]"
   ]
  },
  {
   "cell_type": "code",
   "execution_count": 92,
   "metadata": {},
   "outputs": [
    {
     "data": {
      "text/plain": [
       "Index(['fl_date', 'mkt_unique_carrier', 'branded_code_share', 'mkt_carrier',\n",
       "       'mkt_carrier_fl_num', 'op_unique_carrier', 'tail_num',\n",
       "       'op_carrier_fl_num', 'origin_airport_id', 'origin', 'origin_city_name',\n",
       "       'dest_airport_id', 'dest', 'dest_city_name', 'crs_dep_time', 'dep_time',\n",
       "       'dep_delay', 'taxi_out', 'wheels_off', 'wheels_on', 'taxi_in',\n",
       "       'crs_arr_time', 'arr_time', 'arr_delay', 'cancelled', 'diverted', 'dup',\n",
       "       'crs_elapsed_time', 'actual_elapsed_time', 'air_time', 'flights',\n",
       "       'distance', 'carrier_delay', 'weather_delay', 'nas_delay',\n",
       "       'security_delay', 'late_aircraft_delay'],\n",
       "      dtype='object')"
      ]
     },
     "execution_count": 92,
     "metadata": {},
     "output_type": "execute_result"
    }
   ],
   "source": [
    "df_flights.columns"
   ]
  },
  {
   "cell_type": "code",
   "execution_count": 94,
   "metadata": {},
   "outputs": [
    {
     "data": {
      "text/plain": [
       "0    LAX\n",
       "1    SFO\n",
       "2    LAX\n",
       "3    SFO\n",
       "4    LAX\n",
       "Name: origin, dtype: object"
      ]
     },
     "execution_count": 94,
     "metadata": {},
     "output_type": "execute_result"
    }
   ],
   "source": [
    "df_flights['origin'].head()"
   ]
  },
  {
   "cell_type": "code",
   "execution_count": 95,
   "metadata": {},
   "outputs": [
    {
     "data": {
      "text/plain": [
       "0      Los Angeles, CA\n",
       "1    San Francisco, CA\n",
       "2      Los Angeles, CA\n",
       "3    San Francisco, CA\n",
       "4      Los Angeles, CA\n",
       "Name: origin_city_name, dtype: object"
      ]
     },
     "execution_count": 95,
     "metadata": {},
     "output_type": "execute_result"
    }
   ],
   "source": [
    "df_flights['origin_city_name'].head()"
   ]
  },
  {
   "cell_type": "code",
   "execution_count": null,
   "metadata": {},
   "outputs": [],
   "source": [
    "2018-01-01"
   ]
  },
  {
   "cell_type": "code",
   "execution_count": null,
   "metadata": {},
   "outputs": [],
   "source": [
    "2019-12-31"
   ]
  },
  {
   "cell_type": "code",
   "execution_count": 128,
   "metadata": {},
   "outputs": [],
   "source": [
    "start_time='2018-01-01T00:00:00'"
   ]
  },
  {
   "cell_type": "code",
   "execution_count": 227,
   "metadata": {},
   "outputs": [
    {
     "data": {
      "text/plain": [
       "1514764800"
      ]
     },
     "execution_count": 227,
     "metadata": {},
     "output_type": "execute_result"
    }
   ],
   "source": [
    "yeh_date"
   ]
  },
  {
   "cell_type": "code",
   "execution_count": 196,
   "metadata": {},
   "outputs": [
    {
     "data": {
      "text/plain": [
       "'You have exceeded the maximum number of daily query results for your account. See https://www.visualcrossing.com/weather-data-editions for information about our plans and how to get more weather data for free.'"
      ]
     },
     "execution_count": 196,
     "metadata": {},
     "output_type": "execute_result"
    }
   ],
   "source": [
    "data['message']"
   ]
  },
  {
   "cell_type": "code",
   "execution_count": 194,
   "metadata": {},
   "outputs": [
    {
     "ename": "KeyError",
     "evalue": "'locations'",
     "output_type": "error",
     "traceback": [
      "\u001b[0;31m---------------------------------------------------------------------------\u001b[0m",
      "\u001b[0;31mKeyError\u001b[0m                                  Traceback (most recent call last)",
      "\u001b[0;32m<ipython-input-194-8f11fbb5a061>\u001b[0m in \u001b[0;36m<module>\u001b[0;34m\u001b[0m\n\u001b[0;32m----> 1\u001b[0;31m \u001b[0mlen\u001b[0m\u001b[0;34m(\u001b[0m\u001b[0mdata\u001b[0m\u001b[0;34m[\u001b[0m\u001b[0;34m'locations'\u001b[0m\u001b[0;34m]\u001b[0m\u001b[0;34m[\u001b[0m\u001b[0;34m'LAX Airport'\u001b[0m\u001b[0;34m]\u001b[0m\u001b[0;34m[\u001b[0m\u001b[0;34m'values'\u001b[0m\u001b[0;34m]\u001b[0m\u001b[0;34m)\u001b[0m\u001b[0;34m\u001b[0m\u001b[0;34m\u001b[0m\u001b[0m\n\u001b[0m",
      "\u001b[0;31mKeyError\u001b[0m: 'locations'"
     ]
    }
   ],
   "source": [
    "len(data['locations']['LAX Airport']['values'])"
   ]
  },
  {
   "cell_type": "code",
   "execution_count": 209,
   "metadata": {},
   "outputs": [],
   "source": [
    "OW_api_key='4bc7e4ed4c00999c6b47d5dc5d436a5b'\n",
    "# https://api.openweathermap.org/data/2.5/onecall/\\\n",
    "#     timemachine?lat={lat}&lon={lon}&dt={time}&appid={YOUR API KEY}\n",
    "lat=33.9416\n",
    "lon=-118.4085\n",
    "time=1514764800"
   ]
  },
  {
   "cell_type": "code",
   "execution_count": 210,
   "metadata": {},
   "outputs": [],
   "source": [
    "url=f'https://api.openweathermap.org/data/2.5/onecall/timemachine?lat={lat}&lon={lon}&dt={time}&appid={OW_api_key}'"
   ]
  },
  {
   "cell_type": "code",
   "execution_count": 213,
   "metadata": {},
   "outputs": [
    {
     "data": {
      "text/plain": [
       "'https://api.openweathermap.org/data/2.5/onecall/timemachine?lat=33.9416&lon=-118.4085&dt=1514764800&appid=4bc7e4ed4c00999c6b47d5dc5d436a5b'"
      ]
     },
     "execution_count": 213,
     "metadata": {},
     "output_type": "execute_result"
    }
   ],
   "source": [
    "url"
   ]
  },
  {
   "cell_type": "code",
   "execution_count": 214,
   "metadata": {},
   "outputs": [],
   "source": [
    "res = requests.get(url)"
   ]
  },
  {
   "cell_type": "code",
   "execution_count": 215,
   "metadata": {},
   "outputs": [
    {
     "name": "stdout",
     "output_type": "stream",
     "text": [
      "<Response [400]>\n"
     ]
    }
   ],
   "source": [
    "print(res)"
   ]
  },
  {
   "cell_type": "code",
   "execution_count": null,
   "metadata": {},
   "outputs": [],
   "source": [
    "OW_data=res.json()"
   ]
  },
  {
   "cell_type": "code",
   "execution_count": 211,
   "metadata": {},
   "outputs": [],
   "source": [
    "#API call to FS with cityname and lat long building \n",
    "result = requests.get(url).json()\n",
    "data2=json.dumps(results)\n",
    "data_OW=json.loads(data2)"
   ]
  },
  {
   "cell_type": "code",
   "execution_count": 212,
   "metadata": {},
   "outputs": [
    {
     "data": {
      "text/plain": [
       "'You have exceeded the maximum number of daily query results for your account. See https://www.visualcrossing.com/weather-data-editions for information about our plans and how to get more weather data for free.'"
      ]
     },
     "execution_count": 212,
     "metadata": {},
     "output_type": "execute_result"
    }
   ],
   "source": [
    "data_OW['message']"
   ]
  },
  {
   "cell_type": "code",
   "execution_count": 111,
   "metadata": {},
   "outputs": [
    {
     "data": {
      "text/plain": [
       "999"
      ]
     },
     "execution_count": 111,
     "metadata": {},
     "output_type": "execute_result"
    }
   ],
   "source": [
    "data['errorCode']"
   ]
  },
  {
   "cell_type": "code",
   "execution_count": null,
   "metadata": {},
   "outputs": [],
   "source": [
    "def get_weather(row):\n",
    "    time.sleep(3)\n",
    "    response=re.get(f’https://api.darksky.net/forecast/{darksky_key}/{row[”departure latitude”]},{row[“departure longitude”]},{row[“fl_date”]}’).json()\n",
    "    try:\n",
    "        return response[‘currently’][‘icon’]\n",
    "    except:\n",
    "        return ‘cloudy’"
   ]
  },
  {
   "cell_type": "code",
   "execution_count": null,
   "metadata": {},
   "outputs": [],
   "source": []
  },
  {
   "cell_type": "code",
   "execution_count": null,
   "metadata": {},
   "outputs": [],
   "source": [
    "crash_filt['']\n",
    "\n",
    "for i in range(len(crash_filt)):\n",
    "    latitude=crash_filt['latitude'][i]\n",
    "    longitude=crash_filt['longitude'][i]\n",
    "    start_time=crash_filt['DATE_'][i]\n",
    "    end_time=crash_filt['DATE_'][i]+(1hour?)\n",
    "    \n",
    "    ## BUILD API URL\n",
    "    forcast_type=1\n",
    "    #start_time=2019-06-13T00:00:00\n",
    "    #end_time=2019-06-20T00:00:00\n",
    "    base_url='https://weather.visualcrossing.com/VisualCrossingWebServices/rest/services/weatherdata/history?'\n",
    "    params='&aggregateHours={}&startDateTime={}&endDateTime={}&unitGroup=metric&contentType=json&location={},{}&key={}'\\\n",
    "    .format(forcast_type,start_time,end_time,latitude,longitude,api_key)\n",
    "\n",
    "    #API call to FS with cityname and lat long building \n",
    "    results = requests.get(base_url+key_url+params).json()\n",
    "    data2=json.dumps(results)\n",
    "    data=json.loads(data2)\n",
    "    \n",
    "    for forecast in data['response']['venues']:\n",
    "        bars_dict['name'].append(venues['name'])\n",
    "        bars_dict['venue_id'].append(venues['id'])\n",
    "        bars_dict['lat'].append(venues['location']['lat'])\n",
    "        bars_dict['lon'].append(venues['location']['lng'])\n",
    "        bars_dict['distance'].append(venues['location']['distance']) \n",
    "        bars_dict['cat_name'].append(venues['categories'][0]['name'])\n",
    "        bars_dict['cat_id'].append(venues['categories'][0]['id'])\n",
    "        if 'city' not in venues['location']:\n",
    "            bars_dict['city'].append(np.nan)\n",
    "        else:\n",
    "            bars_dict['city'].append(venues['location']['city'])  "
   ]
  },
  {
   "cell_type": "code",
   "execution_count": 382,
   "metadata": {},
   "outputs": [
    {
     "data": {
      "text/plain": [
       "<matplotlib.axes._subplots.AxesSubplot at 0x7f9f1863fa50>"
      ]
     },
     "execution_count": 382,
     "metadata": {},
     "output_type": "execute_result"
    },
    {
     "data": {
      "image/png": "[encoded data removed]",
      "text/plain": [
       "<Figure size 842.4x595.44 with 1 Axes>"
      ]
     },
     "metadata": {
      "needs_background": "light"
     },
     "output_type": "display_data"
    }
   ],
   "source": [
    "sns.distplot(throw_the_d['AKN']['month'])"
   ]
  },
  {
   "cell_type": "markdown",
   "metadata": {},
   "source": [
    "## Lets see what happens when I randomly sample"
   ]
  },
  {
   "cell_type": "code",
   "execution_count": 389,
   "metadata": {},
   "outputs": [
    {
     "data": {
      "text/plain": [
       "<matplotlib.axes._subplots.AxesSubplot at 0x7f9f189c3410>"
      ]
     },
     "execution_count": 389,
     "metadata": {},
     "output_type": "execute_result"
    },
    {
     "data": {
      "image/png": "[encoded data removed]",
      "text/plain": [
       "<Figure size 842.4x595.44 with 1 Axes>"
      ]
     },
     "metadata": {
      "needs_background": "light"
     },
     "output_type": "display_data"
    }
   ],
   "source": [
    "sns.distplot(throw_the_d['SAN']['month'])"
   ]
  },
  {
   "cell_type": "code",
   "execution_count": null,
   "metadata": {},
   "outputs": [],
   "source": [
    "weather_dict={}\n",
    "for month in d:\n",
    "    for airports in cities_to_samp:\n",
    "        weather_dict[airports]=d[month][d[month]['origin']==airports]\n",
    "    "
   ]
  },
  {
   "cell_type": "code",
   "execution_count": 387,
   "metadata": {},
   "outputs": [
    {
     "data": {
      "text/plain": [
       "True"
      ]
     },
     "execution_count": 387,
     "metadata": {},
     "output_type": "execute_result"
    }
   ],
   "source": [
    "'SAN' in cities_to_samp"
   ]
  },
  {
   "cell_type": "code",
   "execution_count": 384,
   "metadata": {},
   "outputs": [
    {
     "data": {
      "text/html": [
       "<div>\n",
       "<style scoped>\n",
       "    .dataframe tbody tr th:only-of-type {\n",
       "        vertical-align: middle;\n",
       "    }\n",
       "\n",
       "    .dataframe tbody tr th {\n",
       "        vertical-align: top;\n",
       "    }\n",
       "\n",
       "    .dataframe thead th {\n",
       "        text-align: right;\n",
       "    }\n",
       "</style>\n",
       "<table border=\"1\" class=\"dataframe\">\n",
       "  <thead>\n",
       "    <tr style=\"text-align: right;\">\n",
       "      <th></th>\n",
       "      <th>fl_date</th>\n",
       "      <th>origin_airport_id</th>\n",
       "      <th>origin</th>\n",
       "      <th>origin_city_name</th>\n",
       "      <th>dest_airport_id</th>\n",
       "      <th>dest</th>\n",
       "      <th>dest_city_name</th>\n",
       "      <th>dep_delay</th>\n",
       "      <th>arr_delay</th>\n",
       "      <th>cancelled</th>\n",
       "      <th>diverted</th>\n",
       "      <th>weather_delay</th>\n",
       "      <th>nas_delay</th>\n",
       "      <th>security_delay</th>\n",
       "      <th>late_aircraft_delay</th>\n",
       "      <th>dep_latitude</th>\n",
       "      <th>dep_longitude</th>\n",
       "      <th>month</th>\n",
       "    </tr>\n",
       "  </thead>\n",
       "  <tbody>\n",
       "    <tr>\n",
       "      <th>0</th>\n",
       "      <td>2018-05-31</td>\n",
       "      <td>14679</td>\n",
       "      <td>SAN</td>\n",
       "      <td>San Diego, CA</td>\n",
       "      <td>14771</td>\n",
       "      <td>SFO</td>\n",
       "      <td>San Francisco, CA</td>\n",
       "      <td>0.0</td>\n",
       "      <td>-4.0</td>\n",
       "      <td>0</td>\n",
       "      <td>0</td>\n",
       "      <td>NaN</td>\n",
       "      <td>NaN</td>\n",
       "      <td>NaN</td>\n",
       "      <td>NaN</td>\n",
       "      <td>36.638392</td>\n",
       "      <td>127.696119</td>\n",
       "      <td>5</td>\n",
       "    </tr>\n",
       "    <tr>\n",
       "      <th>1</th>\n",
       "      <td>2018-05-31</td>\n",
       "      <td>14679</td>\n",
       "      <td>SAN</td>\n",
       "      <td>San Diego, CA</td>\n",
       "      <td>14771</td>\n",
       "      <td>SFO</td>\n",
       "      <td>San Francisco, CA</td>\n",
       "      <td>18.0</td>\n",
       "      <td>22.0</td>\n",
       "      <td>0</td>\n",
       "      <td>0</td>\n",
       "      <td>0.0</td>\n",
       "      <td>4.0</td>\n",
       "      <td>0.0</td>\n",
       "      <td>18.0</td>\n",
       "      <td>36.638392</td>\n",
       "      <td>127.696119</td>\n",
       "      <td>5</td>\n",
       "    </tr>\n",
       "    <tr>\n",
       "      <th>2</th>\n",
       "      <td>2018-05-31</td>\n",
       "      <td>14679</td>\n",
       "      <td>SAN</td>\n",
       "      <td>San Diego, CA</td>\n",
       "      <td>14771</td>\n",
       "      <td>SFO</td>\n",
       "      <td>San Francisco, CA</td>\n",
       "      <td>27.0</td>\n",
       "      <td>64.0</td>\n",
       "      <td>0</td>\n",
       "      <td>0</td>\n",
       "      <td>0.0</td>\n",
       "      <td>64.0</td>\n",
       "      <td>0.0</td>\n",
       "      <td>0.0</td>\n",
       "      <td>36.638392</td>\n",
       "      <td>127.696119</td>\n",
       "      <td>5</td>\n",
       "    </tr>\n",
       "    <tr>\n",
       "      <th>3</th>\n",
       "      <td>2018-05-31</td>\n",
       "      <td>14679</td>\n",
       "      <td>SAN</td>\n",
       "      <td>San Diego, CA</td>\n",
       "      <td>14771</td>\n",
       "      <td>SFO</td>\n",
       "      <td>San Francisco, CA</td>\n",
       "      <td>36.0</td>\n",
       "      <td>48.0</td>\n",
       "      <td>0</td>\n",
       "      <td>0</td>\n",
       "      <td>0.0</td>\n",
       "      <td>48.0</td>\n",
       "      <td>0.0</td>\n",
       "      <td>0.0</td>\n",
       "      <td>36.638392</td>\n",
       "      <td>127.696119</td>\n",
       "      <td>5</td>\n",
       "    </tr>\n",
       "    <tr>\n",
       "      <th>4</th>\n",
       "      <td>2018-05-31</td>\n",
       "      <td>14679</td>\n",
       "      <td>SAN</td>\n",
       "      <td>San Diego, CA</td>\n",
       "      <td>14771</td>\n",
       "      <td>SFO</td>\n",
       "      <td>San Francisco, CA</td>\n",
       "      <td>23.0</td>\n",
       "      <td>30.0</td>\n",
       "      <td>0</td>\n",
       "      <td>0</td>\n",
       "      <td>0.0</td>\n",
       "      <td>10.0</td>\n",
       "      <td>0.0</td>\n",
       "      <td>20.0</td>\n",
       "      <td>36.638392</td>\n",
       "      <td>127.696119</td>\n",
       "      <td>5</td>\n",
       "    </tr>\n",
       "  </tbody>\n",
       "</table>\n",
       "</div>"
      ],
      "text/plain": [
       "     fl_date  origin_airport_id origin origin_city_name  dest_airport_id dest  \\\n",
       "0 2018-05-31              14679    SAN    San Diego, CA            14771  SFO   \n",
       "1 2018-05-31              14679    SAN    San Diego, CA            14771  SFO   \n",
       "2 2018-05-31              14679    SAN    San Diego, CA            14771  SFO   \n",
       "3 2018-05-31              14679    SAN    San Diego, CA            14771  SFO   \n",
       "4 2018-05-31              14679    SAN    San Diego, CA            14771  SFO   \n",
       "\n",
       "      dest_city_name  dep_delay  arr_delay  cancelled  diverted  \\\n",
       "0  San Francisco, CA        0.0       -4.0          0         0   \n",
       "1  San Francisco, CA       18.0       22.0          0         0   \n",
       "2  San Francisco, CA       27.0       64.0          0         0   \n",
       "3  San Francisco, CA       36.0       48.0          0         0   \n",
       "4  San Francisco, CA       23.0       30.0          0         0   \n",
       "\n",
       "   weather_delay  nas_delay  security_delay  late_aircraft_delay  \\\n",
       "0            NaN        NaN             NaN                  NaN   \n",
       "1            0.0        4.0             0.0                 18.0   \n",
       "2            0.0       64.0             0.0                  0.0   \n",
       "3            0.0       48.0             0.0                  0.0   \n",
       "4            0.0       10.0             0.0                 20.0   \n",
       "\n",
       "   dep_latitude  dep_longitude  month  \n",
       "0     36.638392     127.696119      5  \n",
       "1     36.638392     127.696119      5  \n",
       "2     36.638392     127.696119      5  \n",
       "3     36.638392     127.696119      5  \n",
       "4     36.638392     127.696119      5  "
      ]
     },
     "execution_count": 384,
     "metadata": {},
     "output_type": "execute_result"
    }
   ],
   "source": [
    "delay_cities.head()"
   ]
  },
  {
   "cell_type": "code",
   "execution_count": 385,
   "metadata": {},
   "outputs": [
    {
     "data": {
      "text/html": [
       "<div>\n",
       "<style scoped>\n",
       "    .dataframe tbody tr th:only-of-type {\n",
       "        vertical-align: middle;\n",
       "    }\n",
       "\n",
       "    .dataframe tbody tr th {\n",
       "        vertical-align: top;\n",
       "    }\n",
       "\n",
       "    .dataframe thead th {\n",
       "        text-align: right;\n",
       "    }\n",
       "</style>\n",
       "<table border=\"1\" class=\"dataframe\">\n",
       "  <thead>\n",
       "    <tr style=\"text-align: right;\">\n",
       "      <th></th>\n",
       "      <th>fl_date</th>\n",
       "      <th>origin_airport_id</th>\n",
       "      <th>origin</th>\n",
       "      <th>origin_city_name</th>\n",
       "      <th>dest_airport_id</th>\n",
       "      <th>dest</th>\n",
       "      <th>dest_city_name</th>\n",
       "      <th>dep_delay</th>\n",
       "      <th>arr_delay</th>\n",
       "      <th>cancelled</th>\n",
       "      <th>diverted</th>\n",
       "      <th>weather_delay</th>\n",
       "      <th>nas_delay</th>\n",
       "      <th>security_delay</th>\n",
       "      <th>late_aircraft_delay</th>\n",
       "      <th>dep_latitude</th>\n",
       "      <th>dep_longitude</th>\n",
       "      <th>month</th>\n",
       "    </tr>\n",
       "  </thead>\n",
       "  <tbody>\n",
       "  </tbody>\n",
       "</table>\n",
       "</div>"
      ],
      "text/plain": [
       "Empty DataFrame\n",
       "Columns: [fl_date, origin_airport_id, origin, origin_city_name, dest_airport_id, dest, dest_city_name, dep_delay, arr_delay, cancelled, diverted, weather_delay, nas_delay, security_delay, late_aircraft_delay, dep_latitude, dep_longitude, month]\n",
       "Index: []"
      ]
     },
     "execution_count": 385,
     "metadata": {},
     "output_type": "execute_result"
    }
   ],
   "source": [
    "d['month3'][d['month3']['origin']==\"AKN\"]"
   ]
  }
 ],
 "metadata": {
  "kernelspec": {
   "display_name": "bootcamp_env",
   "language": "python",
   "name": "bootcamp_env"
  },
  "language_info": {
   "codemirror_mode": {
    "name": "ipython",
    "version": 3
   },
   "file_extension": ".py",
   "mimetype": "text/x-python",
   "name": "python",
   "nbconvert_exporter": "python",
   "pygments_lexer": "ipython3",
   "version": "3.7.6"
  }
 },
 "nbformat": 4,
 "nbformat_minor": 4
}
