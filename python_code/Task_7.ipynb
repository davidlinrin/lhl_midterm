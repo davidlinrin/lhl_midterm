{
 "cells": [
  {
   "cell_type": "markdown",
   "metadata": {},
   "source": [
    "### Import packages"
   ]
  },
  {
   "cell_type": "code",
   "execution_count": 28,
   "metadata": {},
   "outputs": [],
   "source": [
    "import pandas as pd\n",
    "import numpy as np\n",
    "import matplotlib.pyplot as plt\n",
    "\n",
    "import statsmodels.api as sm\n",
    "from sklearn.preprocessing import StandardScaler\n",
    "from sklearn.decomposition import PCA\n",
    "from sklearn.preprocessing import LabelEncoder\n",
    "from sklearn import metrics\n",
    "from sklearn import preprocessing\n",
    "from sklearn.feature_selection import VarianceThreshold\n",
    "from sklearn.feature_selection import f_regression, SelectKBest\n",
    "from sklearn.cluster import DBSCAN\n",
    "from sklearn.cluster import KMeans\n",
    "from sklearn.linear_model import LinearRegression\n",
    "from scipy.stats import chi2_contingency\n",
    "import plotly.express as px\n",
    "\n",
    "import copy\n",
    "import seaborn as sns\n",
    "import os\n",
    "from scipy import stats\n",
    "import datetime\n",
    "\n",
    "import sqlite3 as sqlite\n",
    "from sqlalchemy import create_engine\n",
    "%matplotlib inline"
   ]
  },
  {
   "cell_type": "code",
   "execution_count": 3,
   "metadata": {},
   "outputs": [],
   "source": [
    "data_path = '/mnt/d/lighthouse/Midterm_data/'"
   ]
  },
  {
   "cell_type": "code",
   "execution_count": 4,
   "metadata": {},
   "outputs": [],
   "source": [
    "# 10770229 rows × 28 columns\n",
    "flights = pd.read_csv(data_path + 'flights_cleaned.csv', header = 0)\n",
    "flights.drop('Unnamed: 0', axis =1, inplace = True)"
   ]
  },
  {
   "cell_type": "code",
   "execution_count": 7,
   "metadata": {},
   "outputs": [
    {
     "data": {
      "text/html": [
       "<div>\n",
       "<style scoped>\n",
       "    .dataframe tbody tr th:only-of-type {\n",
       "        vertical-align: middle;\n",
       "    }\n",
       "\n",
       "    .dataframe tbody tr th {\n",
       "        vertical-align: top;\n",
       "    }\n",
       "\n",
       "    .dataframe thead th {\n",
       "        text-align: right;\n",
       "    }\n",
       "</style>\n",
       "<table border=\"1\" class=\"dataframe\">\n",
       "  <thead>\n",
       "    <tr style=\"text-align: right;\">\n",
       "      <th></th>\n",
       "      <th>mkt_carrier_fl_num</th>\n",
       "      <th>op_carrier_fl_num</th>\n",
       "      <th>origin_airport_id</th>\n",
       "      <th>dest_airport_id</th>\n",
       "      <th>crs_dep_time</th>\n",
       "      <th>dep_time</th>\n",
       "      <th>dep_delay</th>\n",
       "      <th>taxi_out</th>\n",
       "      <th>wheels_off</th>\n",
       "      <th>wheels_on</th>\n",
       "      <th>...</th>\n",
       "      <th>tail_num</th>\n",
       "      <th>origin</th>\n",
       "      <th>dest</th>\n",
       "      <th>year</th>\n",
       "      <th>month</th>\n",
       "      <th>date</th>\n",
       "      <th>origin_city</th>\n",
       "      <th>origin_state</th>\n",
       "      <th>dest_city</th>\n",
       "      <th>dest_state</th>\n",
       "    </tr>\n",
       "  </thead>\n",
       "  <tbody>\n",
       "    <tr>\n",
       "      <th>0</th>\n",
       "      <td>2098</td>\n",
       "      <td>2098</td>\n",
       "      <td>13198</td>\n",
       "      <td>14107</td>\n",
       "      <td>1755</td>\n",
       "      <td>1753.0</td>\n",
       "      <td>-2.0</td>\n",
       "      <td>7.0</td>\n",
       "      <td>1800.0</td>\n",
       "      <td>1832.0</td>\n",
       "      <td>...</td>\n",
       "      <td>N8540V</td>\n",
       "      <td>MCI</td>\n",
       "      <td>PHX</td>\n",
       "      <td>2019</td>\n",
       "      <td>3</td>\n",
       "      <td>25</td>\n",
       "      <td>Kansas City</td>\n",
       "      <td>MO</td>\n",
       "      <td>Phoenix</td>\n",
       "      <td>AZ</td>\n",
       "    </tr>\n",
       "    <tr>\n",
       "      <th>1</th>\n",
       "      <td>2238</td>\n",
       "      <td>2238</td>\n",
       "      <td>13198</td>\n",
       "      <td>14107</td>\n",
       "      <td>2000</td>\n",
       "      <td>1955.0</td>\n",
       "      <td>-5.0</td>\n",
       "      <td>6.0</td>\n",
       "      <td>2001.0</td>\n",
       "      <td>2030.0</td>\n",
       "      <td>...</td>\n",
       "      <td>N8656B</td>\n",
       "      <td>MCI</td>\n",
       "      <td>PHX</td>\n",
       "      <td>2019</td>\n",
       "      <td>3</td>\n",
       "      <td>25</td>\n",
       "      <td>Kansas City</td>\n",
       "      <td>MO</td>\n",
       "      <td>Phoenix</td>\n",
       "      <td>AZ</td>\n",
       "    </tr>\n",
       "    <tr>\n",
       "      <th>2</th>\n",
       "      <td>2451</td>\n",
       "      <td>2451</td>\n",
       "      <td>13198</td>\n",
       "      <td>14107</td>\n",
       "      <td>540</td>\n",
       "      <td>541.0</td>\n",
       "      <td>1.0</td>\n",
       "      <td>7.0</td>\n",
       "      <td>548.0</td>\n",
       "      <td>617.0</td>\n",
       "      <td>...</td>\n",
       "      <td>N8583Z</td>\n",
       "      <td>MCI</td>\n",
       "      <td>PHX</td>\n",
       "      <td>2019</td>\n",
       "      <td>3</td>\n",
       "      <td>25</td>\n",
       "      <td>Kansas City</td>\n",
       "      <td>MO</td>\n",
       "      <td>Phoenix</td>\n",
       "      <td>AZ</td>\n",
       "    </tr>\n",
       "    <tr>\n",
       "      <th>3</th>\n",
       "      <td>2213</td>\n",
       "      <td>2213</td>\n",
       "      <td>13198</td>\n",
       "      <td>14492</td>\n",
       "      <td>1550</td>\n",
       "      <td>1729.0</td>\n",
       "      <td>99.0</td>\n",
       "      <td>7.0</td>\n",
       "      <td>1736.0</td>\n",
       "      <td>2032.0</td>\n",
       "      <td>...</td>\n",
       "      <td>N737JW</td>\n",
       "      <td>MCI</td>\n",
       "      <td>RDU</td>\n",
       "      <td>2019</td>\n",
       "      <td>3</td>\n",
       "      <td>25</td>\n",
       "      <td>Kansas City</td>\n",
       "      <td>MO</td>\n",
       "      <td>Raleigh/Durham</td>\n",
       "      <td>NC</td>\n",
       "    </tr>\n",
       "    <tr>\n",
       "      <th>4</th>\n",
       "      <td>2096</td>\n",
       "      <td>2096</td>\n",
       "      <td>13198</td>\n",
       "      <td>14635</td>\n",
       "      <td>1045</td>\n",
       "      <td>1331.0</td>\n",
       "      <td>166.0</td>\n",
       "      <td>7.0</td>\n",
       "      <td>1338.0</td>\n",
       "      <td>1659.0</td>\n",
       "      <td>...</td>\n",
       "      <td>N705SW</td>\n",
       "      <td>MCI</td>\n",
       "      <td>RSW</td>\n",
       "      <td>2019</td>\n",
       "      <td>3</td>\n",
       "      <td>25</td>\n",
       "      <td>Kansas City</td>\n",
       "      <td>MO</td>\n",
       "      <td>Fort Myers</td>\n",
       "      <td>FL</td>\n",
       "    </tr>\n",
       "    <tr>\n",
       "      <th>...</th>\n",
       "      <td>...</td>\n",
       "      <td>...</td>\n",
       "      <td>...</td>\n",
       "      <td>...</td>\n",
       "      <td>...</td>\n",
       "      <td>...</td>\n",
       "      <td>...</td>\n",
       "      <td>...</td>\n",
       "      <td>...</td>\n",
       "      <td>...</td>\n",
       "      <td>...</td>\n",
       "      <td>...</td>\n",
       "      <td>...</td>\n",
       "      <td>...</td>\n",
       "      <td>...</td>\n",
       "      <td>...</td>\n",
       "      <td>...</td>\n",
       "      <td>...</td>\n",
       "      <td>...</td>\n",
       "      <td>...</td>\n",
       "      <td>...</td>\n",
       "    </tr>\n",
       "    <tr>\n",
       "      <th>15605071</th>\n",
       "      <td>2189</td>\n",
       "      <td>2189</td>\n",
       "      <td>13198</td>\n",
       "      <td>13495</td>\n",
       "      <td>2055</td>\n",
       "      <td>2111.0</td>\n",
       "      <td>16.0</td>\n",
       "      <td>5.0</td>\n",
       "      <td>2116.0</td>\n",
       "      <td>2240.0</td>\n",
       "      <td>...</td>\n",
       "      <td>N7702A</td>\n",
       "      <td>MCI</td>\n",
       "      <td>MSY</td>\n",
       "      <td>2019</td>\n",
       "      <td>3</td>\n",
       "      <td>25</td>\n",
       "      <td>Kansas City</td>\n",
       "      <td>MO</td>\n",
       "      <td>New Orleans</td>\n",
       "      <td>LA</td>\n",
       "    </tr>\n",
       "    <tr>\n",
       "      <th>15605072</th>\n",
       "      <td>1291</td>\n",
       "      <td>1291</td>\n",
       "      <td>13198</td>\n",
       "      <td>13796</td>\n",
       "      <td>1200</td>\n",
       "      <td>1328.0</td>\n",
       "      <td>88.0</td>\n",
       "      <td>7.0</td>\n",
       "      <td>1335.0</td>\n",
       "      <td>1527.0</td>\n",
       "      <td>...</td>\n",
       "      <td>N7878A</td>\n",
       "      <td>MCI</td>\n",
       "      <td>OAK</td>\n",
       "      <td>2019</td>\n",
       "      <td>3</td>\n",
       "      <td>25</td>\n",
       "      <td>Kansas City</td>\n",
       "      <td>MO</td>\n",
       "      <td>Oakland</td>\n",
       "      <td>CA</td>\n",
       "    </tr>\n",
       "    <tr>\n",
       "      <th>15605073</th>\n",
       "      <td>2470</td>\n",
       "      <td>2470</td>\n",
       "      <td>13198</td>\n",
       "      <td>14057</td>\n",
       "      <td>920</td>\n",
       "      <td>915.0</td>\n",
       "      <td>-5.0</td>\n",
       "      <td>7.0</td>\n",
       "      <td>922.0</td>\n",
       "      <td>1049.0</td>\n",
       "      <td>...</td>\n",
       "      <td>N760SW</td>\n",
       "      <td>MCI</td>\n",
       "      <td>PDX</td>\n",
       "      <td>2019</td>\n",
       "      <td>3</td>\n",
       "      <td>25</td>\n",
       "      <td>Kansas City</td>\n",
       "      <td>MO</td>\n",
       "      <td>Portland</td>\n",
       "      <td>OR</td>\n",
       "    </tr>\n",
       "    <tr>\n",
       "      <th>15605074</th>\n",
       "      <td>1651</td>\n",
       "      <td>1651</td>\n",
       "      <td>13198</td>\n",
       "      <td>14107</td>\n",
       "      <td>1125</td>\n",
       "      <td>1123.0</td>\n",
       "      <td>-2.0</td>\n",
       "      <td>9.0</td>\n",
       "      <td>1132.0</td>\n",
       "      <td>1158.0</td>\n",
       "      <td>...</td>\n",
       "      <td>N8542Z</td>\n",
       "      <td>MCI</td>\n",
       "      <td>PHX</td>\n",
       "      <td>2019</td>\n",
       "      <td>3</td>\n",
       "      <td>25</td>\n",
       "      <td>Kansas City</td>\n",
       "      <td>MO</td>\n",
       "      <td>Phoenix</td>\n",
       "      <td>AZ</td>\n",
       "    </tr>\n",
       "    <tr>\n",
       "      <th>15605075</th>\n",
       "      <td>1962</td>\n",
       "      <td>1962</td>\n",
       "      <td>13198</td>\n",
       "      <td>14107</td>\n",
       "      <td>1350</td>\n",
       "      <td>1350.0</td>\n",
       "      <td>0.0</td>\n",
       "      <td>7.0</td>\n",
       "      <td>1357.0</td>\n",
       "      <td>1429.0</td>\n",
       "      <td>...</td>\n",
       "      <td>N783SW</td>\n",
       "      <td>MCI</td>\n",
       "      <td>PHX</td>\n",
       "      <td>2019</td>\n",
       "      <td>3</td>\n",
       "      <td>25</td>\n",
       "      <td>Kansas City</td>\n",
       "      <td>MO</td>\n",
       "      <td>Phoenix</td>\n",
       "      <td>AZ</td>\n",
       "    </tr>\n",
       "  </tbody>\n",
       "</table>\n",
       "<p>15605076 rows × 32 columns</p>\n",
       "</div>"
      ],
      "text/plain": [
       "          mkt_carrier_fl_num  op_carrier_fl_num  origin_airport_id  \\\n",
       "0                       2098               2098              13198   \n",
       "1                       2238               2238              13198   \n",
       "2                       2451               2451              13198   \n",
       "3                       2213               2213              13198   \n",
       "4                       2096               2096              13198   \n",
       "...                      ...                ...                ...   \n",
       "15605071                2189               2189              13198   \n",
       "15605072                1291               1291              13198   \n",
       "15605073                2470               2470              13198   \n",
       "15605074                1651               1651              13198   \n",
       "15605075                1962               1962              13198   \n",
       "\n",
       "          dest_airport_id  crs_dep_time  dep_time  dep_delay  taxi_out  \\\n",
       "0                   14107          1755    1753.0       -2.0       7.0   \n",
       "1                   14107          2000    1955.0       -5.0       6.0   \n",
       "2                   14107           540     541.0        1.0       7.0   \n",
       "3                   14492          1550    1729.0       99.0       7.0   \n",
       "4                   14635          1045    1331.0      166.0       7.0   \n",
       "...                   ...           ...       ...        ...       ...   \n",
       "15605071            13495          2055    2111.0       16.0       5.0   \n",
       "15605072            13796          1200    1328.0       88.0       7.0   \n",
       "15605073            14057           920     915.0       -5.0       7.0   \n",
       "15605074            14107          1125    1123.0       -2.0       9.0   \n",
       "15605075            14107          1350    1350.0        0.0       7.0   \n",
       "\n",
       "          wheels_off  wheels_on  ...  tail_num  origin  dest  year  month  \\\n",
       "0             1800.0     1832.0  ...    N8540V     MCI   PHX  2019      3   \n",
       "1             2001.0     2030.0  ...    N8656B     MCI   PHX  2019      3   \n",
       "2              548.0      617.0  ...    N8583Z     MCI   PHX  2019      3   \n",
       "3             1736.0     2032.0  ...    N737JW     MCI   RDU  2019      3   \n",
       "4             1338.0     1659.0  ...    N705SW     MCI   RSW  2019      3   \n",
       "...              ...        ...  ...       ...     ...   ...   ...    ...   \n",
       "15605071      2116.0     2240.0  ...    N7702A     MCI   MSY  2019      3   \n",
       "15605072      1335.0     1527.0  ...    N7878A     MCI   OAK  2019      3   \n",
       "15605073       922.0     1049.0  ...    N760SW     MCI   PDX  2019      3   \n",
       "15605074      1132.0     1158.0  ...    N8542Z     MCI   PHX  2019      3   \n",
       "15605075      1357.0     1429.0  ...    N783SW     MCI   PHX  2019      3   \n",
       "\n",
       "          date  origin_city  origin_state       dest_city dest_state  \n",
       "0           25  Kansas City            MO         Phoenix         AZ  \n",
       "1           25  Kansas City            MO         Phoenix         AZ  \n",
       "2           25  Kansas City            MO         Phoenix         AZ  \n",
       "3           25  Kansas City            MO  Raleigh/Durham         NC  \n",
       "4           25  Kansas City            MO      Fort Myers         FL  \n",
       "...        ...          ...           ...             ...        ...  \n",
       "15605071    25  Kansas City            MO     New Orleans         LA  \n",
       "15605072    25  Kansas City            MO         Oakland         CA  \n",
       "15605073    25  Kansas City            MO        Portland         OR  \n",
       "15605074    25  Kansas City            MO         Phoenix         AZ  \n",
       "15605075    25  Kansas City            MO         Phoenix         AZ  \n",
       "\n",
       "[15605076 rows x 32 columns]"
      ]
     },
     "execution_count": 7,
     "metadata": {},
     "output_type": "execute_result"
    }
   ],
   "source": [
    "# Flight delays with outliers\n",
    "flights_outlier = pd.read_csv(data_path + 'flights_outliers_no_encode.csv', header = 0)\n",
    "flights_outlier.drop('Unnamed: 0', axis =1, inplace = True)\n",
    "#15605076 rows × 7 columns\n",
    "flights_outlier"
   ]
  },
  {
   "cell_type": "markdown",
   "metadata": {},
   "source": [
    "## With outliers (no extreme outliers)"
   ]
  },
  {
   "cell_type": "code",
   "execution_count": 8,
   "metadata": {},
   "outputs": [
    {
     "data": {
      "text/html": [
       "<div>\n",
       "<style scoped>\n",
       "    .dataframe tbody tr th:only-of-type {\n",
       "        vertical-align: middle;\n",
       "    }\n",
       "\n",
       "    .dataframe tbody tr th {\n",
       "        vertical-align: top;\n",
       "    }\n",
       "\n",
       "    .dataframe thead th {\n",
       "        text-align: right;\n",
       "    }\n",
       "</style>\n",
       "<table border=\"1\" class=\"dataframe\">\n",
       "  <thead>\n",
       "    <tr style=\"text-align: right;\">\n",
       "      <th></th>\n",
       "      <th>dep_delay</th>\n",
       "      <th>arr_delay</th>\n",
       "      <th>year</th>\n",
       "      <th>month</th>\n",
       "      <th>date</th>\n",
       "      <th>air_time</th>\n",
       "      <th>distance</th>\n",
       "    </tr>\n",
       "  </thead>\n",
       "  <tbody>\n",
       "    <tr>\n",
       "      <th>0</th>\n",
       "      <td>-2.0</td>\n",
       "      <td>-12.0</td>\n",
       "      <td>2019</td>\n",
       "      <td>3</td>\n",
       "      <td>25</td>\n",
       "      <td>152.0</td>\n",
       "      <td>1044</td>\n",
       "    </tr>\n",
       "    <tr>\n",
       "      <th>1</th>\n",
       "      <td>-5.0</td>\n",
       "      <td>-19.0</td>\n",
       "      <td>2019</td>\n",
       "      <td>3</td>\n",
       "      <td>25</td>\n",
       "      <td>149.0</td>\n",
       "      <td>1044</td>\n",
       "    </tr>\n",
       "    <tr>\n",
       "      <th>2</th>\n",
       "      <td>1.0</td>\n",
       "      <td>-10.0</td>\n",
       "      <td>2019</td>\n",
       "      <td>3</td>\n",
       "      <td>25</td>\n",
       "      <td>149.0</td>\n",
       "      <td>1044</td>\n",
       "    </tr>\n",
       "    <tr>\n",
       "      <th>3</th>\n",
       "      <td>99.0</td>\n",
       "      <td>94.0</td>\n",
       "      <td>2019</td>\n",
       "      <td>3</td>\n",
       "      <td>25</td>\n",
       "      <td>116.0</td>\n",
       "      <td>904</td>\n",
       "    </tr>\n",
       "    <tr>\n",
       "      <th>4</th>\n",
       "      <td>166.0</td>\n",
       "      <td>152.0</td>\n",
       "      <td>2019</td>\n",
       "      <td>3</td>\n",
       "      <td>25</td>\n",
       "      <td>141.0</td>\n",
       "      <td>1155</td>\n",
       "    </tr>\n",
       "    <tr>\n",
       "      <th>...</th>\n",
       "      <td>...</td>\n",
       "      <td>...</td>\n",
       "      <td>...</td>\n",
       "      <td>...</td>\n",
       "      <td>...</td>\n",
       "      <td>...</td>\n",
       "      <td>...</td>\n",
       "    </tr>\n",
       "    <tr>\n",
       "      <th>15605071</th>\n",
       "      <td>16.0</td>\n",
       "      <td>-3.0</td>\n",
       "      <td>2019</td>\n",
       "      <td>3</td>\n",
       "      <td>25</td>\n",
       "      <td>84.0</td>\n",
       "      <td>689</td>\n",
       "    </tr>\n",
       "    <tr>\n",
       "      <th>15605072</th>\n",
       "      <td>88.0</td>\n",
       "      <td>99.0</td>\n",
       "      <td>2019</td>\n",
       "      <td>3</td>\n",
       "      <td>25</td>\n",
       "      <td>232.0</td>\n",
       "      <td>1489</td>\n",
       "    </tr>\n",
       "    <tr>\n",
       "      <th>15605073</th>\n",
       "      <td>-5.0</td>\n",
       "      <td>-18.0</td>\n",
       "      <td>2019</td>\n",
       "      <td>3</td>\n",
       "      <td>25</td>\n",
       "      <td>207.0</td>\n",
       "      <td>1482</td>\n",
       "    </tr>\n",
       "    <tr>\n",
       "      <th>15605074</th>\n",
       "      <td>-2.0</td>\n",
       "      <td>-11.0</td>\n",
       "      <td>2019</td>\n",
       "      <td>3</td>\n",
       "      <td>25</td>\n",
       "      <td>146.0</td>\n",
       "      <td>1044</td>\n",
       "    </tr>\n",
       "    <tr>\n",
       "      <th>15605075</th>\n",
       "      <td>0.0</td>\n",
       "      <td>-11.0</td>\n",
       "      <td>2019</td>\n",
       "      <td>3</td>\n",
       "      <td>25</td>\n",
       "      <td>152.0</td>\n",
       "      <td>1044</td>\n",
       "    </tr>\n",
       "  </tbody>\n",
       "</table>\n",
       "<p>15604888 rows × 7 columns</p>\n",
       "</div>"
      ],
      "text/plain": [
       "          dep_delay  arr_delay  year  month  date  air_time  distance\n",
       "0              -2.0      -12.0  2019      3    25     152.0      1044\n",
       "1              -5.0      -19.0  2019      3    25     149.0      1044\n",
       "2               1.0      -10.0  2019      3    25     149.0      1044\n",
       "3              99.0       94.0  2019      3    25     116.0       904\n",
       "4             166.0      152.0  2019      3    25     141.0      1155\n",
       "...             ...        ...   ...    ...   ...       ...       ...\n",
       "15605071       16.0       -3.0  2019      3    25      84.0       689\n",
       "15605072       88.0       99.0  2019      3    25     232.0      1489\n",
       "15605073       -5.0      -18.0  2019      3    25     207.0      1482\n",
       "15605074       -2.0      -11.0  2019      3    25     146.0      1044\n",
       "15605075        0.0      -11.0  2019      3    25     152.0      1044\n",
       "\n",
       "[15604888 rows x 7 columns]"
      ]
     },
     "execution_count": 8,
     "metadata": {},
     "output_type": "execute_result"
    }
   ],
   "source": [
    "flights_speed_out = copy.deepcopy(flights_outlier[['dep_delay','arr_delay', 'year','month','date','air_time', 'distance']])\n",
    "flights_speed_out = flights_speed_out[flights_speed_out['dep_delay']<1500]\n",
    "flights_speed_out"
   ]
  },
  {
   "cell_type": "code",
   "execution_count": 9,
   "metadata": {},
   "outputs": [],
   "source": [
    "flights_speed_out['dep_delay_cate'] = np.where(0<flights_speed_out['dep_delay'],1,0)\n",
    "flights_speed_out['speed'] = (flights_speed_out['distance']*1.60934)/(flights_speed_out['air_time']/60)"
   ]
  },
  {
   "cell_type": "code",
   "execution_count": null,
   "metadata": {},
   "outputs": [],
   "source": [
    "flights_speed_out"
   ]
  },
  {
   "cell_type": "markdown",
   "metadata": {},
   "source": [
    "### Normality test"
   ]
  },
  {
   "cell_type": "code",
   "execution_count": 10,
   "metadata": {},
   "outputs": [
    {
     "name": "stdout",
     "output_type": "stream",
     "text": [
      "NormaltestResult(statistic=323909.62826791406, pvalue=0.0)\n",
      "NormaltestResult(statistic=208784.14837128934, pvalue=0.0)\n"
     ]
    }
   ],
   "source": [
    "print(stats.normaltest(flights_speed_out[flights_speed_out['dep_delay_cate'] == 0]['speed']))\n",
    "print(stats.normaltest(flights_speed_out[flights_speed_out['dep_delay_cate'] == 1]['speed']))"
   ]
  },
  {
   "cell_type": "code",
   "execution_count": 75,
   "metadata": {},
   "outputs": [
    {
     "data": {
      "image/png": "[encoded data removed]",
      "text/plain": [
       "<Figure size 1008x720 with 2 Axes>"
      ]
     },
     "metadata": {
      "needs_background": "light"
     },
     "output_type": "display_data"
    }
   ],
   "source": [
    "fig, ax = plt.subplots(2, figsize=(14,10))\n",
    "sns.distplot(flights_speed_out[flights_speed_out['dep_delay_cate']==0]['speed'], ax = ax[0])\n",
    "sns.distplot(flights_speed_out[flights_speed_out['dep_delay_cate']==1]['speed'], ax = ax[1])\n",
    "ax[0].set_title('Early/ On time departures')\n",
    "ax[1].set_title('Late departures')\n",
    "ax[0].set_xlabel('flight speed (km/hr)')\n",
    "ax[1].set_xlabel('flight speed (km/hr)')\n",
    "plt.savefig('/mnt/d/lighthouse/Midterm/visualization/Task_7_speed_distplot_outliers.png')"
   ]
  },
  {
   "cell_type": "markdown",
   "metadata": {},
   "source": [
    "### Equal variance test"
   ]
  },
  {
   "cell_type": "code",
   "execution_count": 11,
   "metadata": {},
   "outputs": [
    {
     "data": {
      "text/plain": [
       "BartlettResult(statistic=300.43822769488327, pvalue=2.6442136594844858e-67)"
      ]
     },
     "execution_count": 11,
     "metadata": {},
     "output_type": "execute_result"
    }
   ],
   "source": [
    "# equal variance of arr_delay for each month\n",
    "stats.bartlett(flights_speed_out[flights_speed_out['dep_delay_cate'] == 0]['speed'],\n",
    "             flights_speed_out[flights_speed_out['dep_delay_cate'] == 1]['speed'])"
   ]
  },
  {
   "cell_type": "code",
   "execution_count": 12,
   "metadata": {},
   "outputs": [
    {
     "data": {
      "text/plain": [
       "LeveneResult(statistic=8.148642300077862, pvalue=0.004309346938885334)"
      ]
     },
     "execution_count": 12,
     "metadata": {},
     "output_type": "execute_result"
    }
   ],
   "source": [
    "# equal variance of arr_delay for each month\n",
    "stats.levene(flights_speed_out[flights_speed_out['dep_delay_cate'] == 0]['speed'],\n",
    "             flights_speed_out[flights_speed_out['dep_delay_cate'] == 1]['speed'])"
   ]
  },
  {
   "cell_type": "code",
   "execution_count": 13,
   "metadata": {},
   "outputs": [],
   "source": [
    "ary_len = []\n",
    "for i in range(2):\n",
    "    ary_len.append(flights_speed_out[flights_speed_out['dep_delay_cate'] == i]['speed'].shape[0])\n",
    "min_len = min(ary_len)"
   ]
  },
  {
   "cell_type": "code",
   "execution_count": 14,
   "metadata": {},
   "outputs": [],
   "source": [
    "flights_speed_out = flights_speed_out.sample(frac=1).reset_index(drop=True)"
   ]
  },
  {
   "cell_type": "code",
   "execution_count": 15,
   "metadata": {},
   "outputs": [
    {
     "data": {
      "text/plain": [
       "F_onewayResult(statistic=45176.7308211138, pvalue=0.0)"
      ]
     },
     "execution_count": 15,
     "metadata": {},
     "output_type": "execute_result"
    }
   ],
   "source": [
    "stats.f_oneway(flights_speed_out[flights_speed_out['dep_delay_cate'] == 0]['speed'][:min_len],\n",
    "               flights_speed_out[flights_speed_out['dep_delay_cate'] == 1]['speed'][:min_len])"
   ]
  },
  {
   "cell_type": "markdown",
   "metadata": {},
   "source": [
    "## Without outliers"
   ]
  },
  {
   "cell_type": "code",
   "execution_count": 16,
   "metadata": {},
   "outputs": [],
   "source": [
    "flights_speed = copy.deepcopy(flights[['dep_delay','arr_delay', 'year','month','date','air_time', 'distance']])\n",
    "flights_speed = flights_speed[flights_speed['dep_delay']<1500]"
   ]
  },
  {
   "cell_type": "code",
   "execution_count": 17,
   "metadata": {},
   "outputs": [],
   "source": [
    "flights_speed['dep_delay_cate'] = np.where(0<flights_speed['dep_delay'],1,0)\n",
    "flights_speed['speed'] = (flights_speed['distance']*1.60934)/(flights_speed['air_time']/60)"
   ]
  },
  {
   "cell_type": "code",
   "execution_count": null,
   "metadata": {},
   "outputs": [],
   "source": [
    "flights_speed"
   ]
  },
  {
   "cell_type": "markdown",
   "metadata": {},
   "source": [
    "### Normality test "
   ]
  },
  {
   "cell_type": "code",
   "execution_count": 70,
   "metadata": {},
   "outputs": [
    {
     "name": "stdout",
     "output_type": "stream",
     "text": [
      "NormaltestResult(statistic=274142.3873783724, pvalue=0.0)\n",
      "NormaltestResult(statistic=108468.93383728656, pvalue=0.0)\n"
     ]
    }
   ],
   "source": [
    "print(stats.normaltest(flights_speed[flights_speed['dep_delay_cate'] == 0]['speed']))\n",
    "print(stats.normaltest(flights_speed[flights_speed['dep_delay_cate'] == 1]['speed']))"
   ]
  },
  {
   "cell_type": "code",
   "execution_count": 77,
   "metadata": {},
   "outputs": [
    {
     "data": {
      "image/png": "[encoded data removed]",
      "text/plain": [
       "<Figure size 1008x720 with 2 Axes>"
      ]
     },
     "metadata": {
      "needs_background": "light"
     },
     "output_type": "display_data"
    }
   ],
   "source": [
    "fig, ax = plt.subplots(2, figsize=(14,10))\n",
    "sns.distplot(flights_speed[flights_speed['dep_delay_cate']==0]['speed'], ax = ax[0])\n",
    "sns.distplot(flights_speed[flights_speed['dep_delay_cate']==1]['speed'], ax = ax[1])\n",
    "ax[0].set_title('Early/ On time departures')\n",
    "ax[1].set_title('Late departures')\n",
    "ax[0].set_xlabel('flight speed (km/hr)')\n",
    "ax[1].set_xlabel('flight speed (km/hr)')\n",
    "plt.savefig('/mnt/d/lighthouse/Midterm/visualization/Task_7_speed_distplot.png')"
   ]
  },
  {
   "cell_type": "markdown",
   "metadata": {},
   "source": [
    "### equal variance test"
   ]
  },
  {
   "cell_type": "code",
   "execution_count": 18,
   "metadata": {},
   "outputs": [
    {
     "data": {
      "text/plain": [
       "BartlettResult(statistic=1633.5524977973298, pvalue=0.0)"
      ]
     },
     "execution_count": 18,
     "metadata": {},
     "output_type": "execute_result"
    }
   ],
   "source": [
    "# equal variance of arr_delay for each month\n",
    "stats.bartlett(flights_speed[flights_speed['dep_delay_cate'] == 0]['speed'],\n",
    "               flights_speed[flights_speed['dep_delay_cate'] == 1]['speed'])"
   ]
  },
  {
   "cell_type": "code",
   "execution_count": 19,
   "metadata": {},
   "outputs": [
    {
     "data": {
      "text/plain": [
       "LeveneResult(statistic=2896.351092547043, pvalue=0.0)"
      ]
     },
     "execution_count": 19,
     "metadata": {},
     "output_type": "execute_result"
    }
   ],
   "source": [
    "stats.levene(flights_speed[flights_speed['dep_delay_cate'] == 0]['speed'],\n",
    "               flights_speed[flights_speed['dep_delay_cate'] == 1]['speed'])"
   ]
  },
  {
   "cell_type": "code",
   "execution_count": 20,
   "metadata": {},
   "outputs": [],
   "source": [
    "ary_len = []\n",
    "for i in range(2):\n",
    "    ary_len.append(flights_speed[flights_speed['dep_delay_cate'] == i]['speed'].shape[0])\n",
    "min_len = min(ary_len)"
   ]
  },
  {
   "cell_type": "code",
   "execution_count": 21,
   "metadata": {},
   "outputs": [],
   "source": [
    "flights_speed = flights_speed.sample(frac=1).reset_index(drop=True)"
   ]
  },
  {
   "cell_type": "code",
   "execution_count": 22,
   "metadata": {},
   "outputs": [
    {
     "data": {
      "text/plain": [
       "F_onewayResult(statistic=54669.99039778911, pvalue=0.0)"
      ]
     },
     "execution_count": 22,
     "metadata": {},
     "output_type": "execute_result"
    }
   ],
   "source": [
    "stats.f_oneway(flights_speed[flights_speed['dep_delay_cate'] == 0]['speed'][:min_len],\n",
    "               flights_speed[flights_speed['dep_delay_cate'] == 1]['speed'][:min_len])"
   ]
  },
  {
   "cell_type": "markdown",
   "metadata": {},
   "source": [
    "### Comparing mean speed between each group"
   ]
  },
  {
   "cell_type": "code",
   "execution_count": 23,
   "metadata": {},
   "outputs": [
    {
     "data": {
      "text/html": [
       "<div>\n",
       "<style scoped>\n",
       "    .dataframe tbody tr th:only-of-type {\n",
       "        vertical-align: middle;\n",
       "    }\n",
       "\n",
       "    .dataframe tbody tr th {\n",
       "        vertical-align: top;\n",
       "    }\n",
       "\n",
       "    .dataframe thead th {\n",
       "        text-align: right;\n",
       "    }\n",
       "</style>\n",
       "<table border=\"1\" class=\"dataframe\">\n",
       "  <thead>\n",
       "    <tr style=\"text-align: right;\">\n",
       "      <th></th>\n",
       "      <th>count</th>\n",
       "      <th>mean</th>\n",
       "      <th>std</th>\n",
       "      <th>min</th>\n",
       "      <th>25%</th>\n",
       "      <th>50%</th>\n",
       "      <th>75%</th>\n",
       "      <th>max</th>\n",
       "    </tr>\n",
       "    <tr>\n",
       "      <th>dep_delay_cate</th>\n",
       "      <th></th>\n",
       "      <th></th>\n",
       "      <th></th>\n",
       "      <th></th>\n",
       "      <th></th>\n",
       "      <th></th>\n",
       "      <th></th>\n",
       "      <th></th>\n",
       "    </tr>\n",
       "  </thead>\n",
       "  <tbody>\n",
       "    <tr>\n",
       "      <th>1</th>\n",
       "      <td>2419619.0</td>\n",
       "      <td>651.412353</td>\n",
       "      <td>111.691783</td>\n",
       "      <td>131.673273</td>\n",
       "      <td>584.629331</td>\n",
       "      <td>662.981715</td>\n",
       "      <td>729.177324</td>\n",
       "      <td>1187.284918</td>\n",
       "    </tr>\n",
       "    <tr>\n",
       "      <th>0</th>\n",
       "      <td>8350610.0</td>\n",
       "      <td>627.487362</td>\n",
       "      <td>114.055996</td>\n",
       "      <td>76.753138</td>\n",
       "      <td>557.558439</td>\n",
       "      <td>638.637101</td>\n",
       "      <td>708.438037</td>\n",
       "      <td>1234.162613</td>\n",
       "    </tr>\n",
       "  </tbody>\n",
       "</table>\n",
       "</div>"
      ],
      "text/plain": [
       "                    count        mean         std         min         25%  \\\n",
       "dep_delay_cate                                                              \n",
       "1               2419619.0  651.412353  111.691783  131.673273  584.629331   \n",
       "0               8350610.0  627.487362  114.055996   76.753138  557.558439   \n",
       "\n",
       "                       50%         75%          max  \n",
       "dep_delay_cate                                       \n",
       "1               662.981715  729.177324  1187.284918  \n",
       "0               638.637101  708.438037  1234.162613  "
      ]
     },
     "execution_count": 23,
     "metadata": {},
     "output_type": "execute_result"
    }
   ],
   "source": [
    "flights_speed.groupby(\"dep_delay_cate\")['speed'].describe().sort_values(by='mean', ascending = False)"
   ]
  },
  {
   "cell_type": "code",
   "execution_count": 24,
   "metadata": {},
   "outputs": [
    {
     "data": {
      "text/html": [
       "<div>\n",
       "<style scoped>\n",
       "    .dataframe tbody tr th:only-of-type {\n",
       "        vertical-align: middle;\n",
       "    }\n",
       "\n",
       "    .dataframe tbody tr th {\n",
       "        vertical-align: top;\n",
       "    }\n",
       "\n",
       "    .dataframe thead th {\n",
       "        text-align: right;\n",
       "    }\n",
       "</style>\n",
       "<table border=\"1\" class=\"dataframe\">\n",
       "  <thead>\n",
       "    <tr style=\"text-align: right;\">\n",
       "      <th></th>\n",
       "      <th>count</th>\n",
       "      <th>mean</th>\n",
       "      <th>std</th>\n",
       "      <th>min</th>\n",
       "      <th>25%</th>\n",
       "      <th>50%</th>\n",
       "      <th>75%</th>\n",
       "      <th>max</th>\n",
       "    </tr>\n",
       "    <tr>\n",
       "      <th>dep_delay_cate</th>\n",
       "      <th></th>\n",
       "      <th></th>\n",
       "      <th></th>\n",
       "      <th></th>\n",
       "      <th></th>\n",
       "      <th></th>\n",
       "      <th></th>\n",
       "      <th></th>\n",
       "    </tr>\n",
       "  </thead>\n",
       "  <tbody>\n",
       "    <tr>\n",
       "      <th>1</th>\n",
       "      <td>5313338.0</td>\n",
       "      <td>652.326406</td>\n",
       "      <td>120.011079</td>\n",
       "      <td>-9.279287</td>\n",
       "      <td>580.616431</td>\n",
       "      <td>664.807934</td>\n",
       "      <td>734.782327</td>\n",
       "      <td>2703.69120</td>\n",
       "    </tr>\n",
       "    <tr>\n",
       "      <th>0</th>\n",
       "      <td>10291550.0</td>\n",
       "      <td>636.719585</td>\n",
       "      <td>119.228426</td>\n",
       "      <td>-677.955651</td>\n",
       "      <td>562.965351</td>\n",
       "      <td>647.677241</td>\n",
       "      <td>719.428035</td>\n",
       "      <td>5948.12064</td>\n",
       "    </tr>\n",
       "  </tbody>\n",
       "</table>\n",
       "</div>"
      ],
      "text/plain": [
       "                     count        mean         std         min         25%  \\\n",
       "dep_delay_cate                                                               \n",
       "1                5313338.0  652.326406  120.011079   -9.279287  580.616431   \n",
       "0               10291550.0  636.719585  119.228426 -677.955651  562.965351   \n",
       "\n",
       "                       50%         75%         max  \n",
       "dep_delay_cate                                      \n",
       "1               664.807934  734.782327  2703.69120  \n",
       "0               647.677241  719.428035  5948.12064  "
      ]
     },
     "execution_count": 24,
     "metadata": {},
     "output_type": "execute_result"
    }
   ],
   "source": [
    "flights_speed_out.groupby(\"dep_delay_cate\")['speed'].describe().sort_values(by='mean', ascending = False)"
   ]
  },
  {
   "cell_type": "markdown",
   "metadata": {},
   "source": [
    "# Chi-squared test independence"
   ]
  },
  {
   "cell_type": "code",
   "execution_count": 27,
   "metadata": {},
   "outputs": [
    {
     "data": {
      "text/html": [
       "<div>\n",
       "<style scoped>\n",
       "    .dataframe tbody tr th:only-of-type {\n",
       "        vertical-align: middle;\n",
       "    }\n",
       "\n",
       "    .dataframe tbody tr th {\n",
       "        vertical-align: top;\n",
       "    }\n",
       "\n",
       "    .dataframe thead th {\n",
       "        text-align: right;\n",
       "    }\n",
       "</style>\n",
       "<table border=\"1\" class=\"dataframe\">\n",
       "  <thead>\n",
       "    <tr style=\"text-align: right;\">\n",
       "      <th></th>\n",
       "      <th>dep_delay</th>\n",
       "      <th>arr_delay</th>\n",
       "      <th>year</th>\n",
       "      <th>month</th>\n",
       "      <th>date</th>\n",
       "      <th>air_time</th>\n",
       "      <th>distance</th>\n",
       "      <th>dep_delay_cate</th>\n",
       "      <th>speed</th>\n",
       "      <th>speed_cate</th>\n",
       "    </tr>\n",
       "  </thead>\n",
       "  <tbody>\n",
       "    <tr>\n",
       "      <th>0</th>\n",
       "      <td>19.0</td>\n",
       "      <td>12.0</td>\n",
       "      <td>2019</td>\n",
       "      <td>6</td>\n",
       "      <td>4</td>\n",
       "      <td>80.0</td>\n",
       "      <td>397</td>\n",
       "      <td>1</td>\n",
       "      <td>479.180985</td>\n",
       "      <td>0</td>\n",
       "    </tr>\n",
       "    <tr>\n",
       "      <th>1</th>\n",
       "      <td>-6.0</td>\n",
       "      <td>-14.0</td>\n",
       "      <td>2018</td>\n",
       "      <td>11</td>\n",
       "      <td>12</td>\n",
       "      <td>42.0</td>\n",
       "      <td>209</td>\n",
       "      <td>0</td>\n",
       "      <td>480.502943</td>\n",
       "      <td>0</td>\n",
       "    </tr>\n",
       "    <tr>\n",
       "      <th>2</th>\n",
       "      <td>-1.0</td>\n",
       "      <td>-3.0</td>\n",
       "      <td>2019</td>\n",
       "      <td>1</td>\n",
       "      <td>7</td>\n",
       "      <td>54.0</td>\n",
       "      <td>316</td>\n",
       "      <td>0</td>\n",
       "      <td>565.057156</td>\n",
       "      <td>0</td>\n",
       "    </tr>\n",
       "    <tr>\n",
       "      <th>3</th>\n",
       "      <td>1.0</td>\n",
       "      <td>-18.0</td>\n",
       "      <td>2019</td>\n",
       "      <td>2</td>\n",
       "      <td>8</td>\n",
       "      <td>151.0</td>\n",
       "      <td>1436</td>\n",
       "      <td>1</td>\n",
       "      <td>918.283009</td>\n",
       "      <td>1</td>\n",
       "    </tr>\n",
       "    <tr>\n",
       "      <th>4</th>\n",
       "      <td>26.0</td>\n",
       "      <td>11.0</td>\n",
       "      <td>2019</td>\n",
       "      <td>1</td>\n",
       "      <td>22</td>\n",
       "      <td>66.0</td>\n",
       "      <td>370</td>\n",
       "      <td>1</td>\n",
       "      <td>541.323455</td>\n",
       "      <td>0</td>\n",
       "    </tr>\n",
       "    <tr>\n",
       "      <th>...</th>\n",
       "      <td>...</td>\n",
       "      <td>...</td>\n",
       "      <td>...</td>\n",
       "      <td>...</td>\n",
       "      <td>...</td>\n",
       "      <td>...</td>\n",
       "      <td>...</td>\n",
       "      <td>...</td>\n",
       "      <td>...</td>\n",
       "      <td>...</td>\n",
       "    </tr>\n",
       "    <tr>\n",
       "      <th>10770224</th>\n",
       "      <td>13.0</td>\n",
       "      <td>0.0</td>\n",
       "      <td>2019</td>\n",
       "      <td>12</td>\n",
       "      <td>4</td>\n",
       "      <td>108.0</td>\n",
       "      <td>874</td>\n",
       "      <td>1</td>\n",
       "      <td>781.423978</td>\n",
       "      <td>1</td>\n",
       "    </tr>\n",
       "    <tr>\n",
       "      <th>10770225</th>\n",
       "      <td>-4.0</td>\n",
       "      <td>-25.0</td>\n",
       "      <td>2018</td>\n",
       "      <td>11</td>\n",
       "      <td>19</td>\n",
       "      <td>135.0</td>\n",
       "      <td>1175</td>\n",
       "      <td>0</td>\n",
       "      <td>840.433111</td>\n",
       "      <td>1</td>\n",
       "    </tr>\n",
       "    <tr>\n",
       "      <th>10770226</th>\n",
       "      <td>-8.0</td>\n",
       "      <td>-17.0</td>\n",
       "      <td>2019</td>\n",
       "      <td>8</td>\n",
       "      <td>18</td>\n",
       "      <td>72.0</td>\n",
       "      <td>372</td>\n",
       "      <td>0</td>\n",
       "      <td>498.895400</td>\n",
       "      <td>0</td>\n",
       "    </tr>\n",
       "    <tr>\n",
       "      <th>10770227</th>\n",
       "      <td>-7.0</td>\n",
       "      <td>-18.0</td>\n",
       "      <td>2018</td>\n",
       "      <td>7</td>\n",
       "      <td>3</td>\n",
       "      <td>74.0</td>\n",
       "      <td>474</td>\n",
       "      <td>0</td>\n",
       "      <td>618.508508</td>\n",
       "      <td>0</td>\n",
       "    </tr>\n",
       "    <tr>\n",
       "      <th>10770228</th>\n",
       "      <td>-2.0</td>\n",
       "      <td>-10.0</td>\n",
       "      <td>2019</td>\n",
       "      <td>5</td>\n",
       "      <td>19</td>\n",
       "      <td>83.0</td>\n",
       "      <td>611</td>\n",
       "      <td>0</td>\n",
       "      <td>710.824149</td>\n",
       "      <td>1</td>\n",
       "    </tr>\n",
       "  </tbody>\n",
       "</table>\n",
       "<p>10770229 rows × 10 columns</p>\n",
       "</div>"
      ],
      "text/plain": [
       "          dep_delay  arr_delay  year  month  date  air_time  distance  \\\n",
       "0              19.0       12.0  2019      6     4      80.0       397   \n",
       "1              -6.0      -14.0  2018     11    12      42.0       209   \n",
       "2              -1.0       -3.0  2019      1     7      54.0       316   \n",
       "3               1.0      -18.0  2019      2     8     151.0      1436   \n",
       "4              26.0       11.0  2019      1    22      66.0       370   \n",
       "...             ...        ...   ...    ...   ...       ...       ...   \n",
       "10770224       13.0        0.0  2019     12     4     108.0       874   \n",
       "10770225       -4.0      -25.0  2018     11    19     135.0      1175   \n",
       "10770226       -8.0      -17.0  2019      8    18      72.0       372   \n",
       "10770227       -7.0      -18.0  2018      7     3      74.0       474   \n",
       "10770228       -2.0      -10.0  2019      5    19      83.0       611   \n",
       "\n",
       "          dep_delay_cate       speed  speed_cate  \n",
       "0                      1  479.180985           0  \n",
       "1                      0  480.502943           0  \n",
       "2                      0  565.057156           0  \n",
       "3                      1  918.283009           1  \n",
       "4                      1  541.323455           0  \n",
       "...                  ...         ...         ...  \n",
       "10770224               1  781.423978           1  \n",
       "10770225               0  840.433111           1  \n",
       "10770226               0  498.895400           0  \n",
       "10770227               0  618.508508           0  \n",
       "10770228               0  710.824149           1  \n",
       "\n",
       "[10770229 rows x 10 columns]"
      ]
     },
     "execution_count": 27,
     "metadata": {},
     "output_type": "execute_result"
    }
   ],
   "source": [
    "flights_speed['speed_cate'] = np.where(flights_speed['speed']<np.mean(flights_speed['speed']),0,1)\n",
    "flights_speed"
   ]
  },
  {
   "cell_type": "code",
   "execution_count": 32,
   "metadata": {},
   "outputs": [
    {
     "data": {
      "text/html": [
       "<div>\n",
       "<style scoped>\n",
       "    .dataframe tbody tr th:only-of-type {\n",
       "        vertical-align: middle;\n",
       "    }\n",
       "\n",
       "    .dataframe tbody tr th {\n",
       "        vertical-align: top;\n",
       "    }\n",
       "\n",
       "    .dataframe thead th {\n",
       "        text-align: right;\n",
       "    }\n",
       "</style>\n",
       "<table border=\"1\" class=\"dataframe\">\n",
       "  <thead>\n",
       "    <tr style=\"text-align: right;\">\n",
       "      <th>speed_cate</th>\n",
       "      <th>0</th>\n",
       "      <th>1</th>\n",
       "    </tr>\n",
       "    <tr>\n",
       "      <th>dep_delay_cate</th>\n",
       "      <th></th>\n",
       "      <th></th>\n",
       "    </tr>\n",
       "  </thead>\n",
       "  <tbody>\n",
       "    <tr>\n",
       "      <th>0</th>\n",
       "      <td>3997205</td>\n",
       "      <td>4353405</td>\n",
       "    </tr>\n",
       "    <tr>\n",
       "      <th>1</th>\n",
       "      <td>946035</td>\n",
       "      <td>1473584</td>\n",
       "    </tr>\n",
       "  </tbody>\n",
       "</table>\n",
       "</div>"
      ],
      "text/plain": [
       "speed_cate            0        1\n",
       "dep_delay_cate                  \n",
       "0               3997205  4353405\n",
       "1                946035  1473584"
      ]
     },
     "execution_count": 32,
     "metadata": {},
     "output_type": "execute_result"
    }
   ],
   "source": [
    "pd.crosstab(flights_speed['dep_delay_cate'], flights_speed['speed_cate'])"
   ]
  },
  {
   "cell_type": "code",
   "execution_count": 33,
   "metadata": {},
   "outputs": [
    {
     "data": {
      "text/plain": [
       "(58090.2272158078,\n",
       " 0.0,\n",
       " 1,\n",
       " array([[3832701.17807152, 4517908.82192848],\n",
       "        [1110538.82192848, 1309080.17807152]]))"
      ]
     },
     "execution_count": 33,
     "metadata": {},
     "output_type": "execute_result"
    }
   ],
   "source": [
    "chi2_contingency(np.array([[3997205, 4353405], [946035, 1473584]]))"
   ]
  },
  {
   "cell_type": "markdown",
   "metadata": {},
   "source": [
    "# On average flights that depart late fly 20~30km/hr faster than if the flight departed on time or early"
   ]
  },
  {
   "cell_type": "markdown",
   "metadata": {},
   "source": [
    "### Check dep_delay_cate is independent of speed, maybe take into account carrier, "
   ]
  }
 ],
 "metadata": {
  "kernelspec": {
   "display_name": "Python 3",
   "language": "python",
   "name": "python3"
  },
  "language_info": {
   "codemirror_mode": {
    "name": "ipython",
    "version": 3
   },
   "file_extension": ".py",
   "mimetype": "text/x-python",
   "name": "python",
   "nbconvert_exporter": "python",
   "pygments_lexer": "ipython3",
   "version": "3.8.2"
  }
 },
 "nbformat": 4,
 "nbformat_minor": 4
}
