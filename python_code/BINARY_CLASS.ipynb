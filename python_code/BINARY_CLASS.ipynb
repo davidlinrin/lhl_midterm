{
 "cells": [
  {
   "cell_type": "code",
   "execution_count": 1,
   "metadata": {},
   "outputs": [],
   "source": [
    "#### #Data management and manipulation ####\n",
    "import pandas as pd # import pandas\n",
    "import numpy as np # import pandas\n",
    "import random\n",
    "\n",
    "\n",
    "#### Machine Learning model building/evaluation ###\n",
    "from sklearn.model_selection import train_test_split # Import train_test_split function\n",
    "from sklearn import metrics #Import scikit-learn metrics module for accuracy calculation\n",
    "from sklearn.naive_bayes import GaussianNB\n",
    "\n",
    "from sklearn.metrics import precision_recall_curve\n",
    "from sklearn.metrics import f1_score\n",
    "from sklearn.metrics import auc\n",
    "from sklearn.metrics import average_precision_score\n",
    "from matplotlib import pyplot\n",
    "from sklearn.metrics import accuracy_score"
   ]
  },
  {
   "cell_type": "code",
   "execution_count": 2,
   "metadata": {},
   "outputs": [],
   "source": [
    "path='/Users/carlyfennell/DataScience/data_bootcamp/data/'"
   ]
  },
  {
   "cell_type": "raw",
   "metadata": {},
   "source": [
    "column_types={'mkt_carrier_fl_num': 'uint16', 'op_unique_carrier': 'category', 'tail_num': 'category', 'op_carrier_fl_num': 'uint16', 'origin_airport_id': 'uint16', 'origin': 'category', 'dest_airport_id': 'uint16', 'dest': 'category', 'crs_dep_time': 'uint16', 'dep_time': 'float32'}"
   ]
  },
  {
   "cell_type": "raw",
   "metadata": {},
   "source": [
    "df_flights=pd.read_csv(path+'flights.csv',dtype=column_types,parse_dates=['fl_date'],infer_datetime_format=True)"
   ]
  },
  {
   "cell_type": "raw",
   "metadata": {},
   "source": [
    "df_flights['fl_date']=df_flights['fl_date'].astype('datetime64[ns]')\n",
    "df_flights['month']=df_flights['fl_date'].dt.month\n",
    "df_flights['day']=df_flights['fl_date'].dt.day"
   ]
  },
  {
   "cell_type": "raw",
   "metadata": {},
   "source": [
    "df_flights.columns"
   ]
  },
  {
   "cell_type": "raw",
   "metadata": {},
   "source": [
    "df_flights=df_flights.drop(['op_unique_carrier','mkt_carrier','dep_time','taxi_out', 'wheels_off', 'wheels_on', 'taxi_in','arr_time','no_name','first_dep_time', 'total_add_gtime',\n",
    "       'longest_add_gtime','diverted', 'dup', 'crs_elapsed_time',\n",
    "       'actual_elapsed_time', 'air_time', 'flights'],axis=1)"
   ]
  },
  {
   "cell_type": "raw",
   "metadata": {},
   "source": [
    "#read weather_key into dataframe\n",
    "weather_key=pd.read_csv(path+'wkey.csv')\n",
    "weather_key=weather_key.drop(['Unnamed: 0','period'],axis=1)"
   ]
  },
  {
   "cell_type": "raw",
   "metadata": {},
   "source": [
    "weather_key.columns"
   ]
  },
  {
   "cell_type": "markdown",
   "metadata": {},
   "source": [
    "# Merge weather to flights"
   ]
  },
  {
   "cell_type": "raw",
   "metadata": {},
   "source": [
    "df_flights.shape"
   ]
  },
  {
   "cell_type": "raw",
   "metadata": {},
   "source": [
    "new_df=pd.merge(df_flights,weather_key[['origin','month', 'wdir', 'temp',\n",
    "       'maxt', 'visibility', 'wspd', 'heatindex', 'cloudcover', 'mint',\n",
    "       'precip', 'snowdepth', 'sealevelpressure', 'dew', 'humidity', 'wgust',\n",
    "       'precipcover', 'windchill', 'closest_airport']],how='outer',on=['origin','month'])"
   ]
  },
  {
   "cell_type": "raw",
   "metadata": {},
   "source": [
    "new_df.shape"
   ]
  },
  {
   "cell_type": "markdown",
   "metadata": {},
   "source": [
    "# Merge aggregate traffic to new df"
   ]
  },
  {
   "cell_type": "raw",
   "metadata": {},
   "source": [
    "busy_feat=pd.read_csv(path+'busy_feature.csv')"
   ]
  },
  {
   "cell_type": "raw",
   "metadata": {},
   "source": [
    "busy_feat=busy_feat.drop('Unnamed: 0',axis=1)"
   ]
  },
  {
   "cell_type": "raw",
   "metadata": {},
   "source": [
    "busy_feat.columns"
   ]
  },
  {
   "cell_type": "raw",
   "metadata": {},
   "source": [
    "busy_feat.shape"
   ]
  },
  {
   "cell_type": "raw",
   "metadata": {},
   "source": [
    "new_df.columns"
   ]
  },
  {
   "cell_type": "raw",
   "metadata": {},
   "source": [
    "new_df_two=pd.merge(new_df,busy_feat,how='outer',on=['origin'])"
   ]
  },
  {
   "cell_type": "raw",
   "metadata": {},
   "source": [
    "#save to csv\n",
    "new_df_two.to_csv(path+'flight_N_weath.csv')"
   ]
  },
  {
   "cell_type": "raw",
   "metadata": {},
   "source": [
    "new_df_two.shape"
   ]
  },
  {
   "cell_type": "code",
   "execution_count": null,
   "metadata": {},
   "outputs": [],
   "source": []
  },
  {
   "cell_type": "markdown",
   "metadata": {},
   "source": [
    "# Merge in David's features"
   ]
  },
  {
   "cell_type": "raw",
   "metadata": {},
   "source": [
    "flights_final is just any flights table with the dep_delay, arr_delay, and tail_num"
   ]
  },
  {
   "cell_type": "raw",
   "metadata": {},
   "source": [
    "import copy\n",
    "flights_FE = copy.deepcopy(new_df_two)"
   ]
  },
  {
   "cell_type": "raw",
   "metadata": {},
   "source": [
    "\n",
    "flights_FE = flights_FE[(flights_FE['dep_delay']>0) | (flights_FE['arr_delay']>0)]\n",
    "delay_df = flights_FE.groupby('tail_num').mean()[['arr_delay','dep_delay']]\n",
    "delay_df.reset_index(inplace=True)\n",
    "delay_df.columns = ['tail_num','mean_tail_num_arr_delay','mean_tail_num_dep_delay']"
   ]
  },
  {
   "cell_type": "raw",
   "metadata": {},
   "source": [
    "flights_final = new_df_two.merge(delay_df, on=['tail_num'], how='left')"
   ]
  },
  {
   "cell_type": "raw",
   "metadata": {},
   "source": [
    "carrier_delay = flights_FE.groupby('mkt_unique_carrier').mean()[['arr_delay','dep_delay']]\n",
    "carrier_delay.reset_index(inplace=True)\n",
    "carrier_delay.columns = ['mkt_unique_carrier','mean_carrier_arr_delay','mean_carrier__dep_delay']\n",
    "flights_final = flights_final.merge(carrier_delay, on=['mkt_unique_carrier'], how='left')"
   ]
  },
  {
   "cell_type": "raw",
   "metadata": {},
   "source": [
    "#save to csv\n",
    "flights_final.to_csv(path+'flight_final.csv')"
   ]
  },
  {
   "cell_type": "code",
   "execution_count": 3,
   "metadata": {},
   "outputs": [],
   "source": [
    "column_types={'mkt_carrier_fl_num': 'float64', 'distance': 'float64', 'month': 'int64', 'day': 'float64', 'wdir': 'float64', 'temp': 'float64', 'visibility': 'float64', 'wspd': 'float64', 'heatindex': 'float64', 'cloudcover': 'float64'}"
   ]
  },
  {
   "cell_type": "code",
   "execution_count": 4,
   "metadata": {},
   "outputs": [
    {
     "name": "stderr",
     "output_type": "stream",
     "text": [
      "/opt/anaconda3/envs/bootcamp_env/lib/python3.7/site-packages/IPython/core/interactiveshell.py:3072: DtypeWarning: Columns (18) have mixed types.Specify dtype option on import or set low_memory=False.\n",
      "  interactivity=interactivity, compiler=compiler, result=result)\n"
     ]
    }
   ],
   "source": [
    "flights_final=pd.read_csv(path+'flight_final.csv',dtype=column_types)"
   ]
  },
  {
   "cell_type": "code",
   "execution_count": 5,
   "metadata": {},
   "outputs": [],
   "source": [
    "X=flights_final[['cancelled','mkt_carrier_fl_num','distance', 'month', 'day','origin',\n",
    "                              'dest', 'wdir', 'temp','visibility', 'wspd', 'heatindex', 'cloudcover','precip',\n",
    "                              'sealevelpressure', 'humidity', 'wgust','precipcover', 'windchill','total_flights','snowdepth',\n",
    "                              'branded_code_share','mean_tail_num_arr_delay','mean_carrier_arr_delay','crs_dep_time','crs_arr_time']]\n"
   ]
  },
  {
   "cell_type": "code",
   "execution_count": 6,
   "metadata": {},
   "outputs": [
    {
     "name": "stderr",
     "output_type": "stream",
     "text": [
      "/opt/anaconda3/envs/bootcamp_env/lib/python3.7/site-packages/ipykernel_launcher.py:1: SettingWithCopyWarning: \n",
      "A value is trying to be set on a copy of a slice from a DataFrame.\n",
      "Try using .loc[row_indexer,col_indexer] = value instead\n",
      "\n",
      "See the caveats in the documentation: https://pandas.pydata.org/pandas-docs/stable/user_guide/indexing.html#returning-a-view-versus-a-copy\n",
      "  \"\"\"Entry point for launching an IPython kernel.\n"
     ]
    }
   ],
   "source": [
    "X['snowdepth']=X['snowdepth'].fillna(0)"
   ]
  },
  {
   "cell_type": "raw",
   "metadata": {},
   "source": [
    "total = X.isnull().sum().sort_values(ascending=False)\n",
    "percent = (X.isnull().sum()/X.isnull().count()).sort_values(ascending=False)\n",
    "missing_data = pd.concat([total, percent], axis=1, keys=['Total', 'Percent'])\n",
    "missing_data.head(10)"
   ]
  },
  {
   "cell_type": "raw",
   "metadata": {},
   "source": [
    "missing_data.index"
   ]
  },
  {
   "cell_type": "code",
   "execution_count": 7,
   "metadata": {},
   "outputs": [
    {
     "data": {
      "text/plain": [
       "windchill    25.7\n",
       "heatindex    95.0\n",
       "wgust        44.7\n",
       "dtype: float64"
      ]
     },
     "execution_count": 7,
     "metadata": {},
     "output_type": "execute_result"
    }
   ],
   "source": [
    "X[['windchill', 'heatindex','wgust']].median()"
   ]
  },
  {
   "cell_type": "code",
   "execution_count": 7,
   "metadata": {},
   "outputs": [
    {
     "name": "stderr",
     "output_type": "stream",
     "text": [
      "/opt/anaconda3/envs/bootcamp_env/lib/python3.7/site-packages/ipykernel_launcher.py:1: SettingWithCopyWarning: \n",
      "A value is trying to be set on a copy of a slice from a DataFrame.\n",
      "Try using .loc[row_indexer,col_indexer] = value instead\n",
      "\n",
      "See the caveats in the documentation: https://pandas.pydata.org/pandas-docs/stable/user_guide/indexing.html#returning-a-view-versus-a-copy\n",
      "  \"\"\"Entry point for launching an IPython kernel.\n",
      "/opt/anaconda3/envs/bootcamp_env/lib/python3.7/site-packages/ipykernel_launcher.py:2: SettingWithCopyWarning: \n",
      "A value is trying to be set on a copy of a slice from a DataFrame.\n",
      "Try using .loc[row_indexer,col_indexer] = value instead\n",
      "\n",
      "See the caveats in the documentation: https://pandas.pydata.org/pandas-docs/stable/user_guide/indexing.html#returning-a-view-versus-a-copy\n",
      "  \n",
      "/opt/anaconda3/envs/bootcamp_env/lib/python3.7/site-packages/ipykernel_launcher.py:3: SettingWithCopyWarning: \n",
      "A value is trying to be set on a copy of a slice from a DataFrame.\n",
      "Try using .loc[row_indexer,col_indexer] = value instead\n",
      "\n",
      "See the caveats in the documentation: https://pandas.pydata.org/pandas-docs/stable/user_guide/indexing.html#returning-a-view-versus-a-copy\n",
      "  This is separate from the ipykernel package so we can avoid doing imports until\n"
     ]
    }
   ],
   "source": [
    "X['windchill']=X['windchill'].fillna(25.7)\n",
    "X['heatindex']=X['heatindex'].fillna(95)\n",
    "X['wgust']=X['wgust'].fillna(44.7)"
   ]
  },
  {
   "cell_type": "code",
   "execution_count": 8,
   "metadata": {},
   "outputs": [],
   "source": [
    "X=X.dropna()"
   ]
  },
  {
   "cell_type": "code",
   "execution_count": 9,
   "metadata": {},
   "outputs": [
    {
     "data": {
      "text/plain": [
       "(15866077, 26)"
      ]
     },
     "execution_count": 9,
     "metadata": {},
     "output_type": "execute_result"
    }
   ],
   "source": [
    "X.shape"
   ]
  },
  {
   "cell_type": "code",
   "execution_count": 10,
   "metadata": {},
   "outputs": [
    {
     "data": {
      "text/plain": [
       "(15927590, 49)"
      ]
     },
     "execution_count": 10,
     "metadata": {},
     "output_type": "execute_result"
    }
   ],
   "source": [
    "flights_final.shape"
   ]
  },
  {
   "cell_type": "code",
   "execution_count": 11,
   "metadata": {},
   "outputs": [],
   "source": [
    "X=X.sample(n=7000000, random_state=1)"
   ]
  },
  {
   "cell_type": "markdown",
   "metadata": {},
   "source": [
    "# bin a few vars"
   ]
  },
  {
   "cell_type": "raw",
   "metadata": {},
   "source": [
    "flight_balanced['branded_code_share'] = pd.factorize(flight_balanced['branded_code_share'])[0]\n",
    "flight_balanced['mkt_carrier_fl_num'] = pd.factorize(flight_balanced['mkt_carrier_fl_num'])[0]\n",
    "flight_balanced['origin'] = pd.factorize(flight_balanced['origin'])[0]\n",
    "flight_balanced['dest'] = pd.factorize(flight_balanced['dest'])[0]"
   ]
  },
  {
   "cell_type": "markdown",
   "metadata": {},
   "source": [
    "# filter and change values"
   ]
  },
  {
   "cell_type": "code",
   "execution_count": null,
   "metadata": {},
   "outputs": [],
   "source": []
  },
  {
   "cell_type": "code",
   "execution_count": null,
   "metadata": {},
   "outputs": [],
   "source": []
  },
  {
   "cell_type": "raw",
   "metadata": {},
   "source": [
    "X_num['snowdepth'].unique()"
   ]
  },
  {
   "cell_type": "code",
   "execution_count": 16,
   "metadata": {},
   "outputs": [],
   "source": [
    "#X_cat=X[list(X.dtypes[X.dtypes=='object'].index)]\n",
    "#X_num=X[list(X.dtypes[X.dtypes!='object'].index)]"
   ]
  },
  {
   "cell_type": "code",
   "execution_count": 12,
   "metadata": {},
   "outputs": [],
   "source": [
    "X_cat=X[['origin', 'dest', 'branded_code_share','mkt_carrier_fl_num']]\n",
    "X_num=X.drop(['origin', 'dest', 'branded_code_share','mkt_carrier_fl_num'],axis=1)"
   ]
  },
  {
   "cell_type": "raw",
   "metadata": {},
   "source": [
    "weather_key.loc[(weather_key['origin']==weather_key['origin'][i]) & (weather_key['month']==weather_key['month'][i]), aw_vars]"
   ]
  },
  {
   "cell_type": "raw",
   "metadata": {},
   "source": [
    "X_num.loc[X_num['snowdepth']<1]"
   ]
  },
  {
   "cell_type": "code",
   "execution_count": 13,
   "metadata": {},
   "outputs": [
    {
     "name": "stderr",
     "output_type": "stream",
     "text": [
      "/opt/anaconda3/envs/bootcamp_env/lib/python3.7/site-packages/ipykernel_launcher.py:1: SettingWithCopyWarning: \n",
      "A value is trying to be set on a copy of a slice from a DataFrame.\n",
      "Try using .loc[row_indexer,col_indexer] = value instead\n",
      "\n",
      "See the caveats in the documentation: https://pandas.pydata.org/pandas-docs/stable/user_guide/indexing.html#returning-a-view-versus-a-copy\n",
      "  \"\"\"Entry point for launching an IPython kernel.\n",
      "/opt/anaconda3/envs/bootcamp_env/lib/python3.7/site-packages/ipykernel_launcher.py:2: SettingWithCopyWarning: \n",
      "A value is trying to be set on a copy of a slice from a DataFrame.\n",
      "Try using .loc[row_indexer,col_indexer] = value instead\n",
      "\n",
      "See the caveats in the documentation: https://pandas.pydata.org/pandas-docs/stable/user_guide/indexing.html#returning-a-view-versus-a-copy\n",
      "  \n",
      "/opt/anaconda3/envs/bootcamp_env/lib/python3.7/site-packages/ipykernel_launcher.py:3: SettingWithCopyWarning: \n",
      "A value is trying to be set on a copy of a slice from a DataFrame.\n",
      "Try using .loc[row_indexer,col_indexer] = value instead\n",
      "\n",
      "See the caveats in the documentation: https://pandas.pydata.org/pandas-docs/stable/user_guide/indexing.html#returning-a-view-versus-a-copy\n",
      "  This is separate from the ipykernel package so we can avoid doing imports until\n",
      "/opt/anaconda3/envs/bootcamp_env/lib/python3.7/site-packages/ipykernel_launcher.py:4: SettingWithCopyWarning: \n",
      "A value is trying to be set on a copy of a slice from a DataFrame.\n",
      "Try using .loc[row_indexer,col_indexer] = value instead\n",
      "\n",
      "See the caveats in the documentation: https://pandas.pydata.org/pandas-docs/stable/user_guide/indexing.html#returning-a-view-versus-a-copy\n",
      "  after removing the cwd from sys.path.\n"
     ]
    }
   ],
   "source": [
    "X_cat['branded_code_share'] = pd.factorize(X_cat['branded_code_share'])[0]\n",
    "X_cat['mkt_carrier_fl_num'] = pd.factorize(X_cat['mkt_carrier_fl_num'])[0]\n",
    "X_cat['origin'] = pd.factorize(X_cat['origin'])[0]\n",
    "X_cat['dest'] = pd.factorize(X_cat['dest'])[0]"
   ]
  },
  {
   "cell_type": "code",
   "execution_count": null,
   "metadata": {},
   "outputs": [],
   "source": []
  },
  {
   "cell_type": "code",
   "execution_count": 14,
   "metadata": {},
   "outputs": [
    {
     "name": "stderr",
     "output_type": "stream",
     "text": [
      "/opt/anaconda3/envs/bootcamp_env/lib/python3.7/site-packages/sklearn/preprocessing/data.py:334: DataConversionWarning: Data with input dtype int64, float64 were all converted to float64 by MinMaxScaler.\n",
      "  return self.partial_fit(X, y)\n"
     ]
    }
   ],
   "source": [
    "from sklearn.preprocessing import MinMaxScaler\n",
    "scaler = MinMaxScaler()\n",
    "scaler.fit(X_num)\n",
    "X_std=scaler.transform(X_num)"
   ]
  },
  {
   "cell_type": "code",
   "execution_count": 15,
   "metadata": {},
   "outputs": [],
   "source": [
    "y=X['cancelled']"
   ]
  },
  {
   "cell_type": "code",
   "execution_count": 16,
   "metadata": {},
   "outputs": [
    {
     "data": {
      "text/plain": [
       "(7000000,)"
      ]
     },
     "execution_count": 16,
     "metadata": {},
     "output_type": "execute_result"
    }
   ],
   "source": [
    "y.shape"
   ]
  },
  {
   "cell_type": "code",
   "execution_count": 17,
   "metadata": {},
   "outputs": [
    {
     "data": {
      "text/plain": [
       "(7000000, 26)"
      ]
     },
     "execution_count": 17,
     "metadata": {},
     "output_type": "execute_result"
    }
   ],
   "source": [
    "X.shape"
   ]
  },
  {
   "cell_type": "code",
   "execution_count": 18,
   "metadata": {},
   "outputs": [],
   "source": [
    "X_2=pd.concat([X_num,X_cat],axis=1)"
   ]
  },
  {
   "cell_type": "code",
   "execution_count": 19,
   "metadata": {},
   "outputs": [],
   "source": [
    "###### SPLIT DATA #######\n",
    "# Import train_test_split function\n",
    "from sklearn.model_selection import train_test_split\n",
    "\n",
    "# Split dataset into training set and test set\n",
    "X_train, X_test, y_train, y_test = train_test_split(X_2, y, test_size=0.3,random_state=0) # 70% training and 30% test"
   ]
  },
  {
   "cell_type": "code",
   "execution_count": 20,
   "metadata": {},
   "outputs": [
    {
     "name": "stderr",
     "output_type": "stream",
     "text": [
      "/opt/anaconda3/envs/bootcamp_env/lib/python3.7/site-packages/ipykernel_launcher.py:1: SettingWithCopyWarning: \n",
      "A value is trying to be set on a copy of a slice from a DataFrame.\n",
      "Try using .loc[row_indexer,col_indexer] = value instead\n",
      "\n",
      "See the caveats in the documentation: https://pandas.pydata.org/pandas-docs/stable/user_guide/indexing.html#returning-a-view-versus-a-copy\n",
      "  \"\"\"Entry point for launching an IPython kernel.\n"
     ]
    }
   ],
   "source": [
    "X_train['Class']=y_train"
   ]
  },
  {
   "cell_type": "markdown",
   "metadata": {},
   "source": [
    "# Optimize Data Set"
   ]
  },
  {
   "cell_type": "code",
   "execution_count": null,
   "metadata": {},
   "outputs": [],
   "source": [
    "X_train.info(memory_usage='deep')"
   ]
  },
  {
   "cell_type": "code",
   "execution_count": null,
   "metadata": {},
   "outputs": [],
   "source": [
    "for dtype in ['float','int','object']:\n",
    "    selected_dtype = X_train.select_dtypes(include=[dtype])\n",
    "    mean_usage_b = selected_dtype.memory_usage(deep=True).mean()\n",
    "    mean_usage_mb = mean_usage_b / 1024 ** 2\n",
    "    print(\"Average memory usage for {} columns: {:03.2f} MB\".format(dtype,mean_usage_mb))"
   ]
  },
  {
   "cell_type": "code",
   "execution_count": null,
   "metadata": {},
   "outputs": [],
   "source": [
    "# We're going to be calculating memory usage a lot,\n",
    "# so we'll create a function to save us some time!\n",
    "def mem_usage(pandas_obj):\n",
    "    if isinstance(pandas_obj,pd.DataFrame):\n",
    "        usage_b = pandas_obj.memory_usage(deep=True).sum()\n",
    "    else: # we assume if not a df it's a series\n",
    "        usage_b = pandas_obj.memory_usage(deep=True)\n",
    "    usage_mb = usage_b / 1024 ** 2 # convert bytes to megabytes\n",
    "    return \"{:03.2f} MB\".format(usage_mb)"
   ]
  },
  {
   "cell_type": "code",
   "execution_count": null,
   "metadata": {},
   "outputs": [],
   "source": [
    "### integers\n",
    "gl_int = X_train.select_dtypes(include=['int'])\n",
    "converted_int = gl_int.apply(pd.to_numeric,downcast='unsigned')\n",
    "print(mem_usage(gl_int))\n",
    "print(mem_usage(converted_int))\n",
    "compare_ints = pd.concat([gl_int.dtypes,converted_int.dtypes],axis=1)\n",
    "compare_ints.columns = ['before','after']\n",
    "compare_ints.apply(pd.Series.value_counts)\n",
    "\n",
    "### floats\n",
    "gl_float = X_train.select_dtypes(include=['float'])\n",
    "converted_float = gl_float.apply(pd.to_numeric,downcast='float')\n",
    "print(mem_usage(gl_float))\n",
    "print(mem_usage(converted_float))\n",
    "compare_floats = pd.concat([gl_float.dtypes,converted_float.dtypes],axis=1)\n",
    "compare_floats.columns = ['before','after']\n",
    "compare_floats.apply(pd.Series.value_counts)"
   ]
  },
  {
   "cell_type": "code",
   "execution_count": null,
   "metadata": {},
   "outputs": [],
   "source": [
    "### Optimize for numeric\n",
    "optimized_gl = X_train.copy()\n",
    "optimized_gl[converted_int.columns] = converted_int\n",
    "optimized_gl[converted_float.columns] = converted_float\n",
    "print(mem_usage(X_train))\n",
    "print(mem_usage(optimized_gl))"
   ]
  },
  {
   "cell_type": "code",
   "execution_count": null,
   "metadata": {},
   "outputs": [],
   "source": [
    "gl_obj = X_train.select_dtypes(include=['object']).copy()\n",
    "gl_obj.describe()"
   ]
  },
  {
   "cell_type": "code",
   "execution_count": null,
   "metadata": {},
   "outputs": [],
   "source": [
    "converted_obj = pd.DataFrame()\n",
    "for col in gl_obj.columns:\n",
    "    num_unique_values = len(gl_obj[col].unique())\n",
    "    num_total_values = len(gl_obj[col])\n",
    "    if num_unique_values / num_total_values < 0.5:\n",
    "        converted_obj.loc[:,col] = gl_obj[col].astype('category')\n",
    "    else:\n",
    "        converted_obj.loc[:,col] = gl_obj[col]"
   ]
  },
  {
   "cell_type": "code",
   "execution_count": null,
   "metadata": {},
   "outputs": [],
   "source": [
    "print(mem_usage(gl_obj))\n",
    "print(mem_usage(converted_obj))\n",
    "compare_obj = pd.concat([gl_obj.dtypes,converted_obj.dtypes],axis=1)\n",
    "compare_obj.columns = ['before','after']\n",
    "compare_obj.apply(pd.Series.value_counts)"
   ]
  },
  {
   "cell_type": "code",
   "execution_count": null,
   "metadata": {},
   "outputs": [],
   "source": [
    "X_train[converted_obj.columns] = converted_obj\n",
    "mem_usage(X_train)"
   ]
  },
  {
   "cell_type": "code",
   "execution_count": null,
   "metadata": {},
   "outputs": [],
   "source": [
    "dtypes = X_train.dtypes\n",
    "dtypes_col = dtypes.index\n",
    "dtypes_type = [i.name for i in dtypes.values]\n",
    "column_types = dict(zip(dtypes_col, dtypes_type))\n",
    "# rather than print all 161 items, we'll\n",
    "# sample 10 key/value pairs from the dict\n",
    "# and print it nicely using prettyprint\n",
    "preview = first2pairs = {key:value for key,value in list(column_types.items())[:10]}\n",
    "#import pprintpp\n",
    "#pp = pp = pprint.PrettyPrinter(indent=4)\n",
    "print(preview)"
   ]
  },
  {
   "cell_type": "code",
   "execution_count": null,
   "metadata": {},
   "outputs": [],
   "source": [
    "column_types={'mkt_carrier_fl_num': 'float64', 'distance': 'float64', 'month': 'int64', 'day': 'float64', 'wdir': 'float64', 'temp': 'float64', 'visibility': 'float64', 'wspd': 'float64', 'heatindex': 'float64', 'cloudcover': 'float64'}"
   ]
  },
  {
   "cell_type": "code",
   "execution_count": null,
   "metadata": {},
   "outputs": [],
   "source": []
  },
  {
   "cell_type": "code",
   "execution_count": null,
   "metadata": {},
   "outputs": [],
   "source": []
  },
  {
   "cell_type": "markdown",
   "metadata": {},
   "source": [
    "# Check for Imbalance"
   ]
  },
  {
   "cell_type": "markdown",
   "metadata": {},
   "source": [
    "## try oversampling with resample from sklearn"
   ]
  },
  {
   "cell_type": "code",
   "execution_count": 22,
   "metadata": {},
   "outputs": [
    {
     "data": {
      "text/plain": [
       "0.0    4832055\n",
       "1.0      67945\n",
       "Name: Class, dtype: int64"
      ]
     },
     "execution_count": 22,
     "metadata": {},
     "output_type": "execute_result"
    },
    {
     "data": {
      "image/png": "[encoded data removed]",
      "text/plain": [
       "<Figure size 432x288 with 1 Axes>"
      ]
     },
     "metadata": {
      "needs_background": "light"
     },
     "output_type": "display_data"
    }
   ],
   "source": [
    "from sklearn.utils import resample\n",
    "import seaborn as sns\n",
    "sns.countplot(X_train['Class'])\n",
    "X_train['Class'].value_counts()"
   ]
  },
  {
   "cell_type": "code",
   "execution_count": 23,
   "metadata": {},
   "outputs": [],
   "source": [
    "cancelled=X_train[X_train['Class']==1]"
   ]
  },
  {
   "cell_type": "code",
   "execution_count": 24,
   "metadata": {},
   "outputs": [],
   "source": [
    "# Choose a value for n_samples that will make class 1 even up\n",
    "# prepare bootstrap sample\n",
    "boot = resample(cancelled, replace=True, n_samples=4500000, random_state=1)"
   ]
  },
  {
   "cell_type": "code",
   "execution_count": 25,
   "metadata": {},
   "outputs": [],
   "source": [
    "\n",
    "balanced_data=pd.concat([X_train,boot])\n",
    "y_bal=balanced_data['Class']\n",
    "X_bal=balanced_data.drop(['Class'],axis=1)"
   ]
  },
  {
   "cell_type": "code",
   "execution_count": 41,
   "metadata": {},
   "outputs": [
    {
     "data": {
      "text/plain": [
       "0.0    4832055\n",
       "1.0    4567945\n",
       "Name: Class, dtype: int64"
      ]
     },
     "execution_count": 41,
     "metadata": {},
     "output_type": "execute_result"
    },
    {
     "data": {
      "image/png": "[encoded data removed]",
      "text/plain": [
       "<Figure size 432x288 with 1 Axes>"
      ]
     },
     "metadata": {
      "needs_background": "light"
     },
     "output_type": "display_data"
    }
   ],
   "source": [
    "sns.countplot(balanced_data['Class'], palette='spring')\n",
    "balanced_data['Class'].value_counts()"
   ]
  },
  {
   "cell_type": "code",
   "execution_count": 26,
   "metadata": {},
   "outputs": [],
   "source": [
    "from sklearn.ensemble import BaggingClassifier\n",
    "clf_bal = BaggingClassifier(n_estimators=10, random_state=0)"
   ]
  },
  {
   "cell_type": "code",
   "execution_count": 27,
   "metadata": {},
   "outputs": [
    {
     "data": {
      "text/plain": [
       "BaggingClassifier(base_estimator=None, bootstrap=True,\n",
       "         bootstrap_features=False, max_features=1.0, max_samples=1.0,\n",
       "         n_estimators=10, n_jobs=None, oob_score=False, random_state=0,\n",
       "         verbose=0, warm_start=False)"
      ]
     },
     "execution_count": 27,
     "metadata": {},
     "output_type": "execute_result"
    }
   ],
   "source": [
    "clf_bal.fit(X_bal, y_bal)"
   ]
  },
  {
   "cell_type": "code",
   "execution_count": 28,
   "metadata": {},
   "outputs": [],
   "source": [
    "y_pred=clf_bal.predict(X_test)"
   ]
  },
  {
   "cell_type": "code",
   "execution_count": 42,
   "metadata": {},
   "outputs": [
    {
     "data": {
      "text/plain": [
       "array([[2071174,       0],\n",
       "       [      0,   28826]])"
      ]
     },
     "execution_count": 42,
     "metadata": {},
     "output_type": "execute_result"
    }
   ],
   "source": [
    "# Confusion Matrix\n",
    "cnf_matrix = metrics.confusion_matrix(y_test, y_pred)\n",
    "cnf_matrix"
   ]
  },
  {
   "cell_type": "code",
   "execution_count": 33,
   "metadata": {},
   "outputs": [],
   "source": [
    "import matplotlib.pyplot as plt"
   ]
  },
  {
   "cell_type": "code",
   "execution_count": 43,
   "metadata": {},
   "outputs": [
    {
     "data": {
      "image/png": "[encoded data removed]",
      "text/plain": [
       "<Figure size 432x288 with 2 Axes>"
      ]
     },
     "metadata": {
      "needs_background": "light"
     },
     "output_type": "display_data"
    },
    {
     "name": "stdout",
     "output_type": "stream",
     "text": [
      "\n",
      "\n",
      "              precision    recall  f1-score   support\n",
      "\n",
      "         0.0       1.00      1.00      1.00   2071174\n",
      "         1.0       1.00      1.00      1.00     28826\n",
      "\n",
      "   micro avg       1.00      1.00      1.00   2100000\n",
      "   macro avg       1.00      1.00      1.00   2100000\n",
      "weighted avg       1.00      1.00      1.00   2100000\n",
      "\n"
     ]
    }
   ],
   "source": [
    "from sklearn.metrics import classification_report,confusion_matrix\n",
    "\n",
    "labels=[0,1]\n",
    "\n",
    "fig = plt.figure()\n",
    "ax = fig.add_subplot()\n",
    "cax = ax.matshow(cnf_matrix)\n",
    "\n",
    "plt.title('Confusion matrix of the classifier')\n",
    "fig.colorbar(cax)\n",
    "# ax.set_xticklabels([''] + labels)\n",
    "# ax.set_yticklabels([''] + labels)\n",
    "plt.xlabel('Predicted')\n",
    "plt.ylabel('Actual')\n",
    "plt.show()\n",
    "print('\\n')\n",
    "print(classification_report(y_test, y_pred))"
   ]
  },
  {
   "cell_type": "code",
   "execution_count": 30,
   "metadata": {},
   "outputs": [
    {
     "name": "stdout",
     "output_type": "stream",
     "text": [
      "accuracy:  1.0\n",
      "Precision: 1.0\n",
      "Recall: 1.0\n"
     ]
    }
   ],
   "source": [
    "# Confusion Matrix\n",
    "cnf_matrix = metrics.confusion_matrix(y_test, y_pred)\n",
    "cnf_matrix\n",
    "\n",
    "print (\"accuracy: \", metrics.accuracy_score(y_test, y_pred))\n",
    "print(\"Precision:\",metrics.precision_score(y_test, y_pred))\n",
    "print(\"Recall:\",metrics.recall_score(y_test, y_pred))"
   ]
  },
  {
   "cell_type": "code",
   "execution_count": null,
   "metadata": {},
   "outputs": [],
   "source": []
  },
  {
   "cell_type": "code",
   "execution_count": null,
   "metadata": {},
   "outputs": [],
   "source": []
  },
  {
   "cell_type": "code",
   "execution_count": null,
   "metadata": {},
   "outputs": [],
   "source": []
  },
  {
   "cell_type": "markdown",
   "metadata": {},
   "source": [
    "# Appendix"
   ]
  },
  {
   "cell_type": "markdown",
   "metadata": {},
   "source": [
    "Used this tutorial as a starting point\n",
    "\n",
    "https://machinelearningmastery.com/a-gentle-introduction-to-the-bootstrap-method/"
   ]
  },
  {
   "cell_type": "markdown",
   "metadata": {},
   "source": [
    "filter data frame where class==fradulent\n",
    "filter data frame"
   ]
  },
  {
   "cell_type": "markdown",
   "metadata": {},
   "source": [
    "492, 284315\n",
    "\n"
   ]
  },
  {
   "cell_type": "raw",
   "metadata": {},
   "source": [
    "X_train['Class']=y_train"
   ]
  },
  {
   "cell_type": "code",
   "execution_count": null,
   "metadata": {},
   "outputs": [],
   "source": [
    "import seaborn as sns\n",
    "sns.countplot(X_train['Class'])\n",
    "X_train['Class'].value_counts()"
   ]
  },
  {
   "cell_type": "code",
   "execution_count": 39,
   "metadata": {},
   "outputs": [
    {
     "data": {
      "text/html": [
       "<div>\n",
       "<style scoped>\n",
       "    .dataframe tbody tr th:only-of-type {\n",
       "        vertical-align: middle;\n",
       "    }\n",
       "\n",
       "    .dataframe tbody tr th {\n",
       "        vertical-align: top;\n",
       "    }\n",
       "\n",
       "    .dataframe thead th {\n",
       "        text-align: right;\n",
       "    }\n",
       "</style>\n",
       "<table border=\"1\" class=\"dataframe\">\n",
       "  <thead>\n",
       "    <tr style=\"text-align: right;\">\n",
       "      <th></th>\n",
       "      <th>cancelled</th>\n",
       "      <th>distance</th>\n",
       "      <th>month</th>\n",
       "      <th>day</th>\n",
       "      <th>wdir</th>\n",
       "      <th>temp</th>\n",
       "      <th>visibility</th>\n",
       "      <th>wspd</th>\n",
       "      <th>heatindex</th>\n",
       "      <th>cloudcover</th>\n",
       "      <th>...</th>\n",
       "      <th>total_flights</th>\n",
       "      <th>snowdepth</th>\n",
       "      <th>mean_tail_num_arr_delay</th>\n",
       "      <th>mean_carrier_arr_delay</th>\n",
       "      <th>crs_dep_time</th>\n",
       "      <th>crs_arr_time</th>\n",
       "      <th>origin</th>\n",
       "      <th>dest</th>\n",
       "      <th>branded_code_share</th>\n",
       "      <th>mkt_carrier_fl_num</th>\n",
       "    </tr>\n",
       "    <tr>\n",
       "      <th>Class</th>\n",
       "      <th></th>\n",
       "      <th></th>\n",
       "      <th></th>\n",
       "      <th></th>\n",
       "      <th></th>\n",
       "      <th></th>\n",
       "      <th></th>\n",
       "      <th></th>\n",
       "      <th></th>\n",
       "      <th></th>\n",
       "      <th></th>\n",
       "      <th></th>\n",
       "      <th></th>\n",
       "      <th></th>\n",
       "      <th></th>\n",
       "      <th></th>\n",
       "      <th></th>\n",
       "      <th></th>\n",
       "      <th></th>\n",
       "      <th></th>\n",
       "      <th></th>\n",
       "    </tr>\n",
       "  </thead>\n",
       "  <tbody>\n",
       "    <tr>\n",
       "      <th>0.0</th>\n",
       "      <td>4832055</td>\n",
       "      <td>4832055</td>\n",
       "      <td>4832055</td>\n",
       "      <td>4832055</td>\n",
       "      <td>4832055</td>\n",
       "      <td>4832055</td>\n",
       "      <td>4832055</td>\n",
       "      <td>4832055</td>\n",
       "      <td>4832055</td>\n",
       "      <td>4832055</td>\n",
       "      <td>...</td>\n",
       "      <td>4832055</td>\n",
       "      <td>4832055</td>\n",
       "      <td>4832055</td>\n",
       "      <td>4832055</td>\n",
       "      <td>4832055</td>\n",
       "      <td>4832055</td>\n",
       "      <td>4832055</td>\n",
       "      <td>4832055</td>\n",
       "      <td>4832055</td>\n",
       "      <td>4832055</td>\n",
       "    </tr>\n",
       "    <tr>\n",
       "      <th>1.0</th>\n",
       "      <td>67945</td>\n",
       "      <td>67945</td>\n",
       "      <td>67945</td>\n",
       "      <td>67945</td>\n",
       "      <td>67945</td>\n",
       "      <td>67945</td>\n",
       "      <td>67945</td>\n",
       "      <td>67945</td>\n",
       "      <td>67945</td>\n",
       "      <td>67945</td>\n",
       "      <td>...</td>\n",
       "      <td>67945</td>\n",
       "      <td>67945</td>\n",
       "      <td>67945</td>\n",
       "      <td>67945</td>\n",
       "      <td>67945</td>\n",
       "      <td>67945</td>\n",
       "      <td>67945</td>\n",
       "      <td>67945</td>\n",
       "      <td>67945</td>\n",
       "      <td>67945</td>\n",
       "    </tr>\n",
       "  </tbody>\n",
       "</table>\n",
       "<p>2 rows × 26 columns</p>\n",
       "</div>"
      ],
      "text/plain": [
       "       cancelled  distance    month      day     wdir     temp  visibility  \\\n",
       "Class                                                                        \n",
       "0.0      4832055   4832055  4832055  4832055  4832055  4832055     4832055   \n",
       "1.0        67945     67945    67945    67945    67945    67945       67945   \n",
       "\n",
       "          wspd  heatindex  cloudcover  ...  total_flights  snowdepth  \\\n",
       "Class                                  ...                             \n",
       "0.0    4832055    4832055     4832055  ...        4832055    4832055   \n",
       "1.0      67945      67945       67945  ...          67945      67945   \n",
       "\n",
       "       mean_tail_num_arr_delay  mean_carrier_arr_delay  crs_dep_time  \\\n",
       "Class                                                                  \n",
       "0.0                    4832055                 4832055       4832055   \n",
       "1.0                      67945                   67945         67945   \n",
       "\n",
       "       crs_arr_time   origin     dest  branded_code_share  mkt_carrier_fl_num  \n",
       "Class                                                                          \n",
       "0.0         4832055  4832055  4832055             4832055             4832055  \n",
       "1.0           67945    67945    67945               67945               67945  \n",
       "\n",
       "[2 rows x 26 columns]"
      ]
     },
     "execution_count": 39,
     "metadata": {},
     "output_type": "execute_result"
    }
   ],
   "source": [
    "X_train.groupby('Class').count()"
   ]
  },
  {
   "cell_type": "markdown",
   "metadata": {},
   "source": [
    "### Filter based on label into just fraudulent"
   ]
  },
  {
   "cell_type": "code",
   "execution_count": null,
   "metadata": {},
   "outputs": [],
   "source": [
    "cancelled=X_train[X_train['Class']==1]"
   ]
  },
  {
   "cell_type": "markdown",
   "metadata": {},
   "source": [
    "### run resampling on the fraudsters"
   ]
  },
  {
   "cell_type": "code",
   "execution_count": null,
   "metadata": {},
   "outputs": [],
   "source": [
    "# prepare bootstrap sample\n",
    "boot = resample(cancelled, replace=True, n_samples=4000000, random_state=1)"
   ]
  },
  {
   "cell_type": "code",
   "execution_count": 38,
   "metadata": {},
   "outputs": [
    {
     "data": {
      "text/html": [
       "<div>\n",
       "<style scoped>\n",
       "    .dataframe tbody tr th:only-of-type {\n",
       "        vertical-align: middle;\n",
       "    }\n",
       "\n",
       "    .dataframe tbody tr th {\n",
       "        vertical-align: top;\n",
       "    }\n",
       "\n",
       "    .dataframe thead th {\n",
       "        text-align: right;\n",
       "    }\n",
       "</style>\n",
       "<table border=\"1\" class=\"dataframe\">\n",
       "  <thead>\n",
       "    <tr style=\"text-align: right;\">\n",
       "      <th></th>\n",
       "      <th>cancelled</th>\n",
       "      <th>distance</th>\n",
       "      <th>month</th>\n",
       "      <th>day</th>\n",
       "      <th>wdir</th>\n",
       "      <th>temp</th>\n",
       "      <th>visibility</th>\n",
       "      <th>wspd</th>\n",
       "      <th>heatindex</th>\n",
       "      <th>cloudcover</th>\n",
       "      <th>...</th>\n",
       "      <th>total_flights</th>\n",
       "      <th>snowdepth</th>\n",
       "      <th>mean_tail_num_arr_delay</th>\n",
       "      <th>mean_carrier_arr_delay</th>\n",
       "      <th>crs_dep_time</th>\n",
       "      <th>crs_arr_time</th>\n",
       "      <th>origin</th>\n",
       "      <th>dest</th>\n",
       "      <th>branded_code_share</th>\n",
       "      <th>mkt_carrier_fl_num</th>\n",
       "    </tr>\n",
       "    <tr>\n",
       "      <th>Class</th>\n",
       "      <th></th>\n",
       "      <th></th>\n",
       "      <th></th>\n",
       "      <th></th>\n",
       "      <th></th>\n",
       "      <th></th>\n",
       "      <th></th>\n",
       "      <th></th>\n",
       "      <th></th>\n",
       "      <th></th>\n",
       "      <th></th>\n",
       "      <th></th>\n",
       "      <th></th>\n",
       "      <th></th>\n",
       "      <th></th>\n",
       "      <th></th>\n",
       "      <th></th>\n",
       "      <th></th>\n",
       "      <th></th>\n",
       "      <th></th>\n",
       "      <th></th>\n",
       "    </tr>\n",
       "  </thead>\n",
       "  <tbody>\n",
       "    <tr>\n",
       "      <th>1.0</th>\n",
       "      <td>4500000</td>\n",
       "      <td>4500000</td>\n",
       "      <td>4500000</td>\n",
       "      <td>4500000</td>\n",
       "      <td>4500000</td>\n",
       "      <td>4500000</td>\n",
       "      <td>4500000</td>\n",
       "      <td>4500000</td>\n",
       "      <td>4500000</td>\n",
       "      <td>4500000</td>\n",
       "      <td>...</td>\n",
       "      <td>4500000</td>\n",
       "      <td>4500000</td>\n",
       "      <td>4500000</td>\n",
       "      <td>4500000</td>\n",
       "      <td>4500000</td>\n",
       "      <td>4500000</td>\n",
       "      <td>4500000</td>\n",
       "      <td>4500000</td>\n",
       "      <td>4500000</td>\n",
       "      <td>4500000</td>\n",
       "    </tr>\n",
       "  </tbody>\n",
       "</table>\n",
       "<p>1 rows × 26 columns</p>\n",
       "</div>"
      ],
      "text/plain": [
       "       cancelled  distance    month      day     wdir     temp  visibility  \\\n",
       "Class                                                                        \n",
       "1.0      4500000   4500000  4500000  4500000  4500000  4500000     4500000   \n",
       "\n",
       "          wspd  heatindex  cloudcover  ...  total_flights  snowdepth  \\\n",
       "Class                                  ...                             \n",
       "1.0    4500000    4500000     4500000  ...        4500000    4500000   \n",
       "\n",
       "       mean_tail_num_arr_delay  mean_carrier_arr_delay  crs_dep_time  \\\n",
       "Class                                                                  \n",
       "1.0                    4500000                 4500000       4500000   \n",
       "\n",
       "       crs_arr_time   origin     dest  branded_code_share  mkt_carrier_fl_num  \n",
       "Class                                                                          \n",
       "1.0         4500000  4500000  4500000             4500000             4500000  \n",
       "\n",
       "[1 rows x 26 columns]"
      ]
     },
     "execution_count": 38,
     "metadata": {},
     "output_type": "execute_result"
    }
   ],
   "source": [
    "boot.groupby('Class').count()"
   ]
  },
  {
   "cell_type": "markdown",
   "metadata": {},
   "source": [
    "### Append Bootstrapped fraudulent cases to original X_train"
   ]
  },
  {
   "cell_type": "code",
   "execution_count": null,
   "metadata": {},
   "outputs": [],
   "source": [
    "balanced_data=pd.concat([X_train,boot])"
   ]
  },
  {
   "cell_type": "raw",
   "metadata": {},
   "source": [
    "balanced_data.head()"
   ]
  },
  {
   "cell_type": "code",
   "execution_count": 40,
   "metadata": {},
   "outputs": [
    {
     "data": {
      "text/html": [
       "<div>\n",
       "<style scoped>\n",
       "    .dataframe tbody tr th:only-of-type {\n",
       "        vertical-align: middle;\n",
       "    }\n",
       "\n",
       "    .dataframe tbody tr th {\n",
       "        vertical-align: top;\n",
       "    }\n",
       "\n",
       "    .dataframe thead th {\n",
       "        text-align: right;\n",
       "    }\n",
       "</style>\n",
       "<table border=\"1\" class=\"dataframe\">\n",
       "  <thead>\n",
       "    <tr style=\"text-align: right;\">\n",
       "      <th></th>\n",
       "      <th>cancelled</th>\n",
       "      <th>distance</th>\n",
       "      <th>month</th>\n",
       "      <th>day</th>\n",
       "      <th>wdir</th>\n",
       "      <th>temp</th>\n",
       "      <th>visibility</th>\n",
       "      <th>wspd</th>\n",
       "      <th>heatindex</th>\n",
       "      <th>cloudcover</th>\n",
       "      <th>...</th>\n",
       "      <th>total_flights</th>\n",
       "      <th>snowdepth</th>\n",
       "      <th>mean_tail_num_arr_delay</th>\n",
       "      <th>mean_carrier_arr_delay</th>\n",
       "      <th>crs_dep_time</th>\n",
       "      <th>crs_arr_time</th>\n",
       "      <th>origin</th>\n",
       "      <th>dest</th>\n",
       "      <th>branded_code_share</th>\n",
       "      <th>mkt_carrier_fl_num</th>\n",
       "    </tr>\n",
       "    <tr>\n",
       "      <th>Class</th>\n",
       "      <th></th>\n",
       "      <th></th>\n",
       "      <th></th>\n",
       "      <th></th>\n",
       "      <th></th>\n",
       "      <th></th>\n",
       "      <th></th>\n",
       "      <th></th>\n",
       "      <th></th>\n",
       "      <th></th>\n",
       "      <th></th>\n",
       "      <th></th>\n",
       "      <th></th>\n",
       "      <th></th>\n",
       "      <th></th>\n",
       "      <th></th>\n",
       "      <th></th>\n",
       "      <th></th>\n",
       "      <th></th>\n",
       "      <th></th>\n",
       "      <th></th>\n",
       "    </tr>\n",
       "  </thead>\n",
       "  <tbody>\n",
       "    <tr>\n",
       "      <th>0.0</th>\n",
       "      <td>4832055</td>\n",
       "      <td>4832055</td>\n",
       "      <td>4832055</td>\n",
       "      <td>4832055</td>\n",
       "      <td>4832055</td>\n",
       "      <td>4832055</td>\n",
       "      <td>4832055</td>\n",
       "      <td>4832055</td>\n",
       "      <td>4832055</td>\n",
       "      <td>4832055</td>\n",
       "      <td>...</td>\n",
       "      <td>4832055</td>\n",
       "      <td>4832055</td>\n",
       "      <td>4832055</td>\n",
       "      <td>4832055</td>\n",
       "      <td>4832055</td>\n",
       "      <td>4832055</td>\n",
       "      <td>4832055</td>\n",
       "      <td>4832055</td>\n",
       "      <td>4832055</td>\n",
       "      <td>4832055</td>\n",
       "    </tr>\n",
       "    <tr>\n",
       "      <th>1.0</th>\n",
       "      <td>4567945</td>\n",
       "      <td>4567945</td>\n",
       "      <td>4567945</td>\n",
       "      <td>4567945</td>\n",
       "      <td>4567945</td>\n",
       "      <td>4567945</td>\n",
       "      <td>4567945</td>\n",
       "      <td>4567945</td>\n",
       "      <td>4567945</td>\n",
       "      <td>4567945</td>\n",
       "      <td>...</td>\n",
       "      <td>4567945</td>\n",
       "      <td>4567945</td>\n",
       "      <td>4567945</td>\n",
       "      <td>4567945</td>\n",
       "      <td>4567945</td>\n",
       "      <td>4567945</td>\n",
       "      <td>4567945</td>\n",
       "      <td>4567945</td>\n",
       "      <td>4567945</td>\n",
       "      <td>4567945</td>\n",
       "    </tr>\n",
       "  </tbody>\n",
       "</table>\n",
       "<p>2 rows × 26 columns</p>\n",
       "</div>"
      ],
      "text/plain": [
       "       cancelled  distance    month      day     wdir     temp  visibility  \\\n",
       "Class                                                                        \n",
       "0.0      4832055   4832055  4832055  4832055  4832055  4832055     4832055   \n",
       "1.0      4567945   4567945  4567945  4567945  4567945  4567945     4567945   \n",
       "\n",
       "          wspd  heatindex  cloudcover  ...  total_flights  snowdepth  \\\n",
       "Class                                  ...                             \n",
       "0.0    4832055    4832055     4832055  ...        4832055    4832055   \n",
       "1.0    4567945    4567945     4567945  ...        4567945    4567945   \n",
       "\n",
       "       mean_tail_num_arr_delay  mean_carrier_arr_delay  crs_dep_time  \\\n",
       "Class                                                                  \n",
       "0.0                    4832055                 4832055       4832055   \n",
       "1.0                    4567945                 4567945       4567945   \n",
       "\n",
       "       crs_arr_time   origin     dest  branded_code_share  mkt_carrier_fl_num  \n",
       "Class                                                                          \n",
       "0.0         4832055  4832055  4832055             4832055             4832055  \n",
       "1.0         4567945  4567945  4567945             4567945             4567945  \n",
       "\n",
       "[2 rows x 26 columns]"
      ]
     },
     "execution_count": 40,
     "metadata": {},
     "output_type": "execute_result"
    }
   ],
   "source": [
    "balanced_data.groupby('Class').count()"
   ]
  },
  {
   "cell_type": "raw",
   "metadata": {},
   "source": [
    "You can see that the bootstrapping worked and now we have a relatively even distribution of fraudulent vs unfraudulent cases"
   ]
  },
  {
   "cell_type": "markdown",
   "metadata": {},
   "source": [
    "Re-splice off the labels"
   ]
  },
  {
   "cell_type": "code",
   "execution_count": null,
   "metadata": {},
   "outputs": [],
   "source": [
    "y_bal=balanced_data['Class']"
   ]
  },
  {
   "cell_type": "code",
   "execution_count": null,
   "metadata": {},
   "outputs": [],
   "source": [
    "X_bal=balanced_data.drop(['Class'],axis=1)"
   ]
  },
  {
   "cell_type": "code",
   "execution_count": null,
   "metadata": {},
   "outputs": [],
   "source": []
  },
  {
   "cell_type": "raw",
   "metadata": {},
   "source": [
    "#save to csv\n",
    "y_bal.to_csv(path+'y_bal.csv')\n"
   ]
  },
  {
   "cell_type": "raw",
   "metadata": {},
   "source": [
    "X_bal.to_csv(path+'X_bal.csv')"
   ]
  },
  {
   "cell_type": "raw",
   "metadata": {},
   "source": [
    "pd.read_csv(path+'y_bal.csv')"
   ]
  },
  {
   "cell_type": "raw",
   "metadata": {},
   "source": [
    "pd.read_csv(path+'X_bal.csv',dtype=column_types,parse_dates=['fl_date'],infer_datetime_format=True)"
   ]
  },
  {
   "cell_type": "markdown",
   "metadata": {},
   "source": [
    "### Train model with this data set"
   ]
  },
  {
   "cell_type": "raw",
   "metadata": {},
   "source": [
    "bal_model = GaussianNB().fit(X_bal, y_bal) #fitting our model"
   ]
  },
  {
   "cell_type": "raw",
   "metadata": {},
   "source": [
    "y_pred_bal=bal_model.predict(X_test)"
   ]
  },
  {
   "cell_type": "raw",
   "metadata": {},
   "source": [
    "# Confusion Matrix\n",
    "cnf_matrix = metrics.confusion_matrix(y_test, y_pred_bal)\n",
    "cnf_matrix"
   ]
  },
  {
   "cell_type": "raw",
   "metadata": {},
   "source": [
    "print (\"accuracy: \", metrics.accuracy_score(y_test, y_pred_bal))\n",
    "print(\"Precision:\",metrics.precision_score(y_test, y_pred_bal))\n",
    "print(\"Recall:\",metrics.recall_score(y_test, y_pred_bal))"
   ]
  },
  {
   "cell_type": "raw",
   "metadata": {},
   "source": [
    "We are getting terrible recall and precision because of imbalance in classes"
   ]
  },
  {
   "cell_type": "raw",
   "metadata": {},
   "source": [
    "auc = metrics.roc_auc_score(y_test, y_pred)"
   ]
  },
  {
   "cell_type": "raw",
   "metadata": {},
   "source": [
    "auc"
   ]
  },
  {
   "cell_type": "raw",
   "metadata": {},
   "source": [
    "WORSE THAN UNBALANCED - try with a different algo"
   ]
  },
  {
   "cell_type": "code",
   "execution_count": null,
   "metadata": {},
   "outputs": [],
   "source": [
    "from sklearn.ensemble import BaggingClassifier\n",
    "clf_bal = BaggingClassifier(n_estimators=10, random_state=0)"
   ]
  },
  {
   "cell_type": "code",
   "execution_count": null,
   "metadata": {},
   "outputs": [],
   "source": [
    "X_bal.columns"
   ]
  },
  {
   "cell_type": "code",
   "execution_count": null,
   "metadata": {},
   "outputs": [],
   "source": [
    "X_conca=pd.concat([X_bal,y_bal],axis=1)"
   ]
  },
  {
   "cell_type": "code",
   "execution_count": null,
   "metadata": {},
   "outputs": [],
   "source": [
    "X_conca=X_conca.dropna()"
   ]
  },
  {
   "cell_type": "code",
   "execution_count": null,
   "metadata": {},
   "outputs": [],
   "source": [
    "X_conca.shape"
   ]
  },
  {
   "cell_type": "code",
   "execution_count": null,
   "metadata": {},
   "outputs": [],
   "source": [
    "X_bal.shape"
   ]
  },
  {
   "cell_type": "code",
   "execution_count": null,
   "metadata": {},
   "outputs": [],
   "source": [
    "X_conca.columns"
   ]
  },
  {
   "cell_type": "code",
   "execution_count": null,
   "metadata": {},
   "outputs": [],
   "source": [
    "y_bal=X_conca['Class']"
   ]
  },
  {
   "cell_type": "code",
   "execution_count": null,
   "metadata": {},
   "outputs": [],
   "source": [
    "X_bal=X_conca.drop('Class',axis=1)"
   ]
  },
  {
   "cell_type": "code",
   "execution_count": null,
   "metadata": {},
   "outputs": [],
   "source": [
    "sum(X_bal['mkt_carrier_fl_num'].isnull())"
   ]
  },
  {
   "cell_type": "code",
   "execution_count": null,
   "metadata": {},
   "outputs": [],
   "source": [
    "X_bal=X_bal.drop(['origin','dest','branded_code_share'],axis=1)"
   ]
  },
  {
   "cell_type": "code",
   "execution_count": null,
   "metadata": {},
   "outputs": [],
   "source": [
    "clf_bal.fit(X_bal, y_bal)"
   ]
  },
  {
   "cell_type": "code",
   "execution_count": null,
   "metadata": {},
   "outputs": [],
   "source": [
    "X_test=X_test.drop(['origin','dest','branded_code_share'],axis=1)"
   ]
  },
  {
   "cell_type": "code",
   "execution_count": null,
   "metadata": {},
   "outputs": [],
   "source": [
    "X_test=X_test.dropna()"
   ]
  },
  {
   "cell_type": "code",
   "execution_count": null,
   "metadata": {},
   "outputs": [],
   "source": [
    "X_test.shape"
   ]
  },
  {
   "cell_type": "code",
   "execution_count": null,
   "metadata": {},
   "outputs": [],
   "source": [
    "y_pred=clf_bal.predict(X_test)"
   ]
  },
  {
   "cell_type": "code",
   "execution_count": null,
   "metadata": {},
   "outputs": [],
   "source": [
    "# Confusion Matrix\n",
    "cnf_matrix = metrics.confusion_matrix(y_test, y_pred)\n",
    "cnf_matrix"
   ]
  },
  {
   "cell_type": "code",
   "execution_count": null,
   "metadata": {},
   "outputs": [],
   "source": [
    "print (\"accuracy: \", metrics.accuracy_score(y_test, y_pred_bal_2))\n",
    "print(\"Precision:\",metrics.precision_score(y_test, y_pred_bal_2))\n",
    "print(\"Recall:\",metrics.recall_score(y_test, y_pred_bal_2))"
   ]
  },
  {
   "cell_type": "code",
   "execution_count": null,
   "metadata": {},
   "outputs": [],
   "source": []
  },
  {
   "cell_type": "code",
   "execution_count": null,
   "metadata": {},
   "outputs": [],
   "source": []
  },
  {
   "cell_type": "code",
   "execution_count": null,
   "metadata": {},
   "outputs": [],
   "source": []
  },
  {
   "cell_type": "code",
   "execution_count": 44,
   "metadata": {},
   "outputs": [
    {
     "data": {
      "text/plain": [
       "Index(['cancelled', 'mkt_carrier_fl_num', 'distance', 'month', 'day', 'origin',\n",
       "       'dest', 'wdir', 'temp', 'visibility', 'wspd', 'heatindex', 'cloudcover',\n",
       "       'precip', 'sealevelpressure', 'humidity', 'wgust', 'precipcover',\n",
       "       'windchill', 'total_flights', 'snowdepth', 'branded_code_share',\n",
       "       'mean_tail_num_arr_delay', 'mean_carrier_arr_delay', 'crs_dep_time',\n",
       "       'crs_arr_time'],\n",
       "      dtype='object')"
      ]
     },
     "execution_count": 44,
     "metadata": {},
     "output_type": "execute_result"
    }
   ],
   "source": [
    "X.columns"
   ]
  },
  {
   "cell_type": "code",
   "execution_count": 48,
   "metadata": {},
   "outputs": [
    {
     "data": {
      "text/plain": [
       "Index(['Unnamed: 0', 'fl_date', 'mkt_unique_carrier', 'branded_code_share',\n",
       "       'mkt_carrier_fl_num', 'tail_num', 'op_carrier_fl_num',\n",
       "       'origin_airport_id', 'origin', 'origin_city_name', 'dest_airport_id',\n",
       "       'dest', 'dest_city_name', 'crs_dep_time', 'dep_delay', 'crs_arr_time',\n",
       "       'arr_delay', 'cancelled', 'cancellation_code', 'distance',\n",
       "       'carrier_delay', 'weather_delay', 'nas_delay', 'security_delay',\n",
       "       'late_aircraft_delay', 'month', 'day', 'wdir', 'temp', 'maxt',\n",
       "       'visibility', 'wspd', 'heatindex', 'cloudcover', 'mint', 'precip',\n",
       "       'snowdepth', 'sealevelpressure', 'dew', 'humidity', 'wgust',\n",
       "       'precipcover', 'windchill', 'closest_airport', 'total_flights',\n",
       "       'mean_tail_num_arr_delay', 'mean_tail_num_dep_delay',\n",
       "       'mean_carrier_arr_delay', 'mean_carrier__dep_delay'],\n",
       "      dtype='object')"
      ]
     },
     "execution_count": 48,
     "metadata": {},
     "output_type": "execute_result"
    }
   ],
   "source": [
    "flights_final.columns"
   ]
  },
  {
   "cell_type": "code",
   "execution_count": 50,
   "metadata": {},
   "outputs": [],
   "source": [
    "flights_final=flights_final.drop('Unnamed: 0',axis=1)"
   ]
  },
  {
   "cell_type": "code",
   "execution_count": null,
   "metadata": {},
   "outputs": [],
   "source": [
    "flights_final[['arr_delay','mkt_unique_carrier']].groupby()"
   ]
  },
  {
   "cell_type": "code",
   "execution_count": 53,
   "metadata": {},
   "outputs": [
    {
     "data": {
      "text/plain": [
       "<matplotlib.axes._subplots.AxesSubplot at 0x7fb8225e0890>"
      ]
     },
     "execution_count": 53,
     "metadata": {},
     "output_type": "execute_result"
    },
    {
     "data": {
      "image/png": "[encoded data removed]",
      "text/plain": [
       "<Figure size 432x288 with 1 Axes>"
      ]
     },
     "metadata": {
      "needs_background": "light"
     },
     "output_type": "display_data"
    }
   ],
   "source": [
    "sns.boxplot(x='mkt_unique_carrier',y='arr_delay',data=flights_final[['arr_delay','mkt_unique_carrier']][flights_final['arr_delay'].between(flights_final['arr_delay'].quantile(0.02),\n",
    "                                               flights_final['arr_delay'].quantile(0.98))])"
   ]
  },
  {
   "cell_type": "raw",
   "metadata": {},
   "source": [
    "sns.boxplot(x='tail_num',y='arr_delay',data=flights_final[['arr_delay','tail_num']][flights_final['arr_delay'].between(flights_final['arr_delay'].quantile(0.02),\n",
    "                                               flights_final['arr_delay'].quantile(0.98))])"
   ]
  },
  {
   "cell_type": "code",
   "execution_count": 58,
   "metadata": {},
   "outputs": [
    {
     "data": {
      "text/html": [
       "<div>\n",
       "<style scoped>\n",
       "    .dataframe tbody tr th:only-of-type {\n",
       "        vertical-align: middle;\n",
       "    }\n",
       "\n",
       "    .dataframe tbody tr th {\n",
       "        vertical-align: top;\n",
       "    }\n",
       "\n",
       "    .dataframe thead th {\n",
       "        text-align: right;\n",
       "    }\n",
       "</style>\n",
       "<table border=\"1\" class=\"dataframe\">\n",
       "  <thead>\n",
       "    <tr style=\"text-align: right;\">\n",
       "      <th></th>\n",
       "      <th>arr_delay</th>\n",
       "    </tr>\n",
       "    <tr>\n",
       "      <th>tail_num</th>\n",
       "      <th></th>\n",
       "    </tr>\n",
       "  </thead>\n",
       "  <tbody>\n",
       "    <tr>\n",
       "      <th>N11181</th>\n",
       "      <td>84648.0</td>\n",
       "    </tr>\n",
       "    <tr>\n",
       "      <th>N13202</th>\n",
       "      <td>84098.0</td>\n",
       "    </tr>\n",
       "    <tr>\n",
       "      <th>N33182</th>\n",
       "      <td>82838.0</td>\n",
       "    </tr>\n",
       "    <tr>\n",
       "      <th>N14162</th>\n",
       "      <td>81445.0</td>\n",
       "    </tr>\n",
       "    <tr>\n",
       "      <th>N11199</th>\n",
       "      <td>78911.0</td>\n",
       "    </tr>\n",
       "    <tr>\n",
       "      <th>...</th>\n",
       "      <td>...</td>\n",
       "    </tr>\n",
       "    <tr>\n",
       "      <th>N607AS</th>\n",
       "      <td>-15940.0</td>\n",
       "    </tr>\n",
       "    <tr>\n",
       "      <th>N987DN</th>\n",
       "      <td>-16347.0</td>\n",
       "    </tr>\n",
       "    <tr>\n",
       "      <th>N612AS</th>\n",
       "      <td>-17533.0</td>\n",
       "    </tr>\n",
       "    <tr>\n",
       "      <th>N613AS</th>\n",
       "      <td>-18415.0</td>\n",
       "    </tr>\n",
       "    <tr>\n",
       "      <th>N619AS</th>\n",
       "      <td>-18573.0</td>\n",
       "    </tr>\n",
       "  </tbody>\n",
       "</table>\n",
       "<p>6487 rows × 1 columns</p>\n",
       "</div>"
      ],
      "text/plain": [
       "          arr_delay\n",
       "tail_num           \n",
       "N11181      84648.0\n",
       "N13202      84098.0\n",
       "N33182      82838.0\n",
       "N14162      81445.0\n",
       "N11199      78911.0\n",
       "...             ...\n",
       "N607AS     -15940.0\n",
       "N987DN     -16347.0\n",
       "N612AS     -17533.0\n",
       "N613AS     -18415.0\n",
       "N619AS     -18573.0\n",
       "\n",
       "[6487 rows x 1 columns]"
      ]
     },
     "execution_count": 58,
     "metadata": {},
     "output_type": "execute_result"
    }
   ],
   "source": [
    "flights_final[['arr_delay','tail_num']].groupby('tail_num').sum().sort_values(by='arr_delay',ascending=False)"
   ]
  },
  {
   "cell_type": "code",
   "execution_count": null,
   "metadata": {},
   "outputs": [],
   "source": [
    "sns.distplot(df_delay[df_delay['dep_delay'].between(df_delay['dep_delay'].quantile(0.02),\n",
    "                                               df_delay['dep_delay'].quantile(0.98))]['dep_delay']) \n",
    "\n",
    "\n",
    "sns.distplot(df_delay[df_delay['weather_delay'].between(df_delay['weather_delay'].quantile(0.02),\n",
    "                                               df_delay['weather_delay'].quantile(0.98))&df_delay['weather_delay']>0]['weather_delay'])"
   ]
  },
  {
   "cell_type": "code",
   "execution_count": null,
   "metadata": {},
   "outputs": [],
   "source": [
    "X['mean_car']"
   ]
  }
 ],
 "metadata": {
  "kernelspec": {
   "display_name": "bootcamp_env",
   "language": "python",
   "name": "bootcamp_env"
  },
  "language_info": {
   "codemirror_mode": {
    "name": "ipython",
    "version": 3
   },
   "file_extension": ".py",
   "mimetype": "text/x-python",
   "name": "python",
   "nbconvert_exporter": "python",
   "pygments_lexer": "ipython3",
   "version": "3.7.6"
  }
 },
 "nbformat": 4,
 "nbformat_minor": 4
}
