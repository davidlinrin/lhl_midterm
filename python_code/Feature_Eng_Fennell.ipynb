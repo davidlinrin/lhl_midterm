{
 "cells": [
  {
   "cell_type": "code",
   "execution_count": 3,
   "metadata": {},
   "outputs": [],
   "source": [
    "import pandas as pd\n",
    "import numpy as np\n",
    "import matplotlib.pyplot as plt\n",
    "\n",
    "from sklearn.preprocessing import StandardScaler\n",
    "from sklearn.decomposition import PCA\n",
    "from sklearn.preprocessing import LabelEncoder\n",
    "from sklearn import metrics\n",
    "from sklearn import preprocessing\n",
    "from sklearn.feature_selection import VarianceThreshold\n",
    "from sklearn.feature_selection import f_regression, SelectKBest\n",
    "from sklearn.cluster import DBSCAN\n",
    "from sklearn.cluster import KMeans\n",
    "from sklearn.linear_model import LinearRegression\n",
    "\n",
    "import statsmodels.api as sm\n",
    "from statsmodels.formula.api import ols\n",
    "from statsmodels.stats.multicomp import pairwise_tukeyhsd, MultiComparison\n",
    "\n",
    "import copy\n",
    "import seaborn as sns\n",
    "import os\n",
    "from scipy import stats\n",
    "import datetime\n",
    "\n",
    "from geopy.geocoders import Nominatim # convert an address into latitude and longitude values\n",
    "import requests # library to handle requests\n",
    "from pandas.io.json import json_normalize # tranform JSON file into a pandas dataframe"
   ]
  },
  {
   "cell_type": "code",
   "execution_count": 4,
   "metadata": {},
   "outputs": [],
   "source": [
    "path='/Users/carlyfennell/DataScience/data_bootcamp/data/'"
   ]
  },
  {
   "cell_type": "markdown",
   "metadata": {},
   "source": [
    "# Skip all this - already did once"
   ]
  },
  {
   "cell_type": "markdown",
   "metadata": {},
   "source": [
    "# Feature Engineering"
   ]
  },
  {
   "cell_type": "raw",
   "metadata": {},
   "source": [
    "# read in flights info to DataFrame\n",
    "df_flights=pd.read_csv(path+'flights.csv')"
   ]
  },
  {
   "cell_type": "raw",
   "metadata": {},
   "source": [
    "df_flights=df_flights.drop(['mkt_unique_carrier','branded_code_share','mkt_carrier','dup','dest_city_name','origin_city_name'],axis=1)"
   ]
  },
  {
   "cell_type": "raw",
   "metadata": {},
   "source": [
    "# missing data\n",
    "total = df_flights.isnull().sum().sort_values(ascending=False)\n",
    "percent = (df_flights.isnull().sum()/df_flights.isnull().count()).sort_values(ascending=False)\n",
    "missing_data = pd.concat([total, percent], axis=1, keys=['Total', 'Percent'])\n",
    "missing_data.head(20)"
   ]
  },
  {
   "cell_type": "raw",
   "metadata": {},
   "source": [
    "missing_data.index"
   ]
  },
  {
   "cell_type": "raw",
   "metadata": {},
   "source": [
    "#clean flights and save as csv\n",
    "df_flights=df_flights.drop(['no_name', 'total_add_gtime', 'longest_add_gtime', 'first_dep_time',\n",
    "       'cancellation_code','cancelled', 'flights','crs_dep_time'],axis=1)"
   ]
  },
  {
   "cell_type": "markdown",
   "metadata": {},
   "source": [
    "## finding latitude and longitude for all rows"
   ]
  },
  {
   "cell_type": "raw",
   "metadata": {},
   "source": [
    "#read in airport lat/long info Dataframe\n",
    "airports=pd.read_csv(path+'airports.csv')"
   ]
  },
  {
   "cell_type": "raw",
   "metadata": {},
   "source": [
    "airport_all=airports.drop(['CITY','STATE','COUNTRY'],axis=1)"
   ]
  },
  {
   "cell_type": "raw",
   "metadata": {},
   "source": [
    "airport_all=airport_all.rename(columns={'IATA_CODE':'origin','LATITUDE':'latitude','LONGITUDE':'longitude'})"
   ]
  },
  {
   "cell_type": "raw",
   "metadata": {},
   "source": [
    "set_1=set(airports['IATA_CODE'].unique())\n",
    "set_2=set(df_flights['origin'].unique())\n",
    "missing_codes=list(set_2^set_1)"
   ]
  },
  {
   "cell_type": "raw",
   "metadata": {},
   "source": [
    "airport_all[airport_all['origin']=='LAX']"
   ]
  },
  {
   "cell_type": "raw",
   "metadata": {},
   "source": [
    "#'SLN' in missing_codes\n",
    "missing_codes[14]='Salina Regional Airport'"
   ]
  },
  {
   "cell_type": "raw",
   "metadata": {},
   "source": [
    "len(missing_codes)"
   ]
  },
  {
   "cell_type": "raw",
   "metadata": {},
   "source": [
    "latitude=[]\n",
    "longitude=[]\n",
    "cit_=[]\n",
    "geolocator = Nominatim(user_agent=\"bc_explorer\")\n",
    "# loop until you get the coordinates\n",
    "for i in range(len(missing_codes)):\n",
    "    #print(i)\n",
    "    location = geolocator.geocode('{}'.format(missing_codes[i]))\n",
    "    latitude.append(location.latitude)\n",
    "    longitude.append(location.longitude)\n",
    "    cit_.append(missing_codes[i])\n",
    "    \n",
    "else:\n",
    "    print('none')\n",
    "print('done')"
   ]
  },
  {
   "cell_type": "raw",
   "metadata": {},
   "source": [
    "randoms=pd.DataFrame([cit_,latitude,longitude]).T.rename(columns={0:'origin',1:'latitude',2:'longitude'})"
   ]
  },
  {
   "cell_type": "raw",
   "metadata": {},
   "source": [
    "airports=pd.concat([airport_all,randoms],axis=0,ignore_index=True)"
   ]
  },
  {
   "cell_type": "markdown",
   "metadata": {},
   "source": [
    "## join lat/long for all rows of df_flights table based on origin"
   ]
  },
  {
   "cell_type": "raw",
   "metadata": {},
   "source": [
    "airports[airports['origin']=='LAX']"
   ]
  },
  {
   "cell_type": "raw",
   "metadata": {},
   "source": [
    "len(list(airports['origin']))"
   ]
  },
  {
   "cell_type": "raw",
   "metadata": {},
   "source": [
    "airports=airports[airports['origin'].isin(df_flights['origin'].unique())]"
   ]
  },
  {
   "cell_type": "raw",
   "metadata": {},
   "source": [
    "airports[airports['origin']=='LAX']"
   ]
  },
  {
   "cell_type": "raw",
   "metadata": {},
   "source": [
    "dict2=dict.fromkeys(list(airports['origin']))\n",
    "for k, _ in dict2.items():\n",
    "    dict2[k] = []"
   ]
  },
  {
   "cell_type": "raw",
   "metadata": {},
   "source": [
    "#save weather params to dictionary per api call\n",
    "for param in list(dict2.keys()):\n",
    "        dict2[param].append((airports[airports['origin']==param]['latitude'].values[0],airports[airports['origin']==param]['longitude'].values[0]))\n",
    "        #print(param)\n",
    "# #had to manually add this one\n",
    "# dict2['SLN']=[(38.79083,-97.65222)]"
   ]
  },
  {
   "cell_type": "raw",
   "metadata": {},
   "source": [
    "set(df_flights['origin'].unique())^set(dict2.keys())"
   ]
  },
  {
   "cell_type": "raw",
   "metadata": {},
   "source": [
    "#had to manually add this one\n",
    "dict2['PGV']=[(35.63528, -77.38528)]"
   ]
  },
  {
   "cell_type": "raw",
   "metadata": {},
   "source": [
    "len(dict2)"
   ]
  },
  {
   "cell_type": "raw",
   "metadata": {},
   "source": [
    "df_flights['origin'][0]"
   ]
  },
  {
   "cell_type": "raw",
   "metadata": {},
   "source": [
    "set(df_flights['dest'].unique())^set(dict2.keys())"
   ]
  },
  {
   "cell_type": "raw",
   "metadata": {},
   "source": [
    "df_flights['origin'][5]"
   ]
  },
  {
   "cell_type": "raw",
   "metadata": {},
   "source": [
    "dict2['SFO']"
   ]
  },
  {
   "cell_type": "raw",
   "metadata": {},
   "source": [
    "#dict2[df_flights['origin'][i]][0][0]\n",
    "#dict2[df_flights['dest'][i]][0][1]\n",
    "print(dict2[df_flights['origin'][5]][0][0])\n",
    "print(dict2[df_flights['origin'][5]][0][1])\n",
    "print(dict2[df_flights['dest'][5]][0][0])\n",
    "print(dict2[df_flights['dest'][5]][0][1])"
   ]
  },
  {
   "cell_type": "raw",
   "metadata": {},
   "source": [
    "dict2['SFO']"
   ]
  },
  {
   "cell_type": "raw",
   "metadata": {},
   "source": [
    "dict2['LAX']"
   ]
  },
  {
   "cell_type": "raw",
   "metadata": {},
   "source": [
    "# this takes the newly created dictionary with airport code and lati/longi\n",
    "# and adds lati/longi for each instance of that airport code in the 3 million \n",
    "# rows we have\n",
    "lati=[]\n",
    "longi=[]\n",
    "lati_dest=[]\n",
    "longi_dest=[]\n",
    "for i in range(len(df_flights)):\n",
    "    lati.append(dict2[df_flights['origin'][i]][0][0])\n",
    "    longi.append(dict2[df_flights['origin'][i]][0][1])\n",
    "    lati_dest.append(dict2[df_flights['dest'][i]][0][0])\n",
    "    longi_dest.append(dict2[df_flights['dest'][i]][0][1])"
   ]
  },
  {
   "cell_type": "raw",
   "metadata": {},
   "source": [
    "15927484"
   ]
  },
  {
   "cell_type": "raw",
   "metadata": {},
   "source": [
    "df_flights.shape"
   ]
  },
  {
   "cell_type": "raw",
   "metadata": {},
   "source": [
    "len(lati)"
   ]
  },
  {
   "cell_type": "raw",
   "metadata": {},
   "source": [
    "df_flights['ori_latitude']=lati\n",
    "df_flights['ori_longitude']=longi\n",
    "df_flights['dest_latitude']=lati_dest\n",
    "df_flights['dest_longitude']=longi_dest"
   ]
  },
  {
   "cell_type": "markdown",
   "metadata": {},
   "source": [
    "# optimizing datatypes in dataframe\n",
    "\n",
    "https://www.dataquest.io/blog/pandas-big-data/"
   ]
  },
  {
   "cell_type": "code",
   "execution_count": 54,
   "metadata": {},
   "outputs": [
    {
     "name": "stderr",
     "output_type": "stream",
     "text": [
      "/opt/anaconda3/envs/bootcamp_env/lib/python3.7/site-packages/IPython/core/interactiveshell.py:3072: DtypeWarning: Columns (25) have mixed types.Specify dtype option on import or set low_memory=False.\n",
      "  interactivity=interactivity, compiler=compiler, result=result)\n"
     ]
    }
   ],
   "source": [
    "df_flights=pd.read_csv(path+'flights.csv')"
   ]
  },
  {
   "cell_type": "raw",
   "metadata": {
    "jupyter": {
     "outputs_hidden": true
    }
   },
   "source": [
    "df_flights.info(memory_usage='deep')"
   ]
  },
  {
   "cell_type": "raw",
   "metadata": {},
   "source": [
    "for dtype in ['float','int','object']:\n",
    "    selected_dtype = df_flights.select_dtypes(include=[dtype])\n",
    "    mean_usage_b = selected_dtype.memory_usage(deep=True).mean()\n",
    "    mean_usage_mb = mean_usage_b / 1024 ** 2\n",
    "    print(\"Average memory usage for {} columns: {:03.2f} MB\".format(dtype,mean_usage_mb))"
   ]
  },
  {
   "cell_type": "raw",
   "metadata": {},
   "source": [
    "# We're going to be calculating memory usage a lot,\n",
    "# so we'll create a function to save us some time!\n",
    "def mem_usage(pandas_obj):\n",
    "    if isinstance(pandas_obj,pd.DataFrame):\n",
    "        usage_b = pandas_obj.memory_usage(deep=True).sum()\n",
    "    else: # we assume if not a df it's a series\n",
    "        usage_b = pandas_obj.memory_usage(deep=True)\n",
    "    usage_mb = usage_b / 1024 ** 2 # convert bytes to megabytes\n",
    "    return \"{:03.2f} MB\".format(usage_mb)"
   ]
  },
  {
   "cell_type": "raw",
   "metadata": {},
   "source": [
    "### integers\n",
    "gl_int = df_flights.select_dtypes(include=['int'])\n",
    "converted_int = gl_int.apply(pd.to_numeric,downcast='unsigned')\n",
    "print(mem_usage(gl_int))\n",
    "print(mem_usage(converted_int))\n",
    "compare_ints = pd.concat([gl_int.dtypes,converted_int.dtypes],axis=1)\n",
    "compare_ints.columns = ['before','after']\n",
    "compare_ints.apply(pd.Series.value_counts)\n",
    "\n",
    "### floats\n",
    "gl_float = df_flights.select_dtypes(include=['float'])\n",
    "converted_float = gl_float.apply(pd.to_numeric,downcast='float')\n",
    "print(mem_usage(gl_float))\n",
    "print(mem_usage(converted_float))\n",
    "compare_floats = pd.concat([gl_float.dtypes,converted_float.dtypes],axis=1)\n",
    "compare_floats.columns = ['before','after']\n",
    "compare_floats.apply(pd.Series.value_counts)"
   ]
  },
  {
   "cell_type": "raw",
   "metadata": {},
   "source": [
    "### Optimize for numeric\n",
    "optimized_gl = df_flights.copy()\n",
    "optimized_gl[converted_int.columns] = converted_int\n",
    "optimized_gl[converted_float.columns] = converted_float\n",
    "print(mem_usage(df_flights))\n",
    "print(mem_usage(optimized_gl))"
   ]
  },
  {
   "cell_type": "raw",
   "metadata": {},
   "source": [
    "opt_flights=optimized_gl.drop(['mkt_unique_carrier','branded_code_share','mkt_carrier','dup','dest_city_name','origin_city_name'],axis=1)"
   ]
  },
  {
   "cell_type": "raw",
   "metadata": {},
   "source": [
    "print(mem_usage(opt_flights))"
   ]
  },
  {
   "cell_type": "raw",
   "metadata": {},
   "source": [
    "opt_flights=copy.deepcopy(optimized_gl)"
   ]
  },
  {
   "cell_type": "raw",
   "metadata": {},
   "source": [
    "flight_date=opt_flights['fl_date']\n",
    "opt_flights=opt_flights.drop('fl_date',axis=1)"
   ]
  },
  {
   "cell_type": "raw",
   "metadata": {},
   "source": [
    "gl_obj = opt_flights.select_dtypes(include=['object']).copy()\n",
    "gl_obj.describe()"
   ]
  },
  {
   "cell_type": "raw",
   "metadata": {},
   "source": [
    "converted_obj = pd.DataFrame()\n",
    "for col in gl_obj.columns:\n",
    "    num_unique_values = len(gl_obj[col].unique())\n",
    "    num_total_values = len(gl_obj[col])\n",
    "    if num_unique_values / num_total_values < 0.5:\n",
    "        converted_obj.loc[:,col] = gl_obj[col].astype('category')\n",
    "    else:\n",
    "        converted_obj.loc[:,col] = gl_obj[col]"
   ]
  },
  {
   "cell_type": "raw",
   "metadata": {},
   "source": [
    "print(mem_usage(gl_obj))\n",
    "print(mem_usage(converted_obj))\n",
    "compare_obj = pd.concat([gl_obj.dtypes,converted_obj.dtypes],axis=1)\n",
    "compare_obj.columns = ['before','after']\n",
    "compare_obj.apply(pd.Series.value_counts)"
   ]
  },
  {
   "cell_type": "raw",
   "metadata": {},
   "source": [
    "opt_flights[converted_obj.columns] = converted_obj\n",
    "mem_usage(opt_flights)"
   ]
  },
  {
   "cell_type": "raw",
   "metadata": {},
   "source": [
    "opt_flights.columns"
   ]
  },
  {
   "cell_type": "raw",
   "metadata": {},
   "source": [
    "dtypes = opt_flights.dtypes\n",
    "dtypes_col = dtypes.index\n",
    "dtypes_type = [i.name for i in dtypes.values]\n",
    "column_types = dict(zip(dtypes_col, dtypes_type))\n",
    "# rather than print all 161 items, we'll\n",
    "# sample 10 key/value pairs from the dict\n",
    "# and print it nicely using prettyprint\n",
    "preview = first2pairs = {key:value for key,value in list(column_types.items())[:10]}\n",
    "#import pprintpp\n",
    "#pp = pp = pprint.PrettyPrinter(indent=4)\n",
    "print(preview)"
   ]
  },
  {
   "cell_type": "markdown",
   "metadata": {},
   "source": [
    "### Strange fix to add missing lat/long to table"
   ]
  },
  {
   "cell_type": "raw",
   "metadata": {},
   "source": [
    "opt_flights[opt_flights['ori_latitude'].isnull()]['origin'].unique()"
   ]
  },
  {
   "cell_type": "raw",
   "metadata": {},
   "source": [
    "opt_flights[opt_flights['dest_latitude'].isnull()]['dest'].unique()"
   ]
  },
  {
   "cell_type": "raw",
   "metadata": {},
   "source": [
    "#'ECP' 30.3549° N, -85.7995\n",
    "#'PBG' 44.6521° N, -73.4679"
   ]
  },
  {
   "cell_type": "raw",
   "metadata": {},
   "source": [
    "#adding lat/lon for ECP\n",
    "opt_flights.loc[opt_flights['origin']=='ECP', 'ori_latitude']=30.3549\n",
    "opt_flights.loc[opt_flights['origin']=='ECP','ori_longitude']=-85.7995\n",
    "opt_flights.loc[opt_flights['dest']=='ECP','dest_latitude']=30.3549\n",
    "opt_flights.loc[opt_flights['dest']=='ECP','dest_longitude']=-85.7995"
   ]
  },
  {
   "cell_type": "raw",
   "metadata": {},
   "source": [
    "#adding lat/lon for PBG\n",
    "opt_flights.loc[opt_flights['origin']=='PBG', 'ori_latitude']=44.6521\n",
    "opt_flights.loc[opt_flights['origin']=='PBG','ori_longitude']=-73.4679\n",
    "opt_flights.loc[opt_flights['dest']=='PBG','dest_latitude']=44.6521\n",
    "opt_flights.loc[opt_flights['dest']=='PBG','dest_longitude']=-73.4679"
   ]
  },
  {
   "cell_type": "markdown",
   "metadata": {},
   "source": [
    "# Start Here"
   ]
  },
  {
   "cell_type": "markdown",
   "metadata": {},
   "source": [
    "## Read in data from saved .csv dataframes"
   ]
  },
  {
   "cell_type": "code",
   "execution_count": 36,
   "metadata": {},
   "outputs": [],
   "source": [
    "column_types={'mkt_carrier_fl_num': 'uint16', 'op_unique_carrier': 'category', 'tail_num': 'category', 'op_carrier_fl_num': 'uint16', 'origin_airport_id': 'uint16', 'origin': 'category', 'dest_airport_id': 'uint16', 'dest': 'category', 'crs_dep_time': 'uint16', 'dep_time': 'float32'}"
   ]
  },
  {
   "cell_type": "code",
   "execution_count": 39,
   "metadata": {},
   "outputs": [],
   "source": [
    "flight_A=pd.read_csv(path+'flights_with_weather_first.csv',dtype=column_types,parse_dates=['date'],infer_datetime_format=True)"
   ]
  },
  {
   "cell_type": "code",
   "execution_count": 41,
   "metadata": {},
   "outputs": [],
   "source": [
    "flight_A=flight_A.drop('Unnamed: 0',axis=1)"
   ]
  },
  {
   "cell_type": "code",
   "execution_count": 55,
   "metadata": {},
   "outputs": [
    {
     "data": {
      "text/plain": [
       "mkt_unique_carrier      object\n",
       "branded_code_share      object\n",
       "mkt_carrier_fl_num      uint16\n",
       "tail_num              category\n",
       "origin                category\n",
       "dest                  category\n",
       "crs_dep_time            uint16\n",
       "dep_delay              float64\n",
       "crs_arr_time             int64\n",
       "arr_time               float64\n",
       "arr_delay              float64\n",
       "distance                 int64\n",
       "year                     int64\n",
       "month                    int64\n",
       "date                    object\n",
       "latitude               float64\n",
       "longitude              float64\n",
       "wdir                   float64\n",
       "period                  object\n",
       "temp                   float64\n",
       "maxt                   float64\n",
       "visibility             float64\n",
       "wspd                   float64\n",
       "heatindex              float64\n",
       "cloudcover             float64\n",
       "mint                   float64\n",
       "precip                 float64\n",
       "snowdepth              float64\n",
       "sealevelpressure       float64\n",
       "dew                    float64\n",
       "humidity               float64\n",
       "wgust                  float64\n",
       "precipcover            float64\n",
       "windchill              float64\n",
       "closest_airport         object\n",
       "dtype: object"
      ]
     },
     "execution_count": 55,
     "metadata": {},
     "output_type": "execute_result"
    }
   ],
   "source": [
    "flight_A.dtypes"
   ]
  },
  {
   "cell_type": "code",
   "execution_count": 53,
   "metadata": {},
   "outputs": [
    {
     "data": {
      "text/html": [
       "<div>\n",
       "<style scoped>\n",
       "    .dataframe tbody tr th:only-of-type {\n",
       "        vertical-align: middle;\n",
       "    }\n",
       "\n",
       "    .dataframe tbody tr th {\n",
       "        vertical-align: top;\n",
       "    }\n",
       "\n",
       "    .dataframe thead th {\n",
       "        text-align: right;\n",
       "    }\n",
       "</style>\n",
       "<table border=\"1\" class=\"dataframe\">\n",
       "  <thead>\n",
       "    <tr style=\"text-align: right;\">\n",
       "      <th></th>\n",
       "      <th>Variable</th>\n",
       "      <th>data_type</th>\n",
       "    </tr>\n",
       "  </thead>\n",
       "  <tbody>\n",
       "    <tr>\n",
       "      <th>0</th>\n",
       "      <td>mkt_unique_carrier</td>\n",
       "      <td>object</td>\n",
       "    </tr>\n",
       "    <tr>\n",
       "      <th>1</th>\n",
       "      <td>branded_code_share</td>\n",
       "      <td>object</td>\n",
       "    </tr>\n",
       "    <tr>\n",
       "      <th>2</th>\n",
       "      <td>tail_num</td>\n",
       "      <td>category</td>\n",
       "    </tr>\n",
       "    <tr>\n",
       "      <th>3</th>\n",
       "      <td>origin</td>\n",
       "      <td>category</td>\n",
       "    </tr>\n",
       "    <tr>\n",
       "      <th>4</th>\n",
       "      <td>dest</td>\n",
       "      <td>category</td>\n",
       "    </tr>\n",
       "    <tr>\n",
       "      <th>5</th>\n",
       "      <td>date</td>\n",
       "      <td>object</td>\n",
       "    </tr>\n",
       "    <tr>\n",
       "      <th>6</th>\n",
       "      <td>period</td>\n",
       "      <td>object</td>\n",
       "    </tr>\n",
       "    <tr>\n",
       "      <th>7</th>\n",
       "      <td>closest_airport</td>\n",
       "      <td>object</td>\n",
       "    </tr>\n",
       "  </tbody>\n",
       "</table>\n",
       "</div>"
      ],
      "text/plain": [
       "             Variable data_type\n",
       "0  mkt_unique_carrier    object\n",
       "1  branded_code_share    object\n",
       "2            tail_num  category\n",
       "3              origin  category\n",
       "4                dest  category\n",
       "5                date    object\n",
       "6              period    object\n",
       "7     closest_airport    object"
      ]
     },
     "execution_count": 53,
     "metadata": {},
     "output_type": "execute_result"
    }
   ],
   "source": [
    "pd.DataFrame(flight_A.dtypes[(flight_A.dtypes=='object')|(flight_A.dtypes=='category')]).reset_index().rename(columns={'index':'Variable',0:'data_type'})"
   ]
  },
  {
   "cell_type": "raw",
   "metadata": {},
   "source": [
    "opt_flights= pd.read_csv(path+'df_flights.csv',dtype=column_types,parse_dates=['fl_date'],infer_datetime_format=True)"
   ]
  },
  {
   "cell_type": "raw",
   "metadata": {},
   "source": [
    "opt_flights=opt_flights.drop('Unnamed: 0',axis=1)"
   ]
  },
  {
   "cell_type": "raw",
   "metadata": {},
   "source": [
    "### If date and month are not in column then run this cell\n",
    "opt_flights['fl_date']=opt_flights['fl_date'].astype('datetime64[ns]')\n",
    "opt_flights['month']=opt_flights['fl_date'].dt.month"
   ]
  },
  {
   "cell_type": "markdown",
   "metadata": {},
   "source": [
    "# Weather"
   ]
  },
  {
   "cell_type": "code",
   "execution_count": 5,
   "metadata": {},
   "outputs": [],
   "source": [
    "#read in weather info Dataframe\n",
    "A_W=pd.read_csv(path+'agg_weath_10_26.csv')\n",
    "A_W=A_W.drop('Unnamed: 0',axis=1)"
   ]
  },
  {
   "cell_type": "code",
   "execution_count": 86,
   "metadata": {},
   "outputs": [
    {
     "data": {
      "text/html": [
       "<div>\n",
       "<style scoped>\n",
       "    .dataframe tbody tr th:only-of-type {\n",
       "        vertical-align: middle;\n",
       "    }\n",
       "\n",
       "    .dataframe tbody tr th {\n",
       "        vertical-align: top;\n",
       "    }\n",
       "\n",
       "    .dataframe thead th {\n",
       "        text-align: right;\n",
       "    }\n",
       "</style>\n",
       "<table border=\"1\" class=\"dataframe\">\n",
       "  <thead>\n",
       "    <tr style=\"text-align: right;\">\n",
       "      <th></th>\n",
       "      <th>latitude</th>\n",
       "      <th>longitude</th>\n",
       "    </tr>\n",
       "  </thead>\n",
       "  <tbody>\n",
       "    <tr>\n",
       "      <th>10</th>\n",
       "      <td>26.919414</td>\n",
       "      <td>-81.993028</td>\n",
       "    </tr>\n",
       "    <tr>\n",
       "      <th>11</th>\n",
       "      <td>26.919414</td>\n",
       "      <td>-81.993028</td>\n",
       "    </tr>\n",
       "    <tr>\n",
       "      <th>12</th>\n",
       "      <td>29.647149</td>\n",
       "      <td>-95.276926</td>\n",
       "    </tr>\n",
       "    <tr>\n",
       "      <th>13</th>\n",
       "      <td>29.647149</td>\n",
       "      <td>-95.276926</td>\n",
       "    </tr>\n",
       "  </tbody>\n",
       "</table>\n",
       "</div>"
      ],
      "text/plain": [
       "     latitude  longitude\n",
       "10  26.919414 -81.993028\n",
       "11  26.919414 -81.993028\n",
       "12  29.647149 -95.276926\n",
       "13  29.647149 -95.276926"
      ]
     },
     "execution_count": 86,
     "metadata": {},
     "output_type": "execute_result"
    }
   ],
   "source": [
    "A_W[['latitude','longitude']].iloc[10:14]"
   ]
  },
  {
   "cell_type": "code",
   "execution_count": null,
   "metadata": {},
   "outputs": [],
   "source": []
  },
  {
   "cell_type": "markdown",
   "metadata": {},
   "source": [
    "\n",
    "explanation for lat/lon closest to point code\n",
    "\n",
    "https://stackoverflow.com/questions/41336756/find-the-closest-latitude-and-longitude"
   ]
  },
  {
   "cell_type": "raw",
   "metadata": {},
   "source": [
    "#combining lat/long so that I can ensure they stay together when I search for unique values\n",
    "combo_=[]\n",
    "for i in range(len(A_W)):\n",
    "    combo_.append((A_W['latitude'][i],A_W['longitude'][i],A_W['origin'][i]))\n",
    "A_W['combo']=combo_\n",
    "len(A_W['combo'].unique())"
   ]
  },
  {
   "cell_type": "raw",
   "metadata": {},
   "source": [
    "A_W.columns"
   ]
  },
  {
   "cell_type": "code",
   "execution_count": 13,
   "metadata": {},
   "outputs": [
    {
     "data": {
      "text/plain": [
       "array([ 5,  2,  9,  4,  7,  3,  1,  8, 10, 11,  6, 12])"
      ]
     },
     "execution_count": 13,
     "metadata": {},
     "output_type": "execute_result"
    }
   ],
   "source": [
    "opt_flights['month'].unique()"
   ]
  },
  {
   "cell_type": "raw",
   "metadata": {},
   "source": [
    "#initialize month dictionary\n",
    "values=np.arange(1,13)\n",
    "keys=list(A_W['period'].unique())\n",
    "month_dict=dict(zip(keys, values))\n",
    "month_dict"
   ]
  },
  {
   "cell_type": "raw",
   "metadata": {},
   "source": [
    "len(A_W)"
   ]
  },
  {
   "cell_type": "raw",
   "metadata": {},
   "source": [
    "#Add month number column (convert from abbrev)\n",
    "month_=[]\n",
    "for i in range(len(A_W)):\n",
    "    month_.append(month_dict[A_W['period'][i]])"
   ]
  },
  {
   "cell_type": "raw",
   "metadata": {},
   "source": [
    "A_W['month']=month_"
   ]
  },
  {
   "cell_type": "raw",
   "metadata": {},
   "source": [
    "NEED TO ASSIGN VALUES FOR WEATHER BASED ON A_W.\n",
    "\n",
    "First, check lat lon for row in flights_df and determine which unique city in A_W is closest (22 available options)\n",
    "\n",
    "Once this is done, find out which month the flights_df is from and assign corresponding weather values to that row based on the month.\n"
   ]
  },
  {
   "cell_type": "markdown",
   "metadata": {},
   "source": [
    "# Calculating nearest airport based on lat/lon"
   ]
  },
  {
   "cell_type": "code",
   "execution_count": 13,
   "metadata": {},
   "outputs": [],
   "source": [
    "from math import cos, asin, sqrt\n",
    "\n",
    "def distance(lat1, lon1, lat2, lon2):\n",
    "    p = 0.017453292519943295\n",
    "    a = 0.5 - cos((lat2-lat1)*p)/2 + cos(lat1*p)*cos(lat2*p) * (1-cos((lon2-lon1)*p)) / 2\n",
    "    return 12742 * asin(sqrt(a))\n",
    "\n",
    "def closest(data, v):\n",
    "    return min(data, key=lambda p: distance(v['lat'],v['lon'],p['lat'],p['lon']))"
   ]
  },
  {
   "cell_type": "raw",
   "metadata": {},
   "source": [
    "## EXAMPLE\n",
    "# tempDataList = [{'lat': 39.7612992, 'lon': -86.1519681}, \n",
    "#                 {'lat': 39.762241,  'lon': -86.158436 }, \n",
    "#                 {'lat': 39.7622292, 'lon': -86.1578917}]\n",
    "\n",
    "# v = {'lat': 39.7622290, 'lon': -86.1519750}\n",
    "# print(closest(tempDataList, v))"
   ]
  },
  {
   "cell_type": "raw",
   "metadata": {},
   "source": [
    "A_W['combo'].unique()[0][2]"
   ]
  },
  {
   "cell_type": "raw",
   "metadata": {},
   "source": [
    "tempDataList=[]\n",
    "for i in range(len(list(A_W['combo'].unique()))):\n",
    "    tempDataList.append({'lat':A_W['combo'].unique()[i][0],'lon':A_W['combo'].unique()[i][1],'org':A_W['combo'].unique()[i][2]})"
   ]
  },
  {
   "cell_type": "raw",
   "metadata": {},
   "source": [
    "#saved to dataframe\n",
    "pd.DataFrame(tempDataList).to_csv(path+'weather_dict.csv')"
   ]
  },
  {
   "cell_type": "code",
   "execution_count": 5,
   "metadata": {},
   "outputs": [],
   "source": [
    "#build dictionary tempDataList from path+'weather_dict.csv'\n",
    "tempDataList_df=pd.read_csv(path+'weather_dict.csv')"
   ]
  },
  {
   "cell_type": "code",
   "execution_count": 8,
   "metadata": {},
   "outputs": [
    {
     "data": {
      "text/plain": [
       "Index(['Unnamed: 0', 'lat', 'lon', 'org'], dtype='object')"
      ]
     },
     "execution_count": 8,
     "metadata": {},
     "output_type": "execute_result"
    }
   ],
   "source": [
    "tempDataList_df.columns"
   ]
  },
  {
   "cell_type": "code",
   "execution_count": 10,
   "metadata": {},
   "outputs": [],
   "source": [
    "tempDataList_df=tempDataList_df.drop('Unnamed: 0',axis=1)"
   ]
  },
  {
   "cell_type": "code",
   "execution_count": 20,
   "metadata": {},
   "outputs": [],
   "source": [
    "tempDataList=list(tempDataList_df.T.to_dict().values())"
   ]
  },
  {
   "cell_type": "code",
   "execution_count": 21,
   "metadata": {},
   "outputs": [
    {
     "data": {
      "text/plain": [
       "[{'lat': 26.9194137, 'lon': -81.9930281031229, 'org': 'PGD'},\n",
       " {'lat': 29.64714905, 'lon': -95.27692608634595, 'org': 'HOU'},\n",
       " {'lat': 38.95226625, 'lon': -77.45342297783296, 'org': 'IAD'},\n",
       " {'lat': 43.590338, 'lon': -79.645729, 'org': 'ONT'},\n",
       " {'lat': 20.89527825, 'lon': -156.4328644795689, 'org': 'OGG'},\n",
       " {'lat': 59.8474657, 'lon': 17.63105350585749, 'org': 'SGU'},\n",
       " {'lat': 49.88527, 'lon': 2.80813, 'org': 'FAY'},\n",
       " {'lat': 52.52183095, 'lon': 13.363127119018849, 'org': 'BMI'},\n",
       " {'lat': 36.638392, 'lon': 127.6961188, 'org': 'SAN'},\n",
       " {'lat': 46.56681015, 'lon': -120.53679819122014, 'org': 'YKM'},\n",
       " {'lat': 42.4036084, 'lon': -96.3836488, 'org': 'SUX'},\n",
       " {'lat': 43.2768745, 'lon': 0.092596, 'org': 'BUR'},\n",
       " {'lat': 41.31116815, 'lon': -8.453010682764061, 'org': 'STS'},\n",
       " {'lat': 45.6705089, 'lon': 24.1822969, 'org': 'COD'},\n",
       " {'lat': 15.510172400000002, 'lon': -12.850290199999998, 'org': 'MGM'},\n",
       " {'lat': 26.8106778, 'lon': 80.89093790000003, 'org': 'MKG'},\n",
       " {'lat': 12.91127585, 'lon': 77.60456543431181, 'org': 'BTM'},\n",
       " {'lat': 35.000074, 'lon': 104.999927, 'org': 'GPT'},\n",
       " {'lat': 33.94216754999999, 'lon': -118.42137629872809, 'org': 'LAX'},\n",
       " {'lat': 31.9420729, 'lon': 35.22244170000001, 'org': 'BET'},\n",
       " {'lat': 38.840122, 'lon': 40.646145, 'org': 'DIK'},\n",
       " {'lat': 34.0932395, 'lon': 35.6482127, 'org': 'IPT'}]"
      ]
     },
     "execution_count": 21,
     "metadata": {},
     "output_type": "execute_result"
    }
   ],
   "source": [
    "tempDataList"
   ]
  },
  {
   "cell_type": "code",
   "execution_count": 22,
   "metadata": {},
   "outputs": [
    {
     "name": "stdout",
     "output_type": "stream",
     "text": [
      "{'lat': 43.590338, 'lon': -79.645729, 'org': 'ONT'}\n"
     ]
    }
   ],
   "source": [
    "print(closest(tempDataList,{'lat': 39.7622290, 'lon': -86.1519750}))"
   ]
  },
  {
   "cell_type": "code",
   "execution_count": 37,
   "metadata": {},
   "outputs": [
    {
     "name": "stdout",
     "output_type": "stream",
     "text": [
      "{'lat': 33.94216754999999, 'lon': -118.42137629872809, 'org': 'LAX'}\n",
      "{'lat': 33.94216754999999, 'lon': -118.42137629872809, 'org': 'LAX'}\n"
     ]
    }
   ],
   "source": [
    "#### THIS TEST SEEMS TO BE WORKING\n",
    "#for i in range(test_df):\n",
    "for i in range(2):\n",
    "    print(closest(tempDataList,{'lat':opt_flights['ori_latitude'][i],'lon':opt_flights['ori_longitude'][i]}))\n",
    "    "
   ]
  },
  {
   "cell_type": "code",
   "execution_count": 30,
   "metadata": {},
   "outputs": [],
   "source": [
    "aw_vars=['wdir', 'period', 'temp', 'maxt', 'visibility', 'wspd',\n",
    "       'heatindex', 'cloudcover', 'mint', 'precip', 'snowdepth',\n",
    "       'sealevelpressure', 'dew', 'humidity', 'wgust', 'precipcover',\n",
    "       'windchill']"
   ]
  },
  {
   "cell_type": "code",
   "execution_count": 31,
   "metadata": {},
   "outputs": [],
   "source": [
    "ori_vars=['wdir_ori', 'period_ori', 'temp_ori', 'maxt_ori', 'visibility_ori',\n",
    "       'wspd_ori', 'heatindex_ori', 'cloudcover_ori', 'mint_ori', 'precip_ori',\n",
    "       'snowdepth_ori', 'sealevelpressure_ori', 'dew_ori', 'humidity_ori',\n",
    "       'wgust_ori', 'precipcover_ori', 'windchill_ori']"
   ]
  },
  {
   "cell_type": "code",
   "execution_count": 32,
   "metadata": {},
   "outputs": [],
   "source": [
    "dest_vars=['wdir_dest',\n",
    "       'period_dest', 'temp_dest', 'maxt_dest', 'visibility_dest', 'wspd_dest',\n",
    "       'heatindex_dest', 'cloudcover_dest', 'mint_dest', 'precip_dest',\n",
    "       'snowdepth_dest', 'sealevelpressure_dest', 'dew_dest', 'humidity_dest',\n",
    "       'wgust_dest', 'precipcover_dest', 'windchill_dest']"
   ]
  },
  {
   "cell_type": "code",
   "execution_count": 82,
   "metadata": {},
   "outputs": [
    {
     "data": {
      "text/html": [
       "<div>\n",
       "<style scoped>\n",
       "    .dataframe tbody tr th:only-of-type {\n",
       "        vertical-align: middle;\n",
       "    }\n",
       "\n",
       "    .dataframe tbody tr th {\n",
       "        vertical-align: top;\n",
       "    }\n",
       "\n",
       "    .dataframe thead th {\n",
       "        text-align: right;\n",
       "    }\n",
       "</style>\n",
       "<table border=\"1\" class=\"dataframe\">\n",
       "  <thead>\n",
       "    <tr style=\"text-align: right;\">\n",
       "      <th></th>\n",
       "      <th>wdir</th>\n",
       "      <th>period</th>\n",
       "      <th>temp</th>\n",
       "      <th>maxt</th>\n",
       "      <th>visibility</th>\n",
       "      <th>wspd</th>\n",
       "      <th>heatindex</th>\n",
       "      <th>cloudcover</th>\n",
       "      <th>mint</th>\n",
       "      <th>precip</th>\n",
       "      <th>snowdepth</th>\n",
       "      <th>sealevelpressure</th>\n",
       "      <th>dew</th>\n",
       "      <th>humidity</th>\n",
       "      <th>wgust</th>\n",
       "      <th>precipcover</th>\n",
       "      <th>windchill</th>\n",
       "    </tr>\n",
       "  </thead>\n",
       "  <tbody>\n",
       "    <tr>\n",
       "      <th>216</th>\n",
       "      <td>155.18</td>\n",
       "      <td>Jan</td>\n",
       "      <td>59.3</td>\n",
       "      <td>87.8</td>\n",
       "      <td>8.7</td>\n",
       "      <td>31.4</td>\n",
       "      <td>84.2</td>\n",
       "      <td>45.4</td>\n",
       "      <td>40.0</td>\n",
       "      <td>6.98</td>\n",
       "      <td>NaN</td>\n",
       "      <td>1018.8</td>\n",
       "      <td>44.4</td>\n",
       "      <td>64.04</td>\n",
       "      <td>40.0</td>\n",
       "      <td>7.4</td>\n",
       "      <td>35.2</td>\n",
       "    </tr>\n",
       "  </tbody>\n",
       "</table>\n",
       "</div>"
      ],
      "text/plain": [
       "       wdir period  temp  maxt  visibility  wspd  heatindex  cloudcover  mint  \\\n",
       "216  155.18    Jan  59.3  87.8         8.7  31.4       84.2        45.4  40.0   \n",
       "\n",
       "     precip  snowdepth  sealevelpressure   dew  humidity  wgust  precipcover  \\\n",
       "216    6.98        NaN            1018.8  44.4     64.04   40.0          7.4   \n",
       "\n",
       "     windchill  \n",
       "216       35.2  "
      ]
     },
     "execution_count": 82,
     "metadata": {},
     "output_type": "execute_result"
    }
   ],
   "source": [
    "A_W.loc[(A_W['origin']=='LAX')&(A_W['month']==1)][aw_vars]\n",
    "#opt_flights.loc[(opt_flights['origin']=='LAX') & (opt_flights['month']==1), ori_vars]"
   ]
  },
  {
   "cell_type": "markdown",
   "metadata": {},
   "source": [
    "# Create Dataframe key with 376 unique airports, and the month "
   ]
  },
  {
   "cell_type": "code",
   "execution_count": null,
   "metadata": {},
   "outputs": [],
   "source": []
  },
  {
   "cell_type": "raw",
   "metadata": {},
   "source": [
    "len(opt_flights['ori_latitude'].unique())"
   ]
  },
  {
   "cell_type": "raw",
   "metadata": {},
   "source": [
    "len(np.arange(1,13))"
   ]
  },
  {
   "cell_type": "raw",
   "metadata": {},
   "source": [
    "import itertools\n",
    "lst = range(1,13)\n",
    "months_=list(itertools.chain.from_iterable(itertools.repeat(x, 376) for x in lst))\n",
    "len(months_)"
   ]
  },
  {
   "cell_type": "raw",
   "metadata": {},
   "source": [
    "org_=list(opt_flights['origin'].unique())*12"
   ]
  },
  {
   "cell_type": "raw",
   "metadata": {},
   "source": [
    "len(org_)"
   ]
  },
  {
   "cell_type": "raw",
   "metadata": {},
   "source": [
    "org_lat=list(opt_flights['ori_latitude'].unique())*12\n",
    "org_lon=list(opt_flights['ori_longitude'].unique())*12"
   ]
  },
  {
   "cell_type": "raw",
   "metadata": {},
   "source": [
    "print(len(org_lat))\n",
    "print(len(org_lon))"
   ]
  },
  {
   "cell_type": "raw",
   "metadata": {},
   "source": [
    "weather_key=pd.DataFrame([org_,months_,org_lat,org_lon])"
   ]
  },
  {
   "cell_type": "raw",
   "metadata": {},
   "source": [
    "weather_key=weather_key.T.rename(columns={0:'origin',1:'month',2:'latitude',3:'longitude'})"
   ]
  },
  {
   "cell_type": "raw",
   "metadata": {},
   "source": [
    "weather_key.shape"
   ]
  },
  {
   "cell_type": "raw",
   "metadata": {},
   "source": [
    "weather_key.head()"
   ]
  },
  {
   "cell_type": "raw",
   "metadata": {},
   "source": [
    "aw_vars=['wdir', 'period', 'temp', 'maxt', 'visibility', 'wspd',\n",
    "       'heatindex', 'cloudcover', 'mint', 'precip', 'snowdepth',\n",
    "       'sealevelpressure', 'dew', 'humidity', 'wgust', 'precipcover',\n",
    "       'windchill']"
   ]
  },
  {
   "cell_type": "raw",
   "metadata": {},
   "source": [
    "Add column closest airport"
   ]
  },
  {
   "cell_type": "raw",
   "metadata": {},
   "source": [
    "closest_airport=[]\n",
    "for i in range(len(weather_key)):\n",
    "    closest_airport.append(closest(tempDataList,{'lat':weather_key['latitude'][i],'lon': weather_key['longitude'][i]})['org'])"
   ]
  },
  {
   "cell_type": "raw",
   "metadata": {},
   "source": [
    "weather_key['closest_airport']=closest_airport"
   ]
  },
  {
   "cell_type": "raw",
   "metadata": {},
   "source": [
    "#adding columns in weather_key that have empty values to be filled with info from A_W\n",
    "for par in aw_vars:\n",
    "    weather_key[par]=None"
   ]
  },
  {
   "cell_type": "raw",
   "metadata": {},
   "source": [
    "weather_key.shape"
   ]
  },
  {
   "cell_type": "raw",
   "metadata": {},
   "source": [
    "weather_key.columns"
   ]
  },
  {
   "cell_type": "raw",
   "metadata": {},
   "source": [
    "\n",
    "# BUILD WEATHER KEY by referencing A_W weather vars\n",
    "\n",
    "for i in range(len(weather_key)):\n",
    "    weather_key.loc[(weather_key['origin']==weather_key['origin'][i]) & (weather_key['month']==weather_key['month'][i]), aw_vars]=A_W.loc[(A_W['origin']==weather_key['closest_airport'][i])&(A_W['month']==weather_key['month'][i])][aw_vars].values\n",
    "    "
   ]
  },
  {
   "cell_type": "raw",
   "metadata": {},
   "source": [
    "#save to csv\n",
    "weather_key.to_csv(path+'wkey.csv')"
   ]
  },
  {
   "cell_type": "code",
   "execution_count": 23,
   "metadata": {},
   "outputs": [],
   "source": [
    "#read weather_key into dataframe\n",
    "weather_key=pd.read_csv(path+'wkey.csv')\n",
    "weather_key=weather_key.drop(['Unnamed: 0','period'],axis=1)"
   ]
  },
  {
   "cell_type": "code",
   "execution_count": null,
   "metadata": {},
   "outputs": [],
   "source": []
  },
  {
   "cell_type": "markdown",
   "metadata": {},
   "source": [
    "# try merge"
   ]
  },
  {
   "cell_type": "code",
   "execution_count": 169,
   "metadata": {},
   "outputs": [
    {
     "data": {
      "text/plain": [
       "Index(['origin', 'month', 'latitude', 'longitude', 'wdir', 'period', 'temp',\n",
       "       'maxt', 'visibility', 'wspd', 'heatindex', 'cloudcover', 'mint',\n",
       "       'precip', 'snowdepth', 'sealevelpressure', 'dew', 'humidity', 'wgust',\n",
       "       'precipcover', 'windchill', 'closest_airport'],\n",
       "      dtype='object')"
      ]
     },
     "execution_count": 169,
     "metadata": {},
     "output_type": "execute_result"
    }
   ],
   "source": [
    "weather_key.columns"
   ]
  },
  {
   "cell_type": "code",
   "execution_count": 171,
   "metadata": {},
   "outputs": [
    {
     "data": {
      "text/plain": [
       "Index(['mkt_carrier_fl_num', 'op_unique_carrier', 'tail_num',\n",
       "       'op_carrier_fl_num', 'origin_airport_id', 'origin', 'dest_airport_id',\n",
       "       'dest', 'crs_dep_time', 'dep_time', 'dep_delay', 'taxi_out',\n",
       "       'wheels_off', 'wheels_on', 'taxi_in', 'crs_arr_time', 'arr_time',\n",
       "       'arr_delay', 'cancelled', 'cancellation_code', 'diverted',\n",
       "       'crs_elapsed_time', 'actual_elapsed_time', 'air_time', 'flights',\n",
       "       'distance', 'carrier_delay', 'weather_delay', 'nas_delay',\n",
       "       'security_delay', 'late_aircraft_delay', 'first_dep_time',\n",
       "       'total_add_gtime', 'longest_add_gtime', 'no_name', 'ori_latitude',\n",
       "       'ori_longitude', 'dest_latitude', 'dest_longitude', 'fl_date', 'month'],\n",
       "      dtype='object')"
      ]
     },
     "execution_count": 171,
     "metadata": {},
     "output_type": "execute_result"
    }
   ],
   "source": [
    "opt_flights.columns"
   ]
  },
  {
   "cell_type": "code",
   "execution_count": 172,
   "metadata": {},
   "outputs": [
    {
     "data": {
      "text/plain": [
       "(15927485, 41)"
      ]
     },
     "execution_count": 172,
     "metadata": {},
     "output_type": "execute_result"
    }
   ],
   "source": [
    "opt_flights.shape"
   ]
  },
  {
   "cell_type": "code",
   "execution_count": 174,
   "metadata": {},
   "outputs": [],
   "source": [
    "#new_df = pd.merge(A_df, B_df,  how='left', left_on=['A_c1','c2'], right_on = ['B_c1','c2'])\n",
    "new_df=pd.merge(opt_flights,weather_key[['origin','month', 'wdir', 'temp',\n",
    "       'maxt', 'visibility', 'wspd', 'heatindex', 'cloudcover', 'mint',\n",
    "       'precip', 'snowdepth', 'sealevelpressure', 'dew', 'humidity', 'wgust',\n",
    "       'precipcover', 'windchill', 'closest_airport']],how='outer',on=['origin','month'])"
   ]
  },
  {
   "cell_type": "code",
   "execution_count": 33,
   "metadata": {},
   "outputs": [],
   "source": [
    "test_keys = aw_vars\n",
    "test_values = ori_vars\n",
    "test_values2=dest_vars\n",
    "res = dict(zip(test_keys, test_values)) \n",
    "res2=dict(zip(test_keys, test_values2)) "
   ]
  },
  {
   "cell_type": "code",
   "execution_count": 34,
   "metadata": {},
   "outputs": [
    {
     "data": {
      "text/plain": [
       "{'wdir': 'wdir_ori',\n",
       " 'period': 'period_ori',\n",
       " 'temp': 'temp_ori',\n",
       " 'maxt': 'maxt_ori',\n",
       " 'visibility': 'visibility_ori',\n",
       " 'wspd': 'wspd_ori',\n",
       " 'heatindex': 'heatindex_ori',\n",
       " 'cloudcover': 'cloudcover_ori',\n",
       " 'mint': 'mint_ori',\n",
       " 'precip': 'precip_ori',\n",
       " 'snowdepth': 'snowdepth_ori',\n",
       " 'sealevelpressure': 'sealevelpressure_ori',\n",
       " 'dew': 'dew_ori',\n",
       " 'humidity': 'humidity_ori',\n",
       " 'wgust': 'wgust_ori',\n",
       " 'precipcover': 'precipcover_ori',\n",
       " 'windchill': 'windchill_ori'}"
      ]
     },
     "execution_count": 34,
     "metadata": {},
     "output_type": "execute_result"
    }
   ],
   "source": [
    "res"
   ]
  },
  {
   "cell_type": "code",
   "execution_count": 35,
   "metadata": {},
   "outputs": [
    {
     "data": {
      "text/plain": [
       "{'wdir': 'wdir_dest',\n",
       " 'period': 'period_dest',\n",
       " 'temp': 'temp_dest',\n",
       " 'maxt': 'maxt_dest',\n",
       " 'visibility': 'visibility_dest',\n",
       " 'wspd': 'wspd_dest',\n",
       " 'heatindex': 'heatindex_dest',\n",
       " 'cloudcover': 'cloudcover_dest',\n",
       " 'mint': 'mint_dest',\n",
       " 'precip': 'precip_dest',\n",
       " 'snowdepth': 'snowdepth_dest',\n",
       " 'sealevelpressure': 'sealevelpressure_dest',\n",
       " 'dew': 'dew_dest',\n",
       " 'humidity': 'humidity_dest',\n",
       " 'wgust': 'wgust_dest',\n",
       " 'precipcover': 'precipcover_dest',\n",
       " 'windchill': 'windchill_dest'}"
      ]
     },
     "execution_count": 35,
     "metadata": {},
     "output_type": "execute_result"
    }
   ],
   "source": [
    "res2"
   ]
  },
  {
   "cell_type": "code",
   "execution_count": null,
   "metadata": {},
   "outputs": [],
   "source": []
  },
  {
   "cell_type": "code",
   "execution_count": 188,
   "metadata": {},
   "outputs": [],
   "source": [
    "new_df=new_df.rename(columns=res)"
   ]
  },
  {
   "cell_type": "code",
   "execution_count": 189,
   "metadata": {},
   "outputs": [
    {
     "data": {
      "text/plain": [
       "Index(['mkt_carrier_fl_num', 'op_unique_carrier', 'tail_num',\n",
       "       'op_carrier_fl_num', 'origin_airport_id', 'origin', 'dest_airport_id',\n",
       "       'dest', 'crs_dep_time', 'dep_time', 'dep_delay', 'taxi_out',\n",
       "       'wheels_off', 'wheels_on', 'taxi_in', 'crs_arr_time', 'arr_time',\n",
       "       'arr_delay', 'cancelled', 'cancellation_code', 'diverted',\n",
       "       'crs_elapsed_time', 'actual_elapsed_time', 'air_time', 'flights',\n",
       "       'distance', 'carrier_delay', 'weather_delay', 'nas_delay',\n",
       "       'security_delay', 'late_aircraft_delay', 'first_dep_time',\n",
       "       'total_add_gtime', 'longest_add_gtime', 'no_name', 'ori_latitude',\n",
       "       'ori_longitude', 'dest_latitude', 'dest_longitude', 'fl_date', 'month',\n",
       "       'wdir_ori', 'temp_ori', 'maxt_ori', 'visibility_ori', 'wspd_ori',\n",
       "       'heatindex_ori', 'cloudcover_ori', 'mint_ori', 'precip_ori',\n",
       "       'snowdepth_ori', 'sealevelpressure_ori', 'dew_ori', 'humidity_ori',\n",
       "       'wgust_ori', 'precipcover_ori', 'windchill_ori', 'closest_airport'],\n",
       "      dtype='object')"
      ]
     },
     "execution_count": 189,
     "metadata": {},
     "output_type": "execute_result"
    }
   ],
   "source": [
    "new_df.columns"
   ]
  },
  {
   "cell_type": "code",
   "execution_count": null,
   "metadata": {},
   "outputs": [],
   "source": [
    "new_df_two=pd.merge(new_df,weather_key[['origin','month', 'wdir', 'temp',\n",
    "       'maxt', 'visibility', 'wspd', 'heatindex', 'cloudcover', 'mint',\n",
    "       'precip', 'snowdepth', 'sealevelpressure', 'dew', 'humidity', 'wgust',\n",
    "       'precipcover', 'windchill', 'closest_airport']],how='outer',left_on=['dest','month'],right_on=['origin','month'])"
   ]
  },
  {
   "cell_type": "code",
   "execution_count": 191,
   "metadata": {},
   "outputs": [
    {
     "data": {
      "text/plain": [
       "Index(['mkt_carrier_fl_num', 'op_unique_carrier', 'tail_num',\n",
       "       'op_carrier_fl_num', 'origin_airport_id', 'origin_x', 'dest_airport_id',\n",
       "       'dest', 'crs_dep_time', 'dep_time', 'dep_delay', 'taxi_out',\n",
       "       'wheels_off', 'wheels_on', 'taxi_in', 'crs_arr_time', 'arr_time',\n",
       "       'arr_delay', 'cancelled', 'cancellation_code', 'diverted',\n",
       "       'crs_elapsed_time', 'actual_elapsed_time', 'air_time', 'flights',\n",
       "       'distance', 'carrier_delay', 'weather_delay', 'nas_delay',\n",
       "       'security_delay', 'late_aircraft_delay', 'first_dep_time',\n",
       "       'total_add_gtime', 'longest_add_gtime', 'no_name', 'ori_latitude',\n",
       "       'ori_longitude', 'dest_latitude', 'dest_longitude', 'fl_date', 'month',\n",
       "       'origin_y', 'wdir', 'temp', 'maxt', 'visibility', 'wspd', 'heatindex',\n",
       "       'cloudcover', 'mint', 'precip', 'snowdepth', 'sealevelpressure', 'dew',\n",
       "       'humidity', 'wgust', 'precipcover', 'windchill', 'closest_airport'],\n",
       "      dtype='object')"
      ]
     },
     "execution_count": 191,
     "metadata": {},
     "output_type": "execute_result"
    }
   ],
   "source": [
    "new_df_two.columns"
   ]
  }
 ],
 "metadata": {
  "kernelspec": {
   "display_name": "bootcamp_env",
   "language": "python",
   "name": "bootcamp_env"
  },
  "language_info": {
   "codemirror_mode": {
    "name": "ipython",
    "version": 3
   },
   "file_extension": ".py",
   "mimetype": "text/x-python",
   "name": "python",
   "nbconvert_exporter": "python",
   "pygments_lexer": "ipython3",
   "version": "3.7.6"
  }
 },
 "nbformat": 4,
 "nbformat_minor": 4
}
